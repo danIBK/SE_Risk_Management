{
 "cells": [
  {
   "cell_type": "markdown",
   "metadata": {
    "ExecuteTime": {
     "end_time": "2021-01-02T14:17:35.267928Z",
     "start_time": "2021-01-02T14:17:29.555093Z"
    }
   },
   "source": [
    "# Loading packages"
   ]
  },
  {
   "cell_type": "code",
   "execution_count": 150,
   "metadata": {
    "ExecuteTime": {
     "end_time": "2021-01-02T14:08:13.315362Z",
     "start_time": "2021-01-02T14:08:08.672780Z"
    }
   },
   "outputs": [],
   "source": [
    "#Comment out the other paths and comment in your path\n",
    "#path = r'C:\\Users\\heuse\\Desktop\\SE_Risk_Management-1/' #Daniel Path\n",
    "#path = '/Users/mandoholzknecht/SE_Risk_Management/' # Path Mando\n",
    "path = 'C:/Users/Fabio/OneDrive/Dokumente/Uni Innsbruck/WS20/Applied risk mgmt/SE/Heusli/SE_Risk_Management/' # Path Fabio\n",
    "\n",
    "import warnings\n",
    "warnings.filterwarnings('ignore')\n",
    "\n",
    "import pandas as pd\n",
    "import numpy as np\n",
    "import matplotlib.pyplot as plt\n",
    "\n",
    "\n",
    "import seaborn as sns\n",
    "import statsmodels.api as sm\n",
    "import statsmodels.formula.api as smf\n",
    "import statsmodels.stats.anova as anova\n",
    "import scipy as sci\n",
    "\n",
    "from sklearn import metrics\n",
    "\n",
    "from sklearn.model_selection import train_test_split, RepeatedStratifiedKFold, cross_val_score\n",
    "from sklearn.linear_model import LogisticRegression\n",
    "from sklearn.metrics import roc_curve, roc_auc_score, confusion_matrix, precision_recall_curve, auc\n",
    "from sklearn.feature_selection import f_classif\n",
    "from sklearn.pipeline import Pipeline\n",
    "from sklearn.base import BaseEstimator, TransformerMixin\n",
    "from scipy.stats import chi2_contingency\n",
    "from sklearn.linear_model import LinearRegression\n",
    "from sklearn.metrics import mean_squared_error\n",
    "\n",
    "import datetime\n"
   ]
  },
  {
   "cell_type": "markdown",
   "metadata": {},
   "source": [
    "# Loading the data\n",
    "\n",
    "Loading the Training dataset + Test dataset"
   ]
  },
  {
   "cell_type": "code",
   "execution_count": 151,
   "metadata": {
    "ExecuteTime": {
     "end_time": "2021-01-02T14:08:13.385636Z",
     "start_time": "2021-01-02T14:08:13.350589Z"
    }
   },
   "outputs": [
    {
     "data": {
      "text/html": [
       "<div>\n",
       "<style scoped>\n",
       "    .dataframe tbody tr th:only-of-type {\n",
       "        vertical-align: middle;\n",
       "    }\n",
       "\n",
       "    .dataframe tbody tr th {\n",
       "        vertical-align: top;\n",
       "    }\n",
       "\n",
       "    .dataframe thead th {\n",
       "        text-align: right;\n",
       "    }\n",
       "</style>\n",
       "<table border=\"1\" class=\"dataframe\">\n",
       "  <thead>\n",
       "    <tr style=\"text-align: right;\">\n",
       "      <th></th>\n",
       "      <th>id</th>\n",
       "      <th>default</th>\n",
       "      <th>legal_form</th>\n",
       "      <th>zip_code</th>\n",
       "      <th>sector</th>\n",
       "      <th>year_inc</th>\n",
       "      <th>count_emp</th>\n",
       "      <th>type_pl</th>\n",
       "      <th>sales</th>\n",
       "      <th>gross_performance</th>\n",
       "      <th>...</th>\n",
       "      <th>bonds_payables_lt</th>\n",
       "      <th>total_equity</th>\n",
       "      <th>current_assets</th>\n",
       "      <th>monetary_current_assets</th>\n",
       "      <th>cash</th>\n",
       "      <th>trade_receivables_st</th>\n",
       "      <th>trade_receivables_lt</th>\n",
       "      <th>cf_operating</th>\n",
       "      <th>cf_investment</th>\n",
       "      <th>cf_financing</th>\n",
       "    </tr>\n",
       "  </thead>\n",
       "  <tbody>\n",
       "    <tr>\n",
       "      <th>0</th>\n",
       "      <td>C_405</td>\n",
       "      <td>0</td>\n",
       "      <td>GmbH &amp; Co. KG</td>\n",
       "      <td>12359</td>\n",
       "      <td>46730</td>\n",
       "      <td>1900</td>\n",
       "      <td>NaN</td>\n",
       "      <td>GKV</td>\n",
       "      <td>1.068738e+08</td>\n",
       "      <td>1.068738e+08</td>\n",
       "      <td>...</td>\n",
       "      <td>NaN</td>\n",
       "      <td>3.224471e+07</td>\n",
       "      <td>3.783199e+07</td>\n",
       "      <td>1.711147e+07</td>\n",
       "      <td>10297047.50</td>\n",
       "      <td>NaN</td>\n",
       "      <td>NaN</td>\n",
       "      <td>6.986094e+06</td>\n",
       "      <td>-1.112342e+06</td>\n",
       "      <td>-7520392.09</td>\n",
       "    </tr>\n",
       "    <tr>\n",
       "      <th>1</th>\n",
       "      <td>C_292</td>\n",
       "      <td>0</td>\n",
       "      <td>GmbH &amp; Co. KG</td>\n",
       "      <td>10719</td>\n",
       "      <td>70101</td>\n",
       "      <td>1976</td>\n",
       "      <td>NaN</td>\n",
       "      <td>GKV</td>\n",
       "      <td>1.393869e+06</td>\n",
       "      <td>1.407889e+06</td>\n",
       "      <td>...</td>\n",
       "      <td>NaN</td>\n",
       "      <td>4.508026e+06</td>\n",
       "      <td>4.669179e+06</td>\n",
       "      <td>9.278377e+05</td>\n",
       "      <td>926383.75</td>\n",
       "      <td>NaN</td>\n",
       "      <td>NaN</td>\n",
       "      <td>-4.343980e+06</td>\n",
       "      <td>1.174427e+06</td>\n",
       "      <td>1128108.08</td>\n",
       "    </tr>\n",
       "    <tr>\n",
       "      <th>2</th>\n",
       "      <td>C_746</td>\n",
       "      <td>0</td>\n",
       "      <td>GmbH</td>\n",
       "      <td>13353</td>\n",
       "      <td>87100</td>\n",
       "      <td>1962</td>\n",
       "      <td>323.0</td>\n",
       "      <td>GKV</td>\n",
       "      <td>3.864034e+06</td>\n",
       "      <td>7.597353e+05</td>\n",
       "      <td>...</td>\n",
       "      <td>NaN</td>\n",
       "      <td>5.164048e+04</td>\n",
       "      <td>2.810119e+07</td>\n",
       "      <td>1.111696e+07</td>\n",
       "      <td>9146283.79</td>\n",
       "      <td>617816.28</td>\n",
       "      <td>NaN</td>\n",
       "      <td>9.548544e+06</td>\n",
       "      <td>-7.536444e+06</td>\n",
       "      <td>-22026.07</td>\n",
       "    </tr>\n",
       "    <tr>\n",
       "      <th>3</th>\n",
       "      <td>C_838</td>\n",
       "      <td>0</td>\n",
       "      <td>AG</td>\n",
       "      <td>12529</td>\n",
       "      <td>68320</td>\n",
       "      <td>1972</td>\n",
       "      <td>1.0</td>\n",
       "      <td>GKV</td>\n",
       "      <td>4.384786e+06</td>\n",
       "      <td>4.405058e+06</td>\n",
       "      <td>...</td>\n",
       "      <td>NaN</td>\n",
       "      <td>1.182011e+07</td>\n",
       "      <td>8.238474e+06</td>\n",
       "      <td>7.519183e+06</td>\n",
       "      <td>6890565.23</td>\n",
       "      <td>319848.26</td>\n",
       "      <td>NaN</td>\n",
       "      <td>1.715799e+06</td>\n",
       "      <td>-6.561222e+05</td>\n",
       "      <td>-169655.66</td>\n",
       "    </tr>\n",
       "    <tr>\n",
       "      <th>4</th>\n",
       "      <td>C_495</td>\n",
       "      <td>0</td>\n",
       "      <td>Einzelfirma</td>\n",
       "      <td>12165</td>\n",
       "      <td>47730</td>\n",
       "      <td>1908</td>\n",
       "      <td>NaN</td>\n",
       "      <td>GKV</td>\n",
       "      <td>1.104478e+08</td>\n",
       "      <td>1.104478e+08</td>\n",
       "      <td>...</td>\n",
       "      <td>NaN</td>\n",
       "      <td>4.547445e+08</td>\n",
       "      <td>3.546565e+07</td>\n",
       "      <td>8.545184e+06</td>\n",
       "      <td>5036615.09</td>\n",
       "      <td>516646.73</td>\n",
       "      <td>NaN</td>\n",
       "      <td>1.301809e+08</td>\n",
       "      <td>-1.419776e+08</td>\n",
       "      <td>12567030.80</td>\n",
       "    </tr>\n",
       "    <tr>\n",
       "      <th>5</th>\n",
       "      <td>C_494</td>\n",
       "      <td>0</td>\n",
       "      <td>GmbH</td>\n",
       "      <td>13055</td>\n",
       "      <td>68201</td>\n",
       "      <td>1990</td>\n",
       "      <td>415.0</td>\n",
       "      <td>GKV</td>\n",
       "      <td>4.518042e+04</td>\n",
       "      <td>4.518042e+04</td>\n",
       "      <td>...</td>\n",
       "      <td>NaN</td>\n",
       "      <td>7.953387e+04</td>\n",
       "      <td>8.484770e+04</td>\n",
       "      <td>8.061511e+04</td>\n",
       "      <td>75679.79</td>\n",
       "      <td>NaN</td>\n",
       "      <td>NaN</td>\n",
       "      <td>1.800497e+04</td>\n",
       "      <td>-3.787100e+02</td>\n",
       "      <td>0.00</td>\n",
       "    </tr>\n",
       "    <tr>\n",
       "      <th>6</th>\n",
       "      <td>C_300</td>\n",
       "      <td>0</td>\n",
       "      <td>GmbH</td>\n",
       "      <td>10969</td>\n",
       "      <td>68200</td>\n",
       "      <td>1991</td>\n",
       "      <td>2.0</td>\n",
       "      <td>GKV</td>\n",
       "      <td>1.508435e+08</td>\n",
       "      <td>1.479894e+08</td>\n",
       "      <td>...</td>\n",
       "      <td>NaN</td>\n",
       "      <td>6.657375e+08</td>\n",
       "      <td>8.479909e+07</td>\n",
       "      <td>3.142807e+07</td>\n",
       "      <td>11542490.91</td>\n",
       "      <td>326731.07</td>\n",
       "      <td>8000.0</td>\n",
       "      <td>4.007555e+07</td>\n",
       "      <td>-8.337054e+06</td>\n",
       "      <td>-34594274.52</td>\n",
       "    </tr>\n",
       "    <tr>\n",
       "      <th>7</th>\n",
       "      <td>C_453</td>\n",
       "      <td>0</td>\n",
       "      <td>GmbH</td>\n",
       "      <td>16792</td>\n",
       "      <td>78100</td>\n",
       "      <td>1991</td>\n",
       "      <td>NaN</td>\n",
       "      <td>GKV</td>\n",
       "      <td>2.843420e+08</td>\n",
       "      <td>2.843420e+08</td>\n",
       "      <td>...</td>\n",
       "      <td>NaN</td>\n",
       "      <td>2.883814e+09</td>\n",
       "      <td>4.229090e+08</td>\n",
       "      <td>4.312550e+08</td>\n",
       "      <td>21696000.00</td>\n",
       "      <td>448000.00</td>\n",
       "      <td>NaN</td>\n",
       "      <td>5.861770e+08</td>\n",
       "      <td>-7.339750e+08</td>\n",
       "      <td>-95826000.00</td>\n",
       "    </tr>\n",
       "    <tr>\n",
       "      <th>8</th>\n",
       "      <td>C_924</td>\n",
       "      <td>0</td>\n",
       "      <td>GmbH</td>\n",
       "      <td>13125</td>\n",
       "      <td>86101</td>\n",
       "      <td>1991</td>\n",
       "      <td>283.0</td>\n",
       "      <td>GKV</td>\n",
       "      <td>9.811591e+06</td>\n",
       "      <td>9.681040e+06</td>\n",
       "      <td>...</td>\n",
       "      <td>NaN</td>\n",
       "      <td>2.032968e+07</td>\n",
       "      <td>7.366730e+06</td>\n",
       "      <td>5.421665e+06</td>\n",
       "      <td>322573.88</td>\n",
       "      <td>372298.68</td>\n",
       "      <td>NaN</td>\n",
       "      <td>4.369386e+05</td>\n",
       "      <td>-1.879056e+06</td>\n",
       "      <td>-13729379.17</td>\n",
       "    </tr>\n",
       "    <tr>\n",
       "      <th>9</th>\n",
       "      <td>C_976</td>\n",
       "      <td>0</td>\n",
       "      <td>GmbH</td>\n",
       "      <td>12681</td>\n",
       "      <td>71122</td>\n",
       "      <td>1999</td>\n",
       "      <td>NaN</td>\n",
       "      <td>GKV</td>\n",
       "      <td>1.384595e+05</td>\n",
       "      <td>1.384595e+05</td>\n",
       "      <td>...</td>\n",
       "      <td>NaN</td>\n",
       "      <td>1.552805e+06</td>\n",
       "      <td>4.966969e+05</td>\n",
       "      <td>4.500943e+04</td>\n",
       "      <td>35726.57</td>\n",
       "      <td>NaN</td>\n",
       "      <td>NaN</td>\n",
       "      <td>1.947540e+05</td>\n",
       "      <td>3.318306e+05</td>\n",
       "      <td>-798859.83</td>\n",
       "    </tr>\n",
       "  </tbody>\n",
       "</table>\n",
       "<p>10 rows × 40 columns</p>\n",
       "</div>"
      ],
      "text/plain": [
       "      id  default     legal_form  zip_code  sector  year_inc  count_emp  \\\n",
       "0  C_405        0  GmbH & Co. KG     12359   46730      1900        NaN   \n",
       "1  C_292        0  GmbH & Co. KG     10719   70101      1976        NaN   \n",
       "2  C_746        0           GmbH     13353   87100      1962      323.0   \n",
       "3  C_838        0             AG     12529   68320      1972        1.0   \n",
       "4  C_495        0    Einzelfirma     12165   47730      1908        NaN   \n",
       "5  C_494        0           GmbH     13055   68201      1990      415.0   \n",
       "6  C_300        0           GmbH     10969   68200      1991        2.0   \n",
       "7  C_453        0           GmbH     16792   78100      1991        NaN   \n",
       "8  C_924        0           GmbH     13125   86101      1991      283.0   \n",
       "9  C_976        0           GmbH     12681   71122      1999        NaN   \n",
       "\n",
       "  type_pl         sales  gross_performance  ...  bonds_payables_lt  \\\n",
       "0     GKV  1.068738e+08       1.068738e+08  ...                NaN   \n",
       "1     GKV  1.393869e+06       1.407889e+06  ...                NaN   \n",
       "2     GKV  3.864034e+06       7.597353e+05  ...                NaN   \n",
       "3     GKV  4.384786e+06       4.405058e+06  ...                NaN   \n",
       "4     GKV  1.104478e+08       1.104478e+08  ...                NaN   \n",
       "5     GKV  4.518042e+04       4.518042e+04  ...                NaN   \n",
       "6     GKV  1.508435e+08       1.479894e+08  ...                NaN   \n",
       "7     GKV  2.843420e+08       2.843420e+08  ...                NaN   \n",
       "8     GKV  9.811591e+06       9.681040e+06  ...                NaN   \n",
       "9     GKV  1.384595e+05       1.384595e+05  ...                NaN   \n",
       "\n",
       "   total_equity  current_assets  monetary_current_assets         cash  \\\n",
       "0  3.224471e+07    3.783199e+07             1.711147e+07  10297047.50   \n",
       "1  4.508026e+06    4.669179e+06             9.278377e+05    926383.75   \n",
       "2  5.164048e+04    2.810119e+07             1.111696e+07   9146283.79   \n",
       "3  1.182011e+07    8.238474e+06             7.519183e+06   6890565.23   \n",
       "4  4.547445e+08    3.546565e+07             8.545184e+06   5036615.09   \n",
       "5  7.953387e+04    8.484770e+04             8.061511e+04     75679.79   \n",
       "6  6.657375e+08    8.479909e+07             3.142807e+07  11542490.91   \n",
       "7  2.883814e+09    4.229090e+08             4.312550e+08  21696000.00   \n",
       "8  2.032968e+07    7.366730e+06             5.421665e+06    322573.88   \n",
       "9  1.552805e+06    4.966969e+05             4.500943e+04     35726.57   \n",
       "\n",
       "   trade_receivables_st  trade_receivables_lt  cf_operating  cf_investment  \\\n",
       "0                   NaN                   NaN  6.986094e+06  -1.112342e+06   \n",
       "1                   NaN                   NaN -4.343980e+06   1.174427e+06   \n",
       "2             617816.28                   NaN  9.548544e+06  -7.536444e+06   \n",
       "3             319848.26                   NaN  1.715799e+06  -6.561222e+05   \n",
       "4             516646.73                   NaN  1.301809e+08  -1.419776e+08   \n",
       "5                   NaN                   NaN  1.800497e+04  -3.787100e+02   \n",
       "6             326731.07                8000.0  4.007555e+07  -8.337054e+06   \n",
       "7             448000.00                   NaN  5.861770e+08  -7.339750e+08   \n",
       "8             372298.68                   NaN  4.369386e+05  -1.879056e+06   \n",
       "9                   NaN                   NaN  1.947540e+05   3.318306e+05   \n",
       "\n",
       "   cf_financing  \n",
       "0   -7520392.09  \n",
       "1    1128108.08  \n",
       "2     -22026.07  \n",
       "3    -169655.66  \n",
       "4   12567030.80  \n",
       "5          0.00  \n",
       "6  -34594274.52  \n",
       "7  -95826000.00  \n",
       "8  -13729379.17  \n",
       "9    -798859.83  \n",
       "\n",
       "[10 rows x 40 columns]"
      ]
     },
     "execution_count": 151,
     "metadata": {},
     "output_type": "execute_result"
    }
   ],
   "source": [
    "# use the realtive path finding\n",
    "df_train = pd.read_csv(path + 'Training_Dataset.csv', sep=';', index_col=None)\n",
    "df_test = pd.read_csv(path + 'Test_Dataset.csv', sep=';', index_col=0)\n",
    "\n",
    "df_train.head(10)"
   ]
  },
  {
   "cell_type": "markdown",
   "metadata": {},
   "source": [
    "# Variables\n",
    "\n",
    "## Renaming of some colums\n",
    "We decided to not rename any varialbes\n",
    "\n",
    "## Further variable coding\n",
    "Transforming variables"
   ]
  },
  {
   "cell_type": "markdown",
   "metadata": {},
   "source": [
    "### Transforming year_inc to age columns\n",
    "Transforming the year of incorporation variable to two age variables: one numerical (age_num) one and one categorical one (age_cat). "
   ]
  },
  {
   "cell_type": "code",
   "execution_count": 152,
   "metadata": {
    "ExecuteTime": {
     "end_time": "2021-01-02T14:08:14.853452Z",
     "start_time": "2021-01-02T14:08:14.765390Z"
    }
   },
   "outputs": [
    {
     "data": {
      "text/html": [
       "<div>\n",
       "<style scoped>\n",
       "    .dataframe tbody tr th:only-of-type {\n",
       "        vertical-align: middle;\n",
       "    }\n",
       "\n",
       "    .dataframe tbody tr th {\n",
       "        vertical-align: top;\n",
       "    }\n",
       "\n",
       "    .dataframe thead th {\n",
       "        text-align: right;\n",
       "    }\n",
       "</style>\n",
       "<table border=\"1\" class=\"dataframe\">\n",
       "  <thead>\n",
       "    <tr style=\"text-align: right;\">\n",
       "      <th></th>\n",
       "      <th>id</th>\n",
       "      <th>default</th>\n",
       "      <th>legal_form</th>\n",
       "      <th>zip_code</th>\n",
       "      <th>sector</th>\n",
       "      <th>year_inc</th>\n",
       "      <th>count_emp</th>\n",
       "      <th>type_pl</th>\n",
       "      <th>sales</th>\n",
       "      <th>gross_performance</th>\n",
       "      <th>...</th>\n",
       "      <th>total_equity</th>\n",
       "      <th>current_assets</th>\n",
       "      <th>monetary_current_assets</th>\n",
       "      <th>cash</th>\n",
       "      <th>trade_receivables_st</th>\n",
       "      <th>trade_receivables_lt</th>\n",
       "      <th>cf_operating</th>\n",
       "      <th>cf_investment</th>\n",
       "      <th>cf_financing</th>\n",
       "      <th>age_num</th>\n",
       "    </tr>\n",
       "  </thead>\n",
       "  <tbody>\n",
       "    <tr>\n",
       "      <th>572</th>\n",
       "      <td>C_482</td>\n",
       "      <td>0</td>\n",
       "      <td>Freiberufler</td>\n",
       "      <td>61169</td>\n",
       "      <td>49310</td>\n",
       "      <td>0</td>\n",
       "      <td>NaN</td>\n",
       "      <td>GKV</td>\n",
       "      <td>635769.95</td>\n",
       "      <td>635769.95</td>\n",
       "      <td>...</td>\n",
       "      <td>37125.13</td>\n",
       "      <td>299815.83</td>\n",
       "      <td>268452.30</td>\n",
       "      <td>49009.81</td>\n",
       "      <td>NaN</td>\n",
       "      <td>NaN</td>\n",
       "      <td>-212829.13</td>\n",
       "      <td>-1.750000e-10</td>\n",
       "      <td>9.460000e-11</td>\n",
       "      <td>2021</td>\n",
       "    </tr>\n",
       "    <tr>\n",
       "      <th>477</th>\n",
       "      <td>C_597</td>\n",
       "      <td>1</td>\n",
       "      <td>Freiberufler</td>\n",
       "      <td>32457</td>\n",
       "      <td>71113</td>\n",
       "      <td>0</td>\n",
       "      <td>NaN</td>\n",
       "      <td>GKV</td>\n",
       "      <td>241456.04</td>\n",
       "      <td>216900.58</td>\n",
       "      <td>...</td>\n",
       "      <td>514698.88</td>\n",
       "      <td>639035.00</td>\n",
       "      <td>639951.26</td>\n",
       "      <td>7466.24</td>\n",
       "      <td>24518.87</td>\n",
       "      <td>NaN</td>\n",
       "      <td>14391.18</td>\n",
       "      <td>-7.090000e-11</td>\n",
       "      <td>1.204280e+03</td>\n",
       "      <td>2021</td>\n",
       "    </tr>\n",
       "    <tr>\n",
       "      <th>272</th>\n",
       "      <td>C_543</td>\n",
       "      <td>0</td>\n",
       "      <td>AG</td>\n",
       "      <td>86150</td>\n",
       "      <td>68101</td>\n",
       "      <td>1464</td>\n",
       "      <td>NaN</td>\n",
       "      <td>GKV</td>\n",
       "      <td>73165008.12</td>\n",
       "      <td>73165008.12</td>\n",
       "      <td>...</td>\n",
       "      <td>7797900.20</td>\n",
       "      <td>29653971.68</td>\n",
       "      <td>11687193.17</td>\n",
       "      <td>3444440.58</td>\n",
       "      <td>4254958.92</td>\n",
       "      <td>NaN</td>\n",
       "      <td>12170860.85</td>\n",
       "      <td>-6.620784e+05</td>\n",
       "      <td>-2.560090e+05</td>\n",
       "      <td>557</td>\n",
       "    </tr>\n",
       "    <tr>\n",
       "      <th>249</th>\n",
       "      <td>C_105</td>\n",
       "      <td>0</td>\n",
       "      <td>AG</td>\n",
       "      <td>76185</td>\n",
       "      <td>70101</td>\n",
       "      <td>1856</td>\n",
       "      <td>NaN</td>\n",
       "      <td>GKV</td>\n",
       "      <td>53372139.09</td>\n",
       "      <td>53110170.33</td>\n",
       "      <td>...</td>\n",
       "      <td>7522638.74</td>\n",
       "      <td>31608245.57</td>\n",
       "      <td>26918553.04</td>\n",
       "      <td>19531832.78</td>\n",
       "      <td>6509382.04</td>\n",
       "      <td>NaN</td>\n",
       "      <td>-10483605.89</td>\n",
       "      <td>-1.015179e+07</td>\n",
       "      <td>3.198861e+07</td>\n",
       "      <td>165</td>\n",
       "    </tr>\n",
       "    <tr>\n",
       "      <th>531</th>\n",
       "      <td>C_711</td>\n",
       "      <td>0</td>\n",
       "      <td>GmbH &amp; Co. KG</td>\n",
       "      <td>42651</td>\n",
       "      <td>32501</td>\n",
       "      <td>1857</td>\n",
       "      <td>63.0</td>\n",
       "      <td>GKV</td>\n",
       "      <td>2713538.03</td>\n",
       "      <td>2713538.03</td>\n",
       "      <td>...</td>\n",
       "      <td>330130.46</td>\n",
       "      <td>625173.80</td>\n",
       "      <td>462636.78</td>\n",
       "      <td>66853.99</td>\n",
       "      <td>281981.84</td>\n",
       "      <td>NaN</td>\n",
       "      <td>133580.07</td>\n",
       "      <td>-5.635444e+04</td>\n",
       "      <td>3.780000e-10</td>\n",
       "      <td>164</td>\n",
       "    </tr>\n",
       "  </tbody>\n",
       "</table>\n",
       "<p>5 rows × 41 columns</p>\n",
       "</div>"
      ],
      "text/plain": [
       "        id  default     legal_form  zip_code  sector  year_inc  count_emp  \\\n",
       "572  C_482        0   Freiberufler     61169   49310         0        NaN   \n",
       "477  C_597        1   Freiberufler     32457   71113         0        NaN   \n",
       "272  C_543        0             AG     86150   68101      1464        NaN   \n",
       "249  C_105        0             AG     76185   70101      1856        NaN   \n",
       "531  C_711        0  GmbH & Co. KG     42651   32501      1857       63.0   \n",
       "\n",
       "    type_pl        sales  gross_performance  ...  total_equity  \\\n",
       "572     GKV    635769.95          635769.95  ...      37125.13   \n",
       "477     GKV    241456.04          216900.58  ...     514698.88   \n",
       "272     GKV  73165008.12        73165008.12  ...    7797900.20   \n",
       "249     GKV  53372139.09        53110170.33  ...    7522638.74   \n",
       "531     GKV   2713538.03         2713538.03  ...     330130.46   \n",
       "\n",
       "     current_assets  monetary_current_assets         cash  \\\n",
       "572       299815.83                268452.30     49009.81   \n",
       "477       639035.00                639951.26      7466.24   \n",
       "272     29653971.68              11687193.17   3444440.58   \n",
       "249     31608245.57              26918553.04  19531832.78   \n",
       "531       625173.80                462636.78     66853.99   \n",
       "\n",
       "     trade_receivables_st  trade_receivables_lt  cf_operating  cf_investment  \\\n",
       "572                   NaN                   NaN    -212829.13  -1.750000e-10   \n",
       "477              24518.87                   NaN      14391.18  -7.090000e-11   \n",
       "272            4254958.92                   NaN   12170860.85  -6.620784e+05   \n",
       "249            6509382.04                   NaN  -10483605.89  -1.015179e+07   \n",
       "531             281981.84                   NaN     133580.07  -5.635444e+04   \n",
       "\n",
       "     cf_financing  age_num  \n",
       "572  9.460000e-11     2021  \n",
       "477  1.204280e+03     2021  \n",
       "272 -2.560090e+05      557  \n",
       "249  3.198861e+07      165  \n",
       "531  3.780000e-10      164  \n",
       "\n",
       "[5 rows x 41 columns]"
      ]
     },
     "execution_count": 152,
     "metadata": {},
     "output_type": "execute_result"
    }
   ],
   "source": [
    "df_train['age_num'] = datetime.datetime.now().year - df_train[\"year_inc\"]\n",
    "df_train.sort_values(by=\"age_num\",ascending=False).head(5)"
   ]
  },
  {
   "cell_type": "markdown",
   "metadata": {},
   "source": [
    "As we have some firms which are pretty old (some > 100 years) and two outliers (2020s) we can set their value to the e.g.: 95% quantile as this shouldn't change the meaning of the age variable that much. They are long on the market and it does not really matter if they are long on the market (e.g.: 100 years) or very very long in the business (eg: above 500 years). "
   ]
  },
  {
   "cell_type": "code",
   "execution_count": 153,
   "metadata": {
    "ExecuteTime": {
     "end_time": "2021-01-02T14:08:15.691146Z",
     "start_time": "2021-01-02T14:08:15.460708Z"
    }
   },
   "outputs": [
    {
     "data": {
      "text/html": [
       "<div>\n",
       "<style scoped>\n",
       "    .dataframe tbody tr th:only-of-type {\n",
       "        vertical-align: middle;\n",
       "    }\n",
       "\n",
       "    .dataframe tbody tr th {\n",
       "        vertical-align: top;\n",
       "    }\n",
       "\n",
       "    .dataframe thead th {\n",
       "        text-align: right;\n",
       "    }\n",
       "</style>\n",
       "<table border=\"1\" class=\"dataframe\">\n",
       "  <thead>\n",
       "    <tr style=\"text-align: right;\">\n",
       "      <th></th>\n",
       "      <th>id</th>\n",
       "      <th>default</th>\n",
       "      <th>legal_form</th>\n",
       "      <th>zip_code</th>\n",
       "      <th>sector</th>\n",
       "      <th>year_inc</th>\n",
       "      <th>count_emp</th>\n",
       "      <th>type_pl</th>\n",
       "      <th>sales</th>\n",
       "      <th>gross_performance</th>\n",
       "      <th>...</th>\n",
       "      <th>total_equity</th>\n",
       "      <th>current_assets</th>\n",
       "      <th>monetary_current_assets</th>\n",
       "      <th>cash</th>\n",
       "      <th>trade_receivables_st</th>\n",
       "      <th>trade_receivables_lt</th>\n",
       "      <th>cf_operating</th>\n",
       "      <th>cf_investment</th>\n",
       "      <th>cf_financing</th>\n",
       "      <th>age_num</th>\n",
       "    </tr>\n",
       "  </thead>\n",
       "  <tbody>\n",
       "    <tr>\n",
       "      <th>272</th>\n",
       "      <td>C_543</td>\n",
       "      <td>0</td>\n",
       "      <td>AG</td>\n",
       "      <td>86150</td>\n",
       "      <td>68101</td>\n",
       "      <td>1464</td>\n",
       "      <td>NaN</td>\n",
       "      <td>GKV</td>\n",
       "      <td>7.316501e+07</td>\n",
       "      <td>7.316501e+07</td>\n",
       "      <td>...</td>\n",
       "      <td>7.797900e+06</td>\n",
       "      <td>29653971.68</td>\n",
       "      <td>11687193.17</td>\n",
       "      <td>3444440.58</td>\n",
       "      <td>4254958.92</td>\n",
       "      <td>NaN</td>\n",
       "      <td>12170860.85</td>\n",
       "      <td>-6.620784e+05</td>\n",
       "      <td>-2.560090e+05</td>\n",
       "      <td>158.32</td>\n",
       "    </tr>\n",
       "    <tr>\n",
       "      <th>249</th>\n",
       "      <td>C_105</td>\n",
       "      <td>0</td>\n",
       "      <td>AG</td>\n",
       "      <td>76185</td>\n",
       "      <td>70101</td>\n",
       "      <td>1856</td>\n",
       "      <td>NaN</td>\n",
       "      <td>GKV</td>\n",
       "      <td>5.337214e+07</td>\n",
       "      <td>5.311017e+07</td>\n",
       "      <td>...</td>\n",
       "      <td>7.522639e+06</td>\n",
       "      <td>31608245.57</td>\n",
       "      <td>26918553.04</td>\n",
       "      <td>19531832.78</td>\n",
       "      <td>6509382.04</td>\n",
       "      <td>NaN</td>\n",
       "      <td>-10483605.89</td>\n",
       "      <td>-1.015179e+07</td>\n",
       "      <td>3.198861e+07</td>\n",
       "      <td>158.32</td>\n",
       "    </tr>\n",
       "    <tr>\n",
       "      <th>371</th>\n",
       "      <td>C_361</td>\n",
       "      <td>0</td>\n",
       "      <td>GmbH</td>\n",
       "      <td>21335</td>\n",
       "      <td>20520</td>\n",
       "      <td>1858</td>\n",
       "      <td>185.0</td>\n",
       "      <td>GKV</td>\n",
       "      <td>1.979305e+08</td>\n",
       "      <td>1.972723e+08</td>\n",
       "      <td>...</td>\n",
       "      <td>2.445527e+06</td>\n",
       "      <td>32809291.04</td>\n",
       "      <td>24618777.77</td>\n",
       "      <td>1012.13</td>\n",
       "      <td>24452421.93</td>\n",
       "      <td>NaN</td>\n",
       "      <td>11658956.29</td>\n",
       "      <td>-1.072492e+06</td>\n",
       "      <td>-1.088165e+07</td>\n",
       "      <td>158.32</td>\n",
       "    </tr>\n",
       "    <tr>\n",
       "      <th>572</th>\n",
       "      <td>C_482</td>\n",
       "      <td>0</td>\n",
       "      <td>Freiberufler</td>\n",
       "      <td>61169</td>\n",
       "      <td>49310</td>\n",
       "      <td>0</td>\n",
       "      <td>NaN</td>\n",
       "      <td>GKV</td>\n",
       "      <td>6.357699e+05</td>\n",
       "      <td>6.357699e+05</td>\n",
       "      <td>...</td>\n",
       "      <td>3.712513e+04</td>\n",
       "      <td>299815.83</td>\n",
       "      <td>268452.30</td>\n",
       "      <td>49009.81</td>\n",
       "      <td>NaN</td>\n",
       "      <td>NaN</td>\n",
       "      <td>-212829.13</td>\n",
       "      <td>-1.750000e-10</td>\n",
       "      <td>9.460000e-11</td>\n",
       "      <td>158.32</td>\n",
       "    </tr>\n",
       "    <tr>\n",
       "      <th>477</th>\n",
       "      <td>C_597</td>\n",
       "      <td>1</td>\n",
       "      <td>Freiberufler</td>\n",
       "      <td>32457</td>\n",
       "      <td>71113</td>\n",
       "      <td>0</td>\n",
       "      <td>NaN</td>\n",
       "      <td>GKV</td>\n",
       "      <td>2.414560e+05</td>\n",
       "      <td>2.169006e+05</td>\n",
       "      <td>...</td>\n",
       "      <td>5.146989e+05</td>\n",
       "      <td>639035.00</td>\n",
       "      <td>639951.26</td>\n",
       "      <td>7466.24</td>\n",
       "      <td>24518.87</td>\n",
       "      <td>NaN</td>\n",
       "      <td>14391.18</td>\n",
       "      <td>-7.090000e-11</td>\n",
       "      <td>1.204280e+03</td>\n",
       "      <td>158.32</td>\n",
       "    </tr>\n",
       "    <tr>\n",
       "      <th>283</th>\n",
       "      <td>C_519</td>\n",
       "      <td>0</td>\n",
       "      <td>GmbH</td>\n",
       "      <td>80807</td>\n",
       "      <td>18120</td>\n",
       "      <td>1862</td>\n",
       "      <td>NaN</td>\n",
       "      <td>GKV</td>\n",
       "      <td>1.560010e+06</td>\n",
       "      <td>4.462166e+06</td>\n",
       "      <td>...</td>\n",
       "      <td>3.912989e+05</td>\n",
       "      <td>1780853.40</td>\n",
       "      <td>507526.40</td>\n",
       "      <td>13989.13</td>\n",
       "      <td>NaN</td>\n",
       "      <td>NaN</td>\n",
       "      <td>-115009.30</td>\n",
       "      <td>-6.533309e+04</td>\n",
       "      <td>2.707314e+05</td>\n",
       "      <td>158.32</td>\n",
       "    </tr>\n",
       "    <tr>\n",
       "      <th>531</th>\n",
       "      <td>C_711</td>\n",
       "      <td>0</td>\n",
       "      <td>GmbH &amp; Co. KG</td>\n",
       "      <td>42651</td>\n",
       "      <td>32501</td>\n",
       "      <td>1857</td>\n",
       "      <td>63.0</td>\n",
       "      <td>GKV</td>\n",
       "      <td>2.713538e+06</td>\n",
       "      <td>2.713538e+06</td>\n",
       "      <td>...</td>\n",
       "      <td>3.301305e+05</td>\n",
       "      <td>625173.80</td>\n",
       "      <td>462636.78</td>\n",
       "      <td>66853.99</td>\n",
       "      <td>281981.84</td>\n",
       "      <td>NaN</td>\n",
       "      <td>133580.07</td>\n",
       "      <td>-5.635444e+04</td>\n",
       "      <td>3.780000e-10</td>\n",
       "      <td>158.32</td>\n",
       "    </tr>\n",
       "    <tr>\n",
       "      <th>454</th>\n",
       "      <td>C_259</td>\n",
       "      <td>0</td>\n",
       "      <td>Freiberufler</td>\n",
       "      <td>44141</td>\n",
       "      <td>94110</td>\n",
       "      <td>1863</td>\n",
       "      <td>140.0</td>\n",
       "      <td>GKV</td>\n",
       "      <td>3.584665e+05</td>\n",
       "      <td>3.584665e+05</td>\n",
       "      <td>...</td>\n",
       "      <td>1.871424e+05</td>\n",
       "      <td>70476.90</td>\n",
       "      <td>61735.26</td>\n",
       "      <td>41618.21</td>\n",
       "      <td>NaN</td>\n",
       "      <td>NaN</td>\n",
       "      <td>22009.92</td>\n",
       "      <td>-1.400000e+05</td>\n",
       "      <td>1.307238e+05</td>\n",
       "      <td>158.00</td>\n",
       "    </tr>\n",
       "    <tr>\n",
       "      <th>165</th>\n",
       "      <td>C_347</td>\n",
       "      <td>0</td>\n",
       "      <td>GmbH</td>\n",
       "      <td>57072</td>\n",
       "      <td>25993</td>\n",
       "      <td>1866</td>\n",
       "      <td>116.0</td>\n",
       "      <td>GKV</td>\n",
       "      <td>2.645000e+05</td>\n",
       "      <td>2.645000e+05</td>\n",
       "      <td>...</td>\n",
       "      <td>1.834052e+04</td>\n",
       "      <td>186602.25</td>\n",
       "      <td>172230.65</td>\n",
       "      <td>1434.82</td>\n",
       "      <td>NaN</td>\n",
       "      <td>NaN</td>\n",
       "      <td>1484.67</td>\n",
       "      <td>4.500000e+01</td>\n",
       "      <td>0.000000e+00</td>\n",
       "      <td>155.00</td>\n",
       "    </tr>\n",
       "    <tr>\n",
       "      <th>445</th>\n",
       "      <td>C_019</td>\n",
       "      <td>0</td>\n",
       "      <td>AG</td>\n",
       "      <td>33689</td>\n",
       "      <td>70109</td>\n",
       "      <td>1870</td>\n",
       "      <td>107.0</td>\n",
       "      <td>GKV</td>\n",
       "      <td>2.432905e+06</td>\n",
       "      <td>2.432905e+06</td>\n",
       "      <td>...</td>\n",
       "      <td>-3.640000e-12</td>\n",
       "      <td>340903.37</td>\n",
       "      <td>340903.37</td>\n",
       "      <td>340903.37</td>\n",
       "      <td>NaN</td>\n",
       "      <td>NaN</td>\n",
       "      <td>1933900.10</td>\n",
       "      <td>0.000000e+00</td>\n",
       "      <td>-2.050780e+06</td>\n",
       "      <td>151.00</td>\n",
       "    </tr>\n",
       "  </tbody>\n",
       "</table>\n",
       "<p>10 rows × 41 columns</p>\n",
       "</div>"
      ],
      "text/plain": [
       "        id  default     legal_form  zip_code  sector  year_inc  count_emp  \\\n",
       "272  C_543        0             AG     86150   68101      1464        NaN   \n",
       "249  C_105        0             AG     76185   70101      1856        NaN   \n",
       "371  C_361        0           GmbH     21335   20520      1858      185.0   \n",
       "572  C_482        0   Freiberufler     61169   49310         0        NaN   \n",
       "477  C_597        1   Freiberufler     32457   71113         0        NaN   \n",
       "283  C_519        0           GmbH     80807   18120      1862        NaN   \n",
       "531  C_711        0  GmbH & Co. KG     42651   32501      1857       63.0   \n",
       "454  C_259        0   Freiberufler     44141   94110      1863      140.0   \n",
       "165  C_347        0           GmbH     57072   25993      1866      116.0   \n",
       "445  C_019        0             AG     33689   70109      1870      107.0   \n",
       "\n",
       "    type_pl         sales  gross_performance  ...  total_equity  \\\n",
       "272     GKV  7.316501e+07       7.316501e+07  ...  7.797900e+06   \n",
       "249     GKV  5.337214e+07       5.311017e+07  ...  7.522639e+06   \n",
       "371     GKV  1.979305e+08       1.972723e+08  ...  2.445527e+06   \n",
       "572     GKV  6.357699e+05       6.357699e+05  ...  3.712513e+04   \n",
       "477     GKV  2.414560e+05       2.169006e+05  ...  5.146989e+05   \n",
       "283     GKV  1.560010e+06       4.462166e+06  ...  3.912989e+05   \n",
       "531     GKV  2.713538e+06       2.713538e+06  ...  3.301305e+05   \n",
       "454     GKV  3.584665e+05       3.584665e+05  ...  1.871424e+05   \n",
       "165     GKV  2.645000e+05       2.645000e+05  ...  1.834052e+04   \n",
       "445     GKV  2.432905e+06       2.432905e+06  ... -3.640000e-12   \n",
       "\n",
       "     current_assets  monetary_current_assets         cash  \\\n",
       "272     29653971.68              11687193.17   3444440.58   \n",
       "249     31608245.57              26918553.04  19531832.78   \n",
       "371     32809291.04              24618777.77      1012.13   \n",
       "572       299815.83                268452.30     49009.81   \n",
       "477       639035.00                639951.26      7466.24   \n",
       "283      1780853.40                507526.40     13989.13   \n",
       "531       625173.80                462636.78     66853.99   \n",
       "454        70476.90                 61735.26     41618.21   \n",
       "165       186602.25                172230.65      1434.82   \n",
       "445       340903.37                340903.37    340903.37   \n",
       "\n",
       "     trade_receivables_st  trade_receivables_lt  cf_operating  cf_investment  \\\n",
       "272            4254958.92                   NaN   12170860.85  -6.620784e+05   \n",
       "249            6509382.04                   NaN  -10483605.89  -1.015179e+07   \n",
       "371           24452421.93                   NaN   11658956.29  -1.072492e+06   \n",
       "572                   NaN                   NaN    -212829.13  -1.750000e-10   \n",
       "477              24518.87                   NaN      14391.18  -7.090000e-11   \n",
       "283                   NaN                   NaN    -115009.30  -6.533309e+04   \n",
       "531             281981.84                   NaN     133580.07  -5.635444e+04   \n",
       "454                   NaN                   NaN      22009.92  -1.400000e+05   \n",
       "165                   NaN                   NaN       1484.67   4.500000e+01   \n",
       "445                   NaN                   NaN    1933900.10   0.000000e+00   \n",
       "\n",
       "     cf_financing  age_num  \n",
       "272 -2.560090e+05   158.32  \n",
       "249  3.198861e+07   158.32  \n",
       "371 -1.088165e+07   158.32  \n",
       "572  9.460000e-11   158.32  \n",
       "477  1.204280e+03   158.32  \n",
       "283  2.707314e+05   158.32  \n",
       "531  3.780000e-10   158.32  \n",
       "454  1.307238e+05   158.00  \n",
       "165  0.000000e+00   155.00  \n",
       "445 -2.050780e+06   151.00  \n",
       "\n",
       "[10 rows x 41 columns]"
      ]
     },
     "execution_count": 153,
     "metadata": {},
     "output_type": "execute_result"
    }
   ],
   "source": [
    "#take a look on the quantiles\n",
    "quantiles = list()\n",
    "for i in range(0,100,):\n",
    "    quantiles.append(df_train[\"age_num\"].quantile(i/100))\n",
    "\n",
    "age_th = df_train[\"age_num\"].quantile(0.99)\n",
    "\n",
    "#replace outliers with 99% quantile\n",
    "df_train.loc[df_train[\"age_num\"] > age_th,\"age_num\"] = age_th\n",
    "\n",
    "df_train.sort_values(by=\"age_num\",ascending=False).head(10)"
   ]
  },
  {
   "cell_type": "code",
   "execution_count": 154,
   "metadata": {
    "ExecuteTime": {
     "end_time": "2021-01-02T14:08:15.934682Z",
     "start_time": "2021-01-02T14:08:15.696970Z"
    }
   },
   "outputs": [
    {
     "data": {
      "image/png": "[encoded data removed]",
      "text/plain": [
       "<Figure size 432x288 with 1 Axes>"
      ]
     },
     "metadata": {
      "needs_background": "light"
     },
     "output_type": "display_data"
    }
   ],
   "source": [
    "sns.boxplot(y=df_train[\"age_num\"]).set_title(\"Now a little bit better\");"
   ]
  },
  {
   "cell_type": "code",
   "execution_count": 155,
   "metadata": {
    "ExecuteTime": {
     "end_time": "2021-01-02T14:08:17.198689Z",
     "start_time": "2021-01-02T14:08:15.942064Z"
    }
   },
   "outputs": [
    {
     "ename": "AttributeError",
     "evalue": "module 'seaborn' has no attribute 'displot'",
     "output_type": "error",
     "traceback": [
      "\u001b[1;31m---------------------------------------------------------------------------\u001b[0m",
      "\u001b[1;31mAttributeError\u001b[0m                            Traceback (most recent call last)",
      "\u001b[1;32m<ipython-input-155-f618e6462f31>\u001b[0m in \u001b[0;36m<module>\u001b[1;34m\u001b[0m\n\u001b[0;32m      4\u001b[0m             data=df_train).set_title(\"With log transformation\");\n\u001b[0;32m      5\u001b[0m \u001b[0mplt\u001b[0m\u001b[1;33m.\u001b[0m\u001b[0mfigure\u001b[0m\u001b[1;33m(\u001b[0m\u001b[1;33m)\u001b[0m\u001b[1;33m\u001b[0m\u001b[1;33m\u001b[0m\u001b[0m\n\u001b[1;32m----> 6\u001b[1;33m \u001b[0msns\u001b[0m\u001b[1;33m.\u001b[0m\u001b[0mdisplot\u001b[0m\u001b[1;33m(\u001b[0m\u001b[0mdf_train\u001b[0m\u001b[1;33m,\u001b[0m\u001b[0mx\u001b[0m\u001b[1;33m=\u001b[0m\u001b[1;34m\"age_num\"\u001b[0m\u001b[1;33m,\u001b[0m\u001b[0mhue\u001b[0m\u001b[1;33m=\u001b[0m\u001b[1;34m\"default\"\u001b[0m\u001b[1;33m,\u001b[0m\u001b[0mstat\u001b[0m\u001b[1;33m=\u001b[0m\u001b[1;34m\"density\"\u001b[0m\u001b[1;33m,\u001b[0m\u001b[0mcommon_norm\u001b[0m\u001b[1;33m=\u001b[0m\u001b[1;32mFalse\u001b[0m\u001b[1;33m)\u001b[0m\u001b[1;33m;\u001b[0m\u001b[1;33m\u001b[0m\u001b[1;33m\u001b[0m\u001b[0m\n\u001b[0m",
      "\u001b[1;31mAttributeError\u001b[0m: module 'seaborn' has no attribute 'displot'"
     ]
    },
    {
     "data": {
      "image/png": "[encoded data removed]",
      "text/plain": [
       "<Figure size 432x288 with 1 Axes>"
      ]
     },
     "metadata": {
      "needs_background": "light"
     },
     "output_type": "display_data"
    },
    {
     "data": {
      "image/png": "[encoded data removed]",
      "text/plain": [
       "<Figure size 432x288 with 1 Axes>"
      ]
     },
     "metadata": {
      "needs_background": "light"
     },
     "output_type": "display_data"
    },
    {
     "data": {
      "text/plain": [
       "<Figure size 432x288 with 0 Axes>"
      ]
     },
     "metadata": {},
     "output_type": "display_data"
    }
   ],
   "source": [
    "sns.boxplot(y=\"age_num\",x=\"default\",data=df_train);\n",
    "plt.figure()\n",
    "sns.boxplot(y=np.log(df_train[\"age_num\"]),x=\"default\",\n",
    "            data=df_train).set_title(\"With log transformation\");\n",
    "plt.figure()\n",
    "sns.displot(df_train,x=\"age_num\",hue=\"default\",stat=\"density\",common_norm=False);"
   ]
  },
  {
   "cell_type": "code",
   "execution_count": null,
   "metadata": {
    "ExecuteTime": {
     "end_time": "2021-01-02T14:08:17.284289Z",
     "start_time": "2021-01-02T14:08:17.204057Z"
    }
   },
   "outputs": [],
   "source": [
    "df_train[\"age_quartile\"] = pd.qcut(df_train[\"age_num\"],10)\n",
    "pd.crosstab(df_train[\"default\"],df_train[\"age_quartile\"])"
   ]
  },
  {
   "cell_type": "code",
   "execution_count": 156,
   "metadata": {
    "ExecuteTime": {
     "end_time": "2021-01-02T14:08:18.216763Z",
     "start_time": "2021-01-02T14:08:18.154448Z"
    }
   },
   "outputs": [
    {
     "name": "stdout",
     "output_type": "stream",
     "text": [
      "                        Results: Logit\n",
      "===============================================================\n",
      "Model:              Logit            Pseudo R-squared: 0.000   \n",
      "Dependent Variable: default          AIC:              295.6596\n",
      "Date:               2021-01-05 16:53 BIC:              304.6712\n",
      "No. Observations:   669              Log-Likelihood:   -145.83 \n",
      "Df Model:           1                LL-Null:          -145.89 \n",
      "Df Residuals:       667              LLR p-value:      0.72592 \n",
      "Converged:          1.0000           Scale:            1.0000  \n",
      "No. Iterations:     7.0000                                     \n",
      "----------------------------------------------------------------\n",
      "            Coef.   Std.Err.     z      P>|z|    [0.025   0.975]\n",
      "----------------------------------------------------------------\n",
      "Intercept  -2.8782    0.2572  -11.1898  0.0000  -3.3823  -2.3740\n",
      "age_num     0.0019    0.0054    0.3576  0.7206  -0.0087   0.0126\n",
      "===============================================================\n",
      "\n"
     ]
    }
   ],
   "source": [
    "mdl = sm.Logit.from_formula('default ~ age_num + 1', data=df_train).fit(disp=False, maxiter=100)\n",
    "print(mdl.summary2())"
   ]
  },
  {
   "cell_type": "code",
   "execution_count": 157,
   "metadata": {
    "ExecuteTime": {
     "end_time": "2021-01-02T14:08:20.012411Z",
     "start_time": "2021-01-02T14:08:19.977029Z"
    }
   },
   "outputs": [
    {
     "data": {
      "text/html": [
       "<div>\n",
       "<style scoped>\n",
       "    .dataframe tbody tr th:only-of-type {\n",
       "        vertical-align: middle;\n",
       "    }\n",
       "\n",
       "    .dataframe tbody tr th {\n",
       "        vertical-align: top;\n",
       "    }\n",
       "\n",
       "    .dataframe thead th {\n",
       "        text-align: right;\n",
       "    }\n",
       "</style>\n",
       "<table border=\"1\" class=\"dataframe\">\n",
       "  <thead>\n",
       "    <tr style=\"text-align: right;\">\n",
       "      <th>age_cat</th>\n",
       "      <th>3</th>\n",
       "      <th>4</th>\n",
       "    </tr>\n",
       "    <tr>\n",
       "      <th>default</th>\n",
       "      <th></th>\n",
       "      <th></th>\n",
       "    </tr>\n",
       "  </thead>\n",
       "  <tbody>\n",
       "    <tr>\n",
       "      <th>0</th>\n",
       "      <td>386</td>\n",
       "      <td>245</td>\n",
       "    </tr>\n",
       "    <tr>\n",
       "      <th>1</th>\n",
       "      <td>19</td>\n",
       "      <td>19</td>\n",
       "    </tr>\n",
       "  </tbody>\n",
       "</table>\n",
       "</div>"
      ],
      "text/plain": [
       "age_cat    3    4\n",
       "default          \n",
       "0        386  245\n",
       "1         19   19"
      ]
     },
     "execution_count": 157,
     "metadata": {},
     "output_type": "execute_result"
    }
   ],
   "source": [
    "#Flave - habe age cat so transformiert, dass man sie unten in der regression benutzen kann\n",
    "df_train[\"age_cat\"] = np.select([\n",
    "     df_train['age_num'].between(0, 4, inclusive=True),\n",
    "     df_train['age_num'].between(5, 9, inclusive=True),\n",
    "     df_train['age_num'].between(10, 29, inclusive=True),\n",
    "     df_train['age_num'].between(30, np.inf, inclusive=True)], \n",
    "    [1,2,3,4])\n",
    "\n",
    "pd.crosstab(df_train[\"default\"],df_train[\"age_cat\"])"
   ]
  },
  {
   "cell_type": "code",
   "execution_count": 158,
   "metadata": {
    "ExecuteTime": {
     "end_time": "2021-01-02T14:08:21.728705Z",
     "start_time": "2021-01-02T14:08:21.725318Z"
    }
   },
   "outputs": [],
   "source": [
    "# Mando\n",
    "# df_train[\"age_cat\"] = np.select([\n",
    "#      df_train['age_num'].between(0, 19, inclusive=True),\n",
    "#      df_train['age_num'].between(20, 29, inclusive=True),\n",
    "#      df_train['age_num'].between(30, 39, inclusive=True),\n",
    "#      df_train['age_num'].between(40, 49, inclusive=True),\n",
    "#      df_train['age_num'].between(50, 59, inclusive=True),\n",
    "#      df_train['age_num'].between(60, np.inf, inclusive=True)], \n",
    "#     ['10-19','20-29','30-39','40-49','50-59','>59'],)\n",
    "\n",
    "# pd.crosstab(df_train[\"default\"],df_train[\"age_cat\"])"
   ]
  },
  {
   "cell_type": "code",
   "execution_count": 159,
   "metadata": {
    "ExecuteTime": {
     "end_time": "2021-01-02T14:08:23.680343Z",
     "start_time": "2021-01-02T14:08:23.610412Z"
    }
   },
   "outputs": [
    {
     "name": "stdout",
     "output_type": "stream",
     "text": [
      "                        Results: Logit\n",
      "===============================================================\n",
      "Model:              Logit            Pseudo R-squared: 0.006   \n",
      "Dependent Variable: default          AIC:              293.9493\n",
      "Date:               2021-01-05 16:53 BIC:              302.9609\n",
      "No. Observations:   669              Log-Likelihood:   -144.97 \n",
      "Df Model:           1                LL-Null:          -145.89 \n",
      "Df Residuals:       667              LLR p-value:      0.17575 \n",
      "Converged:          1.0000           Scale:            1.0000  \n",
      "No. Iterations:     7.0000                                     \n",
      "----------------------------------------------------------------\n",
      "             Coef.   Std.Err.     z     P>|z|    [0.025   0.975]\n",
      "----------------------------------------------------------------\n",
      "Intercept   -4.3751    1.1807  -3.7056  0.0002  -6.6892  -2.0611\n",
      "age_cat      0.4546    0.3346   1.3587  0.1742  -0.2012   1.1103\n",
      "===============================================================\n",
      "\n"
     ]
    }
   ],
   "source": [
    "mdl = sm.Logit.from_formula('default ~ age_cat + 1', data=df_train).fit(disp=False, maxiter=100)\n",
    "print(mdl.summary2())"
   ]
  },
  {
   "cell_type": "code",
   "execution_count": 160,
   "metadata": {
    "ExecuteTime": {
     "end_time": "2021-01-02T14:08:24.959450Z",
     "start_time": "2021-01-02T14:08:23.737197Z"
    }
   },
   "outputs": [
    {
     "name": "stdout",
     "output_type": "stream",
     "text": [
      "====================================================\n",
      "Variable:  id\n",
      "---------------------------------------------------\n",
      "           0    1  N_False  N_True  N  N_Perc\n",
      "id                                           \n",
      "C_995  100.0  0.0        1       0  1    0.15\n",
      "C_994  100.0  0.0        1       0  1    0.15\n",
      "C_992  100.0  0.0        1       0  1    0.15\n",
      "C_990  100.0  0.0        1       0  1    0.15\n",
      "C_986  100.0  0.0        1       0  1    0.15\n",
      "...      ...  ...      ...     ... ..     ...\n",
      "C_006  100.0  0.0        1       0  1    0.15\n",
      "C_004  100.0  0.0        1       0  1    0.15\n",
      "C_002  100.0  0.0        1       0  1    0.15\n",
      "C_001  100.0  0.0        1       0  1    0.15\n",
      "C_000  100.0  0.0        1       0  1    0.15\n",
      "\n",
      "[669 rows x 6 columns]\n",
      "\n",
      "====================================================\n",
      "Variable:  legal_form\n",
      "---------------------------------------------------\n",
      "                              0      1  N_False  N_True    N  N_Perc\n",
      "legal_form                                                          \n",
      "Verein                   100.00   0.00        1       0    1    0.15\n",
      "Sonst. Gewerbetreibende   88.24  11.76       15       2   17    2.54\n",
      "OHG                      100.00   0.00        4       0    4    0.60\n",
      "KG                        80.00  20.00        4       1    5    0.75\n",
      "GmbH & Co. KG             91.67   8.33       88       8   96   14.35\n",
      "GmbH                      95.05   4.95      461      24  485   72.50\n",
      "Genossenschaft           100.00   0.00       15       0   15    2.24\n",
      "Freiberufler              80.00  20.00        4       1    5    0.75\n",
      "Einzelfirma               88.89  11.11        8       1    9    1.35\n",
      "BGB-Gesellschaft         100.00   0.00        4       0    4    0.60\n",
      "AG                        96.43   3.57       27       1   28    4.19\n",
      "\n",
      "====================================================\n",
      "Variable:  type_pl\n",
      "---------------------------------------------------\n",
      "              0     1  N_False  N_True    N  N_Perc\n",
      "type_pl                                            \n",
      "UKV      100.00  0.00        6       0    6     0.9\n",
      "GKV       94.27  5.73      625      38  663    99.1\n",
      "\n"
     ]
    }
   ],
   "source": [
    "catvar = [i for i in list(df_train.columns) if df_train[i].dtype=='O']\n",
    "\n",
    "for i in catvar:\n",
    "    tmp1 = pd.crosstab(df_train['default'], df_train[i]).apply(lambda x: np.round(x/x.sum() * 100,2)).T.sort_values(by = i ,ascending=False)\n",
    "    tmp2 = pd.crosstab(df_train['default'], df_train[i]).T.rename(columns={False: 'N_False', True: 'N_True'})\n",
    "    tmp3 = pd.DataFrame(tmp2.apply(sum, axis=1), columns=['N'])\n",
    "    tmp4 = tmp3.apply(lambda x: np.round(x/x.sum() * 100,2)).rename(columns={'N': 'N_Perc'})\n",
    "    tmp = tmp1.join(tmp2).join(tmp3).join(tmp4)\n",
    "    print('====================================================')\n",
    "    print('Variable: ',i)\n",
    "    print('---------------------------------------------------')\n",
    "    print(tmp)\n",
    "    print()\n",
    "    del tmp1, tmp2, tmp3, tmp4, tmp"
   ]
  },
  {
   "cell_type": "markdown",
   "metadata": {},
   "source": [
    "# Understanding your data\n",
    "\n",
    "\n",
    "## Univartiate descriptive anaylsis\n",
    "\n",
    "The datatype of the variables is important as in dermines how you have to look at the data"
   ]
  },
  {
   "cell_type": "code",
   "execution_count": 161,
   "metadata": {
    "ExecuteTime": {
     "end_time": "2021-01-02T14:08:24.976795Z",
     "start_time": "2021-01-02T14:08:24.966442Z"
    }
   },
   "outputs": [
    {
     "data": {
      "text/plain": [
       "['id', 'legal_form', 'type_pl']"
      ]
     },
     "execution_count": 161,
     "metadata": {},
     "output_type": "execute_result"
    }
   ],
   "source": [
    "catvar = [i for i in list(df_train.columns) if df_train[i].dtype=='O']\n",
    "catvar # categorial variables"
   ]
  },
  {
   "cell_type": "code",
   "execution_count": 162,
   "metadata": {
    "ExecuteTime": {
     "end_time": "2021-01-02T14:08:24.996813Z",
     "start_time": "2021-01-02T14:08:24.983635Z"
    }
   },
   "outputs": [
    {
     "data": {
      "text/plain": [
       "['default',\n",
       " 'zip_code',\n",
       " 'sector',\n",
       " 'year_inc',\n",
       " 'count_emp',\n",
       " 'sales',\n",
       " 'gross_performance',\n",
       " 'gross_profit',\n",
       " 'earn_from_op',\n",
       " 'fin_result',\n",
       " 'oth_interest_inc',\n",
       " 'oth_interest_exp',\n",
       " 'result_from_ord_bus',\n",
       " 'total_result',\n",
       " 'annual_profit',\n",
       " 'total_assets',\n",
       " 'total_liabilities_st',\n",
       " 'total_liabilities_mt',\n",
       " 'total_liabilities_lt',\n",
       " 'bank_liabilities_st',\n",
       " 'bank_liabilities_mt',\n",
       " 'bank_liabilities_lt',\n",
       " 'trade_payables_st',\n",
       " 'trade_payables_mt',\n",
       " 'trade_payables_lt',\n",
       " 'bonds_payables_st',\n",
       " 'bonds_payables_mt',\n",
       " 'bonds_payables_lt',\n",
       " 'total_equity',\n",
       " 'current_assets',\n",
       " 'monetary_current_assets',\n",
       " 'cash',\n",
       " 'trade_receivables_st',\n",
       " 'trade_receivables_lt',\n",
       " 'cf_operating',\n",
       " 'cf_investment',\n",
       " 'cf_financing',\n",
       " 'age_num']"
      ]
     },
     "execution_count": 162,
     "metadata": {},
     "output_type": "execute_result"
    }
   ],
   "source": [
    "numvar = [i for i in list(df_train.columns) if df_train[i].dtype in ['float64','int64']]\n",
    "numvar # numberical variables"
   ]
  },
  {
   "cell_type": "markdown",
   "metadata": {},
   "source": [
    "## Missing values\n",
    "\n",
    "Overview of missing values in the data"
   ]
  },
  {
   "cell_type": "code",
   "execution_count": 163,
   "metadata": {
    "ExecuteTime": {
     "end_time": "2021-01-02T14:08:25.303120Z",
     "start_time": "2021-01-02T14:08:25.288333Z"
    }
   },
   "outputs": [
    {
     "data": {
      "text/plain": [
       "bonds_payables_lt          669\n",
       "bonds_payables_st          669\n",
       "trade_payables_lt          665\n",
       "bonds_payables_mt          664\n",
       "trade_payables_mt          648\n",
       "trade_receivables_lt       645\n",
       "bank_liabilities_lt        545\n",
       "bank_liabilities_mt        483\n",
       "trade_receivables_st       355\n",
       "count_emp                  353\n",
       "bank_liabilities_st        352\n",
       "trade_payables_st          143\n",
       "oth_interest_inc           127\n",
       "oth_interest_exp            62\n",
       "cash                        32\n",
       "fin_result                  22\n",
       "total_equity                21\n",
       "gross_profit                 7\n",
       "gross_performance            7\n",
       "total_assets                 1\n",
       "earn_from_op                 1\n",
       "result_from_ord_bus          1\n",
       "annual_profit                1\n",
       "sales                        1\n",
       "current_assets               1\n",
       "cf_operating                 1\n",
       "cf_investment                1\n",
       "cf_financing                 1\n",
       "sector                       0\n",
       "year_inc                     0\n",
       "zip_code                     0\n",
       "legal_form                   0\n",
       "default                      0\n",
       "age_cat                      0\n",
       "total_liabilities_mt         0\n",
       "type_pl                      0\n",
       "total_result                 0\n",
       "total_liabilities_st         0\n",
       "age_num                      0\n",
       "total_liabilities_lt         0\n",
       "monetary_current_assets      0\n",
       "id                           0\n",
       "dtype: int64"
      ]
     },
     "execution_count": 163,
     "metadata": {},
     "output_type": "execute_result"
    }
   ],
   "source": [
    "df_train.isnull().sum().sort_values(ascending=False)"
   ]
  },
  {
   "cell_type": "code",
   "execution_count": 164,
   "metadata": {
    "ExecuteTime": {
     "end_time": "2021-01-02T14:08:25.955268Z",
     "start_time": "2021-01-02T14:08:25.936023Z"
    }
   },
   "outputs": [
    {
     "data": {
      "text/plain": [
       "bonds_payables_lt          330\n",
       "bonds_payables_st          330\n",
       "trade_payables_lt          330\n",
       "bonds_payables_mt          329\n",
       "trade_payables_mt          322\n",
       "trade_receivables_lt       320\n",
       "bank_liabilities_lt        250\n",
       "bank_liabilities_mt        230\n",
       "count_emp                  179\n",
       "bank_liabilities_st        172\n",
       "trade_receivables_st       169\n",
       "trade_payables_st           65\n",
       "oth_interest_inc            62\n",
       "oth_interest_exp            23\n",
       "cash                        18\n",
       "total_equity                 9\n",
       "fin_result                   8\n",
       "gross_performance            3\n",
       "gross_profit                 3\n",
       "cf_investment                1\n",
       "cf_operating                 1\n",
       "cf_financing                 1\n",
       "earn_from_op                 0\n",
       "year_inc                     0\n",
       "sector                       0\n",
       "type_pl                      0\n",
       "sales                        0\n",
       "zip_code                     0\n",
       "total_liabilities_mt         0\n",
       "result_from_ord_bus          0\n",
       "total_result                 0\n",
       "annual_profit                0\n",
       "total_assets                 0\n",
       "total_liabilities_st         0\n",
       "total_liabilities_lt         0\n",
       "current_assets               0\n",
       "monetary_current_assets      0\n",
       "legal_form                   0\n",
       "dtype: int64"
      ]
     },
     "execution_count": 164,
     "metadata": {},
     "output_type": "execute_result"
    }
   ],
   "source": [
    "df_test.isnull().sum().sort_values(ascending=False)"
   ]
  },
  {
   "cell_type": "markdown",
   "metadata": {},
   "source": [
    "## Univariate Analysis"
   ]
  },
  {
   "cell_type": "markdown",
   "metadata": {},
   "source": [
    "### Univariate Logit Regressions\n",
    "See the significance of every variable possible in the training set in an univariate setting and where NAs are dropped. We also ordered them according to their p values. Important to note here is the p value is not a KO-criteria for us. Also we do these regressions before data cleansing, which is another important thing to consider. The aim of this is only to see if their is some clear evidence for significant features in the data in the first place."
   ]
  },
  {
   "cell_type": "code",
   "execution_count": 165,
   "metadata": {
    "ExecuteTime": {
     "end_time": "2021-01-02T14:08:29.626979Z",
     "start_time": "2021-01-02T14:08:27.964251Z"
    },
    "tags": [
     "outputPrepend"
    ]
   },
   "outputs": [
    {
     "name": "stdout",
     "output_type": "stream",
     "text": [
      "                        Results: Logit\n",
      "===============================================================\n",
      "Model:              Logit            Pseudo R-squared: 0.004   \n",
      "Dependent Variable: default          AIC:              294.4736\n",
      "Date:               2021-01-05 16:53 BIC:              303.4851\n",
      "No. Observations:   669              Log-Likelihood:   -145.24 \n",
      "Df Model:           1                LL-Null:          -145.89 \n",
      "Df Residuals:       667              LLR p-value:      0.25258 \n",
      "Converged:          1.0000           Scale:            1.0000  \n",
      "No. Iterations:     7.0000                                     \n",
      "----------------------------------------------------------------\n",
      "             Coef.   Std.Err.     z     P>|z|    [0.025   0.975]\n",
      "----------------------------------------------------------------\n",
      "const       -3.1658    0.3671  -8.6249  0.0000  -3.8852  -2.4464\n",
      "zip_code     0.0000    0.0000   1.1393  0.2546  -0.0000   0.0000\n",
      "===============================================================\n",
      "\n",
      "                        Results: Logit\n",
      "===============================================================\n",
      "Model:              Logit            Pseudo R-squared: 0.000   \n",
      "Dependent Variable: default          AIC:              295.7375\n",
      "Date:               2021-01-05 16:53 BIC:              304.7490\n",
      "No. Observations:   669              Log-Likelihood:   -145.87 \n",
      "Df Model:           1                LL-Null:          -145.89 \n",
      "Df Residuals:       667              LLR p-value:      0.83188 \n",
      "Converged:          1.0000           Scale:            1.0000  \n",
      "No. Iterations:     7.0000                                     \n",
      "----------------------------------------------------------------\n",
      "             Coef.   Std.Err.     z     P>|z|    [0.025   0.975]\n",
      "----------------------------------------------------------------\n",
      "const       -2.8962    0.4423  -6.5479  0.0000  -3.7631  -2.0293\n",
      "sector       0.0000    0.0000   0.2124  0.8318  -0.0000   0.0000\n",
      "===============================================================\n",
      "\n",
      "                        Results: Logit\n",
      "===============================================================\n",
      "Model:              Logit            Pseudo R-squared: 0.010   \n",
      "Dependent Variable: default          AIC:              292.9664\n",
      "Date:               2021-01-05 16:53 BIC:              301.9780\n",
      "No. Observations:   669              Log-Likelihood:   -144.48 \n",
      "Df Model:           1                LL-Null:          -145.89 \n",
      "Df Residuals:       667              LLR p-value:      0.093322\n",
      "Converged:          1.0000           Scale:            1.0000  \n",
      "No. Iterations:     7.0000                                     \n",
      "----------------------------------------------------------------\n",
      "              Coef.   Std.Err.     z     P>|z|    [0.025  0.975]\n",
      "----------------------------------------------------------------\n",
      "const        -0.1376    1.3979  -0.0984  0.9216  -2.8774  2.6023\n",
      "year_inc     -0.0014    0.0007  -1.9141  0.0556  -0.0027  0.0000\n",
      "===============================================================\n",
      "\n",
      "                        Results: Logit\n",
      "===============================================================\n",
      "Model:              Logit            Pseudo R-squared: 0.000   \n",
      "Dependent Variable: default          AIC:              124.6911\n",
      "Date:               2021-01-05 16:53 BIC:              132.2026\n",
      "No. Observations:   316              Log-Likelihood:   -60.346 \n",
      "Df Model:           1                LL-Null:          -60.354 \n",
      "Df Residuals:       314              LLR p-value:      0.89912 \n",
      "Converged:          1.0000           Scale:            1.0000  \n",
      "No. Iterations:     7.0000                                     \n",
      "----------------------------------------------------------------\n",
      "            Coef.   Std.Err.     z      P>|z|    [0.025   0.975]\n",
      "----------------------------------------------------------------\n",
      "const      -2.9915    0.2711  -11.0331  0.0000  -3.5229  -2.4601\n",
      "count_emp  -0.0000    0.0002   -0.1190  0.9053  -0.0004   0.0004\n",
      "===============================================================\n",
      "\n",
      "                        Results: Logit\n",
      "===============================================================\n",
      "Model:              Logit            Pseudo R-squared: 0.002   \n",
      "Dependent Variable: default          AIC:              294.9877\n",
      "Date:               2021-01-05 16:53 BIC:              303.9963\n",
      "No. Observations:   668              Log-Likelihood:   -145.49 \n",
      "Df Model:           1                LL-Null:          -145.83 \n",
      "Df Residuals:       666              LLR p-value:      0.41035 \n",
      "Converged:          1.0000           Scale:            1.0000  \n",
      "No. Iterations:     8.0000                                     \n",
      "----------------------------------------------------------------\n",
      "            Coef.   Std.Err.     z      P>|z|    [0.025   0.975]\n",
      "----------------------------------------------------------------\n",
      "const      -2.7635    0.1758  -15.7209  0.0000  -3.1080  -2.4189\n",
      "sales      -0.0000    0.0000   -0.6565  0.5115  -0.0000   0.0000\n",
      "===============================================================\n",
      "\n",
      "                          Results: Logit\n",
      "==================================================================\n",
      "Model:               Logit             Pseudo R-squared:  0.001   \n",
      "Dependent Variable:  default           AIC:               294.5595\n",
      "Date:                2021-01-05 16:53  BIC:               303.5501\n",
      "No. Observations:    662               Log-Likelihood:    -145.28 \n",
      "Df Model:            1                 LL-Null:           -145.48 \n",
      "Df Residuals:        660               LLR p-value:       0.52716 \n",
      "Converged:           1.0000            Scale:             1.0000  \n",
      "No. Iterations:      7.0000                                       \n",
      "------------------------------------------------------------------\n",
      "                   Coef.  Std.Err.    z     P>|z|   [0.025  0.975]\n",
      "------------------------------------------------------------------\n",
      "const             -2.7620   0.1765 -15.6472 0.0000 -3.1080 -2.4160\n",
      "gross_performance -0.0000   0.0000  -0.5528 0.5804 -0.0000  0.0000\n",
      "==================================================================\n",
      "\n",
      "                        Results: Logit\n",
      "===============================================================\n",
      "Model:              Logit            Pseudo R-squared: 0.016   \n",
      "Dependent Variable: default          AIC:              290.2059\n",
      "Date:               2021-01-05 16:53 BIC:              299.1964\n",
      "No. Observations:   662              Log-Likelihood:   -143.10 \n",
      "Df Model:           1                LL-Null:          -145.48 \n",
      "Df Residuals:       660              LLR p-value:      0.029238\n",
      "Converged:          1.0000           Scale:            1.0000  \n",
      "No. Iterations:     9.0000                                     \n",
      "---------------------------------------------------------------\n",
      "                Coef.  Std.Err.    z     P>|z|   [0.025  0.975]\n",
      "---------------------------------------------------------------\n",
      "const          -2.6118   0.1886 -13.8450 0.0000 -2.9815 -2.2420\n",
      "gross_profit   -0.0000   0.0000  -1.4286 0.1531 -0.0000  0.0000\n",
      "===============================================================\n",
      "\n",
      "                        Results: Logit\n",
      "===============================================================\n",
      "Model:              Logit            Pseudo R-squared: 0.002   \n",
      "Dependent Variable: default          AIC:              295.1829\n",
      "Date:               2021-01-05 16:53 BIC:              304.1915\n",
      "No. Observations:   668              Log-Likelihood:   -145.59 \n",
      "Df Model:           1                LL-Null:          -145.83 \n",
      "Df Residuals:       666              LLR p-value:      0.48724 \n",
      "Converged:          1.0000           Scale:            1.0000  \n",
      "No. Iterations:     7.0000                                     \n",
      "---------------------------------------------------------------\n",
      "                Coef.  Std.Err.    z     P>|z|   [0.025  0.975]\n",
      "---------------------------------------------------------------\n",
      "const          -2.7967   0.1673 -16.7152 0.0000 -3.1247 -2.4688\n",
      "earn_from_op   -0.0000   0.0000  -0.6960 0.4864 -0.0000  0.0000\n",
      "===============================================================\n",
      "\n",
      "                        Results: Logit\n",
      "===============================================================\n",
      "Model:              Logit            Pseudo R-squared: 0.001   \n",
      "Dependent Variable: default          AIC:              281.7848\n",
      "Date:               2021-01-05 16:53 BIC:              290.7295\n",
      "No. Observations:   647              Log-Likelihood:   -138.89 \n",
      "Df Model:           1                LL-Null:          -138.98 \n",
      "Df Residuals:       645              LLR p-value:      0.68061 \n",
      "Converged:          1.0000           Scale:            1.0000  \n",
      "No. Iterations:     8.0000                                     \n",
      "---------------------------------------------------------------\n",
      "                Coef.  Std.Err.    z     P>|z|   [0.025  0.975]\n",
      "---------------------------------------------------------------\n",
      "const          -2.8301   0.1715 -16.4980 0.0000 -3.1663 -2.4939\n",
      "fin_result     -0.0000   0.0000  -0.3367 0.7364 -0.0000  0.0000\n",
      "===============================================================\n",
      "\n",
      "                         Results: Logit\n",
      "=================================================================\n",
      "Model:                Logit            Pseudo R-squared: 0.003   \n",
      "Dependent Variable:   default          AIC:              218.0321\n",
      "Date:                 2021-01-05 16:53 BIC:              226.6226\n",
      "No. Observations:     542              Log-Likelihood:   -107.02 \n",
      "Df Model:             1                LL-Null:          -107.30 \n",
      "Df Residuals:         540              LLR p-value:      0.45059 \n",
      "Converged:            1.0000           Scale:            1.0000  \n",
      "No. Iterations:       9.0000                                     \n",
      "-----------------------------------------------------------------\n",
      "                  Coef.  Std.Err.    z     P>|z|   [0.025  0.975]\n",
      "-----------------------------------------------------------------\n",
      "const            -2.9206   0.2005 -14.5656 0.0000 -3.3136 -2.5276\n",
      "oth_interest_inc -0.0000   0.0000  -0.4939 0.6214 -0.0000  0.0000\n",
      "=================================================================\n",
      "\n",
      "                         Results: Logit\n",
      "=================================================================\n",
      "Model:                Logit            Pseudo R-squared: 0.004   \n",
      "Dependent Variable:   default          AIC:              276.0375\n",
      "Date:                 2021-01-05 16:53 BIC:              284.8545\n",
      "No. Observations:     607              Log-Likelihood:   -136.02 \n",
      "Df Model:             1                LL-Null:          -136.61 \n",
      "Df Residuals:         605              LLR p-value:      0.27642 \n",
      "Converged:            1.0000           Scale:            1.0000  \n",
      "No. Iterations:       8.0000                                     \n",
      "-----------------------------------------------------------------\n",
      "                  Coef.  Std.Err.    z     P>|z|   [0.025  0.975]\n",
      "-----------------------------------------------------------------\n",
      "const            -2.7128   0.1780 -15.2400 0.0000 -3.0617 -2.3639\n",
      "oth_interest_exp -0.0000   0.0000  -0.7494 0.4536 -0.0000  0.0000\n",
      "=================================================================\n",
      "\n",
      "                           Results: Logit\n",
      "====================================================================\n",
      "Model:                 Logit             Pseudo R-squared:  0.002   \n",
      "Dependent Variable:    default           AIC:               294.9647\n",
      "Date:                  2021-01-05 16:53  BIC:               303.9733\n",
      "No. Observations:      668               Log-Likelihood:    -145.48 \n",
      "Df Model:              1                 LL-Null:           -145.83 \n",
      "Df Residuals:          666               LLR p-value:       0.40251 \n",
      "Converged:             1.0000            Scale:             1.0000  \n",
      "No. Iterations:        7.0000                                       \n",
      "--------------------------------------------------------------------\n",
      "                     Coef.  Std.Err.    z     P>|z|   [0.025  0.975]\n",
      "--------------------------------------------------------------------\n",
      "const               -2.7967   0.1672 -16.7263 0.0000 -3.1244 -2.4690\n",
      "result_from_ord_bus -0.0000   0.0000  -0.8044 0.4212 -0.0000  0.0000\n",
      "====================================================================\n",
      "\n",
      "                        Results: Logit\n",
      "===============================================================\n",
      "Model:              Logit            Pseudo R-squared: 0.002   \n",
      "Dependent Variable: default          AIC:              295.1210\n",
      "Date:               2021-01-05 16:53 BIC:              304.1326\n",
      "No. Observations:   669              Log-Likelihood:   -145.56 \n",
      "Df Model:           1                LL-Null:          -145.89 \n",
      "Df Residuals:       667              LLR p-value:      0.41602 \n",
      "Converged:          1.0000           Scale:            1.0000  \n",
      "No. Iterations:     7.0000                                     \n",
      "---------------------------------------------------------------\n",
      "                Coef.  Std.Err.    z     P>|z|   [0.025  0.975]\n",
      "---------------------------------------------------------------\n",
      "const          -2.7990   0.1672 -16.7422 0.0000 -3.1267 -2.4713\n",
      "total_result   -0.0000   0.0000  -0.7749 0.4384 -0.0000  0.0000\n",
      "===============================================================\n"
     ]
    },
    {
     "name": "stdout",
     "output_type": "stream",
     "text": [
      "\n",
      "                        Results: Logit\n",
      "===============================================================\n",
      "Model:              Logit            Pseudo R-squared: 0.001   \n",
      "Dependent Variable: default          AIC:              295.3412\n",
      "Date:               2021-01-05 16:53 BIC:              304.3498\n",
      "No. Observations:   668              Log-Likelihood:   -145.67 \n",
      "Df Model:           1                LL-Null:          -145.83 \n",
      "Df Residuals:       666              LLR p-value:      0.56907 \n",
      "Converged:          1.0000           Scale:            1.0000  \n",
      "No. Iterations:     7.0000                                     \n",
      "---------------------------------------------------------------\n",
      "                Coef.  Std.Err.    z     P>|z|   [0.025  0.975]\n",
      "---------------------------------------------------------------\n",
      "const          -2.8026   0.1671 -16.7705 0.0000 -3.1301 -2.4750\n",
      "annual_profit  -0.0000   0.0000  -0.5205 0.6027 -0.0000  0.0000\n",
      "===============================================================\n",
      "\n",
      "                        Results: Logit\n",
      "===============================================================\n",
      "Model:              Logit            Pseudo R-squared: 0.008   \n",
      "Dependent Variable: default          AIC:              293.4372\n",
      "Date:               2021-01-05 16:53 BIC:              302.4458\n",
      "No. Observations:   668              Log-Likelihood:   -144.72 \n",
      "Df Model:           1                LL-Null:          -145.83 \n",
      "Df Residuals:       666              LLR p-value:      0.13550 \n",
      "Converged:          1.0000           Scale:            1.0000  \n",
      "No. Iterations:     10.0000                                    \n",
      "---------------------------------------------------------------\n",
      "                Coef.  Std.Err.    z     P>|z|   [0.025  0.975]\n",
      "---------------------------------------------------------------\n",
      "const          -2.7257   0.1771 -15.3886 0.0000 -3.0729 -2.3786\n",
      "total_assets   -0.0000   0.0000  -0.9035 0.3662 -0.0000  0.0000\n",
      "===============================================================\n",
      "\n",
      "                           Results: Logit\n",
      "=====================================================================\n",
      "Model:                Logit              Pseudo R-squared:   0.002   \n",
      "Dependent Variable:   default            AIC:                295.3377\n",
      "Date:                 2021-01-05 16:53   BIC:                304.3493\n",
      "No. Observations:     669                Log-Likelihood:     -145.67 \n",
      "Df Model:             1                  LL-Null:            -145.89 \n",
      "Df Residuals:         667                LLR p-value:        0.50480 \n",
      "Converged:            1.0000             Scale:              1.0000  \n",
      "No. Iterations:       9.0000                                         \n",
      "---------------------------------------------------------------------\n",
      "                      Coef.  Std.Err.    z     P>|z|   [0.025  0.975]\n",
      "---------------------------------------------------------------------\n",
      "const                -2.7820   0.1733 -16.0556 0.0000 -3.1216 -2.4424\n",
      "total_liabilities_st -0.0000   0.0000  -0.4763 0.6338 -0.0000  0.0000\n",
      "=====================================================================\n",
      "\n",
      "                           Results: Logit\n",
      "=====================================================================\n",
      "Model:                Logit              Pseudo R-squared:   0.003   \n",
      "Dependent Variable:   default            AIC:                294.9659\n",
      "Date:                 2021-01-05 16:53   BIC:                303.9775\n",
      "No. Observations:     669                Log-Likelihood:     -145.48 \n",
      "Df Model:             1                  LL-Null:            -145.89 \n",
      "Df Residuals:         667                LLR p-value:        0.36617 \n",
      "Converged:            1.0000             Scale:              1.0000  \n",
      "No. Iterations:       8.0000                                         \n",
      "---------------------------------------------------------------------\n",
      "                      Coef.  Std.Err.    z     P>|z|   [0.025  0.975]\n",
      "---------------------------------------------------------------------\n",
      "const                -2.7782   0.1700 -16.3395 0.0000 -3.1115 -2.4450\n",
      "total_liabilities_mt -0.0000   0.0000  -0.6592 0.5097 -0.0000  0.0000\n",
      "=====================================================================\n",
      "\n",
      "                           Results: Logit\n",
      "=====================================================================\n",
      "Model:                Logit              Pseudo R-squared:   0.014   \n",
      "Dependent Variable:   default            AIC:                291.6263\n",
      "Date:                 2021-01-05 16:53   BIC:                300.6379\n",
      "No. Observations:     669                Log-Likelihood:     -143.81 \n",
      "Df Model:             1                  LL-Null:            -145.89 \n",
      "Df Residuals:         667                LLR p-value:        0.041482\n",
      "Converged:            1.0000             Scale:              1.0000  \n",
      "No. Iterations:       11.0000                                        \n",
      "---------------------------------------------------------------------\n",
      "                      Coef.  Std.Err.    z     P>|z|   [0.025  0.975]\n",
      "---------------------------------------------------------------------\n",
      "const                -2.7020   0.1737 -15.5584 0.0000 -3.0424 -2.3616\n",
      "total_liabilities_lt -0.0000   0.0000  -1.1271 0.2597 -0.0000  0.0000\n",
      "=====================================================================\n",
      "\n",
      "                           Results: Logit\n",
      "====================================================================\n",
      "Model:                 Logit             Pseudo R-squared:  0.001   \n",
      "Dependent Variable:    default           AIC:               178.8387\n",
      "Date:                  2021-01-05 16:53  BIC:               186.3565\n",
      "No. Observations:      317               Log-Likelihood:    -87.419 \n",
      "Df Model:              1                 LL-Null:           -87.488 \n",
      "Df Residuals:          315               LLR p-value:       0.71124 \n",
      "Converged:             1.0000            Scale:             1.0000  \n",
      "No. Iterations:        6.0000                                       \n",
      "--------------------------------------------------------------------\n",
      "                     Coef.  Std.Err.    z     P>|z|   [0.025  0.975]\n",
      "--------------------------------------------------------------------\n",
      "const               -2.4872   0.2243 -11.0902 0.0000 -2.9268 -2.0477\n",
      "bank_liabilities_st  0.0000   0.0000   0.3837 0.7012 -0.0000  0.0000\n",
      "====================================================================\n",
      "\n",
      "                          Results: Logit\n",
      "===================================================================\n",
      "Model:                 Logit             Pseudo R-squared:  0.022  \n",
      "Dependent Variable:    default           AIC:               91.0087\n",
      "Date:                  2021-01-05 16:53  BIC:               97.4602\n",
      "No. Observations:      186               Log-Likelihood:    -43.504\n",
      "Df Model:              1                 LL-Null:           -44.494\n",
      "Df Residuals:          184               LLR p-value:       0.15939\n",
      "Converged:             1.0000            Scale:             1.0000 \n",
      "No. Iterations:        10.0000                                     \n",
      "-------------------------------------------------------------------\n",
      "                     Coef.  Std.Err.    z    P>|z|   [0.025  0.975]\n",
      "-------------------------------------------------------------------\n",
      "const               -2.4918   0.3255 -7.6559 0.0000 -3.1298 -1.8539\n",
      "bank_liabilities_mt -0.0000   0.0000 -0.7730 0.4395 -0.0000  0.0000\n",
      "===================================================================\n",
      "\n",
      "                          Results: Logit\n",
      "===================================================================\n",
      "Model:                Logit             Pseudo R-squared:  0.090   \n",
      "Dependent Variable:   default           AIC:               53.0093 \n",
      "Date:                 2021-01-05 16:53  BIC:               58.6498 \n",
      "No. Observations:     124               Log-Likelihood:    -24.505 \n",
      "Df Model:             1                 LL-Null:           -26.919 \n",
      "Df Residuals:         122               LLR p-value:       0.027983\n",
      "Converged:            1.0000            Scale:             1.0000  \n",
      "No. Iterations:       13.0000                                      \n",
      "-------------------------------------------------------------------\n",
      "                     Coef.  Std.Err.    z    P>|z|   [0.025  0.975]\n",
      "-------------------------------------------------------------------\n",
      "const               -2.1813   0.4645 -4.6964 0.0000 -3.0917 -1.2710\n",
      "bank_liabilities_lt -0.0000   0.0000 -1.1625 0.2450 -0.0000  0.0000\n",
      "===================================================================\n",
      "\n",
      "                          Results: Logit\n",
      "==================================================================\n",
      "Model:               Logit             Pseudo R-squared:  0.000   \n",
      "Dependent Variable:  default           AIC:               228.4551\n",
      "Date:                2021-01-05 16:53  BIC:               236.9857\n",
      "No. Observations:    526               Log-Likelihood:    -112.23 \n",
      "Df Model:            1                 LL-Null:           -112.23 \n",
      "Df Residuals:        524               LLR p-value:       0.99070 \n",
      "Converged:           1.0000            Scale:             1.0000  \n",
      "No. Iterations:      7.0000                                       \n",
      "------------------------------------------------------------------\n",
      "                   Coef.  Std.Err.    z     P>|z|   [0.025  0.975]\n",
      "------------------------------------------------------------------\n",
      "const             -2.8412   0.1914 -14.8427 0.0000 -3.2163 -2.4660\n",
      "trade_payables_st -0.0000   0.0000  -0.0116 0.9908 -0.0000  0.0000\n",
      "==================================================================\n",
      "\n",
      "                         Results: Logit\n",
      "=================================================================\n",
      "Model:               Logit             Pseudo R-squared:  0.012  \n",
      "Dependent Variable:  default           AIC:               17.0502\n",
      "Date:                2021-01-05 16:53  BIC:               19.1392\n",
      "No. Observations:    21                Log-Likelihood:    -6.5251\n",
      "Df Model:            1                 LL-Null:           -6.6043\n",
      "Df Residuals:        19                LLR p-value:       0.69054\n",
      "Converged:           1.0000            Scale:             1.0000 \n",
      "No. Iterations:      8.0000                                      \n",
      "-----------------------------------------------------------------\n",
      "                   Coef.  Std.Err.    z    P>|z|   [0.025  0.975]\n",
      "-----------------------------------------------------------------\n",
      "const             -2.0887   0.8542 -2.4451 0.0145 -3.7629 -0.4144\n",
      "trade_payables_mt -0.0000   0.0000 -0.2946 0.7683 -0.0000  0.0000\n",
      "=================================================================\n",
      "\n",
      "                         Results: Logit\n",
      "================================================================\n",
      "Model:                Logit            Pseudo R-squared: 0.050  \n",
      "Dependent Variable:   default          AIC:              8.7563 \n",
      "Date:                 2021-01-05 16:53 BIC:              7.9751 \n",
      "No. Observations:     5                Log-Likelihood:   -2.3781\n",
      "Df Model:             1                LL-Null:          -2.5020\n",
      "Df Residuals:         3                LLR p-value:      0.61866\n",
      "Converged:            1.0000           Scale:            1.0000 \n",
      "No. Iterations:       7.0000                                    \n",
      "----------------------------------------------------------------\n",
      "                   Coef.  Std.Err.    z    P>|z|   [0.025 0.975]\n",
      "----------------------------------------------------------------\n",
      "const             -1.1137   1.2027 -0.9260 0.3545 -3.4710 1.2436\n",
      "bonds_payables_mt -0.0000   0.0000 -0.3859 0.6996 -0.0000 0.0000\n",
      "================================================================\n",
      "\n",
      "                         Results: Logit\n",
      "================================================================\n",
      "Model:              Logit            Pseudo R-squared: 0.028    \n",
      "Dependent Variable: default          AIC:              257.4054 \n",
      "Date:               2021-01-05 16:53 BIC:              266.3532 \n",
      "No. Observations:   648              Log-Likelihood:   -126.70  \n",
      "Df Model:           1                LL-Null:          -130.40  \n",
      "Df Residuals:       646              LLR p-value:      0.0065512\n",
      "Converged:          1.0000           Scale:            1.0000   \n",
      "No. Iterations:     12.0000                                     \n",
      "----------------------------------------------------------------\n",
      "                 Coef.  Std.Err.    z     P>|z|   [0.025  0.975]\n",
      "----------------------------------------------------------------\n",
      "const           -2.6973   0.1931 -13.9649 0.0000 -3.0758 -2.3187\n",
      "total_equity    -0.0000   0.0000  -1.5998 0.1096 -0.0000  0.0000\n",
      "================================================================\n"
     ]
    },
    {
     "name": "stdout",
     "output_type": "stream",
     "text": [
      "\n",
      "                        Results: Logit\n",
      "===============================================================\n",
      "Model:              Logit            Pseudo R-squared: 0.001   \n",
      "Dependent Variable: default          AIC:              295.2586\n",
      "Date:               2021-01-05 16:53 BIC:              304.2672\n",
      "No. Observations:   668              Log-Likelihood:   -145.63 \n",
      "Df Model:           1                LL-Null:          -145.83 \n",
      "Df Residuals:       666              LLR p-value:      0.52355 \n",
      "Converged:          1.0000           Scale:            1.0000  \n",
      "No. Iterations:     8.0000                                     \n",
      "---------------------------------------------------------------\n",
      "                Coef.  Std.Err.    z     P>|z|   [0.025  0.975]\n",
      "---------------------------------------------------------------\n",
      "const          -2.7837   0.1720 -16.1855 0.0000 -3.1208 -2.4466\n",
      "current_assets -0.0000   0.0000  -0.4684 0.6395 -0.0000  0.0000\n",
      "===============================================================\n",
      "\n",
      "                             Results: Logit\n",
      "========================================================================\n",
      "Model:                 Logit               Pseudo R-squared:    0.002   \n",
      "Dependent Variable:    default             AIC:                 295.1343\n",
      "Date:                  2021-01-05 16:53    BIC:                 304.1458\n",
      "No. Observations:      669                 Log-Likelihood:      -145.57 \n",
      "Df Model:              1                   LL-Null:             -145.89 \n",
      "Df Residuals:          667                 LLR p-value:         0.42074 \n",
      "Converged:             1.0000              Scale:               1.0000  \n",
      "No. Iterations:        9.0000                                           \n",
      "------------------------------------------------------------------------\n",
      "                         Coef.  Std.Err.    z     P>|z|   [0.025  0.975]\n",
      "------------------------------------------------------------------------\n",
      "const                   -2.7767   0.1733 -16.0208 0.0000 -3.1164 -2.4370\n",
      "monetary_current_assets -0.0000   0.0000  -0.5308 0.5956 -0.0000  0.0000\n",
      "========================================================================\n",
      "\n",
      "                         Results: Logit\n",
      "=================================================================\n",
      "Model:              Logit            Pseudo R-squared: 0.058     \n",
      "Dependent Variable: default          AIC:              264.7221  \n",
      "Date:               2021-01-05 16:53 BIC:              273.6356  \n",
      "No. Observations:   637              Log-Likelihood:   -130.36   \n",
      "Df Model:           1                LL-Null:          -138.40   \n",
      "Df Residuals:       635              LLR p-value:      6.0787e-05\n",
      "Converged:          1.0000           Scale:            1.0000    \n",
      "No. Iterations:     12.0000                                      \n",
      "-------------------------------------------------------------------\n",
      "          Coef.    Std.Err.      z       P>|z|     [0.025    0.975]\n",
      "-------------------------------------------------------------------\n",
      "const    -2.4119     0.1926   -12.5247   0.0000   -2.7893   -2.0344\n",
      "cash     -0.0000     0.0000    -2.0864   0.0369   -0.0000   -0.0000\n",
      "=================================================================\n",
      "\n",
      "                           Results: Logit\n",
      "=====================================================================\n",
      "Model:                Logit              Pseudo R-squared:   0.002   \n",
      "Dependent Variable:   default            AIC:                118.2358\n",
      "Date:                 2021-01-05 16:53   BIC:                125.7346\n",
      "No. Observations:     314                Log-Likelihood:     -57.118 \n",
      "Df Model:             1                  LL-Null:            -57.228 \n",
      "Df Residuals:         312                LLR p-value:        0.63913 \n",
      "Converged:            1.0000             Scale:              1.0000  \n",
      "No. Iterations:       10.0000                                        \n",
      "---------------------------------------------------------------------\n",
      "                      Coef.  Std.Err.    z     P>|z|   [0.025  0.975]\n",
      "---------------------------------------------------------------------\n",
      "const                -3.0359   0.2836 -10.7059 0.0000 -3.5917 -2.4801\n",
      "trade_receivables_st -0.0000   0.0000  -0.2782 0.7808 -0.0000  0.0000\n",
      "=====================================================================\n",
      "\n",
      "                        Results: Logit\n",
      "===============================================================\n",
      "Model:              Logit            Pseudo R-squared: 0.005   \n",
      "Dependent Variable: default          AIC:              294.1402\n",
      "Date:               2021-01-05 16:53 BIC:              303.1488\n",
      "No. Observations:   668              Log-Likelihood:   -145.07 \n",
      "Df Model:           1                LL-Null:          -145.83 \n",
      "Df Residuals:       666              LLR p-value:      0.21683 \n",
      "Converged:          1.0000           Scale:            1.0000  \n",
      "No. Iterations:     7.0000                                     \n",
      "---------------------------------------------------------------\n",
      "                Coef.  Std.Err.    z     P>|z|   [0.025  0.975]\n",
      "---------------------------------------------------------------\n",
      "const          -2.7851   0.1674 -16.6414 0.0000 -3.1131 -2.4571\n",
      "cf_operating   -0.0000   0.0000  -1.1682 0.2427 -0.0000  0.0000\n",
      "===============================================================\n",
      "\n",
      "                        Results: Logit\n",
      "===============================================================\n",
      "Model:              Logit            Pseudo R-squared: 0.004   \n",
      "Dependent Variable: default          AIC:              294.4077\n",
      "Date:               2021-01-05 16:53 BIC:              303.4163\n",
      "No. Observations:   668              Log-Likelihood:   -145.20 \n",
      "Df Model:           1                LL-Null:          -145.83 \n",
      "Df Residuals:       666              LLR p-value:      0.26207 \n",
      "Converged:          1.0000           Scale:            1.0000  \n",
      "No. Iterations:     8.0000                                     \n",
      "---------------------------------------------------------------\n",
      "                Coef.  Std.Err.    z     P>|z|   [0.025  0.975]\n",
      "---------------------------------------------------------------\n",
      "const          -2.7865   0.1674 -16.6479 0.0000 -3.1145 -2.4584\n",
      "cf_investment   0.0000   0.0000   0.9773 0.3284 -0.0000  0.0000\n",
      "===============================================================\n",
      "\n",
      "                        Results: Logit\n",
      "===============================================================\n",
      "Model:              Logit            Pseudo R-squared: 0.000   \n",
      "Dependent Variable: default          AIC:              295.6655\n",
      "Date:               2021-01-05 16:53 BIC:              304.6741\n",
      "No. Observations:   668              Log-Likelihood:   -145.83 \n",
      "Df Model:           1                LL-Null:          -145.83 \n",
      "Df Residuals:       666              LLR p-value:      0.99952 \n",
      "Converged:          1.0000           Scale:            1.0000  \n",
      "No. Iterations:     7.0000                                     \n",
      "---------------------------------------------------------------\n",
      "                Coef.  Std.Err.    z     P>|z|   [0.025  0.975]\n",
      "---------------------------------------------------------------\n",
      "const          -2.8081   0.1670 -16.8108 0.0000 -3.1355 -2.4807\n",
      "cf_financing   -0.0000   0.0000  -0.0006 0.9995 -0.0000  0.0000\n",
      "===============================================================\n",
      "\n",
      "                        Results: Logit\n",
      "===============================================================\n",
      "Model:              Logit            Pseudo R-squared: 0.000   \n",
      "Dependent Variable: default          AIC:              295.6596\n",
      "Date:               2021-01-05 16:53 BIC:              304.6712\n",
      "No. Observations:   669              Log-Likelihood:   -145.83 \n",
      "Df Model:           1                LL-Null:          -145.89 \n",
      "Df Residuals:       667              LLR p-value:      0.72592 \n",
      "Converged:          1.0000           Scale:            1.0000  \n",
      "No. Iterations:     7.0000                                     \n",
      "----------------------------------------------------------------\n",
      "            Coef.   Std.Err.     z      P>|z|    [0.025   0.975]\n",
      "----------------------------------------------------------------\n",
      "const      -2.8782    0.2572  -11.1898  0.0000  -3.3823  -2.3740\n",
      "age_num     0.0019    0.0054    0.3576  0.7206  -0.0087   0.0126\n",
      "===============================================================\n",
      "\n",
      "                        Results: Logit\n",
      "===============================================================\n",
      "Model:              Logit            Pseudo R-squared: 0.006   \n",
      "Dependent Variable: default          AIC:              293.9493\n",
      "Date:               2021-01-05 16:53 BIC:              302.9609\n",
      "No. Observations:   669              Log-Likelihood:   -144.97 \n",
      "Df Model:           1                LL-Null:          -145.89 \n",
      "Df Residuals:       667              LLR p-value:      0.17575 \n",
      "Converged:          1.0000           Scale:            1.0000  \n",
      "No. Iterations:     7.0000                                     \n",
      "----------------------------------------------------------------\n",
      "             Coef.   Std.Err.     z     P>|z|    [0.025   0.975]\n",
      "----------------------------------------------------------------\n",
      "const       -4.3751    1.1807  -3.7056  0.0002  -6.6892  -2.0611\n",
      "age_cat      0.4546    0.3346   1.3587  0.1742  -0.2012   1.1103\n",
      "===============================================================\n",
      "\n"
     ]
    }
   ],
   "source": [
    "col_list = df_train.columns[2:]\n",
    "col_list\n",
    "dictionary_logit = dict()\n",
    "\n",
    "for i in range(0,len(col_list)):\n",
    "    try:\n",
    "        univ_var = pd.concat((df_train['default'],df_train[col_list[i]]),axis=1)\n",
    "        y = univ_var[\"default\"]\n",
    "        X = univ_var.iloc[:,1]\n",
    "        X = sm.add_constant(X)\n",
    "        model = sm.Logit(y,X,missing=\"drop\").fit(disp=False,maxiter=100)\n",
    "        print(model.summary2()) #comment that out if you don't want to see the regression summary\n",
    "        pvalue = model.pvalues[1]\n",
    "        dictionary_logit[col_list[i]] = (pvalue,univ_var.iloc[:,1].isnull().sum())\n",
    "    except:\n",
    "        continue"
   ]
  },
  {
   "cell_type": "code",
   "execution_count": 166,
   "metadata": {
    "ExecuteTime": {
     "end_time": "2021-01-02T14:08:29.650916Z",
     "start_time": "2021-01-02T14:08:29.630462Z"
    }
   },
   "outputs": [
    {
     "data": {
      "text/html": [
       "<div>\n",
       "<style scoped>\n",
       "    .dataframe tbody tr th:only-of-type {\n",
       "        vertical-align: middle;\n",
       "    }\n",
       "\n",
       "    .dataframe tbody tr th {\n",
       "        vertical-align: top;\n",
       "    }\n",
       "\n",
       "    .dataframe thead th {\n",
       "        text-align: right;\n",
       "    }\n",
       "</style>\n",
       "<table border=\"1\" class=\"dataframe\">\n",
       "  <thead>\n",
       "    <tr style=\"text-align: right;\">\n",
       "      <th></th>\n",
       "      <th>P-Value</th>\n",
       "      <th>NAs</th>\n",
       "    </tr>\n",
       "  </thead>\n",
       "  <tbody>\n",
       "    <tr>\n",
       "      <th>cash</th>\n",
       "      <td>0.036941</td>\n",
       "      <td>32</td>\n",
       "    </tr>\n",
       "    <tr>\n",
       "      <th>year_inc</th>\n",
       "      <td>0.055606</td>\n",
       "      <td>0</td>\n",
       "    </tr>\n",
       "    <tr>\n",
       "      <th>total_equity</th>\n",
       "      <td>0.109640</td>\n",
       "      <td>21</td>\n",
       "    </tr>\n",
       "    <tr>\n",
       "      <th>gross_profit</th>\n",
       "      <td>0.153112</td>\n",
       "      <td>7</td>\n",
       "    </tr>\n",
       "    <tr>\n",
       "      <th>age_cat</th>\n",
       "      <td>0.174240</td>\n",
       "      <td>0</td>\n",
       "    </tr>\n",
       "    <tr>\n",
       "      <th>cf_operating</th>\n",
       "      <td>0.242710</td>\n",
       "      <td>1</td>\n",
       "    </tr>\n",
       "    <tr>\n",
       "      <th>bank_liabilities_lt</th>\n",
       "      <td>0.245019</td>\n",
       "      <td>545</td>\n",
       "    </tr>\n",
       "    <tr>\n",
       "      <th>zip_code</th>\n",
       "      <td>0.254582</td>\n",
       "      <td>0</td>\n",
       "    </tr>\n",
       "    <tr>\n",
       "      <th>total_liabilities_lt</th>\n",
       "      <td>0.259686</td>\n",
       "      <td>0</td>\n",
       "    </tr>\n",
       "    <tr>\n",
       "      <th>cf_investment</th>\n",
       "      <td>0.328421</td>\n",
       "      <td>1</td>\n",
       "    </tr>\n",
       "    <tr>\n",
       "      <th>total_assets</th>\n",
       "      <td>0.366245</td>\n",
       "      <td>1</td>\n",
       "    </tr>\n",
       "    <tr>\n",
       "      <th>result_from_ord_bus</th>\n",
       "      <td>0.421172</td>\n",
       "      <td>1</td>\n",
       "    </tr>\n",
       "    <tr>\n",
       "      <th>total_result</th>\n",
       "      <td>0.438376</td>\n",
       "      <td>0</td>\n",
       "    </tr>\n",
       "    <tr>\n",
       "      <th>bank_liabilities_mt</th>\n",
       "      <td>0.439548</td>\n",
       "      <td>483</td>\n",
       "    </tr>\n",
       "    <tr>\n",
       "      <th>oth_interest_exp</th>\n",
       "      <td>0.453637</td>\n",
       "      <td>62</td>\n",
       "    </tr>\n",
       "    <tr>\n",
       "      <th>earn_from_op</th>\n",
       "      <td>0.486441</td>\n",
       "      <td>1</td>\n",
       "    </tr>\n",
       "    <tr>\n",
       "      <th>total_liabilities_mt</th>\n",
       "      <td>0.509736</td>\n",
       "      <td>0</td>\n",
       "    </tr>\n",
       "    <tr>\n",
       "      <th>sales</th>\n",
       "      <td>0.511471</td>\n",
       "      <td>1</td>\n",
       "    </tr>\n",
       "    <tr>\n",
       "      <th>gross_performance</th>\n",
       "      <td>0.580383</td>\n",
       "      <td>7</td>\n",
       "    </tr>\n",
       "    <tr>\n",
       "      <th>monetary_current_assets</th>\n",
       "      <td>0.595561</td>\n",
       "      <td>0</td>\n",
       "    </tr>\n",
       "    <tr>\n",
       "      <th>annual_profit</th>\n",
       "      <td>0.602697</td>\n",
       "      <td>1</td>\n",
       "    </tr>\n",
       "    <tr>\n",
       "      <th>oth_interest_inc</th>\n",
       "      <td>0.621381</td>\n",
       "      <td>127</td>\n",
       "    </tr>\n",
       "    <tr>\n",
       "      <th>total_liabilities_st</th>\n",
       "      <td>0.633830</td>\n",
       "      <td>0</td>\n",
       "    </tr>\n",
       "    <tr>\n",
       "      <th>current_assets</th>\n",
       "      <td>0.639518</td>\n",
       "      <td>1</td>\n",
       "    </tr>\n",
       "    <tr>\n",
       "      <th>bonds_payables_mt</th>\n",
       "      <td>0.699565</td>\n",
       "      <td>664</td>\n",
       "    </tr>\n",
       "    <tr>\n",
       "      <th>bank_liabilities_st</th>\n",
       "      <td>0.701179</td>\n",
       "      <td>352</td>\n",
       "    </tr>\n",
       "    <tr>\n",
       "      <th>age_num</th>\n",
       "      <td>0.720622</td>\n",
       "      <td>0</td>\n",
       "    </tr>\n",
       "    <tr>\n",
       "      <th>fin_result</th>\n",
       "      <td>0.736363</td>\n",
       "      <td>22</td>\n",
       "    </tr>\n",
       "    <tr>\n",
       "      <th>trade_payables_mt</th>\n",
       "      <td>0.768325</td>\n",
       "      <td>648</td>\n",
       "    </tr>\n",
       "    <tr>\n",
       "      <th>trade_receivables_st</th>\n",
       "      <td>0.780828</td>\n",
       "      <td>355</td>\n",
       "    </tr>\n",
       "    <tr>\n",
       "      <th>sector</th>\n",
       "      <td>0.831781</td>\n",
       "      <td>0</td>\n",
       "    </tr>\n",
       "    <tr>\n",
       "      <th>count_emp</th>\n",
       "      <td>0.905279</td>\n",
       "      <td>353</td>\n",
       "    </tr>\n",
       "    <tr>\n",
       "      <th>trade_payables_st</th>\n",
       "      <td>0.990767</td>\n",
       "      <td>143</td>\n",
       "    </tr>\n",
       "    <tr>\n",
       "      <th>cf_financing</th>\n",
       "      <td>0.999522</td>\n",
       "      <td>1</td>\n",
       "    </tr>\n",
       "  </tbody>\n",
       "</table>\n",
       "</div>"
      ],
      "text/plain": [
       "                          P-Value  NAs\n",
       "cash                     0.036941   32\n",
       "year_inc                 0.055606    0\n",
       "total_equity             0.109640   21\n",
       "gross_profit             0.153112    7\n",
       "age_cat                  0.174240    0\n",
       "cf_operating             0.242710    1\n",
       "bank_liabilities_lt      0.245019  545\n",
       "zip_code                 0.254582    0\n",
       "total_liabilities_lt     0.259686    0\n",
       "cf_investment            0.328421    1\n",
       "total_assets             0.366245    1\n",
       "result_from_ord_bus      0.421172    1\n",
       "total_result             0.438376    0\n",
       "bank_liabilities_mt      0.439548  483\n",
       "oth_interest_exp         0.453637   62\n",
       "earn_from_op             0.486441    1\n",
       "total_liabilities_mt     0.509736    0\n",
       "sales                    0.511471    1\n",
       "gross_performance        0.580383    7\n",
       "monetary_current_assets  0.595561    0\n",
       "annual_profit            0.602697    1\n",
       "oth_interest_inc         0.621381  127\n",
       "total_liabilities_st     0.633830    0\n",
       "current_assets           0.639518    1\n",
       "bonds_payables_mt        0.699565  664\n",
       "bank_liabilities_st      0.701179  352\n",
       "age_num                  0.720622    0\n",
       "fin_result               0.736363   22\n",
       "trade_payables_mt        0.768325  648\n",
       "trade_receivables_st     0.780828  355\n",
       "sector                   0.831781    0\n",
       "count_emp                0.905279  353\n",
       "trade_payables_st        0.990767  143\n",
       "cf_financing             0.999522    1"
      ]
     },
     "execution_count": 166,
     "metadata": {},
     "output_type": "execute_result"
    }
   ],
   "source": [
    "pd.DataFrame.from_dict(dictionary_logit,orient=\"index\",columns=['P-Value','NAs']).sort_values(by=\"P-Value\")"
   ]
  },
  {
   "cell_type": "markdown",
   "metadata": {},
   "source": [
    "Speaking in an univariate context, what we can see here is that no variable shows a very strong significance in the univariate logistic regression with the default variable as dependent variable. Also some variables can be disregarded as their numerical value makes no sense (e.g.: year_inc).  Thus we can argue, that a focus on economic reasoning instead of p-values in the univariate context is a better way to go. "
   ]
  },
  {
   "cell_type": "markdown",
   "metadata": {},
   "source": [
    "### Mann-Whitney U Test\n",
    "Also we perform a Mann-Whitney U Test for all variables to see if there is a difference in those variables between default and non default firms."
   ]
  },
  {
   "cell_type": "code",
   "execution_count": 167,
   "metadata": {
    "ExecuteTime": {
     "end_time": "2021-01-02T14:08:31.326255Z",
     "start_time": "2021-01-02T14:08:31.053432Z"
    }
   },
   "outputs": [],
   "source": [
    "col_list\n",
    "\n",
    "dictionary_mannu = dict()\n",
    "\n",
    "for i in range(0,len(col_list)):\n",
    "    try: \n",
    "        group_default = df_train[df_train[\"default\"]==1][col_list[i]]\n",
    "        group_non_default = df_train[df_train[\"default\"]==0][col_list[i]]\n",
    "        test_stat, pvalue = sci.stats.mannwhitneyu(group_default,group_non_default)\n",
    "        dictionary_mannu[col_list[i]] = test_stat, pvalue, df_train[col_list[i]].isnull().sum()\n",
    "    except:\n",
    "        continue\n",
    "\n",
    "#sns.boxplot(x=\"default\",y=np.log(df_train[col_list[6]]),data=df_train)"
   ]
  },
  {
   "cell_type": "code",
   "execution_count": 168,
   "metadata": {
    "ExecuteTime": {
     "end_time": "2021-01-02T14:08:31.850798Z",
     "start_time": "2021-01-02T14:08:31.833387Z"
    }
   },
   "outputs": [
    {
     "data": {
      "text/html": [
       "<div>\n",
       "<style scoped>\n",
       "    .dataframe tbody tr th:only-of-type {\n",
       "        vertical-align: middle;\n",
       "    }\n",
       "\n",
       "    .dataframe tbody tr th {\n",
       "        vertical-align: top;\n",
       "    }\n",
       "\n",
       "    .dataframe thead th {\n",
       "        text-align: right;\n",
       "    }\n",
       "</style>\n",
       "<table border=\"1\" class=\"dataframe\">\n",
       "  <thead>\n",
       "    <tr style=\"text-align: right;\">\n",
       "      <th></th>\n",
       "      <th>Test statistic</th>\n",
       "      <th>P-Value</th>\n",
       "      <th>NAs</th>\n",
       "    </tr>\n",
       "  </thead>\n",
       "  <tbody>\n",
       "    <tr>\n",
       "      <th>cash</th>\n",
       "      <td>7716.0</td>\n",
       "      <td>0.000111</td>\n",
       "      <td>32</td>\n",
       "    </tr>\n",
       "    <tr>\n",
       "      <th>trade_receivables_lt</th>\n",
       "      <td>8339.0</td>\n",
       "      <td>0.000805</td>\n",
       "      <td>645</td>\n",
       "    </tr>\n",
       "    <tr>\n",
       "      <th>trade_payables_lt</th>\n",
       "      <td>8430.0</td>\n",
       "      <td>0.001051</td>\n",
       "      <td>665</td>\n",
       "    </tr>\n",
       "    <tr>\n",
       "      <th>bonds_payables_st</th>\n",
       "      <td>8471.0</td>\n",
       "      <td>0.001183</td>\n",
       "      <td>669</td>\n",
       "    </tr>\n",
       "    <tr>\n",
       "      <th>bonds_payables_lt</th>\n",
       "      <td>8471.0</td>\n",
       "      <td>0.001183</td>\n",
       "      <td>669</td>\n",
       "    </tr>\n",
       "    <tr>\n",
       "      <th>monetary_current_assets</th>\n",
       "      <td>8712.0</td>\n",
       "      <td>0.002315</td>\n",
       "      <td>0</td>\n",
       "    </tr>\n",
       "    <tr>\n",
       "      <th>bonds_payables_mt</th>\n",
       "      <td>8855.0</td>\n",
       "      <td>0.003383</td>\n",
       "      <td>664</td>\n",
       "    </tr>\n",
       "    <tr>\n",
       "      <th>result_from_ord_bus</th>\n",
       "      <td>8910.0</td>\n",
       "      <td>0.003900</td>\n",
       "      <td>1</td>\n",
       "    </tr>\n",
       "    <tr>\n",
       "      <th>total_result</th>\n",
       "      <td>8993.0</td>\n",
       "      <td>0.004814</td>\n",
       "      <td>0</td>\n",
       "    </tr>\n",
       "    <tr>\n",
       "      <th>trade_payables_mt</th>\n",
       "      <td>9057.0</td>\n",
       "      <td>0.005645</td>\n",
       "      <td>648</td>\n",
       "    </tr>\n",
       "    <tr>\n",
       "      <th>cf_operating</th>\n",
       "      <td>9114.0</td>\n",
       "      <td>0.006490</td>\n",
       "      <td>1</td>\n",
       "    </tr>\n",
       "    <tr>\n",
       "      <th>bank_liabilities_st</th>\n",
       "      <td>9128.0</td>\n",
       "      <td>0.006714</td>\n",
       "      <td>352</td>\n",
       "    </tr>\n",
       "    <tr>\n",
       "      <th>sales</th>\n",
       "      <td>9176.0</td>\n",
       "      <td>0.007534</td>\n",
       "      <td>1</td>\n",
       "    </tr>\n",
       "    <tr>\n",
       "      <th>gross_performance</th>\n",
       "      <td>9239.0</td>\n",
       "      <td>0.008744</td>\n",
       "      <td>7</td>\n",
       "    </tr>\n",
       "    <tr>\n",
       "      <th>gross_profit</th>\n",
       "      <td>9247.0</td>\n",
       "      <td>0.008909</td>\n",
       "      <td>7</td>\n",
       "    </tr>\n",
       "    <tr>\n",
       "      <th>total_assets</th>\n",
       "      <td>9396.0</td>\n",
       "      <td>0.012526</td>\n",
       "      <td>1</td>\n",
       "    </tr>\n",
       "    <tr>\n",
       "      <th>earn_from_op</th>\n",
       "      <td>9443.0</td>\n",
       "      <td>0.013904</td>\n",
       "      <td>1</td>\n",
       "    </tr>\n",
       "    <tr>\n",
       "      <th>total_equity</th>\n",
       "      <td>9483.0</td>\n",
       "      <td>0.015177</td>\n",
       "      <td>21</td>\n",
       "    </tr>\n",
       "    <tr>\n",
       "      <th>current_assets</th>\n",
       "      <td>9640.0</td>\n",
       "      <td>0.021192</td>\n",
       "      <td>1</td>\n",
       "    </tr>\n",
       "    <tr>\n",
       "      <th>cf_financing</th>\n",
       "      <td>9788.5</td>\n",
       "      <td>0.028624</td>\n",
       "      <td>1</td>\n",
       "    </tr>\n",
       "    <tr>\n",
       "      <th>count_emp</th>\n",
       "      <td>10015.5</td>\n",
       "      <td>0.044079</td>\n",
       "      <td>353</td>\n",
       "    </tr>\n",
       "    <tr>\n",
       "      <th>bank_liabilities_lt</th>\n",
       "      <td>10153.0</td>\n",
       "      <td>0.056329</td>\n",
       "      <td>545</td>\n",
       "    </tr>\n",
       "    <tr>\n",
       "      <th>cf_investment</th>\n",
       "      <td>10163.0</td>\n",
       "      <td>0.057288</td>\n",
       "      <td>1</td>\n",
       "    </tr>\n",
       "    <tr>\n",
       "      <th>annual_profit</th>\n",
       "      <td>10207.0</td>\n",
       "      <td>0.061813</td>\n",
       "      <td>1</td>\n",
       "    </tr>\n",
       "    <tr>\n",
       "      <th>legal_form</th>\n",
       "      <td>10606.5</td>\n",
       "      <td>0.064015</td>\n",
       "      <td>0</td>\n",
       "    </tr>\n",
       "    <tr>\n",
       "      <th>age_cat</th>\n",
       "      <td>10649.5</td>\n",
       "      <td>0.085815</td>\n",
       "      <td>0</td>\n",
       "    </tr>\n",
       "    <tr>\n",
       "      <th>total_liabilities_mt</th>\n",
       "      <td>10565.5</td>\n",
       "      <td>0.096754</td>\n",
       "      <td>0</td>\n",
       "    </tr>\n",
       "    <tr>\n",
       "      <th>total_liabilities_st</th>\n",
       "      <td>10511.0</td>\n",
       "      <td>0.100810</td>\n",
       "      <td>0</td>\n",
       "    </tr>\n",
       "    <tr>\n",
       "      <th>total_liabilities_lt</th>\n",
       "      <td>10899.0</td>\n",
       "      <td>0.147415</td>\n",
       "      <td>0</td>\n",
       "    </tr>\n",
       "    <tr>\n",
       "      <th>zip_code</th>\n",
       "      <td>10802.5</td>\n",
       "      <td>0.152677</td>\n",
       "      <td>0</td>\n",
       "    </tr>\n",
       "    <tr>\n",
       "      <th>trade_receivables_st</th>\n",
       "      <td>10885.0</td>\n",
       "      <td>0.170114</td>\n",
       "      <td>355</td>\n",
       "    </tr>\n",
       "    <tr>\n",
       "      <th>year_inc</th>\n",
       "      <td>11230.0</td>\n",
       "      <td>0.255962</td>\n",
       "      <td>0</td>\n",
       "    </tr>\n",
       "    <tr>\n",
       "      <th>age_num</th>\n",
       "      <td>11232.5</td>\n",
       "      <td>0.256658</td>\n",
       "      <td>0</td>\n",
       "    </tr>\n",
       "    <tr>\n",
       "      <th>type_pl</th>\n",
       "      <td>11875.0</td>\n",
       "      <td>0.274012</td>\n",
       "      <td>0</td>\n",
       "    </tr>\n",
       "    <tr>\n",
       "      <th>fin_result</th>\n",
       "      <td>11339.0</td>\n",
       "      <td>0.287283</td>\n",
       "      <td>22</td>\n",
       "    </tr>\n",
       "    <tr>\n",
       "      <th>bank_liabilities_mt</th>\n",
       "      <td>11556.0</td>\n",
       "      <td>0.354279</td>\n",
       "      <td>483</td>\n",
       "    </tr>\n",
       "    <tr>\n",
       "      <th>oth_interest_exp</th>\n",
       "      <td>11594.0</td>\n",
       "      <td>0.366570</td>\n",
       "      <td>62</td>\n",
       "    </tr>\n",
       "    <tr>\n",
       "      <th>oth_interest_inc</th>\n",
       "      <td>11622.0</td>\n",
       "      <td>0.375716</td>\n",
       "      <td>127</td>\n",
       "    </tr>\n",
       "    <tr>\n",
       "      <th>trade_payables_st</th>\n",
       "      <td>11748.0</td>\n",
       "      <td>0.417671</td>\n",
       "      <td>143</td>\n",
       "    </tr>\n",
       "    <tr>\n",
       "      <th>sector</th>\n",
       "      <td>11780.5</td>\n",
       "      <td>0.428665</td>\n",
       "      <td>0</td>\n",
       "    </tr>\n",
       "  </tbody>\n",
       "</table>\n",
       "</div>"
      ],
      "text/plain": [
       "                         Test statistic   P-Value  NAs\n",
       "cash                             7716.0  0.000111   32\n",
       "trade_receivables_lt             8339.0  0.000805  645\n",
       "trade_payables_lt                8430.0  0.001051  665\n",
       "bonds_payables_st                8471.0  0.001183  669\n",
       "bonds_payables_lt                8471.0  0.001183  669\n",
       "monetary_current_assets          8712.0  0.002315    0\n",
       "bonds_payables_mt                8855.0  0.003383  664\n",
       "result_from_ord_bus              8910.0  0.003900    1\n",
       "total_result                     8993.0  0.004814    0\n",
       "trade_payables_mt                9057.0  0.005645  648\n",
       "cf_operating                     9114.0  0.006490    1\n",
       "bank_liabilities_st              9128.0  0.006714  352\n",
       "sales                            9176.0  0.007534    1\n",
       "gross_performance                9239.0  0.008744    7\n",
       "gross_profit                     9247.0  0.008909    7\n",
       "total_assets                     9396.0  0.012526    1\n",
       "earn_from_op                     9443.0  0.013904    1\n",
       "total_equity                     9483.0  0.015177   21\n",
       "current_assets                   9640.0  0.021192    1\n",
       "cf_financing                     9788.5  0.028624    1\n",
       "count_emp                       10015.5  0.044079  353\n",
       "bank_liabilities_lt             10153.0  0.056329  545\n",
       "cf_investment                   10163.0  0.057288    1\n",
       "annual_profit                   10207.0  0.061813    1\n",
       "legal_form                      10606.5  0.064015    0\n",
       "age_cat                         10649.5  0.085815    0\n",
       "total_liabilities_mt            10565.5  0.096754    0\n",
       "total_liabilities_st            10511.0  0.100810    0\n",
       "total_liabilities_lt            10899.0  0.147415    0\n",
       "zip_code                        10802.5  0.152677    0\n",
       "trade_receivables_st            10885.0  0.170114  355\n",
       "year_inc                        11230.0  0.255962    0\n",
       "age_num                         11232.5  0.256658    0\n",
       "type_pl                         11875.0  0.274012    0\n",
       "fin_result                      11339.0  0.287283   22\n",
       "bank_liabilities_mt             11556.0  0.354279  483\n",
       "oth_interest_exp                11594.0  0.366570   62\n",
       "oth_interest_inc                11622.0  0.375716  127\n",
       "trade_payables_st               11748.0  0.417671  143\n",
       "sector                          11780.5  0.428665    0"
      ]
     },
     "execution_count": 168,
     "metadata": {},
     "output_type": "execute_result"
    }
   ],
   "source": [
    "pd.DataFrame.from_dict(dictionary_mannu,orient=\"index\",\n",
    "                       columns=['Test statistic','P-Value','NAs']).sort_values(by=\"P-Value\")"
   ]
  },
  {
   "cell_type": "markdown",
   "metadata": {},
   "source": [
    "# Variables\n",
    "by Flave, kann zwecks Übersichtlichkeit evtl ganz oben dazu wo age bereits bearbeitet wird"
   ]
  },
  {
   "cell_type": "code",
   "execution_count": 169,
   "metadata": {
    "ExecuteTime": {
     "end_time": "2021-01-02T14:08:33.786178Z",
     "start_time": "2021-01-02T14:08:33.780696Z"
    }
   },
   "outputs": [],
   "source": [
    "# # drop companies with to many null columns \n",
    "df_train = df_train.loc[df_train[\"id\"] != 'C_620'] \n",
    "# --> das ist gar nicht gut, ich brauche hier einen loop der entweder alle comps mit mehr als x Spalten NaNs dropt\n",
    "# oder loop der alle corr Spalten checkt und wenn NaN dann drop comp"
   ]
  },
  {
   "cell_type": "markdown",
   "metadata": {},
   "source": [
    "#### Ebit Margin"
   ]
  },
  {
   "cell_type": "code",
   "execution_count": 170,
   "metadata": {
    "ExecuteTime": {
     "end_time": "2021-01-02T14:08:36.404792Z",
     "start_time": "2021-01-02T14:08:36.240293Z"
    }
   },
   "outputs": [],
   "source": [
    "df_train['ebit_margin'] = df_train['earn_from_op']/df_train['sales']\n",
    "df_train['ebit_margin'] = sci.stats.mstats.winsorize(df_train['ebit_margin'], limits =[0.02, 0.01])\n",
    "# print(df_train['profit_margin'].isnull().sum())\n",
    "# print(df_train['profit_margin'].describe())\n",
    "# print(df_train['profit_margin'].value_counts())\n",
    "df_test['ebit_margin'] = df_test['earn_from_op']/df_test['sales']"
   ]
  },
  {
   "cell_type": "markdown",
   "metadata": {},
   "source": [
    "#### Profit Margin"
   ]
  },
  {
   "cell_type": "code",
   "execution_count": 171,
   "metadata": {
    "ExecuteTime": {
     "end_time": "2021-01-02T14:08:37.611064Z",
     "start_time": "2021-01-02T14:08:37.392712Z"
    }
   },
   "outputs": [],
   "source": [
    "df_train['gross_profit'] = df_train['gross_profit'].replace(np.nan, np.quantile(df_train['gross_profit'].dropna(),.5))\n",
    "df_train['profit_margin'] = df_train['gross_profit']/df_train['sales']\n",
    "df_train['profit_margin'] = sci.stats.mstats.winsorize(df_train['profit_margin'], limits =[0.0, 0.02])\n",
    "# print(df_train['profit_margin'].isnull().sum())\n",
    "# print(df_train['profit_margin'].describe())\n",
    "# print(df_train['profit_margin'].value_counts())\n",
    "df_test['gross_profit'] = df_test['gross_profit'].replace(np.nan, np.quantile(df_test['gross_profit'].dropna(),.5))\n",
    "df_test['profit_margin'] = df_test['gross_profit']/df_test['sales']"
   ]
  },
  {
   "cell_type": "markdown",
   "metadata": {},
   "source": [
    "#### Cash"
   ]
  },
  {
   "cell_type": "code",
   "execution_count": 172,
   "metadata": {
    "ExecuteTime": {
     "end_time": "2021-01-02T14:08:38.593548Z",
     "start_time": "2021-01-02T14:08:38.406020Z"
    }
   },
   "outputs": [],
   "source": [
    "df_train['cash'] = df_train['cash'].replace(np.nan, np.quantile(df_train['cash'].dropna(),.5))\n",
    "df_train['cash'] = sci.stats.mstats.winsorize(df_train['cash'], limits =[0.0, 0.015])\n",
    "#df_train['cash'] = np.log(df_train['cash'])\n",
    "# print(df_train['cash'].isnull().sum())\n",
    "# print(df_train['cash'].describe())\n",
    "# print(df_train['cash'].value_counts())\n",
    "# plt.boxplot(df_train['cash'])\n",
    "# plt.show()\n",
    "df_test['cash'] = df_test['cash'].replace(np.nan, np.quantile(df_test['cash'].dropna(),.5))"
   ]
  },
  {
   "cell_type": "markdown",
   "metadata": {},
   "source": [
    "#### Working Capital Ratio\n",
    "= current assets/current liabilities (liquidity ratios measuring a companies ability to meet its short term dept obligations)"
   ]
  },
  {
   "cell_type": "code",
   "execution_count": 173,
   "metadata": {},
   "outputs": [],
   "source": [
    "df_train['wc_ratio'] = df_train['current_assets']/df_train['total_liabilities_st']\n",
    "df_train['wc_ratio'] = sci.stats.mstats.winsorize(df_train['wc_ratio'], limits =[0, 0.02])\n",
    "df_test['wc_ratio'] = df_test['current_assets']/df_test['total_liabilities_st']\n",
    "# print(df_train.wc_ratio)\n",
    "# print(df_train.wc_ratio.describe())"
   ]
  },
  {
   "cell_type": "markdown",
   "metadata": {},
   "source": [
    "#### Operating Profit Ratio \n",
    "= operating cf/sales"
   ]
  },
  {
   "cell_type": "code",
   "execution_count": 177,
   "metadata": {},
   "outputs": [],
   "source": [
    "cf_pos = np.where(df_train['cf_operating'] > 1, df_train['cf_operating'], 0)\n",
    "cf_neg = np.where(df_train['cf_operating'] < -1, df_train['cf_operating'], 0)\n",
    "df_train['ocf_ratio'] = df_train['cf_operating']/df_train['sales']\n",
    "df_train['ocf_ratio'] = sci.stats.mstats.winsorize(df_train['ocf_ratio'], limits =[0.01, 0.02])\n",
    "# print(df_train.ocf_ratio)\n",
    "# print(df_train.ocf_ratio.describe())\n",
    "# print(df_train['ocf_ratio'].value_counts())\n",
    "df_test['ocf_ratio'] = df_test['cf_operating']/df_test['sales']"
   ]
  },
  {
   "cell_type": "markdown",
   "metadata": {},
   "source": [
    "#### Equity Ratio \n",
    "First predict NaN's for total equity"
   ]
  },
  {
   "cell_type": "code",
   "execution_count": 178,
   "metadata": {},
   "outputs": [
    {
     "name": "stdout",
     "output_type": "stream",
     "text": [
      "corr total eqity x total result: 0.8677428854384167\n",
      "corr total eqity x total assets: 0.7973909460204517\n",
      "corr total eqity x operating cash flow: 0.8165188337701584\n",
      "[ 804154.57039482  826770.3743369   750108.4400077  2034060.76386615\n",
      "  906958.71620787  757800.9886018   694739.75133316  777633.44217636\n",
      " 1031927.82907443  707250.9930617   798206.66922869  753555.95951814\n",
      "  938481.58223854  838818.88678533  728338.08877873  658229.22939662\n",
      "  757045.94589862 3707034.78681172  430054.79880166  809294.10299164]\n"
     ]
    }
   ],
   "source": [
    "# Check for correlation to get relevant variables for regression\n",
    "print('corr total eqity x total result: ' + str(df_train['total_equity'].corr(df_train['total_result'])))\n",
    "print('corr total eqity x total assets: ' + str(df_train['total_equity'].corr(df_train['total_assets'])))\n",
    "print('corr total eqity x operating cash flow: ' + str(df_train['total_equity'].corr(df_train['cf_operating'])))\n",
    "\n",
    "cols = ['total_result', 'total_assets', 'cf_operating', 'total_equity']\n",
    "df = df_train[cols]\n",
    "test_df = df[df['total_equity'].isnull()]\n",
    "df = df.dropna()\n",
    "\n",
    "# Split training and prediction dataset\n",
    "y_train = df['total_equity']\n",
    "X_train = df.drop('total_equity', axis=1)\n",
    "X_test = test_df.drop('total_equity', axis=1)\n",
    "\n",
    "#Train model to fit dataset and predict missing values from column total equity and replace them\n",
    "model = LinearRegression()\n",
    "model.fit(X_train, y_train)\n",
    "y_pred = model.predict(X_test)\n",
    "print(y_pred)\n",
    "\n",
    "# Replace the missing values with predicted values\n",
    "df_train.loc[df_train.total_equity.isnull(), 'total_equity'] = y_pred\n",
    "# print(df_train['total_equity'].isnull().sum())\n",
    "# print(df_train['total_equity'].describe())\n",
    "# print(df_train['total_equity'].value_counts())"
   ]
  },
  {
   "cell_type": "markdown",
   "metadata": {},
   "source": [
    "Calculate ratio: total equity / total assets"
   ]
  },
  {
   "cell_type": "code",
   "execution_count": 179,
   "metadata": {},
   "outputs": [],
   "source": [
    "df_train['equity_ratio'] = np.where(df_train['total_equity'] > 1, df_train['total_equity']/df_train['total_assets'], 0)\n",
    "df_train['equity_ratio'] = sci.stats.mstats.winsorize(df_train['equity_ratio'], limits =[0.0, 0.02])\n",
    "# print(df_train.equity_ratio)\n",
    "# print(df_train.equity_ratio.describe())\n",
    "# print(df_train.equity_ratio.value_counts())\n",
    "df_test['equity_ratio'] = np.where(df_test['total_equity'] > 1, df_test['total_equity']/df_test['total_assets'], 0)"
   ]
  },
  {
   "cell_type": "markdown",
   "metadata": {},
   "source": [
    "#### Debt-to-Equity Ratio  \n",
    "= total dept/total equity"
   ]
  },
  {
   "cell_type": "code",
   "execution_count": 180,
   "metadata": {},
   "outputs": [],
   "source": [
    "df_train['total_liabilities'] = df_train['total_liabilities_st'] + df_train['total_liabilities_mt'] + df_train['total_liabilities_lt']\n",
    "df_train['debt_to_equity'] = np.where(df_train['total_equity'] > 1, df_train['total_liabilities']/df_train['total_equity'], 0)\n",
    "df_train['debt_to_equity'] = sci.stats.mstats.winsorize(df_train['debt_to_equity'], limits =[0.0, 0.02])\n",
    "# df_train['debt_to_equity'] = np.where(df_train['debt_to_equity'] > 0, np.log(df_train['debt_to_equity']), 0)\n",
    "\n",
    "# print(df_train.debt_to_equity.describe())\n",
    "# print(df_train.debt_to_equity)\n",
    "# print(df_train.debt_to_equity.value_counts())\n",
    "df_test['total_liabilities'] = df_test['total_liabilities_st'] + df_test['total_liabilities_mt'] + df_test['total_liabilities_lt']\n",
    "df_test['debt_to_equity'] = np.where(df_test['total_equity'] > 1, df_test['total_liabilities']/df_test['total_equity'], 0)"
   ]
  },
  {
   "cell_type": "markdown",
   "metadata": {},
   "source": [
    "#### Return on Assets"
   ]
  },
  {
   "cell_type": "code",
   "execution_count": 181,
   "metadata": {},
   "outputs": [],
   "source": [
    "df_train['roa'] = df_train['annual_profit']/df_train['total_assets']\n",
    "df_test['roa'] = df_test['annual_profit']/df_test['total_assets']"
   ]
  },
  {
   "cell_type": "markdown",
   "metadata": {},
   "source": [
    "### Boxplots for Ratios"
   ]
  },
  {
   "cell_type": "code",
   "execution_count": 182,
   "metadata": {},
   "outputs": [
    {
     "data": {
      "image/png": "[encoded data removed]",
      "text/plain": [
       "<Figure size 1080x1080 with 8 Axes>"
      ]
     },
     "metadata": {
      "needs_background": "light"
     },
     "output_type": "display_data"
    }
   ],
   "source": [
    "f, ax = plt.subplots(4, 2, figsize=(15, 15))\n",
    "\n",
    "ax[0,0].boxplot(df_train['ebit_margin'])\n",
    "ax[0,0].set_title('EBIT Margin')\n",
    "ax[0,1].boxplot(df_train['profit_margin'])\n",
    "ax[0,1].set_title('Profit Margin')\n",
    "ax[1,0].boxplot(df_train['wc_ratio'])\n",
    "ax[1,0].set_title('wc_ratio')\n",
    "ax[1,1].boxplot(df_train['ocf_ratio'])\n",
    "ax[1,1].set_title('ocf_ratio')\n",
    "ax[2,0].boxplot(df_train['equity_ratio'])\n",
    "ax[2,0].set_title('equity_ratio')\n",
    "ax[2,1].boxplot(df_train['debt_to_equity'])\n",
    "ax[2,1].set_title('debt_to_equity')\n",
    "ax[3,0].boxplot(df_train['roa'])\n",
    "ax[3,0].set_title('roa')\n",
    "ax[3,1].boxplot(df_train['cash'])\n",
    "ax[3,1].set_title('cash')\n",
    "plt.show()"
   ]
  },
  {
   "cell_type": "markdown",
   "metadata": {},
   "source": [
    "### Summary Flaves Ratios and Variables"
   ]
  },
  {
   "cell_type": "code",
   "execution_count": 127,
   "metadata": {},
   "outputs": [
    {
     "name": "stdout",
     "output_type": "stream",
     "text": [
      "   ebit_margin  profit_margin         cash   wc_ratio  ocf_ratio  \\\n",
      "0     0.061157       0.361114  10297047.50   5.142587   0.065368   \n",
      "1     0.027363       1.104725    926383.75   0.663710  -1.713468   \n",
      "2     0.023240       2.640070   9146283.79   3.328108   2.471134   \n",
      "3     0.133260       2.640070   6890565.23   3.193566   0.391307   \n",
      "4     0.489225       1.135876   5036615.09   0.102055   1.178664   \n",
      "5     0.495412       1.072966     75679.79  12.899702   0.398513   \n",
      "6     0.313524       0.713560  11542490.91   0.834046   0.265676   \n",
      "7    -0.471429       0.148888  21696000.00   1.483001   2.061521   \n",
      "8     0.385857       0.622833    322573.88   0.394765   0.044533   \n",
      "9     0.940537       2.272888     35726.57   0.711538   1.406577   \n",
      "\n",
      "   equity_ratio  debt_to_equity           roa  \n",
      "0      0.738567        0.352444  1.494000e-01  \n",
      "1      0.389698        1.560542  9.655827e-02  \n",
      "2      0.000937      163.778649 -2.540307e-17  \n",
      "3      0.592532        0.236311  2.980723e-02  \n",
      "4      0.417496        1.329259  2.607926e-02  \n",
      "5      0.933551        0.071179  1.822039e-01  \n",
      "6      0.648681        0.541591  2.871490e-02  \n",
      "7      0.900519        0.099061  1.980476e-01  \n",
      "8      0.212951        3.695925  1.099861e-17  \n",
      "9      0.689870        0.449549  7.265754e-02  \n",
      "<class 'pandas.core.frame.DataFrame'>\n",
      "Int64Index: 668 entries, 0 to 668\n",
      "Data columns (total 8 columns):\n",
      " #   Column          Non-Null Count  Dtype  \n",
      "---  ------          --------------  -----  \n",
      " 0   ebit_margin     668 non-null    float64\n",
      " 1   profit_margin   668 non-null    float64\n",
      " 2   cash            668 non-null    float64\n",
      " 3   wc_ratio        668 non-null    float64\n",
      " 4   ocf_ratio       668 non-null    float64\n",
      " 5   equity_ratio    668 non-null    float64\n",
      " 6   debt_to_equity  668 non-null    float64\n",
      " 7   roa             668 non-null    float64\n",
      "dtypes: float64(8)\n",
      "memory usage: 47.0 KB\n",
      "None\n"
     ]
    },
    {
     "data": {
      "image/png": "[encoded data removed]",
      "text/plain": [
       "<Figure size 432x288 with 2 Axes>"
      ]
     },
     "metadata": {
      "needs_background": "light"
     },
     "output_type": "display_data"
    }
   ],
   "source": [
    "col = ['ebit_margin', 'profit_margin', 'cash', 'wc_ratio', 'ocf_ratio', 'equity_ratio', 'debt_to_equity', 'roa']\n",
    "data = df_train[col]\n",
    "print(data.head(10))\n",
    "print(data.info())\n",
    "\n",
    "df_corr = data.corr()\n",
    "mask = np.triu(np.ones_like(df_corr, dtype=np.bool))\n",
    "mask = mask[1:, :-1]\n",
    "corr = df_corr.iloc[1:,:-1].copy()\n",
    "heatmap = sns.heatmap(corr, mask=mask, vmin=-1, vmax=1, annot=True, cmap=\"coolwarm\")\n",
    "heatmap.set_title('Correlation Heatmap')\n",
    "plt.show()"
   ]
  },
  {
   "cell_type": "markdown",
   "metadata": {},
   "source": [
    "# Visualize differences in our variables of interest between default and non default \n",
    "\n",
    "Here we just want to visualize the difference in our variables of interest between default and non default firms in our training dataset. Also we ran univariate logisitc regression to determine if the ratio is significant in a univariate sense (is not a K.O. criteria).\n",
    "\n",
    "Our variables of interest are, so the variables we will put in our logistic regression, are :\n",
    "\n",
    "- Ebit\n",
    "- Profit\n",
    "- Cash\n",
    "- Working Capital Ratio\n",
    "- Operating Cashflow Ratio\n",
    "- Equity Ratio\n",
    "- Debt to Equity Ratio\n"
   ]
  },
  {
   "cell_type": "code",
   "execution_count": 212,
   "metadata": {
    "ExecuteTime": {
     "end_time": "2021-01-02T14:08:56.110417Z",
     "start_time": "2021-01-02T14:08:56.082228Z"
    }
   },
   "outputs": [
    {
     "data": {
      "text/html": [
       "<div>\n",
       "<style scoped>\n",
       "    .dataframe tbody tr th:only-of-type {\n",
       "        vertical-align: middle;\n",
       "    }\n",
       "\n",
       "    .dataframe tbody tr th {\n",
       "        vertical-align: top;\n",
       "    }\n",
       "\n",
       "    .dataframe thead th {\n",
       "        text-align: right;\n",
       "    }\n",
       "</style>\n",
       "<table border=\"1\" class=\"dataframe\">\n",
       "  <thead>\n",
       "    <tr style=\"text-align: right;\">\n",
       "      <th></th>\n",
       "      <th>default</th>\n",
       "      <th>age_cat</th>\n",
       "      <th>ebit_margin</th>\n",
       "      <th>profit_margin</th>\n",
       "      <th>cash</th>\n",
       "      <th>wc_ratio</th>\n",
       "      <th>ocf_ratio</th>\n",
       "      <th>equity_ratio</th>\n",
       "      <th>debt_to_equity</th>\n",
       "      <th>roa</th>\n",
       "    </tr>\n",
       "  </thead>\n",
       "  <tbody>\n",
       "    <tr>\n",
       "      <th>0</th>\n",
       "      <td>0</td>\n",
       "      <td>4</td>\n",
       "      <td>0.061157</td>\n",
       "      <td>0.361114</td>\n",
       "      <td>10297047.50</td>\n",
       "      <td>5.142587</td>\n",
       "      <td>0.065368</td>\n",
       "      <td>0.738567</td>\n",
       "      <td>0.352444</td>\n",
       "      <td>1.494000e-01</td>\n",
       "    </tr>\n",
       "    <tr>\n",
       "      <th>1</th>\n",
       "      <td>0</td>\n",
       "      <td>4</td>\n",
       "      <td>0.027363</td>\n",
       "      <td>1.104725</td>\n",
       "      <td>926383.75</td>\n",
       "      <td>0.663710</td>\n",
       "      <td>-1.713468</td>\n",
       "      <td>0.389698</td>\n",
       "      <td>1.560542</td>\n",
       "      <td>9.655827e-02</td>\n",
       "    </tr>\n",
       "    <tr>\n",
       "      <th>2</th>\n",
       "      <td>0</td>\n",
       "      <td>4</td>\n",
       "      <td>0.023240</td>\n",
       "      <td>2.640070</td>\n",
       "      <td>9146283.79</td>\n",
       "      <td>3.328108</td>\n",
       "      <td>2.471134</td>\n",
       "      <td>0.000937</td>\n",
       "      <td>163.778649</td>\n",
       "      <td>-2.540307e-17</td>\n",
       "    </tr>\n",
       "    <tr>\n",
       "      <th>3</th>\n",
       "      <td>0</td>\n",
       "      <td>4</td>\n",
       "      <td>0.133260</td>\n",
       "      <td>2.640070</td>\n",
       "      <td>6890565.23</td>\n",
       "      <td>3.193566</td>\n",
       "      <td>0.391307</td>\n",
       "      <td>0.592532</td>\n",
       "      <td>0.236311</td>\n",
       "      <td>2.980723e-02</td>\n",
       "    </tr>\n",
       "    <tr>\n",
       "      <th>4</th>\n",
       "      <td>0</td>\n",
       "      <td>4</td>\n",
       "      <td>0.489225</td>\n",
       "      <td>1.135876</td>\n",
       "      <td>5036615.09</td>\n",
       "      <td>0.102055</td>\n",
       "      <td>1.178664</td>\n",
       "      <td>0.417496</td>\n",
       "      <td>1.329259</td>\n",
       "      <td>2.607926e-02</td>\n",
       "    </tr>\n",
       "    <tr>\n",
       "      <th>...</th>\n",
       "      <td>...</td>\n",
       "      <td>...</td>\n",
       "      <td>...</td>\n",
       "      <td>...</td>\n",
       "      <td>...</td>\n",
       "      <td>...</td>\n",
       "      <td>...</td>\n",
       "      <td>...</td>\n",
       "      <td>...</td>\n",
       "      <td>...</td>\n",
       "    </tr>\n",
       "    <tr>\n",
       "      <th>664</th>\n",
       "      <td>0</td>\n",
       "      <td>4</td>\n",
       "      <td>0.013336</td>\n",
       "      <td>0.506472</td>\n",
       "      <td>31000.00</td>\n",
       "      <td>0.835583</td>\n",
       "      <td>0.009571</td>\n",
       "      <td>0.182336</td>\n",
       "      <td>4.484386</td>\n",
       "      <td>-2.783753e-03</td>\n",
       "    </tr>\n",
       "    <tr>\n",
       "      <th>665</th>\n",
       "      <td>0</td>\n",
       "      <td>3</td>\n",
       "      <td>0.047281</td>\n",
       "      <td>0.446851</td>\n",
       "      <td>252537.31</td>\n",
       "      <td>1.213142</td>\n",
       "      <td>-0.083731</td>\n",
       "      <td>0.341823</td>\n",
       "      <td>1.925494</td>\n",
       "      <td>1.555806e-01</td>\n",
       "    </tr>\n",
       "    <tr>\n",
       "      <th>666</th>\n",
       "      <td>0</td>\n",
       "      <td>3</td>\n",
       "      <td>0.298976</td>\n",
       "      <td>1.000000</td>\n",
       "      <td>573037.66</td>\n",
       "      <td>0.041927</td>\n",
       "      <td>0.032679</td>\n",
       "      <td>0.000000</td>\n",
       "      <td>0.000000</td>\n",
       "      <td>1.289209e-02</td>\n",
       "    </tr>\n",
       "    <tr>\n",
       "      <th>667</th>\n",
       "      <td>0</td>\n",
       "      <td>3</td>\n",
       "      <td>0.053456</td>\n",
       "      <td>1.049012</td>\n",
       "      <td>5652.17</td>\n",
       "      <td>0.615002</td>\n",
       "      <td>0.137266</td>\n",
       "      <td>0.000000</td>\n",
       "      <td>0.000000</td>\n",
       "      <td>6.375280e-02</td>\n",
       "    </tr>\n",
       "    <tr>\n",
       "      <th>668</th>\n",
       "      <td>0</td>\n",
       "      <td>4</td>\n",
       "      <td>0.045863</td>\n",
       "      <td>0.258573</td>\n",
       "      <td>2604320.00</td>\n",
       "      <td>1.006126</td>\n",
       "      <td>0.094305</td>\n",
       "      <td>0.040729</td>\n",
       "      <td>23.541597</td>\n",
       "      <td>1.757980e-01</td>\n",
       "    </tr>\n",
       "  </tbody>\n",
       "</table>\n",
       "<p>668 rows × 10 columns</p>\n",
       "</div>"
      ],
      "text/plain": [
       "     default  age_cat  ebit_margin  profit_margin         cash  wc_ratio  \\\n",
       "0          0        4     0.061157       0.361114  10297047.50  5.142587   \n",
       "1          0        4     0.027363       1.104725    926383.75  0.663710   \n",
       "2          0        4     0.023240       2.640070   9146283.79  3.328108   \n",
       "3          0        4     0.133260       2.640070   6890565.23  3.193566   \n",
       "4          0        4     0.489225       1.135876   5036615.09  0.102055   \n",
       "..       ...      ...          ...            ...          ...       ...   \n",
       "664        0        4     0.013336       0.506472     31000.00  0.835583   \n",
       "665        0        3     0.047281       0.446851    252537.31  1.213142   \n",
       "666        0        3     0.298976       1.000000    573037.66  0.041927   \n",
       "667        0        3     0.053456       1.049012      5652.17  0.615002   \n",
       "668        0        4     0.045863       0.258573   2604320.00  1.006126   \n",
       "\n",
       "     ocf_ratio  equity_ratio  debt_to_equity           roa  \n",
       "0     0.065368      0.738567        0.352444  1.494000e-01  \n",
       "1    -1.713468      0.389698        1.560542  9.655827e-02  \n",
       "2     2.471134      0.000937      163.778649 -2.540307e-17  \n",
       "3     0.391307      0.592532        0.236311  2.980723e-02  \n",
       "4     1.178664      0.417496        1.329259  2.607926e-02  \n",
       "..         ...           ...             ...           ...  \n",
       "664   0.009571      0.182336        4.484386 -2.783753e-03  \n",
       "665  -0.083731      0.341823        1.925494  1.555806e-01  \n",
       "666   0.032679      0.000000        0.000000  1.289209e-02  \n",
       "667   0.137266      0.000000        0.000000  6.375280e-02  \n",
       "668   0.094305      0.040729       23.541597  1.757980e-01  \n",
       "\n",
       "[668 rows x 10 columns]"
      ]
     },
     "execution_count": 212,
     "metadata": {},
     "output_type": "execute_result"
    }
   ],
   "source": [
    "col_list = [\"default\",\"age_cat\",\"ebit_margin\",\"profit_margin\",\"cash\",\"wc_ratio\",\"ocf_ratio\",\"equity_ratio\",\"debt_to_equity\",\"roa\"]\n",
    "df_train[col_list]"
   ]
  },
  {
   "cell_type": "markdown",
   "metadata": {},
   "source": [
    "## EBIT"
   ]
  },
  {
   "cell_type": "code",
   "execution_count": 216,
   "metadata": {
    "ExecuteTime": {
     "end_time": "2021-01-02T14:09:00.884819Z",
     "start_time": "2021-01-02T14:08:57.852749Z"
    }
   },
   "outputs": [
    {
     "ename": "AttributeError",
     "evalue": "module 'seaborn' has no attribute 'displot'",
     "output_type": "error",
     "traceback": [
      "\u001b[1;31m---------------------------------------------------------------------------\u001b[0m",
      "\u001b[1;31mAttributeError\u001b[0m                            Traceback (most recent call last)",
      "\u001b[1;32m<ipython-input-216-fa0cf9528280>\u001b[0m in \u001b[0;36m<module>\u001b[1;34m\u001b[0m\n\u001b[0;32m      4\u001b[0m             data=df_train).set_title(\"With log transformation\");\n\u001b[0;32m      5\u001b[0m \u001b[0mplt\u001b[0m\u001b[1;33m.\u001b[0m\u001b[0mfigure\u001b[0m\u001b[1;33m(\u001b[0m\u001b[1;33m)\u001b[0m\u001b[1;33m\u001b[0m\u001b[1;33m\u001b[0m\u001b[0m\n\u001b[1;32m----> 6\u001b[1;33m \u001b[0msns\u001b[0m\u001b[1;33m.\u001b[0m\u001b[0mdisplot\u001b[0m\u001b[1;33m(\u001b[0m\u001b[0mdf_train\u001b[0m\u001b[1;33m,\u001b[0m\u001b[0mx\u001b[0m\u001b[1;33m=\u001b[0m\u001b[1;34m\"ebit_margin\"\u001b[0m\u001b[1;33m,\u001b[0m\u001b[0mhue\u001b[0m\u001b[1;33m=\u001b[0m\u001b[1;34m\"default\"\u001b[0m\u001b[1;33m,\u001b[0m\u001b[0mstat\u001b[0m\u001b[1;33m=\u001b[0m\u001b[1;34m\"density\"\u001b[0m\u001b[1;33m,\u001b[0m\u001b[0mcommon_norm\u001b[0m\u001b[1;33m=\u001b[0m\u001b[1;32mFalse\u001b[0m\u001b[1;33m)\u001b[0m\u001b[1;33m;\u001b[0m\u001b[1;33m\u001b[0m\u001b[1;33m\u001b[0m\u001b[0m\n\u001b[0m\u001b[0;32m      7\u001b[0m \u001b[1;33m\u001b[0m\u001b[0m\n\u001b[0;32m      8\u001b[0m \u001b[0mmdl\u001b[0m \u001b[1;33m=\u001b[0m \u001b[0msm\u001b[0m\u001b[1;33m.\u001b[0m\u001b[0mLogit\u001b[0m\u001b[1;33m.\u001b[0m\u001b[0mfrom_formula\u001b[0m\u001b[1;33m(\u001b[0m\u001b[1;34m'default ~ ebit_margin + 1'\u001b[0m\u001b[1;33m,\u001b[0m \u001b[0mdata\u001b[0m\u001b[1;33m=\u001b[0m\u001b[0mdf_train\u001b[0m\u001b[1;33m)\u001b[0m\u001b[1;33m.\u001b[0m\u001b[0mfit\u001b[0m\u001b[1;33m(\u001b[0m\u001b[0mdisp\u001b[0m\u001b[1;33m=\u001b[0m\u001b[1;32mFalse\u001b[0m\u001b[1;33m,\u001b[0m \u001b[0mmaxiter\u001b[0m\u001b[1;33m=\u001b[0m\u001b[1;36m100\u001b[0m\u001b[1;33m)\u001b[0m\u001b[1;33m\u001b[0m\u001b[1;33m\u001b[0m\u001b[0m\n",
      "\u001b[1;31mAttributeError\u001b[0m: module 'seaborn' has no attribute 'displot'"
     ]
    },
    {
     "data": {
      "image/png": "[encoded data removed]",
      "text/plain": [
       "<Figure size 432x288 with 1 Axes>"
      ]
     },
     "metadata": {
      "needs_background": "light"
     },
     "output_type": "display_data"
    },
    {
     "data": {
      "image/png": "[encoded data removed]",
      "text/plain": [
       "<Figure size 432x288 with 1 Axes>"
      ]
     },
     "metadata": {
      "needs_background": "light"
     },
     "output_type": "display_data"
    },
    {
     "data": {
      "text/plain": [
       "<Figure size 432x288 with 0 Axes>"
      ]
     },
     "metadata": {},
     "output_type": "display_data"
    }
   ],
   "source": [
    "sns.boxplot(y=\"ebit_margin\",x=\"default\",data=df_train);\n",
    "plt.figure()\n",
    "sns.boxplot(y=np.log(df_train[\"ebit_margin\"]),x=\"default\",\n",
    "            data=df_train).set_title(\"With log transformation\");\n",
    "plt.figure()\n",
    "sns.displot(df_train,x=\"ebit_margin\",hue=\"default\",stat=\"density\",common_norm=False);\n",
    "\n",
    "mdl = sm.Logit.from_formula('default ~ ebit_margin + 1', data=df_train).fit(disp=False, maxiter=100)\n",
    "print(mdl.summary2())"
   ]
  },
  {
   "cell_type": "markdown",
   "metadata": {},
   "source": [
    "## Profit"
   ]
  },
  {
   "cell_type": "code",
   "execution_count": 217,
   "metadata": {
    "ExecuteTime": {
     "end_time": "2021-01-02T14:09:03.124360Z",
     "start_time": "2021-01-02T14:09:01.334534Z"
    }
   },
   "outputs": [
    {
     "ename": "AttributeError",
     "evalue": "module 'seaborn' has no attribute 'displot'",
     "output_type": "error",
     "traceback": [
      "\u001b[1;31m---------------------------------------------------------------------------\u001b[0m",
      "\u001b[1;31mAttributeError\u001b[0m                            Traceback (most recent call last)",
      "\u001b[1;32m<ipython-input-217-696b7f93b1dd>\u001b[0m in \u001b[0;36m<module>\u001b[1;34m\u001b[0m\n\u001b[0;32m      4\u001b[0m             data=df_train).set_title(\"With log transformation\");\n\u001b[0;32m      5\u001b[0m \u001b[0mplt\u001b[0m\u001b[1;33m.\u001b[0m\u001b[0mfigure\u001b[0m\u001b[1;33m(\u001b[0m\u001b[1;33m)\u001b[0m\u001b[1;33m\u001b[0m\u001b[1;33m\u001b[0m\u001b[0m\n\u001b[1;32m----> 6\u001b[1;33m \u001b[0msns\u001b[0m\u001b[1;33m.\u001b[0m\u001b[0mdisplot\u001b[0m\u001b[1;33m(\u001b[0m\u001b[0mdf_train\u001b[0m\u001b[1;33m,\u001b[0m\u001b[0mx\u001b[0m\u001b[1;33m=\u001b[0m\u001b[1;34m\"profit_margin\"\u001b[0m\u001b[1;33m,\u001b[0m\u001b[0mhue\u001b[0m\u001b[1;33m=\u001b[0m\u001b[1;34m\"default\"\u001b[0m\u001b[1;33m,\u001b[0m\u001b[0mstat\u001b[0m\u001b[1;33m=\u001b[0m\u001b[1;34m\"density\"\u001b[0m\u001b[1;33m,\u001b[0m\u001b[0mcommon_norm\u001b[0m\u001b[1;33m=\u001b[0m\u001b[1;32mFalse\u001b[0m\u001b[1;33m)\u001b[0m\u001b[1;33m;\u001b[0m\u001b[1;33m\u001b[0m\u001b[1;33m\u001b[0m\u001b[0m\n\u001b[0m\u001b[0;32m      7\u001b[0m \u001b[1;33m\u001b[0m\u001b[0m\n\u001b[0;32m      8\u001b[0m \u001b[0mmdl\u001b[0m \u001b[1;33m=\u001b[0m \u001b[0msm\u001b[0m\u001b[1;33m.\u001b[0m\u001b[0mLogit\u001b[0m\u001b[1;33m.\u001b[0m\u001b[0mfrom_formula\u001b[0m\u001b[1;33m(\u001b[0m\u001b[1;34m'default ~ profit_margin + 1'\u001b[0m\u001b[1;33m,\u001b[0m \u001b[0mdata\u001b[0m\u001b[1;33m=\u001b[0m\u001b[0mdf_train\u001b[0m\u001b[1;33m)\u001b[0m\u001b[1;33m.\u001b[0m\u001b[0mfit\u001b[0m\u001b[1;33m(\u001b[0m\u001b[0mdisp\u001b[0m\u001b[1;33m=\u001b[0m\u001b[1;32mFalse\u001b[0m\u001b[1;33m,\u001b[0m \u001b[0mmaxiter\u001b[0m\u001b[1;33m=\u001b[0m\u001b[1;36m100\u001b[0m\u001b[1;33m)\u001b[0m\u001b[1;33m\u001b[0m\u001b[1;33m\u001b[0m\u001b[0m\n",
      "\u001b[1;31mAttributeError\u001b[0m: module 'seaborn' has no attribute 'displot'"
     ]
    },
    {
     "data": {
      "image/png": "[encoded data removed]",
      "text/plain": [
       "<Figure size 432x288 with 1 Axes>"
      ]
     },
     "metadata": {
      "needs_background": "light"
     },
     "output_type": "display_data"
    },
    {
     "data": {
      "image/png": "[encoded data removed]",
      "text/plain": [
       "<Figure size 432x288 with 1 Axes>"
      ]
     },
     "metadata": {
      "needs_background": "light"
     },
     "output_type": "display_data"
    },
    {
     "data": {
      "text/plain": [
       "<Figure size 432x288 with 0 Axes>"
      ]
     },
     "metadata": {},
     "output_type": "display_data"
    }
   ],
   "source": [
    "sns.boxplot(y=\"profit_margin\",x=\"default\",data=df_train);\n",
    "plt.figure()\n",
    "sns.boxplot(y=np.log(df_train[\"profit_margin\"]),x=\"default\",\n",
    "            data=df_train).set_title(\"With log transformation\");\n",
    "plt.figure()\n",
    "sns.displot(df_train,x=\"profit_margin\",hue=\"default\",stat=\"density\",common_norm=False);\n",
    "\n",
    "mdl = sm.Logit.from_formula('default ~ profit_margin + 1', data=df_train).fit(disp=False, maxiter=100)\n",
    "print(mdl.summary2())"
   ]
  },
  {
   "cell_type": "markdown",
   "metadata": {},
   "source": [
    "## Cash"
   ]
  },
  {
   "cell_type": "code",
   "execution_count": 186,
   "metadata": {
    "ExecuteTime": {
     "end_time": "2021-01-02T14:09:04.903499Z",
     "start_time": "2021-01-02T14:09:03.586576Z"
    }
   },
   "outputs": [
    {
     "ename": "AttributeError",
     "evalue": "module 'seaborn' has no attribute 'displot'",
     "output_type": "error",
     "traceback": [
      "\u001b[1;31m---------------------------------------------------------------------------\u001b[0m",
      "\u001b[1;31mAttributeError\u001b[0m                            Traceback (most recent call last)",
      "\u001b[1;32m<ipython-input-186-617981d6ff9a>\u001b[0m in \u001b[0;36m<module>\u001b[1;34m\u001b[0m\n\u001b[0;32m      4\u001b[0m             data=df_train).set_title(\"With log transformation\");\n\u001b[0;32m      5\u001b[0m \u001b[0mplt\u001b[0m\u001b[1;33m.\u001b[0m\u001b[0mfigure\u001b[0m\u001b[1;33m(\u001b[0m\u001b[1;33m)\u001b[0m\u001b[1;33m\u001b[0m\u001b[1;33m\u001b[0m\u001b[0m\n\u001b[1;32m----> 6\u001b[1;33m \u001b[0msns\u001b[0m\u001b[1;33m.\u001b[0m\u001b[0mdisplot\u001b[0m\u001b[1;33m(\u001b[0m\u001b[0mdf_train\u001b[0m\u001b[1;33m,\u001b[0m\u001b[0mx\u001b[0m\u001b[1;33m=\u001b[0m\u001b[1;34m\"cash\"\u001b[0m\u001b[1;33m,\u001b[0m\u001b[0mhue\u001b[0m\u001b[1;33m=\u001b[0m\u001b[1;34m\"default\"\u001b[0m\u001b[1;33m,\u001b[0m\u001b[0mstat\u001b[0m\u001b[1;33m=\u001b[0m\u001b[1;34m\"density\"\u001b[0m\u001b[1;33m,\u001b[0m\u001b[0mcommon_norm\u001b[0m\u001b[1;33m=\u001b[0m\u001b[1;32mFalse\u001b[0m\u001b[1;33m)\u001b[0m\u001b[1;33m;\u001b[0m\u001b[1;33m\u001b[0m\u001b[1;33m\u001b[0m\u001b[0m\n\u001b[0m\u001b[0;32m      7\u001b[0m \u001b[1;33m\u001b[0m\u001b[0m\n\u001b[0;32m      8\u001b[0m \u001b[0mmdl\u001b[0m \u001b[1;33m=\u001b[0m \u001b[0msm\u001b[0m\u001b[1;33m.\u001b[0m\u001b[0mLogit\u001b[0m\u001b[1;33m.\u001b[0m\u001b[0mfrom_formula\u001b[0m\u001b[1;33m(\u001b[0m\u001b[1;34m'default ~ cash + 1'\u001b[0m\u001b[1;33m,\u001b[0m \u001b[0mdata\u001b[0m\u001b[1;33m=\u001b[0m\u001b[0mdf_train\u001b[0m\u001b[1;33m)\u001b[0m\u001b[1;33m.\u001b[0m\u001b[0mfit\u001b[0m\u001b[1;33m(\u001b[0m\u001b[0mdisp\u001b[0m\u001b[1;33m=\u001b[0m\u001b[1;32mFalse\u001b[0m\u001b[1;33m,\u001b[0m \u001b[0mmaxiter\u001b[0m\u001b[1;33m=\u001b[0m\u001b[1;36m100\u001b[0m\u001b[1;33m)\u001b[0m\u001b[1;33m\u001b[0m\u001b[1;33m\u001b[0m\u001b[0m\n",
      "\u001b[1;31mAttributeError\u001b[0m: module 'seaborn' has no attribute 'displot'"
     ]
    },
    {
     "data": {
      "image/png": "[encoded data removed]",
      "text/plain": [
       "<Figure size 432x288 with 1 Axes>"
      ]
     },
     "metadata": {
      "needs_background": "light"
     },
     "output_type": "display_data"
    },
    {
     "data": {
      "image/png": "[encoded data removed]",
      "text/plain": [
       "<Figure size 432x288 with 1 Axes>"
      ]
     },
     "metadata": {
      "needs_background": "light"
     },
     "output_type": "display_data"
    },
    {
     "data": {
      "text/plain": [
       "<Figure size 432x288 with 0 Axes>"
      ]
     },
     "metadata": {},
     "output_type": "display_data"
    }
   ],
   "source": [
    "sns.boxplot(y=\"cash\",x=\"default\",data=df_train);\n",
    "plt.figure()\n",
    "sns.boxplot(y=np.log(df_train[\"cash\"]),x=\"default\",\n",
    "            data=df_train).set_title(\"With log transformation\");\n",
    "plt.figure()\n",
    "sns.displot(df_train,x=\"cash\",hue=\"default\",stat=\"density\",common_norm=False);\n",
    "\n",
    "mdl = sm.Logit.from_formula('default ~ cash + 1', data=df_train).fit(disp=False, maxiter=100)\n",
    "print(mdl.summary2())"
   ]
  },
  {
   "cell_type": "markdown",
   "metadata": {},
   "source": [
    "## Working Capital Ratio"
   ]
  },
  {
   "cell_type": "code",
   "execution_count": 187,
   "metadata": {
    "ExecuteTime": {
     "end_time": "2021-01-02T14:10:50.671522Z",
     "start_time": "2021-01-02T14:10:47.765225Z"
    }
   },
   "outputs": [
    {
     "ename": "AttributeError",
     "evalue": "module 'seaborn' has no attribute 'displot'",
     "output_type": "error",
     "traceback": [
      "\u001b[1;31m---------------------------------------------------------------------------\u001b[0m",
      "\u001b[1;31mAttributeError\u001b[0m                            Traceback (most recent call last)",
      "\u001b[1;32m<ipython-input-187-8e4c3d114acf>\u001b[0m in \u001b[0;36m<module>\u001b[1;34m\u001b[0m\n\u001b[0;32m      4\u001b[0m             data=df_train).set_title(\"With log transformation\");\n\u001b[0;32m      5\u001b[0m \u001b[0mplt\u001b[0m\u001b[1;33m.\u001b[0m\u001b[0mfigure\u001b[0m\u001b[1;33m(\u001b[0m\u001b[1;33m)\u001b[0m\u001b[1;33m\u001b[0m\u001b[1;33m\u001b[0m\u001b[0m\n\u001b[1;32m----> 6\u001b[1;33m \u001b[0msns\u001b[0m\u001b[1;33m.\u001b[0m\u001b[0mdisplot\u001b[0m\u001b[1;33m(\u001b[0m\u001b[0mdf_train\u001b[0m\u001b[1;33m,\u001b[0m\u001b[0mx\u001b[0m\u001b[1;33m=\u001b[0m\u001b[1;34m\"wc_ratio\"\u001b[0m\u001b[1;33m,\u001b[0m\u001b[0mhue\u001b[0m\u001b[1;33m=\u001b[0m\u001b[1;34m\"default\"\u001b[0m\u001b[1;33m,\u001b[0m\u001b[0mstat\u001b[0m\u001b[1;33m=\u001b[0m\u001b[1;34m\"density\"\u001b[0m\u001b[1;33m,\u001b[0m\u001b[0mcommon_norm\u001b[0m\u001b[1;33m=\u001b[0m\u001b[1;32mFalse\u001b[0m\u001b[1;33m)\u001b[0m\u001b[1;33m;\u001b[0m\u001b[1;33m\u001b[0m\u001b[1;33m\u001b[0m\u001b[0m\n\u001b[0m\u001b[0;32m      7\u001b[0m \u001b[1;33m\u001b[0m\u001b[0m\n\u001b[0;32m      8\u001b[0m \u001b[0mmdl\u001b[0m \u001b[1;33m=\u001b[0m \u001b[0msm\u001b[0m\u001b[1;33m.\u001b[0m\u001b[0mLogit\u001b[0m\u001b[1;33m.\u001b[0m\u001b[0mfrom_formula\u001b[0m\u001b[1;33m(\u001b[0m\u001b[1;34m'default ~ wc_ratio + 1'\u001b[0m\u001b[1;33m,\u001b[0m \u001b[0mdata\u001b[0m\u001b[1;33m=\u001b[0m\u001b[0mdf_train\u001b[0m\u001b[1;33m)\u001b[0m\u001b[1;33m.\u001b[0m\u001b[0mfit\u001b[0m\u001b[1;33m(\u001b[0m\u001b[0mdisp\u001b[0m\u001b[1;33m=\u001b[0m\u001b[1;32mFalse\u001b[0m\u001b[1;33m,\u001b[0m \u001b[0mmaxiter\u001b[0m\u001b[1;33m=\u001b[0m\u001b[1;36m100\u001b[0m\u001b[1;33m)\u001b[0m\u001b[1;33m\u001b[0m\u001b[1;33m\u001b[0m\u001b[0m\n",
      "\u001b[1;31mAttributeError\u001b[0m: module 'seaborn' has no attribute 'displot'"
     ]
    },
    {
     "data": {
      "image/png": "[encoded data removed]",
      "text/plain": [
       "<Figure size 432x288 with 1 Axes>"
      ]
     },
     "metadata": {
      "needs_background": "light"
     },
     "output_type": "display_data"
    },
    {
     "data": {
      "image/png": "[encoded data removed]",
      "text/plain": [
       "<Figure size 432x288 with 1 Axes>"
      ]
     },
     "metadata": {
      "needs_background": "light"
     },
     "output_type": "display_data"
    },
    {
     "data": {
      "text/plain": [
       "<Figure size 432x288 with 0 Axes>"
      ]
     },
     "metadata": {},
     "output_type": "display_data"
    }
   ],
   "source": [
    "sns.boxplot(y=\"wc_ratio\",x=\"default\",data=df_train);\n",
    "plt.figure()\n",
    "sns.boxplot(y=np.log(df_train[\"wc_ratio\"]),x=\"default\",\n",
    "            data=df_train).set_title(\"With log transformation\");\n",
    "plt.figure()\n",
    "sns.displot(df_train,x=\"wc_ratio\",hue=\"default\",stat=\"density\",common_norm=False);\n",
    "\n",
    "mdl = sm.Logit.from_formula('default ~ wc_ratio + 1', data=df_train).fit(disp=False, maxiter=100)\n",
    "print(mdl.summary2())"
   ]
  },
  {
   "cell_type": "markdown",
   "metadata": {
    "ExecuteTime": {
     "end_time": "2020-12-23T07:49:46.197844Z",
     "start_time": "2020-12-23T07:49:46.127363Z"
    }
   },
   "source": [
    "## Operating Cash Flow Ratio"
   ]
  },
  {
   "cell_type": "code",
   "execution_count": null,
   "metadata": {
    "ExecuteTime": {
     "end_time": "2021-01-02T14:13:07.283294Z",
     "start_time": "2021-01-02T14:13:06.885827Z"
    }
   },
   "outputs": [],
   "source": [
    "sns.boxplot(y=\"ocf_ratio\",x=\"default\",data=df_train);\n",
    "plt.figure()\n",
    "sns.boxplot(y=np.log(df_train[\"ocf_ratio\"]),x=\"default\",\n",
    "            data=df_train).set_title(\"With log transformation\");\n",
    "#plt.figure()\n",
    "#sns.displot(df_train,x=\"ocf_ratio\",hue=\"default\",stat=\"density\",common_norm=False);\n",
    "\n",
    "mdl = sm.Logit.from_formula('default ~ ocf_ratio + 1', data=df_train).fit(disp=False, maxiter=100)\n",
    "print(mdl.summary2())"
   ]
  },
  {
   "cell_type": "markdown",
   "metadata": {},
   "source": [
    "## Equity Ratio "
   ]
  },
  {
   "cell_type": "code",
   "execution_count": 188,
   "metadata": {
    "ExecuteTime": {
     "end_time": "2021-01-02T14:13:13.496671Z",
     "start_time": "2021-01-02T14:13:12.409337Z"
    }
   },
   "outputs": [
    {
     "ename": "AttributeError",
     "evalue": "module 'seaborn' has no attribute 'displot'",
     "output_type": "error",
     "traceback": [
      "\u001b[1;31m---------------------------------------------------------------------------\u001b[0m",
      "\u001b[1;31mAttributeError\u001b[0m                            Traceback (most recent call last)",
      "\u001b[1;32m<ipython-input-188-91cc0fe43bf0>\u001b[0m in \u001b[0;36m<module>\u001b[1;34m\u001b[0m\n\u001b[0;32m      4\u001b[0m             data=df_train).set_title(\"With log transformation\");\n\u001b[0;32m      5\u001b[0m \u001b[0mplt\u001b[0m\u001b[1;33m.\u001b[0m\u001b[0mfigure\u001b[0m\u001b[1;33m(\u001b[0m\u001b[1;33m)\u001b[0m\u001b[1;33m\u001b[0m\u001b[1;33m\u001b[0m\u001b[0m\n\u001b[1;32m----> 6\u001b[1;33m \u001b[0msns\u001b[0m\u001b[1;33m.\u001b[0m\u001b[0mdisplot\u001b[0m\u001b[1;33m(\u001b[0m\u001b[0mdf_train\u001b[0m\u001b[1;33m,\u001b[0m\u001b[0mx\u001b[0m\u001b[1;33m=\u001b[0m\u001b[1;34m\"equity_ratio\"\u001b[0m\u001b[1;33m,\u001b[0m\u001b[0mhue\u001b[0m\u001b[1;33m=\u001b[0m\u001b[1;34m\"default\"\u001b[0m\u001b[1;33m,\u001b[0m\u001b[0mstat\u001b[0m\u001b[1;33m=\u001b[0m\u001b[1;34m\"density\"\u001b[0m\u001b[1;33m,\u001b[0m\u001b[0mcommon_norm\u001b[0m\u001b[1;33m=\u001b[0m\u001b[1;32mFalse\u001b[0m\u001b[1;33m)\u001b[0m\u001b[1;33m;\u001b[0m\u001b[1;33m\u001b[0m\u001b[1;33m\u001b[0m\u001b[0m\n\u001b[0m\u001b[0;32m      7\u001b[0m \u001b[1;33m\u001b[0m\u001b[0m\n\u001b[0;32m      8\u001b[0m \u001b[0mmdl\u001b[0m \u001b[1;33m=\u001b[0m \u001b[0msm\u001b[0m\u001b[1;33m.\u001b[0m\u001b[0mLogit\u001b[0m\u001b[1;33m.\u001b[0m\u001b[0mfrom_formula\u001b[0m\u001b[1;33m(\u001b[0m\u001b[1;34m'default ~ equity_ratio + 1'\u001b[0m\u001b[1;33m,\u001b[0m \u001b[0mdata\u001b[0m\u001b[1;33m=\u001b[0m\u001b[0mdf_train\u001b[0m\u001b[1;33m)\u001b[0m\u001b[1;33m.\u001b[0m\u001b[0mfit\u001b[0m\u001b[1;33m(\u001b[0m\u001b[0mdisp\u001b[0m\u001b[1;33m=\u001b[0m\u001b[1;32mFalse\u001b[0m\u001b[1;33m,\u001b[0m \u001b[0mmaxiter\u001b[0m\u001b[1;33m=\u001b[0m\u001b[1;36m100\u001b[0m\u001b[1;33m)\u001b[0m\u001b[1;33m\u001b[0m\u001b[1;33m\u001b[0m\u001b[0m\n",
      "\u001b[1;31mAttributeError\u001b[0m: module 'seaborn' has no attribute 'displot'"
     ]
    },
    {
     "data": {
      "image/png": "[encoded data removed]",
      "text/plain": [
       "<Figure size 432x288 with 1 Axes>"
      ]
     },
     "metadata": {
      "needs_background": "light"
     },
     "output_type": "display_data"
    },
    {
     "data": {
      "image/png": "[encoded data removed]",
      "text/plain": [
       "<Figure size 432x288 with 1 Axes>"
      ]
     },
     "metadata": {
      "needs_background": "light"
     },
     "output_type": "display_data"
    },
    {
     "data": {
      "text/plain": [
       "<Figure size 432x288 with 0 Axes>"
      ]
     },
     "metadata": {},
     "output_type": "display_data"
    }
   ],
   "source": [
    "sns.boxplot(y=\"equity_ratio\",x=\"default\",data=df_train);\n",
    "plt.figure()\n",
    "sns.boxplot(y=np.log(df_train[\"equity_ratio\"]),x=\"default\",\n",
    "            data=df_train).set_title(\"With log transformation\");\n",
    "plt.figure()\n",
    "sns.displot(df_train,x=\"equity_ratio\",hue=\"default\",stat=\"density\",common_norm=False);\n",
    "\n",
    "mdl = sm.Logit.from_formula('default ~ equity_ratio + 1', data=df_train).fit(disp=False, maxiter=100)\n",
    "print(mdl.summary2())"
   ]
  },
  {
   "cell_type": "code",
   "execution_count": null,
   "metadata": {
    "ExecuteTime": {
     "end_time": "2021-01-02T14:12:16.802464Z",
     "start_time": "2021-01-02T14:12:16.770551Z"
    }
   },
   "outputs": [],
   "source": [
    "pd.crosstab(df_train[\"default\"],df_train[\"equity_ratio\"]==0) #see that 6 defaulted with an equity ratio of 0"
   ]
  },
  {
   "cell_type": "markdown",
   "metadata": {},
   "source": [
    "## Debt to Equity Ratio"
   ]
  },
  {
   "cell_type": "code",
   "execution_count": 189,
   "metadata": {
    "ExecuteTime": {
     "end_time": "2021-01-02T14:12:20.482653Z",
     "start_time": "2021-01-02T14:12:19.378557Z"
    }
   },
   "outputs": [
    {
     "ename": "AttributeError",
     "evalue": "module 'seaborn' has no attribute 'displot'",
     "output_type": "error",
     "traceback": [
      "\u001b[1;31m---------------------------------------------------------------------------\u001b[0m",
      "\u001b[1;31mAttributeError\u001b[0m                            Traceback (most recent call last)",
      "\u001b[1;32m<ipython-input-189-4f2a56e856c3>\u001b[0m in \u001b[0;36m<module>\u001b[1;34m\u001b[0m\n\u001b[0;32m      4\u001b[0m             data=df_train).set_title(\"With log transformation\");\n\u001b[0;32m      5\u001b[0m \u001b[0mplt\u001b[0m\u001b[1;33m.\u001b[0m\u001b[0mfigure\u001b[0m\u001b[1;33m(\u001b[0m\u001b[1;33m)\u001b[0m\u001b[1;33m\u001b[0m\u001b[1;33m\u001b[0m\u001b[0m\n\u001b[1;32m----> 6\u001b[1;33m \u001b[0msns\u001b[0m\u001b[1;33m.\u001b[0m\u001b[0mdisplot\u001b[0m\u001b[1;33m(\u001b[0m\u001b[0mdf_train\u001b[0m\u001b[1;33m,\u001b[0m\u001b[0mx\u001b[0m\u001b[1;33m=\u001b[0m\u001b[1;34m\"debt_to_equity\"\u001b[0m\u001b[1;33m,\u001b[0m\u001b[0mhue\u001b[0m\u001b[1;33m=\u001b[0m\u001b[1;34m\"default\"\u001b[0m\u001b[1;33m,\u001b[0m\u001b[0mstat\u001b[0m\u001b[1;33m=\u001b[0m\u001b[1;34m\"density\"\u001b[0m\u001b[1;33m,\u001b[0m\u001b[0mcommon_norm\u001b[0m\u001b[1;33m=\u001b[0m\u001b[1;32mFalse\u001b[0m\u001b[1;33m)\u001b[0m\u001b[1;33m;\u001b[0m\u001b[1;33m\u001b[0m\u001b[1;33m\u001b[0m\u001b[0m\n\u001b[0m\u001b[0;32m      7\u001b[0m \u001b[1;33m\u001b[0m\u001b[0m\n\u001b[0;32m      8\u001b[0m \u001b[0mmdl\u001b[0m \u001b[1;33m=\u001b[0m \u001b[0msm\u001b[0m\u001b[1;33m.\u001b[0m\u001b[0mLogit\u001b[0m\u001b[1;33m.\u001b[0m\u001b[0mfrom_formula\u001b[0m\u001b[1;33m(\u001b[0m\u001b[1;34m'default ~ debt_to_equity + 1'\u001b[0m\u001b[1;33m,\u001b[0m \u001b[0mdata\u001b[0m\u001b[1;33m=\u001b[0m\u001b[0mdf_train\u001b[0m\u001b[1;33m)\u001b[0m\u001b[1;33m.\u001b[0m\u001b[0mfit\u001b[0m\u001b[1;33m(\u001b[0m\u001b[0mdisp\u001b[0m\u001b[1;33m=\u001b[0m\u001b[1;32mFalse\u001b[0m\u001b[1;33m,\u001b[0m \u001b[0mmaxiter\u001b[0m\u001b[1;33m=\u001b[0m\u001b[1;36m100\u001b[0m\u001b[1;33m)\u001b[0m\u001b[1;33m\u001b[0m\u001b[1;33m\u001b[0m\u001b[0m\n",
      "\u001b[1;31mAttributeError\u001b[0m: module 'seaborn' has no attribute 'displot'"
     ]
    },
    {
     "data": {
      "image/png": "[encoded data removed]",
      "text/plain": [
       "<Figure size 432x288 with 1 Axes>"
      ]
     },
     "metadata": {
      "needs_background": "light"
     },
     "output_type": "display_data"
    },
    {
     "data": {
      "image/png": "[encoded data removed]",
      "text/plain": [
       "<Figure size 432x288 with 1 Axes>"
      ]
     },
     "metadata": {
      "needs_background": "light"
     },
     "output_type": "display_data"
    },
    {
     "data": {
      "text/plain": [
       "<Figure size 432x288 with 0 Axes>"
      ]
     },
     "metadata": {},
     "output_type": "display_data"
    }
   ],
   "source": [
    "sns.boxplot(y=\"debt_to_equity\",x=\"default\",data=df_train);\n",
    "plt.figure()\n",
    "sns.boxplot(y=np.log(df_train[\"debt_to_equity\"]),x=\"default\",\n",
    "            data=df_train).set_title(\"With log transformation\");\n",
    "plt.figure()\n",
    "sns.displot(df_train,x=\"debt_to_equity\",hue=\"default\",stat=\"density\",common_norm=False);\n",
    "\n",
    "mdl = sm.Logit.from_formula('default ~ debt_to_equity + 1', data=df_train).fit(disp=False, maxiter=100)\n",
    "print(mdl.summary2())"
   ]
  },
  {
   "cell_type": "markdown",
   "metadata": {},
   "source": [
    "# Our Logit Regression"
   ]
  },
  {
   "cell_type": "code",
   "execution_count": 201,
   "metadata": {
    "ExecuteTime": {
     "end_time": "2021-01-02T14:16:01.180960Z",
     "start_time": "2021-01-02T14:16:01.093014Z"
    }
   },
   "outputs": [
    {
     "name": "stdout",
     "output_type": "stream",
     "text": [
      "                         Results: Logit\n",
      "================================================================\n",
      "Model:              Logit            Pseudo R-squared: 0.095    \n",
      "Dependent Variable: default          AIC:              284.0551 \n",
      "Date:               2021-01-05 17:00 BIC:              329.0980 \n",
      "No. Observations:   668              Log-Likelihood:   -132.03  \n",
      "Df Model:           9                LL-Null:          -145.83  \n",
      "Df Residuals:       658              LLR p-value:      0.0011078\n",
      "Converged:          1.0000           Scale:            1.0000   \n",
      "No. Iterations:     11.0000                                     \n",
      "----------------------------------------------------------------\n",
      "                  Coef.  Std.Err.    z    P>|z|   [0.025  0.975]\n",
      "----------------------------------------------------------------\n",
      "Intercept        -4.4926   1.2885 -3.4867 0.0005 -7.0180 -1.9672\n",
      "age_cat           0.6059   0.3487  1.7378 0.0823 -0.0775  1.2894\n",
      "cash             -0.0000   0.0000 -1.9903 0.0466 -0.0000 -0.0000\n",
      "profit_margin     0.4551   0.4142  1.0986 0.2719 -0.3568  1.2670\n",
      "ebit_margin      -1.0134   0.7673 -1.3208 0.1866 -2.5173  0.4905\n",
      "wc_ratio         -0.2369   0.1393 -1.7009 0.0890 -0.5098  0.0361\n",
      "ocf_ratio         0.1218   0.2857  0.4262 0.6700 -0.4382  0.6818\n",
      "equity_ratio      0.3687   0.5798  0.6360 0.5248 -0.7676  1.5051\n",
      "debt_to_equity    0.0006   0.0035  0.1587 0.8739 -0.0064  0.0075\n",
      "roa              -1.3379   1.3766 -0.9719 0.3311 -4.0361  1.3602\n",
      "================================================================\n",
      "\n"
     ]
    }
   ],
   "source": [
    "mdl1 = sm.Logit.from_formula('default ~ age_cat + cash + profit_margin + ebit_margin + wc_ratio + ocf_ratio + equity_ratio + debt_to_equity + roa + 1',\n",
    "                            data=df_train).fit(disp=False, maxiter=100)\n",
    "print(mdl1.summary2())"
   ]
  },
  {
   "cell_type": "code",
   "execution_count": 202,
   "metadata": {
    "ExecuteTime": {
     "end_time": "2021-01-02T14:16:03.578161Z",
     "start_time": "2021-01-02T14:16:03.460513Z"
    }
   },
   "outputs": [
    {
     "name": "stdout",
     "output_type": "stream",
     "text": [
      "Optimization terminated successfully.\n",
      "         Current function value: 0.197646\n",
      "         Iterations 11\n"
     ]
    },
    {
     "data": {
      "text/html": [
       "<table class=\"simpletable\">\n",
       "<tr>\n",
       "        <td>Model:</td>              <td>Logit</td>      <td>Pseudo R-squared:</td>   <td>0.095</td>  \n",
       "</tr>\n",
       "<tr>\n",
       "  <td>Dependent Variable:</td>      <td>default</td>           <td>AIC:</td>        <td>284.0551</td> \n",
       "</tr>\n",
       "<tr>\n",
       "         <td>Date:</td>        <td>2021-01-05 17:00</td>       <td>BIC:</td>        <td>329.0980</td> \n",
       "</tr>\n",
       "<tr>\n",
       "   <td>No. Observations:</td>         <td>668</td>        <td>Log-Likelihood:</td>   <td>-132.03</td> \n",
       "</tr>\n",
       "<tr>\n",
       "       <td>Df Model:</td>              <td>9</td>            <td>LL-Null:</td>       <td>-145.83</td> \n",
       "</tr>\n",
       "<tr>\n",
       "     <td>Df Residuals:</td>           <td>658</td>         <td>LLR p-value:</td>    <td>0.0011078</td>\n",
       "</tr>\n",
       "<tr>\n",
       "      <td>Converged:</td>           <td>1.0000</td>           <td>Scale:</td>        <td>1.0000</td>  \n",
       "</tr>\n",
       "<tr>\n",
       "    <td>No. Iterations:</td>        <td>11.0000</td>             <td></td>              <td></td>     \n",
       "</tr>\n",
       "</table>\n",
       "<table class=\"simpletable\">\n",
       "<tr>\n",
       "         <td></td>         <th>Coef.</th>  <th>Std.Err.</th>    <th>z</th>     <th>P>|z|</th> <th>[0.025</th>  <th>0.975]</th> \n",
       "</tr>\n",
       "<tr>\n",
       "  <th>const</th>          <td>-4.4926</td>  <td>1.2885</td>  <td>-3.4867</td> <td>0.0005</td> <td>-7.0180</td> <td>-1.9672</td>\n",
       "</tr>\n",
       "<tr>\n",
       "  <th>age_cat</th>        <td>0.6059</td>   <td>0.3487</td>  <td>1.7378</td>  <td>0.0823</td> <td>-0.0775</td> <td>1.2894</td> \n",
       "</tr>\n",
       "<tr>\n",
       "  <th>cash</th>           <td>-0.0000</td>  <td>0.0000</td>  <td>-1.9903</td> <td>0.0466</td> <td>-0.0000</td> <td>-0.0000</td>\n",
       "</tr>\n",
       "<tr>\n",
       "  <th>profit_margin</th>  <td>0.4551</td>   <td>0.4142</td>  <td>1.0986</td>  <td>0.2719</td> <td>-0.3568</td> <td>1.2670</td> \n",
       "</tr>\n",
       "<tr>\n",
       "  <th>ebit_margin</th>    <td>-1.0134</td>  <td>0.7673</td>  <td>-1.3208</td> <td>0.1866</td> <td>-2.5173</td> <td>0.4905</td> \n",
       "</tr>\n",
       "<tr>\n",
       "  <th>wc_ratio</th>       <td>-0.2369</td>  <td>0.1393</td>  <td>-1.7009</td> <td>0.0890</td> <td>-0.5098</td> <td>0.0361</td> \n",
       "</tr>\n",
       "<tr>\n",
       "  <th>ocf_ratio</th>      <td>0.1218</td>   <td>0.2857</td>  <td>0.4262</td>  <td>0.6700</td> <td>-0.4382</td> <td>0.6818</td> \n",
       "</tr>\n",
       "<tr>\n",
       "  <th>equity_ratio</th>   <td>0.3687</td>   <td>0.5798</td>  <td>0.6360</td>  <td>0.5248</td> <td>-0.7676</td> <td>1.5051</td> \n",
       "</tr>\n",
       "<tr>\n",
       "  <th>debt_to_equity</th> <td>0.0006</td>   <td>0.0035</td>  <td>0.1587</td>  <td>0.8739</td> <td>-0.0064</td> <td>0.0075</td> \n",
       "</tr>\n",
       "<tr>\n",
       "  <th>roa</th>            <td>-1.3379</td>  <td>1.3766</td>  <td>-0.9719</td> <td>0.3311</td> <td>-4.0361</td> <td>1.3602</td> \n",
       "</tr>\n",
       "</table>"
      ],
      "text/plain": [
       "<class 'statsmodels.iolib.summary2.Summary'>\n",
       "\"\"\"\n",
       "                         Results: Logit\n",
       "================================================================\n",
       "Model:              Logit            Pseudo R-squared: 0.095    \n",
       "Dependent Variable: default          AIC:              284.0551 \n",
       "Date:               2021-01-05 17:00 BIC:              329.0980 \n",
       "No. Observations:   668              Log-Likelihood:   -132.03  \n",
       "Df Model:           9                LL-Null:          -145.83  \n",
       "Df Residuals:       658              LLR p-value:      0.0011078\n",
       "Converged:          1.0000           Scale:            1.0000   \n",
       "No. Iterations:     11.0000                                     \n",
       "----------------------------------------------------------------\n",
       "                  Coef.  Std.Err.    z    P>|z|   [0.025  0.975]\n",
       "----------------------------------------------------------------\n",
       "const            -4.4926   1.2885 -3.4867 0.0005 -7.0180 -1.9672\n",
       "age_cat           0.6059   0.3487  1.7378 0.0823 -0.0775  1.2894\n",
       "cash             -0.0000   0.0000 -1.9903 0.0466 -0.0000 -0.0000\n",
       "profit_margin     0.4551   0.4142  1.0986 0.2719 -0.3568  1.2670\n",
       "ebit_margin      -1.0134   0.7673 -1.3208 0.1866 -2.5173  0.4905\n",
       "wc_ratio         -0.2369   0.1393 -1.7009 0.0890 -0.5098  0.0361\n",
       "ocf_ratio         0.1218   0.2857  0.4262 0.6700 -0.4382  0.6818\n",
       "equity_ratio      0.3687   0.5798  0.6360 0.5248 -0.7676  1.5051\n",
       "debt_to_equity    0.0006   0.0035  0.1587 0.8739 -0.0064  0.0075\n",
       "roa              -1.3379   1.3766 -0.9719 0.3311 -4.0361  1.3602\n",
       "================================================================\n",
       "\n",
       "\"\"\""
      ]
     },
     "execution_count": 202,
     "metadata": {},
     "output_type": "execute_result"
    }
   ],
   "source": [
    "y = df_train[\"default\"]\n",
    "X = df_train[['age_cat', 'cash', 'profit_margin', 'ebit_margin', 'wc_ratio', 'ocf_ratio', 'equity_ratio', 'debt_to_equity', 'roa']]\n",
    "X = X.fillna(0)\n",
    "X = sm.add_constant(X)\n",
    "\n",
    "\n",
    "mdl2 = sm.Logit(y,X).fit()\n",
    "mdl2.summary2()"
   ]
  },
  {
   "cell_type": "code",
   "execution_count": 203,
   "metadata": {
    "ExecuteTime": {
     "end_time": "2021-01-02T14:16:05.640490Z",
     "start_time": "2021-01-02T14:16:05.596632Z"
    }
   },
   "outputs": [
    {
     "data": {
      "text/html": [
       "<div>\n",
       "<style scoped>\n",
       "    .dataframe tbody tr th:only-of-type {\n",
       "        vertical-align: middle;\n",
       "    }\n",
       "\n",
       "    .dataframe tbody tr th {\n",
       "        vertical-align: top;\n",
       "    }\n",
       "\n",
       "    .dataframe thead th {\n",
       "        text-align: right;\n",
       "    }\n",
       "</style>\n",
       "<table border=\"1\" class=\"dataframe\">\n",
       "  <thead>\n",
       "    <tr style=\"text-align: right;\">\n",
       "      <th></th>\n",
       "      <th>default</th>\n",
       "      <th>estimated PD in %</th>\n",
       "    </tr>\n",
       "  </thead>\n",
       "  <tbody>\n",
       "    <tr>\n",
       "      <th>419</th>\n",
       "      <td>1</td>\n",
       "      <td>39.40</td>\n",
       "    </tr>\n",
       "    <tr>\n",
       "      <th>358</th>\n",
       "      <td>0</td>\n",
       "      <td>34.75</td>\n",
       "    </tr>\n",
       "    <tr>\n",
       "      <th>212</th>\n",
       "      <td>1</td>\n",
       "      <td>29.74</td>\n",
       "    </tr>\n",
       "    <tr>\n",
       "      <th>15</th>\n",
       "      <td>0</td>\n",
       "      <td>24.08</td>\n",
       "    </tr>\n",
       "    <tr>\n",
       "      <th>409</th>\n",
       "      <td>0</td>\n",
       "      <td>22.52</td>\n",
       "    </tr>\n",
       "    <tr>\n",
       "      <th>...</th>\n",
       "      <td>...</td>\n",
       "      <td>...</td>\n",
       "    </tr>\n",
       "    <tr>\n",
       "      <th>476</th>\n",
       "      <td>0</td>\n",
       "      <td>0.00</td>\n",
       "    </tr>\n",
       "    <tr>\n",
       "      <th>440</th>\n",
       "      <td>0</td>\n",
       "      <td>0.00</td>\n",
       "    </tr>\n",
       "    <tr>\n",
       "      <th>432</th>\n",
       "      <td>0</td>\n",
       "      <td>0.00</td>\n",
       "    </tr>\n",
       "    <tr>\n",
       "      <th>410</th>\n",
       "      <td>0</td>\n",
       "      <td>0.00</td>\n",
       "    </tr>\n",
       "    <tr>\n",
       "      <th>335</th>\n",
       "      <td>0</td>\n",
       "      <td>0.00</td>\n",
       "    </tr>\n",
       "  </tbody>\n",
       "</table>\n",
       "<p>668 rows × 2 columns</p>\n",
       "</div>"
      ],
      "text/plain": [
       "     default  estimated PD in %\n",
       "419        1              39.40\n",
       "358        0              34.75\n",
       "212        1              29.74\n",
       "15         0              24.08\n",
       "409        0              22.52\n",
       "..       ...                ...\n",
       "476        0               0.00\n",
       "440        0               0.00\n",
       "432        0               0.00\n",
       "410        0               0.00\n",
       "335        0               0.00\n",
       "\n",
       "[668 rows x 2 columns]"
      ]
     },
     "execution_count": 203,
     "metadata": {},
     "output_type": "execute_result"
    }
   ],
   "source": [
    "# see how our model would have predicted the defaults \n",
    "s = pd.concat([df_train[\"default\"],round(mdl1.predict(X)*100,2)],axis=1,)\n",
    "s.columns = [\"default\",\"estimated PD in %\"]\n",
    "s.sort_values(by=\"estimated PD in %\",ascending=False)"
   ]
  },
  {
   "cell_type": "code",
   "execution_count": 204,
   "metadata": {
    "ExecuteTime": {
     "end_time": "2021-01-02T14:16:08.773379Z",
     "start_time": "2021-01-02T14:16:08.739889Z"
    }
   },
   "outputs": [
    {
     "data": {
      "text/html": [
       "<div>\n",
       "<style scoped>\n",
       "    .dataframe tbody tr th:only-of-type {\n",
       "        vertical-align: middle;\n",
       "    }\n",
       "\n",
       "    .dataframe tbody tr th {\n",
       "        vertical-align: top;\n",
       "    }\n",
       "\n",
       "    .dataframe thead th {\n",
       "        text-align: right;\n",
       "    }\n",
       "</style>\n",
       "<table border=\"1\" class=\"dataframe\">\n",
       "  <thead>\n",
       "    <tr style=\"text-align: right;\">\n",
       "      <th></th>\n",
       "      <th>default</th>\n",
       "      <th>estimated PD in %</th>\n",
       "    </tr>\n",
       "  </thead>\n",
       "  <tbody>\n",
       "    <tr>\n",
       "      <th>32</th>\n",
       "      <td>1</td>\n",
       "      <td>2.97</td>\n",
       "    </tr>\n",
       "    <tr>\n",
       "      <th>43</th>\n",
       "      <td>1</td>\n",
       "      <td>11.42</td>\n",
       "    </tr>\n",
       "    <tr>\n",
       "      <th>69</th>\n",
       "      <td>1</td>\n",
       "      <td>8.91</td>\n",
       "    </tr>\n",
       "    <tr>\n",
       "      <th>104</th>\n",
       "      <td>1</td>\n",
       "      <td>10.17</td>\n",
       "    </tr>\n",
       "    <tr>\n",
       "      <th>114</th>\n",
       "      <td>1</td>\n",
       "      <td>4.36</td>\n",
       "    </tr>\n",
       "    <tr>\n",
       "      <th>120</th>\n",
       "      <td>1</td>\n",
       "      <td>8.98</td>\n",
       "    </tr>\n",
       "    <tr>\n",
       "      <th>128</th>\n",
       "      <td>1</td>\n",
       "      <td>12.59</td>\n",
       "    </tr>\n",
       "    <tr>\n",
       "      <th>139</th>\n",
       "      <td>1</td>\n",
       "      <td>6.93</td>\n",
       "    </tr>\n",
       "    <tr>\n",
       "      <th>150</th>\n",
       "      <td>1</td>\n",
       "      <td>8.43</td>\n",
       "    </tr>\n",
       "    <tr>\n",
       "      <th>198</th>\n",
       "      <td>1</td>\n",
       "      <td>6.38</td>\n",
       "    </tr>\n",
       "    <tr>\n",
       "      <th>212</th>\n",
       "      <td>1</td>\n",
       "      <td>29.74</td>\n",
       "    </tr>\n",
       "    <tr>\n",
       "      <th>218</th>\n",
       "      <td>1</td>\n",
       "      <td>8.19</td>\n",
       "    </tr>\n",
       "    <tr>\n",
       "      <th>226</th>\n",
       "      <td>1</td>\n",
       "      <td>2.84</td>\n",
       "    </tr>\n",
       "    <tr>\n",
       "      <th>236</th>\n",
       "      <td>1</td>\n",
       "      <td>14.54</td>\n",
       "    </tr>\n",
       "    <tr>\n",
       "      <th>250</th>\n",
       "      <td>1</td>\n",
       "      <td>14.08</td>\n",
       "    </tr>\n",
       "    <tr>\n",
       "      <th>251</th>\n",
       "      <td>1</td>\n",
       "      <td>18.10</td>\n",
       "    </tr>\n",
       "    <tr>\n",
       "      <th>296</th>\n",
       "      <td>1</td>\n",
       "      <td>4.59</td>\n",
       "    </tr>\n",
       "    <tr>\n",
       "      <th>305</th>\n",
       "      <td>1</td>\n",
       "      <td>6.05</td>\n",
       "    </tr>\n",
       "    <tr>\n",
       "      <th>313</th>\n",
       "      <td>1</td>\n",
       "      <td>11.28</td>\n",
       "    </tr>\n",
       "    <tr>\n",
       "      <th>341</th>\n",
       "      <td>1</td>\n",
       "      <td>6.40</td>\n",
       "    </tr>\n",
       "    <tr>\n",
       "      <th>346</th>\n",
       "      <td>1</td>\n",
       "      <td>7.98</td>\n",
       "    </tr>\n",
       "    <tr>\n",
       "      <th>375</th>\n",
       "      <td>1</td>\n",
       "      <td>10.56</td>\n",
       "    </tr>\n",
       "    <tr>\n",
       "      <th>389</th>\n",
       "      <td>1</td>\n",
       "      <td>10.45</td>\n",
       "    </tr>\n",
       "    <tr>\n",
       "      <th>406</th>\n",
       "      <td>1</td>\n",
       "      <td>9.68</td>\n",
       "    </tr>\n",
       "    <tr>\n",
       "      <th>419</th>\n",
       "      <td>1</td>\n",
       "      <td>39.40</td>\n",
       "    </tr>\n",
       "    <tr>\n",
       "      <th>427</th>\n",
       "      <td>1</td>\n",
       "      <td>4.75</td>\n",
       "    </tr>\n",
       "    <tr>\n",
       "      <th>477</th>\n",
       "      <td>1</td>\n",
       "      <td>11.65</td>\n",
       "    </tr>\n",
       "    <tr>\n",
       "      <th>479</th>\n",
       "      <td>1</td>\n",
       "      <td>10.38</td>\n",
       "    </tr>\n",
       "    <tr>\n",
       "      <th>495</th>\n",
       "      <td>1</td>\n",
       "      <td>5.64</td>\n",
       "    </tr>\n",
       "    <tr>\n",
       "      <th>521</th>\n",
       "      <td>1</td>\n",
       "      <td>8.84</td>\n",
       "    </tr>\n",
       "    <tr>\n",
       "      <th>522</th>\n",
       "      <td>1</td>\n",
       "      <td>3.33</td>\n",
       "    </tr>\n",
       "    <tr>\n",
       "      <th>543</th>\n",
       "      <td>1</td>\n",
       "      <td>7.04</td>\n",
       "    </tr>\n",
       "    <tr>\n",
       "      <th>564</th>\n",
       "      <td>1</td>\n",
       "      <td>2.40</td>\n",
       "    </tr>\n",
       "    <tr>\n",
       "      <th>566</th>\n",
       "      <td>1</td>\n",
       "      <td>9.81</td>\n",
       "    </tr>\n",
       "    <tr>\n",
       "      <th>568</th>\n",
       "      <td>1</td>\n",
       "      <td>6.19</td>\n",
       "    </tr>\n",
       "    <tr>\n",
       "      <th>636</th>\n",
       "      <td>1</td>\n",
       "      <td>2.75</td>\n",
       "    </tr>\n",
       "    <tr>\n",
       "      <th>649</th>\n",
       "      <td>1</td>\n",
       "      <td>13.13</td>\n",
       "    </tr>\n",
       "    <tr>\n",
       "      <th>662</th>\n",
       "      <td>1</td>\n",
       "      <td>5.79</td>\n",
       "    </tr>\n",
       "  </tbody>\n",
       "</table>\n",
       "</div>"
      ],
      "text/plain": [
       "     default  estimated PD in %\n",
       "32         1               2.97\n",
       "43         1              11.42\n",
       "69         1               8.91\n",
       "104        1              10.17\n",
       "114        1               4.36\n",
       "120        1               8.98\n",
       "128        1              12.59\n",
       "139        1               6.93\n",
       "150        1               8.43\n",
       "198        1               6.38\n",
       "212        1              29.74\n",
       "218        1               8.19\n",
       "226        1               2.84\n",
       "236        1              14.54\n",
       "250        1              14.08\n",
       "251        1              18.10\n",
       "296        1               4.59\n",
       "305        1               6.05\n",
       "313        1              11.28\n",
       "341        1               6.40\n",
       "346        1               7.98\n",
       "375        1              10.56\n",
       "389        1              10.45\n",
       "406        1               9.68\n",
       "419        1              39.40\n",
       "427        1               4.75\n",
       "477        1              11.65\n",
       "479        1              10.38\n",
       "495        1               5.64\n",
       "521        1               8.84\n",
       "522        1               3.33\n",
       "543        1               7.04\n",
       "564        1               2.40\n",
       "566        1               9.81\n",
       "568        1               6.19\n",
       "636        1               2.75\n",
       "649        1              13.13\n",
       "662        1               5.79"
      ]
     },
     "execution_count": 204,
     "metadata": {},
     "output_type": "execute_result"
    }
   ],
   "source": [
    "s[s[\"default\"] == 1]"
   ]
  },
  {
   "cell_type": "code",
   "execution_count": 205,
   "metadata": {
    "ExecuteTime": {
     "end_time": "2021-01-02T14:16:12.557761Z",
     "start_time": "2021-01-02T14:16:12.503789Z"
    }
   },
   "outputs": [
    {
     "name": "stdout",
     "output_type": "stream",
     "text": [
      "Optimization terminated successfully.\n",
      "         Current function value: 0.197806\n",
      "         Iterations 11\n",
      "Mean Absolute Error: 0.1 .\n"
     ]
    }
   ],
   "source": [
    "# Splitting data into training and testing sets.\n",
    "train_features, test_features, train_labels, test_labels = train_test_split(X, y, test_size = 0.2, random_state = 42, stratify = y)\n",
    " \n",
    "# The splited Logit Model\n",
    "mdl2split = sm.Logit(train_labels,train_features).fit()\n",
    "mdl2split.summary2()\n",
    "\n",
    "# Predict the test data\n",
    "predictions_split = mdl2split.predict(test_features)\n",
    "# Predict the training data\n",
    "predictions_split_train = mdl2split.predict(train_features)\n",
    "\n",
    "# Calculate the absolute errors\n",
    "errors = abs(predictions_split - test_labels)\n",
    "# Print out the mean absolute error (mae)\n",
    "print('Mean Absolute Error:', round(np.mean(errors), 2), '.')"
   ]
  },
  {
   "cell_type": "code",
   "execution_count": 206,
   "metadata": {
    "ExecuteTime": {
     "end_time": "2021-01-02T14:16:14.818539Z",
     "start_time": "2021-01-02T14:16:14.293003Z"
    }
   },
   "outputs": [
    {
     "name": "stdout",
     "output_type": "stream",
     "text": [
      "Out sample: \n",
      "AUC (LY):   0.7192460317460317\n",
      "GINI (LY):  0.4384920634920635\n"
     ]
    },
    {
     "data": {
      "image/png": "[encoded data removed]",
      "text/plain": [
       "<Figure size 1080x360 with 1 Axes>"
      ]
     },
     "metadata": {
      "needs_background": "light"
     },
     "output_type": "display_data"
    }
   ],
   "source": [
    "#AUC & Gini Graph + Calculations of splitted logit\n",
    "\n",
    "fpr_split, tpr_split, thresholds_split = metrics.roc_curve(test_labels, predictions_split)\n",
    "auc_split = metrics.auc(fpr_split, tpr_split) \n",
    "\n",
    "#Predict the in sample (train) data for comparision\n",
    "fpr_split_train, tpr_split_train, thresholds_split_train = metrics.roc_curve(train_labels, predictions_split_train)\n",
    "auc_split_train = metrics.auc(fpr_split_train, tpr_split_train)\n",
    "\n",
    "fig, axes = plt.subplots(figsize=(15,5))\n",
    "lw = 2\n",
    "axes = plt.plot(fpr_split, tpr_split, color='darkred',\n",
    "         lw=lw, label='ROC curve test (area = %0.2f)' % auc_split)\n",
    "axes = plt.plot(fpr_split_train, tpr_split_train, color='darkgreen',\n",
    "         lw=lw, label='ROC curve train (area = %0.2f)' % auc_split_train)\n",
    "axes = plt.plot([0, 1], [0, 1], color='lightblue', lw=lw, linestyle='--')\n",
    "plt.xlim([0.0, 1.0])\n",
    "plt.ylim([0.0, 1.05])\n",
    "plt.xlabel('False Positive Rate')\n",
    "plt.ylabel('True Positive Rate')\n",
    "plt.title('Receiver operating characteristic example Logistic')\n",
    "plt.legend(loc=\"lower right\")\n",
    "\n",
    "print(\"Out sample: \")\n",
    "print('AUC (LY):  ',auc_split)\n",
    "print('GINI (LY): ', 2*auc_split -1)"
   ]
  },
  {
   "cell_type": "code",
   "execution_count": 207,
   "metadata": {
    "ExecuteTime": {
     "end_time": "2021-01-02T14:16:20.374315Z",
     "start_time": "2021-01-02T14:16:20.073756Z"
    }
   },
   "outputs": [
    {
     "name": "stdout",
     "output_type": "stream",
     "text": [
      "In sample: \n",
      "AUC L1:   0.7208855472013367\n",
      "GINI L1:  0.44177109440267337\n",
      "AUC L2:   0.7208855472013367\n",
      "GINI L2:  0.44177109440267337\n",
      "Splitted Logit Regression\n",
      "Out sample: \n",
      "AUC Test Sample:   0.7192460317460317\n",
      "GINI Test Sample:  0.4384920634920635\n"
     ]
    },
    {
     "data": {
      "image/png": "[encoded data removed]",
      "text/plain": [
       "<Figure size 1080x360 with 1 Axes>"
      ]
     },
     "metadata": {
      "needs_background": "light"
     },
     "output_type": "display_data"
    }
   ],
   "source": [
    "#AUC & Gini Graph + Calculations of old logit regression (red) splitted logit regression (green)\n",
    "predictions_L1 = mdl1.predict(X)\n",
    "predictions_L2 = mdl2.predict(X)\n",
    "#AUC & Gini Graph + Calculations\n",
    "fpr_L1, tpr_L1, thresholds_L1 = metrics.roc_curve(df_train['default'], predictions_L1)\n",
    "auc_L1 = metrics.auc(fpr_L1, tpr_L1)\n",
    "\n",
    "fpr_L2, tpr_L2, thresholds_L2 = metrics.roc_curve(df_train['default'], predictions_L2)\n",
    "auc_L2 = metrics.auc(fpr_L2, tpr_L2)\n",
    "\n",
    "fig, axes = plt.subplots(figsize=(15,5))\n",
    "lw = 2\n",
    "axes = plt.plot(fpr_L1, tpr_L1, color='darkred',\n",
    "         lw=lw, label='ROC curve L1(area = %0.2f)' % auc_L1)\n",
    "axes = plt.plot(fpr_L2, tpr_L2, color='darkred',\n",
    "         lw=lw, label='ROC curve L2(area = %0.2f)' % auc_L2)\n",
    "axes = plt.plot(fpr_split, tpr_split, color='green',\n",
    "         lw=lw, label='ROC curve split (area = %0.2f)' % auc_split)\n",
    "axes = plt.plot([0, 1], [0, 1], color='lightblue', lw=lw, linestyle='--')\n",
    "plt.xlim([0.0, 1.0])\n",
    "plt.ylim([0.0, 1.05])\n",
    "plt.xlabel('False Positive Rate')\n",
    "plt.ylabel('True Positive Rate')\n",
    "plt.title('Receiver operating characteristic example Logistic')\n",
    "plt.legend(loc=\"lower right\")\n",
    "\n",
    "print(\"In sample: \")\n",
    "print('AUC L1:  ',auc_L1)\n",
    "print('GINI L1: ', 2*auc_L1 -1)\n",
    "print('AUC L2:  ',auc_L2)\n",
    "print('GINI L2: ', 2*auc_L2 -1)\n",
    "print('Splitted Logit Regression')\n",
    "print(\"Out sample: \")\n",
    "print('AUC Test Sample:  ',auc_split)\n",
    "print('GINI Test Sample: ', 2*auc_split -1)"
   ]
  },
  {
   "cell_type": "code",
   "execution_count": null,
   "metadata": {
    "ExecuteTime": {
     "end_time": "2020-12-30T09:32:31.903028Z",
     "start_time": "2020-12-30T09:32:31.861946Z"
    }
   },
   "outputs": [],
   "source": []
  },
  {
   "cell_type": "markdown",
   "metadata": {},
   "source": [
    "# Random Forest Approach"
   ]
  },
  {
   "cell_type": "code",
   "execution_count": 208,
   "metadata": {},
   "outputs": [
    {
     "data": {
      "text/plain": [
       "1.0"
      ]
     },
     "execution_count": 208,
     "metadata": {},
     "output_type": "execute_result"
    }
   ],
   "source": [
    "# Import the model we are using\n",
    "from sklearn.ensemble import RandomForestRegressor\n",
    "from sklearn.ensemble import RandomForestClassifier\n",
    "\n",
    "# Instantiate model with 1000 decision trees\n",
    "rf = RandomForestClassifier(n_estimators = 2000, \n",
    "                            criterion='gini',\n",
    "                            max_depth=None,\n",
    "                            min_samples_split = 5,\n",
    "                            min_samples_leaf = 3,\n",
    "                            max_features='auto',\n",
    "                            bootstrap=True,\n",
    "                            oob_score=True,\n",
    "                            random_state = 0,\n",
    "                            verbose=0,\n",
    "                            n_jobs= 2 ,\n",
    "                            class_weight = 'balanced_subsample')\n",
    "\n",
    "\n",
    "# Train the model on training data\n",
    "rf.fit(train_features, train_labels)\n",
    "rf.score(train_features, train_labels)"
   ]
  },
  {
   "cell_type": "code",
   "execution_count": 209,
   "metadata": {},
   "outputs": [
    {
     "name": "stdout",
     "output_type": "stream",
     "text": [
      "Mean Absolute Error: 0.06 .\n"
     ]
    }
   ],
   "source": [
    "# Use the forest's predict method on the test data\n",
    "predictions_rf = rf.predict(test_features)\n",
    "predictions_rf_insample = rf.predict(train_features)\n",
    "\n",
    "predictions_prob = rf.predict_proba(test_features)[:, 1]\n",
    "predictions_prob_rf_insample = rf.predict_proba(train_features)[:,1]\n",
    "# Calculate the absolute errors\n",
    "errors = abs(predictions_rf - test_labels)\n",
    "\n",
    "\n",
    "# Print out the mean absolute error (mae)\n",
    "print('Mean Absolute Error:', round(np.mean(errors), 2), '.')"
   ]
  },
  {
   "cell_type": "code",
   "execution_count": 210,
   "metadata": {},
   "outputs": [
    {
     "data": {
      "image/png": "[encoded data removed]",
      "text/plain": [
       "<Figure size 1080x360 with 1 Axes>"
      ]
     },
     "metadata": {
      "needs_background": "light"
     },
     "output_type": "display_data"
    },
    {
     "name": "stdout",
     "output_type": "stream",
     "text": [
      "Random Forest Approach\n",
      "In sample:\n",
      "AUC :   1.0\n",
      "GINI:  1.0\n",
      "Out sample: \n",
      "AUC :   0.7400793650793651\n",
      "GINI:  0.48015873015873023\n"
     ]
    }
   ],
   "source": [
    "predicitons_rf_prob = rf.predict_proba(test_features)[:, 1]\n",
    "\n",
    "fpr, tpr, thresholds = metrics.roc_curve(test_labels, predicitons_rf_prob)\n",
    "auc = metrics.auc(fpr, tpr)\n",
    "\n",
    "#In Sample measurements\n",
    "fpr_rf_is, tpr_rf_is, thresholds_rf_is = metrics.roc_curve(train_labels, predictions_prob_rf_insample)\n",
    "auc_rf_is = metrics.auc(fpr_rf_is, tpr_rf_is)\n",
    "\n",
    "fig, axes = plt.subplots(figsize=(15,5))\n",
    "lw = 2\n",
    "axes = plt.plot(fpr, tpr, color='darkred',\n",
    "         lw=lw, label='ROC curve (area = %0.2f)' % auc)\n",
    "axes = plt.plot(fpr_rf_is, tpr_rf_is, color='yellow',\n",
    "         lw=lw, label='ROC curve (area = %0.2f)' % auc_rf_is)        \n",
    "axes = plt.plot([0, 1], [0, 1], color='lightblue', lw=lw, linestyle='--')\n",
    "plt.xlim([0.0, 1.0])\n",
    "plt.ylim([0.0, 1.05])\n",
    "plt.xlabel('False Positive Rate')\n",
    "plt.ylabel('True Positive Rate')\n",
    "plt.title('Receiver operating characteristic example')\n",
    "plt.legend(loc=\"lower right\")\n",
    "plt.show()\n",
    "\n",
    "print(\"Random Forest Approach\")\n",
    "print(\"In sample:\")\n",
    "print('AUC :  ',auc_rf_is)\n",
    "print('GINI: ', 2*auc_rf_is -1)\n",
    "print(\"Out sample: \")\n",
    "print('AUC :  ',auc)\n",
    "print('GINI: ', 2*auc -1)"
   ]
  },
  {
   "cell_type": "code",
   "execution_count": 211,
   "metadata": {},
   "outputs": [
    {
     "data": {
      "text/plain": [
       "RandomForestClassifier(class_weight='balanced_subsample', min_samples_leaf=3,\n",
       "                       min_samples_split=5, n_estimators=2000, n_jobs=2,\n",
       "                       oob_score=True, random_state=0)"
      ]
     },
     "execution_count": 211,
     "metadata": {},
     "output_type": "execute_result"
    }
   ],
   "source": [
    "weights =np.array([18 if i == 1 else 0.9 for i in train_labels])\n",
    "# Train the model on training data\n",
    "rf.fit(train_features, train_labels, sample_weight = weights)"
   ]
  },
  {
   "cell_type": "code",
   "execution_count": null,
   "metadata": {},
   "outputs": [],
   "source": []
  },
  {
   "cell_type": "code",
   "execution_count": null,
   "metadata": {},
   "outputs": [],
   "source": []
  },
  {
   "cell_type": "code",
   "execution_count": null,
   "metadata": {},
   "outputs": [],
   "source": []
  },
  {
   "cell_type": "code",
   "execution_count": null,
   "metadata": {},
   "outputs": [],
   "source": []
  },
  {
   "cell_type": "code",
   "execution_count": null,
   "metadata": {},
   "outputs": [],
   "source": []
  }
 ],
 "metadata": {
  "hide_input": false,
  "kernelspec": {
   "display_name": "Python 3",
   "language": "python",
   "name": "python3"
  },
  "language_info": {
   "codemirror_mode": {
    "name": "ipython",
    "version": 3
   },
   "file_extension": ".py",
   "mimetype": "text/x-python",
   "name": "python",
   "nbconvert_exporter": "python",
   "pygments_lexer": "ipython3",
   "version": "3.8.3"
  },
  "latex_envs": {
   "LaTeX_envs_menu_present": true,
   "autoclose": false,
   "autocomplete": true,
   "bibliofile": "biblio.bib",
   "cite_by": "apalike",
   "current_citInitial": 1,
   "eqLabelWithNumbers": true,
   "eqNumInitial": 1,
   "hotkeys": {
    "equation": "Ctrl-E",
    "itemize": "Ctrl-I"
   },
   "labels_anchors": false,
   "latex_user_defs": false,
   "report_style_numbering": false,
   "user_envs_cfg": false
  },
  "toc": {
   "base_numbering": 1,
   "nav_menu": {
    "height": "259px",
    "width": "211px"
   },
   "number_sections": true,
   "sideBar": true,
   "skip_h1_title": false,
   "title_cell": "Table of Contents",
   "title_sidebar": "Contents",
   "toc_cell": false,
   "toc_position": {},
   "toc_section_display": true,
   "toc_window_display": true
  },
  "varInspector": {
   "cols": {
    "lenName": 16,
    "lenType": 16,
    "lenVar": 40
   },
   "kernels_config": {
    "python": {
     "delete_cmd_postfix": "",
     "delete_cmd_prefix": "del ",
     "library": "var_list.py",
     "varRefreshCmd": "print(var_dic_list())"
    },
    "r": {
     "delete_cmd_postfix": ") ",
     "delete_cmd_prefix": "rm(",
     "library": "var_list.r",
     "varRefreshCmd": "cat(var_dic_list()) "
    }
   },
   "position": {
    "height": "161.85px",
    "left": "1142px",
    "right": "20px",
    "top": "59px",
    "width": "333px"
   },
   "types_to_exclude": [
    "module",
    "function",
    "builtin_function_or_method",
    "instance",
    "_Feature"
   ],
   "window_display": true
  }
 },
 "nbformat": 4,
 "nbformat_minor": 2
}
