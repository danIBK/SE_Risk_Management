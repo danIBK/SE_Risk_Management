{
 "cells": [
  {
   "cell_type": "code",
   "execution_count": 308,
   "metadata": {
    "ExecuteTime": {
     "end_time": "2020-12-30T08:59:41.174860Z",
     "start_time": "2020-12-30T08:59:36.373152Z"
    }
   },
   "outputs": [
    {
     "name": "stdout",
     "output_type": "stream",
     "text": [
      "Reinitialized existing Git repository in C:/Users/Fabio/OneDrive/Dokumente/Uni Innsbruck/WS20/Applied risk mgmt/SE/Heusli/SE_Risk_Management/.git/\n"
     ]
    },
    {
     "name": "stderr",
     "output_type": "stream",
     "text": [
      "warning: LF will be replaced by CRLF in .ipynb_checkpoints/Hello World-checkpoint.ipynb.\n",
      "The file will have its original line endings in your working directory\n",
      "warning: LF will be replaced by CRLF in Hello World.ipynb.\n",
      "The file will have its original line endings in your working directory\n"
     ]
    },
    {
     "name": "stdout",
     "output_type": "stream",
     "text": [
      "[main 77fadad] 3.3.2 Mann U Test for Univariate Analysis\n",
      " 2 files changed, 1086 insertions(+), 1212 deletions(-)\n"
     ]
    },
    {
     "name": "stderr",
     "output_type": "stream",
     "text": [
      "To https://github.com/danIBK/SE_Risk_Management.git\n",
      "   e9b9a57..77fadad  main -> main\n"
     ]
    }
   ],
   "source": [
    "# Setting\n",
    "## The path & packages\n",
    "'upload'\n",
    "#### Draft um Gitupload\n",
    "!git init \n",
    "!git add . \n",
    "!git commit -m \"3.3.2 Mann U Test for Univariate Analysis\"\n",
    "!git push"
   ]
  },
  {
   "cell_type": "code",
   "execution_count": 309,
   "metadata": {
    "ExecuteTime": {
     "end_time": "2020-12-30T08:37:41.396201Z",
     "start_time": "2020-12-30T08:37:35.703573Z"
    }
   },
   "outputs": [],
   "source": [
    "#Comment out the other paths and comment in your path\n",
    "#path = r'C:\\Users\\heuse\\Desktop\\SE_Risk_Management-1/' #Daniel Path\n",
    "#path = '/Users/mandoholzknecht/SE_Risk_Management/' # Path Mando\n",
    "path = 'C:/Users/Fabio/OneDrive/Dokumente/Uni Innsbruck/WS20/Applied risk mgmt/SE/Heusli/SE_Risk_Management/' # Path Fabio\n",
    "\n",
    "import warnings\n",
    "warnings.filterwarnings('ignore')\n",
    "\n",
    "import pandas as pd\n",
    "import numpy as np\n",
    "import matplotlib.pyplot as plt\n",
    "\n",
    "\n",
    "import seaborn as sns\n",
    "import statsmodels.api as sm\n",
    "import statsmodels.formula.api as smf\n",
    "import statsmodels.stats.anova as anova\n",
    "import scipy as sci\n",
    "\n",
    "from sklearn import metrics\n",
    "\n",
    "from sklearn.model_selection import train_test_split, RepeatedStratifiedKFold, cross_val_score\n",
    "from sklearn.linear_model import LogisticRegression\n",
    "from sklearn.metrics import roc_curve, roc_auc_score, confusion_matrix, precision_recall_curve, auc\n",
    "from sklearn.feature_selection import f_classif\n",
    "from sklearn.pipeline import Pipeline\n",
    "from sklearn.base import BaseEstimator, TransformerMixin\n",
    "from scipy.stats import chi2_contingency\n",
    "from sklearn.linear_model import LinearRegression\n",
    "from sklearn.metrics import mean_squared_error\n",
    "\n",
    "import datetime\n"
   ]
  },
  {
   "cell_type": "markdown",
   "metadata": {},
   "source": [
    "# Loading the data\n",
    "\n",
    "Loading the Training dataset + Test dataset"
   ]
  },
  {
   "cell_type": "code",
   "execution_count": 310,
   "metadata": {
    "ExecuteTime": {
     "end_time": "2020-12-30T08:37:41.508353Z",
     "start_time": "2020-12-30T08:37:41.443896Z"
    }
   },
   "outputs": [],
   "source": [
    "# use the realtive path finding\n",
    "df_train = pd.read_csv(path + 'Training_Dataset.csv', sep=';', index_col=None)\n",
    "df_test = pd.read_csv(path + 'Test_Dataset.csv', sep=';', index_col=0)\n"
   ]
  },
  {
   "cell_type": "markdown",
   "metadata": {},
   "source": [
    "checking the data"
   ]
  },
  {
   "cell_type": "code",
   "execution_count": 311,
   "metadata": {
    "ExecuteTime": {
     "end_time": "2020-12-30T08:37:41.763380Z",
     "start_time": "2020-12-30T08:37:41.694412Z"
    }
   },
   "outputs": [
    {
     "data": {
      "text/html": [
       "<div>\n",
       "<style scoped>\n",
       "    .dataframe tbody tr th:only-of-type {\n",
       "        vertical-align: middle;\n",
       "    }\n",
       "\n",
       "    .dataframe tbody tr th {\n",
       "        vertical-align: top;\n",
       "    }\n",
       "\n",
       "    .dataframe thead th {\n",
       "        text-align: right;\n",
       "    }\n",
       "</style>\n",
       "<table border=\"1\" class=\"dataframe\">\n",
       "  <thead>\n",
       "    <tr style=\"text-align: right;\">\n",
       "      <th></th>\n",
       "      <th>id</th>\n",
       "      <th>default</th>\n",
       "      <th>legal_form</th>\n",
       "      <th>zip_code</th>\n",
       "      <th>sector</th>\n",
       "      <th>year_inc</th>\n",
       "      <th>count_emp</th>\n",
       "      <th>type_pl</th>\n",
       "      <th>sales</th>\n",
       "      <th>gross_performance</th>\n",
       "      <th>...</th>\n",
       "      <th>bonds_payables_lt</th>\n",
       "      <th>total_equity</th>\n",
       "      <th>current_assets</th>\n",
       "      <th>monetary_current_assets</th>\n",
       "      <th>cash</th>\n",
       "      <th>trade_receivables_st</th>\n",
       "      <th>trade_receivables_lt</th>\n",
       "      <th>cf_operating</th>\n",
       "      <th>cf_investment</th>\n",
       "      <th>cf_financing</th>\n",
       "    </tr>\n",
       "  </thead>\n",
       "  <tbody>\n",
       "    <tr>\n",
       "      <th>0</th>\n",
       "      <td>C_405</td>\n",
       "      <td>0</td>\n",
       "      <td>GmbH &amp; Co. KG</td>\n",
       "      <td>12359</td>\n",
       "      <td>46730</td>\n",
       "      <td>1900</td>\n",
       "      <td>NaN</td>\n",
       "      <td>GKV</td>\n",
       "      <td>1.068738e+08</td>\n",
       "      <td>1.068738e+08</td>\n",
       "      <td>...</td>\n",
       "      <td>NaN</td>\n",
       "      <td>3.224471e+07</td>\n",
       "      <td>37831990.81</td>\n",
       "      <td>17111465.66</td>\n",
       "      <td>10297047.50</td>\n",
       "      <td>NaN</td>\n",
       "      <td>NaN</td>\n",
       "      <td>6.986094e+06</td>\n",
       "      <td>-1.112342e+06</td>\n",
       "      <td>-7520392.09</td>\n",
       "    </tr>\n",
       "    <tr>\n",
       "      <th>1</th>\n",
       "      <td>C_292</td>\n",
       "      <td>0</td>\n",
       "      <td>GmbH &amp; Co. KG</td>\n",
       "      <td>10719</td>\n",
       "      <td>70101</td>\n",
       "      <td>1976</td>\n",
       "      <td>NaN</td>\n",
       "      <td>GKV</td>\n",
       "      <td>1.393869e+06</td>\n",
       "      <td>1.407889e+06</td>\n",
       "      <td>...</td>\n",
       "      <td>NaN</td>\n",
       "      <td>4.508026e+06</td>\n",
       "      <td>4669178.63</td>\n",
       "      <td>927837.74</td>\n",
       "      <td>926383.75</td>\n",
       "      <td>NaN</td>\n",
       "      <td>NaN</td>\n",
       "      <td>-4.343980e+06</td>\n",
       "      <td>1.174427e+06</td>\n",
       "      <td>1128108.08</td>\n",
       "    </tr>\n",
       "    <tr>\n",
       "      <th>2</th>\n",
       "      <td>C_746</td>\n",
       "      <td>0</td>\n",
       "      <td>GmbH</td>\n",
       "      <td>13353</td>\n",
       "      <td>87100</td>\n",
       "      <td>1962</td>\n",
       "      <td>323.0</td>\n",
       "      <td>GKV</td>\n",
       "      <td>3.864034e+06</td>\n",
       "      <td>7.597353e+05</td>\n",
       "      <td>...</td>\n",
       "      <td>NaN</td>\n",
       "      <td>5.164048e+04</td>\n",
       "      <td>28101189.79</td>\n",
       "      <td>11116958.92</td>\n",
       "      <td>9146283.79</td>\n",
       "      <td>617816.28</td>\n",
       "      <td>NaN</td>\n",
       "      <td>9.548544e+06</td>\n",
       "      <td>-7.536444e+06</td>\n",
       "      <td>-22026.07</td>\n",
       "    </tr>\n",
       "    <tr>\n",
       "      <th>3</th>\n",
       "      <td>C_838</td>\n",
       "      <td>0</td>\n",
       "      <td>AG</td>\n",
       "      <td>12529</td>\n",
       "      <td>68320</td>\n",
       "      <td>1972</td>\n",
       "      <td>1.0</td>\n",
       "      <td>GKV</td>\n",
       "      <td>4.384786e+06</td>\n",
       "      <td>4.405058e+06</td>\n",
       "      <td>...</td>\n",
       "      <td>NaN</td>\n",
       "      <td>1.182011e+07</td>\n",
       "      <td>8238473.86</td>\n",
       "      <td>7519183.22</td>\n",
       "      <td>6890565.23</td>\n",
       "      <td>319848.26</td>\n",
       "      <td>NaN</td>\n",
       "      <td>1.715799e+06</td>\n",
       "      <td>-6.561222e+05</td>\n",
       "      <td>-169655.66</td>\n",
       "    </tr>\n",
       "    <tr>\n",
       "      <th>4</th>\n",
       "      <td>C_495</td>\n",
       "      <td>0</td>\n",
       "      <td>Einzelfirma</td>\n",
       "      <td>12165</td>\n",
       "      <td>47730</td>\n",
       "      <td>1908</td>\n",
       "      <td>NaN</td>\n",
       "      <td>GKV</td>\n",
       "      <td>1.104478e+08</td>\n",
       "      <td>1.104478e+08</td>\n",
       "      <td>...</td>\n",
       "      <td>NaN</td>\n",
       "      <td>4.547445e+08</td>\n",
       "      <td>35465651.58</td>\n",
       "      <td>8545183.94</td>\n",
       "      <td>5036615.09</td>\n",
       "      <td>516646.73</td>\n",
       "      <td>NaN</td>\n",
       "      <td>1.301809e+08</td>\n",
       "      <td>-1.419776e+08</td>\n",
       "      <td>12567030.80</td>\n",
       "    </tr>\n",
       "  </tbody>\n",
       "</table>\n",
       "<p>5 rows × 40 columns</p>\n",
       "</div>"
      ],
      "text/plain": [
       "      id  default     legal_form  zip_code  sector  year_inc  count_emp  \\\n",
       "0  C_405        0  GmbH & Co. KG     12359   46730      1900        NaN   \n",
       "1  C_292        0  GmbH & Co. KG     10719   70101      1976        NaN   \n",
       "2  C_746        0           GmbH     13353   87100      1962      323.0   \n",
       "3  C_838        0             AG     12529   68320      1972        1.0   \n",
       "4  C_495        0    Einzelfirma     12165   47730      1908        NaN   \n",
       "\n",
       "  type_pl         sales  gross_performance  ...  bonds_payables_lt  \\\n",
       "0     GKV  1.068738e+08       1.068738e+08  ...                NaN   \n",
       "1     GKV  1.393869e+06       1.407889e+06  ...                NaN   \n",
       "2     GKV  3.864034e+06       7.597353e+05  ...                NaN   \n",
       "3     GKV  4.384786e+06       4.405058e+06  ...                NaN   \n",
       "4     GKV  1.104478e+08       1.104478e+08  ...                NaN   \n",
       "\n",
       "   total_equity  current_assets  monetary_current_assets         cash  \\\n",
       "0  3.224471e+07     37831990.81              17111465.66  10297047.50   \n",
       "1  4.508026e+06      4669178.63                927837.74    926383.75   \n",
       "2  5.164048e+04     28101189.79              11116958.92   9146283.79   \n",
       "3  1.182011e+07      8238473.86               7519183.22   6890565.23   \n",
       "4  4.547445e+08     35465651.58               8545183.94   5036615.09   \n",
       "\n",
       "   trade_receivables_st  trade_receivables_lt  cf_operating  cf_investment  \\\n",
       "0                   NaN                   NaN  6.986094e+06  -1.112342e+06   \n",
       "1                   NaN                   NaN -4.343980e+06   1.174427e+06   \n",
       "2             617816.28                   NaN  9.548544e+06  -7.536444e+06   \n",
       "3             319848.26                   NaN  1.715799e+06  -6.561222e+05   \n",
       "4             516646.73                   NaN  1.301809e+08  -1.419776e+08   \n",
       "\n",
       "   cf_financing  \n",
       "0   -7520392.09  \n",
       "1    1128108.08  \n",
       "2     -22026.07  \n",
       "3    -169655.66  \n",
       "4   12567030.80  \n",
       "\n",
       "[5 rows x 40 columns]"
      ]
     },
     "execution_count": 311,
     "metadata": {},
     "output_type": "execute_result"
    }
   ],
   "source": [
    "df_train.head()"
   ]
  },
  {
   "cell_type": "code",
   "execution_count": 312,
   "metadata": {
    "ExecuteTime": {
     "end_time": "2020-12-30T08:37:41.991191Z",
     "start_time": "2020-12-30T08:37:41.933881Z"
    }
   },
   "outputs": [
    {
     "data": {
      "text/html": [
       "<div>\n",
       "<style scoped>\n",
       "    .dataframe tbody tr th:only-of-type {\n",
       "        vertical-align: middle;\n",
       "    }\n",
       "\n",
       "    .dataframe tbody tr th {\n",
       "        vertical-align: top;\n",
       "    }\n",
       "\n",
       "    .dataframe thead th {\n",
       "        text-align: right;\n",
       "    }\n",
       "</style>\n",
       "<table border=\"1\" class=\"dataframe\">\n",
       "  <thead>\n",
       "    <tr style=\"text-align: right;\">\n",
       "      <th></th>\n",
       "      <th>legal_form</th>\n",
       "      <th>zip_code</th>\n",
       "      <th>sector</th>\n",
       "      <th>year_inc</th>\n",
       "      <th>count_emp</th>\n",
       "      <th>type_pl</th>\n",
       "      <th>sales</th>\n",
       "      <th>gross_performance</th>\n",
       "      <th>gross_profit</th>\n",
       "      <th>earn_from_op</th>\n",
       "      <th>...</th>\n",
       "      <th>bonds_payables_lt</th>\n",
       "      <th>total_equity</th>\n",
       "      <th>current_assets</th>\n",
       "      <th>monetary_current_assets</th>\n",
       "      <th>cash</th>\n",
       "      <th>trade_receivables_st</th>\n",
       "      <th>trade_receivables_lt</th>\n",
       "      <th>cf_operating</th>\n",
       "      <th>cf_investment</th>\n",
       "      <th>cf_financing</th>\n",
       "    </tr>\n",
       "    <tr>\n",
       "      <th>id</th>\n",
       "      <th></th>\n",
       "      <th></th>\n",
       "      <th></th>\n",
       "      <th></th>\n",
       "      <th></th>\n",
       "      <th></th>\n",
       "      <th></th>\n",
       "      <th></th>\n",
       "      <th></th>\n",
       "      <th></th>\n",
       "      <th></th>\n",
       "      <th></th>\n",
       "      <th></th>\n",
       "      <th></th>\n",
       "      <th></th>\n",
       "      <th></th>\n",
       "      <th></th>\n",
       "      <th></th>\n",
       "      <th></th>\n",
       "      <th></th>\n",
       "      <th></th>\n",
       "    </tr>\n",
       "  </thead>\n",
       "  <tbody>\n",
       "    <tr>\n",
       "      <th>C_411</th>\n",
       "      <td>GmbH</td>\n",
       "      <td>14089</td>\n",
       "      <td>69204</td>\n",
       "      <td>1986</td>\n",
       "      <td>NaN</td>\n",
       "      <td>GKV</td>\n",
       "      <td>728946.68</td>\n",
       "      <td>728946.68</td>\n",
       "      <td>209721.36</td>\n",
       "      <td>45390.50</td>\n",
       "      <td>...</td>\n",
       "      <td>NaN</td>\n",
       "      <td>NaN</td>\n",
       "      <td>64195.98</td>\n",
       "      <td>28659.19</td>\n",
       "      <td>5598.17</td>\n",
       "      <td>NaN</td>\n",
       "      <td>NaN</td>\n",
       "      <td>52632.64</td>\n",
       "      <td>-534.87</td>\n",
       "      <td>-5.457891e+04</td>\n",
       "    </tr>\n",
       "    <tr>\n",
       "      <th>C_896</th>\n",
       "      <td>GmbH</td>\n",
       "      <td>13127</td>\n",
       "      <td>87100</td>\n",
       "      <td>1992</td>\n",
       "      <td>181.0</td>\n",
       "      <td>GKV</td>\n",
       "      <td>708847.33</td>\n",
       "      <td>708847.33</td>\n",
       "      <td>738495.17</td>\n",
       "      <td>13017.29</td>\n",
       "      <td>...</td>\n",
       "      <td>NaN</td>\n",
       "      <td>442875.57</td>\n",
       "      <td>479144.25</td>\n",
       "      <td>452033.96</td>\n",
       "      <td>442835.62</td>\n",
       "      <td>NaN</td>\n",
       "      <td>NaN</td>\n",
       "      <td>-10575.21</td>\n",
       "      <td>-1295.42</td>\n",
       "      <td>-5.820000e-11</td>\n",
       "    </tr>\n",
       "    <tr>\n",
       "      <th>C_252</th>\n",
       "      <td>GmbH</td>\n",
       "      <td>14059</td>\n",
       "      <td>86101</td>\n",
       "      <td>1993</td>\n",
       "      <td>505.0</td>\n",
       "      <td>GKV</td>\n",
       "      <td>26025323.61</td>\n",
       "      <td>26015542.03</td>\n",
       "      <td>22022993.85</td>\n",
       "      <td>2086104.36</td>\n",
       "      <td>...</td>\n",
       "      <td>NaN</td>\n",
       "      <td>13733666.50</td>\n",
       "      <td>14504753.93</td>\n",
       "      <td>3441491.02</td>\n",
       "      <td>322075.13</td>\n",
       "      <td>3034766.29</td>\n",
       "      <td>NaN</td>\n",
       "      <td>2862349.65</td>\n",
       "      <td>-667342.46</td>\n",
       "      <td>-2.091456e+06</td>\n",
       "    </tr>\n",
       "    <tr>\n",
       "      <th>C_165</th>\n",
       "      <td>GmbH</td>\n",
       "      <td>10437</td>\n",
       "      <td>87100</td>\n",
       "      <td>1995</td>\n",
       "      <td>82.0</td>\n",
       "      <td>GKV</td>\n",
       "      <td>1105332.48</td>\n",
       "      <td>1105332.48</td>\n",
       "      <td>717405.05</td>\n",
       "      <td>88074.80</td>\n",
       "      <td>...</td>\n",
       "      <td>NaN</td>\n",
       "      <td>381990.95</td>\n",
       "      <td>371506.04</td>\n",
       "      <td>343269.12</td>\n",
       "      <td>256395.19</td>\n",
       "      <td>NaN</td>\n",
       "      <td>NaN</td>\n",
       "      <td>156251.71</td>\n",
       "      <td>-57344.11</td>\n",
       "      <td>-1.160000e-10</td>\n",
       "    </tr>\n",
       "    <tr>\n",
       "      <th>C_856</th>\n",
       "      <td>GmbH</td>\n",
       "      <td>14943</td>\n",
       "      <td>96090</td>\n",
       "      <td>2002</td>\n",
       "      <td>22.0</td>\n",
       "      <td>GKV</td>\n",
       "      <td>51995424.22</td>\n",
       "      <td>51979901.95</td>\n",
       "      <td>46420844.34</td>\n",
       "      <td>5956777.13</td>\n",
       "      <td>...</td>\n",
       "      <td>NaN</td>\n",
       "      <td>6828494.53</td>\n",
       "      <td>18909648.90</td>\n",
       "      <td>15619860.60</td>\n",
       "      <td>6720068.91</td>\n",
       "      <td>8847966.22</td>\n",
       "      <td>NaN</td>\n",
       "      <td>5696079.15</td>\n",
       "      <td>-1418555.39</td>\n",
       "      <td>-4.163971e+06</td>\n",
       "    </tr>\n",
       "    <tr>\n",
       "      <th>C_415</th>\n",
       "      <td>GmbH</td>\n",
       "      <td>10969</td>\n",
       "      <td>68321</td>\n",
       "      <td>2006</td>\n",
       "      <td>NaN</td>\n",
       "      <td>GKV</td>\n",
       "      <td>13597456.35</td>\n",
       "      <td>13597456.35</td>\n",
       "      <td>7667501.25</td>\n",
       "      <td>-109859.68</td>\n",
       "      <td>...</td>\n",
       "      <td>NaN</td>\n",
       "      <td>0.00</td>\n",
       "      <td>1273354.65</td>\n",
       "      <td>1277275.04</td>\n",
       "      <td>5848.43</td>\n",
       "      <td>136628.62</td>\n",
       "      <td>NaN</td>\n",
       "      <td>83600.84</td>\n",
       "      <td>1560281.10</td>\n",
       "      <td>-1.643803e+06</td>\n",
       "    </tr>\n",
       "    <tr>\n",
       "      <th>C_520</th>\n",
       "      <td>GmbH</td>\n",
       "      <td>10625</td>\n",
       "      <td>68100</td>\n",
       "      <td>2010</td>\n",
       "      <td>NaN</td>\n",
       "      <td>GKV</td>\n",
       "      <td>10365544.05</td>\n",
       "      <td>10365544.05</td>\n",
       "      <td>7931366.20</td>\n",
       "      <td>565338.94</td>\n",
       "      <td>...</td>\n",
       "      <td>NaN</td>\n",
       "      <td>8823433.07</td>\n",
       "      <td>7715921.82</td>\n",
       "      <td>7749440.79</td>\n",
       "      <td>6802934.01</td>\n",
       "      <td>855343.08</td>\n",
       "      <td>NaN</td>\n",
       "      <td>1051697.31</td>\n",
       "      <td>-366425.37</td>\n",
       "      <td>-5.398260e+03</td>\n",
       "    </tr>\n",
       "    <tr>\n",
       "      <th>C_127</th>\n",
       "      <td>GmbH</td>\n",
       "      <td>29308</td>\n",
       "      <td>87100</td>\n",
       "      <td>2007</td>\n",
       "      <td>NaN</td>\n",
       "      <td>GKV</td>\n",
       "      <td>10129943.12</td>\n",
       "      <td>10486827.90</td>\n",
       "      <td>5959584.15</td>\n",
       "      <td>435328.26</td>\n",
       "      <td>...</td>\n",
       "      <td>NaN</td>\n",
       "      <td>1990015.77</td>\n",
       "      <td>3451499.64</td>\n",
       "      <td>1352994.01</td>\n",
       "      <td>1349.09</td>\n",
       "      <td>986648.60</td>\n",
       "      <td>NaN</td>\n",
       "      <td>-56012.29</td>\n",
       "      <td>-533257.11</td>\n",
       "      <td>4.586848e+05</td>\n",
       "    </tr>\n",
       "  </tbody>\n",
       "</table>\n",
       "<p>8 rows × 38 columns</p>\n",
       "</div>"
      ],
      "text/plain": [
       "      legal_form  zip_code  sector  year_inc  count_emp type_pl        sales  \\\n",
       "id                                                                             \n",
       "C_411       GmbH     14089   69204      1986        NaN     GKV    728946.68   \n",
       "C_896       GmbH     13127   87100      1992      181.0     GKV    708847.33   \n",
       "C_252       GmbH     14059   86101      1993      505.0     GKV  26025323.61   \n",
       "C_165       GmbH     10437   87100      1995       82.0     GKV   1105332.48   \n",
       "C_856       GmbH     14943   96090      2002       22.0     GKV  51995424.22   \n",
       "C_415       GmbH     10969   68321      2006        NaN     GKV  13597456.35   \n",
       "C_520       GmbH     10625   68100      2010        NaN     GKV  10365544.05   \n",
       "C_127       GmbH     29308   87100      2007        NaN     GKV  10129943.12   \n",
       "\n",
       "       gross_performance  gross_profit  earn_from_op  ...  bonds_payables_lt  \\\n",
       "id                                                    ...                      \n",
       "C_411          728946.68     209721.36      45390.50  ...                NaN   \n",
       "C_896          708847.33     738495.17      13017.29  ...                NaN   \n",
       "C_252        26015542.03   22022993.85    2086104.36  ...                NaN   \n",
       "C_165         1105332.48     717405.05      88074.80  ...                NaN   \n",
       "C_856        51979901.95   46420844.34    5956777.13  ...                NaN   \n",
       "C_415        13597456.35    7667501.25    -109859.68  ...                NaN   \n",
       "C_520        10365544.05    7931366.20     565338.94  ...                NaN   \n",
       "C_127        10486827.90    5959584.15     435328.26  ...                NaN   \n",
       "\n",
       "       total_equity  current_assets  monetary_current_assets        cash  \\\n",
       "id                                                                         \n",
       "C_411           NaN        64195.98                 28659.19     5598.17   \n",
       "C_896     442875.57       479144.25                452033.96   442835.62   \n",
       "C_252   13733666.50     14504753.93               3441491.02   322075.13   \n",
       "C_165     381990.95       371506.04                343269.12   256395.19   \n",
       "C_856    6828494.53     18909648.90              15619860.60  6720068.91   \n",
       "C_415          0.00      1273354.65               1277275.04     5848.43   \n",
       "C_520    8823433.07      7715921.82               7749440.79  6802934.01   \n",
       "C_127    1990015.77      3451499.64               1352994.01     1349.09   \n",
       "\n",
       "       trade_receivables_st  trade_receivables_lt  cf_operating  \\\n",
       "id                                                                \n",
       "C_411                   NaN                   NaN      52632.64   \n",
       "C_896                   NaN                   NaN     -10575.21   \n",
       "C_252            3034766.29                   NaN    2862349.65   \n",
       "C_165                   NaN                   NaN     156251.71   \n",
       "C_856            8847966.22                   NaN    5696079.15   \n",
       "C_415             136628.62                   NaN      83600.84   \n",
       "C_520             855343.08                   NaN    1051697.31   \n",
       "C_127             986648.60                   NaN     -56012.29   \n",
       "\n",
       "       cf_investment  cf_financing  \n",
       "id                                  \n",
       "C_411        -534.87 -5.457891e+04  \n",
       "C_896       -1295.42 -5.820000e-11  \n",
       "C_252     -667342.46 -2.091456e+06  \n",
       "C_165      -57344.11 -1.160000e-10  \n",
       "C_856    -1418555.39 -4.163971e+06  \n",
       "C_415     1560281.10 -1.643803e+06  \n",
       "C_520     -366425.37 -5.398260e+03  \n",
       "C_127     -533257.11  4.586848e+05  \n",
       "\n",
       "[8 rows x 38 columns]"
      ]
     },
     "execution_count": 312,
     "metadata": {},
     "output_type": "execute_result"
    }
   ],
   "source": [
    "df_test.head(8)"
   ]
  },
  {
   "cell_type": "markdown",
   "metadata": {},
   "source": [
    "# Variables\n",
    "\n",
    "## Renaming of some colums\n",
    "We decided to not rename any varialbes\n",
    "\n",
    "## Further variable coding\n",
    "Transforming variables"
   ]
  },
  {
   "cell_type": "markdown",
   "metadata": {},
   "source": [
    "### Transforming year_inc to age columns\n",
    "Transforming the year of incorporation variable to two age variables: one numerical (age_num) one and one categorical one (age_cat). "
   ]
  },
  {
   "cell_type": "code",
   "execution_count": 313,
   "metadata": {
    "ExecuteTime": {
     "end_time": "2020-12-30T08:37:42.247224Z",
     "start_time": "2020-12-30T08:37:42.144738Z"
    }
   },
   "outputs": [
    {
     "data": {
      "text/html": [
       "<div>\n",
       "<style scoped>\n",
       "    .dataframe tbody tr th:only-of-type {\n",
       "        vertical-align: middle;\n",
       "    }\n",
       "\n",
       "    .dataframe tbody tr th {\n",
       "        vertical-align: top;\n",
       "    }\n",
       "\n",
       "    .dataframe thead th {\n",
       "        text-align: right;\n",
       "    }\n",
       "</style>\n",
       "<table border=\"1\" class=\"dataframe\">\n",
       "  <thead>\n",
       "    <tr style=\"text-align: right;\">\n",
       "      <th></th>\n",
       "      <th>id</th>\n",
       "      <th>default</th>\n",
       "      <th>legal_form</th>\n",
       "      <th>zip_code</th>\n",
       "      <th>sector</th>\n",
       "      <th>year_inc</th>\n",
       "      <th>count_emp</th>\n",
       "      <th>type_pl</th>\n",
       "      <th>sales</th>\n",
       "      <th>gross_performance</th>\n",
       "      <th>...</th>\n",
       "      <th>total_equity</th>\n",
       "      <th>current_assets</th>\n",
       "      <th>monetary_current_assets</th>\n",
       "      <th>cash</th>\n",
       "      <th>trade_receivables_st</th>\n",
       "      <th>trade_receivables_lt</th>\n",
       "      <th>cf_operating</th>\n",
       "      <th>cf_investment</th>\n",
       "      <th>cf_financing</th>\n",
       "      <th>age_num</th>\n",
       "    </tr>\n",
       "  </thead>\n",
       "  <tbody>\n",
       "    <tr>\n",
       "      <th>572</th>\n",
       "      <td>C_482</td>\n",
       "      <td>0</td>\n",
       "      <td>Freiberufler</td>\n",
       "      <td>61169</td>\n",
       "      <td>49310</td>\n",
       "      <td>0</td>\n",
       "      <td>NaN</td>\n",
       "      <td>GKV</td>\n",
       "      <td>635769.95</td>\n",
       "      <td>635769.95</td>\n",
       "      <td>...</td>\n",
       "      <td>37125.13</td>\n",
       "      <td>299815.83</td>\n",
       "      <td>268452.30</td>\n",
       "      <td>49009.81</td>\n",
       "      <td>NaN</td>\n",
       "      <td>NaN</td>\n",
       "      <td>-212829.13</td>\n",
       "      <td>-1.750000e-10</td>\n",
       "      <td>9.460000e-11</td>\n",
       "      <td>2020</td>\n",
       "    </tr>\n",
       "    <tr>\n",
       "      <th>477</th>\n",
       "      <td>C_597</td>\n",
       "      <td>1</td>\n",
       "      <td>Freiberufler</td>\n",
       "      <td>32457</td>\n",
       "      <td>71113</td>\n",
       "      <td>0</td>\n",
       "      <td>NaN</td>\n",
       "      <td>GKV</td>\n",
       "      <td>241456.04</td>\n",
       "      <td>216900.58</td>\n",
       "      <td>...</td>\n",
       "      <td>514698.88</td>\n",
       "      <td>639035.00</td>\n",
       "      <td>639951.26</td>\n",
       "      <td>7466.24</td>\n",
       "      <td>24518.87</td>\n",
       "      <td>NaN</td>\n",
       "      <td>14391.18</td>\n",
       "      <td>-7.090000e-11</td>\n",
       "      <td>1.204280e+03</td>\n",
       "      <td>2020</td>\n",
       "    </tr>\n",
       "    <tr>\n",
       "      <th>272</th>\n",
       "      <td>C_543</td>\n",
       "      <td>0</td>\n",
       "      <td>AG</td>\n",
       "      <td>86150</td>\n",
       "      <td>68101</td>\n",
       "      <td>1464</td>\n",
       "      <td>NaN</td>\n",
       "      <td>GKV</td>\n",
       "      <td>73165008.12</td>\n",
       "      <td>73165008.12</td>\n",
       "      <td>...</td>\n",
       "      <td>7797900.20</td>\n",
       "      <td>29653971.68</td>\n",
       "      <td>11687193.17</td>\n",
       "      <td>3444440.58</td>\n",
       "      <td>4254958.92</td>\n",
       "      <td>NaN</td>\n",
       "      <td>12170860.85</td>\n",
       "      <td>-6.620784e+05</td>\n",
       "      <td>-2.560090e+05</td>\n",
       "      <td>556</td>\n",
       "    </tr>\n",
       "    <tr>\n",
       "      <th>249</th>\n",
       "      <td>C_105</td>\n",
       "      <td>0</td>\n",
       "      <td>AG</td>\n",
       "      <td>76185</td>\n",
       "      <td>70101</td>\n",
       "      <td>1856</td>\n",
       "      <td>NaN</td>\n",
       "      <td>GKV</td>\n",
       "      <td>53372139.09</td>\n",
       "      <td>53110170.33</td>\n",
       "      <td>...</td>\n",
       "      <td>7522638.74</td>\n",
       "      <td>31608245.57</td>\n",
       "      <td>26918553.04</td>\n",
       "      <td>19531832.78</td>\n",
       "      <td>6509382.04</td>\n",
       "      <td>NaN</td>\n",
       "      <td>-10483605.89</td>\n",
       "      <td>-1.015179e+07</td>\n",
       "      <td>3.198861e+07</td>\n",
       "      <td>164</td>\n",
       "    </tr>\n",
       "    <tr>\n",
       "      <th>531</th>\n",
       "      <td>C_711</td>\n",
       "      <td>0</td>\n",
       "      <td>GmbH &amp; Co. KG</td>\n",
       "      <td>42651</td>\n",
       "      <td>32501</td>\n",
       "      <td>1857</td>\n",
       "      <td>63.0</td>\n",
       "      <td>GKV</td>\n",
       "      <td>2713538.03</td>\n",
       "      <td>2713538.03</td>\n",
       "      <td>...</td>\n",
       "      <td>330130.46</td>\n",
       "      <td>625173.80</td>\n",
       "      <td>462636.78</td>\n",
       "      <td>66853.99</td>\n",
       "      <td>281981.84</td>\n",
       "      <td>NaN</td>\n",
       "      <td>133580.07</td>\n",
       "      <td>-5.635444e+04</td>\n",
       "      <td>3.780000e-10</td>\n",
       "      <td>163</td>\n",
       "    </tr>\n",
       "  </tbody>\n",
       "</table>\n",
       "<p>5 rows × 41 columns</p>\n",
       "</div>"
      ],
      "text/plain": [
       "        id  default     legal_form  zip_code  sector  year_inc  count_emp  \\\n",
       "572  C_482        0   Freiberufler     61169   49310         0        NaN   \n",
       "477  C_597        1   Freiberufler     32457   71113         0        NaN   \n",
       "272  C_543        0             AG     86150   68101      1464        NaN   \n",
       "249  C_105        0             AG     76185   70101      1856        NaN   \n",
       "531  C_711        0  GmbH & Co. KG     42651   32501      1857       63.0   \n",
       "\n",
       "    type_pl        sales  gross_performance  ...  total_equity  \\\n",
       "572     GKV    635769.95          635769.95  ...      37125.13   \n",
       "477     GKV    241456.04          216900.58  ...     514698.88   \n",
       "272     GKV  73165008.12        73165008.12  ...    7797900.20   \n",
       "249     GKV  53372139.09        53110170.33  ...    7522638.74   \n",
       "531     GKV   2713538.03         2713538.03  ...     330130.46   \n",
       "\n",
       "     current_assets  monetary_current_assets         cash  \\\n",
       "572       299815.83                268452.30     49009.81   \n",
       "477       639035.00                639951.26      7466.24   \n",
       "272     29653971.68              11687193.17   3444440.58   \n",
       "249     31608245.57              26918553.04  19531832.78   \n",
       "531       625173.80                462636.78     66853.99   \n",
       "\n",
       "     trade_receivables_st  trade_receivables_lt  cf_operating  cf_investment  \\\n",
       "572                   NaN                   NaN    -212829.13  -1.750000e-10   \n",
       "477              24518.87                   NaN      14391.18  -7.090000e-11   \n",
       "272            4254958.92                   NaN   12170860.85  -6.620784e+05   \n",
       "249            6509382.04                   NaN  -10483605.89  -1.015179e+07   \n",
       "531             281981.84                   NaN     133580.07  -5.635444e+04   \n",
       "\n",
       "     cf_financing  age_num  \n",
       "572  9.460000e-11     2020  \n",
       "477  1.204280e+03     2020  \n",
       "272 -2.560090e+05      556  \n",
       "249  3.198861e+07      164  \n",
       "531  3.780000e-10      163  \n",
       "\n",
       "[5 rows x 41 columns]"
      ]
     },
     "execution_count": 313,
     "metadata": {},
     "output_type": "execute_result"
    }
   ],
   "source": [
    "df_train['age_num'] = datetime.datetime.now().year - df_train[\"year_inc\"]\n",
    "df_train.sort_values(by=\"age_num\",ascending=False).head(5)"
   ]
  },
  {
   "cell_type": "markdown",
   "metadata": {},
   "source": [
    "As we have some firms which are pretty old (some > 100 years) and two outliers (2020s) we can set their value to the e.g.: 95% quantile as this shouldn't change the meaning of the age variable that much. They are long on the market and it does not really matter if they are long on the market (e.g.: 100 years) or very very long in the business (eg: above 500 years). "
   ]
  },
  {
   "cell_type": "code",
   "execution_count": 314,
   "metadata": {
    "ExecuteTime": {
     "end_time": "2020-12-30T08:37:42.833727Z",
     "start_time": "2020-12-30T08:37:42.512051Z"
    }
   },
   "outputs": [
    {
     "data": {
      "text/html": [
       "<div>\n",
       "<style scoped>\n",
       "    .dataframe tbody tr th:only-of-type {\n",
       "        vertical-align: middle;\n",
       "    }\n",
       "\n",
       "    .dataframe tbody tr th {\n",
       "        vertical-align: top;\n",
       "    }\n",
       "\n",
       "    .dataframe thead th {\n",
       "        text-align: right;\n",
       "    }\n",
       "</style>\n",
       "<table border=\"1\" class=\"dataframe\">\n",
       "  <thead>\n",
       "    <tr style=\"text-align: right;\">\n",
       "      <th></th>\n",
       "      <th>id</th>\n",
       "      <th>default</th>\n",
       "      <th>legal_form</th>\n",
       "      <th>zip_code</th>\n",
       "      <th>sector</th>\n",
       "      <th>year_inc</th>\n",
       "      <th>count_emp</th>\n",
       "      <th>type_pl</th>\n",
       "      <th>sales</th>\n",
       "      <th>gross_performance</th>\n",
       "      <th>...</th>\n",
       "      <th>total_equity</th>\n",
       "      <th>current_assets</th>\n",
       "      <th>monetary_current_assets</th>\n",
       "      <th>cash</th>\n",
       "      <th>trade_receivables_st</th>\n",
       "      <th>trade_receivables_lt</th>\n",
       "      <th>cf_operating</th>\n",
       "      <th>cf_investment</th>\n",
       "      <th>cf_financing</th>\n",
       "      <th>age_num</th>\n",
       "    </tr>\n",
       "  </thead>\n",
       "  <tbody>\n",
       "    <tr>\n",
       "      <th>272</th>\n",
       "      <td>C_543</td>\n",
       "      <td>0</td>\n",
       "      <td>AG</td>\n",
       "      <td>86150</td>\n",
       "      <td>68101</td>\n",
       "      <td>1464</td>\n",
       "      <td>NaN</td>\n",
       "      <td>GKV</td>\n",
       "      <td>7.316501e+07</td>\n",
       "      <td>7.316501e+07</td>\n",
       "      <td>...</td>\n",
       "      <td>7.797900e+06</td>\n",
       "      <td>29653971.68</td>\n",
       "      <td>11687193.17</td>\n",
       "      <td>3444440.58</td>\n",
       "      <td>4254958.92</td>\n",
       "      <td>NaN</td>\n",
       "      <td>12170860.85</td>\n",
       "      <td>-6.620784e+05</td>\n",
       "      <td>-2.560090e+05</td>\n",
       "      <td>157.32</td>\n",
       "    </tr>\n",
       "    <tr>\n",
       "      <th>249</th>\n",
       "      <td>C_105</td>\n",
       "      <td>0</td>\n",
       "      <td>AG</td>\n",
       "      <td>76185</td>\n",
       "      <td>70101</td>\n",
       "      <td>1856</td>\n",
       "      <td>NaN</td>\n",
       "      <td>GKV</td>\n",
       "      <td>5.337214e+07</td>\n",
       "      <td>5.311017e+07</td>\n",
       "      <td>...</td>\n",
       "      <td>7.522639e+06</td>\n",
       "      <td>31608245.57</td>\n",
       "      <td>26918553.04</td>\n",
       "      <td>19531832.78</td>\n",
       "      <td>6509382.04</td>\n",
       "      <td>NaN</td>\n",
       "      <td>-10483605.89</td>\n",
       "      <td>-1.015179e+07</td>\n",
       "      <td>3.198861e+07</td>\n",
       "      <td>157.32</td>\n",
       "    </tr>\n",
       "    <tr>\n",
       "      <th>371</th>\n",
       "      <td>C_361</td>\n",
       "      <td>0</td>\n",
       "      <td>GmbH</td>\n",
       "      <td>21335</td>\n",
       "      <td>20520</td>\n",
       "      <td>1858</td>\n",
       "      <td>185.0</td>\n",
       "      <td>GKV</td>\n",
       "      <td>1.979305e+08</td>\n",
       "      <td>1.972723e+08</td>\n",
       "      <td>...</td>\n",
       "      <td>2.445527e+06</td>\n",
       "      <td>32809291.04</td>\n",
       "      <td>24618777.77</td>\n",
       "      <td>1012.13</td>\n",
       "      <td>24452421.93</td>\n",
       "      <td>NaN</td>\n",
       "      <td>11658956.29</td>\n",
       "      <td>-1.072492e+06</td>\n",
       "      <td>-1.088165e+07</td>\n",
       "      <td>157.32</td>\n",
       "    </tr>\n",
       "    <tr>\n",
       "      <th>572</th>\n",
       "      <td>C_482</td>\n",
       "      <td>0</td>\n",
       "      <td>Freiberufler</td>\n",
       "      <td>61169</td>\n",
       "      <td>49310</td>\n",
       "      <td>0</td>\n",
       "      <td>NaN</td>\n",
       "      <td>GKV</td>\n",
       "      <td>6.357699e+05</td>\n",
       "      <td>6.357699e+05</td>\n",
       "      <td>...</td>\n",
       "      <td>3.712513e+04</td>\n",
       "      <td>299815.83</td>\n",
       "      <td>268452.30</td>\n",
       "      <td>49009.81</td>\n",
       "      <td>NaN</td>\n",
       "      <td>NaN</td>\n",
       "      <td>-212829.13</td>\n",
       "      <td>-1.750000e-10</td>\n",
       "      <td>9.460000e-11</td>\n",
       "      <td>157.32</td>\n",
       "    </tr>\n",
       "    <tr>\n",
       "      <th>477</th>\n",
       "      <td>C_597</td>\n",
       "      <td>1</td>\n",
       "      <td>Freiberufler</td>\n",
       "      <td>32457</td>\n",
       "      <td>71113</td>\n",
       "      <td>0</td>\n",
       "      <td>NaN</td>\n",
       "      <td>GKV</td>\n",
       "      <td>2.414560e+05</td>\n",
       "      <td>2.169006e+05</td>\n",
       "      <td>...</td>\n",
       "      <td>5.146989e+05</td>\n",
       "      <td>639035.00</td>\n",
       "      <td>639951.26</td>\n",
       "      <td>7466.24</td>\n",
       "      <td>24518.87</td>\n",
       "      <td>NaN</td>\n",
       "      <td>14391.18</td>\n",
       "      <td>-7.090000e-11</td>\n",
       "      <td>1.204280e+03</td>\n",
       "      <td>157.32</td>\n",
       "    </tr>\n",
       "    <tr>\n",
       "      <th>283</th>\n",
       "      <td>C_519</td>\n",
       "      <td>0</td>\n",
       "      <td>GmbH</td>\n",
       "      <td>80807</td>\n",
       "      <td>18120</td>\n",
       "      <td>1862</td>\n",
       "      <td>NaN</td>\n",
       "      <td>GKV</td>\n",
       "      <td>1.560010e+06</td>\n",
       "      <td>4.462166e+06</td>\n",
       "      <td>...</td>\n",
       "      <td>3.912989e+05</td>\n",
       "      <td>1780853.40</td>\n",
       "      <td>507526.40</td>\n",
       "      <td>13989.13</td>\n",
       "      <td>NaN</td>\n",
       "      <td>NaN</td>\n",
       "      <td>-115009.30</td>\n",
       "      <td>-6.533309e+04</td>\n",
       "      <td>2.707314e+05</td>\n",
       "      <td>157.32</td>\n",
       "    </tr>\n",
       "    <tr>\n",
       "      <th>531</th>\n",
       "      <td>C_711</td>\n",
       "      <td>0</td>\n",
       "      <td>GmbH &amp; Co. KG</td>\n",
       "      <td>42651</td>\n",
       "      <td>32501</td>\n",
       "      <td>1857</td>\n",
       "      <td>63.0</td>\n",
       "      <td>GKV</td>\n",
       "      <td>2.713538e+06</td>\n",
       "      <td>2.713538e+06</td>\n",
       "      <td>...</td>\n",
       "      <td>3.301305e+05</td>\n",
       "      <td>625173.80</td>\n",
       "      <td>462636.78</td>\n",
       "      <td>66853.99</td>\n",
       "      <td>281981.84</td>\n",
       "      <td>NaN</td>\n",
       "      <td>133580.07</td>\n",
       "      <td>-5.635444e+04</td>\n",
       "      <td>3.780000e-10</td>\n",
       "      <td>157.32</td>\n",
       "    </tr>\n",
       "    <tr>\n",
       "      <th>454</th>\n",
       "      <td>C_259</td>\n",
       "      <td>0</td>\n",
       "      <td>Freiberufler</td>\n",
       "      <td>44141</td>\n",
       "      <td>94110</td>\n",
       "      <td>1863</td>\n",
       "      <td>140.0</td>\n",
       "      <td>GKV</td>\n",
       "      <td>3.584665e+05</td>\n",
       "      <td>3.584665e+05</td>\n",
       "      <td>...</td>\n",
       "      <td>1.871424e+05</td>\n",
       "      <td>70476.90</td>\n",
       "      <td>61735.26</td>\n",
       "      <td>41618.21</td>\n",
       "      <td>NaN</td>\n",
       "      <td>NaN</td>\n",
       "      <td>22009.92</td>\n",
       "      <td>-1.400000e+05</td>\n",
       "      <td>1.307238e+05</td>\n",
       "      <td>157.00</td>\n",
       "    </tr>\n",
       "    <tr>\n",
       "      <th>165</th>\n",
       "      <td>C_347</td>\n",
       "      <td>0</td>\n",
       "      <td>GmbH</td>\n",
       "      <td>57072</td>\n",
       "      <td>25993</td>\n",
       "      <td>1866</td>\n",
       "      <td>116.0</td>\n",
       "      <td>GKV</td>\n",
       "      <td>2.645000e+05</td>\n",
       "      <td>2.645000e+05</td>\n",
       "      <td>...</td>\n",
       "      <td>1.834052e+04</td>\n",
       "      <td>186602.25</td>\n",
       "      <td>172230.65</td>\n",
       "      <td>1434.82</td>\n",
       "      <td>NaN</td>\n",
       "      <td>NaN</td>\n",
       "      <td>1484.67</td>\n",
       "      <td>4.500000e+01</td>\n",
       "      <td>0.000000e+00</td>\n",
       "      <td>154.00</td>\n",
       "    </tr>\n",
       "    <tr>\n",
       "      <th>445</th>\n",
       "      <td>C_019</td>\n",
       "      <td>0</td>\n",
       "      <td>AG</td>\n",
       "      <td>33689</td>\n",
       "      <td>70109</td>\n",
       "      <td>1870</td>\n",
       "      <td>107.0</td>\n",
       "      <td>GKV</td>\n",
       "      <td>2.432905e+06</td>\n",
       "      <td>2.432905e+06</td>\n",
       "      <td>...</td>\n",
       "      <td>-3.640000e-12</td>\n",
       "      <td>340903.37</td>\n",
       "      <td>340903.37</td>\n",
       "      <td>340903.37</td>\n",
       "      <td>NaN</td>\n",
       "      <td>NaN</td>\n",
       "      <td>1933900.10</td>\n",
       "      <td>0.000000e+00</td>\n",
       "      <td>-2.050780e+06</td>\n",
       "      <td>150.00</td>\n",
       "    </tr>\n",
       "  </tbody>\n",
       "</table>\n",
       "<p>10 rows × 41 columns</p>\n",
       "</div>"
      ],
      "text/plain": [
       "        id  default     legal_form  zip_code  sector  year_inc  count_emp  \\\n",
       "272  C_543        0             AG     86150   68101      1464        NaN   \n",
       "249  C_105        0             AG     76185   70101      1856        NaN   \n",
       "371  C_361        0           GmbH     21335   20520      1858      185.0   \n",
       "572  C_482        0   Freiberufler     61169   49310         0        NaN   \n",
       "477  C_597        1   Freiberufler     32457   71113         0        NaN   \n",
       "283  C_519        0           GmbH     80807   18120      1862        NaN   \n",
       "531  C_711        0  GmbH & Co. KG     42651   32501      1857       63.0   \n",
       "454  C_259        0   Freiberufler     44141   94110      1863      140.0   \n",
       "165  C_347        0           GmbH     57072   25993      1866      116.0   \n",
       "445  C_019        0             AG     33689   70109      1870      107.0   \n",
       "\n",
       "    type_pl         sales  gross_performance  ...  total_equity  \\\n",
       "272     GKV  7.316501e+07       7.316501e+07  ...  7.797900e+06   \n",
       "249     GKV  5.337214e+07       5.311017e+07  ...  7.522639e+06   \n",
       "371     GKV  1.979305e+08       1.972723e+08  ...  2.445527e+06   \n",
       "572     GKV  6.357699e+05       6.357699e+05  ...  3.712513e+04   \n",
       "477     GKV  2.414560e+05       2.169006e+05  ...  5.146989e+05   \n",
       "283     GKV  1.560010e+06       4.462166e+06  ...  3.912989e+05   \n",
       "531     GKV  2.713538e+06       2.713538e+06  ...  3.301305e+05   \n",
       "454     GKV  3.584665e+05       3.584665e+05  ...  1.871424e+05   \n",
       "165     GKV  2.645000e+05       2.645000e+05  ...  1.834052e+04   \n",
       "445     GKV  2.432905e+06       2.432905e+06  ... -3.640000e-12   \n",
       "\n",
       "     current_assets  monetary_current_assets         cash  \\\n",
       "272     29653971.68              11687193.17   3444440.58   \n",
       "249     31608245.57              26918553.04  19531832.78   \n",
       "371     32809291.04              24618777.77      1012.13   \n",
       "572       299815.83                268452.30     49009.81   \n",
       "477       639035.00                639951.26      7466.24   \n",
       "283      1780853.40                507526.40     13989.13   \n",
       "531       625173.80                462636.78     66853.99   \n",
       "454        70476.90                 61735.26     41618.21   \n",
       "165       186602.25                172230.65      1434.82   \n",
       "445       340903.37                340903.37    340903.37   \n",
       "\n",
       "     trade_receivables_st  trade_receivables_lt  cf_operating  cf_investment  \\\n",
       "272            4254958.92                   NaN   12170860.85  -6.620784e+05   \n",
       "249            6509382.04                   NaN  -10483605.89  -1.015179e+07   \n",
       "371           24452421.93                   NaN   11658956.29  -1.072492e+06   \n",
       "572                   NaN                   NaN    -212829.13  -1.750000e-10   \n",
       "477              24518.87                   NaN      14391.18  -7.090000e-11   \n",
       "283                   NaN                   NaN    -115009.30  -6.533309e+04   \n",
       "531             281981.84                   NaN     133580.07  -5.635444e+04   \n",
       "454                   NaN                   NaN      22009.92  -1.400000e+05   \n",
       "165                   NaN                   NaN       1484.67   4.500000e+01   \n",
       "445                   NaN                   NaN    1933900.10   0.000000e+00   \n",
       "\n",
       "     cf_financing  age_num  \n",
       "272 -2.560090e+05   157.32  \n",
       "249  3.198861e+07   157.32  \n",
       "371 -1.088165e+07   157.32  \n",
       "572  9.460000e-11   157.32  \n",
       "477  1.204280e+03   157.32  \n",
       "283  2.707314e+05   157.32  \n",
       "531  3.780000e-10   157.32  \n",
       "454  1.307238e+05   157.00  \n",
       "165  0.000000e+00   154.00  \n",
       "445 -2.050780e+06   150.00  \n",
       "\n",
       "[10 rows x 41 columns]"
      ]
     },
     "execution_count": 314,
     "metadata": {},
     "output_type": "execute_result"
    }
   ],
   "source": [
    "#take a look on the quantiles\n",
    "quantiles = list()\n",
    "for i in range(0,100,):\n",
    "    quantiles.append(df_train[\"age_num\"].quantile(i/100))\n",
    "\n",
    "age_th = df_train[\"age_num\"].quantile(0.99)\n",
    "\n",
    "#replace outliers with 99% quantile\n",
    "df_train.loc[df_train[\"age_num\"] > age_th,\"age_num\"] = age_th\n",
    "\n",
    "df_train.sort_values(by=\"age_num\",ascending=False).head(10)"
   ]
  },
  {
   "cell_type": "code",
   "execution_count": 315,
   "metadata": {
    "ExecuteTime": {
     "end_time": "2020-12-30T08:37:43.533427Z",
     "start_time": "2020-12-30T08:37:43.101656Z"
    }
   },
   "outputs": [
    {
     "data": {
      "image/png": "[encoded data removed]",
      "text/plain": [
       "<Figure size 432x288 with 1 Axes>"
      ]
     },
     "metadata": {
      "needs_background": "light"
     },
     "output_type": "display_data"
    }
   ],
   "source": [
    "sns.boxplot(y=df_train[\"age_num\"]).set_title(\"Now a little bit better\");"
   ]
  },
  {
   "cell_type": "code",
   "execution_count": 316,
   "metadata": {
    "ExecuteTime": {
     "end_time": "2020-12-30T08:37:45.960367Z",
     "start_time": "2020-12-30T08:37:43.540650Z"
    }
   },
   "outputs": [
    {
     "ename": "AttributeError",
     "evalue": "module 'seaborn' has no attribute 'displot'",
     "output_type": "error",
     "traceback": [
      "\u001b[1;31m---------------------------------------------------------------------------\u001b[0m",
      "\u001b[1;31mAttributeError\u001b[0m                            Traceback (most recent call last)",
      "\u001b[1;32m<ipython-input-316-f618e6462f31>\u001b[0m in \u001b[0;36m<module>\u001b[1;34m\u001b[0m\n\u001b[0;32m      4\u001b[0m             data=df_train).set_title(\"With log transformation\");\n\u001b[0;32m      5\u001b[0m \u001b[0mplt\u001b[0m\u001b[1;33m.\u001b[0m\u001b[0mfigure\u001b[0m\u001b[1;33m(\u001b[0m\u001b[1;33m)\u001b[0m\u001b[1;33m\u001b[0m\u001b[1;33m\u001b[0m\u001b[0m\n\u001b[1;32m----> 6\u001b[1;33m \u001b[0msns\u001b[0m\u001b[1;33m.\u001b[0m\u001b[0mdisplot\u001b[0m\u001b[1;33m(\u001b[0m\u001b[0mdf_train\u001b[0m\u001b[1;33m,\u001b[0m\u001b[0mx\u001b[0m\u001b[1;33m=\u001b[0m\u001b[1;34m\"age_num\"\u001b[0m\u001b[1;33m,\u001b[0m\u001b[0mhue\u001b[0m\u001b[1;33m=\u001b[0m\u001b[1;34m\"default\"\u001b[0m\u001b[1;33m,\u001b[0m\u001b[0mstat\u001b[0m\u001b[1;33m=\u001b[0m\u001b[1;34m\"density\"\u001b[0m\u001b[1;33m,\u001b[0m\u001b[0mcommon_norm\u001b[0m\u001b[1;33m=\u001b[0m\u001b[1;32mFalse\u001b[0m\u001b[1;33m)\u001b[0m\u001b[1;33m;\u001b[0m\u001b[1;33m\u001b[0m\u001b[1;33m\u001b[0m\u001b[0m\n\u001b[0m",
      "\u001b[1;31mAttributeError\u001b[0m: module 'seaborn' has no attribute 'displot'"
     ]
    },
    {
     "data": {
      "image/png": "[encoded data removed]",
      "text/plain": [
       "<Figure size 432x288 with 1 Axes>"
      ]
     },
     "metadata": {
      "needs_background": "light"
     },
     "output_type": "display_data"
    },
    {
     "data": {
      "image/png": "[encoded data removed]",
      "text/plain": [
       "<Figure size 432x288 with 1 Axes>"
      ]
     },
     "metadata": {
      "needs_background": "light"
     },
     "output_type": "display_data"
    },
    {
     "data": {
      "text/plain": [
       "<Figure size 432x288 with 0 Axes>"
      ]
     },
     "metadata": {},
     "output_type": "display_data"
    }
   ],
   "source": [
    "sns.boxplot(y=\"age_num\",x=\"default\",data=df_train);\n",
    "plt.figure()\n",
    "sns.boxplot(y=np.log(df_train[\"age_num\"]),x=\"default\",\n",
    "            data=df_train).set_title(\"With log transformation\");\n",
    "plt.figure()\n",
    "sns.displot(df_train,x=\"age_num\",hue=\"default\",stat=\"density\",common_norm=False);"
   ]
  },
  {
   "cell_type": "code",
   "execution_count": null,
   "metadata": {
    "ExecuteTime": {
     "end_time": "2020-12-30T08:37:46.487496Z",
     "start_time": "2020-12-30T08:37:46.331513Z"
    }
   },
   "outputs": [],
   "source": [
    "df_train[\"age_quartile\"] = pd.qcut(df_train[\"age_num\"],10)\n",
    "pd.crosstab(df_train[\"default\"],df_train[\"age_quartile\"])"
   ]
  },
  {
   "cell_type": "code",
   "execution_count": null,
   "metadata": {
    "ExecuteTime": {
     "end_time": "2020-12-30T08:37:46.589568Z",
     "start_time": "2020-12-30T08:37:46.496783Z"
    }
   },
   "outputs": [],
   "source": [
    "mdl = sm.Logit.from_formula('default ~ age_num + 1', data=df_train).fit(disp=False, maxiter=100)\n",
    "print(mdl.summary2())"
   ]
  },
  {
   "cell_type": "code",
   "execution_count": null,
   "metadata": {
    "ExecuteTime": {
     "end_time": "2020-12-30T08:37:46.662311Z",
     "start_time": "2020-12-30T08:37:46.597231Z"
    }
   },
   "outputs": [],
   "source": [
    "df_train[\"age_cat\"] = np.select([\n",
    "     df_train['age_num'].between(0, 19, inclusive=True),\n",
    "     df_train['age_num'].between(20, 29, inclusive=True),\n",
    "     df_train['age_num'].between(30, 39, inclusive=True),\n",
    "     df_train['age_num'].between(40, 49, inclusive=True),\n",
    "     df_train['age_num'].between(50, 59, inclusive=True),\n",
    "     df_train['age_num'].between(60, np.inf, inclusive=True)], \n",
    "    ['10-19','20-29','30-39','40-49','50-59','>59'],)\n",
    "\n",
    "pd.crosstab(df_train[\"default\"],df_train[\"age_cat\"])"
   ]
  },
  {
   "cell_type": "code",
   "execution_count": null,
   "metadata": {
    "ExecuteTime": {
     "end_time": "2020-12-30T08:37:46.825144Z",
     "start_time": "2020-12-30T08:37:46.670486Z"
    }
   },
   "outputs": [],
   "source": [
    "mdl = sm.Logit.from_formula('default ~ age_cat + 1', data=df_train).fit(disp=False, maxiter=100)\n",
    "print(mdl.summary2())"
   ]
  },
  {
   "cell_type": "code",
   "execution_count": null,
   "metadata": {
    "ExecuteTime": {
     "end_time": "2020-12-30T08:37:49.752734Z",
     "start_time": "2020-12-30T08:37:47.720194Z"
    }
   },
   "outputs": [],
   "source": [
    "catvar = [i for i in list(df_train.columns) if df_train[i].dtype=='O']\n",
    "\n",
    "for i in catvar:\n",
    "    tmp1 = pd.crosstab(df_train['default'], df_train[i]).apply(lambda x: np.round(x/x.sum() * 100,2)).T.sort_values(by = i ,ascending=False)\n",
    "    tmp2 = pd.crosstab(df_train['default'], df_train[i]).T.rename(columns={False: 'N_False', True: 'N_True'})\n",
    "    tmp3 = pd.DataFrame(tmp2.apply(sum, axis=1), columns=['N'])\n",
    "    tmp4 = tmp3.apply(lambda x: np.round(x/x.sum() * 100,2)).rename(columns={'N': 'N_Perc'})\n",
    "    tmp = tmp1.join(tmp2).join(tmp3).join(tmp4)\n",
    "    print('====================================================')\n",
    "    print('Variable: ',i)\n",
    "    print('---------------------------------------------------')\n",
    "    print(tmp)\n",
    "    print()\n",
    "    del tmp1, tmp2, tmp3, tmp4, tmp"
   ]
  },
  {
   "cell_type": "markdown",
   "metadata": {},
   "source": [
    "# Understanding your data\n",
    "\n",
    "\n",
    "## Univartiate descriptive anaylsis\n",
    "\n",
    "The datatype of the variables is important as in dermines how you have to look at the data"
   ]
  },
  {
   "cell_type": "code",
   "execution_count": null,
   "metadata": {
    "ExecuteTime": {
     "end_time": "2020-12-30T08:37:50.026624Z",
     "start_time": "2020-12-30T08:37:50.011577Z"
    }
   },
   "outputs": [],
   "source": [
    "catvar = [i for i in list(df_train.columns) if df_train[i].dtype=='O']\n",
    "catvar # categorial variables"
   ]
  },
  {
   "cell_type": "code",
   "execution_count": null,
   "metadata": {
    "ExecuteTime": {
     "end_time": "2020-12-30T08:37:50.060564Z",
     "start_time": "2020-12-30T08:37:50.039452Z"
    }
   },
   "outputs": [],
   "source": [
    "numvar = [i for i in list(df_train.columns) if df_train[i].dtype in ['float64','int64']]\n",
    "numvar # numberical variables"
   ]
  },
  {
   "cell_type": "markdown",
   "metadata": {},
   "source": [
    "## Missing values\n",
    "\n",
    "Overview of missing values in the data"
   ]
  },
  {
   "cell_type": "code",
   "execution_count": null,
   "metadata": {
    "ExecuteTime": {
     "end_time": "2020-12-30T08:37:50.088772Z",
     "start_time": "2020-12-30T08:37:50.069707Z"
    }
   },
   "outputs": [],
   "source": [
    "df_train.isnull().sum().sort_values(ascending=False)"
   ]
  },
  {
   "cell_type": "code",
   "execution_count": null,
   "metadata": {
    "ExecuteTime": {
     "end_time": "2020-12-30T08:37:50.806237Z",
     "start_time": "2020-12-30T08:37:50.780023Z"
    }
   },
   "outputs": [],
   "source": [
    "df_test.isnull().sum().sort_values(ascending=False)"
   ]
  },
  {
   "cell_type": "markdown",
   "metadata": {},
   "source": [
    "## Univariate Analysis"
   ]
  },
  {
   "cell_type": "markdown",
   "metadata": {},
   "source": [
    "### Univariate Logit Regressions\n",
    "See the significance of every variable possible in the training set in an univariate setting and where NAs are dropped. We also ordered them according to their p values. Important to note here is the p value is not a KO-criteria for us. Also we do these regressions before data cleansing, which is another important thing to consider. The aim of this is only to see if their is some clear evidence for significant features in the data in the first place."
   ]
  },
  {
   "cell_type": "code",
   "execution_count": null,
   "metadata": {
    "ExecuteTime": {
     "end_time": "2020-12-30T08:42:38.441186Z",
     "start_time": "2020-12-30T08:42:36.840794Z"
    }
   },
   "outputs": [],
   "source": [
    "col_list = df_train.columns[2:]\n",
    "col_list\n",
    "dictionary_logit = dict()\n",
    "\n",
    "for i in range(0,len(col_list)):\n",
    "    try:\n",
    "        univ_var = pd.concat((df_train['default'],df_train[col_list[i]]),axis=1)\n",
    "        y = univ_var[\"default\"]\n",
    "        X = univ_var.iloc[:,1]\n",
    "        X = sm.add_constant(X)\n",
    "        model = sm.Logit(y,X,missing=\"drop\").fit(disp=False,maxiter=100)\n",
    "        print(model.summary2()) #comment that out if you don't want to see the regression summary\n",
    "        pvalue = model.pvalues[1]\n",
    "        dictionary_logit[col_list[i]] = (pvalue,univ_var.iloc[:,1].isnull().sum())\n",
    "    except:\n",
    "        continue"
   ]
  },
  {
   "cell_type": "code",
   "execution_count": null,
   "metadata": {
    "ExecuteTime": {
     "end_time": "2020-12-30T08:42:39.309124Z",
     "start_time": "2020-12-30T08:42:39.290061Z"
    }
   },
   "outputs": [],
   "source": [
    "pd.DataFrame.from_dict(dictionary_logit,orient=\"index\",columns=['P-Value','NAs']).sort_values(by=\"P-Value\")"
   ]
  },
  {
   "cell_type": "markdown",
   "metadata": {},
   "source": [
    "Speaking in an univariate context, what we can see here is that no variable shows a very strong significance in the univariate logistic regression with the default variable as dependent variable. Also some variables can be disregarded as their numerical value makes no sense (e.g.: year_inc).  Thus we can argue, that a focus on economic reasoning instead of p-values in the univariate context is a better way to go. "
   ]
  },
  {
   "cell_type": "markdown",
   "metadata": {},
   "source": [
    "### Mann-Whitney U Test\n",
    "Also we perform a Mann-Whitney U Test for all variables to see if there is a difference in those variables between default and non default firms."
   ]
  },
  {
   "cell_type": "code",
   "execution_count": 317,
   "metadata": {
    "ExecuteTime": {
     "end_time": "2020-12-30T08:55:04.048777Z",
     "start_time": "2020-12-30T08:55:03.877150Z"
    }
   },
   "outputs": [],
   "source": [
    "col_list\n",
    "\n",
    "dictionary_mannu = dict()\n",
    "\n",
    "for i in range(0,len(col_list)):\n",
    "    try: \n",
    "        group_default = df_train[df_train[\"default\"]==1][col_list[i]]\n",
    "        group_non_default = df_train[df_train[\"default\"]==0][col_list[i]]\n",
    "        test_stat, pvalue = sci.stats.mannwhitneyu(group_default,group_non_default)\n",
    "        dictionary_mannu[col_list[i]] = test_stat, pvalue, df_train[col_list[i]].isnull().sum()\n",
    "    except:\n",
    "        continue\n",
    "\n",
    "#sns.boxplot(x=\"default\",y=np.log(df_train[col_list[6]]),data=df_train)"
   ]
  },
  {
   "cell_type": "code",
   "execution_count": 318,
   "metadata": {
    "ExecuteTime": {
     "end_time": "2020-12-30T08:55:06.607760Z",
     "start_time": "2020-12-30T08:55:06.584045Z"
    }
   },
   "outputs": [
    {
     "data": {
      "text/html": [
       "<div>\n",
       "<style scoped>\n",
       "    .dataframe tbody tr th:only-of-type {\n",
       "        vertical-align: middle;\n",
       "    }\n",
       "\n",
       "    .dataframe tbody tr th {\n",
       "        vertical-align: top;\n",
       "    }\n",
       "\n",
       "    .dataframe thead th {\n",
       "        text-align: right;\n",
       "    }\n",
       "</style>\n",
       "<table border=\"1\" class=\"dataframe\">\n",
       "  <thead>\n",
       "    <tr style=\"text-align: right;\">\n",
       "      <th></th>\n",
       "      <th>Test statistic</th>\n",
       "      <th>P-Value</th>\n",
       "      <th>NAs</th>\n",
       "    </tr>\n",
       "  </thead>\n",
       "  <tbody>\n",
       "    <tr>\n",
       "      <th>cash</th>\n",
       "      <td>7716.0</td>\n",
       "      <td>0.000111</td>\n",
       "      <td>32</td>\n",
       "    </tr>\n",
       "    <tr>\n",
       "      <th>trade_receivables_lt</th>\n",
       "      <td>8339.0</td>\n",
       "      <td>0.000805</td>\n",
       "      <td>645</td>\n",
       "    </tr>\n",
       "    <tr>\n",
       "      <th>trade_payables_lt</th>\n",
       "      <td>8430.0</td>\n",
       "      <td>0.001051</td>\n",
       "      <td>665</td>\n",
       "    </tr>\n",
       "    <tr>\n",
       "      <th>bonds_payables_st</th>\n",
       "      <td>8471.0</td>\n",
       "      <td>0.001183</td>\n",
       "      <td>669</td>\n",
       "    </tr>\n",
       "    <tr>\n",
       "      <th>bonds_payables_lt</th>\n",
       "      <td>8471.0</td>\n",
       "      <td>0.001183</td>\n",
       "      <td>669</td>\n",
       "    </tr>\n",
       "    <tr>\n",
       "      <th>monetary_current_assets</th>\n",
       "      <td>8712.0</td>\n",
       "      <td>0.002315</td>\n",
       "      <td>0</td>\n",
       "    </tr>\n",
       "    <tr>\n",
       "      <th>bonds_payables_mt</th>\n",
       "      <td>8855.0</td>\n",
       "      <td>0.003383</td>\n",
       "      <td>664</td>\n",
       "    </tr>\n",
       "    <tr>\n",
       "      <th>result_from_ord_bus</th>\n",
       "      <td>8910.0</td>\n",
       "      <td>0.003900</td>\n",
       "      <td>1</td>\n",
       "    </tr>\n",
       "    <tr>\n",
       "      <th>total_result</th>\n",
       "      <td>8993.0</td>\n",
       "      <td>0.004814</td>\n",
       "      <td>0</td>\n",
       "    </tr>\n",
       "    <tr>\n",
       "      <th>trade_payables_mt</th>\n",
       "      <td>9057.0</td>\n",
       "      <td>0.005645</td>\n",
       "      <td>648</td>\n",
       "    </tr>\n",
       "    <tr>\n",
       "      <th>cf_operating</th>\n",
       "      <td>9114.0</td>\n",
       "      <td>0.006490</td>\n",
       "      <td>1</td>\n",
       "    </tr>\n",
       "    <tr>\n",
       "      <th>bank_liabilities_st</th>\n",
       "      <td>9128.0</td>\n",
       "      <td>0.006714</td>\n",
       "      <td>352</td>\n",
       "    </tr>\n",
       "    <tr>\n",
       "      <th>sales</th>\n",
       "      <td>9176.0</td>\n",
       "      <td>0.007534</td>\n",
       "      <td>1</td>\n",
       "    </tr>\n",
       "    <tr>\n",
       "      <th>gross_performance</th>\n",
       "      <td>9239.0</td>\n",
       "      <td>0.008744</td>\n",
       "      <td>7</td>\n",
       "    </tr>\n",
       "    <tr>\n",
       "      <th>gross_profit</th>\n",
       "      <td>9247.0</td>\n",
       "      <td>0.008909</td>\n",
       "      <td>7</td>\n",
       "    </tr>\n",
       "    <tr>\n",
       "      <th>total_assets</th>\n",
       "      <td>9396.0</td>\n",
       "      <td>0.012526</td>\n",
       "      <td>1</td>\n",
       "    </tr>\n",
       "    <tr>\n",
       "      <th>earn_from_op</th>\n",
       "      <td>9443.0</td>\n",
       "      <td>0.013904</td>\n",
       "      <td>1</td>\n",
       "    </tr>\n",
       "    <tr>\n",
       "      <th>total_equity</th>\n",
       "      <td>9483.0</td>\n",
       "      <td>0.015177</td>\n",
       "      <td>21</td>\n",
       "    </tr>\n",
       "    <tr>\n",
       "      <th>current_assets</th>\n",
       "      <td>9640.0</td>\n",
       "      <td>0.021192</td>\n",
       "      <td>1</td>\n",
       "    </tr>\n",
       "    <tr>\n",
       "      <th>cf_financing</th>\n",
       "      <td>9788.5</td>\n",
       "      <td>0.028624</td>\n",
       "      <td>1</td>\n",
       "    </tr>\n",
       "    <tr>\n",
       "      <th>count_emp</th>\n",
       "      <td>10015.5</td>\n",
       "      <td>0.044079</td>\n",
       "      <td>353</td>\n",
       "    </tr>\n",
       "    <tr>\n",
       "      <th>bank_liabilities_lt</th>\n",
       "      <td>10153.0</td>\n",
       "      <td>0.056329</td>\n",
       "      <td>545</td>\n",
       "    </tr>\n",
       "    <tr>\n",
       "      <th>cf_investment</th>\n",
       "      <td>10163.0</td>\n",
       "      <td>0.057288</td>\n",
       "      <td>1</td>\n",
       "    </tr>\n",
       "    <tr>\n",
       "      <th>annual_profit</th>\n",
       "      <td>10207.0</td>\n",
       "      <td>0.061813</td>\n",
       "      <td>1</td>\n",
       "    </tr>\n",
       "    <tr>\n",
       "      <th>legal_form</th>\n",
       "      <td>10606.5</td>\n",
       "      <td>0.064015</td>\n",
       "      <td>0</td>\n",
       "    </tr>\n",
       "    <tr>\n",
       "      <th>total_liabilities_mt</th>\n",
       "      <td>10565.5</td>\n",
       "      <td>0.096754</td>\n",
       "      <td>0</td>\n",
       "    </tr>\n",
       "    <tr>\n",
       "      <th>total_liabilities_st</th>\n",
       "      <td>10511.0</td>\n",
       "      <td>0.100810</td>\n",
       "      <td>0</td>\n",
       "    </tr>\n",
       "    <tr>\n",
       "      <th>total_liabilities_lt</th>\n",
       "      <td>10899.0</td>\n",
       "      <td>0.147415</td>\n",
       "      <td>0</td>\n",
       "    </tr>\n",
       "    <tr>\n",
       "      <th>zip_code</th>\n",
       "      <td>10802.5</td>\n",
       "      <td>0.152677</td>\n",
       "      <td>0</td>\n",
       "    </tr>\n",
       "    <tr>\n",
       "      <th>trade_receivables_st</th>\n",
       "      <td>10885.0</td>\n",
       "      <td>0.170114</td>\n",
       "      <td>355</td>\n",
       "    </tr>\n",
       "    <tr>\n",
       "      <th>year_inc</th>\n",
       "      <td>11230.0</td>\n",
       "      <td>0.255962</td>\n",
       "      <td>0</td>\n",
       "    </tr>\n",
       "    <tr>\n",
       "      <th>age_num</th>\n",
       "      <td>11232.5</td>\n",
       "      <td>0.256658</td>\n",
       "      <td>0</td>\n",
       "    </tr>\n",
       "    <tr>\n",
       "      <th>type_pl</th>\n",
       "      <td>11875.0</td>\n",
       "      <td>0.274012</td>\n",
       "      <td>0</td>\n",
       "    </tr>\n",
       "    <tr>\n",
       "      <th>fin_result</th>\n",
       "      <td>11339.0</td>\n",
       "      <td>0.287283</td>\n",
       "      <td>22</td>\n",
       "    </tr>\n",
       "    <tr>\n",
       "      <th>bank_liabilities_mt</th>\n",
       "      <td>11556.0</td>\n",
       "      <td>0.354279</td>\n",
       "      <td>483</td>\n",
       "    </tr>\n",
       "    <tr>\n",
       "      <th>oth_interest_exp</th>\n",
       "      <td>11594.0</td>\n",
       "      <td>0.366570</td>\n",
       "      <td>62</td>\n",
       "    </tr>\n",
       "    <tr>\n",
       "      <th>oth_interest_inc</th>\n",
       "      <td>11622.0</td>\n",
       "      <td>0.375716</td>\n",
       "      <td>127</td>\n",
       "    </tr>\n",
       "    <tr>\n",
       "      <th>trade_payables_st</th>\n",
       "      <td>11748.0</td>\n",
       "      <td>0.417671</td>\n",
       "      <td>143</td>\n",
       "    </tr>\n",
       "    <tr>\n",
       "      <th>sector</th>\n",
       "      <td>11780.5</td>\n",
       "      <td>0.428665</td>\n",
       "      <td>0</td>\n",
       "    </tr>\n",
       "  </tbody>\n",
       "</table>\n",
       "</div>"
      ],
      "text/plain": [
       "                         Test statistic   P-Value  NAs\n",
       "cash                             7716.0  0.000111   32\n",
       "trade_receivables_lt             8339.0  0.000805  645\n",
       "trade_payables_lt                8430.0  0.001051  665\n",
       "bonds_payables_st                8471.0  0.001183  669\n",
       "bonds_payables_lt                8471.0  0.001183  669\n",
       "monetary_current_assets          8712.0  0.002315    0\n",
       "bonds_payables_mt                8855.0  0.003383  664\n",
       "result_from_ord_bus              8910.0  0.003900    1\n",
       "total_result                     8993.0  0.004814    0\n",
       "trade_payables_mt                9057.0  0.005645  648\n",
       "cf_operating                     9114.0  0.006490    1\n",
       "bank_liabilities_st              9128.0  0.006714  352\n",
       "sales                            9176.0  0.007534    1\n",
       "gross_performance                9239.0  0.008744    7\n",
       "gross_profit                     9247.0  0.008909    7\n",
       "total_assets                     9396.0  0.012526    1\n",
       "earn_from_op                     9443.0  0.013904    1\n",
       "total_equity                     9483.0  0.015177   21\n",
       "current_assets                   9640.0  0.021192    1\n",
       "cf_financing                     9788.5  0.028624    1\n",
       "count_emp                       10015.5  0.044079  353\n",
       "bank_liabilities_lt             10153.0  0.056329  545\n",
       "cf_investment                   10163.0  0.057288    1\n",
       "annual_profit                   10207.0  0.061813    1\n",
       "legal_form                      10606.5  0.064015    0\n",
       "total_liabilities_mt            10565.5  0.096754    0\n",
       "total_liabilities_st            10511.0  0.100810    0\n",
       "total_liabilities_lt            10899.0  0.147415    0\n",
       "zip_code                        10802.5  0.152677    0\n",
       "trade_receivables_st            10885.0  0.170114  355\n",
       "year_inc                        11230.0  0.255962    0\n",
       "age_num                         11232.5  0.256658    0\n",
       "type_pl                         11875.0  0.274012    0\n",
       "fin_result                      11339.0  0.287283   22\n",
       "bank_liabilities_mt             11556.0  0.354279  483\n",
       "oth_interest_exp                11594.0  0.366570   62\n",
       "oth_interest_inc                11622.0  0.375716  127\n",
       "trade_payables_st               11748.0  0.417671  143\n",
       "sector                          11780.5  0.428665    0"
      ]
     },
     "execution_count": 318,
     "metadata": {},
     "output_type": "execute_result"
    }
   ],
   "source": [
    "pd.DataFrame.from_dict(dictionary_mannu,orient=\"index\",\n",
    "                       columns=['Test statistic','P-Value','NAs']).sort_values(by=\"P-Value\")"
   ]
  },
  {
   "cell_type": "markdown",
   "metadata": {},
   "source": [
    "# Variables"
   ]
  },
  {
   "cell_type": "code",
   "execution_count": 319,
   "metadata": {
    "ExecuteTime": {
     "end_time": "2020-12-29T18:14:07.531390Z",
     "start_time": "2020-12-29T18:14:07.510004Z"
    }
   },
   "outputs": [],
   "source": [
    "# # drop companies with to many null columns \n",
    "df_train = df_train.loc[df_train[\"id\"] != 'C_620'] \n",
    "# --> das ist gar nicht gut, ich brauche hier einen loop der entweder alle comps mit mehr als x Spalten NaNs dropt\n",
    "# oder loop der alle corr Spalten checkt und wenn NaN dann drop comp"
   ]
  },
  {
   "cell_type": "markdown",
   "metadata": {},
   "source": [
    "## 1. Single independent variables"
   ]
  },
  {
   "cell_type": "markdown",
   "metadata": {},
   "source": [
    "1. Ebit"
   ]
  },
  {
   "cell_type": "code",
   "execution_count": 321,
   "metadata": {},
   "outputs": [
    {
     "data": {
      "image/png": "[encoded data removed]",
      "text/plain": [
       "<Figure size 432x288 with 1 Axes>"
      ]
     },
     "metadata": {
      "needs_background": "light"
     },
     "output_type": "display_data"
    }
   ],
   "source": [
    "#df_train['ebit'] = sci.stats.mstats.winsorize(df_train['earn_from_op'], limits =[0.015, 0.015])\n",
    "df_train['ebit'] = df_train['earn_from_op']\n",
    "plt.boxplot(df_train.ebit)\n",
    "plt.show()"
   ]
  },
  {
   "cell_type": "markdown",
   "metadata": {},
   "source": [
    "2. Profit"
   ]
  },
  {
   "cell_type": "code",
   "execution_count": 322,
   "metadata": {},
   "outputs": [
    {
     "name": "stdout",
     "output_type": "stream",
     "text": [
      "0\n",
      "count    6.680000e+02\n",
      "mean     1.746451e+07\n",
      "std      6.718432e+07\n",
      "min      2.454000e+02\n",
      "25%      5.988899e+05\n",
      "50%      2.079737e+06\n",
      "75%      1.023961e+07\n",
      "max      9.353868e+08\n",
      "Name: profit, dtype: float64\n",
      "2.079737e+06    6\n",
      "3.179544e+07    1\n",
      "1.992372e+05    1\n",
      "1.764491e+06    1\n",
      "8.547527e+05    1\n",
      "               ..\n",
      "1.740950e+07    1\n",
      "2.633705e+06    1\n",
      "2.970949e+05    1\n",
      "1.269732e+07    1\n",
      "6.143953e+05    1\n",
      "Name: profit, Length: 663, dtype: int64\n"
     ]
    },
    {
     "data": {
      "image/png": "[encoded data removed]",
      "text/plain": [
       "<Figure size 432x288 with 1 Axes>"
      ]
     },
     "metadata": {
      "needs_background": "light"
     },
     "output_type": "display_data"
    }
   ],
   "source": [
    "df_train['profit'] = df_train['gross_profit'].replace(np.nan, np.quantile(df_train['gross_profit'].dropna(),.5))\n",
    "#df_train['profit'] = np.log(df_train['profit'])\n",
    "print(df_train['profit'].isnull().sum())\n",
    "print(df_train['profit'].describe())\n",
    "print(df_train['profit'].value_counts())\n",
    "plt.boxplot(df_train['profit']) \n",
    "plt.show()"
   ]
  },
  {
   "cell_type": "markdown",
   "metadata": {},
   "source": [
    "3. Cash"
   ]
  },
  {
   "cell_type": "code",
   "execution_count": 323,
   "metadata": {},
   "outputs": [
    {
     "name": "stdout",
     "output_type": "stream",
     "text": [
      "0\n",
      "count    6.680000e+02\n",
      "mean     2.572136e+06\n",
      "std      1.250278e+07\n",
      "min      3.090000e+00\n",
      "25%      2.031953e+04\n",
      "50%      1.387784e+05\n",
      "75%      9.784640e+05\n",
      "max      2.562816e+08\n",
      "Name: cash, dtype: float64\n",
      "138778.38      32\n",
      "154972.27       1\n",
      "88932.47        1\n",
      "6890565.23      1\n",
      "3277843.17      1\n",
      "               ..\n",
      "6072.86         1\n",
      "27710.98        1\n",
      "14077.10        1\n",
      "47322295.51     1\n",
      "35.00           1\n",
      "Name: cash, Length: 637, dtype: int64\n"
     ]
    },
    {
     "data": {
      "image/png": "[encoded data removed]",
      "text/plain": [
       "<Figure size 432x288 with 1 Axes>"
      ]
     },
     "metadata": {
      "needs_background": "light"
     },
     "output_type": "display_data"
    }
   ],
   "source": [
    "df_train['cash'] = df_train['cash'].replace(np.nan, np.quantile(df_train['cash'].dropna(),.5))\n",
    "#df_train['cash'] = sci.stats.mstats.winsorize(df_train['cash'], limits =[0.0, 0.005]) #entweder winsorize oder log (log denke besser)\n",
    "#df_train['cash'] = np.log(df_train['cash'])\n",
    "print(df_train['cash'].isnull().sum())\n",
    "print(df_train['cash'].describe())\n",
    "print(df_train['cash'].value_counts())\n",
    "plt.boxplot(df_train['cash']) \n",
    "plt.show()"
   ]
  },
  {
   "cell_type": "markdown",
   "metadata": {},
   "source": [
    "## 2. Predict NaN for total equity\n",
    "Source: https://towardsdatascience.com/predict-missing-values-in-the-dataset-897912a54b7b\n"
   ]
  },
  {
   "cell_type": "markdown",
   "metadata": {},
   "source": [
    "Check for correlation to get relevant variables for regression"
   ]
  },
  {
   "cell_type": "code",
   "execution_count": 324,
   "metadata": {
    "ExecuteTime": {
     "end_time": "2020-12-29T18:14:09.407550Z",
     "start_time": "2020-12-29T18:14:09.390970Z"
    }
   },
   "outputs": [
    {
     "name": "stdout",
     "output_type": "stream",
     "text": [
      "corr total eqity x total result: 0.8677428854384167\n",
      "corr total eqity x total assets: 0.7973909460204517\n",
      "corr total eqity x operating cash flow: 0.8165188337701584\n"
     ]
    }
   ],
   "source": [
    "print('corr total eqity x total result: ' + str(df_train['total_equity'].corr(df_train['total_result'])))\n",
    "print('corr total eqity x total assets: ' + str(df_train['total_equity'].corr(df_train['total_assets'])))\n",
    "print('corr total eqity x operating cash flow: ' + str(df_train['total_equity'].corr(df_train['cf_operating'])))\n"
   ]
  },
  {
   "cell_type": "markdown",
   "metadata": {},
   "source": [
    "Split training and prediction dataset"
   ]
  },
  {
   "cell_type": "code",
   "execution_count": 325,
   "metadata": {
    "ExecuteTime": {
     "end_time": "2020-12-29T18:14:09.447274Z",
     "start_time": "2020-12-29T18:14:09.423837Z"
    }
   },
   "outputs": [],
   "source": [
    "cols = ['total_result', 'total_assets', 'cf_operating', 'total_equity']\n",
    "df = df_train[cols]\n",
    "test_df = df[df['total_equity'].isnull()]\n",
    "df = df.dropna()\n",
    "\n",
    "y_train = df['total_equity']\n",
    "X_train = df.drop('total_equity', axis=1)\n",
    "X_test = test_df.drop('total_equity', axis=1)"
   ]
  },
  {
   "cell_type": "markdown",
   "metadata": {},
   "source": [
    "Train model to fit dataset and predict missing values from column total equity and replace them"
   ]
  },
  {
   "cell_type": "code",
   "execution_count": 326,
   "metadata": {
    "ExecuteTime": {
     "end_time": "2020-12-29T18:14:09.485102Z",
     "start_time": "2020-12-29T18:14:09.462483Z"
    }
   },
   "outputs": [
    {
     "name": "stdout",
     "output_type": "stream",
     "text": [
      "[ 804154.57039482  826770.3743369   750108.4400077  2034060.76386615\n",
      "  906958.71620787  757800.9886018   694739.75133316  777633.44217636\n",
      " 1031927.82907443  707250.9930617   798206.66922869  753555.95951814\n",
      "  938481.58223854  838818.88678533  728338.08877873  658229.22939662\n",
      "  757045.94589862 3707034.78681172  430054.79880166  809294.10299164]\n"
     ]
    }
   ],
   "source": [
    "model = LinearRegression()\n",
    "model.fit(X_train, y_train)\n",
    "y_pred = model.predict(X_test)\n",
    "print(y_pred)"
   ]
  },
  {
   "cell_type": "markdown",
   "metadata": {},
   "source": [
    "Replace the missing values with predicted values"
   ]
  },
  {
   "cell_type": "code",
   "execution_count": 327,
   "metadata": {
    "ExecuteTime": {
     "end_time": "2020-12-29T18:14:11.628659Z",
     "start_time": "2020-12-29T18:14:11.613198Z"
    }
   },
   "outputs": [
    {
     "name": "stdout",
     "output_type": "stream",
     "text": [
      "0\n",
      "count    6.680000e+02\n",
      "mean     2.257491e+07\n",
      "std      1.437662e+08\n",
      "min     -1.120000e-08\n",
      "25%      9.821184e+04\n",
      "50%      6.330711e+05\n",
      "75%      4.242629e+06\n",
      "max      2.883814e+09\n",
      "Name: total_equity, dtype: float64\n",
      " 0.000000e+00    21\n",
      " 2.500000e+04     5\n",
      " 3.640000e-12     5\n",
      " 1.460000e-11     3\n",
      "-3.640000e-12     3\n",
      "                 ..\n",
      " 2.439935e+06     1\n",
      " 9.888687e+06     1\n",
      " 5.076543e+05     1\n",
      " 1.228588e+05     1\n",
      " 4.500000e+05     1\n",
      "Name: total_equity, Length: 631, dtype: int64\n"
     ]
    }
   ],
   "source": [
    "df_train.loc[df_train.total_equity.isnull(), 'total_equity'] = y_pred\n",
    "print(df_train['total_equity'].isnull().sum())\n",
    "print(df_train['total_equity'].describe())\n",
    "print(df_train['total_equity'].value_counts()) #46 nulls"
   ]
  },
  {
   "cell_type": "markdown",
   "metadata": {},
   "source": [
    "## 3. Financial ratios\n",
    "\n",
    "We use two liquidity ratios (measure a companies ability to meet its short term dept obligations)"
   ]
  },
  {
   "cell_type": "markdown",
   "metadata": {},
   "source": [
    "3.1. working capital ratio = current assets/current liabilities"
   ]
  },
  {
   "cell_type": "code",
   "execution_count": 328,
   "metadata": {
    "ExecuteTime": {
     "end_time": "2020-12-29T18:14:12.949092Z",
     "start_time": "2020-12-29T18:14:12.767939Z"
    }
   },
   "outputs": [
    {
     "name": "stdout",
     "output_type": "stream",
     "text": [
      "0      5.142587\n",
      "1      0.663710\n",
      "2      3.328108\n",
      "3      3.193566\n",
      "4      0.102055\n",
      "         ...   \n",
      "664    0.835583\n",
      "665    1.213142\n",
      "666    0.041927\n",
      "667    0.615002\n",
      "668    1.006126\n",
      "Name: wc_ratio, Length: 668, dtype: float64\n",
      "count    668.000000\n",
      "mean       2.468297\n",
      "std        6.831628\n",
      "min        0.000933\n",
      "25%        0.785477\n",
      "50%        1.177708\n",
      "75%        1.929122\n",
      "max       86.138329\n",
      "Name: wc_ratio, dtype: float64\n"
     ]
    },
    {
     "data": {
      "image/png": "[encoded data removed]",
      "text/plain": [
       "<Figure size 432x288 with 1 Axes>"
      ]
     },
     "metadata": {
      "needs_background": "light"
     },
     "output_type": "display_data"
    }
   ],
   "source": [
    "#create a column with total liabilities\n",
    "df_train['total_liabilities'] = df_train['total_liabilities_st'] + df_train['total_liabilities_mt'] + df_train['total_liabilities_lt']\n",
    "\n",
    "df_train['wc_ratio'] = df_train['current_assets']/df_train['total_liabilities_st']\n",
    "print(df_train.wc_ratio)\n",
    "print(df_train.wc_ratio.describe())\n",
    "plt.boxplot(df_train.wc_ratio)\n",
    "plt.show()"
   ]
  },
  {
   "cell_type": "markdown",
   "metadata": {},
   "source": [
    "3.2. operating cash flow ratio = operating cf/current liabilities"
   ]
  },
  {
   "cell_type": "code",
   "execution_count": 329,
   "metadata": {
    "ExecuteTime": {
     "end_time": "2020-12-29T18:14:14.174920Z",
     "start_time": "2020-12-29T18:14:13.944476Z"
    }
   },
   "outputs": [
    {
     "data": {
      "image/png": "[encoded data removed]",
      "text/plain": [
       "<Figure size 432x288 with 1 Axes>"
      ]
     },
     "metadata": {
      "needs_background": "light"
     },
     "output_type": "display_data"
    }
   ],
   "source": [
    "cf_pos = np.where(df_train['cf_operating'] > 1, df_train['cf_operating'], 0)\n",
    "cf_neg = np.where(df_train['cf_operating'] < -1, df_train['cf_operating'], 0)\n",
    "ocf = df_train['cf_operating']/df_train['total_liabilities_st']\n",
    "# winsorize ocf\n",
    "df_train['ocf_ratio'] = sci.stats.mstats.winsorize(ocf, limits =[0.01, 0.015])\n",
    "plt.boxplot(df_train.ocf_ratio)\n",
    "plt.show()"
   ]
  },
  {
   "cell_type": "markdown",
   "metadata": {},
   "source": [
    "Next we use two solvency ratio (measure a companies ability to meet its long term dept obligations) that we will weight as one to circumvent overfitting"
   ]
  },
  {
   "cell_type": "markdown",
   "metadata": {},
   "source": [
    "3.3. equity ratio = tot equity/total assets"
   ]
  },
  {
   "cell_type": "code",
   "execution_count": 345,
   "metadata": {
    "ExecuteTime": {
     "end_time": "2020-12-29T18:14:16.311053Z",
     "start_time": "2020-12-29T18:14:16.065708Z"
    }
   },
   "outputs": [
    {
     "name": "stdout",
     "output_type": "stream",
     "text": [
      "0      0.738567\n",
      "1      0.389698\n",
      "2      0.000937\n",
      "3      0.592532\n",
      "4      0.417496\n",
      "         ...   \n",
      "664    0.182336\n",
      "665    0.341823\n",
      "666    0.000000\n",
      "667    0.000000\n",
      "668    0.040729\n",
      "Name: equity_ratio, Length: 668, dtype: float64\n",
      "count    668.000000\n",
      "mean       0.387833\n",
      "std        0.579788\n",
      "min        0.000000\n",
      "25%        0.106484\n",
      "50%        0.284663\n",
      "75%        0.506833\n",
      "max        9.221039\n",
      "Name: equity_ratio, dtype: float64\n",
      "0.000000    46\n",
      "0.084841     1\n",
      "0.003405     1\n",
      "0.666702     1\n",
      "0.389698     1\n",
      "            ..\n",
      "0.215929     1\n",
      "0.281173     1\n",
      "0.794892     1\n",
      "0.026319     1\n",
      "0.282468     1\n",
      "Name: equity_ratio, Length: 623, dtype: int64\n"
     ]
    },
    {
     "data": {
      "image/png": "[encoded data removed]",
      "text/plain": [
       "<Figure size 432x288 with 1 Axes>"
      ]
     },
     "metadata": {
      "needs_background": "light"
     },
     "output_type": "display_data"
    }
   ],
   "source": [
    "df_train['equity_ratio'] = np.where(df_train['total_equity'] > 1, df_train['total_equity']/df_train['total_assets'], 0)\n",
    "print(df_train.equity_ratio)\n",
    "print(df_train.equity_ratio.describe())\n",
    "print(df_train.equity_ratio.value_counts()) #46 nulls\n",
    "plt.boxplot(df_train.equity_ratio)\n",
    "plt.show()"
   ]
  },
  {
   "cell_type": "markdown",
   "metadata": {},
   "source": [
    "3.4. debt to equity ratio = total dept/total equity"
   ]
  },
  {
   "cell_type": "code",
   "execution_count": 331,
   "metadata": {
    "ExecuteTime": {
     "end_time": "2020-12-29T18:14:29.843850Z",
     "start_time": "2020-12-29T18:14:29.555838Z"
    }
   },
   "outputs": [
    {
     "name": "stdout",
     "output_type": "stream",
     "text": [
      "count      668.000000\n",
      "mean        44.738385\n",
      "std        481.189680\n",
      "min          0.000000\n",
      "25%          0.591623\n",
      "50%          1.908121\n",
      "75%          5.358456\n",
      "max      11312.751676\n",
      "Name: debt_to_equity, dtype: float64\n",
      "0        0.352444\n",
      "1        1.560542\n",
      "2      163.778649\n",
      "3        0.236311\n",
      "4        1.329259\n",
      "          ...    \n",
      "664      4.484386\n",
      "665      1.925494\n",
      "666      0.000000\n",
      "667      0.000000\n",
      "668     23.541597\n",
      "Name: debt_to_equity, Length: 668, dtype: float64\n",
      "0.000000      46\n",
      "0.307467       1\n",
      "0.839126       1\n",
      "1.513160       1\n",
      "1.337916       1\n",
      "              ..\n",
      "6.813697       1\n",
      "0.270086       1\n",
      "4.970072       1\n",
      "163.778649     1\n",
      "2.081941       1\n",
      "Name: debt_to_equity, Length: 623, dtype: int64\n"
     ]
    },
    {
     "data": {
      "image/png": "[encoded data removed]",
      "text/plain": [
       "<Figure size 432x288 with 1 Axes>"
      ]
     },
     "metadata": {
      "needs_background": "light"
     },
     "output_type": "display_data"
    }
   ],
   "source": [
    "df_train['debt_to_equity'] = np.where(df_train['total_equity'] > 1, df_train['total_liabilities']/df_train['total_equity'], 0)\n",
    "#df_train['debt_to_equity'] = sci.stats.mstats.winsorize(df_train['debt_to_equity'], limits =[0.0, 0.02])\n",
    "print(df_train.debt_to_equity.describe())\n",
    "print(df_train.debt_to_equity)\n",
    "print(df_train.debt_to_equity.value_counts()) #46 nulls\n",
    "plt.boxplot(df_train.debt_to_equity)\n",
    "plt.show()"
   ]
  },
  {
   "cell_type": "markdown",
   "metadata": {},
   "source": [
    "Create a dataframe with single ratios and financial ratios and a heatmap to check for correlation between ratios"
   ]
  },
  {
   "cell_type": "code",
   "execution_count": 332,
   "metadata": {
    "ExecuteTime": {
     "end_time": "2020-12-29T18:14:32.622243Z",
     "start_time": "2020-12-29T18:14:31.960418Z"
    }
   },
   "outputs": [
    {
     "name": "stdout",
     "output_type": "stream",
     "text": [
      "           ebit        profit         cash   wc_ratio  ocf_ratio  \\\n",
      "0  6.536078e+06  3.859361e+07  10297047.50   5.142587   0.949635   \n",
      "1  3.814091e+04  1.539841e+06    926383.75   0.663710  -0.617484   \n",
      "2  8.979980e+04  1.500839e+07   9146283.79   3.328108   1.130863   \n",
      "3  5.843150e+05  3.293227e+07   6890565.23   3.193566   0.665113   \n",
      "4  5.403381e+07  1.254550e+08   5036615.09   0.102055   0.374604   \n",
      "5  2.238291e+04  4.847705e+04     75679.79  14.987767   3.180455   \n",
      "6  4.729300e+07  1.076359e+08  11542490.91   0.834046   0.394165   \n",
      "7 -1.340470e+08  4.233500e+07  21696000.00   1.483001   2.055528   \n",
      "8  3.785872e+06  6.110980e+06    322573.88   0.394765   0.023414   \n",
      "9  1.704879e+05  3.147030e+05     35726.57   0.711538   0.278993   \n",
      "\n",
      "   equity_ratio  debt_to_equity  \n",
      "0      0.738567        0.352444  \n",
      "1      0.389698        1.560542  \n",
      "2      0.000937      163.778649  \n",
      "3      0.592532        0.236311  \n",
      "4      0.417496        1.329259  \n",
      "5      0.933551        0.071179  \n",
      "6      0.648681        0.541591  \n",
      "7      0.900519        0.099061  \n",
      "8      0.212951        3.695925  \n",
      "9      0.689870        0.449549  \n",
      "<class 'pandas.core.frame.DataFrame'>\n",
      "Int64Index: 668 entries, 0 to 668\n",
      "Data columns (total 7 columns):\n",
      " #   Column          Non-Null Count  Dtype  \n",
      "---  ------          --------------  -----  \n",
      " 0   ebit            668 non-null    float64\n",
      " 1   profit          668 non-null    float64\n",
      " 2   cash            668 non-null    float64\n",
      " 3   wc_ratio        668 non-null    float64\n",
      " 4   ocf_ratio       668 non-null    float64\n",
      " 5   equity_ratio    668 non-null    float64\n",
      " 6   debt_to_equity  668 non-null    float64\n",
      "dtypes: float64(7)\n",
      "memory usage: 41.8 KB\n",
      "None\n"
     ]
    },
    {
     "data": {
      "image/png": "[encoded data removed]",
      "text/plain": [
       "<Figure size 432x288 with 2 Axes>"
      ]
     },
     "metadata": {
      "needs_background": "light"
     },
     "output_type": "display_data"
    }
   ],
   "source": [
    "col = ['ebit', 'profit', 'cash', 'wc_ratio', 'ocf_ratio', 'equity_ratio', 'debt_to_equity']\n",
    "data = df_train[col]\n",
    "print(data.head(10))\n",
    "print(data.info())\n",
    "\n",
    "heatmap = sns.heatmap(data.corr(), vmin=-1, vmax=1, annot=True, cmap=\"coolwarm\")\n",
    "heatmap.set_title('Variables Correlation Heatmap')\n",
    "plt.show()"
   ]
  },
  {
   "cell_type": "markdown",
   "metadata": {},
   "source": [
    "# Visualize differences in our variables of interest between default and non default \n",
    "\n",
    "Here we just want to visualize the difference in our variables of interest between default and non default firms in our training dataset. Also we ran univariate logisitc regression to determine if the ratio is significant in a univariate sense (is not a K.O. criteria).\n",
    "\n",
    "Our variables of interest are, so the variables we will put in our logistic regression, are :\n",
    "\n",
    "- Working Capital Ratio\n",
    "- Operating Cashflow Ratio\n",
    "- Equity Ratio\n",
    "- Debt to Equity Ratio\n",
    "- Cash"
   ]
  },
  {
   "cell_type": "code",
   "execution_count": 333,
   "metadata": {
    "ExecuteTime": {
     "end_time": "2020-12-29T18:14:44.260789Z",
     "start_time": "2020-12-29T18:14:44.187560Z"
    }
   },
   "outputs": [
    {
     "data": {
      "text/html": [
       "<div>\n",
       "<style scoped>\n",
       "    .dataframe tbody tr th:only-of-type {\n",
       "        vertical-align: middle;\n",
       "    }\n",
       "\n",
       "    .dataframe tbody tr th {\n",
       "        vertical-align: top;\n",
       "    }\n",
       "\n",
       "    .dataframe thead th {\n",
       "        text-align: right;\n",
       "    }\n",
       "</style>\n",
       "<table border=\"1\" class=\"dataframe\">\n",
       "  <thead>\n",
       "    <tr style=\"text-align: right;\">\n",
       "      <th></th>\n",
       "      <th>id</th>\n",
       "      <th>default</th>\n",
       "      <th>legal_form</th>\n",
       "      <th>zip_code</th>\n",
       "      <th>sector</th>\n",
       "      <th>year_inc</th>\n",
       "      <th>count_emp</th>\n",
       "      <th>type_pl</th>\n",
       "      <th>sales</th>\n",
       "      <th>gross_performance</th>\n",
       "      <th>...</th>\n",
       "      <th>cf_investment</th>\n",
       "      <th>cf_financing</th>\n",
       "      <th>age_num</th>\n",
       "      <th>ebit</th>\n",
       "      <th>profit</th>\n",
       "      <th>total_liabilities</th>\n",
       "      <th>wc_ratio</th>\n",
       "      <th>ocf_ratio</th>\n",
       "      <th>equity_ratio</th>\n",
       "      <th>debt_to_equity</th>\n",
       "    </tr>\n",
       "  </thead>\n",
       "  <tbody>\n",
       "    <tr>\n",
       "      <th>0</th>\n",
       "      <td>C_405</td>\n",
       "      <td>0</td>\n",
       "      <td>GmbH &amp; Co. KG</td>\n",
       "      <td>12359</td>\n",
       "      <td>46730</td>\n",
       "      <td>1900</td>\n",
       "      <td>NaN</td>\n",
       "      <td>GKV</td>\n",
       "      <td>1.068738e+08</td>\n",
       "      <td>1.068738e+08</td>\n",
       "      <td>...</td>\n",
       "      <td>-1.112342e+06</td>\n",
       "      <td>-7520392.09</td>\n",
       "      <td>120.0</td>\n",
       "      <td>6536077.55</td>\n",
       "      <td>3.859361e+07</td>\n",
       "      <td>1.136445e+07</td>\n",
       "      <td>5.142587</td>\n",
       "      <td>0.949635</td>\n",
       "      <td>0.738567</td>\n",
       "      <td>0.352444</td>\n",
       "    </tr>\n",
       "    <tr>\n",
       "      <th>1</th>\n",
       "      <td>C_292</td>\n",
       "      <td>0</td>\n",
       "      <td>GmbH &amp; Co. KG</td>\n",
       "      <td>10719</td>\n",
       "      <td>70101</td>\n",
       "      <td>1976</td>\n",
       "      <td>NaN</td>\n",
       "      <td>GKV</td>\n",
       "      <td>1.393869e+06</td>\n",
       "      <td>1.407889e+06</td>\n",
       "      <td>...</td>\n",
       "      <td>1.174427e+06</td>\n",
       "      <td>1128108.08</td>\n",
       "      <td>44.0</td>\n",
       "      <td>38140.91</td>\n",
       "      <td>1.539841e+06</td>\n",
       "      <td>7.034964e+06</td>\n",
       "      <td>0.663710</td>\n",
       "      <td>-0.617484</td>\n",
       "      <td>0.389698</td>\n",
       "      <td>1.560542</td>\n",
       "    </tr>\n",
       "    <tr>\n",
       "      <th>2</th>\n",
       "      <td>C_746</td>\n",
       "      <td>0</td>\n",
       "      <td>GmbH</td>\n",
       "      <td>13353</td>\n",
       "      <td>87100</td>\n",
       "      <td>1962</td>\n",
       "      <td>323.0</td>\n",
       "      <td>GKV</td>\n",
       "      <td>3.864034e+06</td>\n",
       "      <td>7.597353e+05</td>\n",
       "      <td>...</td>\n",
       "      <td>-7.536444e+06</td>\n",
       "      <td>-22026.07</td>\n",
       "      <td>58.0</td>\n",
       "      <td>89799.80</td>\n",
       "      <td>1.500839e+07</td>\n",
       "      <td>8.457608e+06</td>\n",
       "      <td>3.328108</td>\n",
       "      <td>1.130863</td>\n",
       "      <td>0.000937</td>\n",
       "      <td>163.778649</td>\n",
       "    </tr>\n",
       "    <tr>\n",
       "      <th>3</th>\n",
       "      <td>C_838</td>\n",
       "      <td>0</td>\n",
       "      <td>AG</td>\n",
       "      <td>12529</td>\n",
       "      <td>68320</td>\n",
       "      <td>1972</td>\n",
       "      <td>1.0</td>\n",
       "      <td>GKV</td>\n",
       "      <td>4.384786e+06</td>\n",
       "      <td>4.405058e+06</td>\n",
       "      <td>...</td>\n",
       "      <td>-6.561222e+05</td>\n",
       "      <td>-169655.66</td>\n",
       "      <td>48.0</td>\n",
       "      <td>584315.02</td>\n",
       "      <td>3.293227e+07</td>\n",
       "      <td>2.793219e+06</td>\n",
       "      <td>3.193566</td>\n",
       "      <td>0.665113</td>\n",
       "      <td>0.592532</td>\n",
       "      <td>0.236311</td>\n",
       "    </tr>\n",
       "    <tr>\n",
       "      <th>4</th>\n",
       "      <td>C_495</td>\n",
       "      <td>0</td>\n",
       "      <td>Einzelfirma</td>\n",
       "      <td>12165</td>\n",
       "      <td>47730</td>\n",
       "      <td>1908</td>\n",
       "      <td>NaN</td>\n",
       "      <td>GKV</td>\n",
       "      <td>1.104478e+08</td>\n",
       "      <td>1.104478e+08</td>\n",
       "      <td>...</td>\n",
       "      <td>-1.419776e+08</td>\n",
       "      <td>12567030.80</td>\n",
       "      <td>112.0</td>\n",
       "      <td>54033808.08</td>\n",
       "      <td>1.254550e+08</td>\n",
       "      <td>6.044734e+08</td>\n",
       "      <td>0.102055</td>\n",
       "      <td>0.374604</td>\n",
       "      <td>0.417496</td>\n",
       "      <td>1.329259</td>\n",
       "    </tr>\n",
       "    <tr>\n",
       "      <th>...</th>\n",
       "      <td>...</td>\n",
       "      <td>...</td>\n",
       "      <td>...</td>\n",
       "      <td>...</td>\n",
       "      <td>...</td>\n",
       "      <td>...</td>\n",
       "      <td>...</td>\n",
       "      <td>...</td>\n",
       "      <td>...</td>\n",
       "      <td>...</td>\n",
       "      <td>...</td>\n",
       "      <td>...</td>\n",
       "      <td>...</td>\n",
       "      <td>...</td>\n",
       "      <td>...</td>\n",
       "      <td>...</td>\n",
       "      <td>...</td>\n",
       "      <td>...</td>\n",
       "      <td>...</td>\n",
       "      <td>...</td>\n",
       "      <td>...</td>\n",
       "    </tr>\n",
       "    <tr>\n",
       "      <th>664</th>\n",
       "      <td>C_637</td>\n",
       "      <td>0</td>\n",
       "      <td>GmbH</td>\n",
       "      <td>82041</td>\n",
       "      <td>46410</td>\n",
       "      <td>1977</td>\n",
       "      <td>NaN</td>\n",
       "      <td>GKV</td>\n",
       "      <td>2.804500e+07</td>\n",
       "      <td>2.804500e+07</td>\n",
       "      <td>...</td>\n",
       "      <td>-2.581574e+05</td>\n",
       "      <td>845.29</td>\n",
       "      <td>43.0</td>\n",
       "      <td>374000.00</td>\n",
       "      <td>1.420400e+07</td>\n",
       "      <td>1.292400e+07</td>\n",
       "      <td>0.835583</td>\n",
       "      <td>0.026441</td>\n",
       "      <td>0.182336</td>\n",
       "      <td>4.484386</td>\n",
       "    </tr>\n",
       "    <tr>\n",
       "      <th>665</th>\n",
       "      <td>C_091</td>\n",
       "      <td>0</td>\n",
       "      <td>GmbH</td>\n",
       "      <td>85716</td>\n",
       "      <td>70210</td>\n",
       "      <td>2000</td>\n",
       "      <td>64.0</td>\n",
       "      <td>GKV</td>\n",
       "      <td>5.175343e+06</td>\n",
       "      <td>5.241814e+06</td>\n",
       "      <td>...</td>\n",
       "      <td>-4.270350e+04</td>\n",
       "      <td>77968.25</td>\n",
       "      <td>20.0</td>\n",
       "      <td>244694.05</td>\n",
       "      <td>2.312606e+06</td>\n",
       "      <td>9.117692e+05</td>\n",
       "      <td>1.213142</td>\n",
       "      <td>-0.475269</td>\n",
       "      <td>0.341823</td>\n",
       "      <td>1.925494</td>\n",
       "    </tr>\n",
       "    <tr>\n",
       "      <th>666</th>\n",
       "      <td>C_707</td>\n",
       "      <td>0</td>\n",
       "      <td>GmbH</td>\n",
       "      <td>85521</td>\n",
       "      <td>46693</td>\n",
       "      <td>2000</td>\n",
       "      <td>NaN</td>\n",
       "      <td>GKV</td>\n",
       "      <td>4.307021e+07</td>\n",
       "      <td>4.307021e+07</td>\n",
       "      <td>...</td>\n",
       "      <td>-4.940000e+05</td>\n",
       "      <td>-1400459.36</td>\n",
       "      <td>20.0</td>\n",
       "      <td>12876951.53</td>\n",
       "      <td>4.307021e+07</td>\n",
       "      <td>3.628583e+08</td>\n",
       "      <td>0.041927</td>\n",
       "      <td>0.009356</td>\n",
       "      <td>0.000000</td>\n",
       "      <td>0.000000</td>\n",
       "    </tr>\n",
       "    <tr>\n",
       "      <th>667</th>\n",
       "      <td>C_323</td>\n",
       "      <td>0</td>\n",
       "      <td>GmbH &amp; Co. KG</td>\n",
       "      <td>82031</td>\n",
       "      <td>68320</td>\n",
       "      <td>2007</td>\n",
       "      <td>NaN</td>\n",
       "      <td>GKV</td>\n",
       "      <td>1.843728e+05</td>\n",
       "      <td>1.843728e+05</td>\n",
       "      <td>...</td>\n",
       "      <td>-2.630540e+03</td>\n",
       "      <td>-9788.00</td>\n",
       "      <td>13.0</td>\n",
       "      <td>9855.87</td>\n",
       "      <td>1.934094e+05</td>\n",
       "      <td>1.146466e+05</td>\n",
       "      <td>0.615002</td>\n",
       "      <td>0.220748</td>\n",
       "      <td>0.000000</td>\n",
       "      <td>0.000000</td>\n",
       "    </tr>\n",
       "    <tr>\n",
       "      <th>668</th>\n",
       "      <td>C_864</td>\n",
       "      <td>0</td>\n",
       "      <td>GmbH &amp; Co. KG</td>\n",
       "      <td>85356</td>\n",
       "      <td>52291</td>\n",
       "      <td>1980</td>\n",
       "      <td>47.0</td>\n",
       "      <td>GKV</td>\n",
       "      <td>2.204447e+07</td>\n",
       "      <td>2.204447e+07</td>\n",
       "      <td>...</td>\n",
       "      <td>-1.834490e+04</td>\n",
       "      <td>-973706.58</td>\n",
       "      <td>40.0</td>\n",
       "      <td>1011020.73</td>\n",
       "      <td>5.700096e+06</td>\n",
       "      <td>7.297895e+06</td>\n",
       "      <td>1.006126</td>\n",
       "      <td>0.298800</td>\n",
       "      <td>0.040729</td>\n",
       "      <td>23.541597</td>\n",
       "    </tr>\n",
       "  </tbody>\n",
       "</table>\n",
       "<p>668 rows × 48 columns</p>\n",
       "</div>"
      ],
      "text/plain": [
       "        id  default     legal_form  zip_code  sector  year_inc  count_emp  \\\n",
       "0    C_405        0  GmbH & Co. KG     12359   46730      1900        NaN   \n",
       "1    C_292        0  GmbH & Co. KG     10719   70101      1976        NaN   \n",
       "2    C_746        0           GmbH     13353   87100      1962      323.0   \n",
       "3    C_838        0             AG     12529   68320      1972        1.0   \n",
       "4    C_495        0    Einzelfirma     12165   47730      1908        NaN   \n",
       "..     ...      ...            ...       ...     ...       ...        ...   \n",
       "664  C_637        0           GmbH     82041   46410      1977        NaN   \n",
       "665  C_091        0           GmbH     85716   70210      2000       64.0   \n",
       "666  C_707        0           GmbH     85521   46693      2000        NaN   \n",
       "667  C_323        0  GmbH & Co. KG     82031   68320      2007        NaN   \n",
       "668  C_864        0  GmbH & Co. KG     85356   52291      1980       47.0   \n",
       "\n",
       "    type_pl         sales  gross_performance  ...  cf_investment  \\\n",
       "0       GKV  1.068738e+08       1.068738e+08  ...  -1.112342e+06   \n",
       "1       GKV  1.393869e+06       1.407889e+06  ...   1.174427e+06   \n",
       "2       GKV  3.864034e+06       7.597353e+05  ...  -7.536444e+06   \n",
       "3       GKV  4.384786e+06       4.405058e+06  ...  -6.561222e+05   \n",
       "4       GKV  1.104478e+08       1.104478e+08  ...  -1.419776e+08   \n",
       "..      ...           ...                ...  ...            ...   \n",
       "664     GKV  2.804500e+07       2.804500e+07  ...  -2.581574e+05   \n",
       "665     GKV  5.175343e+06       5.241814e+06  ...  -4.270350e+04   \n",
       "666     GKV  4.307021e+07       4.307021e+07  ...  -4.940000e+05   \n",
       "667     GKV  1.843728e+05       1.843728e+05  ...  -2.630540e+03   \n",
       "668     GKV  2.204447e+07       2.204447e+07  ...  -1.834490e+04   \n",
       "\n",
       "     cf_financing  age_num         ebit        profit  total_liabilities  \\\n",
       "0     -7520392.09    120.0   6536077.55  3.859361e+07       1.136445e+07   \n",
       "1      1128108.08     44.0     38140.91  1.539841e+06       7.034964e+06   \n",
       "2       -22026.07     58.0     89799.80  1.500839e+07       8.457608e+06   \n",
       "3      -169655.66     48.0    584315.02  3.293227e+07       2.793219e+06   \n",
       "4     12567030.80    112.0  54033808.08  1.254550e+08       6.044734e+08   \n",
       "..            ...      ...          ...           ...                ...   \n",
       "664        845.29     43.0    374000.00  1.420400e+07       1.292400e+07   \n",
       "665      77968.25     20.0    244694.05  2.312606e+06       9.117692e+05   \n",
       "666   -1400459.36     20.0  12876951.53  4.307021e+07       3.628583e+08   \n",
       "667      -9788.00     13.0      9855.87  1.934094e+05       1.146466e+05   \n",
       "668    -973706.58     40.0   1011020.73  5.700096e+06       7.297895e+06   \n",
       "\n",
       "     wc_ratio  ocf_ratio  equity_ratio  debt_to_equity  \n",
       "0    5.142587   0.949635      0.738567        0.352444  \n",
       "1    0.663710  -0.617484      0.389698        1.560542  \n",
       "2    3.328108   1.130863      0.000937      163.778649  \n",
       "3    3.193566   0.665113      0.592532        0.236311  \n",
       "4    0.102055   0.374604      0.417496        1.329259  \n",
       "..        ...        ...           ...             ...  \n",
       "664  0.835583   0.026441      0.182336        4.484386  \n",
       "665  1.213142  -0.475269      0.341823        1.925494  \n",
       "666  0.041927   0.009356      0.000000        0.000000  \n",
       "667  0.615002   0.220748      0.000000        0.000000  \n",
       "668  1.006126   0.298800      0.040729       23.541597  \n",
       "\n",
       "[668 rows x 48 columns]"
      ]
     },
     "execution_count": 333,
     "metadata": {},
     "output_type": "execute_result"
    }
   ],
   "source": [
    "df_train"
   ]
  },
  {
   "cell_type": "markdown",
   "metadata": {},
   "source": [
    "## Working Capital Ratio"
   ]
  },
  {
   "cell_type": "code",
   "execution_count": 334,
   "metadata": {
    "ExecuteTime": {
     "end_time": "2020-12-29T18:14:47.867872Z",
     "start_time": "2020-12-29T18:14:45.364567Z"
    }
   },
   "outputs": [
    {
     "ename": "AttributeError",
     "evalue": "module 'seaborn' has no attribute 'displot'",
     "output_type": "error",
     "traceback": [
      "\u001b[1;31m---------------------------------------------------------------------------\u001b[0m",
      "\u001b[1;31mAttributeError\u001b[0m                            Traceback (most recent call last)",
      "\u001b[1;32m<ipython-input-334-8e4c3d114acf>\u001b[0m in \u001b[0;36m<module>\u001b[1;34m\u001b[0m\n\u001b[0;32m      4\u001b[0m             data=df_train).set_title(\"With log transformation\");\n\u001b[0;32m      5\u001b[0m \u001b[0mplt\u001b[0m\u001b[1;33m.\u001b[0m\u001b[0mfigure\u001b[0m\u001b[1;33m(\u001b[0m\u001b[1;33m)\u001b[0m\u001b[1;33m\u001b[0m\u001b[1;33m\u001b[0m\u001b[0m\n\u001b[1;32m----> 6\u001b[1;33m \u001b[0msns\u001b[0m\u001b[1;33m.\u001b[0m\u001b[0mdisplot\u001b[0m\u001b[1;33m(\u001b[0m\u001b[0mdf_train\u001b[0m\u001b[1;33m,\u001b[0m\u001b[0mx\u001b[0m\u001b[1;33m=\u001b[0m\u001b[1;34m\"wc_ratio\"\u001b[0m\u001b[1;33m,\u001b[0m\u001b[0mhue\u001b[0m\u001b[1;33m=\u001b[0m\u001b[1;34m\"default\"\u001b[0m\u001b[1;33m,\u001b[0m\u001b[0mstat\u001b[0m\u001b[1;33m=\u001b[0m\u001b[1;34m\"density\"\u001b[0m\u001b[1;33m,\u001b[0m\u001b[0mcommon_norm\u001b[0m\u001b[1;33m=\u001b[0m\u001b[1;32mFalse\u001b[0m\u001b[1;33m)\u001b[0m\u001b[1;33m;\u001b[0m\u001b[1;33m\u001b[0m\u001b[1;33m\u001b[0m\u001b[0m\n\u001b[0m\u001b[0;32m      7\u001b[0m \u001b[1;33m\u001b[0m\u001b[0m\n\u001b[0;32m      8\u001b[0m \u001b[0mmdl\u001b[0m \u001b[1;33m=\u001b[0m \u001b[0msm\u001b[0m\u001b[1;33m.\u001b[0m\u001b[0mLogit\u001b[0m\u001b[1;33m.\u001b[0m\u001b[0mfrom_formula\u001b[0m\u001b[1;33m(\u001b[0m\u001b[1;34m'default ~ wc_ratio + 1'\u001b[0m\u001b[1;33m,\u001b[0m \u001b[0mdata\u001b[0m\u001b[1;33m=\u001b[0m\u001b[0mdf_train\u001b[0m\u001b[1;33m)\u001b[0m\u001b[1;33m.\u001b[0m\u001b[0mfit\u001b[0m\u001b[1;33m(\u001b[0m\u001b[0mdisp\u001b[0m\u001b[1;33m=\u001b[0m\u001b[1;32mFalse\u001b[0m\u001b[1;33m,\u001b[0m \u001b[0mmaxiter\u001b[0m\u001b[1;33m=\u001b[0m\u001b[1;36m100\u001b[0m\u001b[1;33m)\u001b[0m\u001b[1;33m\u001b[0m\u001b[1;33m\u001b[0m\u001b[0m\n",
      "\u001b[1;31mAttributeError\u001b[0m: module 'seaborn' has no attribute 'displot'"
     ]
    },
    {
     "data": {
      "image/png": "[encoded data removed]",
      "text/plain": [
       "<Figure size 432x288 with 1 Axes>"
      ]
     },
     "metadata": {
      "needs_background": "light"
     },
     "output_type": "display_data"
    },
    {
     "data": {
      "image/png": "[encoded data removed]",
      "text/plain": [
       "<Figure size 432x288 with 1 Axes>"
      ]
     },
     "metadata": {
      "needs_background": "light"
     },
     "output_type": "display_data"
    },
    {
     "data": {
      "text/plain": [
       "<Figure size 432x288 with 0 Axes>"
      ]
     },
     "metadata": {},
     "output_type": "display_data"
    }
   ],
   "source": [
    "sns.boxplot(y=\"wc_ratio\",x=\"default\",data=df_train);\n",
    "plt.figure()\n",
    "sns.boxplot(y=np.log(df_train[\"wc_ratio\"]),x=\"default\",\n",
    "            data=df_train).set_title(\"With log transformation\");\n",
    "plt.figure()\n",
    "sns.displot(df_train,x=\"wc_ratio\",hue=\"default\",stat=\"density\",common_norm=False);\n",
    "\n",
    "mdl = sm.Logit.from_formula('default ~ wc_ratio + 1', data=df_train).fit(disp=False, maxiter=100)\n",
    "print(mdl.summary2())"
   ]
  },
  {
   "cell_type": "markdown",
   "metadata": {
    "ExecuteTime": {
     "end_time": "2020-12-23T07:49:46.197844Z",
     "start_time": "2020-12-23T07:49:46.127363Z"
    }
   },
   "source": [
    "## Operating Cash Flow Ratio"
   ]
  },
  {
   "cell_type": "code",
   "execution_count": 335,
   "metadata": {
    "ExecuteTime": {
     "end_time": "2020-12-29T18:14:49.912621Z",
     "start_time": "2020-12-29T18:14:47.873443Z"
    }
   },
   "outputs": [
    {
     "ename": "AttributeError",
     "evalue": "module 'seaborn' has no attribute 'displot'",
     "output_type": "error",
     "traceback": [
      "\u001b[1;31m---------------------------------------------------------------------------\u001b[0m",
      "\u001b[1;31mAttributeError\u001b[0m                            Traceback (most recent call last)",
      "\u001b[1;32m<ipython-input-335-c6a66c42bc86>\u001b[0m in \u001b[0;36m<module>\u001b[1;34m\u001b[0m\n\u001b[0;32m      4\u001b[0m             data=df_train).set_title(\"With log transformation\");\n\u001b[0;32m      5\u001b[0m \u001b[0mplt\u001b[0m\u001b[1;33m.\u001b[0m\u001b[0mfigure\u001b[0m\u001b[1;33m(\u001b[0m\u001b[1;33m)\u001b[0m\u001b[1;33m\u001b[0m\u001b[1;33m\u001b[0m\u001b[0m\n\u001b[1;32m----> 6\u001b[1;33m \u001b[0msns\u001b[0m\u001b[1;33m.\u001b[0m\u001b[0mdisplot\u001b[0m\u001b[1;33m(\u001b[0m\u001b[0mdf_train\u001b[0m\u001b[1;33m,\u001b[0m\u001b[0mx\u001b[0m\u001b[1;33m=\u001b[0m\u001b[1;34m\"ocf_ratio\"\u001b[0m\u001b[1;33m,\u001b[0m\u001b[0mhue\u001b[0m\u001b[1;33m=\u001b[0m\u001b[1;34m\"default\"\u001b[0m\u001b[1;33m,\u001b[0m\u001b[0mstat\u001b[0m\u001b[1;33m=\u001b[0m\u001b[1;34m\"density\"\u001b[0m\u001b[1;33m,\u001b[0m\u001b[0mcommon_norm\u001b[0m\u001b[1;33m=\u001b[0m\u001b[1;32mFalse\u001b[0m\u001b[1;33m)\u001b[0m\u001b[1;33m;\u001b[0m\u001b[1;33m\u001b[0m\u001b[1;33m\u001b[0m\u001b[0m\n\u001b[0m\u001b[0;32m      7\u001b[0m \u001b[1;33m\u001b[0m\u001b[0m\n\u001b[0;32m      8\u001b[0m \u001b[0mmdl\u001b[0m \u001b[1;33m=\u001b[0m \u001b[0msm\u001b[0m\u001b[1;33m.\u001b[0m\u001b[0mLogit\u001b[0m\u001b[1;33m.\u001b[0m\u001b[0mfrom_formula\u001b[0m\u001b[1;33m(\u001b[0m\u001b[1;34m'default ~ ocf_ratio + 1'\u001b[0m\u001b[1;33m,\u001b[0m \u001b[0mdata\u001b[0m\u001b[1;33m=\u001b[0m\u001b[0mdf_train\u001b[0m\u001b[1;33m)\u001b[0m\u001b[1;33m.\u001b[0m\u001b[0mfit\u001b[0m\u001b[1;33m(\u001b[0m\u001b[0mdisp\u001b[0m\u001b[1;33m=\u001b[0m\u001b[1;32mFalse\u001b[0m\u001b[1;33m,\u001b[0m \u001b[0mmaxiter\u001b[0m\u001b[1;33m=\u001b[0m\u001b[1;36m100\u001b[0m\u001b[1;33m)\u001b[0m\u001b[1;33m\u001b[0m\u001b[1;33m\u001b[0m\u001b[0m\n",
      "\u001b[1;31mAttributeError\u001b[0m: module 'seaborn' has no attribute 'displot'"
     ]
    },
    {
     "data": {
      "image/png": "[encoded data removed]",
      "text/plain": [
       "<Figure size 432x288 with 1 Axes>"
      ]
     },
     "metadata": {
      "needs_background": "light"
     },
     "output_type": "display_data"
    },
    {
     "data": {
      "image/png": "[encoded data removed]",
      "text/plain": [
       "<Figure size 432x288 with 1 Axes>"
      ]
     },
     "metadata": {
      "needs_background": "light"
     },
     "output_type": "display_data"
    },
    {
     "data": {
      "text/plain": [
       "<Figure size 432x288 with 0 Axes>"
      ]
     },
     "metadata": {},
     "output_type": "display_data"
    }
   ],
   "source": [
    "sns.boxplot(y=\"ocf_ratio\",x=\"default\",data=df_train);\n",
    "plt.figure()\n",
    "sns.boxplot(y=np.log(df_train[\"ocf_ratio\"]),x=\"default\",\n",
    "            data=df_train).set_title(\"With log transformation\");\n",
    "plt.figure()\n",
    "sns.displot(df_train,x=\"ocf_ratio\",hue=\"default\",stat=\"density\",common_norm=False);\n",
    "\n",
    "mdl = sm.Logit.from_formula('default ~ ocf_ratio + 1', data=df_train).fit(disp=False, maxiter=100)\n",
    "print(mdl.summary2())"
   ]
  },
  {
   "cell_type": "markdown",
   "metadata": {},
   "source": [
    "## Equity Ratio "
   ]
  },
  {
   "cell_type": "code",
   "execution_count": 336,
   "metadata": {
    "ExecuteTime": {
     "end_time": "2020-12-29T18:14:52.352601Z",
     "start_time": "2020-12-29T18:14:50.635039Z"
    }
   },
   "outputs": [
    {
     "ename": "AttributeError",
     "evalue": "module 'seaborn' has no attribute 'displot'",
     "output_type": "error",
     "traceback": [
      "\u001b[1;31m---------------------------------------------------------------------------\u001b[0m",
      "\u001b[1;31mAttributeError\u001b[0m                            Traceback (most recent call last)",
      "\u001b[1;32m<ipython-input-336-91cc0fe43bf0>\u001b[0m in \u001b[0;36m<module>\u001b[1;34m\u001b[0m\n\u001b[0;32m      4\u001b[0m             data=df_train).set_title(\"With log transformation\");\n\u001b[0;32m      5\u001b[0m \u001b[0mplt\u001b[0m\u001b[1;33m.\u001b[0m\u001b[0mfigure\u001b[0m\u001b[1;33m(\u001b[0m\u001b[1;33m)\u001b[0m\u001b[1;33m\u001b[0m\u001b[1;33m\u001b[0m\u001b[0m\n\u001b[1;32m----> 6\u001b[1;33m \u001b[0msns\u001b[0m\u001b[1;33m.\u001b[0m\u001b[0mdisplot\u001b[0m\u001b[1;33m(\u001b[0m\u001b[0mdf_train\u001b[0m\u001b[1;33m,\u001b[0m\u001b[0mx\u001b[0m\u001b[1;33m=\u001b[0m\u001b[1;34m\"equity_ratio\"\u001b[0m\u001b[1;33m,\u001b[0m\u001b[0mhue\u001b[0m\u001b[1;33m=\u001b[0m\u001b[1;34m\"default\"\u001b[0m\u001b[1;33m,\u001b[0m\u001b[0mstat\u001b[0m\u001b[1;33m=\u001b[0m\u001b[1;34m\"density\"\u001b[0m\u001b[1;33m,\u001b[0m\u001b[0mcommon_norm\u001b[0m\u001b[1;33m=\u001b[0m\u001b[1;32mFalse\u001b[0m\u001b[1;33m)\u001b[0m\u001b[1;33m;\u001b[0m\u001b[1;33m\u001b[0m\u001b[1;33m\u001b[0m\u001b[0m\n\u001b[0m\u001b[0;32m      7\u001b[0m \u001b[1;33m\u001b[0m\u001b[0m\n\u001b[0;32m      8\u001b[0m \u001b[0mmdl\u001b[0m \u001b[1;33m=\u001b[0m \u001b[0msm\u001b[0m\u001b[1;33m.\u001b[0m\u001b[0mLogit\u001b[0m\u001b[1;33m.\u001b[0m\u001b[0mfrom_formula\u001b[0m\u001b[1;33m(\u001b[0m\u001b[1;34m'default ~ equity_ratio + 1'\u001b[0m\u001b[1;33m,\u001b[0m \u001b[0mdata\u001b[0m\u001b[1;33m=\u001b[0m\u001b[0mdf_train\u001b[0m\u001b[1;33m)\u001b[0m\u001b[1;33m.\u001b[0m\u001b[0mfit\u001b[0m\u001b[1;33m(\u001b[0m\u001b[0mdisp\u001b[0m\u001b[1;33m=\u001b[0m\u001b[1;32mFalse\u001b[0m\u001b[1;33m,\u001b[0m \u001b[0mmaxiter\u001b[0m\u001b[1;33m=\u001b[0m\u001b[1;36m100\u001b[0m\u001b[1;33m)\u001b[0m\u001b[1;33m\u001b[0m\u001b[1;33m\u001b[0m\u001b[0m\n",
      "\u001b[1;31mAttributeError\u001b[0m: module 'seaborn' has no attribute 'displot'"
     ]
    },
    {
     "data": {
      "image/png": "[encoded data removed]",
      "text/plain": [
       "<Figure size 432x288 with 1 Axes>"
      ]
     },
     "metadata": {
      "needs_background": "light"
     },
     "output_type": "display_data"
    },
    {
     "data": {
      "image/png": "[encoded data removed]",
      "text/plain": [
       "<Figure size 432x288 with 1 Axes>"
      ]
     },
     "metadata": {
      "needs_background": "light"
     },
     "output_type": "display_data"
    },
    {
     "data": {
      "text/plain": [
       "<Figure size 432x288 with 0 Axes>"
      ]
     },
     "metadata": {},
     "output_type": "display_data"
    }
   ],
   "source": [
    "sns.boxplot(y=\"equity_ratio\",x=\"default\",data=df_train);\n",
    "plt.figure()\n",
    "sns.boxplot(y=np.log(df_train[\"equity_ratio\"]),x=\"default\",\n",
    "            data=df_train).set_title(\"With log transformation\");\n",
    "plt.figure()\n",
    "sns.displot(df_train,x=\"equity_ratio\",hue=\"default\",stat=\"density\",common_norm=False);\n",
    "\n",
    "mdl = sm.Logit.from_formula('default ~ equity_ratio + 1', data=df_train).fit(disp=False, maxiter=100)\n",
    "print(mdl.summary2())"
   ]
  },
  {
   "cell_type": "code",
   "execution_count": null,
   "metadata": {
    "ExecuteTime": {
     "end_time": "2020-12-29T18:14:54.877499Z",
     "start_time": "2020-12-29T18:14:54.831053Z"
    }
   },
   "outputs": [],
   "source": [
    "pd.crosstab(df_train[\"default\"],df_train[\"equity_ratio\"]==0) #see that 6 defaulted with an equity ratio of 0"
   ]
  },
  {
   "cell_type": "markdown",
   "metadata": {},
   "source": [
    "## Debt to Equity Ratio"
   ]
  },
  {
   "cell_type": "code",
   "execution_count": 337,
   "metadata": {
    "ExecuteTime": {
     "end_time": "2020-12-29T18:14:57.682922Z",
     "start_time": "2020-12-29T18:14:56.041040Z"
    }
   },
   "outputs": [
    {
     "ename": "AttributeError",
     "evalue": "module 'seaborn' has no attribute 'displot'",
     "output_type": "error",
     "traceback": [
      "\u001b[1;31m---------------------------------------------------------------------------\u001b[0m",
      "\u001b[1;31mAttributeError\u001b[0m                            Traceback (most recent call last)",
      "\u001b[1;32m<ipython-input-337-4f2a56e856c3>\u001b[0m in \u001b[0;36m<module>\u001b[1;34m\u001b[0m\n\u001b[0;32m      4\u001b[0m             data=df_train).set_title(\"With log transformation\");\n\u001b[0;32m      5\u001b[0m \u001b[0mplt\u001b[0m\u001b[1;33m.\u001b[0m\u001b[0mfigure\u001b[0m\u001b[1;33m(\u001b[0m\u001b[1;33m)\u001b[0m\u001b[1;33m\u001b[0m\u001b[1;33m\u001b[0m\u001b[0m\n\u001b[1;32m----> 6\u001b[1;33m \u001b[0msns\u001b[0m\u001b[1;33m.\u001b[0m\u001b[0mdisplot\u001b[0m\u001b[1;33m(\u001b[0m\u001b[0mdf_train\u001b[0m\u001b[1;33m,\u001b[0m\u001b[0mx\u001b[0m\u001b[1;33m=\u001b[0m\u001b[1;34m\"debt_to_equity\"\u001b[0m\u001b[1;33m,\u001b[0m\u001b[0mhue\u001b[0m\u001b[1;33m=\u001b[0m\u001b[1;34m\"default\"\u001b[0m\u001b[1;33m,\u001b[0m\u001b[0mstat\u001b[0m\u001b[1;33m=\u001b[0m\u001b[1;34m\"density\"\u001b[0m\u001b[1;33m,\u001b[0m\u001b[0mcommon_norm\u001b[0m\u001b[1;33m=\u001b[0m\u001b[1;32mFalse\u001b[0m\u001b[1;33m)\u001b[0m\u001b[1;33m;\u001b[0m\u001b[1;33m\u001b[0m\u001b[1;33m\u001b[0m\u001b[0m\n\u001b[0m\u001b[0;32m      7\u001b[0m \u001b[1;33m\u001b[0m\u001b[0m\n\u001b[0;32m      8\u001b[0m \u001b[0mmdl\u001b[0m \u001b[1;33m=\u001b[0m \u001b[0msm\u001b[0m\u001b[1;33m.\u001b[0m\u001b[0mLogit\u001b[0m\u001b[1;33m.\u001b[0m\u001b[0mfrom_formula\u001b[0m\u001b[1;33m(\u001b[0m\u001b[1;34m'default ~ debt_to_equity + 1'\u001b[0m\u001b[1;33m,\u001b[0m \u001b[0mdata\u001b[0m\u001b[1;33m=\u001b[0m\u001b[0mdf_train\u001b[0m\u001b[1;33m)\u001b[0m\u001b[1;33m.\u001b[0m\u001b[0mfit\u001b[0m\u001b[1;33m(\u001b[0m\u001b[0mdisp\u001b[0m\u001b[1;33m=\u001b[0m\u001b[1;32mFalse\u001b[0m\u001b[1;33m,\u001b[0m \u001b[0mmaxiter\u001b[0m\u001b[1;33m=\u001b[0m\u001b[1;36m100\u001b[0m\u001b[1;33m)\u001b[0m\u001b[1;33m\u001b[0m\u001b[1;33m\u001b[0m\u001b[0m\n",
      "\u001b[1;31mAttributeError\u001b[0m: module 'seaborn' has no attribute 'displot'"
     ]
    },
    {
     "data": {
      "image/png": "[encoded data removed]",
      "text/plain": [
       "<Figure size 432x288 with 1 Axes>"
      ]
     },
     "metadata": {
      "needs_background": "light"
     },
     "output_type": "display_data"
    },
    {
     "data": {
      "image/png": "[encoded data removed]",
      "text/plain": [
       "<Figure size 432x288 with 1 Axes>"
      ]
     },
     "metadata": {
      "needs_background": "light"
     },
     "output_type": "display_data"
    },
    {
     "data": {
      "text/plain": [
       "<Figure size 432x288 with 0 Axes>"
      ]
     },
     "metadata": {},
     "output_type": "display_data"
    }
   ],
   "source": [
    "sns.boxplot(y=\"debt_to_equity\",x=\"default\",data=df_train);\n",
    "plt.figure()\n",
    "sns.boxplot(y=np.log(df_train[\"debt_to_equity\"]),x=\"default\",\n",
    "            data=df_train).set_title(\"With log transformation\");\n",
    "plt.figure()\n",
    "sns.displot(df_train,x=\"debt_to_equity\",hue=\"default\",stat=\"density\",common_norm=False);\n",
    "\n",
    "mdl = sm.Logit.from_formula('default ~ debt_to_equity + 1', data=df_train).fit(disp=False, maxiter=100)\n",
    "print(mdl.summary2())"
   ]
  },
  {
   "cell_type": "markdown",
   "metadata": {},
   "source": [
    "## Cash"
   ]
  },
  {
   "cell_type": "code",
   "execution_count": 338,
   "metadata": {
    "ExecuteTime": {
     "end_time": "2020-12-29T18:15:10.467539Z",
     "start_time": "2020-12-29T18:14:58.689901Z"
    }
   },
   "outputs": [
    {
     "ename": "AttributeError",
     "evalue": "module 'seaborn' has no attribute 'displot'",
     "output_type": "error",
     "traceback": [
      "\u001b[1;31m---------------------------------------------------------------------------\u001b[0m",
      "\u001b[1;31mAttributeError\u001b[0m                            Traceback (most recent call last)",
      "\u001b[1;32m<ipython-input-338-617981d6ff9a>\u001b[0m in \u001b[0;36m<module>\u001b[1;34m\u001b[0m\n\u001b[0;32m      4\u001b[0m             data=df_train).set_title(\"With log transformation\");\n\u001b[0;32m      5\u001b[0m \u001b[0mplt\u001b[0m\u001b[1;33m.\u001b[0m\u001b[0mfigure\u001b[0m\u001b[1;33m(\u001b[0m\u001b[1;33m)\u001b[0m\u001b[1;33m\u001b[0m\u001b[1;33m\u001b[0m\u001b[0m\n\u001b[1;32m----> 6\u001b[1;33m \u001b[0msns\u001b[0m\u001b[1;33m.\u001b[0m\u001b[0mdisplot\u001b[0m\u001b[1;33m(\u001b[0m\u001b[0mdf_train\u001b[0m\u001b[1;33m,\u001b[0m\u001b[0mx\u001b[0m\u001b[1;33m=\u001b[0m\u001b[1;34m\"cash\"\u001b[0m\u001b[1;33m,\u001b[0m\u001b[0mhue\u001b[0m\u001b[1;33m=\u001b[0m\u001b[1;34m\"default\"\u001b[0m\u001b[1;33m,\u001b[0m\u001b[0mstat\u001b[0m\u001b[1;33m=\u001b[0m\u001b[1;34m\"density\"\u001b[0m\u001b[1;33m,\u001b[0m\u001b[0mcommon_norm\u001b[0m\u001b[1;33m=\u001b[0m\u001b[1;32mFalse\u001b[0m\u001b[1;33m)\u001b[0m\u001b[1;33m;\u001b[0m\u001b[1;33m\u001b[0m\u001b[1;33m\u001b[0m\u001b[0m\n\u001b[0m\u001b[0;32m      7\u001b[0m \u001b[1;33m\u001b[0m\u001b[0m\n\u001b[0;32m      8\u001b[0m \u001b[0mmdl\u001b[0m \u001b[1;33m=\u001b[0m \u001b[0msm\u001b[0m\u001b[1;33m.\u001b[0m\u001b[0mLogit\u001b[0m\u001b[1;33m.\u001b[0m\u001b[0mfrom_formula\u001b[0m\u001b[1;33m(\u001b[0m\u001b[1;34m'default ~ cash + 1'\u001b[0m\u001b[1;33m,\u001b[0m \u001b[0mdata\u001b[0m\u001b[1;33m=\u001b[0m\u001b[0mdf_train\u001b[0m\u001b[1;33m)\u001b[0m\u001b[1;33m.\u001b[0m\u001b[0mfit\u001b[0m\u001b[1;33m(\u001b[0m\u001b[0mdisp\u001b[0m\u001b[1;33m=\u001b[0m\u001b[1;32mFalse\u001b[0m\u001b[1;33m,\u001b[0m \u001b[0mmaxiter\u001b[0m\u001b[1;33m=\u001b[0m\u001b[1;36m100\u001b[0m\u001b[1;33m)\u001b[0m\u001b[1;33m\u001b[0m\u001b[1;33m\u001b[0m\u001b[0m\n",
      "\u001b[1;31mAttributeError\u001b[0m: module 'seaborn' has no attribute 'displot'"
     ]
    },
    {
     "data": {
      "image/png": "[encoded data removed]",
      "text/plain": [
       "<Figure size 432x288 with 1 Axes>"
      ]
     },
     "metadata": {
      "needs_background": "light"
     },
     "output_type": "display_data"
    },
    {
     "data": {
      "image/png": "[encoded data removed]",
      "text/plain": [
       "<Figure size 432x288 with 1 Axes>"
      ]
     },
     "metadata": {
      "needs_background": "light"
     },
     "output_type": "display_data"
    },
    {
     "data": {
      "text/plain": [
       "<Figure size 432x288 with 0 Axes>"
      ]
     },
     "metadata": {},
     "output_type": "display_data"
    }
   ],
   "source": [
    "sns.boxplot(y=\"cash\",x=\"default\",data=df_train);\n",
    "plt.figure()\n",
    "sns.boxplot(y=np.log(df_train[\"cash\"]),x=\"default\",\n",
    "            data=df_train).set_title(\"With log transformation\");\n",
    "plt.figure()\n",
    "sns.displot(df_train,x=\"cash\",hue=\"default\",stat=\"density\",common_norm=False);\n",
    "\n",
    "mdl = sm.Logit.from_formula('default ~ cash + 1', data=df_train).fit(disp=False, maxiter=100)\n",
    "print(mdl.summary2())"
   ]
  },
  {
   "cell_type": "code",
   "execution_count": null,
   "metadata": {
    "ExecuteTime": {
     "end_time": "2020-12-29T18:15:13.190085Z",
     "start_time": "2020-12-29T18:15:11.516821Z"
    }
   },
   "outputs": [],
   "source": [
    "# See better histogram of cash\n",
    "x = df_train[df_train[\"cash\"] < df_train[\"cash\"].quantile(0.95)]\n",
    "sns.displot(x,x=\"cash\",hue=\"default\",stat=\"density\",common_norm=False);\n",
    "plt.figure()\n",
    "sns.boxplot(y=\"cash\",x=\"default\",data=x);\n",
    "plt.figure()\n",
    "sns.boxplot(y=np.log(x[\"cash\"]),x=\"default\",\n",
    "            data=x).set_title(\"With log transformation\");\n"
   ]
  },
  {
   "cell_type": "markdown",
   "metadata": {},
   "source": [
    "# Our Logit Regression"
   ]
  },
  {
   "cell_type": "code",
   "execution_count": 339,
   "metadata": {
    "ExecuteTime": {
     "end_time": "2020-12-29T18:15:14.494154Z",
     "start_time": "2020-12-29T18:15:14.420434Z"
    }
   },
   "outputs": [
    {
     "data": {
      "text/html": [
       "<div>\n",
       "<style scoped>\n",
       "    .dataframe tbody tr th:only-of-type {\n",
       "        vertical-align: middle;\n",
       "    }\n",
       "\n",
       "    .dataframe tbody tr th {\n",
       "        vertical-align: top;\n",
       "    }\n",
       "\n",
       "    .dataframe thead th {\n",
       "        text-align: right;\n",
       "    }\n",
       "</style>\n",
       "<table border=\"1\" class=\"dataframe\">\n",
       "  <thead>\n",
       "    <tr style=\"text-align: right;\">\n",
       "      <th></th>\n",
       "      <th>id</th>\n",
       "      <th>default</th>\n",
       "      <th>legal_form</th>\n",
       "      <th>zip_code</th>\n",
       "      <th>sector</th>\n",
       "      <th>year_inc</th>\n",
       "      <th>count_emp</th>\n",
       "      <th>type_pl</th>\n",
       "      <th>sales</th>\n",
       "      <th>gross_performance</th>\n",
       "      <th>...</th>\n",
       "      <th>cf_investment</th>\n",
       "      <th>cf_financing</th>\n",
       "      <th>age_num</th>\n",
       "      <th>ebit</th>\n",
       "      <th>profit</th>\n",
       "      <th>total_liabilities</th>\n",
       "      <th>wc_ratio</th>\n",
       "      <th>ocf_ratio</th>\n",
       "      <th>equity_ratio</th>\n",
       "      <th>debt_to_equity</th>\n",
       "    </tr>\n",
       "  </thead>\n",
       "  <tbody>\n",
       "    <tr>\n",
       "      <th>0</th>\n",
       "      <td>C_405</td>\n",
       "      <td>0</td>\n",
       "      <td>GmbH &amp; Co. KG</td>\n",
       "      <td>12359</td>\n",
       "      <td>46730</td>\n",
       "      <td>1900</td>\n",
       "      <td>NaN</td>\n",
       "      <td>GKV</td>\n",
       "      <td>1.068738e+08</td>\n",
       "      <td>1.068738e+08</td>\n",
       "      <td>...</td>\n",
       "      <td>-1.112342e+06</td>\n",
       "      <td>-7520392.09</td>\n",
       "      <td>120.0</td>\n",
       "      <td>6536077.55</td>\n",
       "      <td>3.859361e+07</td>\n",
       "      <td>1.136445e+07</td>\n",
       "      <td>5.142587</td>\n",
       "      <td>0.949635</td>\n",
       "      <td>0.738567</td>\n",
       "      <td>0.352444</td>\n",
       "    </tr>\n",
       "    <tr>\n",
       "      <th>1</th>\n",
       "      <td>C_292</td>\n",
       "      <td>0</td>\n",
       "      <td>GmbH &amp; Co. KG</td>\n",
       "      <td>10719</td>\n",
       "      <td>70101</td>\n",
       "      <td>1976</td>\n",
       "      <td>NaN</td>\n",
       "      <td>GKV</td>\n",
       "      <td>1.393869e+06</td>\n",
       "      <td>1.407889e+06</td>\n",
       "      <td>...</td>\n",
       "      <td>1.174427e+06</td>\n",
       "      <td>1128108.08</td>\n",
       "      <td>44.0</td>\n",
       "      <td>38140.91</td>\n",
       "      <td>1.539841e+06</td>\n",
       "      <td>7.034964e+06</td>\n",
       "      <td>0.663710</td>\n",
       "      <td>-0.617484</td>\n",
       "      <td>0.389698</td>\n",
       "      <td>1.560542</td>\n",
       "    </tr>\n",
       "    <tr>\n",
       "      <th>2</th>\n",
       "      <td>C_746</td>\n",
       "      <td>0</td>\n",
       "      <td>GmbH</td>\n",
       "      <td>13353</td>\n",
       "      <td>87100</td>\n",
       "      <td>1962</td>\n",
       "      <td>323.0</td>\n",
       "      <td>GKV</td>\n",
       "      <td>3.864034e+06</td>\n",
       "      <td>7.597353e+05</td>\n",
       "      <td>...</td>\n",
       "      <td>-7.536444e+06</td>\n",
       "      <td>-22026.07</td>\n",
       "      <td>58.0</td>\n",
       "      <td>89799.80</td>\n",
       "      <td>1.500839e+07</td>\n",
       "      <td>8.457608e+06</td>\n",
       "      <td>3.328108</td>\n",
       "      <td>1.130863</td>\n",
       "      <td>0.000937</td>\n",
       "      <td>163.778649</td>\n",
       "    </tr>\n",
       "    <tr>\n",
       "      <th>3</th>\n",
       "      <td>C_838</td>\n",
       "      <td>0</td>\n",
       "      <td>AG</td>\n",
       "      <td>12529</td>\n",
       "      <td>68320</td>\n",
       "      <td>1972</td>\n",
       "      <td>1.0</td>\n",
       "      <td>GKV</td>\n",
       "      <td>4.384786e+06</td>\n",
       "      <td>4.405058e+06</td>\n",
       "      <td>...</td>\n",
       "      <td>-6.561222e+05</td>\n",
       "      <td>-169655.66</td>\n",
       "      <td>48.0</td>\n",
       "      <td>584315.02</td>\n",
       "      <td>3.293227e+07</td>\n",
       "      <td>2.793219e+06</td>\n",
       "      <td>3.193566</td>\n",
       "      <td>0.665113</td>\n",
       "      <td>0.592532</td>\n",
       "      <td>0.236311</td>\n",
       "    </tr>\n",
       "    <tr>\n",
       "      <th>4</th>\n",
       "      <td>C_495</td>\n",
       "      <td>0</td>\n",
       "      <td>Einzelfirma</td>\n",
       "      <td>12165</td>\n",
       "      <td>47730</td>\n",
       "      <td>1908</td>\n",
       "      <td>NaN</td>\n",
       "      <td>GKV</td>\n",
       "      <td>1.104478e+08</td>\n",
       "      <td>1.104478e+08</td>\n",
       "      <td>...</td>\n",
       "      <td>-1.419776e+08</td>\n",
       "      <td>12567030.80</td>\n",
       "      <td>112.0</td>\n",
       "      <td>54033808.08</td>\n",
       "      <td>1.254550e+08</td>\n",
       "      <td>6.044734e+08</td>\n",
       "      <td>0.102055</td>\n",
       "      <td>0.374604</td>\n",
       "      <td>0.417496</td>\n",
       "      <td>1.329259</td>\n",
       "    </tr>\n",
       "    <tr>\n",
       "      <th>...</th>\n",
       "      <td>...</td>\n",
       "      <td>...</td>\n",
       "      <td>...</td>\n",
       "      <td>...</td>\n",
       "      <td>...</td>\n",
       "      <td>...</td>\n",
       "      <td>...</td>\n",
       "      <td>...</td>\n",
       "      <td>...</td>\n",
       "      <td>...</td>\n",
       "      <td>...</td>\n",
       "      <td>...</td>\n",
       "      <td>...</td>\n",
       "      <td>...</td>\n",
       "      <td>...</td>\n",
       "      <td>...</td>\n",
       "      <td>...</td>\n",
       "      <td>...</td>\n",
       "      <td>...</td>\n",
       "      <td>...</td>\n",
       "      <td>...</td>\n",
       "    </tr>\n",
       "    <tr>\n",
       "      <th>664</th>\n",
       "      <td>C_637</td>\n",
       "      <td>0</td>\n",
       "      <td>GmbH</td>\n",
       "      <td>82041</td>\n",
       "      <td>46410</td>\n",
       "      <td>1977</td>\n",
       "      <td>NaN</td>\n",
       "      <td>GKV</td>\n",
       "      <td>2.804500e+07</td>\n",
       "      <td>2.804500e+07</td>\n",
       "      <td>...</td>\n",
       "      <td>-2.581574e+05</td>\n",
       "      <td>845.29</td>\n",
       "      <td>43.0</td>\n",
       "      <td>374000.00</td>\n",
       "      <td>1.420400e+07</td>\n",
       "      <td>1.292400e+07</td>\n",
       "      <td>0.835583</td>\n",
       "      <td>0.026441</td>\n",
       "      <td>0.182336</td>\n",
       "      <td>4.484386</td>\n",
       "    </tr>\n",
       "    <tr>\n",
       "      <th>665</th>\n",
       "      <td>C_091</td>\n",
       "      <td>0</td>\n",
       "      <td>GmbH</td>\n",
       "      <td>85716</td>\n",
       "      <td>70210</td>\n",
       "      <td>2000</td>\n",
       "      <td>64.0</td>\n",
       "      <td>GKV</td>\n",
       "      <td>5.175343e+06</td>\n",
       "      <td>5.241814e+06</td>\n",
       "      <td>...</td>\n",
       "      <td>-4.270350e+04</td>\n",
       "      <td>77968.25</td>\n",
       "      <td>20.0</td>\n",
       "      <td>244694.05</td>\n",
       "      <td>2.312606e+06</td>\n",
       "      <td>9.117692e+05</td>\n",
       "      <td>1.213142</td>\n",
       "      <td>-0.475269</td>\n",
       "      <td>0.341823</td>\n",
       "      <td>1.925494</td>\n",
       "    </tr>\n",
       "    <tr>\n",
       "      <th>666</th>\n",
       "      <td>C_707</td>\n",
       "      <td>0</td>\n",
       "      <td>GmbH</td>\n",
       "      <td>85521</td>\n",
       "      <td>46693</td>\n",
       "      <td>2000</td>\n",
       "      <td>NaN</td>\n",
       "      <td>GKV</td>\n",
       "      <td>4.307021e+07</td>\n",
       "      <td>4.307021e+07</td>\n",
       "      <td>...</td>\n",
       "      <td>-4.940000e+05</td>\n",
       "      <td>-1400459.36</td>\n",
       "      <td>20.0</td>\n",
       "      <td>12876951.53</td>\n",
       "      <td>4.307021e+07</td>\n",
       "      <td>3.628583e+08</td>\n",
       "      <td>0.041927</td>\n",
       "      <td>0.009356</td>\n",
       "      <td>0.000000</td>\n",
       "      <td>0.000000</td>\n",
       "    </tr>\n",
       "    <tr>\n",
       "      <th>667</th>\n",
       "      <td>C_323</td>\n",
       "      <td>0</td>\n",
       "      <td>GmbH &amp; Co. KG</td>\n",
       "      <td>82031</td>\n",
       "      <td>68320</td>\n",
       "      <td>2007</td>\n",
       "      <td>NaN</td>\n",
       "      <td>GKV</td>\n",
       "      <td>1.843728e+05</td>\n",
       "      <td>1.843728e+05</td>\n",
       "      <td>...</td>\n",
       "      <td>-2.630540e+03</td>\n",
       "      <td>-9788.00</td>\n",
       "      <td>13.0</td>\n",
       "      <td>9855.87</td>\n",
       "      <td>1.934094e+05</td>\n",
       "      <td>1.146466e+05</td>\n",
       "      <td>0.615002</td>\n",
       "      <td>0.220748</td>\n",
       "      <td>0.000000</td>\n",
       "      <td>0.000000</td>\n",
       "    </tr>\n",
       "    <tr>\n",
       "      <th>668</th>\n",
       "      <td>C_864</td>\n",
       "      <td>0</td>\n",
       "      <td>GmbH &amp; Co. KG</td>\n",
       "      <td>85356</td>\n",
       "      <td>52291</td>\n",
       "      <td>1980</td>\n",
       "      <td>47.0</td>\n",
       "      <td>GKV</td>\n",
       "      <td>2.204447e+07</td>\n",
       "      <td>2.204447e+07</td>\n",
       "      <td>...</td>\n",
       "      <td>-1.834490e+04</td>\n",
       "      <td>-973706.58</td>\n",
       "      <td>40.0</td>\n",
       "      <td>1011020.73</td>\n",
       "      <td>5.700096e+06</td>\n",
       "      <td>7.297895e+06</td>\n",
       "      <td>1.006126</td>\n",
       "      <td>0.298800</td>\n",
       "      <td>0.040729</td>\n",
       "      <td>23.541597</td>\n",
       "    </tr>\n",
       "  </tbody>\n",
       "</table>\n",
       "<p>668 rows × 48 columns</p>\n",
       "</div>"
      ],
      "text/plain": [
       "        id  default     legal_form  zip_code  sector  year_inc  count_emp  \\\n",
       "0    C_405        0  GmbH & Co. KG     12359   46730      1900        NaN   \n",
       "1    C_292        0  GmbH & Co. KG     10719   70101      1976        NaN   \n",
       "2    C_746        0           GmbH     13353   87100      1962      323.0   \n",
       "3    C_838        0             AG     12529   68320      1972        1.0   \n",
       "4    C_495        0    Einzelfirma     12165   47730      1908        NaN   \n",
       "..     ...      ...            ...       ...     ...       ...        ...   \n",
       "664  C_637        0           GmbH     82041   46410      1977        NaN   \n",
       "665  C_091        0           GmbH     85716   70210      2000       64.0   \n",
       "666  C_707        0           GmbH     85521   46693      2000        NaN   \n",
       "667  C_323        0  GmbH & Co. KG     82031   68320      2007        NaN   \n",
       "668  C_864        0  GmbH & Co. KG     85356   52291      1980       47.0   \n",
       "\n",
       "    type_pl         sales  gross_performance  ...  cf_investment  \\\n",
       "0       GKV  1.068738e+08       1.068738e+08  ...  -1.112342e+06   \n",
       "1       GKV  1.393869e+06       1.407889e+06  ...   1.174427e+06   \n",
       "2       GKV  3.864034e+06       7.597353e+05  ...  -7.536444e+06   \n",
       "3       GKV  4.384786e+06       4.405058e+06  ...  -6.561222e+05   \n",
       "4       GKV  1.104478e+08       1.104478e+08  ...  -1.419776e+08   \n",
       "..      ...           ...                ...  ...            ...   \n",
       "664     GKV  2.804500e+07       2.804500e+07  ...  -2.581574e+05   \n",
       "665     GKV  5.175343e+06       5.241814e+06  ...  -4.270350e+04   \n",
       "666     GKV  4.307021e+07       4.307021e+07  ...  -4.940000e+05   \n",
       "667     GKV  1.843728e+05       1.843728e+05  ...  -2.630540e+03   \n",
       "668     GKV  2.204447e+07       2.204447e+07  ...  -1.834490e+04   \n",
       "\n",
       "     cf_financing  age_num         ebit        profit  total_liabilities  \\\n",
       "0     -7520392.09    120.0   6536077.55  3.859361e+07       1.136445e+07   \n",
       "1      1128108.08     44.0     38140.91  1.539841e+06       7.034964e+06   \n",
       "2       -22026.07     58.0     89799.80  1.500839e+07       8.457608e+06   \n",
       "3      -169655.66     48.0    584315.02  3.293227e+07       2.793219e+06   \n",
       "4     12567030.80    112.0  54033808.08  1.254550e+08       6.044734e+08   \n",
       "..            ...      ...          ...           ...                ...   \n",
       "664        845.29     43.0    374000.00  1.420400e+07       1.292400e+07   \n",
       "665      77968.25     20.0    244694.05  2.312606e+06       9.117692e+05   \n",
       "666   -1400459.36     20.0  12876951.53  4.307021e+07       3.628583e+08   \n",
       "667      -9788.00     13.0      9855.87  1.934094e+05       1.146466e+05   \n",
       "668    -973706.58     40.0   1011020.73  5.700096e+06       7.297895e+06   \n",
       "\n",
       "     wc_ratio  ocf_ratio  equity_ratio  debt_to_equity  \n",
       "0    5.142587   0.949635      0.738567        0.352444  \n",
       "1    0.663710  -0.617484      0.389698        1.560542  \n",
       "2    3.328108   1.130863      0.000937      163.778649  \n",
       "3    3.193566   0.665113      0.592532        0.236311  \n",
       "4    0.102055   0.374604      0.417496        1.329259  \n",
       "..        ...        ...           ...             ...  \n",
       "664  0.835583   0.026441      0.182336        4.484386  \n",
       "665  1.213142  -0.475269      0.341823        1.925494  \n",
       "666  0.041927   0.009356      0.000000        0.000000  \n",
       "667  0.615002   0.220748      0.000000        0.000000  \n",
       "668  1.006126   0.298800      0.040729       23.541597  \n",
       "\n",
       "[668 rows x 48 columns]"
      ]
     },
     "execution_count": 339,
     "metadata": {},
     "output_type": "execute_result"
    }
   ],
   "source": [
    "df_train"
   ]
  },
  {
   "cell_type": "code",
   "execution_count": 340,
   "metadata": {
    "ExecuteTime": {
     "end_time": "2020-12-30T09:32:39.605785Z",
     "start_time": "2020-12-30T09:32:39.445228Z"
    }
   },
   "outputs": [
    {
     "name": "stdout",
     "output_type": "stream",
     "text": [
      "                         Results: Logit\n",
      "=================================================================\n",
      "Model:              Logit            Pseudo R-squared: 0.090     \n",
      "Dependent Variable: default          AIC:              281.5351  \n",
      "Date:               2020-12-31 14:05 BIC:              317.5694  \n",
      "No. Observations:   668              Log-Likelihood:   -132.77   \n",
      "Df Model:           7                LL-Null:          -145.83   \n",
      "Df Residuals:       660              LLR p-value:      0.00047734\n",
      "Converged:          1.0000           Scale:            1.0000    \n",
      "No. Iterations:     12.0000                                      \n",
      "-----------------------------------------------------------------\n",
      "                   Coef.  Std.Err.    z    P>|z|   [0.025  0.975]\n",
      "-----------------------------------------------------------------\n",
      "Intercept         -2.1910   0.2764 -7.9269 0.0000 -2.7328 -1.6493\n",
      "ebit              -0.0000   0.0000 -0.2224 0.8240 -0.0000  0.0000\n",
      "profit            -0.0000   0.0000 -0.4907 0.6237 -0.0000  0.0000\n",
      "cash              -0.0000   0.0000 -1.8648 0.0622 -0.0000  0.0000\n",
      "wc_ratio          -0.1846   0.1416 -1.3030 0.1926 -0.4622  0.0931\n",
      "ocf_ratio         -0.1885   0.2918 -0.6460 0.5183 -0.7604  0.3834\n",
      "equity_ratio       0.2179   0.1773  1.2289 0.2191 -0.1296  0.5653\n",
      "debt_to_equity     0.0004   0.0002  1.6632 0.0963 -0.0001  0.0009\n",
      "=================================================================\n",
      "\n"
     ]
    }
   ],
   "source": [
    "mdl1 = sm.Logit.from_formula('default ~ ebit + profit + cash + wc_ratio + ocf_ratio + equity_ratio + debt_to_equity + 1',\n",
    "                            data=df_train).fit(disp=False, maxiter=100)\n",
    "print(mdl1.summary2())"
   ]
  },
  {
   "cell_type": "code",
   "execution_count": 341,
   "metadata": {
    "ExecuteTime": {
     "end_time": "2020-12-29T18:15:26.901352Z",
     "start_time": "2020-12-29T18:15:26.817267Z"
    }
   },
   "outputs": [
    {
     "name": "stdout",
     "output_type": "stream",
     "text": [
      "Optimization terminated successfully.\n",
      "         Current function value: 0.198754\n",
      "         Iterations 12\n"
     ]
    },
    {
     "data": {
      "text/html": [
       "<table class=\"simpletable\">\n",
       "<tr>\n",
       "        <td>Model:</td>              <td>Logit</td>      <td>Pseudo R-squared:</td>    <td>0.090</td>  \n",
       "</tr>\n",
       "<tr>\n",
       "  <td>Dependent Variable:</td>      <td>default</td>           <td>AIC:</td>         <td>281.5351</td> \n",
       "</tr>\n",
       "<tr>\n",
       "         <td>Date:</td>        <td>2020-12-31 14:05</td>       <td>BIC:</td>         <td>317.5694</td> \n",
       "</tr>\n",
       "<tr>\n",
       "   <td>No. Observations:</td>         <td>668</td>        <td>Log-Likelihood:</td>    <td>-132.77</td> \n",
       "</tr>\n",
       "<tr>\n",
       "       <td>Df Model:</td>              <td>7</td>            <td>LL-Null:</td>        <td>-145.83</td> \n",
       "</tr>\n",
       "<tr>\n",
       "     <td>Df Residuals:</td>           <td>660</td>         <td>LLR p-value:</td>    <td>0.00047734</td>\n",
       "</tr>\n",
       "<tr>\n",
       "      <td>Converged:</td>           <td>1.0000</td>           <td>Scale:</td>         <td>1.0000</td>  \n",
       "</tr>\n",
       "<tr>\n",
       "    <td>No. Iterations:</td>        <td>12.0000</td>             <td></td>               <td></td>     \n",
       "</tr>\n",
       "</table>\n",
       "<table class=\"simpletable\">\n",
       "<tr>\n",
       "         <td></td>         <th>Coef.</th>  <th>Std.Err.</th>    <th>z</th>     <th>P>|z|</th> <th>[0.025</th>  <th>0.975]</th> \n",
       "</tr>\n",
       "<tr>\n",
       "  <th>const</th>          <td>-2.1910</td>  <td>0.2764</td>  <td>-7.9269</td> <td>0.0000</td> <td>-2.7328</td> <td>-1.6493</td>\n",
       "</tr>\n",
       "<tr>\n",
       "  <th>ebit</th>           <td>-0.0000</td>  <td>0.0000</td>  <td>-0.2224</td> <td>0.8240</td> <td>-0.0000</td> <td>0.0000</td> \n",
       "</tr>\n",
       "<tr>\n",
       "  <th>profit</th>         <td>-0.0000</td>  <td>0.0000</td>  <td>-0.4907</td> <td>0.6237</td> <td>-0.0000</td> <td>0.0000</td> \n",
       "</tr>\n",
       "<tr>\n",
       "  <th>cash</th>           <td>-0.0000</td>  <td>0.0000</td>  <td>-1.8648</td> <td>0.0622</td> <td>-0.0000</td> <td>0.0000</td> \n",
       "</tr>\n",
       "<tr>\n",
       "  <th>wc_ratio</th>       <td>-0.1846</td>  <td>0.1416</td>  <td>-1.3030</td> <td>0.1926</td> <td>-0.4622</td> <td>0.0931</td> \n",
       "</tr>\n",
       "<tr>\n",
       "  <th>ocf_ratio</th>      <td>-0.1885</td>  <td>0.2918</td>  <td>-0.6460</td> <td>0.5183</td> <td>-0.7604</td> <td>0.3834</td> \n",
       "</tr>\n",
       "<tr>\n",
       "  <th>equity_ratio</th>   <td>0.2179</td>   <td>0.1773</td>  <td>1.2289</td>  <td>0.2191</td> <td>-0.1296</td> <td>0.5653</td> \n",
       "</tr>\n",
       "<tr>\n",
       "  <th>debt_to_equity</th> <td>0.0004</td>   <td>0.0002</td>  <td>1.6632</td>  <td>0.0963</td> <td>-0.0001</td> <td>0.0009</td> \n",
       "</tr>\n",
       "</table>"
      ],
      "text/plain": [
       "<class 'statsmodels.iolib.summary2.Summary'>\n",
       "\"\"\"\n",
       "                         Results: Logit\n",
       "=================================================================\n",
       "Model:              Logit            Pseudo R-squared: 0.090     \n",
       "Dependent Variable: default          AIC:              281.5351  \n",
       "Date:               2020-12-31 14:05 BIC:              317.5694  \n",
       "No. Observations:   668              Log-Likelihood:   -132.77   \n",
       "Df Model:           7                LL-Null:          -145.83   \n",
       "Df Residuals:       660              LLR p-value:      0.00047734\n",
       "Converged:          1.0000           Scale:            1.0000    \n",
       "No. Iterations:     12.0000                                      \n",
       "-----------------------------------------------------------------\n",
       "                   Coef.  Std.Err.    z    P>|z|   [0.025  0.975]\n",
       "-----------------------------------------------------------------\n",
       "const             -2.1910   0.2764 -7.9269 0.0000 -2.7328 -1.6493\n",
       "ebit              -0.0000   0.0000 -0.2224 0.8240 -0.0000  0.0000\n",
       "profit            -0.0000   0.0000 -0.4907 0.6237 -0.0000  0.0000\n",
       "cash              -0.0000   0.0000 -1.8648 0.0622 -0.0000  0.0000\n",
       "wc_ratio          -0.1846   0.1416 -1.3030 0.1926 -0.4622  0.0931\n",
       "ocf_ratio         -0.1885   0.2918 -0.6460 0.5183 -0.7604  0.3834\n",
       "equity_ratio       0.2179   0.1773  1.2289 0.2191 -0.1296  0.5653\n",
       "debt_to_equity     0.0004   0.0002  1.6632 0.0963 -0.0001  0.0009\n",
       "=================================================================\n",
       "\n",
       "\"\"\""
      ]
     },
     "execution_count": 341,
     "metadata": {},
     "output_type": "execute_result"
    }
   ],
   "source": [
    "y = df_train[\"default\"]\n",
    "X = df_train[[\"ebit\", \"profit\", \"cash\",\"wc_ratio\",\"ocf_ratio\",\"equity_ratio\",\"debt_to_equity\"]]\n",
    "X = X.fillna(0)\n",
    "X = sm.add_constant(X)\n",
    "\n",
    "\n",
    "mdl2 = sm.Logit(y,X).fit()\n",
    "mdl2.summary2()"
   ]
  },
  {
   "cell_type": "code",
   "execution_count": 342,
   "metadata": {
    "ExecuteTime": {
     "end_time": "2020-12-29T18:15:28.306394Z",
     "start_time": "2020-12-29T18:15:28.252107Z"
    }
   },
   "outputs": [
    {
     "data": {
      "text/html": [
       "<div>\n",
       "<style scoped>\n",
       "    .dataframe tbody tr th:only-of-type {\n",
       "        vertical-align: middle;\n",
       "    }\n",
       "\n",
       "    .dataframe tbody tr th {\n",
       "        vertical-align: top;\n",
       "    }\n",
       "\n",
       "    .dataframe thead th {\n",
       "        text-align: right;\n",
       "    }\n",
       "</style>\n",
       "<table border=\"1\" class=\"dataframe\">\n",
       "  <thead>\n",
       "    <tr style=\"text-align: right;\">\n",
       "      <th></th>\n",
       "      <th>default</th>\n",
       "      <th>estimated PD in %</th>\n",
       "    </tr>\n",
       "  </thead>\n",
       "  <tbody>\n",
       "    <tr>\n",
       "      <th>566</th>\n",
       "      <td>1</td>\n",
       "      <td>87.60</td>\n",
       "    </tr>\n",
       "    <tr>\n",
       "      <th>285</th>\n",
       "      <td>0</td>\n",
       "      <td>36.29</td>\n",
       "    </tr>\n",
       "    <tr>\n",
       "      <th>648</th>\n",
       "      <td>0</td>\n",
       "      <td>21.92</td>\n",
       "    </tr>\n",
       "    <tr>\n",
       "      <th>139</th>\n",
       "      <td>1</td>\n",
       "      <td>20.78</td>\n",
       "    </tr>\n",
       "    <tr>\n",
       "      <th>80</th>\n",
       "      <td>0</td>\n",
       "      <td>16.77</td>\n",
       "    </tr>\n",
       "    <tr>\n",
       "      <th>...</th>\n",
       "      <td>...</td>\n",
       "      <td>...</td>\n",
       "    </tr>\n",
       "    <tr>\n",
       "      <th>432</th>\n",
       "      <td>0</td>\n",
       "      <td>0.00</td>\n",
       "    </tr>\n",
       "    <tr>\n",
       "      <th>410</th>\n",
       "      <td>0</td>\n",
       "      <td>0.00</td>\n",
       "    </tr>\n",
       "    <tr>\n",
       "      <th>394</th>\n",
       "      <td>0</td>\n",
       "      <td>0.00</td>\n",
       "    </tr>\n",
       "    <tr>\n",
       "      <th>376</th>\n",
       "      <td>0</td>\n",
       "      <td>0.00</td>\n",
       "    </tr>\n",
       "    <tr>\n",
       "      <th>335</th>\n",
       "      <td>0</td>\n",
       "      <td>0.00</td>\n",
       "    </tr>\n",
       "  </tbody>\n",
       "</table>\n",
       "<p>668 rows × 2 columns</p>\n",
       "</div>"
      ],
      "text/plain": [
       "     default  estimated PD in %\n",
       "566        1              87.60\n",
       "285        0              36.29\n",
       "648        0              21.92\n",
       "139        1              20.78\n",
       "80         0              16.77\n",
       "..       ...                ...\n",
       "432        0               0.00\n",
       "410        0               0.00\n",
       "394        0               0.00\n",
       "376        0               0.00\n",
       "335        0               0.00\n",
       "\n",
       "[668 rows x 2 columns]"
      ]
     },
     "execution_count": 342,
     "metadata": {},
     "output_type": "execute_result"
    }
   ],
   "source": [
    "# see how our model would have predicted the defaults \n",
    "s = pd.concat([df_train[\"default\"],round(mdl1.predict(X)*100,2)],axis=1,)\n",
    "s.columns = [\"default\",\"estimated PD in %\"]\n",
    "s.sort_values(by=\"estimated PD in %\",ascending=False)"
   ]
  },
  {
   "cell_type": "code",
   "execution_count": 343,
   "metadata": {
    "ExecuteTime": {
     "end_time": "2020-12-29T18:15:28.975970Z",
     "start_time": "2020-12-29T18:15:28.954248Z"
    }
   },
   "outputs": [
    {
     "data": {
      "text/html": [
       "<div>\n",
       "<style scoped>\n",
       "    .dataframe tbody tr th:only-of-type {\n",
       "        vertical-align: middle;\n",
       "    }\n",
       "\n",
       "    .dataframe tbody tr th {\n",
       "        vertical-align: top;\n",
       "    }\n",
       "\n",
       "    .dataframe thead th {\n",
       "        text-align: right;\n",
       "    }\n",
       "</style>\n",
       "<table border=\"1\" class=\"dataframe\">\n",
       "  <thead>\n",
       "    <tr style=\"text-align: right;\">\n",
       "      <th></th>\n",
       "      <th>default</th>\n",
       "      <th>estimated PD in %</th>\n",
       "    </tr>\n",
       "  </thead>\n",
       "  <tbody>\n",
       "    <tr>\n",
       "      <th>32</th>\n",
       "      <td>1</td>\n",
       "      <td>5.21</td>\n",
       "    </tr>\n",
       "    <tr>\n",
       "      <th>43</th>\n",
       "      <td>1</td>\n",
       "      <td>7.96</td>\n",
       "    </tr>\n",
       "    <tr>\n",
       "      <th>69</th>\n",
       "      <td>1</td>\n",
       "      <td>7.61</td>\n",
       "    </tr>\n",
       "    <tr>\n",
       "      <th>104</th>\n",
       "      <td>1</td>\n",
       "      <td>11.91</td>\n",
       "    </tr>\n",
       "    <tr>\n",
       "      <th>114</th>\n",
       "      <td>1</td>\n",
       "      <td>3.64</td>\n",
       "    </tr>\n",
       "    <tr>\n",
       "      <th>120</th>\n",
       "      <td>1</td>\n",
       "      <td>7.65</td>\n",
       "    </tr>\n",
       "    <tr>\n",
       "      <th>128</th>\n",
       "      <td>1</td>\n",
       "      <td>8.30</td>\n",
       "    </tr>\n",
       "    <tr>\n",
       "      <th>139</th>\n",
       "      <td>1</td>\n",
       "      <td>20.78</td>\n",
       "    </tr>\n",
       "    <tr>\n",
       "      <th>150</th>\n",
       "      <td>1</td>\n",
       "      <td>14.48</td>\n",
       "    </tr>\n",
       "    <tr>\n",
       "      <th>198</th>\n",
       "      <td>1</td>\n",
       "      <td>8.90</td>\n",
       "    </tr>\n",
       "    <tr>\n",
       "      <th>212</th>\n",
       "      <td>1</td>\n",
       "      <td>7.52</td>\n",
       "    </tr>\n",
       "    <tr>\n",
       "      <th>218</th>\n",
       "      <td>1</td>\n",
       "      <td>8.42</td>\n",
       "    </tr>\n",
       "    <tr>\n",
       "      <th>226</th>\n",
       "      <td>1</td>\n",
       "      <td>1.62</td>\n",
       "    </tr>\n",
       "    <tr>\n",
       "      <th>236</th>\n",
       "      <td>1</td>\n",
       "      <td>9.73</td>\n",
       "    </tr>\n",
       "    <tr>\n",
       "      <th>250</th>\n",
       "      <td>1</td>\n",
       "      <td>8.62</td>\n",
       "    </tr>\n",
       "    <tr>\n",
       "      <th>251</th>\n",
       "      <td>1</td>\n",
       "      <td>10.96</td>\n",
       "    </tr>\n",
       "    <tr>\n",
       "      <th>296</th>\n",
       "      <td>1</td>\n",
       "      <td>8.10</td>\n",
       "    </tr>\n",
       "    <tr>\n",
       "      <th>305</th>\n",
       "      <td>1</td>\n",
       "      <td>8.71</td>\n",
       "    </tr>\n",
       "    <tr>\n",
       "      <th>313</th>\n",
       "      <td>1</td>\n",
       "      <td>15.54</td>\n",
       "    </tr>\n",
       "    <tr>\n",
       "      <th>341</th>\n",
       "      <td>1</td>\n",
       "      <td>4.62</td>\n",
       "    </tr>\n",
       "    <tr>\n",
       "      <th>346</th>\n",
       "      <td>1</td>\n",
       "      <td>7.45</td>\n",
       "    </tr>\n",
       "    <tr>\n",
       "      <th>375</th>\n",
       "      <td>1</td>\n",
       "      <td>7.65</td>\n",
       "    </tr>\n",
       "    <tr>\n",
       "      <th>389</th>\n",
       "      <td>1</td>\n",
       "      <td>8.46</td>\n",
       "    </tr>\n",
       "    <tr>\n",
       "      <th>406</th>\n",
       "      <td>1</td>\n",
       "      <td>8.02</td>\n",
       "    </tr>\n",
       "    <tr>\n",
       "      <th>419</th>\n",
       "      <td>1</td>\n",
       "      <td>6.16</td>\n",
       "    </tr>\n",
       "    <tr>\n",
       "      <th>427</th>\n",
       "      <td>1</td>\n",
       "      <td>5.61</td>\n",
       "    </tr>\n",
       "    <tr>\n",
       "      <th>477</th>\n",
       "      <td>1</td>\n",
       "      <td>9.52</td>\n",
       "    </tr>\n",
       "    <tr>\n",
       "      <th>479</th>\n",
       "      <td>1</td>\n",
       "      <td>7.37</td>\n",
       "    </tr>\n",
       "    <tr>\n",
       "      <th>495</th>\n",
       "      <td>1</td>\n",
       "      <td>8.69</td>\n",
       "    </tr>\n",
       "    <tr>\n",
       "      <th>521</th>\n",
       "      <td>1</td>\n",
       "      <td>8.91</td>\n",
       "    </tr>\n",
       "    <tr>\n",
       "      <th>522</th>\n",
       "      <td>1</td>\n",
       "      <td>1.61</td>\n",
       "    </tr>\n",
       "    <tr>\n",
       "      <th>543</th>\n",
       "      <td>1</td>\n",
       "      <td>7.70</td>\n",
       "    </tr>\n",
       "    <tr>\n",
       "      <th>564</th>\n",
       "      <td>1</td>\n",
       "      <td>3.15</td>\n",
       "    </tr>\n",
       "    <tr>\n",
       "      <th>566</th>\n",
       "      <td>1</td>\n",
       "      <td>87.60</td>\n",
       "    </tr>\n",
       "    <tr>\n",
       "      <th>568</th>\n",
       "      <td>1</td>\n",
       "      <td>8.30</td>\n",
       "    </tr>\n",
       "    <tr>\n",
       "      <th>636</th>\n",
       "      <td>1</td>\n",
       "      <td>4.41</td>\n",
       "    </tr>\n",
       "    <tr>\n",
       "      <th>649</th>\n",
       "      <td>1</td>\n",
       "      <td>7.68</td>\n",
       "    </tr>\n",
       "    <tr>\n",
       "      <th>662</th>\n",
       "      <td>1</td>\n",
       "      <td>8.16</td>\n",
       "    </tr>\n",
       "  </tbody>\n",
       "</table>\n",
       "</div>"
      ],
      "text/plain": [
       "     default  estimated PD in %\n",
       "32         1               5.21\n",
       "43         1               7.96\n",
       "69         1               7.61\n",
       "104        1              11.91\n",
       "114        1               3.64\n",
       "120        1               7.65\n",
       "128        1               8.30\n",
       "139        1              20.78\n",
       "150        1              14.48\n",
       "198        1               8.90\n",
       "212        1               7.52\n",
       "218        1               8.42\n",
       "226        1               1.62\n",
       "236        1               9.73\n",
       "250        1               8.62\n",
       "251        1              10.96\n",
       "296        1               8.10\n",
       "305        1               8.71\n",
       "313        1              15.54\n",
       "341        1               4.62\n",
       "346        1               7.45\n",
       "375        1               7.65\n",
       "389        1               8.46\n",
       "406        1               8.02\n",
       "419        1               6.16\n",
       "427        1               5.61\n",
       "477        1               9.52\n",
       "479        1               7.37\n",
       "495        1               8.69\n",
       "521        1               8.91\n",
       "522        1               1.61\n",
       "543        1               7.70\n",
       "564        1               3.15\n",
       "566        1              87.60\n",
       "568        1               8.30\n",
       "636        1               4.41\n",
       "649        1               7.68\n",
       "662        1               8.16"
      ]
     },
     "execution_count": 343,
     "metadata": {},
     "output_type": "execute_result"
    }
   ],
   "source": [
    "s[s[\"default\"] == 1]"
   ]
  },
  {
   "cell_type": "code",
   "execution_count": null,
   "metadata": {
    "ExecuteTime": {
     "end_time": "2020-12-30T09:32:31.903028Z",
     "start_time": "2020-12-30T09:32:31.861946Z"
    }
   },
   "outputs": [],
   "source": []
  },
  {
   "cell_type": "markdown",
   "metadata": {},
   "source": [
    "# PD Model preparation"
   ]
  },
  {
   "cell_type": "markdown",
   "metadata": {},
   "source": [
    "## Dependent variabel: Good/Bad (default) definition"
   ]
  },
  {
   "cell_type": "markdown",
   "metadata": {},
   "source": [
    "# PD model estimation"
   ]
  },
  {
   "cell_type": "markdown",
   "metadata": {},
   "source": [
    "# PD model validation"
   ]
  },
  {
   "cell_type": "markdown",
   "metadata": {},
   "source": []
  },
  {
   "cell_type": "markdown",
   "metadata": {},
   "source": [
    "## Out of sample validation (test)\n",
    "### Evaluation of model performance: accuracy and area under the curve (AUC)\n",
    "### Evalution of model performance: Gini"
   ]
  },
  {
   "cell_type": "markdown",
   "metadata": {},
   "source": [
    "Test fabio"
   ]
  },
  {
   "cell_type": "code",
   "execution_count": null,
   "metadata": {},
   "outputs": [],
   "source": []
  },
  {
   "cell_type": "code",
   "execution_count": null,
   "metadata": {},
   "outputs": [],
   "source": []
  }
 ],
 "metadata": {
  "hide_input": false,
  "kernelspec": {
   "display_name": "Python 3",
   "language": "python",
   "name": "python3"
  },
  "language_info": {
   "codemirror_mode": {
    "name": "ipython",
    "version": 3
   },
   "file_extension": ".py",
   "mimetype": "text/x-python",
   "name": "python",
   "nbconvert_exporter": "python",
   "pygments_lexer": "ipython3",
   "version": "3.8.3"
  },
  "latex_envs": {
   "LaTeX_envs_menu_present": true,
   "autoclose": false,
   "autocomplete": true,
   "bibliofile": "biblio.bib",
   "cite_by": "apalike",
   "current_citInitial": 1,
   "eqLabelWithNumbers": true,
   "eqNumInitial": 1,
   "hotkeys": {
    "equation": "Ctrl-E",
    "itemize": "Ctrl-I"
   },
   "labels_anchors": false,
   "latex_user_defs": false,
   "report_style_numbering": false,
   "user_envs_cfg": false
  },
  "toc": {
   "base_numbering": 1,
   "nav_menu": {
    "height": "259px",
    "width": "211px"
   },
   "number_sections": true,
   "sideBar": true,
   "skip_h1_title": false,
   "title_cell": "Table of Contents",
   "title_sidebar": "Contents",
   "toc_cell": false,
   "toc_position": {},
   "toc_section_display": true,
   "toc_window_display": true
  },
  "varInspector": {
   "cols": {
    "lenName": 16,
    "lenType": 16,
    "lenVar": 40
   },
   "kernels_config": {
    "python": {
     "delete_cmd_postfix": "",
     "delete_cmd_prefix": "del ",
     "library": "var_list.py",
     "varRefreshCmd": "print(var_dic_list())"
    },
    "r": {
     "delete_cmd_postfix": ") ",
     "delete_cmd_prefix": "rm(",
     "library": "var_list.r",
     "varRefreshCmd": "cat(var_dic_list()) "
    }
   },
   "position": {
    "height": "161.85px",
    "left": "1142px",
    "right": "20px",
    "top": "59px",
    "width": "333px"
   },
   "types_to_exclude": [
    "module",
    "function",
    "builtin_function_or_method",
    "instance",
    "_Feature"
   ],
   "window_display": true
  }
 },
 "nbformat": 4,
 "nbformat_minor": 2
}
