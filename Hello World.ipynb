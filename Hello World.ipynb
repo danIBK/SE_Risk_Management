{
 "cells": [
  {
   "cell_type": "code",
   "execution_count": 85,
   "metadata": {
    "ExecuteTime": {
     "end_time": "2021-01-02T14:17:35.267928Z",
     "start_time": "2021-01-02T14:17:29.555093Z"
    }
   },
   "outputs": [
    {
     "name": "stdout",
     "output_type": "stream",
     "text": [
      "Bestehendes Git-Repository in /Users/mandoholzknecht/SE_Risk_Management/.git/ neuinitialisiert\n",
      "[main e3a32ad] 5 Visualizing Differenes\n",
      " 2 files changed, 1958 insertions(+), 1885 deletions(-)\n",
      "Objekte aufzählen: 9, Fertig.\n",
      "Zähle Objekte: 100% (8/8), Fertig.\n",
      "Delta-Kompression verwendet bis zu 4 Threads.\n",
      "Komprimiere Objekte: 100% (5/5), Fertig.\n",
      "Schreibe Objekte: 100% (5/5), 239.11 KiB | 4.43 MiB/s, Fertig.\n",
      "Gesamt 5 (Delta 3), Wiederverwendet 0 (Delta 0), Pack wiederverwendet 0\n",
      "remote: Resolving deltas: 100% (3/3), completed with 2 local objects.\u001b[K\n",
      "To https://github.com/danIBK/SE_Risk_Management.git\n",
      "   28b35f9..e3a32ad  main -> main\n"
     ]
    }
   ],
   "source": [
    "# Setting\n",
    "## The path & packages\n",
    "'upload'\n",
    "#### Draft um Gitupload\n",
    "!git init \n",
    "!git add . \n",
    "!git commit -m \"5 Visualizing Differenes\"\n",
    "!git push"
   ]
  },
  {
   "cell_type": "code",
   "execution_count": 2,
   "metadata": {
    "ExecuteTime": {
     "end_time": "2021-01-02T14:08:13.315362Z",
     "start_time": "2021-01-02T14:08:08.672780Z"
    }
   },
   "outputs": [],
   "source": [
    "#Comment out the other paths and comment in your path\n",
    "#path = r'C:\\Users\\heuse\\Desktop\\SE_Risk_Management-1/' #Daniel Path\n",
    "path = '/Users/mandoholzknecht/SE_Risk_Management/' # Path Mando\n",
    "#path = 'C:/Users/Fabio/OneDrive/Dokumente/Uni Innsbruck/WS20/Applied risk mgmt/SE/Heusli/SE_Risk_Management/' # Path Fabio\n",
    "\n",
    "import warnings\n",
    "warnings.filterwarnings('ignore')\n",
    "\n",
    "import pandas as pd\n",
    "import numpy as np\n",
    "import matplotlib.pyplot as plt\n",
    "\n",
    "\n",
    "import seaborn as sns\n",
    "import statsmodels.api as sm\n",
    "import statsmodels.formula.api as smf\n",
    "import statsmodels.stats.anova as anova\n",
    "import scipy as sci\n",
    "\n",
    "from sklearn import metrics\n",
    "\n",
    "from sklearn.model_selection import train_test_split, RepeatedStratifiedKFold, cross_val_score\n",
    "from sklearn.linear_model import LogisticRegression\n",
    "from sklearn.metrics import roc_curve, roc_auc_score, confusion_matrix, precision_recall_curve, auc\n",
    "from sklearn.feature_selection import f_classif\n",
    "from sklearn.pipeline import Pipeline\n",
    "from sklearn.base import BaseEstimator, TransformerMixin\n",
    "from scipy.stats import chi2_contingency\n",
    "from sklearn.linear_model import LinearRegression\n",
    "from sklearn.metrics import mean_squared_error\n",
    "\n",
    "import datetime\n"
   ]
  },
  {
   "cell_type": "markdown",
   "metadata": {},
   "source": [
    "# Loading the data\n",
    "\n",
    "Loading the Training dataset + Test dataset"
   ]
  },
  {
   "cell_type": "code",
   "execution_count": 3,
   "metadata": {
    "ExecuteTime": {
     "end_time": "2021-01-02T14:08:13.385636Z",
     "start_time": "2021-01-02T14:08:13.350589Z"
    }
   },
   "outputs": [],
   "source": [
    "# use the realtive path finding\n",
    "df_train = pd.read_csv(path + 'Training_Dataset.csv', sep=';', index_col=None)\n",
    "df_test = pd.read_csv(path + 'Test_Dataset.csv', sep=';', index_col=0)\n"
   ]
  },
  {
   "cell_type": "markdown",
   "metadata": {},
   "source": [
    "checking the data"
   ]
  },
  {
   "cell_type": "code",
   "execution_count": 4,
   "metadata": {
    "ExecuteTime": {
     "end_time": "2021-01-02T14:08:13.696237Z",
     "start_time": "2021-01-02T14:08:13.614318Z"
    }
   },
   "outputs": [
    {
     "data": {
      "text/html": [
       "<div>\n",
       "<style scoped>\n",
       "    .dataframe tbody tr th:only-of-type {\n",
       "        vertical-align: middle;\n",
       "    }\n",
       "\n",
       "    .dataframe tbody tr th {\n",
       "        vertical-align: top;\n",
       "    }\n",
       "\n",
       "    .dataframe thead th {\n",
       "        text-align: right;\n",
       "    }\n",
       "</style>\n",
       "<table border=\"1\" class=\"dataframe\">\n",
       "  <thead>\n",
       "    <tr style=\"text-align: right;\">\n",
       "      <th></th>\n",
       "      <th>id</th>\n",
       "      <th>default</th>\n",
       "      <th>legal_form</th>\n",
       "      <th>zip_code</th>\n",
       "      <th>sector</th>\n",
       "      <th>year_inc</th>\n",
       "      <th>count_emp</th>\n",
       "      <th>type_pl</th>\n",
       "      <th>sales</th>\n",
       "      <th>gross_performance</th>\n",
       "      <th>...</th>\n",
       "      <th>bonds_payables_lt</th>\n",
       "      <th>total_equity</th>\n",
       "      <th>current_assets</th>\n",
       "      <th>monetary_current_assets</th>\n",
       "      <th>cash</th>\n",
       "      <th>trade_receivables_st</th>\n",
       "      <th>trade_receivables_lt</th>\n",
       "      <th>cf_operating</th>\n",
       "      <th>cf_investment</th>\n",
       "      <th>cf_financing</th>\n",
       "    </tr>\n",
       "  </thead>\n",
       "  <tbody>\n",
       "    <tr>\n",
       "      <th>0</th>\n",
       "      <td>C_405</td>\n",
       "      <td>0</td>\n",
       "      <td>GmbH &amp; Co. KG</td>\n",
       "      <td>12359</td>\n",
       "      <td>46730</td>\n",
       "      <td>1900</td>\n",
       "      <td>NaN</td>\n",
       "      <td>GKV</td>\n",
       "      <td>1.068738e+08</td>\n",
       "      <td>1.068738e+08</td>\n",
       "      <td>...</td>\n",
       "      <td>NaN</td>\n",
       "      <td>3.224471e+07</td>\n",
       "      <td>37831990.81</td>\n",
       "      <td>17111465.66</td>\n",
       "      <td>10297047.50</td>\n",
       "      <td>NaN</td>\n",
       "      <td>NaN</td>\n",
       "      <td>6.986094e+06</td>\n",
       "      <td>-1.112342e+06</td>\n",
       "      <td>-7520392.09</td>\n",
       "    </tr>\n",
       "    <tr>\n",
       "      <th>1</th>\n",
       "      <td>C_292</td>\n",
       "      <td>0</td>\n",
       "      <td>GmbH &amp; Co. KG</td>\n",
       "      <td>10719</td>\n",
       "      <td>70101</td>\n",
       "      <td>1976</td>\n",
       "      <td>NaN</td>\n",
       "      <td>GKV</td>\n",
       "      <td>1.393869e+06</td>\n",
       "      <td>1.407889e+06</td>\n",
       "      <td>...</td>\n",
       "      <td>NaN</td>\n",
       "      <td>4.508026e+06</td>\n",
       "      <td>4669178.63</td>\n",
       "      <td>927837.74</td>\n",
       "      <td>926383.75</td>\n",
       "      <td>NaN</td>\n",
       "      <td>NaN</td>\n",
       "      <td>-4.343980e+06</td>\n",
       "      <td>1.174427e+06</td>\n",
       "      <td>1128108.08</td>\n",
       "    </tr>\n",
       "    <tr>\n",
       "      <th>2</th>\n",
       "      <td>C_746</td>\n",
       "      <td>0</td>\n",
       "      <td>GmbH</td>\n",
       "      <td>13353</td>\n",
       "      <td>87100</td>\n",
       "      <td>1962</td>\n",
       "      <td>323.0</td>\n",
       "      <td>GKV</td>\n",
       "      <td>3.864034e+06</td>\n",
       "      <td>7.597353e+05</td>\n",
       "      <td>...</td>\n",
       "      <td>NaN</td>\n",
       "      <td>5.164048e+04</td>\n",
       "      <td>28101189.79</td>\n",
       "      <td>11116958.92</td>\n",
       "      <td>9146283.79</td>\n",
       "      <td>617816.28</td>\n",
       "      <td>NaN</td>\n",
       "      <td>9.548544e+06</td>\n",
       "      <td>-7.536444e+06</td>\n",
       "      <td>-22026.07</td>\n",
       "    </tr>\n",
       "    <tr>\n",
       "      <th>3</th>\n",
       "      <td>C_838</td>\n",
       "      <td>0</td>\n",
       "      <td>AG</td>\n",
       "      <td>12529</td>\n",
       "      <td>68320</td>\n",
       "      <td>1972</td>\n",
       "      <td>1.0</td>\n",
       "      <td>GKV</td>\n",
       "      <td>4.384786e+06</td>\n",
       "      <td>4.405058e+06</td>\n",
       "      <td>...</td>\n",
       "      <td>NaN</td>\n",
       "      <td>1.182011e+07</td>\n",
       "      <td>8238473.86</td>\n",
       "      <td>7519183.22</td>\n",
       "      <td>6890565.23</td>\n",
       "      <td>319848.26</td>\n",
       "      <td>NaN</td>\n",
       "      <td>1.715799e+06</td>\n",
       "      <td>-6.561222e+05</td>\n",
       "      <td>-169655.66</td>\n",
       "    </tr>\n",
       "    <tr>\n",
       "      <th>4</th>\n",
       "      <td>C_495</td>\n",
       "      <td>0</td>\n",
       "      <td>Einzelfirma</td>\n",
       "      <td>12165</td>\n",
       "      <td>47730</td>\n",
       "      <td>1908</td>\n",
       "      <td>NaN</td>\n",
       "      <td>GKV</td>\n",
       "      <td>1.104478e+08</td>\n",
       "      <td>1.104478e+08</td>\n",
       "      <td>...</td>\n",
       "      <td>NaN</td>\n",
       "      <td>4.547445e+08</td>\n",
       "      <td>35465651.58</td>\n",
       "      <td>8545183.94</td>\n",
       "      <td>5036615.09</td>\n",
       "      <td>516646.73</td>\n",
       "      <td>NaN</td>\n",
       "      <td>1.301809e+08</td>\n",
       "      <td>-1.419776e+08</td>\n",
       "      <td>12567030.80</td>\n",
       "    </tr>\n",
       "  </tbody>\n",
       "</table>\n",
       "<p>5 rows × 40 columns</p>\n",
       "</div>"
      ],
      "text/plain": [
       "      id  default     legal_form  zip_code  sector  year_inc  count_emp  \\\n",
       "0  C_405        0  GmbH & Co. KG     12359   46730      1900        NaN   \n",
       "1  C_292        0  GmbH & Co. KG     10719   70101      1976        NaN   \n",
       "2  C_746        0           GmbH     13353   87100      1962      323.0   \n",
       "3  C_838        0             AG     12529   68320      1972        1.0   \n",
       "4  C_495        0    Einzelfirma     12165   47730      1908        NaN   \n",
       "\n",
       "  type_pl         sales  gross_performance  ...  bonds_payables_lt  \\\n",
       "0     GKV  1.068738e+08       1.068738e+08  ...                NaN   \n",
       "1     GKV  1.393869e+06       1.407889e+06  ...                NaN   \n",
       "2     GKV  3.864034e+06       7.597353e+05  ...                NaN   \n",
       "3     GKV  4.384786e+06       4.405058e+06  ...                NaN   \n",
       "4     GKV  1.104478e+08       1.104478e+08  ...                NaN   \n",
       "\n",
       "   total_equity  current_assets  monetary_current_assets         cash  \\\n",
       "0  3.224471e+07     37831990.81              17111465.66  10297047.50   \n",
       "1  4.508026e+06      4669178.63                927837.74    926383.75   \n",
       "2  5.164048e+04     28101189.79              11116958.92   9146283.79   \n",
       "3  1.182011e+07      8238473.86               7519183.22   6890565.23   \n",
       "4  4.547445e+08     35465651.58               8545183.94   5036615.09   \n",
       "\n",
       "   trade_receivables_st  trade_receivables_lt  cf_operating  cf_investment  \\\n",
       "0                   NaN                   NaN  6.986094e+06  -1.112342e+06   \n",
       "1                   NaN                   NaN -4.343980e+06   1.174427e+06   \n",
       "2             617816.28                   NaN  9.548544e+06  -7.536444e+06   \n",
       "3             319848.26                   NaN  1.715799e+06  -6.561222e+05   \n",
       "4             516646.73                   NaN  1.301809e+08  -1.419776e+08   \n",
       "\n",
       "   cf_financing  \n",
       "0   -7520392.09  \n",
       "1    1128108.08  \n",
       "2     -22026.07  \n",
       "3    -169655.66  \n",
       "4   12567030.80  \n",
       "\n",
       "[5 rows x 40 columns]"
      ]
     },
     "execution_count": 4,
     "metadata": {},
     "output_type": "execute_result"
    }
   ],
   "source": [
    "df_train.head()"
   ]
  },
  {
   "cell_type": "code",
   "execution_count": 5,
   "metadata": {
    "ExecuteTime": {
     "end_time": "2021-01-02T14:08:13.941857Z",
     "start_time": "2021-01-02T14:08:13.895384Z"
    }
   },
   "outputs": [
    {
     "data": {
      "text/html": [
       "<div>\n",
       "<style scoped>\n",
       "    .dataframe tbody tr th:only-of-type {\n",
       "        vertical-align: middle;\n",
       "    }\n",
       "\n",
       "    .dataframe tbody tr th {\n",
       "        vertical-align: top;\n",
       "    }\n",
       "\n",
       "    .dataframe thead th {\n",
       "        text-align: right;\n",
       "    }\n",
       "</style>\n",
       "<table border=\"1\" class=\"dataframe\">\n",
       "  <thead>\n",
       "    <tr style=\"text-align: right;\">\n",
       "      <th></th>\n",
       "      <th>legal_form</th>\n",
       "      <th>zip_code</th>\n",
       "      <th>sector</th>\n",
       "      <th>year_inc</th>\n",
       "      <th>count_emp</th>\n",
       "      <th>type_pl</th>\n",
       "      <th>sales</th>\n",
       "      <th>gross_performance</th>\n",
       "      <th>gross_profit</th>\n",
       "      <th>earn_from_op</th>\n",
       "      <th>...</th>\n",
       "      <th>bonds_payables_lt</th>\n",
       "      <th>total_equity</th>\n",
       "      <th>current_assets</th>\n",
       "      <th>monetary_current_assets</th>\n",
       "      <th>cash</th>\n",
       "      <th>trade_receivables_st</th>\n",
       "      <th>trade_receivables_lt</th>\n",
       "      <th>cf_operating</th>\n",
       "      <th>cf_investment</th>\n",
       "      <th>cf_financing</th>\n",
       "    </tr>\n",
       "    <tr>\n",
       "      <th>id</th>\n",
       "      <th></th>\n",
       "      <th></th>\n",
       "      <th></th>\n",
       "      <th></th>\n",
       "      <th></th>\n",
       "      <th></th>\n",
       "      <th></th>\n",
       "      <th></th>\n",
       "      <th></th>\n",
       "      <th></th>\n",
       "      <th></th>\n",
       "      <th></th>\n",
       "      <th></th>\n",
       "      <th></th>\n",
       "      <th></th>\n",
       "      <th></th>\n",
       "      <th></th>\n",
       "      <th></th>\n",
       "      <th></th>\n",
       "      <th></th>\n",
       "      <th></th>\n",
       "    </tr>\n",
       "  </thead>\n",
       "  <tbody>\n",
       "    <tr>\n",
       "      <th>C_411</th>\n",
       "      <td>GmbH</td>\n",
       "      <td>14089</td>\n",
       "      <td>69204</td>\n",
       "      <td>1986</td>\n",
       "      <td>NaN</td>\n",
       "      <td>GKV</td>\n",
       "      <td>728946.68</td>\n",
       "      <td>728946.68</td>\n",
       "      <td>209721.36</td>\n",
       "      <td>45390.50</td>\n",
       "      <td>...</td>\n",
       "      <td>NaN</td>\n",
       "      <td>NaN</td>\n",
       "      <td>64195.98</td>\n",
       "      <td>28659.19</td>\n",
       "      <td>5598.17</td>\n",
       "      <td>NaN</td>\n",
       "      <td>NaN</td>\n",
       "      <td>52632.64</td>\n",
       "      <td>-534.87</td>\n",
       "      <td>-5.457891e+04</td>\n",
       "    </tr>\n",
       "    <tr>\n",
       "      <th>C_896</th>\n",
       "      <td>GmbH</td>\n",
       "      <td>13127</td>\n",
       "      <td>87100</td>\n",
       "      <td>1992</td>\n",
       "      <td>181.0</td>\n",
       "      <td>GKV</td>\n",
       "      <td>708847.33</td>\n",
       "      <td>708847.33</td>\n",
       "      <td>738495.17</td>\n",
       "      <td>13017.29</td>\n",
       "      <td>...</td>\n",
       "      <td>NaN</td>\n",
       "      <td>442875.57</td>\n",
       "      <td>479144.25</td>\n",
       "      <td>452033.96</td>\n",
       "      <td>442835.62</td>\n",
       "      <td>NaN</td>\n",
       "      <td>NaN</td>\n",
       "      <td>-10575.21</td>\n",
       "      <td>-1295.42</td>\n",
       "      <td>-5.820000e-11</td>\n",
       "    </tr>\n",
       "    <tr>\n",
       "      <th>C_252</th>\n",
       "      <td>GmbH</td>\n",
       "      <td>14059</td>\n",
       "      <td>86101</td>\n",
       "      <td>1993</td>\n",
       "      <td>505.0</td>\n",
       "      <td>GKV</td>\n",
       "      <td>26025323.61</td>\n",
       "      <td>26015542.03</td>\n",
       "      <td>22022993.85</td>\n",
       "      <td>2086104.36</td>\n",
       "      <td>...</td>\n",
       "      <td>NaN</td>\n",
       "      <td>13733666.50</td>\n",
       "      <td>14504753.93</td>\n",
       "      <td>3441491.02</td>\n",
       "      <td>322075.13</td>\n",
       "      <td>3034766.29</td>\n",
       "      <td>NaN</td>\n",
       "      <td>2862349.65</td>\n",
       "      <td>-667342.46</td>\n",
       "      <td>-2.091456e+06</td>\n",
       "    </tr>\n",
       "    <tr>\n",
       "      <th>C_165</th>\n",
       "      <td>GmbH</td>\n",
       "      <td>10437</td>\n",
       "      <td>87100</td>\n",
       "      <td>1995</td>\n",
       "      <td>82.0</td>\n",
       "      <td>GKV</td>\n",
       "      <td>1105332.48</td>\n",
       "      <td>1105332.48</td>\n",
       "      <td>717405.05</td>\n",
       "      <td>88074.80</td>\n",
       "      <td>...</td>\n",
       "      <td>NaN</td>\n",
       "      <td>381990.95</td>\n",
       "      <td>371506.04</td>\n",
       "      <td>343269.12</td>\n",
       "      <td>256395.19</td>\n",
       "      <td>NaN</td>\n",
       "      <td>NaN</td>\n",
       "      <td>156251.71</td>\n",
       "      <td>-57344.11</td>\n",
       "      <td>-1.160000e-10</td>\n",
       "    </tr>\n",
       "    <tr>\n",
       "      <th>C_856</th>\n",
       "      <td>GmbH</td>\n",
       "      <td>14943</td>\n",
       "      <td>96090</td>\n",
       "      <td>2002</td>\n",
       "      <td>22.0</td>\n",
       "      <td>GKV</td>\n",
       "      <td>51995424.22</td>\n",
       "      <td>51979901.95</td>\n",
       "      <td>46420844.34</td>\n",
       "      <td>5956777.13</td>\n",
       "      <td>...</td>\n",
       "      <td>NaN</td>\n",
       "      <td>6828494.53</td>\n",
       "      <td>18909648.90</td>\n",
       "      <td>15619860.60</td>\n",
       "      <td>6720068.91</td>\n",
       "      <td>8847966.22</td>\n",
       "      <td>NaN</td>\n",
       "      <td>5696079.15</td>\n",
       "      <td>-1418555.39</td>\n",
       "      <td>-4.163971e+06</td>\n",
       "    </tr>\n",
       "    <tr>\n",
       "      <th>C_415</th>\n",
       "      <td>GmbH</td>\n",
       "      <td>10969</td>\n",
       "      <td>68321</td>\n",
       "      <td>2006</td>\n",
       "      <td>NaN</td>\n",
       "      <td>GKV</td>\n",
       "      <td>13597456.35</td>\n",
       "      <td>13597456.35</td>\n",
       "      <td>7667501.25</td>\n",
       "      <td>-109859.68</td>\n",
       "      <td>...</td>\n",
       "      <td>NaN</td>\n",
       "      <td>0.00</td>\n",
       "      <td>1273354.65</td>\n",
       "      <td>1277275.04</td>\n",
       "      <td>5848.43</td>\n",
       "      <td>136628.62</td>\n",
       "      <td>NaN</td>\n",
       "      <td>83600.84</td>\n",
       "      <td>1560281.10</td>\n",
       "      <td>-1.643803e+06</td>\n",
       "    </tr>\n",
       "    <tr>\n",
       "      <th>C_520</th>\n",
       "      <td>GmbH</td>\n",
       "      <td>10625</td>\n",
       "      <td>68100</td>\n",
       "      <td>2010</td>\n",
       "      <td>NaN</td>\n",
       "      <td>GKV</td>\n",
       "      <td>10365544.05</td>\n",
       "      <td>10365544.05</td>\n",
       "      <td>7931366.20</td>\n",
       "      <td>565338.94</td>\n",
       "      <td>...</td>\n",
       "      <td>NaN</td>\n",
       "      <td>8823433.07</td>\n",
       "      <td>7715921.82</td>\n",
       "      <td>7749440.79</td>\n",
       "      <td>6802934.01</td>\n",
       "      <td>855343.08</td>\n",
       "      <td>NaN</td>\n",
       "      <td>1051697.31</td>\n",
       "      <td>-366425.37</td>\n",
       "      <td>-5.398260e+03</td>\n",
       "    </tr>\n",
       "    <tr>\n",
       "      <th>C_127</th>\n",
       "      <td>GmbH</td>\n",
       "      <td>29308</td>\n",
       "      <td>87100</td>\n",
       "      <td>2007</td>\n",
       "      <td>NaN</td>\n",
       "      <td>GKV</td>\n",
       "      <td>10129943.12</td>\n",
       "      <td>10486827.90</td>\n",
       "      <td>5959584.15</td>\n",
       "      <td>435328.26</td>\n",
       "      <td>...</td>\n",
       "      <td>NaN</td>\n",
       "      <td>1990015.77</td>\n",
       "      <td>3451499.64</td>\n",
       "      <td>1352994.01</td>\n",
       "      <td>1349.09</td>\n",
       "      <td>986648.60</td>\n",
       "      <td>NaN</td>\n",
       "      <td>-56012.29</td>\n",
       "      <td>-533257.11</td>\n",
       "      <td>4.586848e+05</td>\n",
       "    </tr>\n",
       "  </tbody>\n",
       "</table>\n",
       "<p>8 rows × 38 columns</p>\n",
       "</div>"
      ],
      "text/plain": [
       "      legal_form  zip_code  sector  year_inc  count_emp type_pl        sales  \\\n",
       "id                                                                             \n",
       "C_411       GmbH     14089   69204      1986        NaN     GKV    728946.68   \n",
       "C_896       GmbH     13127   87100      1992      181.0     GKV    708847.33   \n",
       "C_252       GmbH     14059   86101      1993      505.0     GKV  26025323.61   \n",
       "C_165       GmbH     10437   87100      1995       82.0     GKV   1105332.48   \n",
       "C_856       GmbH     14943   96090      2002       22.0     GKV  51995424.22   \n",
       "C_415       GmbH     10969   68321      2006        NaN     GKV  13597456.35   \n",
       "C_520       GmbH     10625   68100      2010        NaN     GKV  10365544.05   \n",
       "C_127       GmbH     29308   87100      2007        NaN     GKV  10129943.12   \n",
       "\n",
       "       gross_performance  gross_profit  earn_from_op  ...  bonds_payables_lt  \\\n",
       "id                                                    ...                      \n",
       "C_411          728946.68     209721.36      45390.50  ...                NaN   \n",
       "C_896          708847.33     738495.17      13017.29  ...                NaN   \n",
       "C_252        26015542.03   22022993.85    2086104.36  ...                NaN   \n",
       "C_165         1105332.48     717405.05      88074.80  ...                NaN   \n",
       "C_856        51979901.95   46420844.34    5956777.13  ...                NaN   \n",
       "C_415        13597456.35    7667501.25    -109859.68  ...                NaN   \n",
       "C_520        10365544.05    7931366.20     565338.94  ...                NaN   \n",
       "C_127        10486827.90    5959584.15     435328.26  ...                NaN   \n",
       "\n",
       "       total_equity  current_assets  monetary_current_assets        cash  \\\n",
       "id                                                                         \n",
       "C_411           NaN        64195.98                 28659.19     5598.17   \n",
       "C_896     442875.57       479144.25                452033.96   442835.62   \n",
       "C_252   13733666.50     14504753.93               3441491.02   322075.13   \n",
       "C_165     381990.95       371506.04                343269.12   256395.19   \n",
       "C_856    6828494.53     18909648.90              15619860.60  6720068.91   \n",
       "C_415          0.00      1273354.65               1277275.04     5848.43   \n",
       "C_520    8823433.07      7715921.82               7749440.79  6802934.01   \n",
       "C_127    1990015.77      3451499.64               1352994.01     1349.09   \n",
       "\n",
       "       trade_receivables_st  trade_receivables_lt  cf_operating  \\\n",
       "id                                                                \n",
       "C_411                   NaN                   NaN      52632.64   \n",
       "C_896                   NaN                   NaN     -10575.21   \n",
       "C_252            3034766.29                   NaN    2862349.65   \n",
       "C_165                   NaN                   NaN     156251.71   \n",
       "C_856            8847966.22                   NaN    5696079.15   \n",
       "C_415             136628.62                   NaN      83600.84   \n",
       "C_520             855343.08                   NaN    1051697.31   \n",
       "C_127             986648.60                   NaN     -56012.29   \n",
       "\n",
       "       cf_investment  cf_financing  \n",
       "id                                  \n",
       "C_411        -534.87 -5.457891e+04  \n",
       "C_896       -1295.42 -5.820000e-11  \n",
       "C_252     -667342.46 -2.091456e+06  \n",
       "C_165      -57344.11 -1.160000e-10  \n",
       "C_856    -1418555.39 -4.163971e+06  \n",
       "C_415     1560281.10 -1.643803e+06  \n",
       "C_520     -366425.37 -5.398260e+03  \n",
       "C_127     -533257.11  4.586848e+05  \n",
       "\n",
       "[8 rows x 38 columns]"
      ]
     },
     "execution_count": 5,
     "metadata": {},
     "output_type": "execute_result"
    }
   ],
   "source": [
    "df_test.head(8)"
   ]
  },
  {
   "cell_type": "markdown",
   "metadata": {},
   "source": [
    "# Variables\n",
    "\n",
    "## Renaming of some colums\n",
    "We decided to not rename any varialbes\n",
    "\n",
    "## Further variable coding\n",
    "Transforming variables"
   ]
  },
  {
   "cell_type": "markdown",
   "metadata": {},
   "source": [
    "### Transforming year_inc to age columns\n",
    "Transforming the year of incorporation variable to two age variables: one numerical (age_num) one and one categorical one (age_cat). "
   ]
  },
  {
   "cell_type": "code",
   "execution_count": 6,
   "metadata": {
    "ExecuteTime": {
     "end_time": "2021-01-02T14:08:14.853452Z",
     "start_time": "2021-01-02T14:08:14.765390Z"
    }
   },
   "outputs": [
    {
     "data": {
      "text/html": [
       "<div>\n",
       "<style scoped>\n",
       "    .dataframe tbody tr th:only-of-type {\n",
       "        vertical-align: middle;\n",
       "    }\n",
       "\n",
       "    .dataframe tbody tr th {\n",
       "        vertical-align: top;\n",
       "    }\n",
       "\n",
       "    .dataframe thead th {\n",
       "        text-align: right;\n",
       "    }\n",
       "</style>\n",
       "<table border=\"1\" class=\"dataframe\">\n",
       "  <thead>\n",
       "    <tr style=\"text-align: right;\">\n",
       "      <th></th>\n",
       "      <th>id</th>\n",
       "      <th>default</th>\n",
       "      <th>legal_form</th>\n",
       "      <th>zip_code</th>\n",
       "      <th>sector</th>\n",
       "      <th>year_inc</th>\n",
       "      <th>count_emp</th>\n",
       "      <th>type_pl</th>\n",
       "      <th>sales</th>\n",
       "      <th>gross_performance</th>\n",
       "      <th>...</th>\n",
       "      <th>total_equity</th>\n",
       "      <th>current_assets</th>\n",
       "      <th>monetary_current_assets</th>\n",
       "      <th>cash</th>\n",
       "      <th>trade_receivables_st</th>\n",
       "      <th>trade_receivables_lt</th>\n",
       "      <th>cf_operating</th>\n",
       "      <th>cf_investment</th>\n",
       "      <th>cf_financing</th>\n",
       "      <th>age_num</th>\n",
       "    </tr>\n",
       "  </thead>\n",
       "  <tbody>\n",
       "    <tr>\n",
       "      <th>572</th>\n",
       "      <td>C_482</td>\n",
       "      <td>0</td>\n",
       "      <td>Freiberufler</td>\n",
       "      <td>61169</td>\n",
       "      <td>49310</td>\n",
       "      <td>0</td>\n",
       "      <td>NaN</td>\n",
       "      <td>GKV</td>\n",
       "      <td>635769.95</td>\n",
       "      <td>635769.95</td>\n",
       "      <td>...</td>\n",
       "      <td>37125.13</td>\n",
       "      <td>299815.83</td>\n",
       "      <td>268452.30</td>\n",
       "      <td>49009.81</td>\n",
       "      <td>NaN</td>\n",
       "      <td>NaN</td>\n",
       "      <td>-212829.13</td>\n",
       "      <td>-1.750000e-10</td>\n",
       "      <td>9.460000e-11</td>\n",
       "      <td>2021</td>\n",
       "    </tr>\n",
       "    <tr>\n",
       "      <th>477</th>\n",
       "      <td>C_597</td>\n",
       "      <td>1</td>\n",
       "      <td>Freiberufler</td>\n",
       "      <td>32457</td>\n",
       "      <td>71113</td>\n",
       "      <td>0</td>\n",
       "      <td>NaN</td>\n",
       "      <td>GKV</td>\n",
       "      <td>241456.04</td>\n",
       "      <td>216900.58</td>\n",
       "      <td>...</td>\n",
       "      <td>514698.88</td>\n",
       "      <td>639035.00</td>\n",
       "      <td>639951.26</td>\n",
       "      <td>7466.24</td>\n",
       "      <td>24518.87</td>\n",
       "      <td>NaN</td>\n",
       "      <td>14391.18</td>\n",
       "      <td>-7.090000e-11</td>\n",
       "      <td>1.204280e+03</td>\n",
       "      <td>2021</td>\n",
       "    </tr>\n",
       "    <tr>\n",
       "      <th>272</th>\n",
       "      <td>C_543</td>\n",
       "      <td>0</td>\n",
       "      <td>AG</td>\n",
       "      <td>86150</td>\n",
       "      <td>68101</td>\n",
       "      <td>1464</td>\n",
       "      <td>NaN</td>\n",
       "      <td>GKV</td>\n",
       "      <td>73165008.12</td>\n",
       "      <td>73165008.12</td>\n",
       "      <td>...</td>\n",
       "      <td>7797900.20</td>\n",
       "      <td>29653971.68</td>\n",
       "      <td>11687193.17</td>\n",
       "      <td>3444440.58</td>\n",
       "      <td>4254958.92</td>\n",
       "      <td>NaN</td>\n",
       "      <td>12170860.85</td>\n",
       "      <td>-6.620784e+05</td>\n",
       "      <td>-2.560090e+05</td>\n",
       "      <td>557</td>\n",
       "    </tr>\n",
       "    <tr>\n",
       "      <th>249</th>\n",
       "      <td>C_105</td>\n",
       "      <td>0</td>\n",
       "      <td>AG</td>\n",
       "      <td>76185</td>\n",
       "      <td>70101</td>\n",
       "      <td>1856</td>\n",
       "      <td>NaN</td>\n",
       "      <td>GKV</td>\n",
       "      <td>53372139.09</td>\n",
       "      <td>53110170.33</td>\n",
       "      <td>...</td>\n",
       "      <td>7522638.74</td>\n",
       "      <td>31608245.57</td>\n",
       "      <td>26918553.04</td>\n",
       "      <td>19531832.78</td>\n",
       "      <td>6509382.04</td>\n",
       "      <td>NaN</td>\n",
       "      <td>-10483605.89</td>\n",
       "      <td>-1.015179e+07</td>\n",
       "      <td>3.198861e+07</td>\n",
       "      <td>165</td>\n",
       "    </tr>\n",
       "    <tr>\n",
       "      <th>531</th>\n",
       "      <td>C_711</td>\n",
       "      <td>0</td>\n",
       "      <td>GmbH &amp; Co. KG</td>\n",
       "      <td>42651</td>\n",
       "      <td>32501</td>\n",
       "      <td>1857</td>\n",
       "      <td>63.0</td>\n",
       "      <td>GKV</td>\n",
       "      <td>2713538.03</td>\n",
       "      <td>2713538.03</td>\n",
       "      <td>...</td>\n",
       "      <td>330130.46</td>\n",
       "      <td>625173.80</td>\n",
       "      <td>462636.78</td>\n",
       "      <td>66853.99</td>\n",
       "      <td>281981.84</td>\n",
       "      <td>NaN</td>\n",
       "      <td>133580.07</td>\n",
       "      <td>-5.635444e+04</td>\n",
       "      <td>3.780000e-10</td>\n",
       "      <td>164</td>\n",
       "    </tr>\n",
       "  </tbody>\n",
       "</table>\n",
       "<p>5 rows × 41 columns</p>\n",
       "</div>"
      ],
      "text/plain": [
       "        id  default     legal_form  zip_code  sector  year_inc  count_emp  \\\n",
       "572  C_482        0   Freiberufler     61169   49310         0        NaN   \n",
       "477  C_597        1   Freiberufler     32457   71113         0        NaN   \n",
       "272  C_543        0             AG     86150   68101      1464        NaN   \n",
       "249  C_105        0             AG     76185   70101      1856        NaN   \n",
       "531  C_711        0  GmbH & Co. KG     42651   32501      1857       63.0   \n",
       "\n",
       "    type_pl        sales  gross_performance  ...  total_equity  \\\n",
       "572     GKV    635769.95          635769.95  ...      37125.13   \n",
       "477     GKV    241456.04          216900.58  ...     514698.88   \n",
       "272     GKV  73165008.12        73165008.12  ...    7797900.20   \n",
       "249     GKV  53372139.09        53110170.33  ...    7522638.74   \n",
       "531     GKV   2713538.03         2713538.03  ...     330130.46   \n",
       "\n",
       "     current_assets  monetary_current_assets         cash  \\\n",
       "572       299815.83                268452.30     49009.81   \n",
       "477       639035.00                639951.26      7466.24   \n",
       "272     29653971.68              11687193.17   3444440.58   \n",
       "249     31608245.57              26918553.04  19531832.78   \n",
       "531       625173.80                462636.78     66853.99   \n",
       "\n",
       "     trade_receivables_st  trade_receivables_lt  cf_operating  cf_investment  \\\n",
       "572                   NaN                   NaN    -212829.13  -1.750000e-10   \n",
       "477              24518.87                   NaN      14391.18  -7.090000e-11   \n",
       "272            4254958.92                   NaN   12170860.85  -6.620784e+05   \n",
       "249            6509382.04                   NaN  -10483605.89  -1.015179e+07   \n",
       "531             281981.84                   NaN     133580.07  -5.635444e+04   \n",
       "\n",
       "     cf_financing  age_num  \n",
       "572  9.460000e-11     2021  \n",
       "477  1.204280e+03     2021  \n",
       "272 -2.560090e+05      557  \n",
       "249  3.198861e+07      165  \n",
       "531  3.780000e-10      164  \n",
       "\n",
       "[5 rows x 41 columns]"
      ]
     },
     "execution_count": 6,
     "metadata": {},
     "output_type": "execute_result"
    }
   ],
   "source": [
    "df_train['age_num'] = datetime.datetime.now().year - df_train[\"year_inc\"]\n",
    "df_train.sort_values(by=\"age_num\",ascending=False).head(5)"
   ]
  },
  {
   "cell_type": "markdown",
   "metadata": {},
   "source": [
    "As we have some firms which are pretty old (some > 100 years) and two outliers (2020s) we can set their value to the e.g.: 95% quantile as this shouldn't change the meaning of the age variable that much. They are long on the market and it does not really matter if they are long on the market (e.g.: 100 years) or very very long in the business (eg: above 500 years). "
   ]
  },
  {
   "cell_type": "code",
   "execution_count": 7,
   "metadata": {
    "ExecuteTime": {
     "end_time": "2021-01-02T14:08:15.691146Z",
     "start_time": "2021-01-02T14:08:15.460708Z"
    }
   },
   "outputs": [
    {
     "data": {
      "text/html": [
       "<div>\n",
       "<style scoped>\n",
       "    .dataframe tbody tr th:only-of-type {\n",
       "        vertical-align: middle;\n",
       "    }\n",
       "\n",
       "    .dataframe tbody tr th {\n",
       "        vertical-align: top;\n",
       "    }\n",
       "\n",
       "    .dataframe thead th {\n",
       "        text-align: right;\n",
       "    }\n",
       "</style>\n",
       "<table border=\"1\" class=\"dataframe\">\n",
       "  <thead>\n",
       "    <tr style=\"text-align: right;\">\n",
       "      <th></th>\n",
       "      <th>id</th>\n",
       "      <th>default</th>\n",
       "      <th>legal_form</th>\n",
       "      <th>zip_code</th>\n",
       "      <th>sector</th>\n",
       "      <th>year_inc</th>\n",
       "      <th>count_emp</th>\n",
       "      <th>type_pl</th>\n",
       "      <th>sales</th>\n",
       "      <th>gross_performance</th>\n",
       "      <th>...</th>\n",
       "      <th>total_equity</th>\n",
       "      <th>current_assets</th>\n",
       "      <th>monetary_current_assets</th>\n",
       "      <th>cash</th>\n",
       "      <th>trade_receivables_st</th>\n",
       "      <th>trade_receivables_lt</th>\n",
       "      <th>cf_operating</th>\n",
       "      <th>cf_investment</th>\n",
       "      <th>cf_financing</th>\n",
       "      <th>age_num</th>\n",
       "    </tr>\n",
       "  </thead>\n",
       "  <tbody>\n",
       "    <tr>\n",
       "      <th>272</th>\n",
       "      <td>C_543</td>\n",
       "      <td>0</td>\n",
       "      <td>AG</td>\n",
       "      <td>86150</td>\n",
       "      <td>68101</td>\n",
       "      <td>1464</td>\n",
       "      <td>NaN</td>\n",
       "      <td>GKV</td>\n",
       "      <td>7.316501e+07</td>\n",
       "      <td>7.316501e+07</td>\n",
       "      <td>...</td>\n",
       "      <td>7.797900e+06</td>\n",
       "      <td>29653971.68</td>\n",
       "      <td>11687193.17</td>\n",
       "      <td>3444440.58</td>\n",
       "      <td>4254958.92</td>\n",
       "      <td>NaN</td>\n",
       "      <td>12170860.85</td>\n",
       "      <td>-6.620784e+05</td>\n",
       "      <td>-2.560090e+05</td>\n",
       "      <td>158.32</td>\n",
       "    </tr>\n",
       "    <tr>\n",
       "      <th>249</th>\n",
       "      <td>C_105</td>\n",
       "      <td>0</td>\n",
       "      <td>AG</td>\n",
       "      <td>76185</td>\n",
       "      <td>70101</td>\n",
       "      <td>1856</td>\n",
       "      <td>NaN</td>\n",
       "      <td>GKV</td>\n",
       "      <td>5.337214e+07</td>\n",
       "      <td>5.311017e+07</td>\n",
       "      <td>...</td>\n",
       "      <td>7.522639e+06</td>\n",
       "      <td>31608245.57</td>\n",
       "      <td>26918553.04</td>\n",
       "      <td>19531832.78</td>\n",
       "      <td>6509382.04</td>\n",
       "      <td>NaN</td>\n",
       "      <td>-10483605.89</td>\n",
       "      <td>-1.015179e+07</td>\n",
       "      <td>3.198861e+07</td>\n",
       "      <td>158.32</td>\n",
       "    </tr>\n",
       "    <tr>\n",
       "      <th>371</th>\n",
       "      <td>C_361</td>\n",
       "      <td>0</td>\n",
       "      <td>GmbH</td>\n",
       "      <td>21335</td>\n",
       "      <td>20520</td>\n",
       "      <td>1858</td>\n",
       "      <td>185.0</td>\n",
       "      <td>GKV</td>\n",
       "      <td>1.979305e+08</td>\n",
       "      <td>1.972723e+08</td>\n",
       "      <td>...</td>\n",
       "      <td>2.445527e+06</td>\n",
       "      <td>32809291.04</td>\n",
       "      <td>24618777.77</td>\n",
       "      <td>1012.13</td>\n",
       "      <td>24452421.93</td>\n",
       "      <td>NaN</td>\n",
       "      <td>11658956.29</td>\n",
       "      <td>-1.072492e+06</td>\n",
       "      <td>-1.088165e+07</td>\n",
       "      <td>158.32</td>\n",
       "    </tr>\n",
       "    <tr>\n",
       "      <th>572</th>\n",
       "      <td>C_482</td>\n",
       "      <td>0</td>\n",
       "      <td>Freiberufler</td>\n",
       "      <td>61169</td>\n",
       "      <td>49310</td>\n",
       "      <td>0</td>\n",
       "      <td>NaN</td>\n",
       "      <td>GKV</td>\n",
       "      <td>6.357699e+05</td>\n",
       "      <td>6.357699e+05</td>\n",
       "      <td>...</td>\n",
       "      <td>3.712513e+04</td>\n",
       "      <td>299815.83</td>\n",
       "      <td>268452.30</td>\n",
       "      <td>49009.81</td>\n",
       "      <td>NaN</td>\n",
       "      <td>NaN</td>\n",
       "      <td>-212829.13</td>\n",
       "      <td>-1.750000e-10</td>\n",
       "      <td>9.460000e-11</td>\n",
       "      <td>158.32</td>\n",
       "    </tr>\n",
       "    <tr>\n",
       "      <th>477</th>\n",
       "      <td>C_597</td>\n",
       "      <td>1</td>\n",
       "      <td>Freiberufler</td>\n",
       "      <td>32457</td>\n",
       "      <td>71113</td>\n",
       "      <td>0</td>\n",
       "      <td>NaN</td>\n",
       "      <td>GKV</td>\n",
       "      <td>2.414560e+05</td>\n",
       "      <td>2.169006e+05</td>\n",
       "      <td>...</td>\n",
       "      <td>5.146989e+05</td>\n",
       "      <td>639035.00</td>\n",
       "      <td>639951.26</td>\n",
       "      <td>7466.24</td>\n",
       "      <td>24518.87</td>\n",
       "      <td>NaN</td>\n",
       "      <td>14391.18</td>\n",
       "      <td>-7.090000e-11</td>\n",
       "      <td>1.204280e+03</td>\n",
       "      <td>158.32</td>\n",
       "    </tr>\n",
       "    <tr>\n",
       "      <th>283</th>\n",
       "      <td>C_519</td>\n",
       "      <td>0</td>\n",
       "      <td>GmbH</td>\n",
       "      <td>80807</td>\n",
       "      <td>18120</td>\n",
       "      <td>1862</td>\n",
       "      <td>NaN</td>\n",
       "      <td>GKV</td>\n",
       "      <td>1.560010e+06</td>\n",
       "      <td>4.462166e+06</td>\n",
       "      <td>...</td>\n",
       "      <td>3.912989e+05</td>\n",
       "      <td>1780853.40</td>\n",
       "      <td>507526.40</td>\n",
       "      <td>13989.13</td>\n",
       "      <td>NaN</td>\n",
       "      <td>NaN</td>\n",
       "      <td>-115009.30</td>\n",
       "      <td>-6.533309e+04</td>\n",
       "      <td>2.707314e+05</td>\n",
       "      <td>158.32</td>\n",
       "    </tr>\n",
       "    <tr>\n",
       "      <th>531</th>\n",
       "      <td>C_711</td>\n",
       "      <td>0</td>\n",
       "      <td>GmbH &amp; Co. KG</td>\n",
       "      <td>42651</td>\n",
       "      <td>32501</td>\n",
       "      <td>1857</td>\n",
       "      <td>63.0</td>\n",
       "      <td>GKV</td>\n",
       "      <td>2.713538e+06</td>\n",
       "      <td>2.713538e+06</td>\n",
       "      <td>...</td>\n",
       "      <td>3.301305e+05</td>\n",
       "      <td>625173.80</td>\n",
       "      <td>462636.78</td>\n",
       "      <td>66853.99</td>\n",
       "      <td>281981.84</td>\n",
       "      <td>NaN</td>\n",
       "      <td>133580.07</td>\n",
       "      <td>-5.635444e+04</td>\n",
       "      <td>3.780000e-10</td>\n",
       "      <td>158.32</td>\n",
       "    </tr>\n",
       "    <tr>\n",
       "      <th>454</th>\n",
       "      <td>C_259</td>\n",
       "      <td>0</td>\n",
       "      <td>Freiberufler</td>\n",
       "      <td>44141</td>\n",
       "      <td>94110</td>\n",
       "      <td>1863</td>\n",
       "      <td>140.0</td>\n",
       "      <td>GKV</td>\n",
       "      <td>3.584665e+05</td>\n",
       "      <td>3.584665e+05</td>\n",
       "      <td>...</td>\n",
       "      <td>1.871424e+05</td>\n",
       "      <td>70476.90</td>\n",
       "      <td>61735.26</td>\n",
       "      <td>41618.21</td>\n",
       "      <td>NaN</td>\n",
       "      <td>NaN</td>\n",
       "      <td>22009.92</td>\n",
       "      <td>-1.400000e+05</td>\n",
       "      <td>1.307238e+05</td>\n",
       "      <td>158.00</td>\n",
       "    </tr>\n",
       "    <tr>\n",
       "      <th>165</th>\n",
       "      <td>C_347</td>\n",
       "      <td>0</td>\n",
       "      <td>GmbH</td>\n",
       "      <td>57072</td>\n",
       "      <td>25993</td>\n",
       "      <td>1866</td>\n",
       "      <td>116.0</td>\n",
       "      <td>GKV</td>\n",
       "      <td>2.645000e+05</td>\n",
       "      <td>2.645000e+05</td>\n",
       "      <td>...</td>\n",
       "      <td>1.834052e+04</td>\n",
       "      <td>186602.25</td>\n",
       "      <td>172230.65</td>\n",
       "      <td>1434.82</td>\n",
       "      <td>NaN</td>\n",
       "      <td>NaN</td>\n",
       "      <td>1484.67</td>\n",
       "      <td>4.500000e+01</td>\n",
       "      <td>0.000000e+00</td>\n",
       "      <td>155.00</td>\n",
       "    </tr>\n",
       "    <tr>\n",
       "      <th>445</th>\n",
       "      <td>C_019</td>\n",
       "      <td>0</td>\n",
       "      <td>AG</td>\n",
       "      <td>33689</td>\n",
       "      <td>70109</td>\n",
       "      <td>1870</td>\n",
       "      <td>107.0</td>\n",
       "      <td>GKV</td>\n",
       "      <td>2.432905e+06</td>\n",
       "      <td>2.432905e+06</td>\n",
       "      <td>...</td>\n",
       "      <td>-3.640000e-12</td>\n",
       "      <td>340903.37</td>\n",
       "      <td>340903.37</td>\n",
       "      <td>340903.37</td>\n",
       "      <td>NaN</td>\n",
       "      <td>NaN</td>\n",
       "      <td>1933900.10</td>\n",
       "      <td>0.000000e+00</td>\n",
       "      <td>-2.050780e+06</td>\n",
       "      <td>151.00</td>\n",
       "    </tr>\n",
       "  </tbody>\n",
       "</table>\n",
       "<p>10 rows × 41 columns</p>\n",
       "</div>"
      ],
      "text/plain": [
       "        id  default     legal_form  zip_code  sector  year_inc  count_emp  \\\n",
       "272  C_543        0             AG     86150   68101      1464        NaN   \n",
       "249  C_105        0             AG     76185   70101      1856        NaN   \n",
       "371  C_361        0           GmbH     21335   20520      1858      185.0   \n",
       "572  C_482        0   Freiberufler     61169   49310         0        NaN   \n",
       "477  C_597        1   Freiberufler     32457   71113         0        NaN   \n",
       "283  C_519        0           GmbH     80807   18120      1862        NaN   \n",
       "531  C_711        0  GmbH & Co. KG     42651   32501      1857       63.0   \n",
       "454  C_259        0   Freiberufler     44141   94110      1863      140.0   \n",
       "165  C_347        0           GmbH     57072   25993      1866      116.0   \n",
       "445  C_019        0             AG     33689   70109      1870      107.0   \n",
       "\n",
       "    type_pl         sales  gross_performance  ...  total_equity  \\\n",
       "272     GKV  7.316501e+07       7.316501e+07  ...  7.797900e+06   \n",
       "249     GKV  5.337214e+07       5.311017e+07  ...  7.522639e+06   \n",
       "371     GKV  1.979305e+08       1.972723e+08  ...  2.445527e+06   \n",
       "572     GKV  6.357699e+05       6.357699e+05  ...  3.712513e+04   \n",
       "477     GKV  2.414560e+05       2.169006e+05  ...  5.146989e+05   \n",
       "283     GKV  1.560010e+06       4.462166e+06  ...  3.912989e+05   \n",
       "531     GKV  2.713538e+06       2.713538e+06  ...  3.301305e+05   \n",
       "454     GKV  3.584665e+05       3.584665e+05  ...  1.871424e+05   \n",
       "165     GKV  2.645000e+05       2.645000e+05  ...  1.834052e+04   \n",
       "445     GKV  2.432905e+06       2.432905e+06  ... -3.640000e-12   \n",
       "\n",
       "     current_assets  monetary_current_assets         cash  \\\n",
       "272     29653971.68              11687193.17   3444440.58   \n",
       "249     31608245.57              26918553.04  19531832.78   \n",
       "371     32809291.04              24618777.77      1012.13   \n",
       "572       299815.83                268452.30     49009.81   \n",
       "477       639035.00                639951.26      7466.24   \n",
       "283      1780853.40                507526.40     13989.13   \n",
       "531       625173.80                462636.78     66853.99   \n",
       "454        70476.90                 61735.26     41618.21   \n",
       "165       186602.25                172230.65      1434.82   \n",
       "445       340903.37                340903.37    340903.37   \n",
       "\n",
       "     trade_receivables_st  trade_receivables_lt  cf_operating  cf_investment  \\\n",
       "272            4254958.92                   NaN   12170860.85  -6.620784e+05   \n",
       "249            6509382.04                   NaN  -10483605.89  -1.015179e+07   \n",
       "371           24452421.93                   NaN   11658956.29  -1.072492e+06   \n",
       "572                   NaN                   NaN    -212829.13  -1.750000e-10   \n",
       "477              24518.87                   NaN      14391.18  -7.090000e-11   \n",
       "283                   NaN                   NaN    -115009.30  -6.533309e+04   \n",
       "531             281981.84                   NaN     133580.07  -5.635444e+04   \n",
       "454                   NaN                   NaN      22009.92  -1.400000e+05   \n",
       "165                   NaN                   NaN       1484.67   4.500000e+01   \n",
       "445                   NaN                   NaN    1933900.10   0.000000e+00   \n",
       "\n",
       "     cf_financing  age_num  \n",
       "272 -2.560090e+05   158.32  \n",
       "249  3.198861e+07   158.32  \n",
       "371 -1.088165e+07   158.32  \n",
       "572  9.460000e-11   158.32  \n",
       "477  1.204280e+03   158.32  \n",
       "283  2.707314e+05   158.32  \n",
       "531  3.780000e-10   158.32  \n",
       "454  1.307238e+05   158.00  \n",
       "165  0.000000e+00   155.00  \n",
       "445 -2.050780e+06   151.00  \n",
       "\n",
       "[10 rows x 41 columns]"
      ]
     },
     "execution_count": 7,
     "metadata": {},
     "output_type": "execute_result"
    }
   ],
   "source": [
    "#take a look on the quantiles\n",
    "quantiles = list()\n",
    "for i in range(0,100,):\n",
    "    quantiles.append(df_train[\"age_num\"].quantile(i/100))\n",
    "\n",
    "age_th = df_train[\"age_num\"].quantile(0.99)\n",
    "\n",
    "#replace outliers with 99% quantile\n",
    "df_train.loc[df_train[\"age_num\"] > age_th,\"age_num\"] = age_th\n",
    "\n",
    "df_train.sort_values(by=\"age_num\",ascending=False).head(10)"
   ]
  },
  {
   "cell_type": "code",
   "execution_count": 8,
   "metadata": {
    "ExecuteTime": {
     "end_time": "2021-01-02T14:08:15.934682Z",
     "start_time": "2021-01-02T14:08:15.696970Z"
    }
   },
   "outputs": [
    {
     "data": {
      "image/png": "[encoded data removed]",
      "text/plain": [
       "<Figure size 432x288 with 1 Axes>"
      ]
     },
     "metadata": {
      "needs_background": "light"
     },
     "output_type": "display_data"
    }
   ],
   "source": [
    "sns.boxplot(y=df_train[\"age_num\"]).set_title(\"Now a little bit better\");"
   ]
  },
  {
   "cell_type": "code",
   "execution_count": 9,
   "metadata": {
    "ExecuteTime": {
     "end_time": "2021-01-02T14:08:17.198689Z",
     "start_time": "2021-01-02T14:08:15.942064Z"
    }
   },
   "outputs": [
    {
     "data": {
      "image/png": "[encoded data removed]",
      "text/plain": [
       "<Figure size 432x288 with 1 Axes>"
      ]
     },
     "metadata": {
      "needs_background": "light"
     },
     "output_type": "display_data"
    },
    {
     "data": {
      "image/png": "[encoded data removed]",
      "text/plain": [
       "<Figure size 432x288 with 1 Axes>"
      ]
     },
     "metadata": {
      "needs_background": "light"
     },
     "output_type": "display_data"
    },
    {
     "data": {
      "text/plain": [
       "<Figure size 432x288 with 0 Axes>"
      ]
     },
     "metadata": {},
     "output_type": "display_data"
    },
    {
     "data": {
      "image/png": "[encoded data removed]",
      "text/plain": [
       "<Figure size 403.375x360 with 1 Axes>"
      ]
     },
     "metadata": {
      "needs_background": "light"
     },
     "output_type": "display_data"
    }
   ],
   "source": [
    "sns.boxplot(y=\"age_num\",x=\"default\",data=df_train);\n",
    "plt.figure()\n",
    "sns.boxplot(y=np.log(df_train[\"age_num\"]),x=\"default\",\n",
    "            data=df_train).set_title(\"With log transformation\");\n",
    "plt.figure()\n",
    "sns.displot(df_train,x=\"age_num\",hue=\"default\",stat=\"density\",common_norm=False);"
   ]
  },
  {
   "cell_type": "code",
   "execution_count": 10,
   "metadata": {
    "ExecuteTime": {
     "end_time": "2021-01-02T14:08:17.284289Z",
     "start_time": "2021-01-02T14:08:17.204057Z"
    }
   },
   "outputs": [
    {
     "data": {
      "text/html": [
       "<div>\n",
       "<style scoped>\n",
       "    .dataframe tbody tr th:only-of-type {\n",
       "        vertical-align: middle;\n",
       "    }\n",
       "\n",
       "    .dataframe tbody tr th {\n",
       "        vertical-align: top;\n",
       "    }\n",
       "\n",
       "    .dataframe thead th {\n",
       "        text-align: right;\n",
       "    }\n",
       "</style>\n",
       "<table border=\"1\" class=\"dataframe\">\n",
       "  <thead>\n",
       "    <tr style=\"text-align: right;\">\n",
       "      <th>age_quartile</th>\n",
       "      <th>(9.999, 13.0]</th>\n",
       "      <th>(13.0, 16.0]</th>\n",
       "      <th>(16.0, 20.0]</th>\n",
       "      <th>(20.0, 23.0]</th>\n",
       "      <th>(23.0, 25.0]</th>\n",
       "      <th>(25.0, 29.0]</th>\n",
       "      <th>(29.0, 32.0]</th>\n",
       "      <th>(32.0, 42.4]</th>\n",
       "      <th>(42.4, 66.0]</th>\n",
       "      <th>(66.0, 158.32]</th>\n",
       "    </tr>\n",
       "    <tr>\n",
       "      <th>default</th>\n",
       "      <th></th>\n",
       "      <th></th>\n",
       "      <th></th>\n",
       "      <th></th>\n",
       "      <th></th>\n",
       "      <th></th>\n",
       "      <th></th>\n",
       "      <th></th>\n",
       "      <th></th>\n",
       "      <th></th>\n",
       "    </tr>\n",
       "  </thead>\n",
       "  <tbody>\n",
       "    <tr>\n",
       "      <th>0</th>\n",
       "      <td>69</td>\n",
       "      <td>61</td>\n",
       "      <td>75</td>\n",
       "      <td>78</td>\n",
       "      <td>36</td>\n",
       "      <td>67</td>\n",
       "      <td>64</td>\n",
       "      <td>54</td>\n",
       "      <td>65</td>\n",
       "      <td>62</td>\n",
       "    </tr>\n",
       "    <tr>\n",
       "      <th>1</th>\n",
       "      <td>5</td>\n",
       "      <td>1</td>\n",
       "      <td>3</td>\n",
       "      <td>6</td>\n",
       "      <td>4</td>\n",
       "      <td>0</td>\n",
       "      <td>7</td>\n",
       "      <td>5</td>\n",
       "      <td>3</td>\n",
       "      <td>4</td>\n",
       "    </tr>\n",
       "  </tbody>\n",
       "</table>\n",
       "</div>"
      ],
      "text/plain": [
       "age_quartile  (9.999, 13.0]  (13.0, 16.0]  (16.0, 20.0]  (20.0, 23.0]  \\\n",
       "default                                                                 \n",
       "0                        69            61            75            78   \n",
       "1                         5             1             3             6   \n",
       "\n",
       "age_quartile  (23.0, 25.0]  (25.0, 29.0]  (29.0, 32.0]  (32.0, 42.4]  \\\n",
       "default                                                                \n",
       "0                       36            67            64            54   \n",
       "1                        4             0             7             5   \n",
       "\n",
       "age_quartile  (42.4, 66.0]  (66.0, 158.32]  \n",
       "default                                     \n",
       "0                       65              62  \n",
       "1                        3               4  "
      ]
     },
     "execution_count": 10,
     "metadata": {},
     "output_type": "execute_result"
    }
   ],
   "source": [
    "df_train[\"age_quartile\"] = pd.qcut(df_train[\"age_num\"],10)\n",
    "pd.crosstab(df_train[\"default\"],df_train[\"age_quartile\"])"
   ]
  },
  {
   "cell_type": "code",
   "execution_count": 11,
   "metadata": {
    "ExecuteTime": {
     "end_time": "2021-01-02T14:08:18.216763Z",
     "start_time": "2021-01-02T14:08:18.154448Z"
    }
   },
   "outputs": [
    {
     "name": "stdout",
     "output_type": "stream",
     "text": [
      "                        Results: Logit\n",
      "===============================================================\n",
      "Model:              Logit            Pseudo R-squared: 0.000   \n",
      "Dependent Variable: default          AIC:              295.6596\n",
      "Date:               2021-01-02 15:08 BIC:              304.6712\n",
      "No. Observations:   669              Log-Likelihood:   -145.83 \n",
      "Df Model:           1                LL-Null:          -145.89 \n",
      "Df Residuals:       667              LLR p-value:      0.72592 \n",
      "Converged:          1.0000           Scale:            1.0000  \n",
      "No. Iterations:     7.0000                                     \n",
      "----------------------------------------------------------------\n",
      "            Coef.   Std.Err.     z      P>|z|    [0.025   0.975]\n",
      "----------------------------------------------------------------\n",
      "Intercept  -2.8782    0.2572  -11.1898  0.0000  -3.3823  -2.3740\n",
      "age_num     0.0019    0.0054    0.3576  0.7206  -0.0087   0.0126\n",
      "===============================================================\n",
      "\n"
     ]
    }
   ],
   "source": [
    "mdl = sm.Logit.from_formula('default ~ age_num + 1', data=df_train).fit(disp=False, maxiter=100)\n",
    "print(mdl.summary2())"
   ]
  },
  {
   "cell_type": "code",
   "execution_count": 12,
   "metadata": {
    "ExecuteTime": {
     "end_time": "2021-01-02T14:08:20.012411Z",
     "start_time": "2021-01-02T14:08:19.977029Z"
    }
   },
   "outputs": [
    {
     "data": {
      "text/html": [
       "<div>\n",
       "<style scoped>\n",
       "    .dataframe tbody tr th:only-of-type {\n",
       "        vertical-align: middle;\n",
       "    }\n",
       "\n",
       "    .dataframe tbody tr th {\n",
       "        vertical-align: top;\n",
       "    }\n",
       "\n",
       "    .dataframe thead th {\n",
       "        text-align: right;\n",
       "    }\n",
       "</style>\n",
       "<table border=\"1\" class=\"dataframe\">\n",
       "  <thead>\n",
       "    <tr style=\"text-align: right;\">\n",
       "      <th>age_cat</th>\n",
       "      <th>3</th>\n",
       "      <th>4</th>\n",
       "    </tr>\n",
       "    <tr>\n",
       "      <th>default</th>\n",
       "      <th></th>\n",
       "      <th></th>\n",
       "    </tr>\n",
       "  </thead>\n",
       "  <tbody>\n",
       "    <tr>\n",
       "      <th>0</th>\n",
       "      <td>386</td>\n",
       "      <td>245</td>\n",
       "    </tr>\n",
       "    <tr>\n",
       "      <th>1</th>\n",
       "      <td>19</td>\n",
       "      <td>19</td>\n",
       "    </tr>\n",
       "  </tbody>\n",
       "</table>\n",
       "</div>"
      ],
      "text/plain": [
       "age_cat    3    4\n",
       "default          \n",
       "0        386  245\n",
       "1         19   19"
      ]
     },
     "execution_count": 12,
     "metadata": {},
     "output_type": "execute_result"
    }
   ],
   "source": [
    "#Flave - habe age cat so transformiert, dass man sie unten in der regression benutzen kann\n",
    "df_train[\"age_cat\"] = np.select([\n",
    "     df_train['age_num'].between(0, 4, inclusive=True),\n",
    "     df_train['age_num'].between(5, 9, inclusive=True),\n",
    "     df_train['age_num'].between(10, 29, inclusive=True),\n",
    "     df_train['age_num'].between(30, np.inf, inclusive=True)], \n",
    "    [1,2,3,4])\n",
    "\n",
    "pd.crosstab(df_train[\"default\"],df_train[\"age_cat\"])"
   ]
  },
  {
   "cell_type": "code",
   "execution_count": 13,
   "metadata": {
    "ExecuteTime": {
     "end_time": "2021-01-02T14:08:21.728705Z",
     "start_time": "2021-01-02T14:08:21.725318Z"
    }
   },
   "outputs": [],
   "source": [
    "# Mando\n",
    "# df_train[\"age_cat\"] = np.select([\n",
    "#      df_train['age_num'].between(0, 19, inclusive=True),\n",
    "#      df_train['age_num'].between(20, 29, inclusive=True),\n",
    "#      df_train['age_num'].between(30, 39, inclusive=True),\n",
    "#      df_train['age_num'].between(40, 49, inclusive=True),\n",
    "#      df_train['age_num'].between(50, 59, inclusive=True),\n",
    "#      df_train['age_num'].between(60, np.inf, inclusive=True)], \n",
    "#     ['10-19','20-29','30-39','40-49','50-59','>59'],)\n",
    "\n",
    "# pd.crosstab(df_train[\"default\"],df_train[\"age_cat\"])"
   ]
  },
  {
   "cell_type": "code",
   "execution_count": 14,
   "metadata": {
    "ExecuteTime": {
     "end_time": "2021-01-02T14:08:23.680343Z",
     "start_time": "2021-01-02T14:08:23.610412Z"
    }
   },
   "outputs": [
    {
     "name": "stdout",
     "output_type": "stream",
     "text": [
      "                        Results: Logit\n",
      "===============================================================\n",
      "Model:              Logit            Pseudo R-squared: 0.006   \n",
      "Dependent Variable: default          AIC:              293.9493\n",
      "Date:               2021-01-02 15:08 BIC:              302.9609\n",
      "No. Observations:   669              Log-Likelihood:   -144.97 \n",
      "Df Model:           1                LL-Null:          -145.89 \n",
      "Df Residuals:       667              LLR p-value:      0.17575 \n",
      "Converged:          1.0000           Scale:            1.0000  \n",
      "No. Iterations:     7.0000                                     \n",
      "----------------------------------------------------------------\n",
      "             Coef.   Std.Err.     z     P>|z|    [0.025   0.975]\n",
      "----------------------------------------------------------------\n",
      "Intercept   -4.3751    1.1807  -3.7056  0.0002  -6.6892  -2.0611\n",
      "age_cat      0.4546    0.3346   1.3587  0.1742  -0.2012   1.1103\n",
      "===============================================================\n",
      "\n"
     ]
    }
   ],
   "source": [
    "mdl = sm.Logit.from_formula('default ~ age_cat + 1', data=df_train).fit(disp=False, maxiter=100)\n",
    "print(mdl.summary2())"
   ]
  },
  {
   "cell_type": "code",
   "execution_count": 15,
   "metadata": {
    "ExecuteTime": {
     "end_time": "2021-01-02T14:08:24.959450Z",
     "start_time": "2021-01-02T14:08:23.737197Z"
    }
   },
   "outputs": [
    {
     "name": "stdout",
     "output_type": "stream",
     "text": [
      "====================================================\n",
      "Variable:  id\n",
      "---------------------------------------------------\n",
      "           0    1  N_False  N_True  N  N_Perc\n",
      "id                                           \n",
      "C_995  100.0  0.0        1       0  1    0.15\n",
      "C_994  100.0  0.0        1       0  1    0.15\n",
      "C_992  100.0  0.0        1       0  1    0.15\n",
      "C_990  100.0  0.0        1       0  1    0.15\n",
      "C_986  100.0  0.0        1       0  1    0.15\n",
      "...      ...  ...      ...     ... ..     ...\n",
      "C_006  100.0  0.0        1       0  1    0.15\n",
      "C_004  100.0  0.0        1       0  1    0.15\n",
      "C_002  100.0  0.0        1       0  1    0.15\n",
      "C_001  100.0  0.0        1       0  1    0.15\n",
      "C_000  100.0  0.0        1       0  1    0.15\n",
      "\n",
      "[669 rows x 6 columns]\n",
      "\n",
      "====================================================\n",
      "Variable:  legal_form\n",
      "---------------------------------------------------\n",
      "                              0      1  N_False  N_True    N  N_Perc\n",
      "legal_form                                                          \n",
      "Verein                   100.00   0.00        1       0    1    0.15\n",
      "Sonst. Gewerbetreibende   88.24  11.76       15       2   17    2.54\n",
      "OHG                      100.00   0.00        4       0    4    0.60\n",
      "KG                        80.00  20.00        4       1    5    0.75\n",
      "GmbH & Co. KG             91.67   8.33       88       8   96   14.35\n",
      "GmbH                      95.05   4.95      461      24  485   72.50\n",
      "Genossenschaft           100.00   0.00       15       0   15    2.24\n",
      "Freiberufler              80.00  20.00        4       1    5    0.75\n",
      "Einzelfirma               88.89  11.11        8       1    9    1.35\n",
      "BGB-Gesellschaft         100.00   0.00        4       0    4    0.60\n",
      "AG                        96.43   3.57       27       1   28    4.19\n",
      "\n",
      "====================================================\n",
      "Variable:  type_pl\n",
      "---------------------------------------------------\n",
      "              0     1  N_False  N_True    N  N_Perc\n",
      "type_pl                                            \n",
      "UKV      100.00  0.00        6       0    6     0.9\n",
      "GKV       94.27  5.73      625      38  663    99.1\n",
      "\n"
     ]
    }
   ],
   "source": [
    "catvar = [i for i in list(df_train.columns) if df_train[i].dtype=='O']\n",
    "\n",
    "for i in catvar:\n",
    "    tmp1 = pd.crosstab(df_train['default'], df_train[i]).apply(lambda x: np.round(x/x.sum() * 100,2)).T.sort_values(by = i ,ascending=False)\n",
    "    tmp2 = pd.crosstab(df_train['default'], df_train[i]).T.rename(columns={False: 'N_False', True: 'N_True'})\n",
    "    tmp3 = pd.DataFrame(tmp2.apply(sum, axis=1), columns=['N'])\n",
    "    tmp4 = tmp3.apply(lambda x: np.round(x/x.sum() * 100,2)).rename(columns={'N': 'N_Perc'})\n",
    "    tmp = tmp1.join(tmp2).join(tmp3).join(tmp4)\n",
    "    print('====================================================')\n",
    "    print('Variable: ',i)\n",
    "    print('---------------------------------------------------')\n",
    "    print(tmp)\n",
    "    print()\n",
    "    del tmp1, tmp2, tmp3, tmp4, tmp"
   ]
  },
  {
   "cell_type": "markdown",
   "metadata": {},
   "source": [
    "# Understanding your data\n",
    "\n",
    "\n",
    "## Univartiate descriptive anaylsis\n",
    "\n",
    "The datatype of the variables is important as in dermines how you have to look at the data"
   ]
  },
  {
   "cell_type": "code",
   "execution_count": 16,
   "metadata": {
    "ExecuteTime": {
     "end_time": "2021-01-02T14:08:24.976795Z",
     "start_time": "2021-01-02T14:08:24.966442Z"
    }
   },
   "outputs": [
    {
     "data": {
      "text/plain": [
       "['id', 'legal_form', 'type_pl']"
      ]
     },
     "execution_count": 16,
     "metadata": {},
     "output_type": "execute_result"
    }
   ],
   "source": [
    "catvar = [i for i in list(df_train.columns) if df_train[i].dtype=='O']\n",
    "catvar # categorial variables"
   ]
  },
  {
   "cell_type": "code",
   "execution_count": 17,
   "metadata": {
    "ExecuteTime": {
     "end_time": "2021-01-02T14:08:24.996813Z",
     "start_time": "2021-01-02T14:08:24.983635Z"
    }
   },
   "outputs": [
    {
     "data": {
      "text/plain": [
       "['default',\n",
       " 'zip_code',\n",
       " 'sector',\n",
       " 'year_inc',\n",
       " 'count_emp',\n",
       " 'sales',\n",
       " 'gross_performance',\n",
       " 'gross_profit',\n",
       " 'earn_from_op',\n",
       " 'fin_result',\n",
       " 'oth_interest_inc',\n",
       " 'oth_interest_exp',\n",
       " 'result_from_ord_bus',\n",
       " 'total_result',\n",
       " 'annual_profit',\n",
       " 'total_assets',\n",
       " 'total_liabilities_st',\n",
       " 'total_liabilities_mt',\n",
       " 'total_liabilities_lt',\n",
       " 'bank_liabilities_st',\n",
       " 'bank_liabilities_mt',\n",
       " 'bank_liabilities_lt',\n",
       " 'trade_payables_st',\n",
       " 'trade_payables_mt',\n",
       " 'trade_payables_lt',\n",
       " 'bonds_payables_st',\n",
       " 'bonds_payables_mt',\n",
       " 'bonds_payables_lt',\n",
       " 'total_equity',\n",
       " 'current_assets',\n",
       " 'monetary_current_assets',\n",
       " 'cash',\n",
       " 'trade_receivables_st',\n",
       " 'trade_receivables_lt',\n",
       " 'cf_operating',\n",
       " 'cf_investment',\n",
       " 'cf_financing',\n",
       " 'age_num',\n",
       " 'age_cat']"
      ]
     },
     "execution_count": 17,
     "metadata": {},
     "output_type": "execute_result"
    }
   ],
   "source": [
    "numvar = [i for i in list(df_train.columns) if df_train[i].dtype in ['float64','int64']]\n",
    "numvar # numberical variables"
   ]
  },
  {
   "cell_type": "markdown",
   "metadata": {},
   "source": [
    "## Missing values\n",
    "\n",
    "Overview of missing values in the data"
   ]
  },
  {
   "cell_type": "code",
   "execution_count": 18,
   "metadata": {
    "ExecuteTime": {
     "end_time": "2021-01-02T14:08:25.303120Z",
     "start_time": "2021-01-02T14:08:25.288333Z"
    }
   },
   "outputs": [
    {
     "data": {
      "text/plain": [
       "bonds_payables_lt          669\n",
       "bonds_payables_st          669\n",
       "trade_payables_lt          665\n",
       "bonds_payables_mt          664\n",
       "trade_payables_mt          648\n",
       "trade_receivables_lt       645\n",
       "bank_liabilities_lt        545\n",
       "bank_liabilities_mt        483\n",
       "trade_receivables_st       355\n",
       "count_emp                  353\n",
       "bank_liabilities_st        352\n",
       "trade_payables_st          143\n",
       "oth_interest_inc           127\n",
       "oth_interest_exp            62\n",
       "cash                        32\n",
       "fin_result                  22\n",
       "total_equity                21\n",
       "gross_profit                 7\n",
       "gross_performance            7\n",
       "result_from_ord_bus          1\n",
       "total_assets                 1\n",
       "earn_from_op                 1\n",
       "annual_profit                1\n",
       "sales                        1\n",
       "current_assets               1\n",
       "cf_operating                 1\n",
       "cf_investment                1\n",
       "cf_financing                 1\n",
       "year_inc                     0\n",
       "sector                       0\n",
       "zip_code                     0\n",
       "type_pl                      0\n",
       "legal_form                   0\n",
       "default                      0\n",
       "age_cat                      0\n",
       "total_liabilities_lt         0\n",
       "total_result                 0\n",
       "total_liabilities_st         0\n",
       "total_liabilities_mt         0\n",
       "age_quartile                 0\n",
       "monetary_current_assets      0\n",
       "age_num                      0\n",
       "id                           0\n",
       "dtype: int64"
      ]
     },
     "execution_count": 18,
     "metadata": {},
     "output_type": "execute_result"
    }
   ],
   "source": [
    "df_train.isnull().sum().sort_values(ascending=False)"
   ]
  },
  {
   "cell_type": "code",
   "execution_count": 19,
   "metadata": {
    "ExecuteTime": {
     "end_time": "2021-01-02T14:08:25.955268Z",
     "start_time": "2021-01-02T14:08:25.936023Z"
    }
   },
   "outputs": [
    {
     "data": {
      "text/plain": [
       "bonds_payables_lt          330\n",
       "bonds_payables_st          330\n",
       "trade_payables_lt          330\n",
       "bonds_payables_mt          329\n",
       "trade_payables_mt          322\n",
       "trade_receivables_lt       320\n",
       "bank_liabilities_lt        250\n",
       "bank_liabilities_mt        230\n",
       "count_emp                  179\n",
       "bank_liabilities_st        172\n",
       "trade_receivables_st       169\n",
       "trade_payables_st           65\n",
       "oth_interest_inc            62\n",
       "oth_interest_exp            23\n",
       "cash                        18\n",
       "total_equity                 9\n",
       "fin_result                   8\n",
       "gross_performance            3\n",
       "gross_profit                 3\n",
       "cf_investment                1\n",
       "cf_operating                 1\n",
       "cf_financing                 1\n",
       "earn_from_op                 0\n",
       "year_inc                     0\n",
       "sector                       0\n",
       "type_pl                      0\n",
       "sales                        0\n",
       "zip_code                     0\n",
       "total_liabilities_mt         0\n",
       "result_from_ord_bus          0\n",
       "total_result                 0\n",
       "annual_profit                0\n",
       "total_assets                 0\n",
       "total_liabilities_st         0\n",
       "total_liabilities_lt         0\n",
       "current_assets               0\n",
       "monetary_current_assets      0\n",
       "legal_form                   0\n",
       "dtype: int64"
      ]
     },
     "execution_count": 19,
     "metadata": {},
     "output_type": "execute_result"
    }
   ],
   "source": [
    "df_test.isnull().sum().sort_values(ascending=False)"
   ]
  },
  {
   "cell_type": "markdown",
   "metadata": {},
   "source": [
    "## Univariate Analysis"
   ]
  },
  {
   "cell_type": "markdown",
   "metadata": {},
   "source": [
    "### Univariate Logit Regressions\n",
    "See the significance of every variable possible in the training set in an univariate setting and where NAs are dropped. We also ordered them according to their p values. Important to note here is the p value is not a KO-criteria for us. Also we do these regressions before data cleansing, which is another important thing to consider. The aim of this is only to see if their is some clear evidence for significant features in the data in the first place."
   ]
  },
  {
   "cell_type": "code",
   "execution_count": 20,
   "metadata": {
    "ExecuteTime": {
     "end_time": "2021-01-02T14:08:29.626979Z",
     "start_time": "2021-01-02T14:08:27.964251Z"
    },
    "tags": [
     "outputPrepend"
    ]
   },
   "outputs": [
    {
     "name": "stdout",
     "output_type": "stream",
     "text": [
      "                        Results: Logit\n",
      "===============================================================\n",
      "Model:              Logit            Pseudo R-squared: 0.004   \n",
      "Dependent Variable: default          AIC:              294.4736\n",
      "Date:               2021-01-02 15:08 BIC:              303.4851\n",
      "No. Observations:   669              Log-Likelihood:   -145.24 \n",
      "Df Model:           1                LL-Null:          -145.89 \n",
      "Df Residuals:       667              LLR p-value:      0.25258 \n",
      "Converged:          1.0000           Scale:            1.0000  \n",
      "No. Iterations:     7.0000                                     \n",
      "----------------------------------------------------------------\n",
      "             Coef.   Std.Err.     z     P>|z|    [0.025   0.975]\n",
      "----------------------------------------------------------------\n",
      "const       -3.1658    0.3671  -8.6249  0.0000  -3.8852  -2.4464\n",
      "zip_code     0.0000    0.0000   1.1393  0.2546  -0.0000   0.0000\n",
      "===============================================================\n",
      "\n",
      "                        Results: Logit\n",
      "===============================================================\n",
      "Model:              Logit            Pseudo R-squared: 0.000   \n",
      "Dependent Variable: default          AIC:              295.7375\n",
      "Date:               2021-01-02 15:08 BIC:              304.7490\n",
      "No. Observations:   669              Log-Likelihood:   -145.87 \n",
      "Df Model:           1                LL-Null:          -145.89 \n",
      "Df Residuals:       667              LLR p-value:      0.83188 \n",
      "Converged:          1.0000           Scale:            1.0000  \n",
      "No. Iterations:     7.0000                                     \n",
      "----------------------------------------------------------------\n",
      "             Coef.   Std.Err.     z     P>|z|    [0.025   0.975]\n",
      "----------------------------------------------------------------\n",
      "const       -2.8962    0.4423  -6.5479  0.0000  -3.7631  -2.0293\n",
      "sector       0.0000    0.0000   0.2124  0.8318  -0.0000   0.0000\n",
      "===============================================================\n",
      "\n",
      "                        Results: Logit\n",
      "===============================================================\n",
      "Model:              Logit            Pseudo R-squared: 0.010   \n",
      "Dependent Variable: default          AIC:              292.9664\n",
      "Date:               2021-01-02 15:08 BIC:              301.9780\n",
      "No. Observations:   669              Log-Likelihood:   -144.48 \n",
      "Df Model:           1                LL-Null:          -145.89 \n",
      "Df Residuals:       667              LLR p-value:      0.093322\n",
      "Converged:          1.0000           Scale:            1.0000  \n",
      "No. Iterations:     7.0000                                     \n",
      "----------------------------------------------------------------\n",
      "              Coef.   Std.Err.     z     P>|z|    [0.025  0.975]\n",
      "----------------------------------------------------------------\n",
      "const        -0.1376    1.3979  -0.0984  0.9216  -2.8774  2.6023\n",
      "year_inc     -0.0014    0.0007  -1.9141  0.0556  -0.0027  0.0000\n",
      "===============================================================\n",
      "\n",
      "                        Results: Logit\n",
      "===============================================================\n",
      "Model:              Logit            Pseudo R-squared: 0.000   \n",
      "Dependent Variable: default          AIC:              124.6911\n",
      "Date:               2021-01-02 15:08 BIC:              132.2026\n",
      "No. Observations:   316              Log-Likelihood:   -60.346 \n",
      "Df Model:           1                LL-Null:          -60.354 \n",
      "Df Residuals:       314              LLR p-value:      0.89912 \n",
      "Converged:          1.0000           Scale:            1.0000  \n",
      "No. Iterations:     7.0000                                     \n",
      "----------------------------------------------------------------\n",
      "            Coef.   Std.Err.     z      P>|z|    [0.025   0.975]\n",
      "----------------------------------------------------------------\n",
      "const      -2.9915    0.2711  -11.0331  0.0000  -3.5229  -2.4601\n",
      "count_emp  -0.0000    0.0002   -0.1190  0.9053  -0.0004   0.0004\n",
      "===============================================================\n",
      "\n",
      "                        Results: Logit\n",
      "===============================================================\n",
      "Model:              Logit            Pseudo R-squared: 0.002   \n",
      "Dependent Variable: default          AIC:              294.9877\n",
      "Date:               2021-01-02 15:08 BIC:              303.9963\n",
      "No. Observations:   668              Log-Likelihood:   -145.49 \n",
      "Df Model:           1                LL-Null:          -145.83 \n",
      "Df Residuals:       666              LLR p-value:      0.41035 \n",
      "Converged:          1.0000           Scale:            1.0000  \n",
      "No. Iterations:     8.0000                                     \n",
      "----------------------------------------------------------------\n",
      "            Coef.   Std.Err.     z      P>|z|    [0.025   0.975]\n",
      "----------------------------------------------------------------\n",
      "const      -2.7635    0.1758  -15.7209  0.0000  -3.1080  -2.4189\n",
      "sales      -0.0000    0.0000   -0.6565  0.5115  -0.0000   0.0000\n",
      "===============================================================\n",
      "\n",
      "                          Results: Logit\n",
      "==================================================================\n",
      "Model:               Logit             Pseudo R-squared:  0.001   \n",
      "Dependent Variable:  default           AIC:               294.5595\n",
      "Date:                2021-01-02 15:08  BIC:               303.5501\n",
      "No. Observations:    662               Log-Likelihood:    -145.28 \n",
      "Df Model:            1                 LL-Null:           -145.48 \n",
      "Df Residuals:        660               LLR p-value:       0.52716 \n",
      "Converged:           1.0000            Scale:             1.0000  \n",
      "No. Iterations:      7.0000                                       \n",
      "------------------------------------------------------------------\n",
      "                   Coef.  Std.Err.    z     P>|z|   [0.025  0.975]\n",
      "------------------------------------------------------------------\n",
      "const             -2.7620   0.1765 -15.6472 0.0000 -3.1080 -2.4160\n",
      "gross_performance -0.0000   0.0000  -0.5528 0.5804 -0.0000  0.0000\n",
      "==================================================================\n",
      "\n",
      "                        Results: Logit\n",
      "===============================================================\n",
      "Model:              Logit            Pseudo R-squared: 0.016   \n",
      "Dependent Variable: default          AIC:              290.2059\n",
      "Date:               2021-01-02 15:08 BIC:              299.1964\n",
      "No. Observations:   662              Log-Likelihood:   -143.10 \n",
      "Df Model:           1                LL-Null:          -145.48 \n",
      "Df Residuals:       660              LLR p-value:      0.029238\n",
      "Converged:          1.0000           Scale:            1.0000  \n",
      "No. Iterations:     9.0000                                     \n",
      "---------------------------------------------------------------\n",
      "                Coef.  Std.Err.    z     P>|z|   [0.025  0.975]\n",
      "---------------------------------------------------------------\n",
      "const          -2.6118   0.1886 -13.8450 0.0000 -2.9815 -2.2420\n",
      "gross_profit   -0.0000   0.0000  -1.4286 0.1531 -0.0000  0.0000\n",
      "===============================================================\n",
      "\n",
      "                        Results: Logit\n",
      "===============================================================\n",
      "Model:              Logit            Pseudo R-squared: 0.002   \n",
      "Dependent Variable: default          AIC:              295.1829\n",
      "Date:               2021-01-02 15:08 BIC:              304.1915\n",
      "No. Observations:   668              Log-Likelihood:   -145.59 \n",
      "Df Model:           1                LL-Null:          -145.83 \n",
      "Df Residuals:       666              LLR p-value:      0.48724 \n",
      "Converged:          1.0000           Scale:            1.0000  \n",
      "No. Iterations:     7.0000                                     \n",
      "---------------------------------------------------------------\n",
      "                Coef.  Std.Err.    z     P>|z|   [0.025  0.975]\n",
      "---------------------------------------------------------------\n",
      "const          -2.7967   0.1673 -16.7152 0.0000 -3.1247 -2.4688\n",
      "earn_from_op   -0.0000   0.0000  -0.6960 0.4864 -0.0000  0.0000\n",
      "===============================================================\n",
      "\n",
      "                        Results: Logit\n",
      "===============================================================\n",
      "Model:              Logit            Pseudo R-squared: 0.001   \n",
      "Dependent Variable: default          AIC:              281.7848\n",
      "Date:               2021-01-02 15:08 BIC:              290.7295\n",
      "No. Observations:   647              Log-Likelihood:   -138.89 \n",
      "Df Model:           1                LL-Null:          -138.98 \n",
      "Df Residuals:       645              LLR p-value:      0.68061 \n",
      "Converged:          1.0000           Scale:            1.0000  \n",
      "No. Iterations:     8.0000                                     \n",
      "---------------------------------------------------------------\n",
      "                Coef.  Std.Err.    z     P>|z|   [0.025  0.975]\n",
      "---------------------------------------------------------------\n",
      "const          -2.8301   0.1715 -16.4980 0.0000 -3.1663 -2.4939\n",
      "fin_result     -0.0000   0.0000  -0.3367 0.7364 -0.0000  0.0000\n",
      "===============================================================\n",
      "\n",
      "                         Results: Logit\n",
      "=================================================================\n",
      "Model:                Logit            Pseudo R-squared: 0.003   \n",
      "Dependent Variable:   default          AIC:              218.0321\n",
      "Date:                 2021-01-02 15:08 BIC:              226.6226\n",
      "No. Observations:     542              Log-Likelihood:   -107.02 \n",
      "Df Model:             1                LL-Null:          -107.30 \n",
      "Df Residuals:         540              LLR p-value:      0.45059 \n",
      "Converged:            1.0000           Scale:            1.0000  \n",
      "No. Iterations:       9.0000                                     \n",
      "-----------------------------------------------------------------\n",
      "                  Coef.  Std.Err.    z     P>|z|   [0.025  0.975]\n",
      "-----------------------------------------------------------------\n",
      "const            -2.9206   0.2005 -14.5656 0.0000 -3.3136 -2.5276\n",
      "oth_interest_inc -0.0000   0.0000  -0.4939 0.6214 -0.0000  0.0000\n",
      "=================================================================\n",
      "\n"
     ]
    },
    {
     "name": "stdout",
     "output_type": "stream",
     "text": [
      "                         Results: Logit\n",
      "=================================================================\n",
      "Model:                Logit            Pseudo R-squared: 0.004   \n",
      "Dependent Variable:   default          AIC:              276.0375\n",
      "Date:                 2021-01-02 15:08 BIC:              284.8545\n",
      "No. Observations:     607              Log-Likelihood:   -136.02 \n",
      "Df Model:             1                LL-Null:          -136.61 \n",
      "Df Residuals:         605              LLR p-value:      0.27642 \n",
      "Converged:            1.0000           Scale:            1.0000  \n",
      "No. Iterations:       8.0000                                     \n",
      "-----------------------------------------------------------------\n",
      "                  Coef.  Std.Err.    z     P>|z|   [0.025  0.975]\n",
      "-----------------------------------------------------------------\n",
      "const            -2.7128   0.1780 -15.2400 0.0000 -3.0617 -2.3639\n",
      "oth_interest_exp -0.0000   0.0000  -0.7494 0.4536 -0.0000  0.0000\n",
      "=================================================================\n",
      "\n",
      "                           Results: Logit\n",
      "====================================================================\n",
      "Model:                 Logit             Pseudo R-squared:  0.002   \n",
      "Dependent Variable:    default           AIC:               294.9647\n",
      "Date:                  2021-01-02 15:08  BIC:               303.9733\n",
      "No. Observations:      668               Log-Likelihood:    -145.48 \n",
      "Df Model:              1                 LL-Null:           -145.83 \n",
      "Df Residuals:          666               LLR p-value:       0.40251 \n",
      "Converged:             1.0000            Scale:             1.0000  \n",
      "No. Iterations:        7.0000                                       \n",
      "--------------------------------------------------------------------\n",
      "                     Coef.  Std.Err.    z     P>|z|   [0.025  0.975]\n",
      "--------------------------------------------------------------------\n",
      "const               -2.7967   0.1672 -16.7263 0.0000 -3.1244 -2.4690\n",
      "result_from_ord_bus -0.0000   0.0000  -0.8044 0.4212 -0.0000  0.0000\n",
      "====================================================================\n",
      "\n",
      "                        Results: Logit\n",
      "===============================================================\n",
      "Model:              Logit            Pseudo R-squared: 0.002   \n",
      "Dependent Variable: default          AIC:              295.1210\n",
      "Date:               2021-01-02 15:08 BIC:              304.1326\n",
      "No. Observations:   669              Log-Likelihood:   -145.56 \n",
      "Df Model:           1                LL-Null:          -145.89 \n",
      "Df Residuals:       667              LLR p-value:      0.41602 \n",
      "Converged:          1.0000           Scale:            1.0000  \n",
      "No. Iterations:     7.0000                                     \n",
      "---------------------------------------------------------------\n",
      "                Coef.  Std.Err.    z     P>|z|   [0.025  0.975]\n",
      "---------------------------------------------------------------\n",
      "const          -2.7990   0.1672 -16.7422 0.0000 -3.1267 -2.4713\n",
      "total_result   -0.0000   0.0000  -0.7749 0.4384 -0.0000  0.0000\n",
      "===============================================================\n",
      "\n",
      "                        Results: Logit\n",
      "===============================================================\n",
      "Model:              Logit            Pseudo R-squared: 0.001   \n",
      "Dependent Variable: default          AIC:              295.3412\n",
      "Date:               2021-01-02 15:08 BIC:              304.3498\n",
      "No. Observations:   668              Log-Likelihood:   -145.67 \n",
      "Df Model:           1                LL-Null:          -145.83 \n",
      "Df Residuals:       666              LLR p-value:      0.56907 \n",
      "Converged:          1.0000           Scale:            1.0000  \n",
      "No. Iterations:     7.0000                                     \n",
      "---------------------------------------------------------------\n",
      "                Coef.  Std.Err.    z     P>|z|   [0.025  0.975]\n",
      "---------------------------------------------------------------\n",
      "const          -2.8026   0.1671 -16.7705 0.0000 -3.1301 -2.4750\n",
      "annual_profit  -0.0000   0.0000  -0.5205 0.6027 -0.0000  0.0000\n",
      "===============================================================\n",
      "\n",
      "                        Results: Logit\n",
      "===============================================================\n",
      "Model:              Logit            Pseudo R-squared: 0.008   \n",
      "Dependent Variable: default          AIC:              293.4372\n",
      "Date:               2021-01-02 15:08 BIC:              302.4458\n",
      "No. Observations:   668              Log-Likelihood:   -144.72 \n",
      "Df Model:           1                LL-Null:          -145.83 \n",
      "Df Residuals:       666              LLR p-value:      0.13550 \n",
      "Converged:          1.0000           Scale:            1.0000  \n",
      "No. Iterations:     10.0000                                    \n",
      "---------------------------------------------------------------\n",
      "                Coef.  Std.Err.    z     P>|z|   [0.025  0.975]\n",
      "---------------------------------------------------------------\n",
      "const          -2.7257   0.1771 -15.3886 0.0000 -3.0729 -2.3786\n",
      "total_assets   -0.0000   0.0000  -0.9035 0.3662 -0.0000  0.0000\n",
      "===============================================================\n",
      "\n",
      "                           Results: Logit\n",
      "=====================================================================\n",
      "Model:                Logit              Pseudo R-squared:   0.002   \n",
      "Dependent Variable:   default            AIC:                295.3377\n",
      "Date:                 2021-01-02 15:08   BIC:                304.3493\n",
      "No. Observations:     669                Log-Likelihood:     -145.67 \n",
      "Df Model:             1                  LL-Null:            -145.89 \n",
      "Df Residuals:         667                LLR p-value:        0.50480 \n",
      "Converged:            1.0000             Scale:              1.0000  \n",
      "No. Iterations:       9.0000                                         \n",
      "---------------------------------------------------------------------\n",
      "                      Coef.  Std.Err.    z     P>|z|   [0.025  0.975]\n",
      "---------------------------------------------------------------------\n",
      "const                -2.7820   0.1733 -16.0556 0.0000 -3.1216 -2.4424\n",
      "total_liabilities_st -0.0000   0.0000  -0.4763 0.6338 -0.0000  0.0000\n",
      "=====================================================================\n",
      "\n",
      "                           Results: Logit\n",
      "=====================================================================\n",
      "Model:                Logit              Pseudo R-squared:   0.003   \n",
      "Dependent Variable:   default            AIC:                294.9659\n",
      "Date:                 2021-01-02 15:08   BIC:                303.9775\n",
      "No. Observations:     669                Log-Likelihood:     -145.48 \n",
      "Df Model:             1                  LL-Null:            -145.89 \n",
      "Df Residuals:         667                LLR p-value:        0.36617 \n",
      "Converged:            1.0000             Scale:              1.0000  \n",
      "No. Iterations:       8.0000                                         \n",
      "---------------------------------------------------------------------\n",
      "                      Coef.  Std.Err.    z     P>|z|   [0.025  0.975]\n",
      "---------------------------------------------------------------------\n",
      "const                -2.7782   0.1700 -16.3395 0.0000 -3.1115 -2.4450\n",
      "total_liabilities_mt -0.0000   0.0000  -0.6592 0.5097 -0.0000  0.0000\n",
      "=====================================================================\n",
      "\n",
      "                           Results: Logit\n",
      "=====================================================================\n",
      "Model:                Logit              Pseudo R-squared:   0.014   \n",
      "Dependent Variable:   default            AIC:                291.6263\n",
      "Date:                 2021-01-02 15:08   BIC:                300.6379\n",
      "No. Observations:     669                Log-Likelihood:     -143.81 \n",
      "Df Model:             1                  LL-Null:            -145.89 \n",
      "Df Residuals:         667                LLR p-value:        0.041482\n",
      "Converged:            1.0000             Scale:              1.0000  \n",
      "No. Iterations:       11.0000                                        \n",
      "---------------------------------------------------------------------\n",
      "                      Coef.  Std.Err.    z     P>|z|   [0.025  0.975]\n",
      "---------------------------------------------------------------------\n",
      "const                -2.7020   0.1737 -15.5584 0.0000 -3.0424 -2.3616\n",
      "total_liabilities_lt -0.0000   0.0000  -1.1271 0.2597 -0.0000  0.0000\n",
      "=====================================================================\n",
      "\n"
     ]
    },
    {
     "name": "stdout",
     "output_type": "stream",
     "text": [
      "                           Results: Logit\n",
      "====================================================================\n",
      "Model:                 Logit             Pseudo R-squared:  0.001   \n",
      "Dependent Variable:    default           AIC:               178.8387\n",
      "Date:                  2021-01-02 15:08  BIC:               186.3565\n",
      "No. Observations:      317               Log-Likelihood:    -87.419 \n",
      "Df Model:              1                 LL-Null:           -87.488 \n",
      "Df Residuals:          315               LLR p-value:       0.71124 \n",
      "Converged:             1.0000            Scale:             1.0000  \n",
      "No. Iterations:        6.0000                                       \n",
      "--------------------------------------------------------------------\n",
      "                     Coef.  Std.Err.    z     P>|z|   [0.025  0.975]\n",
      "--------------------------------------------------------------------\n",
      "const               -2.4872   0.2243 -11.0902 0.0000 -2.9268 -2.0477\n",
      "bank_liabilities_st  0.0000   0.0000   0.3837 0.7012 -0.0000  0.0000\n",
      "====================================================================\n",
      "\n",
      "                          Results: Logit\n",
      "===================================================================\n",
      "Model:                 Logit             Pseudo R-squared:  0.022  \n",
      "Dependent Variable:    default           AIC:               91.0087\n",
      "Date:                  2021-01-02 15:08  BIC:               97.4602\n",
      "No. Observations:      186               Log-Likelihood:    -43.504\n",
      "Df Model:              1                 LL-Null:           -44.494\n",
      "Df Residuals:          184               LLR p-value:       0.15939\n",
      "Converged:             1.0000            Scale:             1.0000 \n",
      "No. Iterations:        10.0000                                     \n",
      "-------------------------------------------------------------------\n",
      "                     Coef.  Std.Err.    z    P>|z|   [0.025  0.975]\n",
      "-------------------------------------------------------------------\n",
      "const               -2.4918   0.3255 -7.6559 0.0000 -3.1298 -1.8539\n",
      "bank_liabilities_mt -0.0000   0.0000 -0.7730 0.4395 -0.0000  0.0000\n",
      "===================================================================\n",
      "\n",
      "                          Results: Logit\n",
      "===================================================================\n",
      "Model:                Logit             Pseudo R-squared:  0.090   \n",
      "Dependent Variable:   default           AIC:               53.0093 \n",
      "Date:                 2021-01-02 15:08  BIC:               58.6498 \n",
      "No. Observations:     124               Log-Likelihood:    -24.505 \n",
      "Df Model:             1                 LL-Null:           -26.919 \n",
      "Df Residuals:         122               LLR p-value:       0.027983\n",
      "Converged:            1.0000            Scale:             1.0000  \n",
      "No. Iterations:       13.0000                                      \n",
      "-------------------------------------------------------------------\n",
      "                     Coef.  Std.Err.    z    P>|z|   [0.025  0.975]\n",
      "-------------------------------------------------------------------\n",
      "const               -2.1813   0.4645 -4.6964 0.0000 -3.0917 -1.2710\n",
      "bank_liabilities_lt -0.0000   0.0000 -1.1625 0.2450 -0.0000  0.0000\n",
      "===================================================================\n",
      "\n",
      "                          Results: Logit\n",
      "==================================================================\n",
      "Model:               Logit             Pseudo R-squared:  0.000   \n",
      "Dependent Variable:  default           AIC:               228.4551\n",
      "Date:                2021-01-02 15:08  BIC:               236.9857\n",
      "No. Observations:    526               Log-Likelihood:    -112.23 \n",
      "Df Model:            1                 LL-Null:           -112.23 \n",
      "Df Residuals:        524               LLR p-value:       0.99070 \n",
      "Converged:           1.0000            Scale:             1.0000  \n",
      "No. Iterations:      7.0000                                       \n",
      "------------------------------------------------------------------\n",
      "                   Coef.  Std.Err.    z     P>|z|   [0.025  0.975]\n",
      "------------------------------------------------------------------\n",
      "const             -2.8412   0.1914 -14.8427 0.0000 -3.2163 -2.4660\n",
      "trade_payables_st -0.0000   0.0000  -0.0116 0.9908 -0.0000  0.0000\n",
      "==================================================================\n",
      "\n",
      "                         Results: Logit\n",
      "=================================================================\n",
      "Model:               Logit             Pseudo R-squared:  0.012  \n",
      "Dependent Variable:  default           AIC:               17.0502\n",
      "Date:                2021-01-02 15:08  BIC:               19.1392\n",
      "No. Observations:    21                Log-Likelihood:    -6.5251\n",
      "Df Model:            1                 LL-Null:           -6.6043\n",
      "Df Residuals:        19                LLR p-value:       0.69054\n",
      "Converged:           1.0000            Scale:             1.0000 \n",
      "No. Iterations:      8.0000                                      \n",
      "-----------------------------------------------------------------\n",
      "                   Coef.  Std.Err.    z    P>|z|   [0.025  0.975]\n",
      "-----------------------------------------------------------------\n",
      "const             -2.0887   0.8542 -2.4451 0.0145 -3.7629 -0.4144\n",
      "trade_payables_mt -0.0000   0.0000 -0.2946 0.7683 -0.0000  0.0000\n",
      "=================================================================\n",
      "\n",
      "                         Results: Logit\n",
      "================================================================\n",
      "Model:                Logit            Pseudo R-squared: 0.050  \n",
      "Dependent Variable:   default          AIC:              8.7563 \n",
      "Date:                 2021-01-02 15:08 BIC:              7.9751 \n",
      "No. Observations:     5                Log-Likelihood:   -2.3781\n",
      "Df Model:             1                LL-Null:          -2.5020\n",
      "Df Residuals:         3                LLR p-value:      0.61866\n",
      "Converged:            1.0000           Scale:            1.0000 \n",
      "No. Iterations:       7.0000                                    \n",
      "----------------------------------------------------------------\n",
      "                   Coef.  Std.Err.    z    P>|z|   [0.025 0.975]\n",
      "----------------------------------------------------------------\n",
      "const             -1.1137   1.2027 -0.9260 0.3545 -3.4710 1.2436\n",
      "bonds_payables_mt -0.0000   0.0000 -0.3859 0.6996 -0.0000 0.0000\n",
      "================================================================\n",
      "\n",
      "                         Results: Logit\n",
      "================================================================\n",
      "Model:              Logit            Pseudo R-squared: 0.028    \n",
      "Dependent Variable: default          AIC:              257.4054 \n",
      "Date:               2021-01-02 15:08 BIC:              266.3532 \n",
      "No. Observations:   648              Log-Likelihood:   -126.70  \n",
      "Df Model:           1                LL-Null:          -130.40  \n",
      "Df Residuals:       646              LLR p-value:      0.0065512\n",
      "Converged:          1.0000           Scale:            1.0000   \n",
      "No. Iterations:     12.0000                                     \n",
      "----------------------------------------------------------------\n",
      "                 Coef.  Std.Err.    z     P>|z|   [0.025  0.975]\n",
      "----------------------------------------------------------------\n",
      "const           -2.6973   0.1931 -13.9649 0.0000 -3.0758 -2.3187\n",
      "total_equity    -0.0000   0.0000  -1.5998 0.1096 -0.0000  0.0000\n",
      "================================================================\n",
      "\n",
      "                        Results: Logit\n",
      "===============================================================\n",
      "Model:              Logit            Pseudo R-squared: 0.001   \n",
      "Dependent Variable: default          AIC:              295.2586\n",
      "Date:               2021-01-02 15:08 BIC:              304.2672\n",
      "No. Observations:   668              Log-Likelihood:   -145.63 \n",
      "Df Model:           1                LL-Null:          -145.83 \n",
      "Df Residuals:       666              LLR p-value:      0.52355 \n",
      "Converged:          1.0000           Scale:            1.0000  \n",
      "No. Iterations:     8.0000                                     \n",
      "---------------------------------------------------------------\n",
      "                Coef.  Std.Err.    z     P>|z|   [0.025  0.975]\n",
      "---------------------------------------------------------------\n",
      "const          -2.7837   0.1720 -16.1855 0.0000 -3.1208 -2.4466\n",
      "current_assets -0.0000   0.0000  -0.4684 0.6395 -0.0000  0.0000\n",
      "===============================================================\n",
      "\n",
      "                             Results: Logit\n",
      "========================================================================\n",
      "Model:                 Logit               Pseudo R-squared:    0.002   \n",
      "Dependent Variable:    default             AIC:                 295.1343\n",
      "Date:                  2021-01-02 15:08    BIC:                 304.1458\n",
      "No. Observations:      669                 Log-Likelihood:      -145.57 \n",
      "Df Model:              1                   LL-Null:             -145.89 \n",
      "Df Residuals:          667                 LLR p-value:         0.42074 \n",
      "Converged:             1.0000              Scale:               1.0000  \n",
      "No. Iterations:        9.0000                                           \n",
      "------------------------------------------------------------------------\n",
      "                         Coef.  Std.Err.    z     P>|z|   [0.025  0.975]\n",
      "------------------------------------------------------------------------\n",
      "const                   -2.7767   0.1733 -16.0208 0.0000 -3.1164 -2.4370\n",
      "monetary_current_assets -0.0000   0.0000  -0.5308 0.5956 -0.0000  0.0000\n",
      "========================================================================\n",
      "\n"
     ]
    },
    {
     "name": "stdout",
     "output_type": "stream",
     "text": [
      "                         Results: Logit\n",
      "=================================================================\n",
      "Model:              Logit            Pseudo R-squared: 0.058     \n",
      "Dependent Variable: default          AIC:              264.7221  \n",
      "Date:               2021-01-02 15:08 BIC:              273.6356  \n",
      "No. Observations:   637              Log-Likelihood:   -130.36   \n",
      "Df Model:           1                LL-Null:          -138.40   \n",
      "Df Residuals:       635              LLR p-value:      6.0787e-05\n",
      "Converged:          1.0000           Scale:            1.0000    \n",
      "No. Iterations:     12.0000                                      \n",
      "-------------------------------------------------------------------\n",
      "          Coef.    Std.Err.      z       P>|z|     [0.025    0.975]\n",
      "-------------------------------------------------------------------\n",
      "const    -2.4119     0.1926   -12.5247   0.0000   -2.7893   -2.0344\n",
      "cash     -0.0000     0.0000    -2.0864   0.0369   -0.0000   -0.0000\n",
      "=================================================================\n",
      "\n",
      "                           Results: Logit\n",
      "=====================================================================\n",
      "Model:                Logit              Pseudo R-squared:   0.002   \n",
      "Dependent Variable:   default            AIC:                118.2358\n",
      "Date:                 2021-01-02 15:08   BIC:                125.7346\n",
      "No. Observations:     314                Log-Likelihood:     -57.118 \n",
      "Df Model:             1                  LL-Null:            -57.228 \n",
      "Df Residuals:         312                LLR p-value:        0.63913 \n",
      "Converged:            1.0000             Scale:              1.0000  \n",
      "No. Iterations:       10.0000                                        \n",
      "---------------------------------------------------------------------\n",
      "                      Coef.  Std.Err.    z     P>|z|   [0.025  0.975]\n",
      "---------------------------------------------------------------------\n",
      "const                -3.0359   0.2836 -10.7059 0.0000 -3.5917 -2.4801\n",
      "trade_receivables_st -0.0000   0.0000  -0.2782 0.7808 -0.0000  0.0000\n",
      "=====================================================================\n",
      "\n",
      "                        Results: Logit\n",
      "===============================================================\n",
      "Model:              Logit            Pseudo R-squared: 0.005   \n",
      "Dependent Variable: default          AIC:              294.1402\n",
      "Date:               2021-01-02 15:08 BIC:              303.1488\n",
      "No. Observations:   668              Log-Likelihood:   -145.07 \n",
      "Df Model:           1                LL-Null:          -145.83 \n",
      "Df Residuals:       666              LLR p-value:      0.21683 \n",
      "Converged:          1.0000           Scale:            1.0000  \n",
      "No. Iterations:     7.0000                                     \n",
      "---------------------------------------------------------------\n",
      "                Coef.  Std.Err.    z     P>|z|   [0.025  0.975]\n",
      "---------------------------------------------------------------\n",
      "const          -2.7851   0.1674 -16.6414 0.0000 -3.1131 -2.4571\n",
      "cf_operating   -0.0000   0.0000  -1.1682 0.2427 -0.0000  0.0000\n",
      "===============================================================\n",
      "\n",
      "                        Results: Logit\n",
      "===============================================================\n",
      "Model:              Logit            Pseudo R-squared: 0.004   \n",
      "Dependent Variable: default          AIC:              294.4077\n",
      "Date:               2021-01-02 15:08 BIC:              303.4163\n",
      "No. Observations:   668              Log-Likelihood:   -145.20 \n",
      "Df Model:           1                LL-Null:          -145.83 \n",
      "Df Residuals:       666              LLR p-value:      0.26207 \n",
      "Converged:          1.0000           Scale:            1.0000  \n",
      "No. Iterations:     8.0000                                     \n",
      "---------------------------------------------------------------\n",
      "                Coef.  Std.Err.    z     P>|z|   [0.025  0.975]\n",
      "---------------------------------------------------------------\n",
      "const          -2.7865   0.1674 -16.6479 0.0000 -3.1145 -2.4584\n",
      "cf_investment   0.0000   0.0000   0.9773 0.3284 -0.0000  0.0000\n",
      "===============================================================\n",
      "\n",
      "                        Results: Logit\n",
      "===============================================================\n",
      "Model:              Logit            Pseudo R-squared: 0.000   \n",
      "Dependent Variable: default          AIC:              295.6655\n",
      "Date:               2021-01-02 15:08 BIC:              304.6741\n",
      "No. Observations:   668              Log-Likelihood:   -145.83 \n",
      "Df Model:           1                LL-Null:          -145.83 \n",
      "Df Residuals:       666              LLR p-value:      0.99952 \n",
      "Converged:          1.0000           Scale:            1.0000  \n",
      "No. Iterations:     7.0000                                     \n",
      "---------------------------------------------------------------\n",
      "                Coef.  Std.Err.    z     P>|z|   [0.025  0.975]\n",
      "---------------------------------------------------------------\n",
      "const          -2.8081   0.1670 -16.8108 0.0000 -3.1355 -2.4807\n",
      "cf_financing   -0.0000   0.0000  -0.0006 0.9995 -0.0000  0.0000\n",
      "===============================================================\n",
      "\n",
      "                        Results: Logit\n",
      "===============================================================\n",
      "Model:              Logit            Pseudo R-squared: 0.000   \n",
      "Dependent Variable: default          AIC:              295.6596\n",
      "Date:               2021-01-02 15:08 BIC:              304.6712\n",
      "No. Observations:   669              Log-Likelihood:   -145.83 \n",
      "Df Model:           1                LL-Null:          -145.89 \n",
      "Df Residuals:       667              LLR p-value:      0.72592 \n",
      "Converged:          1.0000           Scale:            1.0000  \n",
      "No. Iterations:     7.0000                                     \n",
      "----------------------------------------------------------------\n",
      "            Coef.   Std.Err.     z      P>|z|    [0.025   0.975]\n",
      "----------------------------------------------------------------\n",
      "const      -2.8782    0.2572  -11.1898  0.0000  -3.3823  -2.3740\n",
      "age_num     0.0019    0.0054    0.3576  0.7206  -0.0087   0.0126\n",
      "===============================================================\n",
      "\n",
      "                        Results: Logit\n",
      "===============================================================\n",
      "Model:              Logit            Pseudo R-squared: 0.006   \n",
      "Dependent Variable: default          AIC:              293.9493\n",
      "Date:               2021-01-02 15:08 BIC:              302.9609\n",
      "No. Observations:   669              Log-Likelihood:   -144.97 \n",
      "Df Model:           1                LL-Null:          -145.89 \n",
      "Df Residuals:       667              LLR p-value:      0.17575 \n",
      "Converged:          1.0000           Scale:            1.0000  \n",
      "No. Iterations:     7.0000                                     \n",
      "----------------------------------------------------------------\n",
      "             Coef.   Std.Err.     z     P>|z|    [0.025   0.975]\n",
      "----------------------------------------------------------------\n",
      "const       -4.3751    1.1807  -3.7056  0.0002  -6.6892  -2.0611\n",
      "age_cat      0.4546    0.3346   1.3587  0.1742  -0.2012   1.1103\n",
      "===============================================================\n",
      "\n"
     ]
    }
   ],
   "source": [
    "col_list = df_train.columns[2:]\n",
    "col_list\n",
    "dictionary_logit = dict()\n",
    "\n",
    "for i in range(0,len(col_list)):\n",
    "    try:\n",
    "        univ_var = pd.concat((df_train['default'],df_train[col_list[i]]),axis=1)\n",
    "        y = univ_var[\"default\"]\n",
    "        X = univ_var.iloc[:,1]\n",
    "        X = sm.add_constant(X)\n",
    "        model = sm.Logit(y,X,missing=\"drop\").fit(disp=False,maxiter=100)\n",
    "        print(model.summary2()) #comment that out if you don't want to see the regression summary\n",
    "        pvalue = model.pvalues[1]\n",
    "        dictionary_logit[col_list[i]] = (pvalue,univ_var.iloc[:,1].isnull().sum())\n",
    "    except:\n",
    "        continue"
   ]
  },
  {
   "cell_type": "code",
   "execution_count": 21,
   "metadata": {
    "ExecuteTime": {
     "end_time": "2021-01-02T14:08:29.650916Z",
     "start_time": "2021-01-02T14:08:29.630462Z"
    }
   },
   "outputs": [
    {
     "data": {
      "text/html": [
       "<div>\n",
       "<style scoped>\n",
       "    .dataframe tbody tr th:only-of-type {\n",
       "        vertical-align: middle;\n",
       "    }\n",
       "\n",
       "    .dataframe tbody tr th {\n",
       "        vertical-align: top;\n",
       "    }\n",
       "\n",
       "    .dataframe thead th {\n",
       "        text-align: right;\n",
       "    }\n",
       "</style>\n",
       "<table border=\"1\" class=\"dataframe\">\n",
       "  <thead>\n",
       "    <tr style=\"text-align: right;\">\n",
       "      <th></th>\n",
       "      <th>P-Value</th>\n",
       "      <th>NAs</th>\n",
       "    </tr>\n",
       "  </thead>\n",
       "  <tbody>\n",
       "    <tr>\n",
       "      <th>cash</th>\n",
       "      <td>0.036941</td>\n",
       "      <td>32</td>\n",
       "    </tr>\n",
       "    <tr>\n",
       "      <th>year_inc</th>\n",
       "      <td>0.055606</td>\n",
       "      <td>0</td>\n",
       "    </tr>\n",
       "    <tr>\n",
       "      <th>total_equity</th>\n",
       "      <td>0.109640</td>\n",
       "      <td>21</td>\n",
       "    </tr>\n",
       "    <tr>\n",
       "      <th>gross_profit</th>\n",
       "      <td>0.153112</td>\n",
       "      <td>7</td>\n",
       "    </tr>\n",
       "    <tr>\n",
       "      <th>age_cat</th>\n",
       "      <td>0.174240</td>\n",
       "      <td>0</td>\n",
       "    </tr>\n",
       "    <tr>\n",
       "      <th>cf_operating</th>\n",
       "      <td>0.242710</td>\n",
       "      <td>1</td>\n",
       "    </tr>\n",
       "    <tr>\n",
       "      <th>bank_liabilities_lt</th>\n",
       "      <td>0.245019</td>\n",
       "      <td>545</td>\n",
       "    </tr>\n",
       "    <tr>\n",
       "      <th>zip_code</th>\n",
       "      <td>0.254582</td>\n",
       "      <td>0</td>\n",
       "    </tr>\n",
       "    <tr>\n",
       "      <th>total_liabilities_lt</th>\n",
       "      <td>0.259686</td>\n",
       "      <td>0</td>\n",
       "    </tr>\n",
       "    <tr>\n",
       "      <th>cf_investment</th>\n",
       "      <td>0.328421</td>\n",
       "      <td>1</td>\n",
       "    </tr>\n",
       "    <tr>\n",
       "      <th>total_assets</th>\n",
       "      <td>0.366245</td>\n",
       "      <td>1</td>\n",
       "    </tr>\n",
       "    <tr>\n",
       "      <th>result_from_ord_bus</th>\n",
       "      <td>0.421172</td>\n",
       "      <td>1</td>\n",
       "    </tr>\n",
       "    <tr>\n",
       "      <th>total_result</th>\n",
       "      <td>0.438376</td>\n",
       "      <td>0</td>\n",
       "    </tr>\n",
       "    <tr>\n",
       "      <th>bank_liabilities_mt</th>\n",
       "      <td>0.439548</td>\n",
       "      <td>483</td>\n",
       "    </tr>\n",
       "    <tr>\n",
       "      <th>oth_interest_exp</th>\n",
       "      <td>0.453637</td>\n",
       "      <td>62</td>\n",
       "    </tr>\n",
       "    <tr>\n",
       "      <th>earn_from_op</th>\n",
       "      <td>0.486441</td>\n",
       "      <td>1</td>\n",
       "    </tr>\n",
       "    <tr>\n",
       "      <th>total_liabilities_mt</th>\n",
       "      <td>0.509736</td>\n",
       "      <td>0</td>\n",
       "    </tr>\n",
       "    <tr>\n",
       "      <th>sales</th>\n",
       "      <td>0.511471</td>\n",
       "      <td>1</td>\n",
       "    </tr>\n",
       "    <tr>\n",
       "      <th>gross_performance</th>\n",
       "      <td>0.580383</td>\n",
       "      <td>7</td>\n",
       "    </tr>\n",
       "    <tr>\n",
       "      <th>monetary_current_assets</th>\n",
       "      <td>0.595561</td>\n",
       "      <td>0</td>\n",
       "    </tr>\n",
       "    <tr>\n",
       "      <th>annual_profit</th>\n",
       "      <td>0.602697</td>\n",
       "      <td>1</td>\n",
       "    </tr>\n",
       "    <tr>\n",
       "      <th>oth_interest_inc</th>\n",
       "      <td>0.621381</td>\n",
       "      <td>127</td>\n",
       "    </tr>\n",
       "    <tr>\n",
       "      <th>total_liabilities_st</th>\n",
       "      <td>0.633830</td>\n",
       "      <td>0</td>\n",
       "    </tr>\n",
       "    <tr>\n",
       "      <th>current_assets</th>\n",
       "      <td>0.639518</td>\n",
       "      <td>1</td>\n",
       "    </tr>\n",
       "    <tr>\n",
       "      <th>bonds_payables_mt</th>\n",
       "      <td>0.699565</td>\n",
       "      <td>664</td>\n",
       "    </tr>\n",
       "    <tr>\n",
       "      <th>bank_liabilities_st</th>\n",
       "      <td>0.701179</td>\n",
       "      <td>352</td>\n",
       "    </tr>\n",
       "    <tr>\n",
       "      <th>age_num</th>\n",
       "      <td>0.720622</td>\n",
       "      <td>0</td>\n",
       "    </tr>\n",
       "    <tr>\n",
       "      <th>fin_result</th>\n",
       "      <td>0.736363</td>\n",
       "      <td>22</td>\n",
       "    </tr>\n",
       "    <tr>\n",
       "      <th>trade_payables_mt</th>\n",
       "      <td>0.768325</td>\n",
       "      <td>648</td>\n",
       "    </tr>\n",
       "    <tr>\n",
       "      <th>trade_receivables_st</th>\n",
       "      <td>0.780828</td>\n",
       "      <td>355</td>\n",
       "    </tr>\n",
       "    <tr>\n",
       "      <th>sector</th>\n",
       "      <td>0.831781</td>\n",
       "      <td>0</td>\n",
       "    </tr>\n",
       "    <tr>\n",
       "      <th>count_emp</th>\n",
       "      <td>0.905279</td>\n",
       "      <td>353</td>\n",
       "    </tr>\n",
       "    <tr>\n",
       "      <th>trade_payables_st</th>\n",
       "      <td>0.990767</td>\n",
       "      <td>143</td>\n",
       "    </tr>\n",
       "    <tr>\n",
       "      <th>cf_financing</th>\n",
       "      <td>0.999522</td>\n",
       "      <td>1</td>\n",
       "    </tr>\n",
       "  </tbody>\n",
       "</table>\n",
       "</div>"
      ],
      "text/plain": [
       "                          P-Value  NAs\n",
       "cash                     0.036941   32\n",
       "year_inc                 0.055606    0\n",
       "total_equity             0.109640   21\n",
       "gross_profit             0.153112    7\n",
       "age_cat                  0.174240    0\n",
       "cf_operating             0.242710    1\n",
       "bank_liabilities_lt      0.245019  545\n",
       "zip_code                 0.254582    0\n",
       "total_liabilities_lt     0.259686    0\n",
       "cf_investment            0.328421    1\n",
       "total_assets             0.366245    1\n",
       "result_from_ord_bus      0.421172    1\n",
       "total_result             0.438376    0\n",
       "bank_liabilities_mt      0.439548  483\n",
       "oth_interest_exp         0.453637   62\n",
       "earn_from_op             0.486441    1\n",
       "total_liabilities_mt     0.509736    0\n",
       "sales                    0.511471    1\n",
       "gross_performance        0.580383    7\n",
       "monetary_current_assets  0.595561    0\n",
       "annual_profit            0.602697    1\n",
       "oth_interest_inc         0.621381  127\n",
       "total_liabilities_st     0.633830    0\n",
       "current_assets           0.639518    1\n",
       "bonds_payables_mt        0.699565  664\n",
       "bank_liabilities_st      0.701179  352\n",
       "age_num                  0.720622    0\n",
       "fin_result               0.736363   22\n",
       "trade_payables_mt        0.768325  648\n",
       "trade_receivables_st     0.780828  355\n",
       "sector                   0.831781    0\n",
       "count_emp                0.905279  353\n",
       "trade_payables_st        0.990767  143\n",
       "cf_financing             0.999522    1"
      ]
     },
     "execution_count": 21,
     "metadata": {},
     "output_type": "execute_result"
    }
   ],
   "source": [
    "pd.DataFrame.from_dict(dictionary_logit,orient=\"index\",columns=['P-Value','NAs']).sort_values(by=\"P-Value\")"
   ]
  },
  {
   "cell_type": "markdown",
   "metadata": {},
   "source": [
    "Speaking in an univariate context, what we can see here is that no variable shows a very strong significance in the univariate logistic regression with the default variable as dependent variable. Also some variables can be disregarded as their numerical value makes no sense (e.g.: year_inc).  Thus we can argue, that a focus on economic reasoning instead of p-values in the univariate context is a better way to go. "
   ]
  },
  {
   "cell_type": "markdown",
   "metadata": {},
   "source": [
    "### Mann-Whitney U Test\n",
    "Also we perform a Mann-Whitney U Test for all variables to see if there is a difference in those variables between default and non default firms."
   ]
  },
  {
   "cell_type": "code",
   "execution_count": 22,
   "metadata": {
    "ExecuteTime": {
     "end_time": "2021-01-02T14:08:31.326255Z",
     "start_time": "2021-01-02T14:08:31.053432Z"
    }
   },
   "outputs": [],
   "source": [
    "col_list\n",
    "\n",
    "dictionary_mannu = dict()\n",
    "\n",
    "for i in range(0,len(col_list)):\n",
    "    try: \n",
    "        group_default = df_train[df_train[\"default\"]==1][col_list[i]]\n",
    "        group_non_default = df_train[df_train[\"default\"]==0][col_list[i]]\n",
    "        test_stat, pvalue = sci.stats.mannwhitneyu(group_default,group_non_default)\n",
    "        dictionary_mannu[col_list[i]] = test_stat, pvalue, df_train[col_list[i]].isnull().sum()\n",
    "    except:\n",
    "        continue\n",
    "\n",
    "#sns.boxplot(x=\"default\",y=np.log(df_train[col_list[6]]),data=df_train)"
   ]
  },
  {
   "cell_type": "code",
   "execution_count": 23,
   "metadata": {
    "ExecuteTime": {
     "end_time": "2021-01-02T14:08:31.850798Z",
     "start_time": "2021-01-02T14:08:31.833387Z"
    }
   },
   "outputs": [
    {
     "data": {
      "text/html": [
       "<div>\n",
       "<style scoped>\n",
       "    .dataframe tbody tr th:only-of-type {\n",
       "        vertical-align: middle;\n",
       "    }\n",
       "\n",
       "    .dataframe tbody tr th {\n",
       "        vertical-align: top;\n",
       "    }\n",
       "\n",
       "    .dataframe thead th {\n",
       "        text-align: right;\n",
       "    }\n",
       "</style>\n",
       "<table border=\"1\" class=\"dataframe\">\n",
       "  <thead>\n",
       "    <tr style=\"text-align: right;\">\n",
       "      <th></th>\n",
       "      <th>Test statistic</th>\n",
       "      <th>P-Value</th>\n",
       "      <th>NAs</th>\n",
       "    </tr>\n",
       "  </thead>\n",
       "  <tbody>\n",
       "    <tr>\n",
       "      <th>cash</th>\n",
       "      <td>7716.0</td>\n",
       "      <td>0.000111</td>\n",
       "      <td>32</td>\n",
       "    </tr>\n",
       "    <tr>\n",
       "      <th>trade_receivables_lt</th>\n",
       "      <td>8339.0</td>\n",
       "      <td>0.000805</td>\n",
       "      <td>645</td>\n",
       "    </tr>\n",
       "    <tr>\n",
       "      <th>trade_payables_lt</th>\n",
       "      <td>8430.0</td>\n",
       "      <td>0.001051</td>\n",
       "      <td>665</td>\n",
       "    </tr>\n",
       "    <tr>\n",
       "      <th>bonds_payables_st</th>\n",
       "      <td>8471.0</td>\n",
       "      <td>0.001183</td>\n",
       "      <td>669</td>\n",
       "    </tr>\n",
       "    <tr>\n",
       "      <th>bonds_payables_lt</th>\n",
       "      <td>8471.0</td>\n",
       "      <td>0.001183</td>\n",
       "      <td>669</td>\n",
       "    </tr>\n",
       "    <tr>\n",
       "      <th>monetary_current_assets</th>\n",
       "      <td>8712.0</td>\n",
       "      <td>0.002315</td>\n",
       "      <td>0</td>\n",
       "    </tr>\n",
       "    <tr>\n",
       "      <th>bonds_payables_mt</th>\n",
       "      <td>8855.0</td>\n",
       "      <td>0.003383</td>\n",
       "      <td>664</td>\n",
       "    </tr>\n",
       "    <tr>\n",
       "      <th>result_from_ord_bus</th>\n",
       "      <td>8910.0</td>\n",
       "      <td>0.003900</td>\n",
       "      <td>1</td>\n",
       "    </tr>\n",
       "    <tr>\n",
       "      <th>total_result</th>\n",
       "      <td>8993.0</td>\n",
       "      <td>0.004814</td>\n",
       "      <td>0</td>\n",
       "    </tr>\n",
       "    <tr>\n",
       "      <th>trade_payables_mt</th>\n",
       "      <td>9057.0</td>\n",
       "      <td>0.005645</td>\n",
       "      <td>648</td>\n",
       "    </tr>\n",
       "    <tr>\n",
       "      <th>cf_operating</th>\n",
       "      <td>9114.0</td>\n",
       "      <td>0.006490</td>\n",
       "      <td>1</td>\n",
       "    </tr>\n",
       "    <tr>\n",
       "      <th>bank_liabilities_st</th>\n",
       "      <td>9128.0</td>\n",
       "      <td>0.006714</td>\n",
       "      <td>352</td>\n",
       "    </tr>\n",
       "    <tr>\n",
       "      <th>sales</th>\n",
       "      <td>9176.0</td>\n",
       "      <td>0.007534</td>\n",
       "      <td>1</td>\n",
       "    </tr>\n",
       "    <tr>\n",
       "      <th>gross_performance</th>\n",
       "      <td>9239.0</td>\n",
       "      <td>0.008744</td>\n",
       "      <td>7</td>\n",
       "    </tr>\n",
       "    <tr>\n",
       "      <th>gross_profit</th>\n",
       "      <td>9247.0</td>\n",
       "      <td>0.008909</td>\n",
       "      <td>7</td>\n",
       "    </tr>\n",
       "    <tr>\n",
       "      <th>total_assets</th>\n",
       "      <td>9396.0</td>\n",
       "      <td>0.012526</td>\n",
       "      <td>1</td>\n",
       "    </tr>\n",
       "    <tr>\n",
       "      <th>earn_from_op</th>\n",
       "      <td>9443.0</td>\n",
       "      <td>0.013904</td>\n",
       "      <td>1</td>\n",
       "    </tr>\n",
       "    <tr>\n",
       "      <th>total_equity</th>\n",
       "      <td>9483.0</td>\n",
       "      <td>0.015177</td>\n",
       "      <td>21</td>\n",
       "    </tr>\n",
       "    <tr>\n",
       "      <th>current_assets</th>\n",
       "      <td>9640.0</td>\n",
       "      <td>0.021192</td>\n",
       "      <td>1</td>\n",
       "    </tr>\n",
       "    <tr>\n",
       "      <th>cf_financing</th>\n",
       "      <td>9788.5</td>\n",
       "      <td>0.028624</td>\n",
       "      <td>1</td>\n",
       "    </tr>\n",
       "    <tr>\n",
       "      <th>count_emp</th>\n",
       "      <td>10015.5</td>\n",
       "      <td>0.044079</td>\n",
       "      <td>353</td>\n",
       "    </tr>\n",
       "    <tr>\n",
       "      <th>bank_liabilities_lt</th>\n",
       "      <td>10153.0</td>\n",
       "      <td>0.056329</td>\n",
       "      <td>545</td>\n",
       "    </tr>\n",
       "    <tr>\n",
       "      <th>cf_investment</th>\n",
       "      <td>10163.0</td>\n",
       "      <td>0.057288</td>\n",
       "      <td>1</td>\n",
       "    </tr>\n",
       "    <tr>\n",
       "      <th>annual_profit</th>\n",
       "      <td>10207.0</td>\n",
       "      <td>0.061813</td>\n",
       "      <td>1</td>\n",
       "    </tr>\n",
       "    <tr>\n",
       "      <th>legal_form</th>\n",
       "      <td>10606.5</td>\n",
       "      <td>0.064015</td>\n",
       "      <td>0</td>\n",
       "    </tr>\n",
       "    <tr>\n",
       "      <th>age_cat</th>\n",
       "      <td>10649.5</td>\n",
       "      <td>0.085815</td>\n",
       "      <td>0</td>\n",
       "    </tr>\n",
       "    <tr>\n",
       "      <th>total_liabilities_mt</th>\n",
       "      <td>10565.5</td>\n",
       "      <td>0.096754</td>\n",
       "      <td>0</td>\n",
       "    </tr>\n",
       "    <tr>\n",
       "      <th>total_liabilities_st</th>\n",
       "      <td>10511.0</td>\n",
       "      <td>0.100810</td>\n",
       "      <td>0</td>\n",
       "    </tr>\n",
       "    <tr>\n",
       "      <th>total_liabilities_lt</th>\n",
       "      <td>10899.0</td>\n",
       "      <td>0.147415</td>\n",
       "      <td>0</td>\n",
       "    </tr>\n",
       "    <tr>\n",
       "      <th>zip_code</th>\n",
       "      <td>10802.5</td>\n",
       "      <td>0.152677</td>\n",
       "      <td>0</td>\n",
       "    </tr>\n",
       "    <tr>\n",
       "      <th>trade_receivables_st</th>\n",
       "      <td>10885.0</td>\n",
       "      <td>0.170114</td>\n",
       "      <td>355</td>\n",
       "    </tr>\n",
       "    <tr>\n",
       "      <th>age_quartile</th>\n",
       "      <td>11215.0</td>\n",
       "      <td>0.250742</td>\n",
       "      <td>0</td>\n",
       "    </tr>\n",
       "    <tr>\n",
       "      <th>year_inc</th>\n",
       "      <td>11230.0</td>\n",
       "      <td>0.255962</td>\n",
       "      <td>0</td>\n",
       "    </tr>\n",
       "    <tr>\n",
       "      <th>age_num</th>\n",
       "      <td>11232.5</td>\n",
       "      <td>0.256658</td>\n",
       "      <td>0</td>\n",
       "    </tr>\n",
       "    <tr>\n",
       "      <th>type_pl</th>\n",
       "      <td>11875.0</td>\n",
       "      <td>0.274012</td>\n",
       "      <td>0</td>\n",
       "    </tr>\n",
       "    <tr>\n",
       "      <th>fin_result</th>\n",
       "      <td>11339.0</td>\n",
       "      <td>0.287283</td>\n",
       "      <td>22</td>\n",
       "    </tr>\n",
       "    <tr>\n",
       "      <th>bank_liabilities_mt</th>\n",
       "      <td>11556.0</td>\n",
       "      <td>0.354279</td>\n",
       "      <td>483</td>\n",
       "    </tr>\n",
       "    <tr>\n",
       "      <th>oth_interest_exp</th>\n",
       "      <td>11594.0</td>\n",
       "      <td>0.366570</td>\n",
       "      <td>62</td>\n",
       "    </tr>\n",
       "    <tr>\n",
       "      <th>oth_interest_inc</th>\n",
       "      <td>11622.0</td>\n",
       "      <td>0.375716</td>\n",
       "      <td>127</td>\n",
       "    </tr>\n",
       "    <tr>\n",
       "      <th>trade_payables_st</th>\n",
       "      <td>11748.0</td>\n",
       "      <td>0.417671</td>\n",
       "      <td>143</td>\n",
       "    </tr>\n",
       "    <tr>\n",
       "      <th>sector</th>\n",
       "      <td>11780.5</td>\n",
       "      <td>0.428665</td>\n",
       "      <td>0</td>\n",
       "    </tr>\n",
       "  </tbody>\n",
       "</table>\n",
       "</div>"
      ],
      "text/plain": [
       "                         Test statistic   P-Value  NAs\n",
       "cash                             7716.0  0.000111   32\n",
       "trade_receivables_lt             8339.0  0.000805  645\n",
       "trade_payables_lt                8430.0  0.001051  665\n",
       "bonds_payables_st                8471.0  0.001183  669\n",
       "bonds_payables_lt                8471.0  0.001183  669\n",
       "monetary_current_assets          8712.0  0.002315    0\n",
       "bonds_payables_mt                8855.0  0.003383  664\n",
       "result_from_ord_bus              8910.0  0.003900    1\n",
       "total_result                     8993.0  0.004814    0\n",
       "trade_payables_mt                9057.0  0.005645  648\n",
       "cf_operating                     9114.0  0.006490    1\n",
       "bank_liabilities_st              9128.0  0.006714  352\n",
       "sales                            9176.0  0.007534    1\n",
       "gross_performance                9239.0  0.008744    7\n",
       "gross_profit                     9247.0  0.008909    7\n",
       "total_assets                     9396.0  0.012526    1\n",
       "earn_from_op                     9443.0  0.013904    1\n",
       "total_equity                     9483.0  0.015177   21\n",
       "current_assets                   9640.0  0.021192    1\n",
       "cf_financing                     9788.5  0.028624    1\n",
       "count_emp                       10015.5  0.044079  353\n",
       "bank_liabilities_lt             10153.0  0.056329  545\n",
       "cf_investment                   10163.0  0.057288    1\n",
       "annual_profit                   10207.0  0.061813    1\n",
       "legal_form                      10606.5  0.064015    0\n",
       "age_cat                         10649.5  0.085815    0\n",
       "total_liabilities_mt            10565.5  0.096754    0\n",
       "total_liabilities_st            10511.0  0.100810    0\n",
       "total_liabilities_lt            10899.0  0.147415    0\n",
       "zip_code                        10802.5  0.152677    0\n",
       "trade_receivables_st            10885.0  0.170114  355\n",
       "age_quartile                    11215.0  0.250742    0\n",
       "year_inc                        11230.0  0.255962    0\n",
       "age_num                         11232.5  0.256658    0\n",
       "type_pl                         11875.0  0.274012    0\n",
       "fin_result                      11339.0  0.287283   22\n",
       "bank_liabilities_mt             11556.0  0.354279  483\n",
       "oth_interest_exp                11594.0  0.366570   62\n",
       "oth_interest_inc                11622.0  0.375716  127\n",
       "trade_payables_st               11748.0  0.417671  143\n",
       "sector                          11780.5  0.428665    0"
      ]
     },
     "execution_count": 23,
     "metadata": {},
     "output_type": "execute_result"
    }
   ],
   "source": [
    "pd.DataFrame.from_dict(dictionary_mannu,orient=\"index\",\n",
    "                       columns=['Test statistic','P-Value','NAs']).sort_values(by=\"P-Value\")"
   ]
  },
  {
   "cell_type": "markdown",
   "metadata": {},
   "source": [
    "# Variables"
   ]
  },
  {
   "cell_type": "code",
   "execution_count": 24,
   "metadata": {
    "ExecuteTime": {
     "end_time": "2021-01-02T14:08:33.786178Z",
     "start_time": "2021-01-02T14:08:33.780696Z"
    }
   },
   "outputs": [],
   "source": [
    "# # drop companies with to many null columns \n",
    "df_train = df_train.loc[df_train[\"id\"] != 'C_620'] \n",
    "# --> das ist gar nicht gut, ich brauche hier einen loop der entweder alle comps mit mehr als x Spalten NaNs dropt\n",
    "# oder loop der alle corr Spalten checkt und wenn NaN dann drop comp"
   ]
  },
  {
   "cell_type": "markdown",
   "metadata": {},
   "source": [
    "## 1. Single independent variables"
   ]
  },
  {
   "cell_type": "markdown",
   "metadata": {},
   "source": [
    "1. Ebit"
   ]
  },
  {
   "cell_type": "code",
   "execution_count": 25,
   "metadata": {
    "ExecuteTime": {
     "end_time": "2021-01-02T14:08:36.404792Z",
     "start_time": "2021-01-02T14:08:36.240293Z"
    }
   },
   "outputs": [
    {
     "data": {
      "image/png": "[encoded data removed]",
      "text/plain": [
       "<Figure size 432x288 with 1 Axes>"
      ]
     },
     "metadata": {
      "needs_background": "light"
     },
     "output_type": "display_data"
    }
   ],
   "source": [
    "df_train['ebit'] = sci.stats.mstats.winsorize(df_train['earn_from_op'], limits =[0.015, 0.015])\n",
    "#df_train['ebit'] = df_train['earn_from_op']\n",
    "plt.boxplot(df_train.ebit)\n",
    "plt.show()"
   ]
  },
  {
   "cell_type": "markdown",
   "metadata": {},
   "source": [
    "2. Profit"
   ]
  },
  {
   "cell_type": "code",
   "execution_count": 26,
   "metadata": {
    "ExecuteTime": {
     "end_time": "2021-01-02T14:08:37.611064Z",
     "start_time": "2021-01-02T14:08:37.392712Z"
    }
   },
   "outputs": [
    {
     "name": "stdout",
     "output_type": "stream",
     "text": [
      "0\n",
      "count    668.000000\n",
      "mean      14.651154\n",
      "std        2.063522\n",
      "min        5.502890\n",
      "25%       13.302821\n",
      "50%       14.547752\n",
      "75%       16.141676\n",
      "max       20.656471\n",
      "Name: profit, dtype: float64\n",
      "14.547752    6\n",
      "15.190638    1\n",
      "15.329032    1\n",
      "16.077857    1\n",
      "12.590816    1\n",
      "            ..\n",
      "16.592209    1\n",
      "14.366901    1\n",
      "14.124565    1\n",
      "15.795753    1\n",
      "17.251827    1\n",
      "Name: profit, Length: 663, dtype: int64\n"
     ]
    },
    {
     "data": {
      "image/png": "[encoded data removed]",
      "text/plain": [
       "<Figure size 432x288 with 1 Axes>"
      ]
     },
     "metadata": {
      "needs_background": "light"
     },
     "output_type": "display_data"
    }
   ],
   "source": [
    "gropro = df_train['gross_profit'].replace(np.nan, np.quantile(df_train['gross_profit'].dropna(),.5))\n",
    "df_train['profit'] = np.log(gropro)\n",
    "print(df_train['profit'].isnull().sum())\n",
    "print(df_train['profit'].describe())\n",
    "print(df_train['profit'].value_counts())\n",
    "plt.boxplot(df_train['profit']) \n",
    "plt.show()"
   ]
  },
  {
   "cell_type": "markdown",
   "metadata": {},
   "source": [
    "3. Cash"
   ]
  },
  {
   "cell_type": "code",
   "execution_count": 27,
   "metadata": {
    "ExecuteTime": {
     "end_time": "2021-01-02T14:08:38.593548Z",
     "start_time": "2021-01-02T14:08:38.406020Z"
    }
   },
   "outputs": [
    {
     "name": "stdout",
     "output_type": "stream",
     "text": [
      "0\n",
      "count    668.000000\n",
      "mean      11.711042\n",
      "std        2.895822\n",
      "min        1.128171\n",
      "25%        9.919323\n",
      "50%       11.840634\n",
      "75%       13.793730\n",
      "max       19.361787\n",
      "Name: cash, dtype: float64\n",
      "11.840634    32\n",
      "14.919227     1\n",
      "6.763446      1\n",
      "15.076077     1\n",
      "15.910902     1\n",
      "             ..\n",
      "13.137611     1\n",
      "15.266656     1\n",
      "12.598828     1\n",
      "5.768290      1\n",
      "12.068686     1\n",
      "Name: cash, Length: 637, dtype: int64\n"
     ]
    },
    {
     "data": {
      "image/png": "[encoded data removed]",
      "text/plain": [
       "<Figure size 432x288 with 1 Axes>"
      ]
     },
     "metadata": {
      "needs_background": "light"
     },
     "output_type": "display_data"
    }
   ],
   "source": [
    "df_train['cash'] = df_train['cash'].replace(np.nan, np.quantile(df_train['cash'].dropna(),.5))\n",
    "#df_train['cash'] = sci.stats.mstats.winsorize(df_train['cash'], limits =[0.0, 0.005]) #entweder winsorize oder log (log denke besser)\n",
    "df_train['cash'] = np.log(df_train['cash'])\n",
    "print(df_train['cash'].isnull().sum())\n",
    "print(df_train['cash'].describe())\n",
    "print(df_train['cash'].value_counts())\n",
    "plt.boxplot(df_train['cash']) \n",
    "plt.show()"
   ]
  },
  {
   "cell_type": "markdown",
   "metadata": {},
   "source": [
    "## 2. Predict NaN for total equity\n",
    "Source: https://towardsdatascience.com/predict-missing-values-in-the-dataset-897912a54b7b\n"
   ]
  },
  {
   "cell_type": "markdown",
   "metadata": {},
   "source": [
    "Check for correlation to get relevant variables for regression"
   ]
  },
  {
   "cell_type": "code",
   "execution_count": 28,
   "metadata": {
    "ExecuteTime": {
     "end_time": "2021-01-02T14:08:39.906755Z",
     "start_time": "2021-01-02T14:08:39.895374Z"
    }
   },
   "outputs": [
    {
     "name": "stdout",
     "output_type": "stream",
     "text": [
      "corr total eqity x total result: 0.8677428854384167\n",
      "corr total eqity x total assets: 0.7973909460204517\n",
      "corr total eqity x operating cash flow: 0.8165188337701584\n"
     ]
    }
   ],
   "source": [
    "print('corr total eqity x total result: ' + str(df_train['total_equity'].corr(df_train['total_result'])))\n",
    "print('corr total eqity x total assets: ' + str(df_train['total_equity'].corr(df_train['total_assets'])))\n",
    "print('corr total eqity x operating cash flow: ' + str(df_train['total_equity'].corr(df_train['cf_operating'])))\n"
   ]
  },
  {
   "cell_type": "markdown",
   "metadata": {},
   "source": [
    "Split training and prediction dataset"
   ]
  },
  {
   "cell_type": "code",
   "execution_count": 29,
   "metadata": {
    "ExecuteTime": {
     "end_time": "2021-01-02T14:08:41.763851Z",
     "start_time": "2021-01-02T14:08:41.750537Z"
    }
   },
   "outputs": [],
   "source": [
    "cols = ['total_result', 'total_assets', 'cf_operating', 'total_equity']\n",
    "df = df_train[cols]\n",
    "test_df = df[df['total_equity'].isnull()]\n",
    "df = df.dropna()\n",
    "\n",
    "y_train = df['total_equity']\n",
    "X_train = df.drop('total_equity', axis=1)\n",
    "X_test = test_df.drop('total_equity', axis=1)"
   ]
  },
  {
   "cell_type": "markdown",
   "metadata": {},
   "source": [
    "Train model to fit dataset and predict missing values from column total equity and replace them"
   ]
  },
  {
   "cell_type": "code",
   "execution_count": 30,
   "metadata": {
    "ExecuteTime": {
     "end_time": "2021-01-02T14:08:42.770942Z",
     "start_time": "2021-01-02T14:08:42.758971Z"
    }
   },
   "outputs": [
    {
     "name": "stdout",
     "output_type": "stream",
     "text": [
      "[ 804154.57039481  826770.37433689  750108.44000769 2034060.76386614\n",
      "  906958.71620785  757800.98860179  694739.75133315  777633.44217635\n",
      " 1031927.82907442  707250.99306169  798206.66922867  753555.95951813\n",
      "  938481.58223852  838818.88678532  728338.08877872  658229.22939661\n",
      "  757045.94589861 3707034.78681171  430054.79880165  809294.10299163]\n"
     ]
    }
   ],
   "source": [
    "model = LinearRegression()\n",
    "model.fit(X_train, y_train)\n",
    "y_pred = model.predict(X_test)\n",
    "print(y_pred)"
   ]
  },
  {
   "cell_type": "markdown",
   "metadata": {},
   "source": [
    "Replace the missing values with predicted values"
   ]
  },
  {
   "cell_type": "code",
   "execution_count": 31,
   "metadata": {
    "ExecuteTime": {
     "end_time": "2021-01-02T14:08:43.865203Z",
     "start_time": "2021-01-02T14:08:43.848952Z"
    }
   },
   "outputs": [
    {
     "name": "stdout",
     "output_type": "stream",
     "text": [
      "0\n",
      "count    6.680000e+02\n",
      "mean     2.257491e+07\n",
      "std      1.437662e+08\n",
      "min     -1.120000e-08\n",
      "25%      9.821184e+04\n",
      "50%      6.330711e+05\n",
      "75%      4.242629e+06\n",
      "max      2.883814e+09\n",
      "Name: total_equity, dtype: float64\n",
      " 0.000000e+00    21\n",
      " 2.500000e+04     5\n",
      " 3.640000e-12     5\n",
      " 1.460000e-11     3\n",
      "-3.640000e-12     3\n",
      "                 ..\n",
      "-5.820000e-11     1\n",
      " 2.439935e+06     1\n",
      " 9.888687e+06     1\n",
      " 5.076543e+05     1\n",
      " 1.367994e+07     1\n",
      "Name: total_equity, Length: 631, dtype: int64\n"
     ]
    }
   ],
   "source": [
    "df_train.loc[df_train.total_equity.isnull(), 'total_equity'] = y_pred\n",
    "print(df_train['total_equity'].isnull().sum())\n",
    "print(df_train['total_equity'].describe())\n",
    "print(df_train['total_equity'].value_counts()) "
   ]
  },
  {
   "cell_type": "markdown",
   "metadata": {},
   "source": [
    "## 3. Financial ratios"
   ]
  },
  {
   "cell_type": "markdown",
   "metadata": {},
   "source": [
    "3.1. working capital ratio = current assets/current liabilities (liquidity ratios measuring a companies ability to meet its short term dept obligations)"
   ]
  },
  {
   "cell_type": "code",
   "execution_count": 32,
   "metadata": {
    "ExecuteTime": {
     "end_time": "2021-01-02T14:08:45.753452Z",
     "start_time": "2021-01-02T14:08:45.575803Z"
    }
   },
   "outputs": [
    {
     "name": "stdout",
     "output_type": "stream",
     "text": [
      "0      5.142587\n",
      "1      0.663710\n",
      "2      3.328108\n",
      "3      3.193566\n",
      "4      0.102055\n",
      "         ...   \n",
      "664    0.835583\n",
      "665    1.213142\n",
      "666    0.041927\n",
      "667    0.615002\n",
      "668    1.006126\n",
      "Name: wc_ratio, Length: 668, dtype: float64\n",
      "count    668.000000\n",
      "mean       1.851649\n",
      "std        2.259928\n",
      "min        0.000933\n",
      "25%        0.785477\n",
      "50%        1.177708\n",
      "75%        1.929122\n",
      "max       12.899702\n",
      "Name: wc_ratio, dtype: float64\n"
     ]
    },
    {
     "data": {
      "image/png": "[encoded data removed]",
      "text/plain": [
       "<Figure size 432x288 with 1 Axes>"
      ]
     },
     "metadata": {
      "needs_background": "light"
     },
     "output_type": "display_data"
    }
   ],
   "source": [
    "#create a column with total liabilities\n",
    "df_train['total_liabilities'] = df_train['total_liabilities_st'] + df_train['total_liabilities_mt'] + df_train['total_liabilities_lt']\n",
    "\n",
    "df_train['wc_ratio'] = df_train['current_assets']/df_train['total_liabilities_st']\n",
    "df_train['wc_ratio'] = sci.stats.mstats.winsorize(df_train['wc_ratio'], limits =[0, 0.02])\n",
    "print(df_train.wc_ratio)\n",
    "print(df_train.wc_ratio.describe())\n",
    "plt.boxplot(df_train.wc_ratio)\n",
    "plt.show()"
   ]
  },
  {
   "cell_type": "markdown",
   "metadata": {},
   "source": [
    "3.2. operating profit ratio = operating cf/sales"
   ]
  },
  {
   "cell_type": "code",
   "execution_count": 33,
   "metadata": {
    "ExecuteTime": {
     "end_time": "2021-01-02T14:08:47.988180Z",
     "start_time": "2021-01-02T14:08:47.654630Z"
    }
   },
   "outputs": [
    {
     "ename": "NameError",
     "evalue": "name 'ocf' is not defined",
     "output_type": "error",
     "traceback": [
      "\u001b[0;31m---------------------------------------------------------------------------\u001b[0m",
      "\u001b[0;31mNameError\u001b[0m                                 Traceback (most recent call last)",
      "\u001b[0;32m<ipython-input-33-da597cf149b2>\u001b[0m in \u001b[0;36m<module>\u001b[0;34m\u001b[0m\n\u001b[1;32m      3\u001b[0m \u001b[0mdf_train\u001b[0m\u001b[0;34m[\u001b[0m\u001b[0;34m'ocf_ratio'\u001b[0m\u001b[0;34m]\u001b[0m \u001b[0;34m=\u001b[0m \u001b[0mdf_train\u001b[0m\u001b[0;34m[\u001b[0m\u001b[0;34m'cf_operating'\u001b[0m\u001b[0;34m]\u001b[0m\u001b[0;34m/\u001b[0m\u001b[0mdf_train\u001b[0m\u001b[0;34m[\u001b[0m\u001b[0;34m'sales'\u001b[0m\u001b[0;34m]\u001b[0m\u001b[0;34m\u001b[0m\u001b[0;34m\u001b[0m\u001b[0m\n\u001b[1;32m      4\u001b[0m \u001b[0;31m# winsorize ocf\u001b[0m\u001b[0;34m\u001b[0m\u001b[0;34m\u001b[0m\u001b[0;34m\u001b[0m\u001b[0m\n\u001b[0;32m----> 5\u001b[0;31m \u001b[0mdf_train\u001b[0m\u001b[0;34m[\u001b[0m\u001b[0;34m'ocf_ratio'\u001b[0m\u001b[0;34m]\u001b[0m \u001b[0;34m=\u001b[0m \u001b[0msci\u001b[0m\u001b[0;34m.\u001b[0m\u001b[0mstats\u001b[0m\u001b[0;34m.\u001b[0m\u001b[0mmstats\u001b[0m\u001b[0;34m.\u001b[0m\u001b[0mwinsorize\u001b[0m\u001b[0;34m(\u001b[0m\u001b[0mocf\u001b[0m\u001b[0;34m,\u001b[0m \u001b[0mlimits\u001b[0m \u001b[0;34m=\u001b[0m\u001b[0;34m[\u001b[0m\u001b[0;36m0.01\u001b[0m\u001b[0;34m,\u001b[0m \u001b[0;36m0.02\u001b[0m\u001b[0;34m]\u001b[0m\u001b[0;34m)\u001b[0m\u001b[0;34m\u001b[0m\u001b[0;34m\u001b[0m\u001b[0m\n\u001b[0m\u001b[1;32m      6\u001b[0m \u001b[0mplt\u001b[0m\u001b[0;34m.\u001b[0m\u001b[0mboxplot\u001b[0m\u001b[0;34m(\u001b[0m\u001b[0mdf_train\u001b[0m\u001b[0;34m.\u001b[0m\u001b[0mocf_ratio\u001b[0m\u001b[0;34m)\u001b[0m\u001b[0;34m\u001b[0m\u001b[0;34m\u001b[0m\u001b[0m\n\u001b[1;32m      7\u001b[0m \u001b[0mplt\u001b[0m\u001b[0;34m.\u001b[0m\u001b[0mshow\u001b[0m\u001b[0;34m(\u001b[0m\u001b[0;34m)\u001b[0m\u001b[0;34m\u001b[0m\u001b[0;34m\u001b[0m\u001b[0m\n",
      "\u001b[0;31mNameError\u001b[0m: name 'ocf' is not defined"
     ]
    }
   ],
   "source": [
    "cf_pos = np.where(df_train['cf_operating'] > 1, df_train['cf_operating'], 0)\n",
    "cf_neg = np.where(df_train['cf_operating'] < -1, df_train['cf_operating'], 0)\n",
    "df_train['ocf_ratio'] = df_train['cf_operating']/df_train['sales']\n",
    "# winsorize ocf\n",
    "df_train['ocf_ratio'] = sci.stats.mstats.winsorize(ocf, limits =[0.01, 0.02])\n",
    "plt.boxplot(df_train.ocf_ratio)\n",
    "plt.show()"
   ]
  },
  {
   "cell_type": "markdown",
   "metadata": {},
   "source": [
    "Next we use two solvency ratio (measure a companies ability to meet its long term dept obligations) that we will weight as one to circumvent overfitting"
   ]
  },
  {
   "cell_type": "markdown",
   "metadata": {},
   "source": [
    "3.3. equity ratio = tot equity/total assets"
   ]
  },
  {
   "cell_type": "code",
   "execution_count": 34,
   "metadata": {
    "ExecuteTime": {
     "end_time": "2021-01-02T14:08:49.689324Z",
     "start_time": "2021-01-02T14:08:49.501211Z"
    }
   },
   "outputs": [
    {
     "name": "stdout",
     "output_type": "stream",
     "text": [
      "0      0.738567\n",
      "1      0.389698\n",
      "2      0.000937\n",
      "3      0.592532\n",
      "4      0.417496\n",
      "         ...   \n",
      "664    0.182336\n",
      "665    0.341823\n",
      "666    0.000000\n",
      "667    0.000000\n",
      "668    0.040729\n",
      "Name: equity_ratio, Length: 668, dtype: float64\n",
      "count    668.000000\n",
      "mean       0.349068\n",
      "std        0.304380\n",
      "min        0.000000\n",
      "25%        0.106484\n",
      "50%        0.284663\n",
      "75%        0.506833\n",
      "max        1.424661\n",
      "Name: equity_ratio, dtype: float64\n",
      "0.000000    46\n",
      "1.424661    14\n",
      "0.404251     1\n",
      "0.972960     1\n",
      "0.389698     1\n",
      "            ..\n",
      "0.281173     1\n",
      "0.794892     1\n",
      "0.026319     1\n",
      "0.603595     1\n",
      "0.282468     1\n",
      "Name: equity_ratio, Length: 610, dtype: int64\n"
     ]
    },
    {
     "data": {
      "image/png": "[encoded data removed]",
      "text/plain": [
       "<Figure size 432x288 with 1 Axes>"
      ]
     },
     "metadata": {
      "needs_background": "light"
     },
     "output_type": "display_data"
    }
   ],
   "source": [
    "df_train['equity_ratio'] = np.where(df_train['total_equity'] > 1, df_train['total_equity']/df_train['total_assets'], 0)\n",
    "df_train['equity_ratio'] = sci.stats.mstats.winsorize(df_train['equity_ratio'], limits =[0.0, 0.02])\n",
    "print(df_train.equity_ratio)\n",
    "print(df_train.equity_ratio.describe())\n",
    "print(df_train.equity_ratio.value_counts()) #46 nulls\n",
    "plt.boxplot(df_train.equity_ratio)\n",
    "plt.show()"
   ]
  },
  {
   "cell_type": "markdown",
   "metadata": {},
   "source": [
    "3.4. debt to equity ratio = total dept/total equity"
   ]
  },
  {
   "cell_type": "code",
   "execution_count": 35,
   "metadata": {
    "ExecuteTime": {
     "end_time": "2021-01-02T14:08:51.395156Z",
     "start_time": "2021-01-02T14:08:51.201275Z"
    }
   },
   "outputs": [
    {
     "name": "stdout",
     "output_type": "stream",
     "text": [
      "count    668.000000\n",
      "mean       0.836725\n",
      "std        1.754353\n",
      "min       -4.304558\n",
      "25%       -0.113928\n",
      "50%        0.646118\n",
      "75%        1.678663\n",
      "max        9.333686\n",
      "Name: debt_to_equity, dtype: float64\n",
      "0     -1.042864\n",
      "1      0.445033\n",
      "2      5.098516\n",
      "3     -1.442608\n",
      "4      0.284622\n",
      "         ...   \n",
      "664    1.500602\n",
      "665    0.655182\n",
      "666    0.000000\n",
      "667    0.000000\n",
      "668    3.158769\n",
      "Name: debt_to_equity, Length: 668, dtype: float64\n",
      " 0.000000    46\n",
      " 0.696812     1\n",
      " 0.644870     1\n",
      "-0.412104     1\n",
      " 0.480083     1\n",
      "             ..\n",
      "-0.592875     1\n",
      " 1.521916     1\n",
      " 0.089532     1\n",
      " 1.792278     1\n",
      "-1.399804     1\n",
      "Name: debt_to_equity, Length: 623, dtype: int64\n"
     ]
    },
    {
     "data": {
      "image/png": "[encoded data removed]",
      "text/plain": [
       "<Figure size 432x288 with 1 Axes>"
      ]
     },
     "metadata": {
      "needs_background": "light"
     },
     "output_type": "display_data"
    }
   ],
   "source": [
    "df_train['debt_to_equity'] = np.where(df_train['total_equity'] > 1, df_train['total_liabilities']/df_train['total_equity'], 0)\n",
    "#df_train['debt_to_equity'] = sci.stats.mstats.winsorize(df_train['debt_to_equity'], limits =[0.0, 0.02])\n",
    "df_train['debt_to_equity'] = np.where(df_train['debt_to_equity'] > 0, np.log(df_train['debt_to_equity']), 0)\n",
    "\n",
    "print(df_train.debt_to_equity.describe())\n",
    "print(df_train.debt_to_equity)\n",
    "print(df_train.debt_to_equity.value_counts()) #46 nulls\n",
    "plt.boxplot(df_train.debt_to_equity)\n",
    "plt.show()"
   ]
  },
  {
   "cell_type": "markdown",
   "metadata": {},
   "source": [
    "3.5. Return on Assets"
   ]
  },
  {
   "cell_type": "code",
   "execution_count": 36,
   "metadata": {
    "ExecuteTime": {
     "end_time": "2021-01-02T14:08:52.860756Z",
     "start_time": "2021-01-02T14:08:52.647644Z"
    }
   },
   "outputs": [
    {
     "name": "stdout",
     "output_type": "stream",
     "text": [
      "count    6.680000e+02\n",
      "mean     5.750400e-02\n",
      "std      1.393243e-01\n",
      "min     -7.285700e-01\n",
      "25%      9.968144e-17\n",
      "50%      2.750187e-02\n",
      "75%      8.735437e-02\n",
      "max      8.854164e-01\n",
      "Name: roa, dtype: float64\n",
      "0      1.494000e-01\n",
      "1      9.655827e-02\n",
      "2     -2.540307e-17\n",
      "3      2.980723e-02\n",
      "4      2.607926e-02\n",
      "           ...     \n",
      "664   -2.783753e-03\n",
      "665    1.555806e-01\n",
      "666    1.289209e-02\n",
      "667    6.375280e-02\n",
      "668    1.757980e-01\n",
      "Name: roa, Length: 668, dtype: float64\n",
      " 0.000000    25\n",
      " 0.010619     1\n",
      " 0.267353     1\n",
      " 0.162280     1\n",
      " 0.097041     1\n",
      "             ..\n",
      "-0.039522     1\n",
      " 0.041535     1\n",
      " 0.027676     1\n",
      " 0.014480     1\n",
      " 0.026929     1\n",
      "Name: roa, Length: 644, dtype: int64\n"
     ]
    },
    {
     "data": {
      "image/png": "[encoded data removed]",
      "text/plain": [
       "<Figure size 432x288 with 1 Axes>"
      ]
     },
     "metadata": {
      "needs_background": "light"
     },
     "output_type": "display_data"
    }
   ],
   "source": [
    "df_train['roa'] = df_train['annual_profit']/df_train['total_assets']\n",
    "#df_train['debt_to_equity'] = sci.stats.mstats.winsorize(df_train['debt_to_equity'], limits =[0.0, 0.02])\n",
    "#df_train['debt_to_equity'] = np.where(df_train['debt_to_equity'] > 0, np.log(df_train['debt_to_equity']), 0)\n",
    "    \n",
    "print(df_train.roa.describe())\n",
    "print(df_train.roa)\n",
    "print(df_train.roa.value_counts()) #46 nulls\n",
    "plt.boxplot(df_train.roa)\n",
    "plt.show()"
   ]
  },
  {
   "cell_type": "markdown",
   "metadata": {},
   "source": [
    "Create a dataframe with single ratios and financial ratios and a heatmap to check for correlation between ratios"
   ]
  },
  {
   "cell_type": "code",
   "execution_count": 37,
   "metadata": {
    "ExecuteTime": {
     "end_time": "2021-01-02T14:08:55.177148Z",
     "start_time": "2021-01-02T14:08:53.988471Z"
    }
   },
   "outputs": [
    {
     "name": "stdout",
     "output_type": "stream",
     "text": [
      "          ebit     profit       cash   wc_ratio  ocf_ratio  equity_ratio  \\\n",
      "0   6536077.55  17.468597  16.147368   5.142587   0.065368      0.738567   \n",
      "1     38140.91  14.247190  13.739044   0.663710  -3.116492      0.389698   \n",
      "2     89799.80  16.524120  16.028858   3.328108   2.471134      0.000937   \n",
      "3    584315.02  17.309964  15.745664   3.193566   0.391307      0.592532   \n",
      "4  25753000.00  18.647458  15.432245   0.102055   1.178664      0.417496   \n",
      "5     22382.91  10.788846  11.234266  12.899702   0.398513      0.933551   \n",
      "6  25753000.00  18.494265  16.261546   0.834046   0.265676      0.648681   \n",
      "7  -6707113.13  17.561125  16.892638   1.483001   2.061521      0.900519   \n",
      "8   3785872.48  15.625598  12.684087   0.394765   0.044533      0.212951   \n",
      "9    170487.91  12.659385  10.483650   0.711538   1.406577      0.689870   \n",
      "\n",
      "   debt_to_equity           roa  \n",
      "0       -1.042864  1.494000e-01  \n",
      "1        0.445033  9.655827e-02  \n",
      "2        5.098516 -2.540307e-17  \n",
      "3       -1.442608  2.980723e-02  \n",
      "4        0.284622  2.607926e-02  \n",
      "5       -2.642559  1.822039e-01  \n",
      "6       -0.613244  2.871490e-02  \n",
      "7       -2.312016  1.980476e-01  \n",
      "8        1.307231  1.099861e-17  \n",
      "9       -0.799512  7.265754e-02  \n",
      "<class 'pandas.core.frame.DataFrame'>\n",
      "Int64Index: 668 entries, 0 to 668\n",
      "Data columns (total 8 columns):\n",
      " #   Column          Non-Null Count  Dtype  \n",
      "---  ------          --------------  -----  \n",
      " 0   ebit            668 non-null    float64\n",
      " 1   profit          668 non-null    float64\n",
      " 2   cash            668 non-null    float64\n",
      " 3   wc_ratio        668 non-null    float64\n",
      " 4   ocf_ratio       667 non-null    float64\n",
      " 5   equity_ratio    668 non-null    float64\n",
      " 6   debt_to_equity  668 non-null    float64\n",
      " 7   roa             668 non-null    float64\n",
      "dtypes: float64(8)\n",
      "memory usage: 47.0 KB\n",
      "None\n"
     ]
    },
    {
     "data": {
      "image/png": "[encoded data removed]",
      "text/plain": [
       "<Figure size 432x288 with 2 Axes>"
      ]
     },
     "metadata": {
      "needs_background": "light"
     },
     "output_type": "display_data"
    }
   ],
   "source": [
    "col = ['ebit', 'profit', 'cash', 'wc_ratio', 'ocf_ratio', 'equity_ratio', 'debt_to_equity', 'roa']\n",
    "data = df_train[col]\n",
    "print(data.head(10))\n",
    "print(data.info())\n",
    "\n",
    "heatmap = sns.heatmap(data.corr(), vmin=-1, vmax=1, annot=True, cmap=\"coolwarm\")\n",
    "heatmap.set_title('Variables Correlation Heatmap')\n",
    "plt.show()"
   ]
  },
  {
   "cell_type": "markdown",
   "metadata": {},
   "source": [
    "# Visualize differences in our variables of interest between default and non default \n",
    "\n",
    "Here we just want to visualize the difference in our variables of interest between default and non default firms in our training dataset. Also we ran univariate logisitc regression to determine if the ratio is significant in a univariate sense (is not a K.O. criteria).\n",
    "\n",
    "Our variables of interest are, so the variables we will put in our logistic regression, are :\n",
    "\n",
    "- Ebit\n",
    "- Profit\n",
    "- Cash\n",
    "- Working Capital Ratio\n",
    "- Operating Cashflow Ratio\n",
    "- Equity Ratio\n",
    "- Debt to Equity Ratio\n"
   ]
  },
  {
   "cell_type": "code",
   "execution_count": 38,
   "metadata": {
    "ExecuteTime": {
     "end_time": "2021-01-02T14:08:56.110417Z",
     "start_time": "2021-01-02T14:08:56.082228Z"
    }
   },
   "outputs": [
    {
     "data": {
      "text/html": [
       "<div>\n",
       "<style scoped>\n",
       "    .dataframe tbody tr th:only-of-type {\n",
       "        vertical-align: middle;\n",
       "    }\n",
       "\n",
       "    .dataframe tbody tr th {\n",
       "        vertical-align: top;\n",
       "    }\n",
       "\n",
       "    .dataframe thead th {\n",
       "        text-align: right;\n",
       "    }\n",
       "</style>\n",
       "<table border=\"1\" class=\"dataframe\">\n",
       "  <thead>\n",
       "    <tr style=\"text-align: right;\">\n",
       "      <th></th>\n",
       "      <th>default</th>\n",
       "      <th>age_cat</th>\n",
       "      <th>ebit</th>\n",
       "      <th>profit</th>\n",
       "      <th>cash</th>\n",
       "      <th>wc_ratio</th>\n",
       "      <th>ocf_ratio</th>\n",
       "      <th>equity_ratio</th>\n",
       "      <th>debt_to_equity</th>\n",
       "      <th>roa</th>\n",
       "    </tr>\n",
       "  </thead>\n",
       "  <tbody>\n",
       "    <tr>\n",
       "      <th>0</th>\n",
       "      <td>0</td>\n",
       "      <td>4</td>\n",
       "      <td>6536077.55</td>\n",
       "      <td>17.468597</td>\n",
       "      <td>16.147368</td>\n",
       "      <td>5.142587</td>\n",
       "      <td>0.065368</td>\n",
       "      <td>0.738567</td>\n",
       "      <td>-1.042864</td>\n",
       "      <td>1.494000e-01</td>\n",
       "    </tr>\n",
       "    <tr>\n",
       "      <th>1</th>\n",
       "      <td>0</td>\n",
       "      <td>4</td>\n",
       "      <td>38140.91</td>\n",
       "      <td>14.247190</td>\n",
       "      <td>13.739044</td>\n",
       "      <td>0.663710</td>\n",
       "      <td>-3.116492</td>\n",
       "      <td>0.389698</td>\n",
       "      <td>0.445033</td>\n",
       "      <td>9.655827e-02</td>\n",
       "    </tr>\n",
       "    <tr>\n",
       "      <th>2</th>\n",
       "      <td>0</td>\n",
       "      <td>4</td>\n",
       "      <td>89799.80</td>\n",
       "      <td>16.524120</td>\n",
       "      <td>16.028858</td>\n",
       "      <td>3.328108</td>\n",
       "      <td>2.471134</td>\n",
       "      <td>0.000937</td>\n",
       "      <td>5.098516</td>\n",
       "      <td>-2.540307e-17</td>\n",
       "    </tr>\n",
       "    <tr>\n",
       "      <th>3</th>\n",
       "      <td>0</td>\n",
       "      <td>4</td>\n",
       "      <td>584315.02</td>\n",
       "      <td>17.309964</td>\n",
       "      <td>15.745664</td>\n",
       "      <td>3.193566</td>\n",
       "      <td>0.391307</td>\n",
       "      <td>0.592532</td>\n",
       "      <td>-1.442608</td>\n",
       "      <td>2.980723e-02</td>\n",
       "    </tr>\n",
       "    <tr>\n",
       "      <th>4</th>\n",
       "      <td>0</td>\n",
       "      <td>4</td>\n",
       "      <td>25753000.00</td>\n",
       "      <td>18.647458</td>\n",
       "      <td>15.432245</td>\n",
       "      <td>0.102055</td>\n",
       "      <td>1.178664</td>\n",
       "      <td>0.417496</td>\n",
       "      <td>0.284622</td>\n",
       "      <td>2.607926e-02</td>\n",
       "    </tr>\n",
       "    <tr>\n",
       "      <th>...</th>\n",
       "      <td>...</td>\n",
       "      <td>...</td>\n",
       "      <td>...</td>\n",
       "      <td>...</td>\n",
       "      <td>...</td>\n",
       "      <td>...</td>\n",
       "      <td>...</td>\n",
       "      <td>...</td>\n",
       "      <td>...</td>\n",
       "      <td>...</td>\n",
       "    </tr>\n",
       "    <tr>\n",
       "      <th>664</th>\n",
       "      <td>0</td>\n",
       "      <td>4</td>\n",
       "      <td>374000.00</td>\n",
       "      <td>16.469034</td>\n",
       "      <td>10.341742</td>\n",
       "      <td>0.835583</td>\n",
       "      <td>0.009571</td>\n",
       "      <td>0.182336</td>\n",
       "      <td>1.500602</td>\n",
       "      <td>-2.783753e-03</td>\n",
       "    </tr>\n",
       "    <tr>\n",
       "      <th>665</th>\n",
       "      <td>0</td>\n",
       "      <td>3</td>\n",
       "      <td>244694.05</td>\n",
       "      <td>14.653886</td>\n",
       "      <td>12.439314</td>\n",
       "      <td>1.213142</td>\n",
       "      <td>-0.083731</td>\n",
       "      <td>0.341823</td>\n",
       "      <td>0.655182</td>\n",
       "      <td>1.555806e-01</td>\n",
       "    </tr>\n",
       "    <tr>\n",
       "      <th>666</th>\n",
       "      <td>0</td>\n",
       "      <td>3</td>\n",
       "      <td>12876951.53</td>\n",
       "      <td>17.578342</td>\n",
       "      <td>13.258707</td>\n",
       "      <td>0.041927</td>\n",
       "      <td>0.032679</td>\n",
       "      <td>0.000000</td>\n",
       "      <td>0.000000</td>\n",
       "      <td>1.289209e-02</td>\n",
       "    </tr>\n",
       "    <tr>\n",
       "      <th>667</th>\n",
       "      <td>0</td>\n",
       "      <td>3</td>\n",
       "      <td>9855.87</td>\n",
       "      <td>12.172564</td>\n",
       "      <td>8.639795</td>\n",
       "      <td>0.615002</td>\n",
       "      <td>0.137266</td>\n",
       "      <td>0.000000</td>\n",
       "      <td>0.000000</td>\n",
       "      <td>6.375280e-02</td>\n",
       "    </tr>\n",
       "    <tr>\n",
       "      <th>668</th>\n",
       "      <td>0</td>\n",
       "      <td>4</td>\n",
       "      <td>1011020.73</td>\n",
       "      <td>15.555994</td>\n",
       "      <td>14.772682</td>\n",
       "      <td>1.006126</td>\n",
       "      <td>0.094305</td>\n",
       "      <td>0.040729</td>\n",
       "      <td>3.158769</td>\n",
       "      <td>1.757980e-01</td>\n",
       "    </tr>\n",
       "  </tbody>\n",
       "</table>\n",
       "<p>668 rows × 10 columns</p>\n",
       "</div>"
      ],
      "text/plain": [
       "     default  age_cat         ebit     profit       cash  wc_ratio  ocf_ratio  \\\n",
       "0          0        4   6536077.55  17.468597  16.147368  5.142587   0.065368   \n",
       "1          0        4     38140.91  14.247190  13.739044  0.663710  -3.116492   \n",
       "2          0        4     89799.80  16.524120  16.028858  3.328108   2.471134   \n",
       "3          0        4    584315.02  17.309964  15.745664  3.193566   0.391307   \n",
       "4          0        4  25753000.00  18.647458  15.432245  0.102055   1.178664   \n",
       "..       ...      ...          ...        ...        ...       ...        ...   \n",
       "664        0        4    374000.00  16.469034  10.341742  0.835583   0.009571   \n",
       "665        0        3    244694.05  14.653886  12.439314  1.213142  -0.083731   \n",
       "666        0        3  12876951.53  17.578342  13.258707  0.041927   0.032679   \n",
       "667        0        3      9855.87  12.172564   8.639795  0.615002   0.137266   \n",
       "668        0        4   1011020.73  15.555994  14.772682  1.006126   0.094305   \n",
       "\n",
       "     equity_ratio  debt_to_equity           roa  \n",
       "0        0.738567       -1.042864  1.494000e-01  \n",
       "1        0.389698        0.445033  9.655827e-02  \n",
       "2        0.000937        5.098516 -2.540307e-17  \n",
       "3        0.592532       -1.442608  2.980723e-02  \n",
       "4        0.417496        0.284622  2.607926e-02  \n",
       "..            ...             ...           ...  \n",
       "664      0.182336        1.500602 -2.783753e-03  \n",
       "665      0.341823        0.655182  1.555806e-01  \n",
       "666      0.000000        0.000000  1.289209e-02  \n",
       "667      0.000000        0.000000  6.375280e-02  \n",
       "668      0.040729        3.158769  1.757980e-01  \n",
       "\n",
       "[668 rows x 10 columns]"
      ]
     },
     "execution_count": 38,
     "metadata": {},
     "output_type": "execute_result"
    }
   ],
   "source": [
    "col_list = [\"default\",\"age_cat\",\"ebit\",\"profit\",\"cash\",\"wc_ratio\",\"ocf_ratio\",\"equity_ratio\",\"debt_to_equity\",\"roa\"]\n",
    "df_train[col_list]"
   ]
  },
  {
   "cell_type": "markdown",
   "metadata": {},
   "source": [
    "## EBIT"
   ]
  },
  {
   "cell_type": "code",
   "execution_count": 39,
   "metadata": {
    "ExecuteTime": {
     "end_time": "2021-01-02T14:09:00.884819Z",
     "start_time": "2021-01-02T14:08:57.852749Z"
    }
   },
   "outputs": [
    {
     "name": "stdout",
     "output_type": "stream",
     "text": [
      "                        Results: Logit\n",
      "===============================================================\n",
      "Model:              Logit            Pseudo R-squared: 0.008   \n",
      "Dependent Variable: default          AIC:              293.3010\n",
      "Date:               2021-01-02 15:08 BIC:              302.3096\n",
      "No. Observations:   668              Log-Likelihood:   -144.65 \n",
      "Df Model:           1                LL-Null:          -145.83 \n",
      "Df Residuals:       666              LLR p-value:      0.12413 \n",
      "Converged:          1.0000           Scale:            1.0000  \n",
      "No. Iterations:     7.0000                                     \n",
      "----------------------------------------------------------------\n",
      "            Coef.   Std.Err.     z      P>|z|    [0.025   0.975]\n",
      "----------------------------------------------------------------\n",
      "Intercept  -2.7386    0.1700  -16.1120  0.0000  -3.0717  -2.4054\n",
      "ebit       -0.0000    0.0000   -1.3012  0.1932  -0.0000   0.0000\n",
      "===============================================================\n",
      "\n"
     ]
    },
    {
     "data": {
      "image/png": "[encoded data removed]",
      "text/plain": [
       "<Figure size 432x288 with 1 Axes>"
      ]
     },
     "metadata": {
      "needs_background": "light"
     },
     "output_type": "display_data"
    },
    {
     "data": {
      "image/png": "[encoded data removed]",
      "text/plain": [
       "<Figure size 432x288 with 1 Axes>"
      ]
     },
     "metadata": {
      "needs_background": "light"
     },
     "output_type": "display_data"
    },
    {
     "data": {
      "text/plain": [
       "<Figure size 432x288 with 0 Axes>"
      ]
     },
     "metadata": {},
     "output_type": "display_data"
    },
    {
     "data": {
      "image/png": "[encoded data removed]",
      "text/plain": [
       "<Figure size 403.375x360 with 1 Axes>"
      ]
     },
     "metadata": {
      "needs_background": "light"
     },
     "output_type": "display_data"
    }
   ],
   "source": [
    "sns.boxplot(y=\"ebit\",x=\"default\",data=df_train);\n",
    "plt.figure()\n",
    "sns.boxplot(y=np.log(df_train[\"ebit\"]),x=\"default\",\n",
    "            data=df_train).set_title(\"With log transformation\");\n",
    "plt.figure()\n",
    "sns.displot(df_train,x=\"ebit\",hue=\"default\",stat=\"density\",common_norm=False);\n",
    "\n",
    "mdl = sm.Logit.from_formula('default ~ ebit + 1', data=df_train).fit(disp=False, maxiter=100)\n",
    "print(mdl.summary2())"
   ]
  },
  {
   "cell_type": "markdown",
   "metadata": {},
   "source": [
    "## Profit"
   ]
  },
  {
   "cell_type": "code",
   "execution_count": 40,
   "metadata": {
    "ExecuteTime": {
     "end_time": "2021-01-02T14:09:03.124360Z",
     "start_time": "2021-01-02T14:09:01.334534Z"
    }
   },
   "outputs": [
    {
     "name": "stdout",
     "output_type": "stream",
     "text": [
      "                        Results: Logit\n",
      "===============================================================\n",
      "Model:              Logit            Pseudo R-squared: 0.013   \n",
      "Dependent Variable: default          AIC:              291.9579\n",
      "Date:               2021-01-02 15:09 BIC:              300.9664\n",
      "No. Observations:   668              Log-Likelihood:   -143.98 \n",
      "Df Model:           1                LL-Null:          -145.83 \n",
      "Df Residuals:       666              LLR p-value:      0.054164\n",
      "Converged:          1.0000           Scale:            1.0000  \n",
      "No. Iterations:     7.0000                                     \n",
      "----------------------------------------------------------------\n",
      "              Coef.   Std.Err.     z     P>|z|    [0.025  0.975]\n",
      "----------------------------------------------------------------\n",
      "Intercept    -0.5964    1.1311  -0.5273  0.5980  -2.8132  1.6204\n",
      "profit       -0.1540    0.0795  -1.9372  0.0527  -0.3099  0.0018\n",
      "===============================================================\n",
      "\n"
     ]
    },
    {
     "data": {
      "image/png": "[encoded data removed]",
      "text/plain": [
       "<Figure size 432x288 with 1 Axes>"
      ]
     },
     "metadata": {
      "needs_background": "light"
     },
     "output_type": "display_data"
    },
    {
     "data": {
      "image/png": "[encoded data removed]",
      "text/plain": [
       "<Figure size 432x288 with 1 Axes>"
      ]
     },
     "metadata": {
      "needs_background": "light"
     },
     "output_type": "display_data"
    },
    {
     "data": {
      "text/plain": [
       "<Figure size 432x288 with 0 Axes>"
      ]
     },
     "metadata": {},
     "output_type": "display_data"
    },
    {
     "data": {
      "image/png": "[encoded data removed]",
      "text/plain": [
       "<Figure size 403.375x360 with 1 Axes>"
      ]
     },
     "metadata": {
      "needs_background": "light"
     },
     "output_type": "display_data"
    }
   ],
   "source": [
    "sns.boxplot(y=\"profit\",x=\"default\",data=df_train);\n",
    "plt.figure()\n",
    "sns.boxplot(y=np.log(df_train[\"profit\"]),x=\"default\",\n",
    "            data=df_train).set_title(\"With log transformation\");\n",
    "plt.figure()\n",
    "sns.displot(df_train,x=\"profit\",hue=\"default\",stat=\"density\",common_norm=False);\n",
    "\n",
    "mdl = sm.Logit.from_formula('default ~ profit + 1', data=df_train).fit(disp=False, maxiter=100)\n",
    "print(mdl.summary2())"
   ]
  },
  {
   "cell_type": "markdown",
   "metadata": {},
   "source": [
    "## Cash"
   ]
  },
  {
   "cell_type": "code",
   "execution_count": 41,
   "metadata": {
    "ExecuteTime": {
     "end_time": "2021-01-02T14:09:04.903499Z",
     "start_time": "2021-01-02T14:09:03.586576Z"
    }
   },
   "outputs": [
    {
     "name": "stdout",
     "output_type": "stream",
     "text": [
      "                         Results: Logit\n",
      "=================================================================\n",
      "Model:              Logit            Pseudo R-squared: 0.054     \n",
      "Dependent Variable: default          AIC:              279.8600  \n",
      "Date:               2021-01-02 15:09 BIC:              288.8686  \n",
      "No. Observations:   668              Log-Likelihood:   -137.93   \n",
      "Df Model:           1                LL-Null:          -145.83   \n",
      "Df Residuals:       666              LLR p-value:      7.0200e-05\n",
      "Converged:          1.0000           Scale:            1.0000    \n",
      "No. Iterations:     7.0000                                       \n",
      "------------------------------------------------------------------\n",
      "               Coef.   Std.Err.     z     P>|z|    [0.025   0.975]\n",
      "------------------------------------------------------------------\n",
      "Intercept     -0.4502    0.5679  -0.7928  0.4279  -1.5632   0.6628\n",
      "cash          -0.2168    0.0540  -4.0159  0.0001  -0.3227  -0.1110\n",
      "=================================================================\n",
      "\n"
     ]
    },
    {
     "data": {
      "image/png": "[encoded data removed]",
      "text/plain": [
       "<Figure size 432x288 with 1 Axes>"
      ]
     },
     "metadata": {
      "needs_background": "light"
     },
     "output_type": "display_data"
    },
    {
     "data": {
      "image/png": "[encoded data removed]",
      "text/plain": [
       "<Figure size 432x288 with 1 Axes>"
      ]
     },
     "metadata": {
      "needs_background": "light"
     },
     "output_type": "display_data"
    },
    {
     "data": {
      "text/plain": [
       "<Figure size 432x288 with 0 Axes>"
      ]
     },
     "metadata": {},
     "output_type": "display_data"
    },
    {
     "data": {
      "image/png": "[encoded data removed]",
      "text/plain": [
       "<Figure size 403.375x360 with 1 Axes>"
      ]
     },
     "metadata": {
      "needs_background": "light"
     },
     "output_type": "display_data"
    }
   ],
   "source": [
    "sns.boxplot(y=\"cash\",x=\"default\",data=df_train);\n",
    "plt.figure()\n",
    "sns.boxplot(y=np.log(df_train[\"cash\"]),x=\"default\",\n",
    "            data=df_train).set_title(\"With log transformation\");\n",
    "plt.figure()\n",
    "sns.displot(df_train,x=\"cash\",hue=\"default\",stat=\"density\",common_norm=False);\n",
    "\n",
    "mdl = sm.Logit.from_formula('default ~ cash + 1', data=df_train).fit(disp=False, maxiter=100)\n",
    "print(mdl.summary2())"
   ]
  },
  {
   "cell_type": "markdown",
   "metadata": {},
   "source": [
    "## Working Capital Ratio"
   ]
  },
  {
   "cell_type": "code",
   "execution_count": 44,
   "metadata": {
    "ExecuteTime": {
     "end_time": "2021-01-02T14:10:50.671522Z",
     "start_time": "2021-01-02T14:10:47.765225Z"
    }
   },
   "outputs": [
    {
     "name": "stdout",
     "output_type": "stream",
     "text": [
      "                        Results: Logit\n",
      "===============================================================\n",
      "Model:              Logit            Pseudo R-squared: 0.016   \n",
      "Dependent Variable: default          AIC:              290.9189\n",
      "Date:               2021-01-02 15:10 BIC:              299.9275\n",
      "No. Observations:   668              Log-Likelihood:   -143.46 \n",
      "Df Model:           1                LL-Null:          -145.83 \n",
      "Df Residuals:       666              LLR p-value:      0.029357\n",
      "Converged:          1.0000           Scale:            1.0000  \n",
      "No. Iterations:     8.0000                                     \n",
      "----------------------------------------------------------------\n",
      "             Coef.   Std.Err.     z     P>|z|    [0.025   0.975]\n",
      "----------------------------------------------------------------\n",
      "Intercept   -2.4207    0.2528  -9.5744  0.0000  -2.9162  -1.9252\n",
      "wc_ratio    -0.2630    0.1530  -1.7196  0.0855  -0.5628   0.0368\n",
      "===============================================================\n",
      "\n"
     ]
    },
    {
     "data": {
      "image/png": "[encoded data removed]",
      "text/plain": [
       "<Figure size 432x288 with 1 Axes>"
      ]
     },
     "metadata": {
      "needs_background": "light"
     },
     "output_type": "display_data"
    },
    {
     "data": {
      "image/png": "[encoded data removed]",
      "text/plain": [
       "<Figure size 432x288 with 1 Axes>"
      ]
     },
     "metadata": {
      "needs_background": "light"
     },
     "output_type": "display_data"
    },
    {
     "data": {
      "text/plain": [
       "<Figure size 432x288 with 0 Axes>"
      ]
     },
     "metadata": {},
     "output_type": "display_data"
    },
    {
     "data": {
      "image/png": "[encoded data removed]",
      "text/plain": [
       "<Figure size 403.375x360 with 1 Axes>"
      ]
     },
     "metadata": {
      "needs_background": "light"
     },
     "output_type": "display_data"
    }
   ],
   "source": [
    "sns.boxplot(y=\"wc_ratio\",x=\"default\",data=df_train);\n",
    "plt.figure()\n",
    "sns.boxplot(y=np.log(df_train[\"wc_ratio\"]),x=\"default\",\n",
    "            data=df_train).set_title(\"With log transformation\");\n",
    "plt.figure()\n",
    "sns.displot(df_train,x=\"wc_ratio\",hue=\"default\",stat=\"density\",common_norm=False);\n",
    "\n",
    "mdl = sm.Logit.from_formula('default ~ wc_ratio + 1', data=df_train).fit(disp=False, maxiter=100)\n",
    "print(mdl.summary2())"
   ]
  },
  {
   "cell_type": "markdown",
   "metadata": {
    "ExecuteTime": {
     "end_time": "2020-12-23T07:49:46.197844Z",
     "start_time": "2020-12-23T07:49:46.127363Z"
    }
   },
   "source": [
    "## Operating Cash Flow Ratio"
   ]
  },
  {
   "cell_type": "code",
   "execution_count": 51,
   "metadata": {
    "ExecuteTime": {
     "end_time": "2021-01-02T14:13:07.283294Z",
     "start_time": "2021-01-02T14:13:06.885827Z"
    }
   },
   "outputs": [
    {
     "name": "stdout",
     "output_type": "stream",
     "text": [
      "                        Results: Logit\n",
      "===============================================================\n",
      "Model:              Logit            Pseudo R-squared: 0.000   \n",
      "Dependent Variable: default          AIC:              295.5175\n",
      "Date:               2021-01-02 15:13 BIC:              304.5231\n",
      "No. Observations:   667              Log-Likelihood:   -145.76 \n",
      "Df Model:           1                LL-Null:          -145.77 \n",
      "Df Residuals:       665              LLR p-value:      0.86080 \n",
      "Converged:          1.0000           Scale:            1.0000  \n",
      "No. Iterations:     7.0000                                     \n",
      "----------------------------------------------------------------\n",
      "            Coef.   Std.Err.     z      P>|z|    [0.025   0.975]\n",
      "----------------------------------------------------------------\n",
      "Intercept  -2.8057    0.1671  -16.7933  0.0000  -3.1332  -2.4783\n",
      "ocf_ratio  -0.0017    0.0100   -0.1703  0.8648  -0.0213   0.0179\n",
      "===============================================================\n",
      "\n"
     ]
    },
    {
     "data": {
      "image/png": "[encoded data removed]",
      "text/plain": [
       "<Figure size 432x288 with 1 Axes>"
      ]
     },
     "metadata": {
      "needs_background": "light"
     },
     "output_type": "display_data"
    },
    {
     "data": {
      "image/png": "[encoded data removed]",
      "text/plain": [
       "<Figure size 432x288 with 1 Axes>"
      ]
     },
     "metadata": {
      "needs_background": "light"
     },
     "output_type": "display_data"
    }
   ],
   "source": [
    "sns.boxplot(y=\"ocf_ratio\",x=\"default\",data=df_train);\n",
    "plt.figure()\n",
    "sns.boxplot(y=np.log(df_train[\"ocf_ratio\"]),x=\"default\",\n",
    "            data=df_train).set_title(\"With log transformation\");\n",
    "#plt.figure()\n",
    "#sns.displot(df_train,x=\"ocf_ratio\",hue=\"default\",stat=\"density\",common_norm=False);\n",
    "\n",
    "mdl = sm.Logit.from_formula('default ~ ocf_ratio + 1', data=df_train).fit(disp=False, maxiter=100)\n",
    "print(mdl.summary2())"
   ]
  },
  {
   "cell_type": "markdown",
   "metadata": {},
   "source": [
    "## Equity Ratio "
   ]
  },
  {
   "cell_type": "code",
   "execution_count": 52,
   "metadata": {
    "ExecuteTime": {
     "end_time": "2021-01-02T14:13:13.496671Z",
     "start_time": "2021-01-02T14:13:12.409337Z"
    }
   },
   "outputs": [
    {
     "name": "stdout",
     "output_type": "stream",
     "text": [
      "                        Results: Logit\n",
      "===============================================================\n",
      "Model:              Logit            Pseudo R-squared: 0.001   \n",
      "Dependent Variable: default          AIC:              295.2834\n",
      "Date:               2021-01-02 15:13 BIC:              304.2920\n",
      "No. Observations:   668              Log-Likelihood:   -145.64 \n",
      "Df Model:           1                LL-Null:          -145.83 \n",
      "Df Residuals:       666              LLR p-value:      0.53649 \n",
      "Converged:          1.0000           Scale:            1.0000  \n",
      "No. Iterations:     7.0000                                     \n",
      "---------------------------------------------------------------\n",
      "                Coef.  Std.Err.    z     P>|z|   [0.025  0.975]\n",
      "---------------------------------------------------------------\n",
      "Intercept      -2.6900   0.2507 -10.7286 0.0000 -3.1814 -2.1986\n",
      "equity_ratio   -0.3525   0.5814  -0.6064 0.5443 -1.4919  0.7869\n",
      "===============================================================\n",
      "\n"
     ]
    },
    {
     "data": {
      "image/png": "[encoded data removed]",
      "text/plain": [
       "<Figure size 432x288 with 1 Axes>"
      ]
     },
     "metadata": {
      "needs_background": "light"
     },
     "output_type": "display_data"
    },
    {
     "data": {
      "image/png": "[encoded data removed]",
      "text/plain": [
       "<Figure size 432x288 with 1 Axes>"
      ]
     },
     "metadata": {
      "needs_background": "light"
     },
     "output_type": "display_data"
    },
    {
     "data": {
      "text/plain": [
       "<Figure size 432x288 with 0 Axes>"
      ]
     },
     "metadata": {},
     "output_type": "display_data"
    },
    {
     "data": {
      "image/png": "[encoded data removed]",
      "text/plain": [
       "<Figure size 403.375x360 with 1 Axes>"
      ]
     },
     "metadata": {
      "needs_background": "light"
     },
     "output_type": "display_data"
    }
   ],
   "source": [
    "sns.boxplot(y=\"equity_ratio\",x=\"default\",data=df_train);\n",
    "plt.figure()\n",
    "sns.boxplot(y=np.log(df_train[\"equity_ratio\"]),x=\"default\",\n",
    "            data=df_train).set_title(\"With log transformation\");\n",
    "plt.figure()\n",
    "sns.displot(df_train,x=\"equity_ratio\",hue=\"default\",stat=\"density\",common_norm=False);\n",
    "\n",
    "mdl = sm.Logit.from_formula('default ~ equity_ratio + 1', data=df_train).fit(disp=False, maxiter=100)\n",
    "print(mdl.summary2())"
   ]
  },
  {
   "cell_type": "code",
   "execution_count": 47,
   "metadata": {
    "ExecuteTime": {
     "end_time": "2021-01-02T14:12:16.802464Z",
     "start_time": "2021-01-02T14:12:16.770551Z"
    }
   },
   "outputs": [
    {
     "data": {
      "text/html": [
       "<div>\n",
       "<style scoped>\n",
       "    .dataframe tbody tr th:only-of-type {\n",
       "        vertical-align: middle;\n",
       "    }\n",
       "\n",
       "    .dataframe tbody tr th {\n",
       "        vertical-align: top;\n",
       "    }\n",
       "\n",
       "    .dataframe thead th {\n",
       "        text-align: right;\n",
       "    }\n",
       "</style>\n",
       "<table border=\"1\" class=\"dataframe\">\n",
       "  <thead>\n",
       "    <tr style=\"text-align: right;\">\n",
       "      <th>equity_ratio</th>\n",
       "      <th>False</th>\n",
       "      <th>True</th>\n",
       "    </tr>\n",
       "    <tr>\n",
       "      <th>default</th>\n",
       "      <th></th>\n",
       "      <th></th>\n",
       "    </tr>\n",
       "  </thead>\n",
       "  <tbody>\n",
       "    <tr>\n",
       "      <th>0</th>\n",
       "      <td>590</td>\n",
       "      <td>40</td>\n",
       "    </tr>\n",
       "    <tr>\n",
       "      <th>1</th>\n",
       "      <td>32</td>\n",
       "      <td>6</td>\n",
       "    </tr>\n",
       "  </tbody>\n",
       "</table>\n",
       "</div>"
      ],
      "text/plain": [
       "equity_ratio  False  True \n",
       "default                   \n",
       "0               590     40\n",
       "1                32      6"
      ]
     },
     "execution_count": 47,
     "metadata": {},
     "output_type": "execute_result"
    }
   ],
   "source": [
    "pd.crosstab(df_train[\"default\"],df_train[\"equity_ratio\"]==0) #see that 6 defaulted with an equity ratio of 0"
   ]
  },
  {
   "cell_type": "markdown",
   "metadata": {},
   "source": [
    "## Debt to Equity Ratio"
   ]
  },
  {
   "cell_type": "code",
   "execution_count": 48,
   "metadata": {
    "ExecuteTime": {
     "end_time": "2021-01-02T14:12:20.482653Z",
     "start_time": "2021-01-02T14:12:19.378557Z"
    }
   },
   "outputs": [
    {
     "name": "stdout",
     "output_type": "stream",
     "text": [
      "                        Results: Logit\n",
      "===============================================================\n",
      "Model:              Logit            Pseudo R-squared: 0.008   \n",
      "Dependent Variable: default          AIC:              293.4549\n",
      "Date:               2021-01-02 15:12 BIC:              302.4635\n",
      "No. Observations:   668              Log-Likelihood:   -144.73 \n",
      "Df Model:           1                LL-Null:          -145.83 \n",
      "Df Residuals:       666              LLR p-value:      0.13707 \n",
      "Converged:          1.0000           Scale:            1.0000  \n",
      "No. Iterations:     7.0000                                     \n",
      "---------------------------------------------------------------\n",
      "                Coef.  Std.Err.    z     P>|z|   [0.025  0.975]\n",
      "---------------------------------------------------------------\n",
      "Intercept      -2.9449   0.1984 -14.8462 0.0000 -3.3337 -2.5562\n",
      "debt_to_equity  0.1332   0.0869   1.5332 0.1252 -0.0371  0.3035\n",
      "===============================================================\n",
      "\n"
     ]
    },
    {
     "data": {
      "image/png": "[encoded data removed]",
      "text/plain": [
       "<Figure size 432x288 with 1 Axes>"
      ]
     },
     "metadata": {
      "needs_background": "light"
     },
     "output_type": "display_data"
    },
    {
     "data": {
      "image/png": "[encoded data removed]",
      "text/plain": [
       "<Figure size 432x288 with 1 Axes>"
      ]
     },
     "metadata": {
      "needs_background": "light"
     },
     "output_type": "display_data"
    },
    {
     "data": {
      "text/plain": [
       "<Figure size 432x288 with 0 Axes>"
      ]
     },
     "metadata": {},
     "output_type": "display_data"
    },
    {
     "data": {
      "image/png": "[encoded data removed]",
      "text/plain": [
       "<Figure size 403.375x360 with 1 Axes>"
      ]
     },
     "metadata": {
      "needs_background": "light"
     },
     "output_type": "display_data"
    }
   ],
   "source": [
    "sns.boxplot(y=\"debt_to_equity\",x=\"default\",data=df_train);\n",
    "plt.figure()\n",
    "sns.boxplot(y=np.log(df_train[\"debt_to_equity\"]),x=\"default\",\n",
    "            data=df_train).set_title(\"With log transformation\");\n",
    "plt.figure()\n",
    "sns.displot(df_train,x=\"debt_to_equity\",hue=\"default\",stat=\"density\",common_norm=False);\n",
    "\n",
    "mdl = sm.Logit.from_formula('default ~ debt_to_equity + 1', data=df_train).fit(disp=False, maxiter=100)\n",
    "print(mdl.summary2())"
   ]
  },
  {
   "cell_type": "markdown",
   "metadata": {},
   "source": [
    "# Our Logit Regression"
   ]
  },
  {
   "cell_type": "code",
   "execution_count": 78,
   "metadata": {
    "ExecuteTime": {
     "end_time": "2021-01-02T14:16:01.180960Z",
     "start_time": "2021-01-02T14:16:01.093014Z"
    }
   },
   "outputs": [
    {
     "name": "stdout",
     "output_type": "stream",
     "text": [
      "                        Results: Logit\n",
      "===============================================================\n",
      "Model:              Logit            Pseudo R-squared: 0.040   \n",
      "Dependent Variable: default          AIC:              295.9733\n",
      "Date:               2021-01-02 15:16 BIC:              331.9956\n",
      "No. Observations:   667              Log-Likelihood:   -139.99 \n",
      "Df Model:           7                LL-Null:          -145.77 \n",
      "Df Residuals:       659              LLR p-value:      0.11543 \n",
      "Converged:          1.0000           Scale:            1.0000  \n",
      "No. Iterations:     8.0000                                     \n",
      "---------------------------------------------------------------\n",
      "                 Coef.  Std.Err.    z    P>|z|   [0.025  0.975]\n",
      "---------------------------------------------------------------\n",
      "Intercept       -4.3928   1.2335 -3.5613 0.0004 -6.8104 -1.9752\n",
      "age_cat          0.4821   0.3385  1.4240 0.1544 -0.1814  1.1456\n",
      "ebit            -0.0000   0.0000 -1.2032 0.2289 -0.0000  0.0000\n",
      "wc_ratio        -0.2412   0.1520 -1.5866 0.1126 -0.5393  0.0568\n",
      "ocf_ratio        0.0004   0.0175  0.0201 0.9840 -0.0339  0.0346\n",
      "equity_ratio     0.8218   0.7236  1.1357 0.2561 -0.5964  2.2400\n",
      "debt_to_equity   0.1366   0.1259  1.0847 0.2781 -0.1102  0.3834\n",
      "roa             -1.4835   1.3328 -1.1131 0.2657 -4.0958  1.1287\n",
      "===============================================================\n",
      "\n"
     ]
    }
   ],
   "source": [
    "# 'ebit', 'profit', 'cash', 'wc_ratio', 'ocf_ratio', 'equity_ratio', 'debt_to_equity', 'roa'\n",
    "mdl1 = sm.Logit.from_formula('default ~ age_cat + ebit + wc_ratio + ocf_ratio + equity_ratio + debt_to_equity + roa + 1',\n",
    "                            data=df_train).fit(disp=False, maxiter=100)\n",
    "print(mdl1.summary2())"
   ]
  },
  {
   "cell_type": "code",
   "execution_count": 79,
   "metadata": {
    "ExecuteTime": {
     "end_time": "2021-01-02T14:16:03.578161Z",
     "start_time": "2021-01-02T14:16:03.460513Z"
    }
   },
   "outputs": [
    {
     "name": "stdout",
     "output_type": "stream",
     "text": [
      "Optimization terminated successfully.\n",
      "         Current function value: 0.206480\n",
      "         Iterations 8\n"
     ]
    },
    {
     "data": {
      "text/html": [
       "<table class=\"simpletable\">\n",
       "<tr>\n",
       "        <td>Model:</td>              <td>Logit</td>      <td>Pseudo R-squared:</td>   <td>0.054</td> \n",
       "</tr>\n",
       "<tr>\n",
       "  <td>Dependent Variable:</td>      <td>default</td>           <td>AIC:</td>        <td>293.8576</td>\n",
       "</tr>\n",
       "<tr>\n",
       "         <td>Date:</td>        <td>2021-01-02 15:16</td>       <td>BIC:</td>        <td>334.3962</td>\n",
       "</tr>\n",
       "<tr>\n",
       "   <td>No. Observations:</td>         <td>668</td>        <td>Log-Likelihood:</td>   <td>-137.93</td>\n",
       "</tr>\n",
       "<tr>\n",
       "       <td>Df Model:</td>              <td>8</td>            <td>LL-Null:</td>       <td>-145.83</td>\n",
       "</tr>\n",
       "<tr>\n",
       "     <td>Df Residuals:</td>           <td>659</td>         <td>LLR p-value:</td>    <td>0.045215</td>\n",
       "</tr>\n",
       "<tr>\n",
       "      <td>Converged:</td>           <td>1.0000</td>           <td>Scale:</td>        <td>1.0000</td> \n",
       "</tr>\n",
       "<tr>\n",
       "    <td>No. Iterations:</td>        <td>8.0000</td>              <td></td>              <td></td>    \n",
       "</tr>\n",
       "</table>\n",
       "<table class=\"simpletable\">\n",
       "<tr>\n",
       "         <td></td>         <th>Coef.</th>  <th>Std.Err.</th>    <th>z</th>     <th>P>|z|</th> <th>[0.025</th>  <th>0.975]</th> \n",
       "</tr>\n",
       "<tr>\n",
       "  <th>const</th>          <td>-1.5808</td>  <td>1.8058</td>  <td>-0.8754</td> <td>0.3814</td> <td>-5.1201</td> <td>1.9585</td> \n",
       "</tr>\n",
       "<tr>\n",
       "  <th>age_cat</th>        <td>0.4673</td>   <td>0.3408</td>  <td>1.3713</td>  <td>0.1703</td> <td>-0.2006</td> <td>1.1353</td> \n",
       "</tr>\n",
       "<tr>\n",
       "  <th>profit</th>         <td>-0.1907</td>  <td>0.0926</td>  <td>-2.0592</td> <td>0.0395</td> <td>-0.3721</td> <td>-0.0092</td>\n",
       "</tr>\n",
       "<tr>\n",
       "  <th>ebit</th>           <td>-0.0000</td>  <td>0.0000</td>  <td>-0.5529</td> <td>0.5803</td> <td>-0.0000</td> <td>0.0000</td> \n",
       "</tr>\n",
       "<tr>\n",
       "  <th>wc_ratio</th>       <td>-0.2432</td>  <td>0.1411</td>  <td>-1.7237</td> <td>0.0848</td> <td>-0.5197</td> <td>0.0333</td> \n",
       "</tr>\n",
       "<tr>\n",
       "  <th>ocf_ratio</th>      <td>-0.0007</td>  <td>0.0179</td>  <td>-0.0373</td> <td>0.9703</td> <td>-0.0358</td> <td>0.0345</td> \n",
       "</tr>\n",
       "<tr>\n",
       "  <th>equity_ratio</th>   <td>0.6779</td>   <td>0.6844</td>  <td>0.9904</td>  <td>0.3220</td> <td>-0.6636</td> <td>2.0194</td> \n",
       "</tr>\n",
       "<tr>\n",
       "  <th>debt_to_equity</th> <td>0.1455</td>   <td>0.1242</td>  <td>1.1710</td>  <td>0.2416</td> <td>-0.0980</td> <td>0.3890</td> \n",
       "</tr>\n",
       "<tr>\n",
       "  <th>roa</th>            <td>-1.6481</td>  <td>1.2648</td>  <td>-1.3031</td> <td>0.1926</td> <td>-4.1271</td> <td>0.8309</td> \n",
       "</tr>\n",
       "</table>"
      ],
      "text/plain": [
       "<class 'statsmodels.iolib.summary2.Summary'>\n",
       "\"\"\"\n",
       "                        Results: Logit\n",
       "===============================================================\n",
       "Model:              Logit            Pseudo R-squared: 0.054   \n",
       "Dependent Variable: default          AIC:              293.8576\n",
       "Date:               2021-01-02 15:16 BIC:              334.3962\n",
       "No. Observations:   668              Log-Likelihood:   -137.93 \n",
       "Df Model:           8                LL-Null:          -145.83 \n",
       "Df Residuals:       659              LLR p-value:      0.045215\n",
       "Converged:          1.0000           Scale:            1.0000  \n",
       "No. Iterations:     8.0000                                     \n",
       "---------------------------------------------------------------\n",
       "                 Coef.  Std.Err.    z    P>|z|   [0.025  0.975]\n",
       "---------------------------------------------------------------\n",
       "const           -1.5808   1.8058 -0.8754 0.3814 -5.1201  1.9585\n",
       "age_cat          0.4673   0.3408  1.3713 0.1703 -0.2006  1.1353\n",
       "profit          -0.1907   0.0926 -2.0592 0.0395 -0.3721 -0.0092\n",
       "ebit            -0.0000   0.0000 -0.5529 0.5803 -0.0000  0.0000\n",
       "wc_ratio        -0.2432   0.1411 -1.7237 0.0848 -0.5197  0.0333\n",
       "ocf_ratio       -0.0007   0.0179 -0.0373 0.9703 -0.0358  0.0345\n",
       "equity_ratio     0.6779   0.6844  0.9904 0.3220 -0.6636  2.0194\n",
       "debt_to_equity   0.1455   0.1242  1.1710 0.2416 -0.0980  0.3890\n",
       "roa             -1.6481   1.2648 -1.3031 0.1926 -4.1271  0.8309\n",
       "===============================================================\n",
       "\n",
       "\"\"\""
      ]
     },
     "execution_count": 79,
     "metadata": {},
     "output_type": "execute_result"
    }
   ],
   "source": [
    "y = df_train[\"default\"]\n",
    "X = df_train[['age_cat', 'profit', 'ebit', 'wc_ratio', 'ocf_ratio', 'equity_ratio', 'debt_to_equity', 'roa']]\n",
    "X = X.fillna(0)\n",
    "X = sm.add_constant(X)\n",
    "\n",
    "\n",
    "mdl2 = sm.Logit(y,X).fit()\n",
    "mdl2.summary2()"
   ]
  },
  {
   "cell_type": "code",
   "execution_count": 80,
   "metadata": {
    "ExecuteTime": {
     "end_time": "2021-01-02T14:16:05.640490Z",
     "start_time": "2021-01-02T14:16:05.596632Z"
    }
   },
   "outputs": [
    {
     "data": {
      "text/html": [
       "<div>\n",
       "<style scoped>\n",
       "    .dataframe tbody tr th:only-of-type {\n",
       "        vertical-align: middle;\n",
       "    }\n",
       "\n",
       "    .dataframe tbody tr th {\n",
       "        vertical-align: top;\n",
       "    }\n",
       "\n",
       "    .dataframe thead th {\n",
       "        text-align: right;\n",
       "    }\n",
       "</style>\n",
       "<table border=\"1\" class=\"dataframe\">\n",
       "  <thead>\n",
       "    <tr style=\"text-align: right;\">\n",
       "      <th></th>\n",
       "      <th>default</th>\n",
       "      <th>estimated PD in %</th>\n",
       "    </tr>\n",
       "  </thead>\n",
       "  <tbody>\n",
       "    <tr>\n",
       "      <th>409</th>\n",
       "      <td>0</td>\n",
       "      <td>23.03</td>\n",
       "    </tr>\n",
       "    <tr>\n",
       "      <th>566</th>\n",
       "      <td>1</td>\n",
       "      <td>20.64</td>\n",
       "    </tr>\n",
       "    <tr>\n",
       "      <th>500</th>\n",
       "      <td>0</td>\n",
       "      <td>19.88</td>\n",
       "    </tr>\n",
       "    <tr>\n",
       "      <th>416</th>\n",
       "      <td>0</td>\n",
       "      <td>19.05</td>\n",
       "    </tr>\n",
       "    <tr>\n",
       "      <th>517</th>\n",
       "      <td>0</td>\n",
       "      <td>17.68</td>\n",
       "    </tr>\n",
       "    <tr>\n",
       "      <th>...</th>\n",
       "      <td>...</td>\n",
       "      <td>...</td>\n",
       "    </tr>\n",
       "    <tr>\n",
       "      <th>601</th>\n",
       "      <td>0</td>\n",
       "      <td>0.23</td>\n",
       "    </tr>\n",
       "    <tr>\n",
       "      <th>258</th>\n",
       "      <td>0</td>\n",
       "      <td>0.23</td>\n",
       "    </tr>\n",
       "    <tr>\n",
       "      <th>54</th>\n",
       "      <td>0</td>\n",
       "      <td>0.23</td>\n",
       "    </tr>\n",
       "    <tr>\n",
       "      <th>123</th>\n",
       "      <td>0</td>\n",
       "      <td>0.23</td>\n",
       "    </tr>\n",
       "    <tr>\n",
       "      <th>501</th>\n",
       "      <td>0</td>\n",
       "      <td>0.17</td>\n",
       "    </tr>\n",
       "  </tbody>\n",
       "</table>\n",
       "<p>668 rows × 2 columns</p>\n",
       "</div>"
      ],
      "text/plain": [
       "     default  estimated PD in %\n",
       "409        0              23.03\n",
       "566        1              20.64\n",
       "500        0              19.88\n",
       "416        0              19.05\n",
       "517        0              17.68\n",
       "..       ...                ...\n",
       "601        0               0.23\n",
       "258        0               0.23\n",
       "54         0               0.23\n",
       "123        0               0.23\n",
       "501        0               0.17\n",
       "\n",
       "[668 rows x 2 columns]"
      ]
     },
     "execution_count": 80,
     "metadata": {},
     "output_type": "execute_result"
    }
   ],
   "source": [
    "# see how our model would have predicted the defaults \n",
    "s = pd.concat([df_train[\"default\"],round(mdl1.predict(X)*100,2)],axis=1,)\n",
    "s.columns = [\"default\",\"estimated PD in %\"]\n",
    "s.sort_values(by=\"estimated PD in %\",ascending=False)"
   ]
  },
  {
   "cell_type": "code",
   "execution_count": 81,
   "metadata": {
    "ExecuteTime": {
     "end_time": "2021-01-02T14:16:08.773379Z",
     "start_time": "2021-01-02T14:16:08.739889Z"
    }
   },
   "outputs": [
    {
     "data": {
      "text/html": [
       "<div>\n",
       "<style scoped>\n",
       "    .dataframe tbody tr th:only-of-type {\n",
       "        vertical-align: middle;\n",
       "    }\n",
       "\n",
       "    .dataframe tbody tr th {\n",
       "        vertical-align: top;\n",
       "    }\n",
       "\n",
       "    .dataframe thead th {\n",
       "        text-align: right;\n",
       "    }\n",
       "</style>\n",
       "<table border=\"1\" class=\"dataframe\">\n",
       "  <thead>\n",
       "    <tr style=\"text-align: right;\">\n",
       "      <th></th>\n",
       "      <th>default</th>\n",
       "      <th>estimated PD in %</th>\n",
       "    </tr>\n",
       "  </thead>\n",
       "  <tbody>\n",
       "    <tr>\n",
       "      <th>32</th>\n",
       "      <td>1</td>\n",
       "      <td>2.72</td>\n",
       "    </tr>\n",
       "    <tr>\n",
       "      <th>43</th>\n",
       "      <td>1</td>\n",
       "      <td>8.61</td>\n",
       "    </tr>\n",
       "    <tr>\n",
       "      <th>69</th>\n",
       "      <td>1</td>\n",
       "      <td>9.90</td>\n",
       "    </tr>\n",
       "    <tr>\n",
       "      <th>104</th>\n",
       "      <td>1</td>\n",
       "      <td>10.46</td>\n",
       "    </tr>\n",
       "    <tr>\n",
       "      <th>114</th>\n",
       "      <td>1</td>\n",
       "      <td>3.27</td>\n",
       "    </tr>\n",
       "    <tr>\n",
       "      <th>120</th>\n",
       "      <td>1</td>\n",
       "      <td>7.02</td>\n",
       "    </tr>\n",
       "    <tr>\n",
       "      <th>128</th>\n",
       "      <td>1</td>\n",
       "      <td>7.53</td>\n",
       "    </tr>\n",
       "    <tr>\n",
       "      <th>139</th>\n",
       "      <td>1</td>\n",
       "      <td>7.47</td>\n",
       "    </tr>\n",
       "    <tr>\n",
       "      <th>150</th>\n",
       "      <td>1</td>\n",
       "      <td>13.35</td>\n",
       "    </tr>\n",
       "    <tr>\n",
       "      <th>198</th>\n",
       "      <td>1</td>\n",
       "      <td>3.63</td>\n",
       "    </tr>\n",
       "    <tr>\n",
       "      <th>212</th>\n",
       "      <td>1</td>\n",
       "      <td>10.93</td>\n",
       "    </tr>\n",
       "    <tr>\n",
       "      <th>218</th>\n",
       "      <td>1</td>\n",
       "      <td>5.94</td>\n",
       "    </tr>\n",
       "    <tr>\n",
       "      <th>226</th>\n",
       "      <td>1</td>\n",
       "      <td>3.51</td>\n",
       "    </tr>\n",
       "    <tr>\n",
       "      <th>236</th>\n",
       "      <td>1</td>\n",
       "      <td>8.79</td>\n",
       "    </tr>\n",
       "    <tr>\n",
       "      <th>250</th>\n",
       "      <td>1</td>\n",
       "      <td>8.44</td>\n",
       "    </tr>\n",
       "    <tr>\n",
       "      <th>251</th>\n",
       "      <td>1</td>\n",
       "      <td>14.10</td>\n",
       "    </tr>\n",
       "    <tr>\n",
       "      <th>296</th>\n",
       "      <td>1</td>\n",
       "      <td>3.91</td>\n",
       "    </tr>\n",
       "    <tr>\n",
       "      <th>305</th>\n",
       "      <td>1</td>\n",
       "      <td>5.43</td>\n",
       "    </tr>\n",
       "    <tr>\n",
       "      <th>313</th>\n",
       "      <td>1</td>\n",
       "      <td>10.87</td>\n",
       "    </tr>\n",
       "    <tr>\n",
       "      <th>341</th>\n",
       "      <td>1</td>\n",
       "      <td>7.25</td>\n",
       "    </tr>\n",
       "    <tr>\n",
       "      <th>346</th>\n",
       "      <td>1</td>\n",
       "      <td>8.31</td>\n",
       "    </tr>\n",
       "    <tr>\n",
       "      <th>375</th>\n",
       "      <td>1</td>\n",
       "      <td>5.96</td>\n",
       "    </tr>\n",
       "    <tr>\n",
       "      <th>389</th>\n",
       "      <td>1</td>\n",
       "      <td>5.72</td>\n",
       "    </tr>\n",
       "    <tr>\n",
       "      <th>406</th>\n",
       "      <td>1</td>\n",
       "      <td>7.93</td>\n",
       "    </tr>\n",
       "    <tr>\n",
       "      <th>419</th>\n",
       "      <td>1</td>\n",
       "      <td>12.16</td>\n",
       "    </tr>\n",
       "    <tr>\n",
       "      <th>427</th>\n",
       "      <td>1</td>\n",
       "      <td>3.94</td>\n",
       "    </tr>\n",
       "    <tr>\n",
       "      <th>477</th>\n",
       "      <td>1</td>\n",
       "      <td>9.24</td>\n",
       "    </tr>\n",
       "    <tr>\n",
       "      <th>479</th>\n",
       "      <td>1</td>\n",
       "      <td>7.64</td>\n",
       "    </tr>\n",
       "    <tr>\n",
       "      <th>495</th>\n",
       "      <td>1</td>\n",
       "      <td>6.47</td>\n",
       "    </tr>\n",
       "    <tr>\n",
       "      <th>521</th>\n",
       "      <td>1</td>\n",
       "      <td>6.22</td>\n",
       "    </tr>\n",
       "    <tr>\n",
       "      <th>522</th>\n",
       "      <td>1</td>\n",
       "      <td>1.73</td>\n",
       "    </tr>\n",
       "    <tr>\n",
       "      <th>543</th>\n",
       "      <td>1</td>\n",
       "      <td>4.86</td>\n",
       "    </tr>\n",
       "    <tr>\n",
       "      <th>564</th>\n",
       "      <td>1</td>\n",
       "      <td>4.21</td>\n",
       "    </tr>\n",
       "    <tr>\n",
       "      <th>566</th>\n",
       "      <td>1</td>\n",
       "      <td>20.64</td>\n",
       "    </tr>\n",
       "    <tr>\n",
       "      <th>568</th>\n",
       "      <td>1</td>\n",
       "      <td>4.78</td>\n",
       "    </tr>\n",
       "    <tr>\n",
       "      <th>636</th>\n",
       "      <td>1</td>\n",
       "      <td>3.37</td>\n",
       "    </tr>\n",
       "    <tr>\n",
       "      <th>649</th>\n",
       "      <td>1</td>\n",
       "      <td>9.05</td>\n",
       "    </tr>\n",
       "    <tr>\n",
       "      <th>662</th>\n",
       "      <td>1</td>\n",
       "      <td>6.04</td>\n",
       "    </tr>\n",
       "  </tbody>\n",
       "</table>\n",
       "</div>"
      ],
      "text/plain": [
       "     default  estimated PD in %\n",
       "32         1               2.72\n",
       "43         1               8.61\n",
       "69         1               9.90\n",
       "104        1              10.46\n",
       "114        1               3.27\n",
       "120        1               7.02\n",
       "128        1               7.53\n",
       "139        1               7.47\n",
       "150        1              13.35\n",
       "198        1               3.63\n",
       "212        1              10.93\n",
       "218        1               5.94\n",
       "226        1               3.51\n",
       "236        1               8.79\n",
       "250        1               8.44\n",
       "251        1              14.10\n",
       "296        1               3.91\n",
       "305        1               5.43\n",
       "313        1              10.87\n",
       "341        1               7.25\n",
       "346        1               8.31\n",
       "375        1               5.96\n",
       "389        1               5.72\n",
       "406        1               7.93\n",
       "419        1              12.16\n",
       "427        1               3.94\n",
       "477        1               9.24\n",
       "479        1               7.64\n",
       "495        1               6.47\n",
       "521        1               6.22\n",
       "522        1               1.73\n",
       "543        1               4.86\n",
       "564        1               4.21\n",
       "566        1              20.64\n",
       "568        1               4.78\n",
       "636        1               3.37\n",
       "649        1               9.05\n",
       "662        1               6.04"
      ]
     },
     "execution_count": 81,
     "metadata": {},
     "output_type": "execute_result"
    }
   ],
   "source": [
    "s[s[\"default\"] == 1]"
   ]
  },
  {
   "cell_type": "code",
   "execution_count": 82,
   "metadata": {
    "ExecuteTime": {
     "end_time": "2021-01-02T14:16:12.557761Z",
     "start_time": "2021-01-02T14:16:12.503789Z"
    }
   },
   "outputs": [
    {
     "name": "stdout",
     "output_type": "stream",
     "text": [
      "Optimization terminated successfully.\n",
      "         Current function value: 0.202540\n",
      "         Iterations 9\n",
      "Mean Absolute Error: 0.11 .\n"
     ]
    }
   ],
   "source": [
    "# Splitting data into training and testing sets.\n",
    "train_features, test_features, train_labels, test_labels = train_test_split(X, y, test_size = 0.2, random_state = 42)\n",
    " \n",
    "# The splited Logit Model\n",
    "mdl2split = sm.Logit(train_labels,train_features).fit()\n",
    "mdl2split.summary2()\n",
    "\n",
    "# Predict the test data\n",
    "predictions_split = mdl2split.predict(test_features)\n",
    "# Predict the training data\n",
    "predictions_split_train = mdl2split.predict(train_features)\n",
    "\n",
    "# Calculate the absolute errors\n",
    "errors = abs(predictions_split - test_labels)\n",
    "# Print out the mean absolute error (mae)\n",
    "print('Mean Absolute Error:', round(np.mean(errors), 2), '.')"
   ]
  },
  {
   "cell_type": "code",
   "execution_count": 83,
   "metadata": {
    "ExecuteTime": {
     "end_time": "2021-01-02T14:16:14.818539Z",
     "start_time": "2021-01-02T14:16:14.293003Z"
    }
   },
   "outputs": [
    {
     "name": "stdout",
     "output_type": "stream",
     "text": [
      "Out sample: \n",
      "AUC (LY):   0.6220238095238095\n",
      "GINI (LY):  0.24404761904761907\n"
     ]
    },
    {
     "data": {
      "image/png": "[encoded data removed]",
      "text/plain": [
       "<Figure size 1080x360 with 1 Axes>"
      ]
     },
     "metadata": {
      "needs_background": "light"
     },
     "output_type": "display_data"
    }
   ],
   "source": [
    "#AUC & Gini Graph + Calculations of splitted logit\n",
    "\n",
    "fpr_split, tpr_split, thresholds_split = metrics.roc_curve(test_labels, predictions_split)\n",
    "auc_split = metrics.auc(fpr_split, tpr_split) \n",
    "\n",
    "#Predict the in sample (train) data for comparision\n",
    "fpr_split_train, tpr_split_train, thresholds_split_train = metrics.roc_curve(train_labels, predictions_split_train)\n",
    "auc_split_train = metrics.auc(fpr_split_train, tpr_split_train)\n",
    "\n",
    "fig, axes = plt.subplots(figsize=(15,5))\n",
    "lw = 2\n",
    "axes = plt.plot(fpr_split, tpr_split, color='darkred',\n",
    "         lw=lw, label='ROC curve test (area = %0.2f)' % auc_split)\n",
    "axes = plt.plot(fpr_split_train, tpr_split_train, color='darkgreen',\n",
    "         lw=lw, label='ROC curve train (area = %0.2f)' % auc_split_train)\n",
    "axes = plt.plot([0, 1], [0, 1], color='lightblue', lw=lw, linestyle='--')\n",
    "plt.xlim([0.0, 1.0])\n",
    "plt.ylim([0.0, 1.05])\n",
    "plt.xlabel('False Positive Rate')\n",
    "plt.ylabel('True Positive Rate')\n",
    "plt.title('Receiver operating characteristic example Logistic')\n",
    "plt.legend(loc=\"lower right\")\n",
    "\n",
    "print(\"Out sample: \")\n",
    "print('AUC (LY):  ',auc_split)\n",
    "print('GINI (LY): ', 2*auc_split -1)"
   ]
  },
  {
   "cell_type": "code",
   "execution_count": 84,
   "metadata": {
    "ExecuteTime": {
     "end_time": "2021-01-02T14:16:20.374315Z",
     "start_time": "2021-01-02T14:16:20.073756Z"
    }
   },
   "outputs": [
    {
     "name": "stdout",
     "output_type": "stream",
     "text": [
      "In sample: \n",
      "AUC L1:   0.6532163742690059\n",
      "GINI L1:  0.30643274853801183\n",
      "AUC L2:   0.6871345029239766\n",
      "GINI L2:  0.3742690058479532\n",
      "Splitted Logit Regression\n",
      "AUC L2:   0.6220238095238095\n",
      "GINI L2:  0.24404761904761907\n",
      "Out sample: \n",
      "AUC Test Sample:   0.6220238095238095\n",
      "GINI Test Sample:  0.24404761904761907\n"
     ]
    },
    {
     "data": {
      "image/png": "[encoded data removed]",
      "text/plain": [
       "<Figure size 1080x360 with 1 Axes>"
      ]
     },
     "metadata": {
      "needs_background": "light"
     },
     "output_type": "display_data"
    }
   ],
   "source": [
    "#AUC & Gini Graph + Calculations of old logit regression (red) splitted logit regression (green)\n",
    "predictions_L1 = mdl1.predict(X)\n",
    "predictions_L2 = mdl2.predict(X)\n",
    "#AUC & Gini Graph + Calculations\n",
    "fpr_L1, tpr_L1, thresholds_L1 = metrics.roc_curve(df_train['default'], predictions_L1)\n",
    "auc_L1 = metrics.auc(fpr_L1, tpr_L1)\n",
    "\n",
    "fpr_L2, tpr_L2, thresholds_L2 = metrics.roc_curve(df_train['default'], predictions_L2)\n",
    "auc_L2 = metrics.auc(fpr_L2, tpr_L2)\n",
    "\n",
    "fig, axes = plt.subplots(figsize=(15,5))\n",
    "lw = 2\n",
    "axes = plt.plot(fpr_L1, tpr_L1, color='darkred',\n",
    "         lw=lw, label='ROC curve L1(area = %0.2f)' % auc_L1)\n",
    "axes = plt.plot(fpr_L2, tpr_L2, color='darkred',\n",
    "         lw=lw, label='ROC curve L2(area = %0.2f)' % auc_L2)\n",
    "axes = plt.plot(fpr_split, tpr_split, color='green',\n",
    "         lw=lw, label='ROC curve split (area = %0.2f)' % auc_split)\n",
    "axes = plt.plot([0, 1], [0, 1], color='lightblue', lw=lw, linestyle='--')\n",
    "plt.xlim([0.0, 1.0])\n",
    "plt.ylim([0.0, 1.05])\n",
    "plt.xlabel('False Positive Rate')\n",
    "plt.ylabel('True Positive Rate')\n",
    "plt.title('Receiver operating characteristic example Logistic')\n",
    "plt.legend(loc=\"lower right\")\n",
    "\n",
    "print(\"In sample: \")\n",
    "print('AUC L1:  ',auc_L1)\n",
    "print('GINI L1: ', 2*auc_L1 -1)\n",
    "print('AUC L2:  ',auc_L2)\n",
    "print('GINI L2: ', 2*auc_L2 -1)\n",
    "print('Splitted Logit Regression')\n",
    "print('AUC L2:  ',auc_split)\n",
    "print('GINI L2: ', 2*auc_split -1)\n",
    "print(\"Out sample: \")\n",
    "print('AUC Test Sample:  ',auc_split)\n",
    "print('GINI Test Sample: ', 2*auc_split -1)\n",
    "# Overfitting wenn man alle Daten nimmt (trotzdem noch nicht gut RF hat AUC von 97 mit splitting). Bei Test Data eher schlechte Performance."
   ]
  },
  {
   "cell_type": "code",
   "execution_count": null,
   "metadata": {
    "ExecuteTime": {
     "end_time": "2020-12-30T09:32:31.903028Z",
     "start_time": "2020-12-30T09:32:31.861946Z"
    }
   },
   "outputs": [],
   "source": []
  },
  {
   "cell_type": "markdown",
   "metadata": {},
   "source": [
    "# PD Model preparation"
   ]
  },
  {
   "cell_type": "markdown",
   "metadata": {},
   "source": [
    "## Dependent variabel: Good/Bad (default) definition"
   ]
  },
  {
   "cell_type": "markdown",
   "metadata": {},
   "source": [
    "# PD model estimation"
   ]
  },
  {
   "cell_type": "markdown",
   "metadata": {},
   "source": [
    "# PD model validation"
   ]
  },
  {
   "cell_type": "markdown",
   "metadata": {},
   "source": []
  },
  {
   "cell_type": "markdown",
   "metadata": {},
   "source": [
    "## Out of sample validation (test)\n",
    "### Evaluation of model performance: accuracy and area under the curve (AUC)\n",
    "### Evalution of model performance: Gini"
   ]
  },
  {
   "cell_type": "code",
   "execution_count": null,
   "metadata": {},
   "outputs": [],
   "source": []
  },
  {
   "cell_type": "code",
   "execution_count": null,
   "metadata": {},
   "outputs": [],
   "source": []
  }
 ],
 "metadata": {
  "hide_input": false,
  "kernelspec": {
   "display_name": "Python 3",
   "language": "python",
   "name": "python3"
  },
  "latex_envs": {
   "LaTeX_envs_menu_present": true,
   "autoclose": false,
   "autocomplete": true,
   "bibliofile": "biblio.bib",
   "cite_by": "apalike",
   "current_citInitial": 1,
   "eqLabelWithNumbers": true,
   "eqNumInitial": 1,
   "hotkeys": {
    "equation": "Ctrl-E",
    "itemize": "Ctrl-I"
   },
   "labels_anchors": false,
   "latex_user_defs": false,
   "report_style_numbering": false,
   "user_envs_cfg": false
  },
  "toc": {
   "base_numbering": 1,
   "nav_menu": {
    "height": "259px",
    "width": "211px"
   },
   "number_sections": true,
   "sideBar": true,
   "skip_h1_title": false,
   "title_cell": "Table of Contents",
   "title_sidebar": "Contents",
   "toc_cell": false,
   "toc_position": {},
   "toc_section_display": true,
   "toc_window_display": true
  },
  "varInspector": {
   "cols": {
    "lenName": 16,
    "lenType": 16,
    "lenVar": 40
   },
   "kernels_config": {
    "python": {
     "delete_cmd_postfix": "",
     "delete_cmd_prefix": "del ",
     "library": "var_list.py",
     "varRefreshCmd": "print(var_dic_list())"
    },
    "r": {
     "delete_cmd_postfix": ") ",
     "delete_cmd_prefix": "rm(",
     "library": "var_list.r",
     "varRefreshCmd": "cat(var_dic_list()) "
    }
   },
   "position": {
    "height": "161.85px",
    "left": "1142px",
    "right": "20px",
    "top": "59px",
    "width": "333px"
   },
   "types_to_exclude": [
    "module",
    "function",
    "builtin_function_or_method",
    "instance",
    "_Feature"
   ],
   "window_display": true
  }
 },
 "nbformat": 4,
 "nbformat_minor": 2
}
