{
 "metadata": {
  "language_info": {
   "codemirror_mode": {
    "name": "ipython",
    "version": 3
   },
   "file_extension": ".py",
   "mimetype": "text/x-python",
   "name": "python",
   "nbconvert_exporter": "python",
   "pygments_lexer": "ipython3",
   "version": "3.8.2-final"
  },
  "orig_nbformat": 2,
  "kernelspec": {
   "name": "python3",
   "display_name": "Python 3.8.2 64-bit",
   "metadata": {
    "interpreter": {
     "hash": "1baa965d5efe3ac65b79dfc60c0d706280b1da80fedb7760faf2759126c4f253"
    }
   }
  }
 },
 "nbformat": 4,
 "nbformat_minor": 2,
 "cells": [
  {
   "source": [
    "# Setting\n",
    "## The path & packages"
   ],
   "cell_type": "markdown",
   "metadata": {}
  },
  {
   "cell_type": "code",
   "execution_count": 1,
   "metadata": {},
   "outputs": [],
   "source": [
    "#Comment out the other paths and comment in your path\n",
    "path = r'C:\\Users\\heuse\\Desktop\\SE_Risk_Management-1/' #Daniel Path\n",
    "#path = \n",
    "\n",
    "import pandas as pd\n",
    "import numpy as np\n",
    "\n",
    "#import matplotlib.pyplot as plt\n",
    "\n",
    "import seaborn as sns\n",
    "import statsmodels.api as sm\n",
    "import statsmodels.formula.api as smf\n",
    "import statsmodels.stats.anova as anova\n",
    "import scipy as sci\n",
    "\n",
    "from sklearn import metrics\n",
    "\n",
    "from sklearn.model_selection import train_test_split, RepeatedStratifiedKFold, cross_val_score\n",
    "from sklearn.linear_model import LogisticRegression\n",
    "from sklearn.metrics import roc_curve, roc_auc_score, confusion_matrix, precision_recall_curve, auc\n",
    "from sklearn.feature_selection import f_classif\n",
    "from sklearn.pipeline import Pipeline\n",
    "from sklearn.base import BaseEstimator, TransformerMixin\n",
    "from scipy.stats import chi2_contingency\n"
   ]
  },
  {
   "source": [
    "# Loading the data\n",
    "\n",
    "Loading the Training dataset + Test dataset"
   ],
   "cell_type": "markdown",
   "metadata": {}
  },
  {
   "cell_type": "code",
   "execution_count": 2,
   "metadata": {},
   "outputs": [],
   "source": [
    "# use the realtive path finding\n",
    "df_train = pd.read_csv(path + 'Training_Dataset.csv', sep=';', index_col=None)\n",
    "df_test = pd.read_csv(path + 'Test_Dataset.csv', sep=';', index_col=0)\n"
   ]
  },
  {
   "source": [
    "checking the data"
   ],
   "cell_type": "markdown",
   "metadata": {}
  },
  {
   "cell_type": "code",
   "execution_count": 3,
   "metadata": {},
   "outputs": [
    {
     "output_type": "execute_result",
     "data": {
      "text/plain": [
       "      id  default     legal_form  zip_code  sector  year_inc  count_emp  \\\n",
       "0  C_405        0  GmbH & Co. KG     12359   46730      1900        NaN   \n",
       "1  C_292        0  GmbH & Co. KG     10719   70101      1976        NaN   \n",
       "2  C_746        0           GmbH     13353   87100      1962      323.0   \n",
       "3  C_838        0             AG     12529   68320      1972        1.0   \n",
       "4  C_495        0    Einzelfirma     12165   47730      1908        NaN   \n",
       "\n",
       "  type_pl         sales  gross_performance  ...  bonds_payables_lt  \\\n",
       "0     GKV  1.068738e+08       1.068738e+08  ...                NaN   \n",
       "1     GKV  1.393869e+06       1.407889e+06  ...                NaN   \n",
       "2     GKV  3.864034e+06       7.597353e+05  ...                NaN   \n",
       "3     GKV  4.384786e+06       4.405058e+06  ...                NaN   \n",
       "4     GKV  1.104478e+08       1.104478e+08  ...                NaN   \n",
       "\n",
       "   total_equity  current_assets  monetary_current_assets         cash  \\\n",
       "0  3.224471e+07     37831990.81              17111465.66  10297047.50   \n",
       "1  4.508026e+06      4669178.63                927837.74    926383.75   \n",
       "2  5.164048e+04     28101189.79              11116958.92   9146283.79   \n",
       "3  1.182011e+07      8238473.86               7519183.22   6890565.23   \n",
       "4  4.547445e+08     35465651.58               8545183.94   5036615.09   \n",
       "\n",
       "   trade_receivables_st  trade_receivables_lt  cf_operating  cf_investment  \\\n",
       "0                   NaN                   NaN  6.986094e+06  -1.112342e+06   \n",
       "1                   NaN                   NaN -4.343980e+06   1.174427e+06   \n",
       "2             617816.28                   NaN  9.548544e+06  -7.536444e+06   \n",
       "3             319848.26                   NaN  1.715799e+06  -6.561222e+05   \n",
       "4             516646.73                   NaN  1.301809e+08  -1.419776e+08   \n",
       "\n",
       "   cf_financing  \n",
       "0   -7520392.09  \n",
       "1    1128108.08  \n",
       "2     -22026.07  \n",
       "3    -169655.66  \n",
       "4   12567030.80  \n",
       "\n",
       "[5 rows x 40 columns]"
      ],
      "text/html": "<div>\n<style scoped>\n    .dataframe tbody tr th:only-of-type {\n        vertical-align: middle;\n    }\n\n    .dataframe tbody tr th {\n        vertical-align: top;\n    }\n\n    .dataframe thead th {\n        text-align: right;\n    }\n</style>\n<table border=\"1\" class=\"dataframe\">\n  <thead>\n    <tr style=\"text-align: right;\">\n      <th></th>\n      <th>id</th>\n      <th>default</th>\n      <th>legal_form</th>\n      <th>zip_code</th>\n      <th>sector</th>\n      <th>year_inc</th>\n      <th>count_emp</th>\n      <th>type_pl</th>\n      <th>sales</th>\n      <th>gross_performance</th>\n      <th>...</th>\n      <th>bonds_payables_lt</th>\n      <th>total_equity</th>\n      <th>current_assets</th>\n      <th>monetary_current_assets</th>\n      <th>cash</th>\n      <th>trade_receivables_st</th>\n      <th>trade_receivables_lt</th>\n      <th>cf_operating</th>\n      <th>cf_investment</th>\n      <th>cf_financing</th>\n    </tr>\n  </thead>\n  <tbody>\n    <tr>\n      <th>0</th>\n      <td>C_405</td>\n      <td>0</td>\n      <td>GmbH &amp; Co. KG</td>\n      <td>12359</td>\n      <td>46730</td>\n      <td>1900</td>\n      <td>NaN</td>\n      <td>GKV</td>\n      <td>1.068738e+08</td>\n      <td>1.068738e+08</td>\n      <td>...</td>\n      <td>NaN</td>\n      <td>3.224471e+07</td>\n      <td>37831990.81</td>\n      <td>17111465.66</td>\n      <td>10297047.50</td>\n      <td>NaN</td>\n      <td>NaN</td>\n      <td>6.986094e+06</td>\n      <td>-1.112342e+06</td>\n      <td>-7520392.09</td>\n    </tr>\n    <tr>\n      <th>1</th>\n      <td>C_292</td>\n      <td>0</td>\n      <td>GmbH &amp; Co. KG</td>\n      <td>10719</td>\n      <td>70101</td>\n      <td>1976</td>\n      <td>NaN</td>\n      <td>GKV</td>\n      <td>1.393869e+06</td>\n      <td>1.407889e+06</td>\n      <td>...</td>\n      <td>NaN</td>\n      <td>4.508026e+06</td>\n      <td>4669178.63</td>\n      <td>927837.74</td>\n      <td>926383.75</td>\n      <td>NaN</td>\n      <td>NaN</td>\n      <td>-4.343980e+06</td>\n      <td>1.174427e+06</td>\n      <td>1128108.08</td>\n    </tr>\n    <tr>\n      <th>2</th>\n      <td>C_746</td>\n      <td>0</td>\n      <td>GmbH</td>\n      <td>13353</td>\n      <td>87100</td>\n      <td>1962</td>\n      <td>323.0</td>\n      <td>GKV</td>\n      <td>3.864034e+06</td>\n      <td>7.597353e+05</td>\n      <td>...</td>\n      <td>NaN</td>\n      <td>5.164048e+04</td>\n      <td>28101189.79</td>\n      <td>11116958.92</td>\n      <td>9146283.79</td>\n      <td>617816.28</td>\n      <td>NaN</td>\n      <td>9.548544e+06</td>\n      <td>-7.536444e+06</td>\n      <td>-22026.07</td>\n    </tr>\n    <tr>\n      <th>3</th>\n      <td>C_838</td>\n      <td>0</td>\n      <td>AG</td>\n      <td>12529</td>\n      <td>68320</td>\n      <td>1972</td>\n      <td>1.0</td>\n      <td>GKV</td>\n      <td>4.384786e+06</td>\n      <td>4.405058e+06</td>\n      <td>...</td>\n      <td>NaN</td>\n      <td>1.182011e+07</td>\n      <td>8238473.86</td>\n      <td>7519183.22</td>\n      <td>6890565.23</td>\n      <td>319848.26</td>\n      <td>NaN</td>\n      <td>1.715799e+06</td>\n      <td>-6.561222e+05</td>\n      <td>-169655.66</td>\n    </tr>\n    <tr>\n      <th>4</th>\n      <td>C_495</td>\n      <td>0</td>\n      <td>Einzelfirma</td>\n      <td>12165</td>\n      <td>47730</td>\n      <td>1908</td>\n      <td>NaN</td>\n      <td>GKV</td>\n      <td>1.104478e+08</td>\n      <td>1.104478e+08</td>\n      <td>...</td>\n      <td>NaN</td>\n      <td>4.547445e+08</td>\n      <td>35465651.58</td>\n      <td>8545183.94</td>\n      <td>5036615.09</td>\n      <td>516646.73</td>\n      <td>NaN</td>\n      <td>1.301809e+08</td>\n      <td>-1.419776e+08</td>\n      <td>12567030.80</td>\n    </tr>\n  </tbody>\n</table>\n<p>5 rows × 40 columns</p>\n</div>"
     },
     "metadata": {},
     "execution_count": 3
    }
   ],
   "source": [
    "df_train.head()"
   ]
  },
  {
   "cell_type": "code",
   "execution_count": 4,
   "metadata": {},
   "outputs": [
    {
     "output_type": "execute_result",
     "data": {
      "text/plain": [
       "      legal_form  zip_code  sector  year_inc  count_emp type_pl        sales  \\\n",
       "id                                                                             \n",
       "C_411       GmbH     14089   69204      1986        NaN     GKV    728946.68   \n",
       "C_896       GmbH     13127   87100      1992      181.0     GKV    708847.33   \n",
       "C_252       GmbH     14059   86101      1993      505.0     GKV  26025323.61   \n",
       "C_165       GmbH     10437   87100      1995       82.0     GKV   1105332.48   \n",
       "C_856       GmbH     14943   96090      2002       22.0     GKV  51995424.22   \n",
       "C_415       GmbH     10969   68321      2006        NaN     GKV  13597456.35   \n",
       "C_520       GmbH     10625   68100      2010        NaN     GKV  10365544.05   \n",
       "C_127       GmbH     29308   87100      2007        NaN     GKV  10129943.12   \n",
       "\n",
       "       gross_performance  gross_profit  earn_from_op  ...  bonds_payables_lt  \\\n",
       "id                                                    ...                      \n",
       "C_411          728946.68     209721.36      45390.50  ...                NaN   \n",
       "C_896          708847.33     738495.17      13017.29  ...                NaN   \n",
       "C_252        26015542.03   22022993.85    2086104.36  ...                NaN   \n",
       "C_165         1105332.48     717405.05      88074.80  ...                NaN   \n",
       "C_856        51979901.95   46420844.34    5956777.13  ...                NaN   \n",
       "C_415        13597456.35    7667501.25    -109859.68  ...                NaN   \n",
       "C_520        10365544.05    7931366.20     565338.94  ...                NaN   \n",
       "C_127        10486827.90    5959584.15     435328.26  ...                NaN   \n",
       "\n",
       "       total_equity  current_assets  monetary_current_assets        cash  \\\n",
       "id                                                                         \n",
       "C_411           NaN        64195.98                 28659.19     5598.17   \n",
       "C_896     442875.57       479144.25                452033.96   442835.62   \n",
       "C_252   13733666.50     14504753.93               3441491.02   322075.13   \n",
       "C_165     381990.95       371506.04                343269.12   256395.19   \n",
       "C_856    6828494.53     18909648.90              15619860.60  6720068.91   \n",
       "C_415          0.00      1273354.65               1277275.04     5848.43   \n",
       "C_520    8823433.07      7715921.82               7749440.79  6802934.01   \n",
       "C_127    1990015.77      3451499.64               1352994.01     1349.09   \n",
       "\n",
       "       trade_receivables_st  trade_receivables_lt  cf_operating  \\\n",
       "id                                                                \n",
       "C_411                   NaN                   NaN      52632.64   \n",
       "C_896                   NaN                   NaN     -10575.21   \n",
       "C_252            3034766.29                   NaN    2862349.65   \n",
       "C_165                   NaN                   NaN     156251.71   \n",
       "C_856            8847966.22                   NaN    5696079.15   \n",
       "C_415             136628.62                   NaN      83600.84   \n",
       "C_520             855343.08                   NaN    1051697.31   \n",
       "C_127             986648.60                   NaN     -56012.29   \n",
       "\n",
       "       cf_investment  cf_financing  \n",
       "id                                  \n",
       "C_411        -534.87 -5.457891e+04  \n",
       "C_896       -1295.42 -5.820000e-11  \n",
       "C_252     -667342.46 -2.091456e+06  \n",
       "C_165      -57344.11 -1.160000e-10  \n",
       "C_856    -1418555.39 -4.163971e+06  \n",
       "C_415     1560281.10 -1.643803e+06  \n",
       "C_520     -366425.37 -5.398260e+03  \n",
       "C_127     -533257.11  4.586848e+05  \n",
       "\n",
       "[8 rows x 38 columns]"
      ],
      "text/html": "<div>\n<style scoped>\n    .dataframe tbody tr th:only-of-type {\n        vertical-align: middle;\n    }\n\n    .dataframe tbody tr th {\n        vertical-align: top;\n    }\n\n    .dataframe thead th {\n        text-align: right;\n    }\n</style>\n<table border=\"1\" class=\"dataframe\">\n  <thead>\n    <tr style=\"text-align: right;\">\n      <th></th>\n      <th>legal_form</th>\n      <th>zip_code</th>\n      <th>sector</th>\n      <th>year_inc</th>\n      <th>count_emp</th>\n      <th>type_pl</th>\n      <th>sales</th>\n      <th>gross_performance</th>\n      <th>gross_profit</th>\n      <th>earn_from_op</th>\n      <th>...</th>\n      <th>bonds_payables_lt</th>\n      <th>total_equity</th>\n      <th>current_assets</th>\n      <th>monetary_current_assets</th>\n      <th>cash</th>\n      <th>trade_receivables_st</th>\n      <th>trade_receivables_lt</th>\n      <th>cf_operating</th>\n      <th>cf_investment</th>\n      <th>cf_financing</th>\n    </tr>\n    <tr>\n      <th>id</th>\n      <th></th>\n      <th></th>\n      <th></th>\n      <th></th>\n      <th></th>\n      <th></th>\n      <th></th>\n      <th></th>\n      <th></th>\n      <th></th>\n      <th></th>\n      <th></th>\n      <th></th>\n      <th></th>\n      <th></th>\n      <th></th>\n      <th></th>\n      <th></th>\n      <th></th>\n      <th></th>\n      <th></th>\n    </tr>\n  </thead>\n  <tbody>\n    <tr>\n      <th>C_411</th>\n      <td>GmbH</td>\n      <td>14089</td>\n      <td>69204</td>\n      <td>1986</td>\n      <td>NaN</td>\n      <td>GKV</td>\n      <td>728946.68</td>\n      <td>728946.68</td>\n      <td>209721.36</td>\n      <td>45390.50</td>\n      <td>...</td>\n      <td>NaN</td>\n      <td>NaN</td>\n      <td>64195.98</td>\n      <td>28659.19</td>\n      <td>5598.17</td>\n      <td>NaN</td>\n      <td>NaN</td>\n      <td>52632.64</td>\n      <td>-534.87</td>\n      <td>-5.457891e+04</td>\n    </tr>\n    <tr>\n      <th>C_896</th>\n      <td>GmbH</td>\n      <td>13127</td>\n      <td>87100</td>\n      <td>1992</td>\n      <td>181.0</td>\n      <td>GKV</td>\n      <td>708847.33</td>\n      <td>708847.33</td>\n      <td>738495.17</td>\n      <td>13017.29</td>\n      <td>...</td>\n      <td>NaN</td>\n      <td>442875.57</td>\n      <td>479144.25</td>\n      <td>452033.96</td>\n      <td>442835.62</td>\n      <td>NaN</td>\n      <td>NaN</td>\n      <td>-10575.21</td>\n      <td>-1295.42</td>\n      <td>-5.820000e-11</td>\n    </tr>\n    <tr>\n      <th>C_252</th>\n      <td>GmbH</td>\n      <td>14059</td>\n      <td>86101</td>\n      <td>1993</td>\n      <td>505.0</td>\n      <td>GKV</td>\n      <td>26025323.61</td>\n      <td>26015542.03</td>\n      <td>22022993.85</td>\n      <td>2086104.36</td>\n      <td>...</td>\n      <td>NaN</td>\n      <td>13733666.50</td>\n      <td>14504753.93</td>\n      <td>3441491.02</td>\n      <td>322075.13</td>\n      <td>3034766.29</td>\n      <td>NaN</td>\n      <td>2862349.65</td>\n      <td>-667342.46</td>\n      <td>-2.091456e+06</td>\n    </tr>\n    <tr>\n      <th>C_165</th>\n      <td>GmbH</td>\n      <td>10437</td>\n      <td>87100</td>\n      <td>1995</td>\n      <td>82.0</td>\n      <td>GKV</td>\n      <td>1105332.48</td>\n      <td>1105332.48</td>\n      <td>717405.05</td>\n      <td>88074.80</td>\n      <td>...</td>\n      <td>NaN</td>\n      <td>381990.95</td>\n      <td>371506.04</td>\n      <td>343269.12</td>\n      <td>256395.19</td>\n      <td>NaN</td>\n      <td>NaN</td>\n      <td>156251.71</td>\n      <td>-57344.11</td>\n      <td>-1.160000e-10</td>\n    </tr>\n    <tr>\n      <th>C_856</th>\n      <td>GmbH</td>\n      <td>14943</td>\n      <td>96090</td>\n      <td>2002</td>\n      <td>22.0</td>\n      <td>GKV</td>\n      <td>51995424.22</td>\n      <td>51979901.95</td>\n      <td>46420844.34</td>\n      <td>5956777.13</td>\n      <td>...</td>\n      <td>NaN</td>\n      <td>6828494.53</td>\n      <td>18909648.90</td>\n      <td>15619860.60</td>\n      <td>6720068.91</td>\n      <td>8847966.22</td>\n      <td>NaN</td>\n      <td>5696079.15</td>\n      <td>-1418555.39</td>\n      <td>-4.163971e+06</td>\n    </tr>\n    <tr>\n      <th>C_415</th>\n      <td>GmbH</td>\n      <td>10969</td>\n      <td>68321</td>\n      <td>2006</td>\n      <td>NaN</td>\n      <td>GKV</td>\n      <td>13597456.35</td>\n      <td>13597456.35</td>\n      <td>7667501.25</td>\n      <td>-109859.68</td>\n      <td>...</td>\n      <td>NaN</td>\n      <td>0.00</td>\n      <td>1273354.65</td>\n      <td>1277275.04</td>\n      <td>5848.43</td>\n      <td>136628.62</td>\n      <td>NaN</td>\n      <td>83600.84</td>\n      <td>1560281.10</td>\n      <td>-1.643803e+06</td>\n    </tr>\n    <tr>\n      <th>C_520</th>\n      <td>GmbH</td>\n      <td>10625</td>\n      <td>68100</td>\n      <td>2010</td>\n      <td>NaN</td>\n      <td>GKV</td>\n      <td>10365544.05</td>\n      <td>10365544.05</td>\n      <td>7931366.20</td>\n      <td>565338.94</td>\n      <td>...</td>\n      <td>NaN</td>\n      <td>8823433.07</td>\n      <td>7715921.82</td>\n      <td>7749440.79</td>\n      <td>6802934.01</td>\n      <td>855343.08</td>\n      <td>NaN</td>\n      <td>1051697.31</td>\n      <td>-366425.37</td>\n      <td>-5.398260e+03</td>\n    </tr>\n    <tr>\n      <th>C_127</th>\n      <td>GmbH</td>\n      <td>29308</td>\n      <td>87100</td>\n      <td>2007</td>\n      <td>NaN</td>\n      <td>GKV</td>\n      <td>10129943.12</td>\n      <td>10486827.90</td>\n      <td>5959584.15</td>\n      <td>435328.26</td>\n      <td>...</td>\n      <td>NaN</td>\n      <td>1990015.77</td>\n      <td>3451499.64</td>\n      <td>1352994.01</td>\n      <td>1349.09</td>\n      <td>986648.60</td>\n      <td>NaN</td>\n      <td>-56012.29</td>\n      <td>-533257.11</td>\n      <td>4.586848e+05</td>\n    </tr>\n  </tbody>\n</table>\n<p>8 rows × 38 columns</p>\n</div>"
     },
     "metadata": {},
     "execution_count": 4
    }
   ],
   "source": [
    "df_test.head(8)"
   ]
  },
  {
   "source": [
    "# Variables\n",
    "\n",
    "## Renaming of some colums\n",
    "We decided to not rename any varialbes\n",
    "\n",
    "## Further variable coding\n",
    "Transforming variables"
   ],
   "cell_type": "markdown",
   "metadata": {}
  },
  {
   "source": [
    "# Understanding your data\n",
    "\n",
    "\n",
    "## Univartiate descriptive anaylsis\n",
    "\n",
    "The datatype of the variables is important as in dermines how you have to look at the data"
   ],
   "cell_type": "markdown",
   "metadata": {}
  },
  {
   "cell_type": "code",
   "execution_count": 5,
   "metadata": {},
   "outputs": [
    {
     "output_type": "execute_result",
     "data": {
      "text/plain": [
       "['id', 'legal_form', 'type_pl']"
      ]
     },
     "metadata": {},
     "execution_count": 5
    }
   ],
   "source": [
    "catvar = [i for i in list(df_train.columns) if df_train[i].dtype=='O']\n",
    "catvar # categorial variables"
   ]
  },
  {
   "cell_type": "code",
   "execution_count": 6,
   "metadata": {},
   "outputs": [
    {
     "output_type": "execute_result",
     "data": {
      "text/plain": [
       "['default',\n",
       " 'zip_code',\n",
       " 'sector',\n",
       " 'year_inc',\n",
       " 'count_emp',\n",
       " 'sales',\n",
       " 'gross_performance',\n",
       " 'gross_profit',\n",
       " 'earn_from_op',\n",
       " 'fin_result',\n",
       " 'oth_interest_inc',\n",
       " 'oth_interest_exp',\n",
       " 'result_from_ord_bus',\n",
       " 'total_result',\n",
       " 'annual_profit',\n",
       " 'total_assets',\n",
       " 'total_liabilities_st',\n",
       " 'total_liabilities_mt',\n",
       " 'total_liabilities_lt',\n",
       " 'bank_liabilities_st',\n",
       " 'bank_liabilities_mt',\n",
       " 'bank_liabilities_lt',\n",
       " 'trade_payables_st',\n",
       " 'trade_payables_mt',\n",
       " 'trade_payables_lt',\n",
       " 'bonds_payables_st',\n",
       " 'bonds_payables_mt',\n",
       " 'bonds_payables_lt',\n",
       " 'total_equity',\n",
       " 'current_assets',\n",
       " 'monetary_current_assets',\n",
       " 'cash',\n",
       " 'trade_receivables_st',\n",
       " 'trade_receivables_lt',\n",
       " 'cf_operating',\n",
       " 'cf_investment',\n",
       " 'cf_financing']"
      ]
     },
     "metadata": {},
     "execution_count": 6
    }
   ],
   "source": [
    "numvar = [i for i in list(df_train.columns) if df_train[i].dtype in ['float64','int64']]\n",
    "numvar # numberical variables"
   ]
  },
  {
   "source": [
    "## Missing values\n",
    "\n",
    "Overview of missing values in the data"
   ],
   "cell_type": "markdown",
   "metadata": {}
  },
  {
   "cell_type": "code",
   "execution_count": 7,
   "metadata": {},
   "outputs": [
    {
     "output_type": "execute_result",
     "data": {
      "text/plain": [
       "bonds_payables_st          669\n",
       "bonds_payables_lt          669\n",
       "trade_payables_lt          665\n",
       "bonds_payables_mt          664\n",
       "trade_payables_mt          648\n",
       "trade_receivables_lt       645\n",
       "bank_liabilities_lt        545\n",
       "bank_liabilities_mt        483\n",
       "trade_receivables_st       355\n",
       "count_emp                  353\n",
       "bank_liabilities_st        352\n",
       "trade_payables_st          143\n",
       "oth_interest_inc           127\n",
       "oth_interest_exp            62\n",
       "cash                        32\n",
       "fin_result                  22\n",
       "total_equity                21\n",
       "gross_profit                 7\n",
       "gross_performance            7\n",
       "result_from_ord_bus          1\n",
       "sales                        1\n",
       "earn_from_op                 1\n",
       "cf_financing                 1\n",
       "annual_profit                1\n",
       "total_assets                 1\n",
       "cf_investment                1\n",
       "current_assets               1\n",
       "cf_operating                 1\n",
       "sector                       0\n",
       "zip_code                     0\n",
       "legal_form                   0\n",
       "default                      0\n",
       "year_inc                     0\n",
       "total_liabilities_st         0\n",
       "type_pl                      0\n",
       "total_result                 0\n",
       "total_liabilities_mt         0\n",
       "total_liabilities_lt         0\n",
       "monetary_current_assets      0\n",
       "id                           0\n",
       "dtype: int64"
      ]
     },
     "metadata": {},
     "execution_count": 7
    }
   ],
   "source": [
    "df_train.isnull().sum().sort_values(ascending=False)"
   ]
  },
  {
   "source": [
    "# Data Cleaning\n"
   ],
   "cell_type": "markdown",
   "metadata": {}
  },
  {
   "source": [],
   "cell_type": "markdown",
   "metadata": {}
  },
  {
   "source": [
    "# PD Model preparation"
   ],
   "cell_type": "markdown",
   "metadata": {}
  },
  {
   "source": [
    "# PD model estimation"
   ],
   "cell_type": "markdown",
   "metadata": {}
  },
  {
   "source": [
    "## Dependent variabel: Good/Bad (default) definition"
   ],
   "cell_type": "markdown",
   "metadata": {}
  },
  {
   "source": [
    "# PD model validation"
   ],
   "cell_type": "markdown",
   "metadata": {}
  },
  {
   "source": [
    "## Out of sample validation (test)\n",
    "### Evaluation of model performance: accuracy and area under the curve (AUC)\n",
    "### Evalution of model performance: Gini"
   ],
   "cell_type": "markdown",
   "metadata": {}
  },
  {
   "source": [],
   "cell_type": "markdown",
   "metadata": {}
  }
 ]
}