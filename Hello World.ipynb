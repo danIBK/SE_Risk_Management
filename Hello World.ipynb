{
 "cells": [
  {
   "cell_type": "code",
   "execution_count": 131,
   "metadata": {},
   "outputs": [
    {
     "data": {
      "text/plain": [
       "'upload'"
      ]
     },
     "execution_count": 131,
     "metadata": {},
     "output_type": "execute_result"
    }
   ],
   "source": [
    "# Setting\n",
    "## The path & packages\n",
    "'upload'"
   ]
  },
  {
   "cell_type": "code",
   "execution_count": 132,
   "metadata": {
    "ExecuteTime": {
     "end_time": "2020-12-20T17:54:41.015226Z",
     "start_time": "2020-12-20T17:54:41.005460Z"
    }
   },
   "outputs": [],
   "source": [
    "#Comment out the other paths and comment in your path\n",
    "#path = r'C:\\Users\\heuse\\Desktop\\SE_Risk_Management-1/' #Daniel Path\n",
    "#path = '/Users/mandoholzknecht/SE_Risk_Management/' # Path Mando\n",
    "path = 'C:/Users/Fabio/OneDrive/Dokumente/Uni Innsbruck/WS20/Applied risk mgmt/SE/Heusli/SE_Risk_Management/' # Path Fabio\n",
    "\n",
    "import pandas as pd\n",
    "import numpy as np\n",
    "import matplotlib.pyplot as plt\n",
    "\n",
    "\n",
    "import seaborn as sns\n",
    "import statsmodels.api as sm\n",
    "import statsmodels.formula.api as smf\n",
    "import statsmodels.stats.anova as anova\n",
    "import scipy as sci\n",
    "\n",
    "from sklearn import metrics\n",
    "\n",
    "from sklearn.model_selection import train_test_split, RepeatedStratifiedKFold, cross_val_score\n",
    "from sklearn.linear_model import LogisticRegression\n",
    "from sklearn.metrics import roc_curve, roc_auc_score, confusion_matrix, precision_recall_curve, auc\n",
    "from sklearn.feature_selection import f_classif\n",
    "from sklearn.pipeline import Pipeline\n",
    "from sklearn.base import BaseEstimator, TransformerMixin\n",
    "from scipy.stats import chi2_contingency\n",
    "from sklearn.linear_model import LinearRegression\n",
    "from sklearn.metrics import mean_squared_error\n",
    "\n",
    "import datetime\n"
   ]
  },
  {
   "cell_type": "markdown",
   "metadata": {},
   "source": [
    "# Loading the data\n",
    "\n",
    "Loading the Training dataset + Test dataset"
   ]
  },
  {
   "cell_type": "code",
   "execution_count": 133,
   "metadata": {
    "ExecuteTime": {
     "end_time": "2020-12-20T17:54:42.937628Z",
     "start_time": "2020-12-20T17:54:42.902709Z"
    }
   },
   "outputs": [],
   "source": [
    "# use the realtive path finding\n",
    "df_train = pd.read_csv(path + 'Training_Dataset.csv', sep=';', index_col=None)\n",
    "df_test = pd.read_csv(path + 'Test_Dataset.csv', sep=';', index_col=0)\n"
   ]
  },
  {
   "cell_type": "markdown",
   "metadata": {},
   "source": [
    "checking the data"
   ]
  },
  {
   "cell_type": "code",
   "execution_count": 134,
   "metadata": {
    "ExecuteTime": {
     "end_time": "2020-12-20T17:54:44.515020Z",
     "start_time": "2020-12-20T17:54:44.467312Z"
    }
   },
   "outputs": [
    {
     "data": {
      "text/html": [
       "<div>\n",
       "<style scoped>\n",
       "    .dataframe tbody tr th:only-of-type {\n",
       "        vertical-align: middle;\n",
       "    }\n",
       "\n",
       "    .dataframe tbody tr th {\n",
       "        vertical-align: top;\n",
       "    }\n",
       "\n",
       "    .dataframe thead th {\n",
       "        text-align: right;\n",
       "    }\n",
       "</style>\n",
       "<table border=\"1\" class=\"dataframe\">\n",
       "  <thead>\n",
       "    <tr style=\"text-align: right;\">\n",
       "      <th></th>\n",
       "      <th>id</th>\n",
       "      <th>default</th>\n",
       "      <th>legal_form</th>\n",
       "      <th>zip_code</th>\n",
       "      <th>sector</th>\n",
       "      <th>year_inc</th>\n",
       "      <th>count_emp</th>\n",
       "      <th>type_pl</th>\n",
       "      <th>sales</th>\n",
       "      <th>gross_performance</th>\n",
       "      <th>...</th>\n",
       "      <th>bonds_payables_lt</th>\n",
       "      <th>total_equity</th>\n",
       "      <th>current_assets</th>\n",
       "      <th>monetary_current_assets</th>\n",
       "      <th>cash</th>\n",
       "      <th>trade_receivables_st</th>\n",
       "      <th>trade_receivables_lt</th>\n",
       "      <th>cf_operating</th>\n",
       "      <th>cf_investment</th>\n",
       "      <th>cf_financing</th>\n",
       "    </tr>\n",
       "  </thead>\n",
       "  <tbody>\n",
       "    <tr>\n",
       "      <th>0</th>\n",
       "      <td>C_405</td>\n",
       "      <td>0</td>\n",
       "      <td>GmbH &amp; Co. KG</td>\n",
       "      <td>12359</td>\n",
       "      <td>46730</td>\n",
       "      <td>1900</td>\n",
       "      <td>NaN</td>\n",
       "      <td>GKV</td>\n",
       "      <td>1.068738e+08</td>\n",
       "      <td>1.068738e+08</td>\n",
       "      <td>...</td>\n",
       "      <td>NaN</td>\n",
       "      <td>3.224471e+07</td>\n",
       "      <td>37831990.81</td>\n",
       "      <td>17111465.66</td>\n",
       "      <td>10297047.50</td>\n",
       "      <td>NaN</td>\n",
       "      <td>NaN</td>\n",
       "      <td>6.986094e+06</td>\n",
       "      <td>-1.112342e+06</td>\n",
       "      <td>-7520392.09</td>\n",
       "    </tr>\n",
       "    <tr>\n",
       "      <th>1</th>\n",
       "      <td>C_292</td>\n",
       "      <td>0</td>\n",
       "      <td>GmbH &amp; Co. KG</td>\n",
       "      <td>10719</td>\n",
       "      <td>70101</td>\n",
       "      <td>1976</td>\n",
       "      <td>NaN</td>\n",
       "      <td>GKV</td>\n",
       "      <td>1.393869e+06</td>\n",
       "      <td>1.407889e+06</td>\n",
       "      <td>...</td>\n",
       "      <td>NaN</td>\n",
       "      <td>4.508026e+06</td>\n",
       "      <td>4669178.63</td>\n",
       "      <td>927837.74</td>\n",
       "      <td>926383.75</td>\n",
       "      <td>NaN</td>\n",
       "      <td>NaN</td>\n",
       "      <td>-4.343980e+06</td>\n",
       "      <td>1.174427e+06</td>\n",
       "      <td>1128108.08</td>\n",
       "    </tr>\n",
       "    <tr>\n",
       "      <th>2</th>\n",
       "      <td>C_746</td>\n",
       "      <td>0</td>\n",
       "      <td>GmbH</td>\n",
       "      <td>13353</td>\n",
       "      <td>87100</td>\n",
       "      <td>1962</td>\n",
       "      <td>323.0</td>\n",
       "      <td>GKV</td>\n",
       "      <td>3.864034e+06</td>\n",
       "      <td>7.597353e+05</td>\n",
       "      <td>...</td>\n",
       "      <td>NaN</td>\n",
       "      <td>5.164048e+04</td>\n",
       "      <td>28101189.79</td>\n",
       "      <td>11116958.92</td>\n",
       "      <td>9146283.79</td>\n",
       "      <td>617816.28</td>\n",
       "      <td>NaN</td>\n",
       "      <td>9.548544e+06</td>\n",
       "      <td>-7.536444e+06</td>\n",
       "      <td>-22026.07</td>\n",
       "    </tr>\n",
       "    <tr>\n",
       "      <th>3</th>\n",
       "      <td>C_838</td>\n",
       "      <td>0</td>\n",
       "      <td>AG</td>\n",
       "      <td>12529</td>\n",
       "      <td>68320</td>\n",
       "      <td>1972</td>\n",
       "      <td>1.0</td>\n",
       "      <td>GKV</td>\n",
       "      <td>4.384786e+06</td>\n",
       "      <td>4.405058e+06</td>\n",
       "      <td>...</td>\n",
       "      <td>NaN</td>\n",
       "      <td>1.182011e+07</td>\n",
       "      <td>8238473.86</td>\n",
       "      <td>7519183.22</td>\n",
       "      <td>6890565.23</td>\n",
       "      <td>319848.26</td>\n",
       "      <td>NaN</td>\n",
       "      <td>1.715799e+06</td>\n",
       "      <td>-6.561222e+05</td>\n",
       "      <td>-169655.66</td>\n",
       "    </tr>\n",
       "    <tr>\n",
       "      <th>4</th>\n",
       "      <td>C_495</td>\n",
       "      <td>0</td>\n",
       "      <td>Einzelfirma</td>\n",
       "      <td>12165</td>\n",
       "      <td>47730</td>\n",
       "      <td>1908</td>\n",
       "      <td>NaN</td>\n",
       "      <td>GKV</td>\n",
       "      <td>1.104478e+08</td>\n",
       "      <td>1.104478e+08</td>\n",
       "      <td>...</td>\n",
       "      <td>NaN</td>\n",
       "      <td>4.547445e+08</td>\n",
       "      <td>35465651.58</td>\n",
       "      <td>8545183.94</td>\n",
       "      <td>5036615.09</td>\n",
       "      <td>516646.73</td>\n",
       "      <td>NaN</td>\n",
       "      <td>1.301809e+08</td>\n",
       "      <td>-1.419776e+08</td>\n",
       "      <td>12567030.80</td>\n",
       "    </tr>\n",
       "  </tbody>\n",
       "</table>\n",
       "<p>5 rows × 40 columns</p>\n",
       "</div>"
      ],
      "text/plain": [
       "      id  default     legal_form  zip_code  sector  year_inc  count_emp  \\\n",
       "0  C_405        0  GmbH & Co. KG     12359   46730      1900        NaN   \n",
       "1  C_292        0  GmbH & Co. KG     10719   70101      1976        NaN   \n",
       "2  C_746        0           GmbH     13353   87100      1962      323.0   \n",
       "3  C_838        0             AG     12529   68320      1972        1.0   \n",
       "4  C_495        0    Einzelfirma     12165   47730      1908        NaN   \n",
       "\n",
       "  type_pl         sales  gross_performance  ...  bonds_payables_lt  \\\n",
       "0     GKV  1.068738e+08       1.068738e+08  ...                NaN   \n",
       "1     GKV  1.393869e+06       1.407889e+06  ...                NaN   \n",
       "2     GKV  3.864034e+06       7.597353e+05  ...                NaN   \n",
       "3     GKV  4.384786e+06       4.405058e+06  ...                NaN   \n",
       "4     GKV  1.104478e+08       1.104478e+08  ...                NaN   \n",
       "\n",
       "   total_equity  current_assets  monetary_current_assets         cash  \\\n",
       "0  3.224471e+07     37831990.81              17111465.66  10297047.50   \n",
       "1  4.508026e+06      4669178.63                927837.74    926383.75   \n",
       "2  5.164048e+04     28101189.79              11116958.92   9146283.79   \n",
       "3  1.182011e+07      8238473.86               7519183.22   6890565.23   \n",
       "4  4.547445e+08     35465651.58               8545183.94   5036615.09   \n",
       "\n",
       "   trade_receivables_st  trade_receivables_lt  cf_operating  cf_investment  \\\n",
       "0                   NaN                   NaN  6.986094e+06  -1.112342e+06   \n",
       "1                   NaN                   NaN -4.343980e+06   1.174427e+06   \n",
       "2             617816.28                   NaN  9.548544e+06  -7.536444e+06   \n",
       "3             319848.26                   NaN  1.715799e+06  -6.561222e+05   \n",
       "4             516646.73                   NaN  1.301809e+08  -1.419776e+08   \n",
       "\n",
       "   cf_financing  \n",
       "0   -7520392.09  \n",
       "1    1128108.08  \n",
       "2     -22026.07  \n",
       "3    -169655.66  \n",
       "4   12567030.80  \n",
       "\n",
       "[5 rows x 40 columns]"
      ]
     },
     "execution_count": 134,
     "metadata": {},
     "output_type": "execute_result"
    }
   ],
   "source": [
    "df_train.head()"
   ]
  },
  {
   "cell_type": "code",
   "execution_count": 135,
   "metadata": {
    "ExecuteTime": {
     "end_time": "2020-12-20T17:54:46.821599Z",
     "start_time": "2020-12-20T17:54:46.770507Z"
    }
   },
   "outputs": [
    {
     "data": {
      "text/html": [
       "<div>\n",
       "<style scoped>\n",
       "    .dataframe tbody tr th:only-of-type {\n",
       "        vertical-align: middle;\n",
       "    }\n",
       "\n",
       "    .dataframe tbody tr th {\n",
       "        vertical-align: top;\n",
       "    }\n",
       "\n",
       "    .dataframe thead th {\n",
       "        text-align: right;\n",
       "    }\n",
       "</style>\n",
       "<table border=\"1\" class=\"dataframe\">\n",
       "  <thead>\n",
       "    <tr style=\"text-align: right;\">\n",
       "      <th></th>\n",
       "      <th>legal_form</th>\n",
       "      <th>zip_code</th>\n",
       "      <th>sector</th>\n",
       "      <th>year_inc</th>\n",
       "      <th>count_emp</th>\n",
       "      <th>type_pl</th>\n",
       "      <th>sales</th>\n",
       "      <th>gross_performance</th>\n",
       "      <th>gross_profit</th>\n",
       "      <th>earn_from_op</th>\n",
       "      <th>...</th>\n",
       "      <th>bonds_payables_lt</th>\n",
       "      <th>total_equity</th>\n",
       "      <th>current_assets</th>\n",
       "      <th>monetary_current_assets</th>\n",
       "      <th>cash</th>\n",
       "      <th>trade_receivables_st</th>\n",
       "      <th>trade_receivables_lt</th>\n",
       "      <th>cf_operating</th>\n",
       "      <th>cf_investment</th>\n",
       "      <th>cf_financing</th>\n",
       "    </tr>\n",
       "    <tr>\n",
       "      <th>id</th>\n",
       "      <th></th>\n",
       "      <th></th>\n",
       "      <th></th>\n",
       "      <th></th>\n",
       "      <th></th>\n",
       "      <th></th>\n",
       "      <th></th>\n",
       "      <th></th>\n",
       "      <th></th>\n",
       "      <th></th>\n",
       "      <th></th>\n",
       "      <th></th>\n",
       "      <th></th>\n",
       "      <th></th>\n",
       "      <th></th>\n",
       "      <th></th>\n",
       "      <th></th>\n",
       "      <th></th>\n",
       "      <th></th>\n",
       "      <th></th>\n",
       "      <th></th>\n",
       "    </tr>\n",
       "  </thead>\n",
       "  <tbody>\n",
       "    <tr>\n",
       "      <th>C_411</th>\n",
       "      <td>GmbH</td>\n",
       "      <td>14089</td>\n",
       "      <td>69204</td>\n",
       "      <td>1986</td>\n",
       "      <td>NaN</td>\n",
       "      <td>GKV</td>\n",
       "      <td>728946.68</td>\n",
       "      <td>728946.68</td>\n",
       "      <td>209721.36</td>\n",
       "      <td>45390.50</td>\n",
       "      <td>...</td>\n",
       "      <td>NaN</td>\n",
       "      <td>NaN</td>\n",
       "      <td>64195.98</td>\n",
       "      <td>28659.19</td>\n",
       "      <td>5598.17</td>\n",
       "      <td>NaN</td>\n",
       "      <td>NaN</td>\n",
       "      <td>52632.64</td>\n",
       "      <td>-534.87</td>\n",
       "      <td>-5.457891e+04</td>\n",
       "    </tr>\n",
       "    <tr>\n",
       "      <th>C_896</th>\n",
       "      <td>GmbH</td>\n",
       "      <td>13127</td>\n",
       "      <td>87100</td>\n",
       "      <td>1992</td>\n",
       "      <td>181.0</td>\n",
       "      <td>GKV</td>\n",
       "      <td>708847.33</td>\n",
       "      <td>708847.33</td>\n",
       "      <td>738495.17</td>\n",
       "      <td>13017.29</td>\n",
       "      <td>...</td>\n",
       "      <td>NaN</td>\n",
       "      <td>442875.57</td>\n",
       "      <td>479144.25</td>\n",
       "      <td>452033.96</td>\n",
       "      <td>442835.62</td>\n",
       "      <td>NaN</td>\n",
       "      <td>NaN</td>\n",
       "      <td>-10575.21</td>\n",
       "      <td>-1295.42</td>\n",
       "      <td>-5.820000e-11</td>\n",
       "    </tr>\n",
       "    <tr>\n",
       "      <th>C_252</th>\n",
       "      <td>GmbH</td>\n",
       "      <td>14059</td>\n",
       "      <td>86101</td>\n",
       "      <td>1993</td>\n",
       "      <td>505.0</td>\n",
       "      <td>GKV</td>\n",
       "      <td>26025323.61</td>\n",
       "      <td>26015542.03</td>\n",
       "      <td>22022993.85</td>\n",
       "      <td>2086104.36</td>\n",
       "      <td>...</td>\n",
       "      <td>NaN</td>\n",
       "      <td>13733666.50</td>\n",
       "      <td>14504753.93</td>\n",
       "      <td>3441491.02</td>\n",
       "      <td>322075.13</td>\n",
       "      <td>3034766.29</td>\n",
       "      <td>NaN</td>\n",
       "      <td>2862349.65</td>\n",
       "      <td>-667342.46</td>\n",
       "      <td>-2.091456e+06</td>\n",
       "    </tr>\n",
       "    <tr>\n",
       "      <th>C_165</th>\n",
       "      <td>GmbH</td>\n",
       "      <td>10437</td>\n",
       "      <td>87100</td>\n",
       "      <td>1995</td>\n",
       "      <td>82.0</td>\n",
       "      <td>GKV</td>\n",
       "      <td>1105332.48</td>\n",
       "      <td>1105332.48</td>\n",
       "      <td>717405.05</td>\n",
       "      <td>88074.80</td>\n",
       "      <td>...</td>\n",
       "      <td>NaN</td>\n",
       "      <td>381990.95</td>\n",
       "      <td>371506.04</td>\n",
       "      <td>343269.12</td>\n",
       "      <td>256395.19</td>\n",
       "      <td>NaN</td>\n",
       "      <td>NaN</td>\n",
       "      <td>156251.71</td>\n",
       "      <td>-57344.11</td>\n",
       "      <td>-1.160000e-10</td>\n",
       "    </tr>\n",
       "    <tr>\n",
       "      <th>C_856</th>\n",
       "      <td>GmbH</td>\n",
       "      <td>14943</td>\n",
       "      <td>96090</td>\n",
       "      <td>2002</td>\n",
       "      <td>22.0</td>\n",
       "      <td>GKV</td>\n",
       "      <td>51995424.22</td>\n",
       "      <td>51979901.95</td>\n",
       "      <td>46420844.34</td>\n",
       "      <td>5956777.13</td>\n",
       "      <td>...</td>\n",
       "      <td>NaN</td>\n",
       "      <td>6828494.53</td>\n",
       "      <td>18909648.90</td>\n",
       "      <td>15619860.60</td>\n",
       "      <td>6720068.91</td>\n",
       "      <td>8847966.22</td>\n",
       "      <td>NaN</td>\n",
       "      <td>5696079.15</td>\n",
       "      <td>-1418555.39</td>\n",
       "      <td>-4.163971e+06</td>\n",
       "    </tr>\n",
       "    <tr>\n",
       "      <th>C_415</th>\n",
       "      <td>GmbH</td>\n",
       "      <td>10969</td>\n",
       "      <td>68321</td>\n",
       "      <td>2006</td>\n",
       "      <td>NaN</td>\n",
       "      <td>GKV</td>\n",
       "      <td>13597456.35</td>\n",
       "      <td>13597456.35</td>\n",
       "      <td>7667501.25</td>\n",
       "      <td>-109859.68</td>\n",
       "      <td>...</td>\n",
       "      <td>NaN</td>\n",
       "      <td>0.00</td>\n",
       "      <td>1273354.65</td>\n",
       "      <td>1277275.04</td>\n",
       "      <td>5848.43</td>\n",
       "      <td>136628.62</td>\n",
       "      <td>NaN</td>\n",
       "      <td>83600.84</td>\n",
       "      <td>1560281.10</td>\n",
       "      <td>-1.643803e+06</td>\n",
       "    </tr>\n",
       "    <tr>\n",
       "      <th>C_520</th>\n",
       "      <td>GmbH</td>\n",
       "      <td>10625</td>\n",
       "      <td>68100</td>\n",
       "      <td>2010</td>\n",
       "      <td>NaN</td>\n",
       "      <td>GKV</td>\n",
       "      <td>10365544.05</td>\n",
       "      <td>10365544.05</td>\n",
       "      <td>7931366.20</td>\n",
       "      <td>565338.94</td>\n",
       "      <td>...</td>\n",
       "      <td>NaN</td>\n",
       "      <td>8823433.07</td>\n",
       "      <td>7715921.82</td>\n",
       "      <td>7749440.79</td>\n",
       "      <td>6802934.01</td>\n",
       "      <td>855343.08</td>\n",
       "      <td>NaN</td>\n",
       "      <td>1051697.31</td>\n",
       "      <td>-366425.37</td>\n",
       "      <td>-5.398260e+03</td>\n",
       "    </tr>\n",
       "    <tr>\n",
       "      <th>C_127</th>\n",
       "      <td>GmbH</td>\n",
       "      <td>29308</td>\n",
       "      <td>87100</td>\n",
       "      <td>2007</td>\n",
       "      <td>NaN</td>\n",
       "      <td>GKV</td>\n",
       "      <td>10129943.12</td>\n",
       "      <td>10486827.90</td>\n",
       "      <td>5959584.15</td>\n",
       "      <td>435328.26</td>\n",
       "      <td>...</td>\n",
       "      <td>NaN</td>\n",
       "      <td>1990015.77</td>\n",
       "      <td>3451499.64</td>\n",
       "      <td>1352994.01</td>\n",
       "      <td>1349.09</td>\n",
       "      <td>986648.60</td>\n",
       "      <td>NaN</td>\n",
       "      <td>-56012.29</td>\n",
       "      <td>-533257.11</td>\n",
       "      <td>4.586848e+05</td>\n",
       "    </tr>\n",
       "  </tbody>\n",
       "</table>\n",
       "<p>8 rows × 38 columns</p>\n",
       "</div>"
      ],
      "text/plain": [
       "      legal_form  zip_code  sector  year_inc  count_emp type_pl        sales  \\\n",
       "id                                                                             \n",
       "C_411       GmbH     14089   69204      1986        NaN     GKV    728946.68   \n",
       "C_896       GmbH     13127   87100      1992      181.0     GKV    708847.33   \n",
       "C_252       GmbH     14059   86101      1993      505.0     GKV  26025323.61   \n",
       "C_165       GmbH     10437   87100      1995       82.0     GKV   1105332.48   \n",
       "C_856       GmbH     14943   96090      2002       22.0     GKV  51995424.22   \n",
       "C_415       GmbH     10969   68321      2006        NaN     GKV  13597456.35   \n",
       "C_520       GmbH     10625   68100      2010        NaN     GKV  10365544.05   \n",
       "C_127       GmbH     29308   87100      2007        NaN     GKV  10129943.12   \n",
       "\n",
       "       gross_performance  gross_profit  earn_from_op  ...  bonds_payables_lt  \\\n",
       "id                                                    ...                      \n",
       "C_411          728946.68     209721.36      45390.50  ...                NaN   \n",
       "C_896          708847.33     738495.17      13017.29  ...                NaN   \n",
       "C_252        26015542.03   22022993.85    2086104.36  ...                NaN   \n",
       "C_165         1105332.48     717405.05      88074.80  ...                NaN   \n",
       "C_856        51979901.95   46420844.34    5956777.13  ...                NaN   \n",
       "C_415        13597456.35    7667501.25    -109859.68  ...                NaN   \n",
       "C_520        10365544.05    7931366.20     565338.94  ...                NaN   \n",
       "C_127        10486827.90    5959584.15     435328.26  ...                NaN   \n",
       "\n",
       "       total_equity  current_assets  monetary_current_assets        cash  \\\n",
       "id                                                                         \n",
       "C_411           NaN        64195.98                 28659.19     5598.17   \n",
       "C_896     442875.57       479144.25                452033.96   442835.62   \n",
       "C_252   13733666.50     14504753.93               3441491.02   322075.13   \n",
       "C_165     381990.95       371506.04                343269.12   256395.19   \n",
       "C_856    6828494.53     18909648.90              15619860.60  6720068.91   \n",
       "C_415          0.00      1273354.65               1277275.04     5848.43   \n",
       "C_520    8823433.07      7715921.82               7749440.79  6802934.01   \n",
       "C_127    1990015.77      3451499.64               1352994.01     1349.09   \n",
       "\n",
       "       trade_receivables_st  trade_receivables_lt  cf_operating  \\\n",
       "id                                                                \n",
       "C_411                   NaN                   NaN      52632.64   \n",
       "C_896                   NaN                   NaN     -10575.21   \n",
       "C_252            3034766.29                   NaN    2862349.65   \n",
       "C_165                   NaN                   NaN     156251.71   \n",
       "C_856            8847966.22                   NaN    5696079.15   \n",
       "C_415             136628.62                   NaN      83600.84   \n",
       "C_520             855343.08                   NaN    1051697.31   \n",
       "C_127             986648.60                   NaN     -56012.29   \n",
       "\n",
       "       cf_investment  cf_financing  \n",
       "id                                  \n",
       "C_411        -534.87 -5.457891e+04  \n",
       "C_896       -1295.42 -5.820000e-11  \n",
       "C_252     -667342.46 -2.091456e+06  \n",
       "C_165      -57344.11 -1.160000e-10  \n",
       "C_856    -1418555.39 -4.163971e+06  \n",
       "C_415     1560281.10 -1.643803e+06  \n",
       "C_520     -366425.37 -5.398260e+03  \n",
       "C_127     -533257.11  4.586848e+05  \n",
       "\n",
       "[8 rows x 38 columns]"
      ]
     },
     "execution_count": 135,
     "metadata": {},
     "output_type": "execute_result"
    }
   ],
   "source": [
    "df_test.head(8)"
   ]
  },
  {
   "cell_type": "markdown",
   "metadata": {},
   "source": [
    "# Variables\n",
    "\n",
    "## Renaming of some colums\n",
    "We decided to not rename any varialbes\n",
    "\n",
    "## Further variable coding\n",
    "Transforming variables"
   ]
  },
  {
   "cell_type": "markdown",
   "metadata": {},
   "source": [
    "### Transforming year_inc to age columns\n",
    "Transforming the year of incorporation variable to two age variables: one numerical (age_num) one and one categorical one (age_cat). "
   ]
  },
  {
   "cell_type": "code",
   "execution_count": 136,
   "metadata": {
    "ExecuteTime": {
     "end_time": "2020-12-20T17:54:50.962768Z",
     "start_time": "2020-12-20T17:54:50.882227Z"
    }
   },
   "outputs": [
    {
     "data": {
      "text/html": [
       "<div>\n",
       "<style scoped>\n",
       "    .dataframe tbody tr th:only-of-type {\n",
       "        vertical-align: middle;\n",
       "    }\n",
       "\n",
       "    .dataframe tbody tr th {\n",
       "        vertical-align: top;\n",
       "    }\n",
       "\n",
       "    .dataframe thead th {\n",
       "        text-align: right;\n",
       "    }\n",
       "</style>\n",
       "<table border=\"1\" class=\"dataframe\">\n",
       "  <thead>\n",
       "    <tr style=\"text-align: right;\">\n",
       "      <th></th>\n",
       "      <th>id</th>\n",
       "      <th>default</th>\n",
       "      <th>legal_form</th>\n",
       "      <th>zip_code</th>\n",
       "      <th>sector</th>\n",
       "      <th>year_inc</th>\n",
       "      <th>count_emp</th>\n",
       "      <th>type_pl</th>\n",
       "      <th>sales</th>\n",
       "      <th>gross_performance</th>\n",
       "      <th>...</th>\n",
       "      <th>total_equity</th>\n",
       "      <th>current_assets</th>\n",
       "      <th>monetary_current_assets</th>\n",
       "      <th>cash</th>\n",
       "      <th>trade_receivables_st</th>\n",
       "      <th>trade_receivables_lt</th>\n",
       "      <th>cf_operating</th>\n",
       "      <th>cf_investment</th>\n",
       "      <th>cf_financing</th>\n",
       "      <th>age_num</th>\n",
       "    </tr>\n",
       "  </thead>\n",
       "  <tbody>\n",
       "    <tr>\n",
       "      <th>572</th>\n",
       "      <td>C_482</td>\n",
       "      <td>0</td>\n",
       "      <td>Freiberufler</td>\n",
       "      <td>61169</td>\n",
       "      <td>49310</td>\n",
       "      <td>0</td>\n",
       "      <td>NaN</td>\n",
       "      <td>GKV</td>\n",
       "      <td>635769.95</td>\n",
       "      <td>635769.95</td>\n",
       "      <td>...</td>\n",
       "      <td>37125.13</td>\n",
       "      <td>299815.83</td>\n",
       "      <td>268452.30</td>\n",
       "      <td>49009.81</td>\n",
       "      <td>NaN</td>\n",
       "      <td>NaN</td>\n",
       "      <td>-212829.13</td>\n",
       "      <td>-1.750000e-10</td>\n",
       "      <td>9.460000e-11</td>\n",
       "      <td>2020</td>\n",
       "    </tr>\n",
       "    <tr>\n",
       "      <th>477</th>\n",
       "      <td>C_597</td>\n",
       "      <td>1</td>\n",
       "      <td>Freiberufler</td>\n",
       "      <td>32457</td>\n",
       "      <td>71113</td>\n",
       "      <td>0</td>\n",
       "      <td>NaN</td>\n",
       "      <td>GKV</td>\n",
       "      <td>241456.04</td>\n",
       "      <td>216900.58</td>\n",
       "      <td>...</td>\n",
       "      <td>514698.88</td>\n",
       "      <td>639035.00</td>\n",
       "      <td>639951.26</td>\n",
       "      <td>7466.24</td>\n",
       "      <td>24518.87</td>\n",
       "      <td>NaN</td>\n",
       "      <td>14391.18</td>\n",
       "      <td>-7.090000e-11</td>\n",
       "      <td>1.204280e+03</td>\n",
       "      <td>2020</td>\n",
       "    </tr>\n",
       "    <tr>\n",
       "      <th>272</th>\n",
       "      <td>C_543</td>\n",
       "      <td>0</td>\n",
       "      <td>AG</td>\n",
       "      <td>86150</td>\n",
       "      <td>68101</td>\n",
       "      <td>1464</td>\n",
       "      <td>NaN</td>\n",
       "      <td>GKV</td>\n",
       "      <td>73165008.12</td>\n",
       "      <td>73165008.12</td>\n",
       "      <td>...</td>\n",
       "      <td>7797900.20</td>\n",
       "      <td>29653971.68</td>\n",
       "      <td>11687193.17</td>\n",
       "      <td>3444440.58</td>\n",
       "      <td>4254958.92</td>\n",
       "      <td>NaN</td>\n",
       "      <td>12170860.85</td>\n",
       "      <td>-6.620784e+05</td>\n",
       "      <td>-2.560090e+05</td>\n",
       "      <td>556</td>\n",
       "    </tr>\n",
       "    <tr>\n",
       "      <th>249</th>\n",
       "      <td>C_105</td>\n",
       "      <td>0</td>\n",
       "      <td>AG</td>\n",
       "      <td>76185</td>\n",
       "      <td>70101</td>\n",
       "      <td>1856</td>\n",
       "      <td>NaN</td>\n",
       "      <td>GKV</td>\n",
       "      <td>53372139.09</td>\n",
       "      <td>53110170.33</td>\n",
       "      <td>...</td>\n",
       "      <td>7522638.74</td>\n",
       "      <td>31608245.57</td>\n",
       "      <td>26918553.04</td>\n",
       "      <td>19531832.78</td>\n",
       "      <td>6509382.04</td>\n",
       "      <td>NaN</td>\n",
       "      <td>-10483605.89</td>\n",
       "      <td>-1.015179e+07</td>\n",
       "      <td>3.198861e+07</td>\n",
       "      <td>164</td>\n",
       "    </tr>\n",
       "    <tr>\n",
       "      <th>531</th>\n",
       "      <td>C_711</td>\n",
       "      <td>0</td>\n",
       "      <td>GmbH &amp; Co. KG</td>\n",
       "      <td>42651</td>\n",
       "      <td>32501</td>\n",
       "      <td>1857</td>\n",
       "      <td>63.0</td>\n",
       "      <td>GKV</td>\n",
       "      <td>2713538.03</td>\n",
       "      <td>2713538.03</td>\n",
       "      <td>...</td>\n",
       "      <td>330130.46</td>\n",
       "      <td>625173.80</td>\n",
       "      <td>462636.78</td>\n",
       "      <td>66853.99</td>\n",
       "      <td>281981.84</td>\n",
       "      <td>NaN</td>\n",
       "      <td>133580.07</td>\n",
       "      <td>-5.635444e+04</td>\n",
       "      <td>3.780000e-10</td>\n",
       "      <td>163</td>\n",
       "    </tr>\n",
       "  </tbody>\n",
       "</table>\n",
       "<p>5 rows × 41 columns</p>\n",
       "</div>"
      ],
      "text/plain": [
       "        id  default     legal_form  zip_code  sector  year_inc  count_emp  \\\n",
       "572  C_482        0   Freiberufler     61169   49310         0        NaN   \n",
       "477  C_597        1   Freiberufler     32457   71113         0        NaN   \n",
       "272  C_543        0             AG     86150   68101      1464        NaN   \n",
       "249  C_105        0             AG     76185   70101      1856        NaN   \n",
       "531  C_711        0  GmbH & Co. KG     42651   32501      1857       63.0   \n",
       "\n",
       "    type_pl        sales  gross_performance  ...  total_equity  \\\n",
       "572     GKV    635769.95          635769.95  ...      37125.13   \n",
       "477     GKV    241456.04          216900.58  ...     514698.88   \n",
       "272     GKV  73165008.12        73165008.12  ...    7797900.20   \n",
       "249     GKV  53372139.09        53110170.33  ...    7522638.74   \n",
       "531     GKV   2713538.03         2713538.03  ...     330130.46   \n",
       "\n",
       "     current_assets  monetary_current_assets         cash  \\\n",
       "572       299815.83                268452.30     49009.81   \n",
       "477       639035.00                639951.26      7466.24   \n",
       "272     29653971.68              11687193.17   3444440.58   \n",
       "249     31608245.57              26918553.04  19531832.78   \n",
       "531       625173.80                462636.78     66853.99   \n",
       "\n",
       "     trade_receivables_st  trade_receivables_lt  cf_operating  cf_investment  \\\n",
       "572                   NaN                   NaN    -212829.13  -1.750000e-10   \n",
       "477              24518.87                   NaN      14391.18  -7.090000e-11   \n",
       "272            4254958.92                   NaN   12170860.85  -6.620784e+05   \n",
       "249            6509382.04                   NaN  -10483605.89  -1.015179e+07   \n",
       "531             281981.84                   NaN     133580.07  -5.635444e+04   \n",
       "\n",
       "     cf_financing  age_num  \n",
       "572  9.460000e-11     2020  \n",
       "477  1.204280e+03     2020  \n",
       "272 -2.560090e+05      556  \n",
       "249  3.198861e+07      164  \n",
       "531  3.780000e-10      163  \n",
       "\n",
       "[5 rows x 41 columns]"
      ]
     },
     "execution_count": 136,
     "metadata": {},
     "output_type": "execute_result"
    }
   ],
   "source": [
    "df_train['age_num'] = datetime.datetime.now().year - df_train[\"year_inc\"]\n",
    "df_train.sort_values(by=\"age_num\",ascending=False).head(5)"
   ]
  },
  {
   "cell_type": "markdown",
   "metadata": {},
   "source": [
    "As we have some firms which are pretty old (some > 100 years) and two outliers (2020s) we can set their value to the e.g.: 95% quantile as this shouldn't change the meaning of the age variable that much. They are long on the market and it does not really matter if they are long on the market (e.g.: 100 years) or very very long in the business (eg: above 500 years). "
   ]
  },
  {
   "cell_type": "code",
   "execution_count": 137,
   "metadata": {
    "ExecuteTime": {
     "end_time": "2020-12-20T17:54:52.585666Z",
     "start_time": "2020-12-20T17:54:52.417633Z"
    }
   },
   "outputs": [
    {
     "data": {
      "text/html": [
       "<div>\n",
       "<style scoped>\n",
       "    .dataframe tbody tr th:only-of-type {\n",
       "        vertical-align: middle;\n",
       "    }\n",
       "\n",
       "    .dataframe tbody tr th {\n",
       "        vertical-align: top;\n",
       "    }\n",
       "\n",
       "    .dataframe thead th {\n",
       "        text-align: right;\n",
       "    }\n",
       "</style>\n",
       "<table border=\"1\" class=\"dataframe\">\n",
       "  <thead>\n",
       "    <tr style=\"text-align: right;\">\n",
       "      <th></th>\n",
       "      <th>id</th>\n",
       "      <th>default</th>\n",
       "      <th>legal_form</th>\n",
       "      <th>zip_code</th>\n",
       "      <th>sector</th>\n",
       "      <th>year_inc</th>\n",
       "      <th>count_emp</th>\n",
       "      <th>type_pl</th>\n",
       "      <th>sales</th>\n",
       "      <th>gross_performance</th>\n",
       "      <th>...</th>\n",
       "      <th>total_equity</th>\n",
       "      <th>current_assets</th>\n",
       "      <th>monetary_current_assets</th>\n",
       "      <th>cash</th>\n",
       "      <th>trade_receivables_st</th>\n",
       "      <th>trade_receivables_lt</th>\n",
       "      <th>cf_operating</th>\n",
       "      <th>cf_investment</th>\n",
       "      <th>cf_financing</th>\n",
       "      <th>age_num</th>\n",
       "    </tr>\n",
       "  </thead>\n",
       "  <tbody>\n",
       "    <tr>\n",
       "      <th>272</th>\n",
       "      <td>C_543</td>\n",
       "      <td>0</td>\n",
       "      <td>AG</td>\n",
       "      <td>86150</td>\n",
       "      <td>68101</td>\n",
       "      <td>1464</td>\n",
       "      <td>NaN</td>\n",
       "      <td>GKV</td>\n",
       "      <td>7.316501e+07</td>\n",
       "      <td>7.316501e+07</td>\n",
       "      <td>...</td>\n",
       "      <td>7.797900e+06</td>\n",
       "      <td>29653971.68</td>\n",
       "      <td>11687193.17</td>\n",
       "      <td>3444440.58</td>\n",
       "      <td>4254958.92</td>\n",
       "      <td>NaN</td>\n",
       "      <td>12170860.85</td>\n",
       "      <td>-6.620784e+05</td>\n",
       "      <td>-2.560090e+05</td>\n",
       "      <td>157.32</td>\n",
       "    </tr>\n",
       "    <tr>\n",
       "      <th>249</th>\n",
       "      <td>C_105</td>\n",
       "      <td>0</td>\n",
       "      <td>AG</td>\n",
       "      <td>76185</td>\n",
       "      <td>70101</td>\n",
       "      <td>1856</td>\n",
       "      <td>NaN</td>\n",
       "      <td>GKV</td>\n",
       "      <td>5.337214e+07</td>\n",
       "      <td>5.311017e+07</td>\n",
       "      <td>...</td>\n",
       "      <td>7.522639e+06</td>\n",
       "      <td>31608245.57</td>\n",
       "      <td>26918553.04</td>\n",
       "      <td>19531832.78</td>\n",
       "      <td>6509382.04</td>\n",
       "      <td>NaN</td>\n",
       "      <td>-10483605.89</td>\n",
       "      <td>-1.015179e+07</td>\n",
       "      <td>3.198861e+07</td>\n",
       "      <td>157.32</td>\n",
       "    </tr>\n",
       "    <tr>\n",
       "      <th>371</th>\n",
       "      <td>C_361</td>\n",
       "      <td>0</td>\n",
       "      <td>GmbH</td>\n",
       "      <td>21335</td>\n",
       "      <td>20520</td>\n",
       "      <td>1858</td>\n",
       "      <td>185.0</td>\n",
       "      <td>GKV</td>\n",
       "      <td>1.979305e+08</td>\n",
       "      <td>1.972723e+08</td>\n",
       "      <td>...</td>\n",
       "      <td>2.445527e+06</td>\n",
       "      <td>32809291.04</td>\n",
       "      <td>24618777.77</td>\n",
       "      <td>1012.13</td>\n",
       "      <td>24452421.93</td>\n",
       "      <td>NaN</td>\n",
       "      <td>11658956.29</td>\n",
       "      <td>-1.072492e+06</td>\n",
       "      <td>-1.088165e+07</td>\n",
       "      <td>157.32</td>\n",
       "    </tr>\n",
       "    <tr>\n",
       "      <th>572</th>\n",
       "      <td>C_482</td>\n",
       "      <td>0</td>\n",
       "      <td>Freiberufler</td>\n",
       "      <td>61169</td>\n",
       "      <td>49310</td>\n",
       "      <td>0</td>\n",
       "      <td>NaN</td>\n",
       "      <td>GKV</td>\n",
       "      <td>6.357699e+05</td>\n",
       "      <td>6.357699e+05</td>\n",
       "      <td>...</td>\n",
       "      <td>3.712513e+04</td>\n",
       "      <td>299815.83</td>\n",
       "      <td>268452.30</td>\n",
       "      <td>49009.81</td>\n",
       "      <td>NaN</td>\n",
       "      <td>NaN</td>\n",
       "      <td>-212829.13</td>\n",
       "      <td>-1.750000e-10</td>\n",
       "      <td>9.460000e-11</td>\n",
       "      <td>157.32</td>\n",
       "    </tr>\n",
       "    <tr>\n",
       "      <th>477</th>\n",
       "      <td>C_597</td>\n",
       "      <td>1</td>\n",
       "      <td>Freiberufler</td>\n",
       "      <td>32457</td>\n",
       "      <td>71113</td>\n",
       "      <td>0</td>\n",
       "      <td>NaN</td>\n",
       "      <td>GKV</td>\n",
       "      <td>2.414560e+05</td>\n",
       "      <td>2.169006e+05</td>\n",
       "      <td>...</td>\n",
       "      <td>5.146989e+05</td>\n",
       "      <td>639035.00</td>\n",
       "      <td>639951.26</td>\n",
       "      <td>7466.24</td>\n",
       "      <td>24518.87</td>\n",
       "      <td>NaN</td>\n",
       "      <td>14391.18</td>\n",
       "      <td>-7.090000e-11</td>\n",
       "      <td>1.204280e+03</td>\n",
       "      <td>157.32</td>\n",
       "    </tr>\n",
       "    <tr>\n",
       "      <th>283</th>\n",
       "      <td>C_519</td>\n",
       "      <td>0</td>\n",
       "      <td>GmbH</td>\n",
       "      <td>80807</td>\n",
       "      <td>18120</td>\n",
       "      <td>1862</td>\n",
       "      <td>NaN</td>\n",
       "      <td>GKV</td>\n",
       "      <td>1.560010e+06</td>\n",
       "      <td>4.462166e+06</td>\n",
       "      <td>...</td>\n",
       "      <td>3.912989e+05</td>\n",
       "      <td>1780853.40</td>\n",
       "      <td>507526.40</td>\n",
       "      <td>13989.13</td>\n",
       "      <td>NaN</td>\n",
       "      <td>NaN</td>\n",
       "      <td>-115009.30</td>\n",
       "      <td>-6.533309e+04</td>\n",
       "      <td>2.707314e+05</td>\n",
       "      <td>157.32</td>\n",
       "    </tr>\n",
       "    <tr>\n",
       "      <th>531</th>\n",
       "      <td>C_711</td>\n",
       "      <td>0</td>\n",
       "      <td>GmbH &amp; Co. KG</td>\n",
       "      <td>42651</td>\n",
       "      <td>32501</td>\n",
       "      <td>1857</td>\n",
       "      <td>63.0</td>\n",
       "      <td>GKV</td>\n",
       "      <td>2.713538e+06</td>\n",
       "      <td>2.713538e+06</td>\n",
       "      <td>...</td>\n",
       "      <td>3.301305e+05</td>\n",
       "      <td>625173.80</td>\n",
       "      <td>462636.78</td>\n",
       "      <td>66853.99</td>\n",
       "      <td>281981.84</td>\n",
       "      <td>NaN</td>\n",
       "      <td>133580.07</td>\n",
       "      <td>-5.635444e+04</td>\n",
       "      <td>3.780000e-10</td>\n",
       "      <td>157.32</td>\n",
       "    </tr>\n",
       "    <tr>\n",
       "      <th>454</th>\n",
       "      <td>C_259</td>\n",
       "      <td>0</td>\n",
       "      <td>Freiberufler</td>\n",
       "      <td>44141</td>\n",
       "      <td>94110</td>\n",
       "      <td>1863</td>\n",
       "      <td>140.0</td>\n",
       "      <td>GKV</td>\n",
       "      <td>3.584665e+05</td>\n",
       "      <td>3.584665e+05</td>\n",
       "      <td>...</td>\n",
       "      <td>1.871424e+05</td>\n",
       "      <td>70476.90</td>\n",
       "      <td>61735.26</td>\n",
       "      <td>41618.21</td>\n",
       "      <td>NaN</td>\n",
       "      <td>NaN</td>\n",
       "      <td>22009.92</td>\n",
       "      <td>-1.400000e+05</td>\n",
       "      <td>1.307238e+05</td>\n",
       "      <td>157.00</td>\n",
       "    </tr>\n",
       "    <tr>\n",
       "      <th>165</th>\n",
       "      <td>C_347</td>\n",
       "      <td>0</td>\n",
       "      <td>GmbH</td>\n",
       "      <td>57072</td>\n",
       "      <td>25993</td>\n",
       "      <td>1866</td>\n",
       "      <td>116.0</td>\n",
       "      <td>GKV</td>\n",
       "      <td>2.645000e+05</td>\n",
       "      <td>2.645000e+05</td>\n",
       "      <td>...</td>\n",
       "      <td>1.834052e+04</td>\n",
       "      <td>186602.25</td>\n",
       "      <td>172230.65</td>\n",
       "      <td>1434.82</td>\n",
       "      <td>NaN</td>\n",
       "      <td>NaN</td>\n",
       "      <td>1484.67</td>\n",
       "      <td>4.500000e+01</td>\n",
       "      <td>0.000000e+00</td>\n",
       "      <td>154.00</td>\n",
       "    </tr>\n",
       "    <tr>\n",
       "      <th>445</th>\n",
       "      <td>C_019</td>\n",
       "      <td>0</td>\n",
       "      <td>AG</td>\n",
       "      <td>33689</td>\n",
       "      <td>70109</td>\n",
       "      <td>1870</td>\n",
       "      <td>107.0</td>\n",
       "      <td>GKV</td>\n",
       "      <td>2.432905e+06</td>\n",
       "      <td>2.432905e+06</td>\n",
       "      <td>...</td>\n",
       "      <td>-3.640000e-12</td>\n",
       "      <td>340903.37</td>\n",
       "      <td>340903.37</td>\n",
       "      <td>340903.37</td>\n",
       "      <td>NaN</td>\n",
       "      <td>NaN</td>\n",
       "      <td>1933900.10</td>\n",
       "      <td>0.000000e+00</td>\n",
       "      <td>-2.050780e+06</td>\n",
       "      <td>150.00</td>\n",
       "    </tr>\n",
       "  </tbody>\n",
       "</table>\n",
       "<p>10 rows × 41 columns</p>\n",
       "</div>"
      ],
      "text/plain": [
       "        id  default     legal_form  zip_code  sector  year_inc  count_emp  \\\n",
       "272  C_543        0             AG     86150   68101      1464        NaN   \n",
       "249  C_105        0             AG     76185   70101      1856        NaN   \n",
       "371  C_361        0           GmbH     21335   20520      1858      185.0   \n",
       "572  C_482        0   Freiberufler     61169   49310         0        NaN   \n",
       "477  C_597        1   Freiberufler     32457   71113         0        NaN   \n",
       "283  C_519        0           GmbH     80807   18120      1862        NaN   \n",
       "531  C_711        0  GmbH & Co. KG     42651   32501      1857       63.0   \n",
       "454  C_259        0   Freiberufler     44141   94110      1863      140.0   \n",
       "165  C_347        0           GmbH     57072   25993      1866      116.0   \n",
       "445  C_019        0             AG     33689   70109      1870      107.0   \n",
       "\n",
       "    type_pl         sales  gross_performance  ...  total_equity  \\\n",
       "272     GKV  7.316501e+07       7.316501e+07  ...  7.797900e+06   \n",
       "249     GKV  5.337214e+07       5.311017e+07  ...  7.522639e+06   \n",
       "371     GKV  1.979305e+08       1.972723e+08  ...  2.445527e+06   \n",
       "572     GKV  6.357699e+05       6.357699e+05  ...  3.712513e+04   \n",
       "477     GKV  2.414560e+05       2.169006e+05  ...  5.146989e+05   \n",
       "283     GKV  1.560010e+06       4.462166e+06  ...  3.912989e+05   \n",
       "531     GKV  2.713538e+06       2.713538e+06  ...  3.301305e+05   \n",
       "454     GKV  3.584665e+05       3.584665e+05  ...  1.871424e+05   \n",
       "165     GKV  2.645000e+05       2.645000e+05  ...  1.834052e+04   \n",
       "445     GKV  2.432905e+06       2.432905e+06  ... -3.640000e-12   \n",
       "\n",
       "     current_assets  monetary_current_assets         cash  \\\n",
       "272     29653971.68              11687193.17   3444440.58   \n",
       "249     31608245.57              26918553.04  19531832.78   \n",
       "371     32809291.04              24618777.77      1012.13   \n",
       "572       299815.83                268452.30     49009.81   \n",
       "477       639035.00                639951.26      7466.24   \n",
       "283      1780853.40                507526.40     13989.13   \n",
       "531       625173.80                462636.78     66853.99   \n",
       "454        70476.90                 61735.26     41618.21   \n",
       "165       186602.25                172230.65      1434.82   \n",
       "445       340903.37                340903.37    340903.37   \n",
       "\n",
       "     trade_receivables_st  trade_receivables_lt  cf_operating  cf_investment  \\\n",
       "272            4254958.92                   NaN   12170860.85  -6.620784e+05   \n",
       "249            6509382.04                   NaN  -10483605.89  -1.015179e+07   \n",
       "371           24452421.93                   NaN   11658956.29  -1.072492e+06   \n",
       "572                   NaN                   NaN    -212829.13  -1.750000e-10   \n",
       "477              24518.87                   NaN      14391.18  -7.090000e-11   \n",
       "283                   NaN                   NaN    -115009.30  -6.533309e+04   \n",
       "531             281981.84                   NaN     133580.07  -5.635444e+04   \n",
       "454                   NaN                   NaN      22009.92  -1.400000e+05   \n",
       "165                   NaN                   NaN       1484.67   4.500000e+01   \n",
       "445                   NaN                   NaN    1933900.10   0.000000e+00   \n",
       "\n",
       "     cf_financing  age_num  \n",
       "272 -2.560090e+05   157.32  \n",
       "249  3.198861e+07   157.32  \n",
       "371 -1.088165e+07   157.32  \n",
       "572  9.460000e-11   157.32  \n",
       "477  1.204280e+03   157.32  \n",
       "283  2.707314e+05   157.32  \n",
       "531  3.780000e-10   157.32  \n",
       "454  1.307238e+05   157.00  \n",
       "165  0.000000e+00   154.00  \n",
       "445 -2.050780e+06   150.00  \n",
       "\n",
       "[10 rows x 41 columns]"
      ]
     },
     "execution_count": 137,
     "metadata": {},
     "output_type": "execute_result"
    }
   ],
   "source": [
    "#take a look on the quantiles\n",
    "quantiles = list()\n",
    "for i in range(0,100,):\n",
    "    quantiles.append(df_train[\"age_num\"].quantile(i/100))\n",
    "\n",
    "age_th = df_train[\"age_num\"].quantile(0.99)\n",
    "\n",
    "#replace outliers with 99% quantile\n",
    "df_train.loc[df_train[\"age_num\"] > age_th,\"age_num\"] = age_th\n",
    "\n",
    "df_train.sort_values(by=\"age_num\",ascending=False).head(10)"
   ]
  },
  {
   "cell_type": "code",
   "execution_count": 138,
   "metadata": {
    "ExecuteTime": {
     "end_time": "2020-12-20T17:54:55.190031Z",
     "start_time": "2020-12-20T17:54:55.009955Z"
    }
   },
   "outputs": [
    {
     "data": {
      "image/png": "[encoded data removed]",
      "text/plain": [
       "<Figure size 432x288 with 1 Axes>"
      ]
     },
     "metadata": {
      "needs_background": "light"
     },
     "output_type": "display_data"
    }
   ],
   "source": [
    "sns.boxplot(y=df_train[\"age_num\"]).set_title(\"Now a little bit better\");"
   ]
  },
  {
   "cell_type": "code",
   "execution_count": 139,
   "metadata": {
    "ExecuteTime": {
     "end_time": "2020-12-20T17:54:58.547844Z",
     "start_time": "2020-12-20T17:54:56.846430Z"
    }
   },
   "outputs": [
    {
     "ename": "AttributeError",
     "evalue": "module 'seaborn' has no attribute 'displot'",
     "output_type": "error",
     "traceback": [
      "\u001b[1;31m---------------------------------------------------------------------------\u001b[0m",
      "\u001b[1;31mAttributeError\u001b[0m                            Traceback (most recent call last)",
      "\u001b[1;32m<ipython-input-139-f618e6462f31>\u001b[0m in \u001b[0;36m<module>\u001b[1;34m\u001b[0m\n\u001b[0;32m      4\u001b[0m             data=df_train).set_title(\"With log transformation\");\n\u001b[0;32m      5\u001b[0m \u001b[0mplt\u001b[0m\u001b[1;33m.\u001b[0m\u001b[0mfigure\u001b[0m\u001b[1;33m(\u001b[0m\u001b[1;33m)\u001b[0m\u001b[1;33m\u001b[0m\u001b[1;33m\u001b[0m\u001b[0m\n\u001b[1;32m----> 6\u001b[1;33m \u001b[0msns\u001b[0m\u001b[1;33m.\u001b[0m\u001b[0mdisplot\u001b[0m\u001b[1;33m(\u001b[0m\u001b[0mdf_train\u001b[0m\u001b[1;33m,\u001b[0m\u001b[0mx\u001b[0m\u001b[1;33m=\u001b[0m\u001b[1;34m\"age_num\"\u001b[0m\u001b[1;33m,\u001b[0m\u001b[0mhue\u001b[0m\u001b[1;33m=\u001b[0m\u001b[1;34m\"default\"\u001b[0m\u001b[1;33m,\u001b[0m\u001b[0mstat\u001b[0m\u001b[1;33m=\u001b[0m\u001b[1;34m\"density\"\u001b[0m\u001b[1;33m,\u001b[0m\u001b[0mcommon_norm\u001b[0m\u001b[1;33m=\u001b[0m\u001b[1;32mFalse\u001b[0m\u001b[1;33m)\u001b[0m\u001b[1;33m;\u001b[0m\u001b[1;33m\u001b[0m\u001b[1;33m\u001b[0m\u001b[0m\n\u001b[0m",
      "\u001b[1;31mAttributeError\u001b[0m: module 'seaborn' has no attribute 'displot'"
     ]
    },
    {
     "data": {
      "image/png": "[encoded data removed]",
      "text/plain": [
       "<Figure size 432x288 with 1 Axes>"
      ]
     },
     "metadata": {
      "needs_background": "light"
     },
     "output_type": "display_data"
    },
    {
     "data": {
      "image/png": "[encoded data removed]",
      "text/plain": [
       "<Figure size 432x288 with 1 Axes>"
      ]
     },
     "metadata": {
      "needs_background": "light"
     },
     "output_type": "display_data"
    },
    {
     "data": {
      "text/plain": [
       "<Figure size 432x288 with 0 Axes>"
      ]
     },
     "metadata": {},
     "output_type": "display_data"
    }
   ],
   "source": [
    "sns.boxplot(y=\"age_num\",x=\"default\",data=df_train);\n",
    "plt.figure()\n",
    "sns.boxplot(y=np.log(df_train[\"age_num\"]),x=\"default\",\n",
    "            data=df_train).set_title(\"With log transformation\");\n",
    "plt.figure()\n",
    "sns.displot(df_train,x=\"age_num\",hue=\"default\",stat=\"density\",common_norm=False);"
   ]
  },
  {
   "cell_type": "code",
   "execution_count": null,
   "metadata": {
    "ExecuteTime": {
     "end_time": "2020-12-20T17:55:01.660050Z",
     "start_time": "2020-12-20T17:55:01.560410Z"
    }
   },
   "outputs": [],
   "source": [
    "df_train[\"age_quartile\"] = pd.qcut(df_train[\"age_num\"],10)\n",
    "pd.crosstab(df_train[\"default\"],df_train[\"age_quartile\"])"
   ]
  },
  {
   "cell_type": "code",
   "execution_count": 140,
   "metadata": {
    "ExecuteTime": {
     "end_time": "2020-12-20T17:55:03.355099Z",
     "start_time": "2020-12-20T17:55:03.280166Z"
    }
   },
   "outputs": [
    {
     "name": "stdout",
     "output_type": "stream",
     "text": [
      "                        Results: Logit\n",
      "===============================================================\n",
      "Model:              Logit            Pseudo R-squared: 0.000   \n",
      "Dependent Variable: default          AIC:              295.6596\n",
      "Date:               2020-12-21 18:30 BIC:              304.6712\n",
      "No. Observations:   669              Log-Likelihood:   -145.83 \n",
      "Df Model:           1                LL-Null:          -145.89 \n",
      "Df Residuals:       667              LLR p-value:      0.72592 \n",
      "Converged:          1.0000           Scale:            1.0000  \n",
      "No. Iterations:     7.0000                                     \n",
      "----------------------------------------------------------------\n",
      "            Coef.   Std.Err.     z      P>|z|    [0.025   0.975]\n",
      "----------------------------------------------------------------\n",
      "Intercept  -2.8762    0.2531  -11.3634  0.0000  -3.3723  -2.3801\n",
      "age_num     0.0019    0.0054    0.3576  0.7206  -0.0087   0.0126\n",
      "===============================================================\n",
      "\n"
     ]
    }
   ],
   "source": [
    "mdl = sm.Logit.from_formula('default ~ age_num + 1', data=df_train).fit(disp=False, maxiter=100)\n",
    "print(mdl.summary2())"
   ]
  },
  {
   "cell_type": "code",
   "execution_count": 141,
   "metadata": {
    "ExecuteTime": {
     "end_time": "2020-12-20T17:55:13.548042Z",
     "start_time": "2020-12-20T17:55:13.485068Z"
    }
   },
   "outputs": [
    {
     "data": {
      "text/html": [
       "<div>\n",
       "<style scoped>\n",
       "    .dataframe tbody tr th:only-of-type {\n",
       "        vertical-align: middle;\n",
       "    }\n",
       "\n",
       "    .dataframe tbody tr th {\n",
       "        vertical-align: top;\n",
       "    }\n",
       "\n",
       "    .dataframe thead th {\n",
       "        text-align: right;\n",
       "    }\n",
       "</style>\n",
       "<table border=\"1\" class=\"dataframe\">\n",
       "  <thead>\n",
       "    <tr style=\"text-align: right;\">\n",
       "      <th>age_cat</th>\n",
       "      <th>10-19</th>\n",
       "      <th>20-29</th>\n",
       "      <th>30-39</th>\n",
       "      <th>40-49</th>\n",
       "      <th>50-59</th>\n",
       "      <th>&gt;59</th>\n",
       "    </tr>\n",
       "    <tr>\n",
       "      <th>default</th>\n",
       "      <th></th>\n",
       "      <th></th>\n",
       "      <th></th>\n",
       "      <th></th>\n",
       "      <th></th>\n",
       "      <th></th>\n",
       "    </tr>\n",
       "  </thead>\n",
       "  <tbody>\n",
       "    <tr>\n",
       "      <th>0</th>\n",
       "      <td>205</td>\n",
       "      <td>206</td>\n",
       "      <td>81</td>\n",
       "      <td>44</td>\n",
       "      <td>27</td>\n",
       "      <td>68</td>\n",
       "    </tr>\n",
       "    <tr>\n",
       "      <th>1</th>\n",
       "      <td>9</td>\n",
       "      <td>12</td>\n",
       "      <td>10</td>\n",
       "      <td>2</td>\n",
       "      <td>1</td>\n",
       "      <td>4</td>\n",
       "    </tr>\n",
       "  </tbody>\n",
       "</table>\n",
       "</div>"
      ],
      "text/plain": [
       "age_cat  10-19  20-29  30-39  40-49  50-59  >59\n",
       "default                                        \n",
       "0          205    206     81     44     27   68\n",
       "1            9     12     10      2      1    4"
      ]
     },
     "execution_count": 141,
     "metadata": {},
     "output_type": "execute_result"
    }
   ],
   "source": [
    "df_train[\"age_cat\"] = np.select([\n",
    "     df_train['age_num'].between(0, 19, inclusive=True),\n",
    "     df_train['age_num'].between(20, 29, inclusive=True),\n",
    "     df_train['age_num'].between(30, 39, inclusive=True),\n",
    "     df_train['age_num'].between(40, 49, inclusive=True),\n",
    "     df_train['age_num'].between(50, 59, inclusive=True),\n",
    "     df_train['age_num'].between(60, np.inf, inclusive=True)], \n",
    "    ['10-19','20-29','30-39','40-49','50-59','>59'],)\n",
    "\n",
    "pd.crosstab(df_train[\"default\"],df_train[\"age_cat\"])"
   ]
  },
  {
   "cell_type": "code",
   "execution_count": 142,
   "metadata": {
    "ExecuteTime": {
     "end_time": "2020-12-20T17:55:15.481419Z",
     "start_time": "2020-12-20T17:55:15.407359Z"
    }
   },
   "outputs": [
    {
     "name": "stdout",
     "output_type": "stream",
     "text": [
      "                         Results: Logit\n",
      "================================================================\n",
      "Model:               Logit            Pseudo R-squared: 0.018   \n",
      "Dependent Variable:  default          AIC:              298.5732\n",
      "Date:                2020-12-21 18:30 BIC:              325.6079\n",
      "No. Observations:    669              Log-Likelihood:   -143.29 \n",
      "Df Model:            5                LL-Null:          -145.89 \n",
      "Df Residuals:        663              LLR p-value:      0.39087 \n",
      "Converged:           1.0000           Scale:            1.0000  \n",
      "No. Iterations:      7.0000                                     \n",
      "----------------------------------------------------------------\n",
      "                  Coef.  Std.Err.    z    P>|z|   [0.025  0.975]\n",
      "----------------------------------------------------------------\n",
      "Intercept        -3.1258   0.3406 -9.1781 0.0000 -3.7933 -2.4583\n",
      "age_cat[T.20-29]  0.2828   0.4519  0.6259 0.5314 -0.6028  1.1684\n",
      "age_cat[T.30-39]  1.0339   0.4778  2.1637 0.0305  0.0974  1.9705\n",
      "age_cat[T.40-49]  0.0347   0.7992  0.0435 0.9653 -1.5317  1.6011\n",
      "age_cat[T.50-59] -0.1701   1.0738 -0.1584 0.8742 -2.2746  1.9345\n",
      "age_cat[T.>59]    0.2926   0.6170  0.4742 0.6354 -0.9167  1.5019\n",
      "================================================================\n",
      "\n"
     ]
    }
   ],
   "source": [
    "mdl = sm.Logit.from_formula('default ~ age_cat + 1', data=df_train).fit(disp=False, maxiter=100)\n",
    "print(mdl.summary2())"
   ]
  },
  {
   "cell_type": "code",
   "execution_count": 143,
   "metadata": {
    "ExecuteTime": {
     "end_time": "2020-12-20T17:55:28.461556Z",
     "start_time": "2020-12-20T17:55:27.149214Z"
    }
   },
   "outputs": [
    {
     "name": "stdout",
     "output_type": "stream",
     "text": [
      "====================================================\n",
      "Variable:  id\n",
      "---------------------------------------------------\n",
      "           0    1  N_False  N_True  N  N_Perc\n",
      "id                                           \n",
      "C_995  100.0  0.0        1       0  1    0.15\n",
      "C_994  100.0  0.0        1       0  1    0.15\n",
      "C_992  100.0  0.0        1       0  1    0.15\n",
      "C_990  100.0  0.0        1       0  1    0.15\n",
      "C_986  100.0  0.0        1       0  1    0.15\n",
      "...      ...  ...      ...     ... ..     ...\n",
      "C_006  100.0  0.0        1       0  1    0.15\n",
      "C_004  100.0  0.0        1       0  1    0.15\n",
      "C_002  100.0  0.0        1       0  1    0.15\n",
      "C_001  100.0  0.0        1       0  1    0.15\n",
      "C_000  100.0  0.0        1       0  1    0.15\n",
      "\n",
      "[669 rows x 6 columns]\n",
      "\n",
      "====================================================\n",
      "Variable:  legal_form\n",
      "---------------------------------------------------\n",
      "                              0      1  N_False  N_True    N  N_Perc\n",
      "legal_form                                                          \n",
      "Verein                   100.00   0.00        1       0    1    0.15\n",
      "Sonst. Gewerbetreibende   88.24  11.76       15       2   17    2.54\n",
      "OHG                      100.00   0.00        4       0    4    0.60\n",
      "KG                        80.00  20.00        4       1    5    0.75\n",
      "GmbH & Co. KG             91.67   8.33       88       8   96   14.35\n",
      "GmbH                      95.05   4.95      461      24  485   72.50\n",
      "Genossenschaft           100.00   0.00       15       0   15    2.24\n",
      "Freiberufler              80.00  20.00        4       1    5    0.75\n",
      "Einzelfirma               88.89  11.11        8       1    9    1.35\n",
      "BGB-Gesellschaft         100.00   0.00        4       0    4    0.60\n",
      "AG                        96.43   3.57       27       1   28    4.19\n",
      "\n",
      "====================================================\n",
      "Variable:  type_pl\n",
      "---------------------------------------------------\n",
      "              0     1  N_False  N_True    N  N_Perc\n",
      "type_pl                                            \n",
      "UKV      100.00  0.00        6       0    6     0.9\n",
      "GKV       94.27  5.73      625      38  663    99.1\n",
      "\n",
      "====================================================\n",
      "Variable:  age_cat\n",
      "---------------------------------------------------\n",
      "             0      1  N_False  N_True    N  N_Perc\n",
      "age_cat                                            \n",
      ">59      94.44   5.56       68       4   72   10.76\n",
      "50-59    96.43   3.57       27       1   28    4.19\n",
      "40-49    95.65   4.35       44       2   46    6.88\n",
      "30-39    89.01  10.99       81      10   91   13.60\n",
      "20-29    94.50   5.50      206      12  218   32.59\n",
      "10-19    95.79   4.21      205       9  214   31.99\n",
      "\n"
     ]
    }
   ],
   "source": [
    "catvar = [i for i in list(df_train.columns) if df_train[i].dtype=='O']\n",
    "\n",
    "for i in catvar:\n",
    "    tmp1 = pd.crosstab(df_train['default'], df_train[i]).apply(lambda x: np.round(x/x.sum() * 100,2)).T.sort_values(by = i ,ascending=False)\n",
    "    tmp2 = pd.crosstab(df_train['default'], df_train[i]).T.rename(columns={False: 'N_False', True: 'N_True'})\n",
    "    tmp3 = pd.DataFrame(tmp2.apply(sum, axis=1), columns=['N'])\n",
    "    tmp4 = tmp3.apply(lambda x: np.round(x/x.sum() * 100,2)).rename(columns={'N': 'N_Perc'})\n",
    "    tmp = tmp1.join(tmp2).join(tmp3).join(tmp4)\n",
    "    print('====================================================')\n",
    "    print('Variable: ',i)\n",
    "    print('---------------------------------------------------')\n",
    "    print(tmp)\n",
    "    print()\n",
    "    del tmp1, tmp2, tmp3, tmp4, tmp"
   ]
  },
  {
   "cell_type": "markdown",
   "metadata": {},
   "source": [
    "# Understanding your data\n",
    "\n",
    "\n",
    "## Univartiate descriptive anaylsis\n",
    "\n",
    "The datatype of the variables is important as in dermines how you have to look at the data"
   ]
  },
  {
   "cell_type": "code",
   "execution_count": 144,
   "metadata": {},
   "outputs": [
    {
     "data": {
      "text/plain": [
       "['id', 'legal_form', 'type_pl', 'age_cat']"
      ]
     },
     "execution_count": 144,
     "metadata": {},
     "output_type": "execute_result"
    }
   ],
   "source": [
    "catvar = [i for i in list(df_train.columns) if df_train[i].dtype=='O']\n",
    "catvar # categorial variables"
   ]
  },
  {
   "cell_type": "code",
   "execution_count": 145,
   "metadata": {},
   "outputs": [
    {
     "data": {
      "text/plain": [
       "['default',\n",
       " 'zip_code',\n",
       " 'sector',\n",
       " 'year_inc',\n",
       " 'count_emp',\n",
       " 'sales',\n",
       " 'gross_performance',\n",
       " 'gross_profit',\n",
       " 'earn_from_op',\n",
       " 'fin_result',\n",
       " 'oth_interest_inc',\n",
       " 'oth_interest_exp',\n",
       " 'result_from_ord_bus',\n",
       " 'total_result',\n",
       " 'annual_profit',\n",
       " 'total_assets',\n",
       " 'total_liabilities_st',\n",
       " 'total_liabilities_mt',\n",
       " 'total_liabilities_lt',\n",
       " 'bank_liabilities_st',\n",
       " 'bank_liabilities_mt',\n",
       " 'bank_liabilities_lt',\n",
       " 'trade_payables_st',\n",
       " 'trade_payables_mt',\n",
       " 'trade_payables_lt',\n",
       " 'bonds_payables_st',\n",
       " 'bonds_payables_mt',\n",
       " 'bonds_payables_lt',\n",
       " 'total_equity',\n",
       " 'current_assets',\n",
       " 'monetary_current_assets',\n",
       " 'cash',\n",
       " 'trade_receivables_st',\n",
       " 'trade_receivables_lt',\n",
       " 'cf_operating',\n",
       " 'cf_investment',\n",
       " 'cf_financing',\n",
       " 'age_num']"
      ]
     },
     "execution_count": 145,
     "metadata": {},
     "output_type": "execute_result"
    }
   ],
   "source": [
    "numvar = [i for i in list(df_train.columns) if df_train[i].dtype in ['float64','int64']]\n",
    "numvar # numberical variables"
   ]
  },
  {
   "cell_type": "markdown",
   "metadata": {},
   "source": [
    "## Missing values\n",
    "\n",
    "Overview of missing values in the data"
   ]
  },
  {
   "cell_type": "code",
   "execution_count": 146,
   "metadata": {},
   "outputs": [
    {
     "data": {
      "text/plain": [
       "bonds_payables_lt          669\n",
       "bonds_payables_st          669\n",
       "trade_payables_lt          665\n",
       "bonds_payables_mt          664\n",
       "trade_payables_mt          648\n",
       "trade_receivables_lt       645\n",
       "bank_liabilities_lt        545\n",
       "bank_liabilities_mt        483\n",
       "trade_receivables_st       355\n",
       "count_emp                  353\n",
       "bank_liabilities_st        352\n",
       "trade_payables_st          143\n",
       "oth_interest_inc           127\n",
       "oth_interest_exp            62\n",
       "cash                        32\n",
       "fin_result                  22\n",
       "total_equity                21\n",
       "gross_profit                 7\n",
       "gross_performance            7\n",
       "total_assets                 1\n",
       "earn_from_op                 1\n",
       "result_from_ord_bus          1\n",
       "annual_profit                1\n",
       "sales                        1\n",
       "current_assets               1\n",
       "cf_operating                 1\n",
       "cf_investment                1\n",
       "cf_financing                 1\n",
       "sector                       0\n",
       "year_inc                     0\n",
       "zip_code                     0\n",
       "legal_form                   0\n",
       "default                      0\n",
       "age_cat                      0\n",
       "total_liabilities_mt         0\n",
       "type_pl                      0\n",
       "total_result                 0\n",
       "total_liabilities_st         0\n",
       "age_num                      0\n",
       "total_liabilities_lt         0\n",
       "monetary_current_assets      0\n",
       "id                           0\n",
       "dtype: int64"
      ]
     },
     "execution_count": 146,
     "metadata": {},
     "output_type": "execute_result"
    }
   ],
   "source": [
    "df_train.isnull().sum().sort_values(ascending=False)"
   ]
  },
  {
   "cell_type": "code",
   "execution_count": 147,
   "metadata": {},
   "outputs": [
    {
     "data": {
      "text/plain": [
       "bonds_payables_lt          330\n",
       "bonds_payables_st          330\n",
       "trade_payables_lt          330\n",
       "bonds_payables_mt          329\n",
       "trade_payables_mt          322\n",
       "trade_receivables_lt       320\n",
       "bank_liabilities_lt        250\n",
       "bank_liabilities_mt        230\n",
       "count_emp                  179\n",
       "bank_liabilities_st        172\n",
       "trade_receivables_st       169\n",
       "trade_payables_st           65\n",
       "oth_interest_inc            62\n",
       "oth_interest_exp            23\n",
       "cash                        18\n",
       "total_equity                 9\n",
       "fin_result                   8\n",
       "gross_performance            3\n",
       "gross_profit                 3\n",
       "cf_investment                1\n",
       "cf_operating                 1\n",
       "cf_financing                 1\n",
       "earn_from_op                 0\n",
       "year_inc                     0\n",
       "sector                       0\n",
       "type_pl                      0\n",
       "sales                        0\n",
       "zip_code                     0\n",
       "total_liabilities_mt         0\n",
       "result_from_ord_bus          0\n",
       "total_result                 0\n",
       "annual_profit                0\n",
       "total_assets                 0\n",
       "total_liabilities_st         0\n",
       "total_liabilities_lt         0\n",
       "current_assets               0\n",
       "monetary_current_assets      0\n",
       "legal_form                   0\n",
       "dtype: int64"
      ]
     },
     "execution_count": 147,
     "metadata": {},
     "output_type": "execute_result"
    }
   ],
   "source": [
    "df_test.isnull().sum().sort_values(ascending=False)"
   ]
  },
  {
   "cell_type": "markdown",
   "metadata": {},
   "source": [
    "# Data cleaning"
   ]
  },
  {
   "cell_type": "code",
   "execution_count": 150,
   "metadata": {},
   "outputs": [
    {
     "data": {
      "text/plain": [
       "bonds_payables_lt          668\n",
       "bonds_payables_st          668\n",
       "trade_payables_lt          664\n",
       "bonds_payables_mt          663\n",
       "trade_payables_mt          647\n",
       "trade_receivables_lt       644\n",
       "bank_liabilities_lt        544\n",
       "bank_liabilities_mt        482\n",
       "trade_receivables_st       354\n",
       "count_emp                  353\n",
       "bank_liabilities_st        351\n",
       "trade_payables_st          142\n",
       "oth_interest_inc           126\n",
       "oth_interest_exp            61\n",
       "cash                        31\n",
       "fin_result                  21\n",
       "total_equity                20\n",
       "gross_performance            6\n",
       "gross_profit                 6\n",
       "cf_operating                 1\n",
       "cf_investment                1\n",
       "cf_financing                 1\n",
       "earn_from_op                 0\n",
       "zip_code                     0\n",
       "legal_form                   0\n",
       "sector                       0\n",
       "year_inc                     0\n",
       "type_pl                      0\n",
       "sales                        0\n",
       "default                      0\n",
       "total_liabilities            0\n",
       "total_liabilities_lt         0\n",
       "result_from_ord_bus          0\n",
       "total_result                 0\n",
       "annual_profit                0\n",
       "total_assets                 0\n",
       "total_liabilities_st         0\n",
       "total_liabilities_mt         0\n",
       "age_cat                      0\n",
       "current_assets               0\n",
       "monetary_current_assets      0\n",
       "age_num                      0\n",
       "id                           0\n",
       "dtype: int64"
      ]
     },
     "execution_count": 150,
     "metadata": {},
     "output_type": "execute_result"
    }
   ],
   "source": [
    "# # drop comp that sucks big time because no values\n",
    "df_train = df_train.loc[df_train[\"id\"] != 'C_620'] \n",
    "\n",
    "# get total liabilities\n",
    "df_train['total_liabilities'] = df_train['total_liabilities_st'] + df_train['total_liabilities_mt'] + df_train['total_liabilities_lt']\n",
    "\n",
    "df_train.isnull().sum().sort_values(ascending=False)"
   ]
  },
  {
   "cell_type": "markdown",
   "metadata": {},
   "source": [
    "## Predict NaN for total equity\n",
    "Source: https://towardsdatascience.com/predict-missing-values-in-the-dataset-897912a54b7b\n"
   ]
  },
  {
   "cell_type": "markdown",
   "metadata": {},
   "source": [
    "Check for correlation to get relevant variables for regression"
   ]
  },
  {
   "cell_type": "code",
   "execution_count": 151,
   "metadata": {},
   "outputs": [],
   "source": [
    "\n",
    "cor_er = df_train['total_equity'].corr(df_train['total_result'])\n",
    "cor_ea = df_train['total_equity'].corr(df_train['total_assets'])\n",
    "cor_eo = df_train['total_equity'].corr(df_train['cf_operating'])\n"
   ]
  },
  {
   "cell_type": "markdown",
   "metadata": {},
   "source": [
    "Split training and prediction dataset"
   ]
  },
  {
   "cell_type": "code",
   "execution_count": 152,
   "metadata": {},
   "outputs": [],
   "source": [
    "cols = ['total_result', 'total_assets', 'cf_operating', 'total_equity']\n",
    "df = df_train[cols]\n",
    "test_df = df[df['total_equity'].isnull()]\n",
    "df = df.dropna()\n",
    "\n",
    "y_train = df['total_equity']\n",
    "X_train = df.drop('total_equity', axis=1)\n",
    "X_test = test_df.drop('total_equity', axis=1)"
   ]
  },
  {
   "cell_type": "markdown",
   "metadata": {},
   "source": [
    "Train model to fit dataset and predict missing values from column total equity and replace them"
   ]
  },
  {
   "cell_type": "code",
   "execution_count": 153,
   "metadata": {},
   "outputs": [
    {
     "name": "stdout",
     "output_type": "stream",
     "text": [
      "[ 804154.57039482  826770.3743369   750108.4400077  2034060.76386615\n",
      "  906958.71620787  757800.9886018   694739.75133316  777633.44217636\n",
      " 1031927.82907443  707250.9930617   798206.66922869  753555.95951814\n",
      "  938481.58223854  838818.88678533  728338.08877873  658229.22939662\n",
      "  757045.94589862 3707034.78681172  430054.79880166  809294.10299164]\n"
     ]
    }
   ],
   "source": [
    "model = LinearRegression()\n",
    "model.fit(X_train, y_train)\n",
    "y_pred = model.predict(X_test)\n",
    "print(y_pred)"
   ]
  },
  {
   "cell_type": "markdown",
   "metadata": {},
   "source": [
    "Replace the missing values with predicted values"
   ]
  },
  {
   "cell_type": "code",
   "execution_count": 154,
   "metadata": {},
   "outputs": [],
   "source": [
    "df_train.loc[df_train.total_equity.isnull(), 'total_equity'] = y_pred"
   ]
  },
  {
   "cell_type": "markdown",
   "metadata": {},
   "source": [
    "## Financial ratios\n",
    "\n",
    "We use two liquidity ratios (measure a companies ability to meet its short term dept obligations) that we will weight as one to circumvent overfitting"
   ]
  },
  {
   "cell_type": "markdown",
   "metadata": {},
   "source": [
    "1. working capital ratio = current assets/current liabilities (use log because of skewed data)"
   ]
  },
  {
   "cell_type": "code",
   "execution_count": 157,
   "metadata": {},
   "outputs": [
    {
     "data": {
      "image/png": "[encoded data removed]",
      "text/plain": [
       "<Figure size 432x288 with 1 Axes>"
      ]
     },
     "metadata": {
      "needs_background": "light"
     },
     "output_type": "display_data"
    }
   ],
   "source": [
    "tr = df_train\n",
    "tr['wc_ratio'] = np.log(tr['current_assets'])/np.log(tr['total_liabilities_st'])\n",
    "plt.boxplot(tr.wc_ratio)\n",
    "plt.show()"
   ]
  },
  {
   "cell_type": "markdown",
   "metadata": {},
   "source": [
    "2. operating cash flow ratio = operating cf/current liabilities"
   ]
  },
  {
   "cell_type": "code",
   "execution_count": 158,
   "metadata": {},
   "outputs": [
    {
     "data": {
      "image/png": "[encoded data removed]",
      "text/plain": [
       "<Figure size 432x288 with 1 Axes>"
      ]
     },
     "metadata": {
      "needs_background": "light"
     },
     "output_type": "display_data"
    }
   ],
   "source": [
    "cf_pos = np.where(tr['cf_operating'] > 1, tr['cf_operating'], 0)\n",
    "cf_neg = np.where(tr['cf_operating'] < -1, tr['cf_operating'], 0)\n",
    "ocf = tr['cf_operating']/tr['total_liabilities_st']\n",
    "# winsorize ocf\n",
    "tr['ocf_ratio'] = sci.stats.mstats.winsorize(ocf, limits =[0.01, 0.015])\n",
    "plt.boxplot(tr.ocf_ratio)\n",
    "plt.show()"
   ]
  },
  {
   "cell_type": "markdown",
   "metadata": {},
   "source": [
    "Next we use two solvency ratio (measure a companies ability to meet its long term dept obligations) that we will weight as one to circumvent overfitting"
   ]
  },
  {
   "cell_type": "markdown",
   "metadata": {},
   "source": [
    "1. equity ratio = tot equity/total assets"
   ]
  },
  {
   "cell_type": "code",
   "execution_count": 159,
   "metadata": {},
   "outputs": [
    {
     "name": "stdout",
     "output_type": "stream",
     "text": [
      "0      0.982774\n",
      "1      0.942056\n",
      "2      0.608816\n",
      "3      0.968864\n",
      "4      0.958023\n",
      "         ...   \n",
      "664    0.897327\n",
      "665    0.924091\n",
      "666    0.000000\n",
      "667    0.000000\n",
      "668    0.797995\n",
      "Name: equity_ratio, Length: 668, dtype: float64\n",
      "count    668.000000\n",
      "mean       0.840919\n",
      "std        0.244647\n",
      "min        0.000000\n",
      "25%        0.845883\n",
      "50%        0.920100\n",
      "75%        0.957211\n",
      "max        1.195405\n",
      "Name: equity_ratio, dtype: float64\n"
     ]
    },
    {
     "name": "stderr",
     "output_type": "stream",
     "text": [
      "C:\\Users\\Fabio\\anaconda3\\lib\\site-packages\\pandas\\core\\series.py:679: RuntimeWarning: divide by zero encountered in log\n",
      "  result = getattr(ufunc, method)(*inputs, **kwargs)\n",
      "C:\\Users\\Fabio\\anaconda3\\lib\\site-packages\\pandas\\core\\series.py:679: RuntimeWarning: invalid value encountered in log\n",
      "  result = getattr(ufunc, method)(*inputs, **kwargs)\n"
     ]
    },
    {
     "data": {
      "image/png": "[encoded data removed]",
      "text/plain": [
       "<Figure size 432x288 with 1 Axes>"
      ]
     },
     "metadata": {
      "needs_background": "light"
     },
     "output_type": "display_data"
    }
   ],
   "source": [
    "tr['equity_ratio'] = np.where(tr['total_equity'] > 1, np.log(tr['total_equity'])/np.log(tr['total_assets']), 0)\n",
    "print(tr.equity_ratio)\n",
    "print(tr.equity_ratio.describe())\n",
    "plt.boxplot(tr.equity_ratio)\n",
    "plt.show()"
   ]
  },
  {
   "cell_type": "markdown",
   "metadata": {},
   "source": [
    "2. dept to equity ratio = total dept/total equity"
   ]
  },
  {
   "cell_type": "code",
   "execution_count": 160,
   "metadata": {},
   "outputs": [
    {
     "name": "stdout",
     "output_type": "stream",
     "text": [
      "count    668.000000\n",
      "mean       1.004309\n",
      "std        0.316616\n",
      "min        0.000000\n",
      "25%        0.966739\n",
      "50%        1.042361\n",
      "75%        1.133423\n",
      "max        2.224372\n",
      "Name: dept_to_equity, dtype: float64\n",
      "0      0.939680\n",
      "1      1.029047\n",
      "2      1.469820\n",
      "3      0.911417\n",
      "4      1.014277\n",
      "         ...   \n",
      "664    1.100888\n",
      "665    1.050137\n",
      "666    0.000000\n",
      "667    0.000000\n",
      "668    1.249817\n",
      "Name: dept_to_equity, Length: 668, dtype: float64\n",
      "0.000000    46\n",
      "1.316672     1\n",
      "0.979086     1\n",
      "0.919248     1\n",
      "1.140547     1\n",
      "            ..\n",
      "1.110377     1\n",
      "1.011722     1\n",
      "1.234334     1\n",
      "1.052017     1\n",
      "1.009615     1\n",
      "Name: dept_to_equity, Length: 623, dtype: int64\n"
     ]
    },
    {
     "name": "stderr",
     "output_type": "stream",
     "text": [
      "C:\\Users\\Fabio\\anaconda3\\lib\\site-packages\\pandas\\core\\series.py:679: RuntimeWarning: divide by zero encountered in log\n",
      "  result = getattr(ufunc, method)(*inputs, **kwargs)\n",
      "C:\\Users\\Fabio\\anaconda3\\lib\\site-packages\\pandas\\core\\series.py:679: RuntimeWarning: invalid value encountered in log\n",
      "  result = getattr(ufunc, method)(*inputs, **kwargs)\n"
     ]
    },
    {
     "data": {
      "image/png": "[encoded data removed]",
      "text/plain": [
       "<Figure size 432x288 with 1 Axes>"
      ]
     },
     "metadata": {
      "needs_background": "light"
     },
     "output_type": "display_data"
    }
   ],
   "source": [
    "tr['dept_to_equity'] = np.where(tr['total_equity'] > 1, np.log(tr['total_liabilities'])/np.log(tr['total_equity']), 0)\n",
    "print(tr.dept_to_equity.describe())\n",
    "print(tr.dept_to_equity)\n",
    "print(tr.dept_to_equity.value_counts()) #46 nulls\n",
    "plt.boxplot(tr.dept_to_equity)\n",
    "plt.show()"
   ]
  },
  {
   "cell_type": "markdown",
   "metadata": {},
   "source": [
    "Create a dataframe with financial ratios and a heatmap to check for correlation between ratios"
   ]
  },
  {
   "cell_type": "code",
   "execution_count": 161,
   "metadata": {},
   "outputs": [
    {
     "name": "stdout",
     "output_type": "stream",
     "text": [
      "   wc_ratio  ocf_ratio  equity_ratio  dept_to_equity\n",
      "0  1.103570   0.949635      0.982774        0.939680\n",
      "1  0.974001  -0.617484      0.942056        1.029047\n",
      "2  1.075391   1.130863      0.608816        1.469820\n",
      "3  1.078651   0.665113      0.968864        0.911417\n",
      "4  0.883952   0.374604      0.958023        1.014277\n",
      "5  1.313287   3.180455      0.993943        0.765812\n",
      "6  0.990158   0.394165      0.979141        0.969815\n",
      "7  1.020241   2.055528      0.995213        0.893858\n",
      "8  0.944483   0.023414      0.915823        1.077684\n",
      "9  0.974708   0.278993      0.974618        0.943916\n",
      "<class 'pandas.core.frame.DataFrame'>\n",
      "Int64Index: 668 entries, 0 to 668\n",
      "Data columns (total 4 columns):\n",
      " #   Column          Non-Null Count  Dtype  \n",
      "---  ------          --------------  -----  \n",
      " 0   wc_ratio        668 non-null    float64\n",
      " 1   ocf_ratio       668 non-null    float64\n",
      " 2   equity_ratio    668 non-null    float64\n",
      " 3   dept_to_equity  668 non-null    float64\n",
      "dtypes: float64(4)\n",
      "memory usage: 26.1 KB\n",
      "None\n"
     ]
    },
    {
     "data": {
      "image/png": "[encoded data removed]",
      "text/plain": [
       "<Figure size 432x288 with 2 Axes>"
      ]
     },
     "metadata": {
      "needs_background": "light"
     },
     "output_type": "display_data"
    }
   ],
   "source": [
    "col = ['wc_ratio', 'ocf_ratio', 'equity_ratio', 'dept_to_equity']\n",
    "data = df_train[col]\n",
    "print(data.head(10))\n",
    "print(data.info())\n",
    "\n",
    "heatmap = sns.heatmap(data.corr(), vmin=-1, vmax=1, annot=True)\n",
    "heatmap.set_title('Financial Ratios Correlation Heatmap')\n",
    "plt.show()"
   ]
  },
  {
   "cell_type": "markdown",
   "metadata": {},
   "source": [
    "# PD Model preparation"
   ]
  },
  {
   "cell_type": "markdown",
   "metadata": {},
   "source": [
    "## Dependent variabel: Good/Bad (default) definition"
   ]
  },
  {
   "cell_type": "markdown",
   "metadata": {},
   "source": [
    "# PD model estimation"
   ]
  },
  {
   "cell_type": "markdown",
   "metadata": {},
   "source": [
    "# PD model validation"
   ]
  },
  {
   "cell_type": "markdown",
   "metadata": {},
   "source": []
  },
  {
   "cell_type": "markdown",
   "metadata": {},
   "source": [
    "## Out of sample validation (test)\n",
    "### Evaluation of model performance: accuracy and area under the curve (AUC)\n",
    "### Evalution of model performance: Gini"
   ]
  },
  {
   "cell_type": "markdown",
   "metadata": {},
   "source": [
    "Test fabio"
   ]
  }
 ],
 "metadata": {
  "hide_input": false,
  "kernelspec": {
   "display_name": "Python 3",
   "language": "python",
   "name": "python3"
  },
  "language_info": {
   "codemirror_mode": {
    "name": "ipython",
    "version": 3
   },
   "file_extension": ".py",
   "mimetype": "text/x-python",
   "name": "python",
   "nbconvert_exporter": "python",
   "pygments_lexer": "ipython3",
   "version": "3.8.3"
  },
  "latex_envs": {
   "LaTeX_envs_menu_present": true,
   "autoclose": false,
   "autocomplete": true,
   "bibliofile": "biblio.bib",
   "cite_by": "apalike",
   "current_citInitial": 1,
   "eqLabelWithNumbers": true,
   "eqNumInitial": 1,
   "hotkeys": {
    "equation": "Ctrl-E",
    "itemize": "Ctrl-I"
   },
   "labels_anchors": false,
   "latex_user_defs": false,
   "report_style_numbering": false,
   "user_envs_cfg": false
  },
  "toc": {
   "base_numbering": 1,
   "nav_menu": {},
   "number_sections": true,
   "sideBar": true,
   "skip_h1_title": false,
   "title_cell": "Table of Contents",
   "title_sidebar": "Contents",
   "toc_cell": false,
   "toc_position": {},
   "toc_section_display": true,
   "toc_window_display": true
  },
  "varInspector": {
   "cols": {
    "lenName": 16,
    "lenType": 16,
    "lenVar": 40
   },
   "kernels_config": {
    "python": {
     "delete_cmd_postfix": "",
     "delete_cmd_prefix": "del ",
     "library": "var_list.py",
     "varRefreshCmd": "print(var_dic_list())"
    },
    "r": {
     "delete_cmd_postfix": ") ",
     "delete_cmd_prefix": "rm(",
     "library": "var_list.r",
     "varRefreshCmd": "cat(var_dic_list()) "
    }
   },
   "position": {
    "height": "161.85px",
    "left": "864px",
    "right": "20px",
    "top": "181px",
    "width": "333px"
   },
   "types_to_exclude": [
    "module",
    "function",
    "builtin_function_or_method",
    "instance",
    "_Feature"
   ],
   "window_display": true
  }
 },
 "nbformat": 4,
 "nbformat_minor": 2
}
