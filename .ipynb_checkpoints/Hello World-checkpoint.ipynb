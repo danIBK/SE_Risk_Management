{
 "cells": [
  {
   "cell_type": "markdown",
   "metadata": {
    "ExecuteTime": {
     "end_time": "2021-01-02T14:17:35.267928Z",
     "start_time": "2021-01-02T14:17:29.555093Z"
    }
   },
   "source": [
    "# Loading packages"
   ]
  },
  {
   "cell_type": "code",
   "execution_count": 1,
   "metadata": {
    "ExecuteTime": {
     "end_time": "2021-01-11T08:41:48.232652Z",
     "start_time": "2021-01-11T08:41:43.721018Z"
    }
   },
   "outputs": [],
   "source": [
    "#Comment out the other paths and comment in your path\n",
    "#path = r'C:\\Users\\heuse\\Desktop\\SE_Risk_Management-1/' #Daniel Path\n",
    "#path = '/Users/mandoholzknecht/SE_Risk_Management/' # Path Mando\n",
    "path = 'C:/Users/Fabio/OneDrive/Dokumente/Uni Innsbruck/WS20/Applied risk mgmt/SE/Heusli/SE_Risk_Management/' # Path Fabio\n",
    "\n",
    "import warnings\n",
    "warnings.filterwarnings('ignore')\n",
    "\n",
    "import pandas as pd\n",
    "import numpy as np\n",
    "import matplotlib.pyplot as plt\n",
    "\n",
    "\n",
    "import seaborn as sns\n",
    "import statsmodels.api as sm\n",
    "import statsmodels.formula.api as smf\n",
    "import statsmodels.stats.anova as anova\n",
    "import scipy as sci\n",
    "\n",
    "from sklearn import metrics\n",
    "\n",
    "from sklearn.model_selection import train_test_split, RepeatedStratifiedKFold, cross_val_score\n",
    "from sklearn.linear_model import LogisticRegression\n",
    "from sklearn.metrics import roc_curve, roc_auc_score, confusion_matrix, precision_recall_curve, auc\n",
    "from sklearn.feature_selection import f_classif\n",
    "from sklearn.pipeline import Pipeline\n",
    "from sklearn.base import BaseEstimator, TransformerMixin\n",
    "from scipy.stats import chi2_contingency\n",
    "from sklearn.linear_model import LinearRegression\n",
    "from sklearn.metrics import mean_squared_error\n",
    "\n",
    "import datetime\n"
   ]
  },
  {
   "cell_type": "markdown",
   "metadata": {},
   "source": [
    "# Loading the data\n",
    "\n",
    "Loading the Training dataset + Test dataset"
   ]
  },
  {
   "cell_type": "code",
   "execution_count": 2,
   "metadata": {
    "ExecuteTime": {
     "end_time": "2021-01-11T08:41:50.190769Z",
     "start_time": "2021-01-11T08:41:49.905825Z"
    }
   },
   "outputs": [
    {
     "data": {
      "text/html": [
       "<div>\n",
       "<style scoped>\n",
       "    .dataframe tbody tr th:only-of-type {\n",
       "        vertical-align: middle;\n",
       "    }\n",
       "\n",
       "    .dataframe tbody tr th {\n",
       "        vertical-align: top;\n",
       "    }\n",
       "\n",
       "    .dataframe thead th {\n",
       "        text-align: right;\n",
       "    }\n",
       "</style>\n",
       "<table border=\"1\" class=\"dataframe\">\n",
       "  <thead>\n",
       "    <tr style=\"text-align: right;\">\n",
       "      <th></th>\n",
       "      <th>id</th>\n",
       "      <th>default</th>\n",
       "      <th>legal_form</th>\n",
       "      <th>zip_code</th>\n",
       "      <th>sector</th>\n",
       "      <th>year_inc</th>\n",
       "      <th>count_emp</th>\n",
       "      <th>type_pl</th>\n",
       "      <th>sales</th>\n",
       "      <th>gross_performance</th>\n",
       "      <th>...</th>\n",
       "      <th>bonds_payables_lt</th>\n",
       "      <th>total_equity</th>\n",
       "      <th>current_assets</th>\n",
       "      <th>monetary_current_assets</th>\n",
       "      <th>cash</th>\n",
       "      <th>trade_receivables_st</th>\n",
       "      <th>trade_receivables_lt</th>\n",
       "      <th>cf_operating</th>\n",
       "      <th>cf_investment</th>\n",
       "      <th>cf_financing</th>\n",
       "    </tr>\n",
       "  </thead>\n",
       "  <tbody>\n",
       "    <tr>\n",
       "      <th>0</th>\n",
       "      <td>C_405</td>\n",
       "      <td>0</td>\n",
       "      <td>GmbH &amp; Co. KG</td>\n",
       "      <td>12359</td>\n",
       "      <td>46730</td>\n",
       "      <td>1900</td>\n",
       "      <td>NaN</td>\n",
       "      <td>GKV</td>\n",
       "      <td>1.068738e+08</td>\n",
       "      <td>1.068738e+08</td>\n",
       "      <td>...</td>\n",
       "      <td>NaN</td>\n",
       "      <td>3.224471e+07</td>\n",
       "      <td>3.783199e+07</td>\n",
       "      <td>1.711147e+07</td>\n",
       "      <td>10297047.50</td>\n",
       "      <td>NaN</td>\n",
       "      <td>NaN</td>\n",
       "      <td>6.986094e+06</td>\n",
       "      <td>-1.112342e+06</td>\n",
       "      <td>-7520392.09</td>\n",
       "    </tr>\n",
       "    <tr>\n",
       "      <th>1</th>\n",
       "      <td>C_292</td>\n",
       "      <td>0</td>\n",
       "      <td>GmbH &amp; Co. KG</td>\n",
       "      <td>10719</td>\n",
       "      <td>70101</td>\n",
       "      <td>1976</td>\n",
       "      <td>NaN</td>\n",
       "      <td>GKV</td>\n",
       "      <td>1.393869e+06</td>\n",
       "      <td>1.407889e+06</td>\n",
       "      <td>...</td>\n",
       "      <td>NaN</td>\n",
       "      <td>4.508026e+06</td>\n",
       "      <td>4.669179e+06</td>\n",
       "      <td>9.278377e+05</td>\n",
       "      <td>926383.75</td>\n",
       "      <td>NaN</td>\n",
       "      <td>NaN</td>\n",
       "      <td>-4.343980e+06</td>\n",
       "      <td>1.174427e+06</td>\n",
       "      <td>1128108.08</td>\n",
       "    </tr>\n",
       "    <tr>\n",
       "      <th>2</th>\n",
       "      <td>C_746</td>\n",
       "      <td>0</td>\n",
       "      <td>GmbH</td>\n",
       "      <td>13353</td>\n",
       "      <td>87100</td>\n",
       "      <td>1962</td>\n",
       "      <td>323.0</td>\n",
       "      <td>GKV</td>\n",
       "      <td>3.864034e+06</td>\n",
       "      <td>7.597353e+05</td>\n",
       "      <td>...</td>\n",
       "      <td>NaN</td>\n",
       "      <td>5.164048e+04</td>\n",
       "      <td>2.810119e+07</td>\n",
       "      <td>1.111696e+07</td>\n",
       "      <td>9146283.79</td>\n",
       "      <td>617816.28</td>\n",
       "      <td>NaN</td>\n",
       "      <td>9.548544e+06</td>\n",
       "      <td>-7.536444e+06</td>\n",
       "      <td>-22026.07</td>\n",
       "    </tr>\n",
       "    <tr>\n",
       "      <th>3</th>\n",
       "      <td>C_838</td>\n",
       "      <td>0</td>\n",
       "      <td>AG</td>\n",
       "      <td>12529</td>\n",
       "      <td>68320</td>\n",
       "      <td>1972</td>\n",
       "      <td>1.0</td>\n",
       "      <td>GKV</td>\n",
       "      <td>4.384786e+06</td>\n",
       "      <td>4.405058e+06</td>\n",
       "      <td>...</td>\n",
       "      <td>NaN</td>\n",
       "      <td>1.182011e+07</td>\n",
       "      <td>8.238474e+06</td>\n",
       "      <td>7.519183e+06</td>\n",
       "      <td>6890565.23</td>\n",
       "      <td>319848.26</td>\n",
       "      <td>NaN</td>\n",
       "      <td>1.715799e+06</td>\n",
       "      <td>-6.561222e+05</td>\n",
       "      <td>-169655.66</td>\n",
       "    </tr>\n",
       "    <tr>\n",
       "      <th>4</th>\n",
       "      <td>C_495</td>\n",
       "      <td>0</td>\n",
       "      <td>Einzelfirma</td>\n",
       "      <td>12165</td>\n",
       "      <td>47730</td>\n",
       "      <td>1908</td>\n",
       "      <td>NaN</td>\n",
       "      <td>GKV</td>\n",
       "      <td>1.104478e+08</td>\n",
       "      <td>1.104478e+08</td>\n",
       "      <td>...</td>\n",
       "      <td>NaN</td>\n",
       "      <td>4.547445e+08</td>\n",
       "      <td>3.546565e+07</td>\n",
       "      <td>8.545184e+06</td>\n",
       "      <td>5036615.09</td>\n",
       "      <td>516646.73</td>\n",
       "      <td>NaN</td>\n",
       "      <td>1.301809e+08</td>\n",
       "      <td>-1.419776e+08</td>\n",
       "      <td>12567030.80</td>\n",
       "    </tr>\n",
       "    <tr>\n",
       "      <th>5</th>\n",
       "      <td>C_494</td>\n",
       "      <td>0</td>\n",
       "      <td>GmbH</td>\n",
       "      <td>13055</td>\n",
       "      <td>68201</td>\n",
       "      <td>1990</td>\n",
       "      <td>415.0</td>\n",
       "      <td>GKV</td>\n",
       "      <td>4.518042e+04</td>\n",
       "      <td>4.518042e+04</td>\n",
       "      <td>...</td>\n",
       "      <td>NaN</td>\n",
       "      <td>7.953387e+04</td>\n",
       "      <td>8.484770e+04</td>\n",
       "      <td>8.061511e+04</td>\n",
       "      <td>75679.79</td>\n",
       "      <td>NaN</td>\n",
       "      <td>NaN</td>\n",
       "      <td>1.800497e+04</td>\n",
       "      <td>-3.787100e+02</td>\n",
       "      <td>0.00</td>\n",
       "    </tr>\n",
       "    <tr>\n",
       "      <th>6</th>\n",
       "      <td>C_300</td>\n",
       "      <td>0</td>\n",
       "      <td>GmbH</td>\n",
       "      <td>10969</td>\n",
       "      <td>68200</td>\n",
       "      <td>1991</td>\n",
       "      <td>2.0</td>\n",
       "      <td>GKV</td>\n",
       "      <td>1.508435e+08</td>\n",
       "      <td>1.479894e+08</td>\n",
       "      <td>...</td>\n",
       "      <td>NaN</td>\n",
       "      <td>6.657375e+08</td>\n",
       "      <td>8.479909e+07</td>\n",
       "      <td>3.142807e+07</td>\n",
       "      <td>11542490.91</td>\n",
       "      <td>326731.07</td>\n",
       "      <td>8000.0</td>\n",
       "      <td>4.007555e+07</td>\n",
       "      <td>-8.337054e+06</td>\n",
       "      <td>-34594274.52</td>\n",
       "    </tr>\n",
       "    <tr>\n",
       "      <th>7</th>\n",
       "      <td>C_453</td>\n",
       "      <td>0</td>\n",
       "      <td>GmbH</td>\n",
       "      <td>16792</td>\n",
       "      <td>78100</td>\n",
       "      <td>1991</td>\n",
       "      <td>NaN</td>\n",
       "      <td>GKV</td>\n",
       "      <td>2.843420e+08</td>\n",
       "      <td>2.843420e+08</td>\n",
       "      <td>...</td>\n",
       "      <td>NaN</td>\n",
       "      <td>2.883814e+09</td>\n",
       "      <td>4.229090e+08</td>\n",
       "      <td>4.312550e+08</td>\n",
       "      <td>21696000.00</td>\n",
       "      <td>448000.00</td>\n",
       "      <td>NaN</td>\n",
       "      <td>5.861770e+08</td>\n",
       "      <td>-7.339750e+08</td>\n",
       "      <td>-95826000.00</td>\n",
       "    </tr>\n",
       "    <tr>\n",
       "      <th>8</th>\n",
       "      <td>C_924</td>\n",
       "      <td>0</td>\n",
       "      <td>GmbH</td>\n",
       "      <td>13125</td>\n",
       "      <td>86101</td>\n",
       "      <td>1991</td>\n",
       "      <td>283.0</td>\n",
       "      <td>GKV</td>\n",
       "      <td>9.811591e+06</td>\n",
       "      <td>9.681040e+06</td>\n",
       "      <td>...</td>\n",
       "      <td>NaN</td>\n",
       "      <td>2.032968e+07</td>\n",
       "      <td>7.366730e+06</td>\n",
       "      <td>5.421665e+06</td>\n",
       "      <td>322573.88</td>\n",
       "      <td>372298.68</td>\n",
       "      <td>NaN</td>\n",
       "      <td>4.369386e+05</td>\n",
       "      <td>-1.879056e+06</td>\n",
       "      <td>-13729379.17</td>\n",
       "    </tr>\n",
       "    <tr>\n",
       "      <th>9</th>\n",
       "      <td>C_976</td>\n",
       "      <td>0</td>\n",
       "      <td>GmbH</td>\n",
       "      <td>12681</td>\n",
       "      <td>71122</td>\n",
       "      <td>1999</td>\n",
       "      <td>NaN</td>\n",
       "      <td>GKV</td>\n",
       "      <td>1.384595e+05</td>\n",
       "      <td>1.384595e+05</td>\n",
       "      <td>...</td>\n",
       "      <td>NaN</td>\n",
       "      <td>1.552805e+06</td>\n",
       "      <td>4.966969e+05</td>\n",
       "      <td>4.500943e+04</td>\n",
       "      <td>35726.57</td>\n",
       "      <td>NaN</td>\n",
       "      <td>NaN</td>\n",
       "      <td>1.947540e+05</td>\n",
       "      <td>3.318306e+05</td>\n",
       "      <td>-798859.83</td>\n",
       "    </tr>\n",
       "  </tbody>\n",
       "</table>\n",
       "<p>10 rows × 40 columns</p>\n",
       "</div>"
      ],
      "text/plain": [
       "      id  default     legal_form  zip_code  sector  year_inc  count_emp  \\\n",
       "0  C_405        0  GmbH & Co. KG     12359   46730      1900        NaN   \n",
       "1  C_292        0  GmbH & Co. KG     10719   70101      1976        NaN   \n",
       "2  C_746        0           GmbH     13353   87100      1962      323.0   \n",
       "3  C_838        0             AG     12529   68320      1972        1.0   \n",
       "4  C_495        0    Einzelfirma     12165   47730      1908        NaN   \n",
       "5  C_494        0           GmbH     13055   68201      1990      415.0   \n",
       "6  C_300        0           GmbH     10969   68200      1991        2.0   \n",
       "7  C_453        0           GmbH     16792   78100      1991        NaN   \n",
       "8  C_924        0           GmbH     13125   86101      1991      283.0   \n",
       "9  C_976        0           GmbH     12681   71122      1999        NaN   \n",
       "\n",
       "  type_pl         sales  gross_performance  ...  bonds_payables_lt  \\\n",
       "0     GKV  1.068738e+08       1.068738e+08  ...                NaN   \n",
       "1     GKV  1.393869e+06       1.407889e+06  ...                NaN   \n",
       "2     GKV  3.864034e+06       7.597353e+05  ...                NaN   \n",
       "3     GKV  4.384786e+06       4.405058e+06  ...                NaN   \n",
       "4     GKV  1.104478e+08       1.104478e+08  ...                NaN   \n",
       "5     GKV  4.518042e+04       4.518042e+04  ...                NaN   \n",
       "6     GKV  1.508435e+08       1.479894e+08  ...                NaN   \n",
       "7     GKV  2.843420e+08       2.843420e+08  ...                NaN   \n",
       "8     GKV  9.811591e+06       9.681040e+06  ...                NaN   \n",
       "9     GKV  1.384595e+05       1.384595e+05  ...                NaN   \n",
       "\n",
       "   total_equity  current_assets  monetary_current_assets         cash  \\\n",
       "0  3.224471e+07    3.783199e+07             1.711147e+07  10297047.50   \n",
       "1  4.508026e+06    4.669179e+06             9.278377e+05    926383.75   \n",
       "2  5.164048e+04    2.810119e+07             1.111696e+07   9146283.79   \n",
       "3  1.182011e+07    8.238474e+06             7.519183e+06   6890565.23   \n",
       "4  4.547445e+08    3.546565e+07             8.545184e+06   5036615.09   \n",
       "5  7.953387e+04    8.484770e+04             8.061511e+04     75679.79   \n",
       "6  6.657375e+08    8.479909e+07             3.142807e+07  11542490.91   \n",
       "7  2.883814e+09    4.229090e+08             4.312550e+08  21696000.00   \n",
       "8  2.032968e+07    7.366730e+06             5.421665e+06    322573.88   \n",
       "9  1.552805e+06    4.966969e+05             4.500943e+04     35726.57   \n",
       "\n",
       "   trade_receivables_st  trade_receivables_lt  cf_operating  cf_investment  \\\n",
       "0                   NaN                   NaN  6.986094e+06  -1.112342e+06   \n",
       "1                   NaN                   NaN -4.343980e+06   1.174427e+06   \n",
       "2             617816.28                   NaN  9.548544e+06  -7.536444e+06   \n",
       "3             319848.26                   NaN  1.715799e+06  -6.561222e+05   \n",
       "4             516646.73                   NaN  1.301809e+08  -1.419776e+08   \n",
       "5                   NaN                   NaN  1.800497e+04  -3.787100e+02   \n",
       "6             326731.07                8000.0  4.007555e+07  -8.337054e+06   \n",
       "7             448000.00                   NaN  5.861770e+08  -7.339750e+08   \n",
       "8             372298.68                   NaN  4.369386e+05  -1.879056e+06   \n",
       "9                   NaN                   NaN  1.947540e+05   3.318306e+05   \n",
       "\n",
       "   cf_financing  \n",
       "0   -7520392.09  \n",
       "1    1128108.08  \n",
       "2     -22026.07  \n",
       "3    -169655.66  \n",
       "4   12567030.80  \n",
       "5          0.00  \n",
       "6  -34594274.52  \n",
       "7  -95826000.00  \n",
       "8  -13729379.17  \n",
       "9    -798859.83  \n",
       "\n",
       "[10 rows x 40 columns]"
      ]
     },
     "execution_count": 2,
     "metadata": {},
     "output_type": "execute_result"
    }
   ],
   "source": [
    "# use the realtive path finding\n",
    "df_train = pd.read_csv(path + 'Training_Dataset.csv', sep=';', index_col=None)\n",
    "df_test = pd.read_csv(path + 'Test_Dataset.csv', sep=';', index_col=0)\n",
    "\n",
    "df_train.head(10)"
   ]
  },
  {
   "cell_type": "markdown",
   "metadata": {},
   "source": [
    "# Understanding your data\n",
    "\n",
    "\n",
    "## Univartiate descriptive anaylsis\n",
    "\n",
    "The datatype of the variables is important as in dermines how you have to look at the data"
   ]
  },
  {
   "cell_type": "code",
   "execution_count": 3,
   "metadata": {
    "ExecuteTime": {
     "end_time": "2021-01-11T08:41:51.535081Z",
     "start_time": "2021-01-11T08:41:51.522421Z"
    }
   },
   "outputs": [
    {
     "data": {
      "text/plain": [
       "['id', 'legal_form', 'type_pl']"
      ]
     },
     "execution_count": 3,
     "metadata": {},
     "output_type": "execute_result"
    }
   ],
   "source": [
    "catvar = [i for i in list(df_train.columns) if df_train[i].dtype=='O']\n",
    "catvar # categorial variables"
   ]
  },
  {
   "cell_type": "code",
   "execution_count": 4,
   "metadata": {
    "ExecuteTime": {
     "end_time": "2021-01-11T08:41:52.236759Z",
     "start_time": "2021-01-11T08:41:52.220760Z"
    }
   },
   "outputs": [
    {
     "data": {
      "text/plain": [
       "['default',\n",
       " 'zip_code',\n",
       " 'sector',\n",
       " 'year_inc',\n",
       " 'count_emp',\n",
       " 'sales',\n",
       " 'gross_performance',\n",
       " 'gross_profit',\n",
       " 'earn_from_op',\n",
       " 'fin_result',\n",
       " 'oth_interest_inc',\n",
       " 'oth_interest_exp',\n",
       " 'result_from_ord_bus',\n",
       " 'total_result',\n",
       " 'annual_profit',\n",
       " 'total_assets',\n",
       " 'total_liabilities_st',\n",
       " 'total_liabilities_mt',\n",
       " 'total_liabilities_lt',\n",
       " 'bank_liabilities_st',\n",
       " 'bank_liabilities_mt',\n",
       " 'bank_liabilities_lt',\n",
       " 'trade_payables_st',\n",
       " 'trade_payables_mt',\n",
       " 'trade_payables_lt',\n",
       " 'bonds_payables_st',\n",
       " 'bonds_payables_mt',\n",
       " 'bonds_payables_lt',\n",
       " 'total_equity',\n",
       " 'current_assets',\n",
       " 'monetary_current_assets',\n",
       " 'cash',\n",
       " 'trade_receivables_st',\n",
       " 'trade_receivables_lt',\n",
       " 'cf_operating',\n",
       " 'cf_investment',\n",
       " 'cf_financing']"
      ]
     },
     "execution_count": 4,
     "metadata": {},
     "output_type": "execute_result"
    }
   ],
   "source": [
    "numvar = [i for i in list(df_train.columns) if df_train[i].dtype in ['float64','int64']]\n",
    "numvar # numberical variables"
   ]
  },
  {
   "cell_type": "markdown",
   "metadata": {},
   "source": [
    "## Missing values\n",
    "\n",
    "Overview of missing values in the data"
   ]
  },
  {
   "cell_type": "code",
   "execution_count": 5,
   "metadata": {
    "ExecuteTime": {
     "end_time": "2021-01-11T08:41:53.669612Z",
     "start_time": "2021-01-11T08:41:53.639503Z"
    }
   },
   "outputs": [
    {
     "data": {
      "text/plain": [
       "bonds_payables_st          669\n",
       "bonds_payables_lt          669\n",
       "trade_payables_lt          665\n",
       "bonds_payables_mt          664\n",
       "trade_payables_mt          648\n",
       "trade_receivables_lt       645\n",
       "bank_liabilities_lt        545\n",
       "bank_liabilities_mt        483\n",
       "trade_receivables_st       355\n",
       "count_emp                  353\n",
       "bank_liabilities_st        352\n",
       "trade_payables_st          143\n",
       "oth_interest_inc           127\n",
       "oth_interest_exp            62\n",
       "cash                        32\n",
       "fin_result                  22\n",
       "total_equity                21\n",
       "gross_profit                 7\n",
       "gross_performance            7\n",
       "result_from_ord_bus          1\n",
       "sales                        1\n",
       "earn_from_op                 1\n",
       "cf_financing                 1\n",
       "annual_profit                1\n",
       "total_assets                 1\n",
       "cf_investment                1\n",
       "current_assets               1\n",
       "cf_operating                 1\n",
       "sector                       0\n",
       "zip_code                     0\n",
       "legal_form                   0\n",
       "default                      0\n",
       "year_inc                     0\n",
       "total_liabilities_st         0\n",
       "type_pl                      0\n",
       "total_result                 0\n",
       "total_liabilities_mt         0\n",
       "total_liabilities_lt         0\n",
       "monetary_current_assets      0\n",
       "id                           0\n",
       "dtype: int64"
      ]
     },
     "execution_count": 5,
     "metadata": {},
     "output_type": "execute_result"
    }
   ],
   "source": [
    "df_train.isnull().sum().sort_values(ascending=False)"
   ]
  },
  {
   "cell_type": "code",
   "execution_count": 6,
   "metadata": {
    "ExecuteTime": {
     "end_time": "2021-01-11T08:41:54.358875Z",
     "start_time": "2021-01-11T08:41:54.337597Z"
    }
   },
   "outputs": [
    {
     "data": {
      "text/plain": [
       "bonds_payables_lt          330\n",
       "bonds_payables_st          330\n",
       "trade_payables_lt          330\n",
       "bonds_payables_mt          329\n",
       "trade_payables_mt          322\n",
       "trade_receivables_lt       320\n",
       "bank_liabilities_lt        250\n",
       "bank_liabilities_mt        230\n",
       "count_emp                  179\n",
       "bank_liabilities_st        172\n",
       "trade_receivables_st       169\n",
       "trade_payables_st           65\n",
       "oth_interest_inc            62\n",
       "oth_interest_exp            23\n",
       "cash                        18\n",
       "total_equity                 9\n",
       "fin_result                   8\n",
       "gross_performance            3\n",
       "gross_profit                 3\n",
       "cf_investment                1\n",
       "cf_operating                 1\n",
       "cf_financing                 1\n",
       "earn_from_op                 0\n",
       "year_inc                     0\n",
       "sector                       0\n",
       "type_pl                      0\n",
       "sales                        0\n",
       "zip_code                     0\n",
       "total_liabilities_mt         0\n",
       "result_from_ord_bus          0\n",
       "total_result                 0\n",
       "annual_profit                0\n",
       "total_assets                 0\n",
       "total_liabilities_st         0\n",
       "total_liabilities_lt         0\n",
       "current_assets               0\n",
       "monetary_current_assets      0\n",
       "legal_form                   0\n",
       "dtype: int64"
      ]
     },
     "execution_count": 6,
     "metadata": {},
     "output_type": "execute_result"
    }
   ],
   "source": [
    "df_test.isnull().sum().sort_values(ascending=False)"
   ]
  },
  {
   "cell_type": "markdown",
   "metadata": {},
   "source": [
    "# Variables\n",
    "\n",
    "Variable coding and transforming variables"
   ]
  },
  {
   "cell_type": "code",
   "execution_count": 7,
   "metadata": {
    "ExecuteTime": {
     "end_time": "2021-01-11T08:41:55.569440Z",
     "start_time": "2021-01-11T08:41:55.552688Z"
    }
   },
   "outputs": [],
   "source": [
    "# drop companies with to many null columns \n",
    "df_train = df_train.loc[df_train[\"id\"] != 'C_620'] \n",
    "\n",
    "# get total liabilities\n",
    "df_train['total_liabilities'] = df_train['total_liabilities_st'] + df_train['total_liabilities_mt'] + df_train['total_liabilities_lt']\n",
    "df_test['total_liabilities'] = df_test['total_liabilities_st'] + df_test['total_liabilities_mt'] + df_test['total_liabilities_lt']"
   ]
  },
  {
   "cell_type": "markdown",
   "metadata": {},
   "source": [
    "### Age columns\n",
    "Transforming the year of incorporation variable to two age variables: one numerical (age_num) one and one categorical one (age_cat). "
   ]
  },
  {
   "cell_type": "markdown",
   "metadata": {
    "ExecuteTime": {
     "end_time": "2021-01-06T09:43:23.476259Z",
     "start_time": "2021-01-06T09:43:23.465109Z"
    }
   },
   "source": [
    "\\begin{equation*}\n",
    "Age = Todays\\ Year - Year\\ Inc.\n",
    "\\end{equation*}"
   ]
  },
  {
   "cell_type": "code",
   "execution_count": 8,
   "metadata": {
    "ExecuteTime": {
     "end_time": "2021-01-11T08:41:58.335003Z",
     "start_time": "2021-01-11T08:41:58.266525Z"
    }
   },
   "outputs": [],
   "source": [
    "df_train['age_num'] = datetime.datetime.now().year - df_train[\"year_inc\"]\n",
    "df_train.sort_values(by=\"age_num\",ascending=False).head(5)\n",
    "\n",
    "#For the test data\n",
    "df_test['age_num'] = datetime.datetime.now().year - df_test[\"year_inc\"]"
   ]
  },
  {
   "cell_type": "markdown",
   "metadata": {},
   "source": [
    "As we have some firms which are pretty old (some > 100 years) and two outliers (2020s) we can set their value to the e.g.: 95% quantile as this shouldn't change the meaning of the age variable that much. They are long on the market and it does not really matter if they are long on the market (e.g.: 100 years) or very very long in the business (eg: above 500 years). "
   ]
  },
  {
   "cell_type": "code",
   "execution_count": 9,
   "metadata": {
    "ExecuteTime": {
     "end_time": "2021-01-11T08:42:00.068818Z",
     "start_time": "2021-01-11T08:41:59.641048Z"
    }
   },
   "outputs": [
    {
     "data": {
      "text/html": [
       "<div>\n",
       "<style scoped>\n",
       "    .dataframe tbody tr th:only-of-type {\n",
       "        vertical-align: middle;\n",
       "    }\n",
       "\n",
       "    .dataframe tbody tr th {\n",
       "        vertical-align: top;\n",
       "    }\n",
       "\n",
       "    .dataframe thead th {\n",
       "        text-align: right;\n",
       "    }\n",
       "</style>\n",
       "<table border=\"1\" class=\"dataframe\">\n",
       "  <thead>\n",
       "    <tr style=\"text-align: right;\">\n",
       "      <th>age_quartile</th>\n",
       "      <th>(9.999, 13.0]</th>\n",
       "      <th>(13.0, 16.0]</th>\n",
       "      <th>(16.0, 20.0]</th>\n",
       "      <th>(20.0, 23.0]</th>\n",
       "      <th>(23.0, 25.0]</th>\n",
       "      <th>(25.0, 29.0]</th>\n",
       "      <th>(29.0, 32.0]</th>\n",
       "      <th>(32.0, 42.6]</th>\n",
       "      <th>(42.6, 66.0]</th>\n",
       "      <th>(66.0, 158.33]</th>\n",
       "    </tr>\n",
       "    <tr>\n",
       "      <th>default</th>\n",
       "      <th></th>\n",
       "      <th></th>\n",
       "      <th></th>\n",
       "      <th></th>\n",
       "      <th></th>\n",
       "      <th></th>\n",
       "      <th></th>\n",
       "      <th></th>\n",
       "      <th></th>\n",
       "      <th></th>\n",
       "    </tr>\n",
       "  </thead>\n",
       "  <tbody>\n",
       "    <tr>\n",
       "      <th>0</th>\n",
       "      <td>69</td>\n",
       "      <td>61</td>\n",
       "      <td>75</td>\n",
       "      <td>78</td>\n",
       "      <td>36</td>\n",
       "      <td>67</td>\n",
       "      <td>63</td>\n",
       "      <td>54</td>\n",
       "      <td>65</td>\n",
       "      <td>62</td>\n",
       "    </tr>\n",
       "    <tr>\n",
       "      <th>1</th>\n",
       "      <td>5</td>\n",
       "      <td>1</td>\n",
       "      <td>3</td>\n",
       "      <td>6</td>\n",
       "      <td>4</td>\n",
       "      <td>0</td>\n",
       "      <td>7</td>\n",
       "      <td>5</td>\n",
       "      <td>3</td>\n",
       "      <td>4</td>\n",
       "    </tr>\n",
       "  </tbody>\n",
       "</table>\n",
       "</div>"
      ],
      "text/plain": [
       "age_quartile  (9.999, 13.0]  (13.0, 16.0]  (16.0, 20.0]  (20.0, 23.0]  \\\n",
       "default                                                                 \n",
       "0                        69            61            75            78   \n",
       "1                         5             1             3             6   \n",
       "\n",
       "age_quartile  (23.0, 25.0]  (25.0, 29.0]  (29.0, 32.0]  (32.0, 42.6]  \\\n",
       "default                                                                \n",
       "0                       36            67            63            54   \n",
       "1                        4             0             7             5   \n",
       "\n",
       "age_quartile  (42.6, 66.0]  (66.0, 158.33]  \n",
       "default                                     \n",
       "0                       65              62  \n",
       "1                        3               4  "
      ]
     },
     "execution_count": 9,
     "metadata": {},
     "output_type": "execute_result"
    }
   ],
   "source": [
    "#take a look on the quantiles\n",
    "quantiles = list()\n",
    "for i in range(0,100,):\n",
    "    quantiles.append(df_train[\"age_num\"].quantile(i/100))\n",
    "\n",
    "age_th = df_train[\"age_num\"].quantile(0.99)\n",
    "\n",
    "#replace outliers with 99% quantile\n",
    "df_train.loc[df_train[\"age_num\"] > age_th,\"age_num\"] = age_th\n",
    "\n",
    "df_train.sort_values(by=\"age_num\",ascending=False).head(10)\n",
    "\n",
    "# For the test data\n",
    "quantiles = list()\n",
    "for i in range(0,100,):\n",
    "    quantiles.append(df_test[\"age_num\"].quantile(i/100))\n",
    "\n",
    "age_th = df_test[\"age_num\"].quantile(0.99)\n",
    "\n",
    "#replace outliers with 99% quantile\n",
    "df_test.loc[df_test[\"age_num\"] > age_th,\"age_num\"] = age_th\n",
    "\n",
    "df_train[\"age_quartile\"] = pd.qcut(df_train[\"age_num\"],10)\n",
    "pd.crosstab(df_train[\"default\"],df_train[\"age_quartile\"])"
   ]
  },
  {
   "cell_type": "markdown",
   "metadata": {},
   "source": [
    "### Profit Margin"
   ]
  },
  {
   "cell_type": "markdown",
   "metadata": {},
   "source": [
    "\\begin{equation*}\n",
    "Profit\\ Margin = \\frac{Gross\\ Profit}{Sales}\n",
    "\\end{equation*}\n"
   ]
  },
  {
   "cell_type": "code",
   "execution_count": 10,
   "metadata": {
    "ExecuteTime": {
     "end_time": "2021-01-11T08:42:12.658449Z",
     "start_time": "2021-01-11T08:42:12.638712Z"
    }
   },
   "outputs": [],
   "source": [
    "# replace NaN's by 0.5% quantil\n",
    "df_train['gross_profit'] = df_train['gross_profit'].replace(np.nan, np.quantile(df_train['gross_profit'].dropna(),.5))\n",
    "\n",
    "# calculate margin and winsorize outliers\n",
    "df_train['profit_margin'] = df_train['gross_profit']/df_train['sales']\n",
    "df_train['profit_margin'] = sci.stats.mstats.winsorize(df_train['profit_margin'], limits =[0.0, 0.025])\n",
    "\n",
    "# same procedure for test\n",
    "df_test['gross_profit'] = df_test['gross_profit'].replace(np.nan, np.quantile(df_test['gross_profit'].dropna(),.5))\n",
    "df_test['profit_margin'] = df_test['gross_profit']/df_test['sales']\n",
    "df_test['profit_margin'] = sci.stats.mstats.winsorize(df_test['profit_margin'], limits =[0.0, 0.025])"
   ]
  },
  {
   "cell_type": "markdown",
   "metadata": {},
   "source": [
    "### Equity Ratio "
   ]
  },
  {
   "cell_type": "markdown",
   "metadata": {},
   "source": [
    "\\begin{equation*}\n",
    "Equity\\ Ratio = \\frac{Total\\ Equity}{Total\\ Assets}\n",
    "\\end{equation*}\n"
   ]
  },
  {
   "cell_type": "code",
   "execution_count": 11,
   "metadata": {
    "ExecuteTime": {
     "end_time": "2021-01-11T08:42:15.372969Z",
     "start_time": "2021-01-11T08:42:15.359490Z"
    }
   },
   "outputs": [],
   "source": [
    "# data cleaning and ratio calculation\n",
    "np.where(df_train['total_equity'] > 1, df_train['total_equity'], 0)\n",
    "df_train.loc[df_train.total_equity.isnull(), 'total_equity'] = df_train['total_assets'] - df_train['total_liabilities']\n",
    "df_train['equity_ratio'] = df_train['total_equity']/df_train['total_assets']\n",
    "\n",
    "# same procedure for test\n",
    "np.where(df_test['total_equity'] > 1, df_test['total_equity'], 0)\n",
    "df_test.loc[df_test.total_equity.isnull(), 'total_equity'] = df_test['total_assets'] - df_test['total_liabilities']\n",
    "df_test['equity_ratio'] = df_test['total_equity']/df_test['total_assets']"
   ]
  },
  {
   "cell_type": "markdown",
   "metadata": {},
   "source": [
    "### Quick ratio"
   ]
  },
  {
   "cell_type": "code",
   "execution_count": 12,
   "metadata": {
    "ExecuteTime": {
     "end_time": "2021-01-11T08:42:03.040646Z",
     "start_time": "2021-01-11T08:42:03.016321Z"
    }
   },
   "outputs": [],
   "source": [
    "# replace NaNs for cash by monetary current assets\n",
    "df_train.loc[df_train['cash'].isnull(), 'cash'] = df_train['monetary_current_assets']\n",
    "\n",
    "# quick ratio\n",
    "df_train['quick_ratio'] = df_train['cash']/df_train['total_liabilities_st']\n",
    "df_train['quick_ratio'] = sci.stats.mstats.winsorize(df_train['quick_ratio'], limits =[0.01, 0.1])\n",
    "\n",
    "# same procedure for test\n",
    "df_test.loc[df_test['cash'].isnull(), 'cash'] = df_test['monetary_current_assets']\n",
    "df_test['quick_ratio'] = df_test['cash']/df_test['total_liabilities_st']\n",
    "df_test['quick_ratio'] = sci.stats.mstats.winsorize(df_test['quick_ratio'], limits =[0.01, 0.1])"
   ]
  },
  {
   "cell_type": "markdown",
   "metadata": {},
   "source": [
    "### Interest Coverage Ratio"
   ]
  },
  {
   "cell_type": "markdown",
   "metadata": {},
   "source": [
    "\\begin{equation*}\n",
    "Interest\\ Coverage\\ Ratio = \\frac{Operating\\ Income}{Interest\\ Expenses}\n",
    "\\end{equation*}"
   ]
  },
  {
   "cell_type": "code",
   "execution_count": 13,
   "metadata": {
    "ExecuteTime": {
     "end_time": "2021-01-11T08:42:10.221569Z",
     "start_time": "2021-01-11T08:42:10.199908Z"
    }
   },
   "outputs": [],
   "source": [
    "# replace NaNs for oth interst exp by balance sheet operations\n",
    "df_train.loc[df_train['fin_result'].isnull(), 'fin_result'] = df_train['total_result'] - df_train['earn_from_op']\n",
    "df_train.loc[df_train['oth_interest_exp'].isnull(), 'oth_interest_exp'] = df_train['oth_interest_inc'] - df_train['fin_result']\n",
    "df_train['oth_interest_exp'] = df_train['oth_interest_exp'].replace(np.nan, df_train['fin_result'])\n",
    "\n",
    "# data cleaning, ratio calculation and winsorizing of outliers\n",
    "df_train['icr_ratio'] = df_train['earn_from_op']/df_train['oth_interest_exp']\n",
    "df_train['icr_ratio'] = sci.stats.mstats.winsorize(df_train['icr_ratio'], limits =[0.05, 0.16])\n",
    "\n",
    "# same procedure for test\n",
    "df_test.loc[df_test['fin_result'].isnull(), 'fin_result'] = df_test['total_result'] - df_test['earn_from_op']\n",
    "df_test.loc[df_test['oth_interest_exp'].isnull(), 'oth_interest_exp'] = df_test['oth_interest_inc'] - df_test['fin_result']\n",
    "df_test['oth_interest_exp'] = df_test['oth_interest_exp'].replace(np.nan, df_test['fin_result'])\n",
    "df_test['icr_ratio'] = df_train['earn_from_op']/df_test['oth_interest_exp']\n",
    "df_test['icr_ratio'] = sci.stats.mstats.winsorize(df_test['icr_ratio'], limits =[0.05, 0.16])"
   ]
  },
  {
   "cell_type": "markdown",
   "metadata": {},
   "source": [
    "### Return on Assets"
   ]
  },
  {
   "cell_type": "markdown",
   "metadata": {},
   "source": [
    "\\begin{equation*}\n",
    "ROA = \\frac{Annual\\ Profit}{Total\\ Assets}\n",
    "\\end{equation*}\n"
   ]
  },
  {
   "cell_type": "code",
   "execution_count": 14,
   "metadata": {
    "ExecuteTime": {
     "end_time": "2021-01-11T08:42:19.258268Z",
     "start_time": "2021-01-11T08:42:19.248329Z"
    }
   },
   "outputs": [],
   "source": [
    "# ratio calculation and winsorizing of outliers\n",
    "df_train['roa'] = df_train['result_from_ord_bus']/df_train['total_assets']\n",
    "df_train['roa'] = sci.stats.mstats.winsorize(df_train['roa'], limits =[0.03, 0.05])\n",
    "\n",
    "# same procedure for test\n",
    "df_test['roa'] = df_test['result_from_ord_bus']/df_test['total_assets']\n",
    "df_test['roa'] = sci.stats.mstats.winsorize(df_test['roa'], limits =[0.03, 0.05])"
   ]
  },
  {
   "cell_type": "markdown",
   "metadata": {},
   "source": [
    "### Working Capital Ratio"
   ]
  },
  {
   "cell_type": "code",
   "execution_count": 15,
   "metadata": {
    "ExecuteTime": {
     "end_time": "2021-01-11T08:42:05.011467Z",
     "start_time": "2021-01-11T08:42:04.999820Z"
    }
   },
   "outputs": [],
   "source": [
    "# ratio calculation and winsorizing of outliers\n",
    "df_train['wc_ratio'] = df_train['current_assets']/df_train['total_liabilities_st']\n",
    "df_train['wc_ratio'] = sci.stats.mstats.winsorize(df_train['wc_ratio'], limits =[0, 0.1])\n",
    "\n",
    "# same procedure for test\n",
    "df_test['wc_ratio'] = df_test['current_assets']/df_test['total_liabilities_st']\n",
    "df_test['wc_ratio'] = sci.stats.mstats.winsorize(df_test['wc_ratio'], limits =[0, 0.01])"
   ]
  },
  {
   "cell_type": "code",
   "execution_count": 16,
   "metadata": {
    "ExecuteTime": {
     "end_time": "2021-01-11T08:42:17.721081Z",
     "start_time": "2021-01-11T08:42:17.696954Z"
    }
   },
   "outputs": [],
   "source": [
    "# # Dept-to-equity kick out\n",
    "# df_train['debt_to_equity'] = np.where(df_train['total_equity'] > 1, df_train['total_liabilities']/df_train['total_equity'], 0)\n",
    "# df_train['debt_to_equity'] = sci.stats.mstats.winsorize(df_train['debt_to_equity'], limits =[0.0, 0.02])\n",
    "\n",
    "# df_test['debt_to_equity'] = np.where(df_test['total_equity'] > 1, df_test['total_liabilities']/df_test['total_equity'], 0)"
   ]
  },
  {
   "cell_type": "code",
   "execution_count": 17,
   "metadata": {
    "ExecuteTime": {
     "end_time": "2021-01-11T08:42:07.089295Z",
     "start_time": "2021-01-11T08:42:07.073100Z"
    }
   },
   "outputs": [],
   "source": [
    "# # Ebit margin kick out\n",
    "# df_train['ebit_margin'] = df_train['earn_from_op']/df_train['sales']\n",
    "# df_train['ebit_margin'] = sci.stats.mstats.winsorize(df_train['ebit_margin'], limits =[0.02, 0.01])\n",
    "\n",
    "# df_test['ebit_margin'] = df_test['earn_from_op']/df_test['sales']\n",
    "# df_test['ebit_margin'] = sci.stats.mstats.winsorize(df_test['ebit_margin'], limits =[0.02, 0.01])"
   ]
  },
  {
   "cell_type": "code",
   "execution_count": 18,
   "metadata": {},
   "outputs": [],
   "source": [
    "# # neue ratio kick out\n",
    "# df_train['neu'] = df_train['earn_from_op']/df_train['result_from_ord_bus']\n",
    "# df_train['neu'] = sci.stats.mstats.winsorize(df_train['neu'], limits =[0.1, 0.1])\n",
    "# plt.boxplot(df_train['neu'])\n",
    "# plt.show()"
   ]
  },
  {
   "cell_type": "markdown",
   "metadata": {},
   "source": [
    "### Boxplots for Ratios"
   ]
  },
  {
   "cell_type": "code",
   "execution_count": 19,
   "metadata": {
    "ExecuteTime": {
     "end_time": "2021-01-11T08:42:22.898869Z",
     "start_time": "2021-01-11T08:42:21.122980Z"
    }
   },
   "outputs": [
    {
     "data": {
      "image/png": "[encoded data removed]",
      "text/plain": [
       "<Figure size 720x432 with 6 Axes>"
      ]
     },
     "metadata": {
      "needs_background": "light"
     },
     "output_type": "display_data"
    }
   ],
   "source": [
    "f, ax = plt.subplots(2, 3, figsize=(10, 6))\n",
    "\n",
    "ax[0,0].boxplot(df_train['profit_margin'])\n",
    "ax[0,0].set_title('Profit Margin')\n",
    "ax[0,1].boxplot(df_train['equity_ratio'])\n",
    "ax[0,1].set_title('Equity Ratio')\n",
    "ax[0,2].boxplot(df_train['quick_ratio'])\n",
    "ax[0,2].set_title('Quick Ratio')\n",
    "ax[1,0].boxplot(df_train['icr_ratio'])\n",
    "ax[1,0].set_title('Interest Coverage Ratio')\n",
    "ax[1,1].boxplot(df_train['roa'])\n",
    "ax[1,1].set_title('Return on Assets')\n",
    "ax[1,2].boxplot(df_train['wc_ratio'])\n",
    "ax[1,2].set_title('Working Capital Ratio')\n",
    "plt.show()"
   ]
  },
  {
   "cell_type": "markdown",
   "metadata": {},
   "source": [
    "## Univariate Analysis"
   ]
  },
  {
   "cell_type": "markdown",
   "metadata": {},
   "source": [
    "### Univariate Logit Regressions\n",
    "See the significance of every variable possible in the training set in an univariate setting and where NAs are dropped. We also ordered them according to their p values. Important to note here is the p value is not a KO-criteria for us. Also we do these regressions before data cleansing, which is another important thing to consider. The aim of this is only to see if their is some clear evidence for significant features in the data in the first place."
   ]
  },
  {
   "cell_type": "code",
   "execution_count": 20,
   "metadata": {
    "ExecuteTime": {
     "end_time": "2021-01-11T08:42:24.482867Z",
     "start_time": "2021-01-11T08:42:23.901321Z"
    },
    "tags": []
   },
   "outputs": [],
   "source": [
    "col_list = df_train.columns[2:]\n",
    "col_list\n",
    "dictionary_logit = dict()\n",
    "\n",
    "for i in range(0,len(col_list)):\n",
    "    try:\n",
    "        univ_var = pd.concat((df_train['default'],df_train[col_list[i]]),axis=1)\n",
    "        y = univ_var[\"default\"]\n",
    "        X = univ_var.iloc[:,1]\n",
    "        X = sm.add_constant(X)\n",
    "        model = sm.Logit(y,X,missing=\"drop\").fit(disp=False,maxiter=100)\n",
    "        #print(model.summary2()) #comment that out if you don't want to see the regression summary\n",
    "        pvalue = model.pvalues[1]\n",
    "        dictionary_logit[col_list[i]] = (pvalue,univ_var.iloc[:,1].isnull().sum())\n",
    "    except:\n",
    "        continue"
   ]
  },
  {
   "cell_type": "code",
   "execution_count": 21,
   "metadata": {
    "ExecuteTime": {
     "end_time": "2021-01-11T08:42:24.755444Z",
     "start_time": "2021-01-11T08:42:24.728495Z"
    }
   },
   "outputs": [
    {
     "data": {
      "text/html": [
       "<div>\n",
       "<style scoped>\n",
       "    .dataframe tbody tr th:only-of-type {\n",
       "        vertical-align: middle;\n",
       "    }\n",
       "\n",
       "    .dataframe tbody tr th {\n",
       "        vertical-align: top;\n",
       "    }\n",
       "\n",
       "    .dataframe thead th {\n",
       "        text-align: right;\n",
       "    }\n",
       "</style>\n",
       "<table border=\"1\" class=\"dataframe\">\n",
       "  <thead>\n",
       "    <tr style=\"text-align: right;\">\n",
       "      <th></th>\n",
       "      <th>P-Value</th>\n",
       "      <th>NAs</th>\n",
       "    </tr>\n",
       "  </thead>\n",
       "  <tbody>\n",
       "    <tr>\n",
       "      <th>equity_ratio</th>\n",
       "      <td>0.000102</td>\n",
       "      <td>0</td>\n",
       "    </tr>\n",
       "    <tr>\n",
       "      <th>quick_ratio</th>\n",
       "      <td>0.002836</td>\n",
       "      <td>0</td>\n",
       "    </tr>\n",
       "    <tr>\n",
       "      <th>icr_ratio</th>\n",
       "      <td>0.009120</td>\n",
       "      <td>0</td>\n",
       "    </tr>\n",
       "    <tr>\n",
       "      <th>wc_ratio</th>\n",
       "      <td>0.025687</td>\n",
       "      <td>0</td>\n",
       "    </tr>\n",
       "    <tr>\n",
       "      <th>cash</th>\n",
       "      <td>0.031590</td>\n",
       "      <td>0</td>\n",
       "    </tr>\n",
       "    <tr>\n",
       "      <th>year_inc</th>\n",
       "      <td>0.055778</td>\n",
       "      <td>0</td>\n",
       "    </tr>\n",
       "    <tr>\n",
       "      <th>total_equity</th>\n",
       "      <td>0.080663</td>\n",
       "      <td>0</td>\n",
       "    </tr>\n",
       "    <tr>\n",
       "      <th>roa</th>\n",
       "      <td>0.095320</td>\n",
       "      <td>0</td>\n",
       "    </tr>\n",
       "    <tr>\n",
       "      <th>gross_profit</th>\n",
       "      <td>0.157463</td>\n",
       "      <td>0</td>\n",
       "    </tr>\n",
       "    <tr>\n",
       "      <th>profit_margin</th>\n",
       "      <td>0.166417</td>\n",
       "      <td>0</td>\n",
       "    </tr>\n",
       "    <tr>\n",
       "      <th>cf_operating</th>\n",
       "      <td>0.242346</td>\n",
       "      <td>1</td>\n",
       "    </tr>\n",
       "    <tr>\n",
       "      <th>bank_liabilities_lt</th>\n",
       "      <td>0.245019</td>\n",
       "      <td>544</td>\n",
       "    </tr>\n",
       "    <tr>\n",
       "      <th>total_liabilities_lt</th>\n",
       "      <td>0.258998</td>\n",
       "      <td>0</td>\n",
       "    </tr>\n",
       "    <tr>\n",
       "      <th>zip_code</th>\n",
       "      <td>0.260180</td>\n",
       "      <td>0</td>\n",
       "    </tr>\n",
       "    <tr>\n",
       "      <th>cf_investment</th>\n",
       "      <td>0.327959</td>\n",
       "      <td>1</td>\n",
       "    </tr>\n",
       "    <tr>\n",
       "      <th>total_assets</th>\n",
       "      <td>0.366245</td>\n",
       "      <td>0</td>\n",
       "    </tr>\n",
       "    <tr>\n",
       "      <th>result_from_ord_bus</th>\n",
       "      <td>0.421172</td>\n",
       "      <td>0</td>\n",
       "    </tr>\n",
       "    <tr>\n",
       "      <th>total_result</th>\n",
       "      <td>0.437999</td>\n",
       "      <td>0</td>\n",
       "    </tr>\n",
       "    <tr>\n",
       "      <th>bank_liabilities_mt</th>\n",
       "      <td>0.439548</td>\n",
       "      <td>482</td>\n",
       "    </tr>\n",
       "    <tr>\n",
       "      <th>total_liabilities</th>\n",
       "      <td>0.454982</td>\n",
       "      <td>0</td>\n",
       "    </tr>\n",
       "    <tr>\n",
       "      <th>oth_interest_exp</th>\n",
       "      <td>0.467391</td>\n",
       "      <td>0</td>\n",
       "    </tr>\n",
       "    <tr>\n",
       "      <th>earn_from_op</th>\n",
       "      <td>0.486441</td>\n",
       "      <td>0</td>\n",
       "    </tr>\n",
       "    <tr>\n",
       "      <th>total_liabilities_mt</th>\n",
       "      <td>0.509070</td>\n",
       "      <td>0</td>\n",
       "    </tr>\n",
       "    <tr>\n",
       "      <th>sales</th>\n",
       "      <td>0.511471</td>\n",
       "      <td>0</td>\n",
       "    </tr>\n",
       "    <tr>\n",
       "      <th>gross_performance</th>\n",
       "      <td>0.580383</td>\n",
       "      <td>6</td>\n",
       "    </tr>\n",
       "    <tr>\n",
       "      <th>monetary_current_assets</th>\n",
       "      <td>0.594678</td>\n",
       "      <td>0</td>\n",
       "    </tr>\n",
       "    <tr>\n",
       "      <th>annual_profit</th>\n",
       "      <td>0.602697</td>\n",
       "      <td>0</td>\n",
       "    </tr>\n",
       "    <tr>\n",
       "      <th>oth_interest_inc</th>\n",
       "      <td>0.621381</td>\n",
       "      <td>126</td>\n",
       "    </tr>\n",
       "    <tr>\n",
       "      <th>total_liabilities_st</th>\n",
       "      <td>0.632565</td>\n",
       "      <td>0</td>\n",
       "    </tr>\n",
       "    <tr>\n",
       "      <th>current_assets</th>\n",
       "      <td>0.639518</td>\n",
       "      <td>0</td>\n",
       "    </tr>\n",
       "    <tr>\n",
       "      <th>bonds_payables_mt</th>\n",
       "      <td>0.699565</td>\n",
       "      <td>663</td>\n",
       "    </tr>\n",
       "    <tr>\n",
       "      <th>bank_liabilities_st</th>\n",
       "      <td>0.701179</td>\n",
       "      <td>351</td>\n",
       "    </tr>\n",
       "    <tr>\n",
       "      <th>age_num</th>\n",
       "      <td>0.721892</td>\n",
       "      <td>0</td>\n",
       "    </tr>\n",
       "    <tr>\n",
       "      <th>fin_result</th>\n",
       "      <td>0.734789</td>\n",
       "      <td>0</td>\n",
       "    </tr>\n",
       "    <tr>\n",
       "      <th>trade_payables_mt</th>\n",
       "      <td>0.768325</td>\n",
       "      <td>647</td>\n",
       "    </tr>\n",
       "    <tr>\n",
       "      <th>trade_receivables_st</th>\n",
       "      <td>0.780828</td>\n",
       "      <td>354</td>\n",
       "    </tr>\n",
       "    <tr>\n",
       "      <th>sector</th>\n",
       "      <td>0.840075</td>\n",
       "      <td>0</td>\n",
       "    </tr>\n",
       "    <tr>\n",
       "      <th>count_emp</th>\n",
       "      <td>0.903449</td>\n",
       "      <td>353</td>\n",
       "    </tr>\n",
       "    <tr>\n",
       "      <th>trade_payables_st</th>\n",
       "      <td>0.990767</td>\n",
       "      <td>142</td>\n",
       "    </tr>\n",
       "    <tr>\n",
       "      <th>cf_financing</th>\n",
       "      <td>0.999485</td>\n",
       "      <td>1</td>\n",
       "    </tr>\n",
       "  </tbody>\n",
       "</table>\n",
       "</div>"
      ],
      "text/plain": [
       "                          P-Value  NAs\n",
       "equity_ratio             0.000102    0\n",
       "quick_ratio              0.002836    0\n",
       "icr_ratio                0.009120    0\n",
       "wc_ratio                 0.025687    0\n",
       "cash                     0.031590    0\n",
       "year_inc                 0.055778    0\n",
       "total_equity             0.080663    0\n",
       "roa                      0.095320    0\n",
       "gross_profit             0.157463    0\n",
       "profit_margin            0.166417    0\n",
       "cf_operating             0.242346    1\n",
       "bank_liabilities_lt      0.245019  544\n",
       "total_liabilities_lt     0.258998    0\n",
       "zip_code                 0.260180    0\n",
       "cf_investment            0.327959    1\n",
       "total_assets             0.366245    0\n",
       "result_from_ord_bus      0.421172    0\n",
       "total_result             0.437999    0\n",
       "bank_liabilities_mt      0.439548  482\n",
       "total_liabilities        0.454982    0\n",
       "oth_interest_exp         0.467391    0\n",
       "earn_from_op             0.486441    0\n",
       "total_liabilities_mt     0.509070    0\n",
       "sales                    0.511471    0\n",
       "gross_performance        0.580383    6\n",
       "monetary_current_assets  0.594678    0\n",
       "annual_profit            0.602697    0\n",
       "oth_interest_inc         0.621381  126\n",
       "total_liabilities_st     0.632565    0\n",
       "current_assets           0.639518    0\n",
       "bonds_payables_mt        0.699565  663\n",
       "bank_liabilities_st      0.701179  351\n",
       "age_num                  0.721892    0\n",
       "fin_result               0.734789    0\n",
       "trade_payables_mt        0.768325  647\n",
       "trade_receivables_st     0.780828  354\n",
       "sector                   0.840075    0\n",
       "count_emp                0.903449  353\n",
       "trade_payables_st        0.990767  142\n",
       "cf_financing             0.999485    1"
      ]
     },
     "execution_count": 21,
     "metadata": {},
     "output_type": "execute_result"
    }
   ],
   "source": [
    "dictionary_logit = pd.DataFrame.from_dict(dictionary_logit,orient=\"index\",columns=['P-Value','NAs']).sort_values(by=\"P-Value\")\n",
    "dictionary_logit"
   ]
  },
  {
   "cell_type": "markdown",
   "metadata": {},
   "source": [
    "Speaking in an univariate context, what we can see here is that no variable shows a very strong significance in the univariate logistic regression with the default variable as dependent variable. Also some variables can be disregarded as their numerical value makes no sense (e.g.: year_inc).  Thus we can argue, that a focus on economic reasoning instead of p-values in the univariate context is a better way to go. "
   ]
  },
  {
   "cell_type": "markdown",
   "metadata": {},
   "source": [
    "### Mann-Whitney U Test\n",
    "Also we perform a Mann-Whitney U Test for all variables to see if there is a difference in those variables between default and non default firms."
   ]
  },
  {
   "cell_type": "code",
   "execution_count": 22,
   "metadata": {
    "ExecuteTime": {
     "end_time": "2021-01-11T08:42:27.454083Z",
     "start_time": "2021-01-11T08:42:27.191755Z"
    }
   },
   "outputs": [],
   "source": [
    "col_list\n",
    "\n",
    "dictionary_mannu = dict()\n",
    "\n",
    "for i in range(0,len(col_list)):\n",
    "    try: \n",
    "        group_default = df_train[df_train[\"default\"]==1][col_list[i]]\n",
    "        group_non_default = df_train[df_train[\"default\"]==0][col_list[i]]\n",
    "        test_stat, pvalue = sci.stats.mannwhitneyu(group_default,group_non_default)\n",
    "        dictionary_mannu[col_list[i]] = test_stat, pvalue, df_train[col_list[i]].isnull().sum()\n",
    "    except:\n",
    "        continue\n"
   ]
  },
  {
   "cell_type": "code",
   "execution_count": 23,
   "metadata": {
    "ExecuteTime": {
     "end_time": "2021-01-11T08:42:28.553020Z",
     "start_time": "2021-01-11T08:42:28.528770Z"
    }
   },
   "outputs": [
    {
     "data": {
      "text/html": [
       "<div>\n",
       "<style scoped>\n",
       "    .dataframe tbody tr th:only-of-type {\n",
       "        vertical-align: middle;\n",
       "    }\n",
       "\n",
       "    .dataframe tbody tr th {\n",
       "        vertical-align: top;\n",
       "    }\n",
       "\n",
       "    .dataframe thead th {\n",
       "        text-align: right;\n",
       "    }\n",
       "</style>\n",
       "<table border=\"1\" class=\"dataframe\">\n",
       "  <thead>\n",
       "    <tr style=\"text-align: right;\">\n",
       "      <th></th>\n",
       "      <th>Test statistic</th>\n",
       "      <th>P-Value</th>\n",
       "      <th>NAs</th>\n",
       "    </tr>\n",
       "  </thead>\n",
       "  <tbody>\n",
       "    <tr>\n",
       "      <th>quick_ratio</th>\n",
       "      <td>6586.0</td>\n",
       "      <td>0.000002</td>\n",
       "      <td>0</td>\n",
       "    </tr>\n",
       "    <tr>\n",
       "      <th>equity_ratio</th>\n",
       "      <td>6800.0</td>\n",
       "      <td>0.000004</td>\n",
       "      <td>0</td>\n",
       "    </tr>\n",
       "    <tr>\n",
       "      <th>total_equity</th>\n",
       "      <td>7142.0</td>\n",
       "      <td>0.000015</td>\n",
       "      <td>0</td>\n",
       "    </tr>\n",
       "    <tr>\n",
       "      <th>cash</th>\n",
       "      <td>7196.0</td>\n",
       "      <td>0.000018</td>\n",
       "      <td>0</td>\n",
       "    </tr>\n",
       "    <tr>\n",
       "      <th>trade_receivables_lt</th>\n",
       "      <td>8295.0</td>\n",
       "      <td>0.000735</td>\n",
       "      <td>644</td>\n",
       "    </tr>\n",
       "    <tr>\n",
       "      <th>trade_payables_lt</th>\n",
       "      <td>8433.0</td>\n",
       "      <td>0.001102</td>\n",
       "      <td>664</td>\n",
       "    </tr>\n",
       "    <tr>\n",
       "      <th>bonds_payables_st</th>\n",
       "      <td>8470.0</td>\n",
       "      <td>0.001226</td>\n",
       "      <td>668</td>\n",
       "    </tr>\n",
       "    <tr>\n",
       "      <th>bonds_payables_lt</th>\n",
       "      <td>8470.0</td>\n",
       "      <td>0.001226</td>\n",
       "      <td>668</td>\n",
       "    </tr>\n",
       "    <tr>\n",
       "      <th>monetary_current_assets</th>\n",
       "      <td>8691.0</td>\n",
       "      <td>0.002271</td>\n",
       "      <td>0</td>\n",
       "    </tr>\n",
       "    <tr>\n",
       "      <th>bonds_payables_mt</th>\n",
       "      <td>8853.0</td>\n",
       "      <td>0.003492</td>\n",
       "      <td>663</td>\n",
       "    </tr>\n",
       "    <tr>\n",
       "      <th>result_from_ord_bus</th>\n",
       "      <td>8910.0</td>\n",
       "      <td>0.004045</td>\n",
       "      <td>0</td>\n",
       "    </tr>\n",
       "    <tr>\n",
       "      <th>total_result</th>\n",
       "      <td>8979.0</td>\n",
       "      <td>0.004819</td>\n",
       "      <td>0</td>\n",
       "    </tr>\n",
       "    <tr>\n",
       "      <th>trade_payables_mt</th>\n",
       "      <td>9055.0</td>\n",
       "      <td>0.005822</td>\n",
       "      <td>647</td>\n",
       "    </tr>\n",
       "    <tr>\n",
       "      <th>cf_operating</th>\n",
       "      <td>9085.0</td>\n",
       "      <td>0.006266</td>\n",
       "      <td>1</td>\n",
       "    </tr>\n",
       "    <tr>\n",
       "      <th>sales</th>\n",
       "      <td>9176.0</td>\n",
       "      <td>0.007802</td>\n",
       "      <td>0</td>\n",
       "    </tr>\n",
       "    <tr>\n",
       "      <th>bank_liabilities_st</th>\n",
       "      <td>9216.0</td>\n",
       "      <td>0.008576</td>\n",
       "      <td>351</td>\n",
       "    </tr>\n",
       "    <tr>\n",
       "      <th>gross_performance</th>\n",
       "      <td>9239.0</td>\n",
       "      <td>0.009051</td>\n",
       "      <td>6</td>\n",
       "    </tr>\n",
       "    <tr>\n",
       "      <th>wc_ratio</th>\n",
       "      <td>9258.0</td>\n",
       "      <td>0.009431</td>\n",
       "      <td>0</td>\n",
       "    </tr>\n",
       "    <tr>\n",
       "      <th>gross_profit</th>\n",
       "      <td>9325.0</td>\n",
       "      <td>0.011038</td>\n",
       "      <td>0</td>\n",
       "    </tr>\n",
       "    <tr>\n",
       "      <th>total_assets</th>\n",
       "      <td>9396.0</td>\n",
       "      <td>0.012953</td>\n",
       "      <td>0</td>\n",
       "    </tr>\n",
       "    <tr>\n",
       "      <th>earn_from_op</th>\n",
       "      <td>9443.0</td>\n",
       "      <td>0.014374</td>\n",
       "      <td>0</td>\n",
       "    </tr>\n",
       "    <tr>\n",
       "      <th>icr_ratio</th>\n",
       "      <td>9451.5</td>\n",
       "      <td>0.014473</td>\n",
       "      <td>0</td>\n",
       "    </tr>\n",
       "    <tr>\n",
       "      <th>current_assets</th>\n",
       "      <td>9640.0</td>\n",
       "      <td>0.021879</td>\n",
       "      <td>0</td>\n",
       "    </tr>\n",
       "    <tr>\n",
       "      <th>cf_financing</th>\n",
       "      <td>9775.5</td>\n",
       "      <td>0.028772</td>\n",
       "      <td>1</td>\n",
       "    </tr>\n",
       "    <tr>\n",
       "      <th>count_emp</th>\n",
       "      <td>10013.5</td>\n",
       "      <td>0.045217</td>\n",
       "      <td>353</td>\n",
       "    </tr>\n",
       "    <tr>\n",
       "      <th>cf_investment</th>\n",
       "      <td>10135.0</td>\n",
       "      <td>0.056123</td>\n",
       "      <td>1</td>\n",
       "    </tr>\n",
       "    <tr>\n",
       "      <th>annual_profit</th>\n",
       "      <td>10207.0</td>\n",
       "      <td>0.063548</td>\n",
       "      <td>0</td>\n",
       "    </tr>\n",
       "    <tr>\n",
       "      <th>legal_form</th>\n",
       "      <td>10591.5</td>\n",
       "      <td>0.064372</td>\n",
       "      <td>0</td>\n",
       "    </tr>\n",
       "    <tr>\n",
       "      <th>profit_margin</th>\n",
       "      <td>10270.0</td>\n",
       "      <td>0.070632</td>\n",
       "      <td>0</td>\n",
       "    </tr>\n",
       "    <tr>\n",
       "      <th>bank_liabilities_lt</th>\n",
       "      <td>10291.0</td>\n",
       "      <td>0.073125</td>\n",
       "      <td>544</td>\n",
       "    </tr>\n",
       "    <tr>\n",
       "      <th>roa</th>\n",
       "      <td>10292.0</td>\n",
       "      <td>0.073229</td>\n",
       "      <td>0</td>\n",
       "    </tr>\n",
       "    <tr>\n",
       "      <th>total_liabilities</th>\n",
       "      <td>10309.0</td>\n",
       "      <td>0.075313</td>\n",
       "      <td>0</td>\n",
       "    </tr>\n",
       "    <tr>\n",
       "      <th>total_liabilities_mt</th>\n",
       "      <td>10540.5</td>\n",
       "      <td>0.095418</td>\n",
       "      <td>0</td>\n",
       "    </tr>\n",
       "    <tr>\n",
       "      <th>total_liabilities_st</th>\n",
       "      <td>10491.0</td>\n",
       "      <td>0.100310</td>\n",
       "      <td>0</td>\n",
       "    </tr>\n",
       "    <tr>\n",
       "      <th>total_liabilities_lt</th>\n",
       "      <td>10889.0</td>\n",
       "      <td>0.148917</td>\n",
       "      <td>0</td>\n",
       "    </tr>\n",
       "    <tr>\n",
       "      <th>zip_code</th>\n",
       "      <td>10800.5</td>\n",
       "      <td>0.155797</td>\n",
       "      <td>0</td>\n",
       "    </tr>\n",
       "    <tr>\n",
       "      <th>trade_receivables_st</th>\n",
       "      <td>10847.0</td>\n",
       "      <td>0.165617</td>\n",
       "      <td>354</td>\n",
       "    </tr>\n",
       "    <tr>\n",
       "      <th>fin_result</th>\n",
       "      <td>11131.0</td>\n",
       "      <td>0.233977</td>\n",
       "      <td>0</td>\n",
       "    </tr>\n",
       "    <tr>\n",
       "      <th>age_quartile</th>\n",
       "      <td>11192.5</td>\n",
       "      <td>0.249445</td>\n",
       "      <td>0</td>\n",
       "    </tr>\n",
       "    <tr>\n",
       "      <th>year_inc</th>\n",
       "      <td>11210.0</td>\n",
       "      <td>0.255359</td>\n",
       "      <td>0</td>\n",
       "    </tr>\n",
       "    <tr>\n",
       "      <th>age_num</th>\n",
       "      <td>11212.5</td>\n",
       "      <td>0.256055</td>\n",
       "      <td>0</td>\n",
       "    </tr>\n",
       "    <tr>\n",
       "      <th>type_pl</th>\n",
       "      <td>11856.0</td>\n",
       "      <td>0.273852</td>\n",
       "      <td>0</td>\n",
       "    </tr>\n",
       "    <tr>\n",
       "      <th>oth_interest_exp</th>\n",
       "      <td>11446.0</td>\n",
       "      <td>0.325188</td>\n",
       "      <td>0</td>\n",
       "    </tr>\n",
       "    <tr>\n",
       "      <th>bank_liabilities_mt</th>\n",
       "      <td>11543.0</td>\n",
       "      <td>0.355998</td>\n",
       "      <td>482</td>\n",
       "    </tr>\n",
       "    <tr>\n",
       "      <th>oth_interest_inc</th>\n",
       "      <td>11557.0</td>\n",
       "      <td>0.360524</td>\n",
       "      <td>126</td>\n",
       "    </tr>\n",
       "    <tr>\n",
       "      <th>trade_payables_st</th>\n",
       "      <td>11729.0</td>\n",
       "      <td>0.417546</td>\n",
       "      <td>142</td>\n",
       "    </tr>\n",
       "    <tr>\n",
       "      <th>sector</th>\n",
       "      <td>11774.5</td>\n",
       "      <td>0.432978</td>\n",
       "      <td>0</td>\n",
       "    </tr>\n",
       "  </tbody>\n",
       "</table>\n",
       "</div>"
      ],
      "text/plain": [
       "                         Test statistic   P-Value  NAs\n",
       "quick_ratio                      6586.0  0.000002    0\n",
       "equity_ratio                     6800.0  0.000004    0\n",
       "total_equity                     7142.0  0.000015    0\n",
       "cash                             7196.0  0.000018    0\n",
       "trade_receivables_lt             8295.0  0.000735  644\n",
       "trade_payables_lt                8433.0  0.001102  664\n",
       "bonds_payables_st                8470.0  0.001226  668\n",
       "bonds_payables_lt                8470.0  0.001226  668\n",
       "monetary_current_assets          8691.0  0.002271    0\n",
       "bonds_payables_mt                8853.0  0.003492  663\n",
       "result_from_ord_bus              8910.0  0.004045    0\n",
       "total_result                     8979.0  0.004819    0\n",
       "trade_payables_mt                9055.0  0.005822  647\n",
       "cf_operating                     9085.0  0.006266    1\n",
       "sales                            9176.0  0.007802    0\n",
       "bank_liabilities_st              9216.0  0.008576  351\n",
       "gross_performance                9239.0  0.009051    6\n",
       "wc_ratio                         9258.0  0.009431    0\n",
       "gross_profit                     9325.0  0.011038    0\n",
       "total_assets                     9396.0  0.012953    0\n",
       "earn_from_op                     9443.0  0.014374    0\n",
       "icr_ratio                        9451.5  0.014473    0\n",
       "current_assets                   9640.0  0.021879    0\n",
       "cf_financing                     9775.5  0.028772    1\n",
       "count_emp                       10013.5  0.045217  353\n",
       "cf_investment                   10135.0  0.056123    1\n",
       "annual_profit                   10207.0  0.063548    0\n",
       "legal_form                      10591.5  0.064372    0\n",
       "profit_margin                   10270.0  0.070632    0\n",
       "bank_liabilities_lt             10291.0  0.073125  544\n",
       "roa                             10292.0  0.073229    0\n",
       "total_liabilities               10309.0  0.075313    0\n",
       "total_liabilities_mt            10540.5  0.095418    0\n",
       "total_liabilities_st            10491.0  0.100310    0\n",
       "total_liabilities_lt            10889.0  0.148917    0\n",
       "zip_code                        10800.5  0.155797    0\n",
       "trade_receivables_st            10847.0  0.165617  354\n",
       "fin_result                      11131.0  0.233977    0\n",
       "age_quartile                    11192.5  0.249445    0\n",
       "year_inc                        11210.0  0.255359    0\n",
       "age_num                         11212.5  0.256055    0\n",
       "type_pl                         11856.0  0.273852    0\n",
       "oth_interest_exp                11446.0  0.325188    0\n",
       "bank_liabilities_mt             11543.0  0.355998  482\n",
       "oth_interest_inc                11557.0  0.360524  126\n",
       "trade_payables_st               11729.0  0.417546  142\n",
       "sector                          11774.5  0.432978    0"
      ]
     },
     "execution_count": 23,
     "metadata": {},
     "output_type": "execute_result"
    }
   ],
   "source": [
    "dictionary_mannu = pd.DataFrame.from_dict(dictionary_mannu,orient=\"index\",\n",
    "                       columns=['Test statistic','P-Value','NAs']).sort_values(by=\"P-Value\")\n",
    "dictionary_mannu"
   ]
  },
  {
   "cell_type": "code",
   "execution_count": 24,
   "metadata": {
    "ExecuteTime": {
     "end_time": "2021-01-11T08:42:28.585058Z",
     "start_time": "2021-01-11T08:42:28.558578Z"
    }
   },
   "outputs": [
    {
     "data": {
      "text/html": [
       "<div>\n",
       "<style scoped>\n",
       "    .dataframe tbody tr th:only-of-type {\n",
       "        vertical-align: middle;\n",
       "    }\n",
       "\n",
       "    .dataframe tbody tr th {\n",
       "        vertical-align: top;\n",
       "    }\n",
       "\n",
       "    .dataframe thead th {\n",
       "        text-align: right;\n",
       "    }\n",
       "</style>\n",
       "<table border=\"1\" class=\"dataframe\">\n",
       "  <thead>\n",
       "    <tr style=\"text-align: right;\">\n",
       "      <th></th>\n",
       "      <th>P-Value Univ. Logit</th>\n",
       "      <th>P-Value MannU</th>\n",
       "      <th>NAs</th>\n",
       "    </tr>\n",
       "  </thead>\n",
       "  <tbody>\n",
       "    <tr>\n",
       "      <th>equity_ratio</th>\n",
       "      <td>0.000102</td>\n",
       "      <td>0.000004</td>\n",
       "      <td>0</td>\n",
       "    </tr>\n",
       "    <tr>\n",
       "      <th>quick_ratio</th>\n",
       "      <td>0.002836</td>\n",
       "      <td>0.000002</td>\n",
       "      <td>0</td>\n",
       "    </tr>\n",
       "    <tr>\n",
       "      <th>icr_ratio</th>\n",
       "      <td>0.009120</td>\n",
       "      <td>0.014473</td>\n",
       "      <td>0</td>\n",
       "    </tr>\n",
       "    <tr>\n",
       "      <th>wc_ratio</th>\n",
       "      <td>0.025687</td>\n",
       "      <td>0.009431</td>\n",
       "      <td>0</td>\n",
       "    </tr>\n",
       "    <tr>\n",
       "      <th>cash</th>\n",
       "      <td>0.031590</td>\n",
       "      <td>0.000018</td>\n",
       "      <td>0</td>\n",
       "    </tr>\n",
       "    <tr>\n",
       "      <th>year_inc</th>\n",
       "      <td>0.055778</td>\n",
       "      <td>0.255359</td>\n",
       "      <td>0</td>\n",
       "    </tr>\n",
       "    <tr>\n",
       "      <th>total_equity</th>\n",
       "      <td>0.080663</td>\n",
       "      <td>0.000015</td>\n",
       "      <td>0</td>\n",
       "    </tr>\n",
       "    <tr>\n",
       "      <th>roa</th>\n",
       "      <td>0.095320</td>\n",
       "      <td>0.073229</td>\n",
       "      <td>0</td>\n",
       "    </tr>\n",
       "    <tr>\n",
       "      <th>gross_profit</th>\n",
       "      <td>0.157463</td>\n",
       "      <td>0.011038</td>\n",
       "      <td>0</td>\n",
       "    </tr>\n",
       "    <tr>\n",
       "      <th>profit_margin</th>\n",
       "      <td>0.166417</td>\n",
       "      <td>0.070632</td>\n",
       "      <td>0</td>\n",
       "    </tr>\n",
       "    <tr>\n",
       "      <th>cf_operating</th>\n",
       "      <td>0.242346</td>\n",
       "      <td>0.006266</td>\n",
       "      <td>1</td>\n",
       "    </tr>\n",
       "    <tr>\n",
       "      <th>bank_liabilities_lt</th>\n",
       "      <td>0.245019</td>\n",
       "      <td>0.073125</td>\n",
       "      <td>544</td>\n",
       "    </tr>\n",
       "    <tr>\n",
       "      <th>total_liabilities_lt</th>\n",
       "      <td>0.258998</td>\n",
       "      <td>0.148917</td>\n",
       "      <td>0</td>\n",
       "    </tr>\n",
       "    <tr>\n",
       "      <th>zip_code</th>\n",
       "      <td>0.260180</td>\n",
       "      <td>0.155797</td>\n",
       "      <td>0</td>\n",
       "    </tr>\n",
       "    <tr>\n",
       "      <th>cf_investment</th>\n",
       "      <td>0.327959</td>\n",
       "      <td>0.056123</td>\n",
       "      <td>1</td>\n",
       "    </tr>\n",
       "    <tr>\n",
       "      <th>total_assets</th>\n",
       "      <td>0.366245</td>\n",
       "      <td>0.012953</td>\n",
       "      <td>0</td>\n",
       "    </tr>\n",
       "    <tr>\n",
       "      <th>result_from_ord_bus</th>\n",
       "      <td>0.421172</td>\n",
       "      <td>0.004045</td>\n",
       "      <td>0</td>\n",
       "    </tr>\n",
       "    <tr>\n",
       "      <th>total_result</th>\n",
       "      <td>0.437999</td>\n",
       "      <td>0.004819</td>\n",
       "      <td>0</td>\n",
       "    </tr>\n",
       "    <tr>\n",
       "      <th>bank_liabilities_mt</th>\n",
       "      <td>0.439548</td>\n",
       "      <td>0.355998</td>\n",
       "      <td>482</td>\n",
       "    </tr>\n",
       "    <tr>\n",
       "      <th>total_liabilities</th>\n",
       "      <td>0.454982</td>\n",
       "      <td>0.075313</td>\n",
       "      <td>0</td>\n",
       "    </tr>\n",
       "    <tr>\n",
       "      <th>oth_interest_exp</th>\n",
       "      <td>0.467391</td>\n",
       "      <td>0.325188</td>\n",
       "      <td>0</td>\n",
       "    </tr>\n",
       "    <tr>\n",
       "      <th>earn_from_op</th>\n",
       "      <td>0.486441</td>\n",
       "      <td>0.014374</td>\n",
       "      <td>0</td>\n",
       "    </tr>\n",
       "    <tr>\n",
       "      <th>total_liabilities_mt</th>\n",
       "      <td>0.509070</td>\n",
       "      <td>0.095418</td>\n",
       "      <td>0</td>\n",
       "    </tr>\n",
       "    <tr>\n",
       "      <th>sales</th>\n",
       "      <td>0.511471</td>\n",
       "      <td>0.007802</td>\n",
       "      <td>0</td>\n",
       "    </tr>\n",
       "    <tr>\n",
       "      <th>gross_performance</th>\n",
       "      <td>0.580383</td>\n",
       "      <td>0.009051</td>\n",
       "      <td>6</td>\n",
       "    </tr>\n",
       "    <tr>\n",
       "      <th>monetary_current_assets</th>\n",
       "      <td>0.594678</td>\n",
       "      <td>0.002271</td>\n",
       "      <td>0</td>\n",
       "    </tr>\n",
       "    <tr>\n",
       "      <th>annual_profit</th>\n",
       "      <td>0.602697</td>\n",
       "      <td>0.063548</td>\n",
       "      <td>0</td>\n",
       "    </tr>\n",
       "    <tr>\n",
       "      <th>oth_interest_inc</th>\n",
       "      <td>0.621381</td>\n",
       "      <td>0.360524</td>\n",
       "      <td>126</td>\n",
       "    </tr>\n",
       "    <tr>\n",
       "      <th>total_liabilities_st</th>\n",
       "      <td>0.632565</td>\n",
       "      <td>0.100310</td>\n",
       "      <td>0</td>\n",
       "    </tr>\n",
       "    <tr>\n",
       "      <th>current_assets</th>\n",
       "      <td>0.639518</td>\n",
       "      <td>0.021879</td>\n",
       "      <td>0</td>\n",
       "    </tr>\n",
       "    <tr>\n",
       "      <th>bonds_payables_mt</th>\n",
       "      <td>0.699565</td>\n",
       "      <td>0.003492</td>\n",
       "      <td>663</td>\n",
       "    </tr>\n",
       "    <tr>\n",
       "      <th>bank_liabilities_st</th>\n",
       "      <td>0.701179</td>\n",
       "      <td>0.008576</td>\n",
       "      <td>351</td>\n",
       "    </tr>\n",
       "    <tr>\n",
       "      <th>age_num</th>\n",
       "      <td>0.721892</td>\n",
       "      <td>0.256055</td>\n",
       "      <td>0</td>\n",
       "    </tr>\n",
       "    <tr>\n",
       "      <th>fin_result</th>\n",
       "      <td>0.734789</td>\n",
       "      <td>0.233977</td>\n",
       "      <td>0</td>\n",
       "    </tr>\n",
       "    <tr>\n",
       "      <th>trade_payables_mt</th>\n",
       "      <td>0.768325</td>\n",
       "      <td>0.005822</td>\n",
       "      <td>647</td>\n",
       "    </tr>\n",
       "    <tr>\n",
       "      <th>trade_receivables_st</th>\n",
       "      <td>0.780828</td>\n",
       "      <td>0.165617</td>\n",
       "      <td>354</td>\n",
       "    </tr>\n",
       "    <tr>\n",
       "      <th>sector</th>\n",
       "      <td>0.840075</td>\n",
       "      <td>0.432978</td>\n",
       "      <td>0</td>\n",
       "    </tr>\n",
       "    <tr>\n",
       "      <th>count_emp</th>\n",
       "      <td>0.903449</td>\n",
       "      <td>0.045217</td>\n",
       "      <td>353</td>\n",
       "    </tr>\n",
       "    <tr>\n",
       "      <th>trade_payables_st</th>\n",
       "      <td>0.990767</td>\n",
       "      <td>0.417546</td>\n",
       "      <td>142</td>\n",
       "    </tr>\n",
       "    <tr>\n",
       "      <th>cf_financing</th>\n",
       "      <td>0.999485</td>\n",
       "      <td>0.028772</td>\n",
       "      <td>1</td>\n",
       "    </tr>\n",
       "    <tr>\n",
       "      <th>trade_receivables_lt</th>\n",
       "      <td>NaN</td>\n",
       "      <td>0.000735</td>\n",
       "      <td>644</td>\n",
       "    </tr>\n",
       "    <tr>\n",
       "      <th>trade_payables_lt</th>\n",
       "      <td>NaN</td>\n",
       "      <td>0.001102</td>\n",
       "      <td>664</td>\n",
       "    </tr>\n",
       "    <tr>\n",
       "      <th>bonds_payables_st</th>\n",
       "      <td>NaN</td>\n",
       "      <td>0.001226</td>\n",
       "      <td>668</td>\n",
       "    </tr>\n",
       "    <tr>\n",
       "      <th>bonds_payables_lt</th>\n",
       "      <td>NaN</td>\n",
       "      <td>0.001226</td>\n",
       "      <td>668</td>\n",
       "    </tr>\n",
       "    <tr>\n",
       "      <th>legal_form</th>\n",
       "      <td>NaN</td>\n",
       "      <td>0.064372</td>\n",
       "      <td>0</td>\n",
       "    </tr>\n",
       "    <tr>\n",
       "      <th>age_quartile</th>\n",
       "      <td>NaN</td>\n",
       "      <td>0.249445</td>\n",
       "      <td>0</td>\n",
       "    </tr>\n",
       "    <tr>\n",
       "      <th>type_pl</th>\n",
       "      <td>NaN</td>\n",
       "      <td>0.273852</td>\n",
       "      <td>0</td>\n",
       "    </tr>\n",
       "  </tbody>\n",
       "</table>\n",
       "</div>"
      ],
      "text/plain": [
       "                         P-Value Univ. Logit  P-Value MannU  NAs\n",
       "equity_ratio                        0.000102       0.000004    0\n",
       "quick_ratio                         0.002836       0.000002    0\n",
       "icr_ratio                           0.009120       0.014473    0\n",
       "wc_ratio                            0.025687       0.009431    0\n",
       "cash                                0.031590       0.000018    0\n",
       "year_inc                            0.055778       0.255359    0\n",
       "total_equity                        0.080663       0.000015    0\n",
       "roa                                 0.095320       0.073229    0\n",
       "gross_profit                        0.157463       0.011038    0\n",
       "profit_margin                       0.166417       0.070632    0\n",
       "cf_operating                        0.242346       0.006266    1\n",
       "bank_liabilities_lt                 0.245019       0.073125  544\n",
       "total_liabilities_lt                0.258998       0.148917    0\n",
       "zip_code                            0.260180       0.155797    0\n",
       "cf_investment                       0.327959       0.056123    1\n",
       "total_assets                        0.366245       0.012953    0\n",
       "result_from_ord_bus                 0.421172       0.004045    0\n",
       "total_result                        0.437999       0.004819    0\n",
       "bank_liabilities_mt                 0.439548       0.355998  482\n",
       "total_liabilities                   0.454982       0.075313    0\n",
       "oth_interest_exp                    0.467391       0.325188    0\n",
       "earn_from_op                        0.486441       0.014374    0\n",
       "total_liabilities_mt                0.509070       0.095418    0\n",
       "sales                               0.511471       0.007802    0\n",
       "gross_performance                   0.580383       0.009051    6\n",
       "monetary_current_assets             0.594678       0.002271    0\n",
       "annual_profit                       0.602697       0.063548    0\n",
       "oth_interest_inc                    0.621381       0.360524  126\n",
       "total_liabilities_st                0.632565       0.100310    0\n",
       "current_assets                      0.639518       0.021879    0\n",
       "bonds_payables_mt                   0.699565       0.003492  663\n",
       "bank_liabilities_st                 0.701179       0.008576  351\n",
       "age_num                             0.721892       0.256055    0\n",
       "fin_result                          0.734789       0.233977    0\n",
       "trade_payables_mt                   0.768325       0.005822  647\n",
       "trade_receivables_st                0.780828       0.165617  354\n",
       "sector                              0.840075       0.432978    0\n",
       "count_emp                           0.903449       0.045217  353\n",
       "trade_payables_st                   0.990767       0.417546  142\n",
       "cf_financing                        0.999485       0.028772    1\n",
       "trade_receivables_lt                     NaN       0.000735  644\n",
       "trade_payables_lt                        NaN       0.001102  664\n",
       "bonds_payables_st                        NaN       0.001226  668\n",
       "bonds_payables_lt                        NaN       0.001226  668\n",
       "legal_form                               NaN       0.064372    0\n",
       "age_quartile                             NaN       0.249445    0\n",
       "type_pl                                  NaN       0.273852    0"
      ]
     },
     "execution_count": 24,
     "metadata": {},
     "output_type": "execute_result"
    }
   ],
   "source": [
    "#merge both results together\n",
    "summary = pd.concat((dictionary_logit.iloc[:,0],dictionary_mannu.iloc[:,1:]),axis=1,)\n",
    "summary.columns = [\"P-Value Univ. Logit\",\"P-Value MannU\",\"NAs\"]\n",
    "summary"
   ]
  },
  {
   "cell_type": "markdown",
   "metadata": {},
   "source": [
    "### Categorical Variables"
   ]
  },
  {
   "cell_type": "code",
   "execution_count": 25,
   "metadata": {
    "ExecuteTime": {
     "end_time": "2021-01-11T08:42:30.480019Z",
     "start_time": "2021-01-11T08:42:30.315519Z"
    }
   },
   "outputs": [
    {
     "name": "stdout",
     "output_type": "stream",
     "text": [
      "====================================================\n",
      "Variable:  legal_form\n",
      "---------------------------------------------------\n",
      "                              0      1  N_False  N_True    N  N_Perc\n",
      "legal_form                                                          \n",
      "Verein                   100.00   0.00        1       0    1    0.15\n",
      "Sonst. Gewerbetreibende   88.24  11.76       15       2   17    2.54\n",
      "OHG                      100.00   0.00        4       0    4    0.60\n",
      "KG                        80.00  20.00        4       1    5    0.75\n",
      "GmbH & Co. KG             91.67   8.33       88       8   96   14.37\n",
      "GmbH                      95.04   4.96      460      24  484   72.46\n",
      "Genossenschaft           100.00   0.00       15       0   15    2.25\n",
      "Freiberufler              80.00  20.00        4       1    5    0.75\n",
      "Einzelfirma               88.89  11.11        8       1    9    1.35\n",
      "BGB-Gesellschaft         100.00   0.00        4       0    4    0.60\n",
      "AG                        96.43   3.57       27       1   28    4.19\n",
      "\n",
      "====================================================\n",
      "Variable:  type_pl\n",
      "---------------------------------------------------\n",
      "              0     1  N_False  N_True    N  N_Perc\n",
      "type_pl                                            \n",
      "UKV      100.00  0.00        6       0    6     0.9\n",
      "GKV       94.26  5.74      624      38  662    99.1\n",
      "\n"
     ]
    }
   ],
   "source": [
    "catvar = [i for i in list(df_train.columns)[1:] if df_train[i].dtype=='O']\n",
    "\n",
    "for i in catvar:\n",
    "    tmp1 = pd.crosstab(df_train['default'], df_train[i]).apply(lambda x: np.round(x/x.sum() * 100,2)).T.sort_values(by = i ,ascending=False)\n",
    "    tmp2 = pd.crosstab(df_train['default'], df_train[i]).T.rename(columns={False: 'N_False', True: 'N_True'})\n",
    "    tmp3 = pd.DataFrame(tmp2.apply(sum, axis=1), columns=['N'])\n",
    "    tmp4 = tmp3.apply(lambda x: np.round(x/x.sum() * 100,2)).rename(columns={'N': 'N_Perc'})\n",
    "    tmp = tmp1.join(tmp2).join(tmp3).join(tmp4)\n",
    "    print('====================================================')\n",
    "    print('Variable: ',i)\n",
    "    print('---------------------------------------------------')\n",
    "    print(tmp)\n",
    "    print()\n",
    "    del tmp1, tmp2, tmp3, tmp4, tmp"
   ]
  },
  {
   "cell_type": "markdown",
   "metadata": {},
   "source": [
    "# Our Variables of interest\n",
    "In this section we want to focus on our variables of interest, which are mainly choosen because of economic reasoning. These are:\n",
    "- Profit Margin\n",
    "- Equity Ratio\n",
    "- Qick Ratio\n",
    "- Interest Coverage Ratio\n",
    "- Return on Assets\n",
    "(- Working Capital Ratio)"
   ]
  },
  {
   "cell_type": "markdown",
   "metadata": {},
   "source": [
    "## Results of both univariate Tests\n",
    "\n",
    "As already stated before, economic reasoning is our main argument to choose a variable for our regression. Nevertheless it is important to see the results of the univariate tests in the section before."
   ]
  },
  {
   "cell_type": "code",
   "execution_count": 26,
   "metadata": {
    "ExecuteTime": {
     "end_time": "2021-01-11T08:42:32.103820Z",
     "start_time": "2021-01-11T08:42:32.071204Z"
    }
   },
   "outputs": [
    {
     "data": {
      "text/html": [
       "<div>\n",
       "<style scoped>\n",
       "    .dataframe tbody tr th:only-of-type {\n",
       "        vertical-align: middle;\n",
       "    }\n",
       "\n",
       "    .dataframe tbody tr th {\n",
       "        vertical-align: top;\n",
       "    }\n",
       "\n",
       "    .dataframe thead th {\n",
       "        text-align: right;\n",
       "    }\n",
       "</style>\n",
       "<table border=\"1\" class=\"dataframe\">\n",
       "  <thead>\n",
       "    <tr style=\"text-align: right;\">\n",
       "      <th></th>\n",
       "      <th>P-Value Univ. Logit</th>\n",
       "      <th>P-Value MannU</th>\n",
       "      <th>NAs</th>\n",
       "    </tr>\n",
       "  </thead>\n",
       "  <tbody>\n",
       "    <tr>\n",
       "      <th>profit_margin</th>\n",
       "      <td>0.166417</td>\n",
       "      <td>0.070632</td>\n",
       "      <td>0</td>\n",
       "    </tr>\n",
       "    <tr>\n",
       "      <th>equity_ratio</th>\n",
       "      <td>0.000102</td>\n",
       "      <td>0.000004</td>\n",
       "      <td>0</td>\n",
       "    </tr>\n",
       "    <tr>\n",
       "      <th>quick_ratio</th>\n",
       "      <td>0.002836</td>\n",
       "      <td>0.000002</td>\n",
       "      <td>0</td>\n",
       "    </tr>\n",
       "    <tr>\n",
       "      <th>icr_ratio</th>\n",
       "      <td>0.009120</td>\n",
       "      <td>0.014473</td>\n",
       "      <td>0</td>\n",
       "    </tr>\n",
       "    <tr>\n",
       "      <th>roa</th>\n",
       "      <td>0.095320</td>\n",
       "      <td>0.073229</td>\n",
       "      <td>0</td>\n",
       "    </tr>\n",
       "    <tr>\n",
       "      <th>wc_ratio</th>\n",
       "      <td>0.025687</td>\n",
       "      <td>0.009431</td>\n",
       "      <td>0</td>\n",
       "    </tr>\n",
       "  </tbody>\n",
       "</table>\n",
       "</div>"
      ],
      "text/plain": [
       "               P-Value Univ. Logit  P-Value MannU  NAs\n",
       "profit_margin             0.166417       0.070632    0\n",
       "equity_ratio              0.000102       0.000004    0\n",
       "quick_ratio               0.002836       0.000002    0\n",
       "icr_ratio                 0.009120       0.014473    0\n",
       "roa                       0.095320       0.073229    0\n",
       "wc_ratio                  0.025687       0.009431    0"
      ]
     },
     "execution_count": 26,
     "metadata": {},
     "output_type": "execute_result"
    }
   ],
   "source": [
    "col_list = ['profit_margin', 'equity_ratio', 'quick_ratio', 'icr_ratio', 'roa', 'wc_ratio']\n",
    "summary.loc[col_list,:]"
   ]
  },
  {
   "cell_type": "markdown",
   "metadata": {},
   "source": [
    "## Visualize differences in our variables of interest between default and non default \n",
    "\n",
    "Here we just want to visualize the difference in our variables of interest between default and non default firms in our training dataset."
   ]
  },
  {
   "cell_type": "code",
   "execution_count": 27,
   "metadata": {
    "ExecuteTime": {
     "end_time": "2021-01-11T08:42:33.698952Z",
     "start_time": "2021-01-11T08:42:33.665059Z"
    }
   },
   "outputs": [
    {
     "data": {
      "text/html": [
       "<div>\n",
       "<style scoped>\n",
       "    .dataframe tbody tr th:only-of-type {\n",
       "        vertical-align: middle;\n",
       "    }\n",
       "\n",
       "    .dataframe tbody tr th {\n",
       "        vertical-align: top;\n",
       "    }\n",
       "\n",
       "    .dataframe thead th {\n",
       "        text-align: right;\n",
       "    }\n",
       "</style>\n",
       "<table border=\"1\" class=\"dataframe\">\n",
       "  <thead>\n",
       "    <tr style=\"text-align: right;\">\n",
       "      <th></th>\n",
       "      <th>default</th>\n",
       "      <th>profit_margin</th>\n",
       "      <th>equity_ratio</th>\n",
       "      <th>quick_ratio</th>\n",
       "      <th>icr_ratio</th>\n",
       "      <th>roa</th>\n",
       "      <th>wc_ratio</th>\n",
       "    </tr>\n",
       "  </thead>\n",
       "  <tbody>\n",
       "    <tr>\n",
       "      <th>0</th>\n",
       "      <td>0</td>\n",
       "      <td>0.361114</td>\n",
       "      <td>7.385670e-01</td>\n",
       "      <td>1.386506</td>\n",
       "      <td>15.436676</td>\n",
       "      <td>0.180537</td>\n",
       "      <td>3.710767</td>\n",
       "    </tr>\n",
       "    <tr>\n",
       "      <th>1</th>\n",
       "      <td>0</td>\n",
       "      <td>1.104725</td>\n",
       "      <td>3.896983e-01</td>\n",
       "      <td>0.131683</td>\n",
       "      <td>8.723286</td>\n",
       "      <td>0.095967</td>\n",
       "      <td>0.663710</td>\n",
       "    </tr>\n",
       "    <tr>\n",
       "      <th>2</th>\n",
       "      <td>0</td>\n",
       "      <td>2.012151</td>\n",
       "      <td>9.370190e-04</td>\n",
       "      <td>1.083222</td>\n",
       "      <td>62.850328</td>\n",
       "      <td>0.001684</td>\n",
       "      <td>3.328108</td>\n",
       "    </tr>\n",
       "    <tr>\n",
       "      <th>3</th>\n",
       "      <td>0</td>\n",
       "      <td>2.012151</td>\n",
       "      <td>5.925318e-01</td>\n",
       "      <td>1.386506</td>\n",
       "      <td>62.850328</td>\n",
       "      <td>0.030412</td>\n",
       "      <td>3.193566</td>\n",
       "    </tr>\n",
       "    <tr>\n",
       "      <th>4</th>\n",
       "      <td>0</td>\n",
       "      <td>1.135876</td>\n",
       "      <td>4.174963e-01</td>\n",
       "      <td>0.014493</td>\n",
       "      <td>5.077795</td>\n",
       "      <td>0.040158</td>\n",
       "      <td>0.102055</td>\n",
       "    </tr>\n",
       "    <tr>\n",
       "      <th>...</th>\n",
       "      <td>...</td>\n",
       "      <td>...</td>\n",
       "      <td>...</td>\n",
       "      <td>...</td>\n",
       "      <td>...</td>\n",
       "      <td>...</td>\n",
       "      <td>...</td>\n",
       "    </tr>\n",
       "    <tr>\n",
       "      <th>664</th>\n",
       "      <td>0</td>\n",
       "      <td>0.506472</td>\n",
       "      <td>1.823358e-01</td>\n",
       "      <td>0.003054</td>\n",
       "      <td>0.939698</td>\n",
       "      <td>-0.001518</td>\n",
       "      <td>0.835583</td>\n",
       "    </tr>\n",
       "    <tr>\n",
       "      <th>665</th>\n",
       "      <td>0</td>\n",
       "      <td>0.446851</td>\n",
       "      <td>3.418227e-01</td>\n",
       "      <td>0.276975</td>\n",
       "      <td>57.003692</td>\n",
       "      <td>0.173649</td>\n",
       "      <td>1.213142</td>\n",
       "    </tr>\n",
       "    <tr>\n",
       "      <th>666</th>\n",
       "      <td>0</td>\n",
       "      <td>1.000000</td>\n",
       "      <td>-3.086604e-17</td>\n",
       "      <td>0.003809</td>\n",
       "      <td>1.613677</td>\n",
       "      <td>0.013497</td>\n",
       "      <td>0.041927</td>\n",
       "    </tr>\n",
       "    <tr>\n",
       "      <th>667</th>\n",
       "      <td>0</td>\n",
       "      <td>1.049012</td>\n",
       "      <td>-1.273479e-16</td>\n",
       "      <td>0.049301</td>\n",
       "      <td>3.869858</td>\n",
       "      <td>0.063753</td>\n",
       "      <td>0.615002</td>\n",
       "    </tr>\n",
       "    <tr>\n",
       "      <th>668</th>\n",
       "      <td>0</td>\n",
       "      <td>0.258573</td>\n",
       "      <td>4.072948e-02</td>\n",
       "      <td>0.374316</td>\n",
       "      <td>17.665367</td>\n",
       "      <td>0.191823</td>\n",
       "      <td>1.006126</td>\n",
       "    </tr>\n",
       "  </tbody>\n",
       "</table>\n",
       "<p>668 rows × 7 columns</p>\n",
       "</div>"
      ],
      "text/plain": [
       "     default  profit_margin  equity_ratio  quick_ratio  icr_ratio       roa  \\\n",
       "0          0       0.361114  7.385670e-01     1.386506  15.436676  0.180537   \n",
       "1          0       1.104725  3.896983e-01     0.131683   8.723286  0.095967   \n",
       "2          0       2.012151  9.370190e-04     1.083222  62.850328  0.001684   \n",
       "3          0       2.012151  5.925318e-01     1.386506  62.850328  0.030412   \n",
       "4          0       1.135876  4.174963e-01     0.014493   5.077795  0.040158   \n",
       "..       ...            ...           ...          ...        ...       ...   \n",
       "664        0       0.506472  1.823358e-01     0.003054   0.939698 -0.001518   \n",
       "665        0       0.446851  3.418227e-01     0.276975  57.003692  0.173649   \n",
       "666        0       1.000000 -3.086604e-17     0.003809   1.613677  0.013497   \n",
       "667        0       1.049012 -1.273479e-16     0.049301   3.869858  0.063753   \n",
       "668        0       0.258573  4.072948e-02     0.374316  17.665367  0.191823   \n",
       "\n",
       "     wc_ratio  \n",
       "0    3.710767  \n",
       "1    0.663710  \n",
       "2    3.328108  \n",
       "3    3.193566  \n",
       "4    0.102055  \n",
       "..        ...  \n",
       "664  0.835583  \n",
       "665  1.213142  \n",
       "666  0.041927  \n",
       "667  0.615002  \n",
       "668  1.006126  \n",
       "\n",
       "[668 rows x 7 columns]"
      ]
     },
     "execution_count": 27,
     "metadata": {},
     "output_type": "execute_result"
    }
   ],
   "source": [
    "col_list = ['default', 'profit_margin', 'equity_ratio', 'quick_ratio', 'icr_ratio', 'roa', 'wc_ratio']\n",
    "df_train[col_list]"
   ]
  },
  {
   "cell_type": "markdown",
   "metadata": {},
   "source": [
    "### Age"
   ]
  },
  {
   "cell_type": "code",
   "execution_count": null,
   "metadata": {
    "ExecuteTime": {
     "end_time": "2021-01-11T08:42:36.804787Z",
     "start_time": "2021-01-11T08:42:34.865631Z"
    }
   },
   "outputs": [],
   "source": [
    "sns.boxplot(y=\"age_num\",x=\"default\",data=df_train);\n",
    "plt.figure()\n",
    "sns.boxplot(y=np.log(df_train[\"age_num\"]),x=\"default\",\n",
    "            data=df_train).set_title(\"With log transformation\");\n",
    "plt.figure()\n",
    "sns.displot(df_train,x=\"age_num\",hue=\"default\",stat=\"density\",common_norm=False);"
   ]
  },
  {
   "cell_type": "markdown",
   "metadata": {},
   "source": [
    "### Cash"
   ]
  },
  {
   "cell_type": "code",
   "execution_count": null,
   "metadata": {
    "ExecuteTime": {
     "end_time": "2021-01-11T08:42:39.555630Z",
     "start_time": "2021-01-11T08:42:37.864895Z"
    }
   },
   "outputs": [],
   "source": [
    "sns.boxplot(y=\"cash\",x=\"default\",data=df_train);\n",
    "plt.figure()\n",
    "sns.boxplot(y=np.log(df_train[\"cash\"]),x=\"default\",\n",
    "            data=df_train).set_title(\"With log transformation\");\n",
    "plt.figure()\n",
    "sns.displot(df_train,x=np.log(df_train[\"cash\"]),hue=\"default\",stat=\"density\",common_norm=False)\n",
    "plt.title(\"Log transformed\");"
   ]
  },
  {
   "cell_type": "markdown",
   "metadata": {},
   "source": [
    "### Profit Margin"
   ]
  },
  {
   "cell_type": "code",
   "execution_count": null,
   "metadata": {
    "ExecuteTime": {
     "end_time": "2021-01-11T08:42:41.694683Z",
     "start_time": "2021-01-11T08:42:40.374205Z"
    }
   },
   "outputs": [],
   "source": [
    "sns.boxplot(y=\"profit_margin\",x=\"default\",data=df_train);\n",
    "plt.figure()\n",
    "sns.boxplot(y=np.log(df_train[\"profit_margin\"]),x=\"default\",\n",
    "            data=df_train).set_title(\"With log transformation\");\n",
    "plt.figure()\n",
    "sns.displot(df_train,x=\"profit_margin\",hue=\"default\",stat=\"density\",common_norm=False);"
   ]
  },
  {
   "cell_type": "markdown",
   "metadata": {},
   "source": [
    "### Ebit Margin"
   ]
  },
  {
   "cell_type": "code",
   "execution_count": null,
   "metadata": {
    "ExecuteTime": {
     "end_time": "2021-01-11T08:42:44.728433Z",
     "start_time": "2021-01-11T08:42:42.671233Z"
    }
   },
   "outputs": [],
   "source": [
    "sns.boxplot(y=\"ebit_margin\",x=\"default\",data=df_train);\n",
    "plt.figure()\n",
    "sns.boxplot(y=np.log(df_train[\"ebit_margin\"]),x=\"default\",\n",
    "            data=df_train).set_title(\"With log transformation\");\n",
    "plt.figure()\n",
    "sns.displot(df_train,x=\"ebit_margin\",hue=\"default\",stat=\"density\",common_norm=False);"
   ]
  },
  {
   "cell_type": "markdown",
   "metadata": {},
   "source": [
    "### Working Capital Ratio"
   ]
  },
  {
   "cell_type": "code",
   "execution_count": null,
   "metadata": {
    "ExecuteTime": {
     "end_time": "2021-01-11T08:42:47.522548Z",
     "start_time": "2021-01-11T08:42:45.706474Z"
    }
   },
   "outputs": [],
   "source": [
    "sns.boxplot(y=\"wc_ratio\",x=\"default\",data=df_train);\n",
    "plt.figure()\n",
    "sns.boxplot(y=np.log(df_train[\"wc_ratio\"]),x=\"default\",\n",
    "            data=df_train).set_title(\"With log transformation\");\n",
    "plt.figure()\n",
    "sns.displot(df_train,x=\"wc_ratio\",hue=\"default\",stat=\"density\",common_norm=False);"
   ]
  },
  {
   "cell_type": "markdown",
   "metadata": {
    "ExecuteTime": {
     "end_time": "2020-12-23T07:49:46.197844Z",
     "start_time": "2020-12-23T07:49:46.127363Z"
    }
   },
   "source": [
    "### Operating Cash Flow Ratio"
   ]
  },
  {
   "cell_type": "code",
   "execution_count": null,
   "metadata": {
    "ExecuteTime": {
     "end_time": "2021-01-11T08:42:51.517047Z",
     "start_time": "2021-01-11T08:42:48.796113Z"
    }
   },
   "outputs": [],
   "source": [
    "sns.boxplot(y=\"ocf_ratio\",x=\"default\",data=df_train);\n",
    "plt.figure()\n",
    "sns.boxplot(y=np.log(df_train[\"ocf_ratio\"]),x=\"default\",\n",
    "            data=df_train).set_title(\"With log transformation\");\n",
    "plt.figure()\n",
    "sns.displot(df_train,x=\"ocf_ratio\",hue=\"default\",stat=\"density\",common_norm=False);"
   ]
  },
  {
   "cell_type": "markdown",
   "metadata": {},
   "source": [
    "### Equity Ratio "
   ]
  },
  {
   "cell_type": "code",
   "execution_count": null,
   "metadata": {
    "ExecuteTime": {
     "end_time": "2021-01-11T08:42:53.865634Z",
     "start_time": "2021-01-11T08:42:52.374798Z"
    }
   },
   "outputs": [],
   "source": [
    "sns.boxplot(y=\"equity_ratio\",x=\"default\",data=df_train);\n",
    "plt.figure()\n",
    "sns.boxplot(y=np.log(df_train[\"equity_ratio\"]),x=\"default\",\n",
    "            data=df_train).set_title(\"With log transformation\");\n",
    "plt.figure()\n",
    "sns.displot(df_train,x=\"equity_ratio\",hue=\"default\",stat=\"density\",common_norm=False);"
   ]
  },
  {
   "cell_type": "markdown",
   "metadata": {},
   "source": [
    "### Debt-to-Equity Ratio"
   ]
  },
  {
   "cell_type": "code",
   "execution_count": null,
   "metadata": {
    "ExecuteTime": {
     "end_time": "2021-01-11T08:42:56.605283Z",
     "start_time": "2021-01-11T08:42:54.837093Z"
    }
   },
   "outputs": [],
   "source": [
    "sns.boxplot(y=\"debt_to_equity\",x=\"default\",data=df_train);\n",
    "plt.figure()\n",
    "sns.boxplot(y=np.log(df_train[\"debt_to_equity\"]),x=\"default\",\n",
    "            data=df_train).set_title(\"With log transformation\");\n",
    "plt.figure()\n",
    "data = df_train[df_train[\"debt_to_equity\"] < 50]\n",
    "sns.displot(data,x=\"debt_to_equity\",hue=\"default\",stat=\"density\",common_norm=False)\n",
    "plt.title(\"Only D/E Ratio up to 50\");"
   ]
  },
  {
   "cell_type": "markdown",
   "metadata": {},
   "source": [
    "## Multivariate Analysis - Correlation Matrix/Heatmap"
   ]
  },
  {
   "cell_type": "code",
   "execution_count": 29,
   "metadata": {
    "ExecuteTime": {
     "end_time": "2021-01-11T08:42:58.498414Z",
     "start_time": "2021-01-11T08:42:57.574915Z"
    }
   },
   "outputs": [
    {
     "data": {
      "image/png": "[encoded data removed]",
      "text/plain": [
       "<Figure size 432x288 with 2 Axes>"
      ]
     },
     "metadata": {
      "needs_background": "light"
     },
     "output_type": "display_data"
    },
    {
     "data": {
      "text/html": [
       "<div>\n",
       "<style scoped>\n",
       "    .dataframe tbody tr th:only-of-type {\n",
       "        vertical-align: middle;\n",
       "    }\n",
       "\n",
       "    .dataframe tbody tr th {\n",
       "        vertical-align: top;\n",
       "    }\n",
       "\n",
       "    .dataframe thead th {\n",
       "        text-align: right;\n",
       "    }\n",
       "</style>\n",
       "<table border=\"1\" class=\"dataframe\">\n",
       "  <thead>\n",
       "    <tr style=\"text-align: right;\">\n",
       "      <th></th>\n",
       "      <th>default</th>\n",
       "      <th>profit_margin</th>\n",
       "      <th>equity_ratio</th>\n",
       "      <th>quick_ratio</th>\n",
       "      <th>icr_ratio</th>\n",
       "      <th>roa</th>\n",
       "    </tr>\n",
       "  </thead>\n",
       "  <tbody>\n",
       "    <tr>\n",
       "      <th>profit_margin</th>\n",
       "      <td>0.053676</td>\n",
       "      <td>1.000000</td>\n",
       "      <td>0.107896</td>\n",
       "      <td>0.144117</td>\n",
       "      <td>-0.025846</td>\n",
       "      <td>-0.011870</td>\n",
       "    </tr>\n",
       "    <tr>\n",
       "      <th>equity_ratio</th>\n",
       "      <td>-0.160258</td>\n",
       "      <td>0.107896</td>\n",
       "      <td>1.000000</td>\n",
       "      <td>0.600939</td>\n",
       "      <td>0.261021</td>\n",
       "      <td>0.214094</td>\n",
       "    </tr>\n",
       "    <tr>\n",
       "      <th>quick_ratio</th>\n",
       "      <td>-0.145124</td>\n",
       "      <td>0.144117</td>\n",
       "      <td>0.600939</td>\n",
       "      <td>1.000000</td>\n",
       "      <td>0.290439</td>\n",
       "      <td>0.194442</td>\n",
       "    </tr>\n",
       "    <tr>\n",
       "      <th>icr_ratio</th>\n",
       "      <td>-0.105542</td>\n",
       "      <td>-0.025846</td>\n",
       "      <td>0.261021</td>\n",
       "      <td>0.290439</td>\n",
       "      <td>1.000000</td>\n",
       "      <td>0.587653</td>\n",
       "    </tr>\n",
       "    <tr>\n",
       "      <th>roa</th>\n",
       "      <td>-0.064645</td>\n",
       "      <td>-0.011870</td>\n",
       "      <td>0.214094</td>\n",
       "      <td>0.194442</td>\n",
       "      <td>0.587653</td>\n",
       "      <td>1.000000</td>\n",
       "    </tr>\n",
       "    <tr>\n",
       "      <th>wc_ratio</th>\n",
       "      <td>-0.087933</td>\n",
       "      <td>-0.032352</td>\n",
       "      <td>0.639378</td>\n",
       "      <td>0.687871</td>\n",
       "      <td>0.241114</td>\n",
       "      <td>0.141487</td>\n",
       "    </tr>\n",
       "  </tbody>\n",
       "</table>\n",
       "</div>"
      ],
      "text/plain": [
       "                default  profit_margin  equity_ratio  quick_ratio  icr_ratio  \\\n",
       "profit_margin  0.053676       1.000000      0.107896     0.144117  -0.025846   \n",
       "equity_ratio  -0.160258       0.107896      1.000000     0.600939   0.261021   \n",
       "quick_ratio   -0.145124       0.144117      0.600939     1.000000   0.290439   \n",
       "icr_ratio     -0.105542      -0.025846      0.261021     0.290439   1.000000   \n",
       "roa           -0.064645      -0.011870      0.214094     0.194442   0.587653   \n",
       "wc_ratio      -0.087933      -0.032352      0.639378     0.687871   0.241114   \n",
       "\n",
       "                    roa  \n",
       "profit_margin -0.011870  \n",
       "equity_ratio   0.214094  \n",
       "quick_ratio    0.194442  \n",
       "icr_ratio      0.587653  \n",
       "roa            1.000000  \n",
       "wc_ratio       0.141487  "
      ]
     },
     "execution_count": 29,
     "metadata": {},
     "output_type": "execute_result"
    }
   ],
   "source": [
    "data = df_train[col_list]\n",
    "df_corr = data.corr()\n",
    "mask = np.triu(np.ones_like(df_corr, dtype=np.bool))\n",
    "mask = mask[1:, :-1]\n",
    "corr = pd.DataFrame(df_corr.iloc[1:,:-1].copy())\n",
    "\n",
    "heatmap = sns.heatmap(corr, mask=mask, vmin=-1, vmax=1, annot=True, cmap=\"coolwarm\")\n",
    "heatmap.set_title('Correlation Heatmap')\n",
    "plt.show()\n",
    "\n",
    "corr"
   ]
  },
  {
   "cell_type": "markdown",
   "metadata": {},
   "source": [
    "## Univariate Ginis of our Variables of interest\n",
    "Here we want to calculate the Gini coefficients, resulting from a logit model with only one variable of our interest. "
   ]
  },
  {
   "cell_type": "code",
   "execution_count": 30,
   "metadata": {
    "ExecuteTime": {
     "end_time": "2021-01-11T08:43:54.443805Z",
     "start_time": "2021-01-11T08:43:54.409073Z"
    }
   },
   "outputs": [
    {
     "data": {
      "text/html": [
       "<div>\n",
       "<style scoped>\n",
       "    .dataframe tbody tr th:only-of-type {\n",
       "        vertical-align: middle;\n",
       "    }\n",
       "\n",
       "    .dataframe tbody tr th {\n",
       "        vertical-align: top;\n",
       "    }\n",
       "\n",
       "    .dataframe thead th {\n",
       "        text-align: right;\n",
       "    }\n",
       "</style>\n",
       "<table border=\"1\" class=\"dataframe\">\n",
       "  <thead>\n",
       "    <tr style=\"text-align: right;\">\n",
       "      <th></th>\n",
       "      <th>default</th>\n",
       "      <th>profit_margin</th>\n",
       "      <th>equity_ratio</th>\n",
       "      <th>quick_ratio</th>\n",
       "      <th>icr_ratio</th>\n",
       "      <th>roa</th>\n",
       "      <th>wc_ratio</th>\n",
       "    </tr>\n",
       "  </thead>\n",
       "  <tbody>\n",
       "    <tr>\n",
       "      <th>0</th>\n",
       "      <td>0</td>\n",
       "      <td>0.361114</td>\n",
       "      <td>7.385670e-01</td>\n",
       "      <td>1.386506</td>\n",
       "      <td>15.436676</td>\n",
       "      <td>0.180537</td>\n",
       "      <td>3.710767</td>\n",
       "    </tr>\n",
       "    <tr>\n",
       "      <th>1</th>\n",
       "      <td>0</td>\n",
       "      <td>1.104725</td>\n",
       "      <td>3.896983e-01</td>\n",
       "      <td>0.131683</td>\n",
       "      <td>8.723286</td>\n",
       "      <td>0.095967</td>\n",
       "      <td>0.663710</td>\n",
       "    </tr>\n",
       "    <tr>\n",
       "      <th>2</th>\n",
       "      <td>0</td>\n",
       "      <td>2.012151</td>\n",
       "      <td>9.370190e-04</td>\n",
       "      <td>1.083222</td>\n",
       "      <td>62.850328</td>\n",
       "      <td>0.001684</td>\n",
       "      <td>3.328108</td>\n",
       "    </tr>\n",
       "    <tr>\n",
       "      <th>3</th>\n",
       "      <td>0</td>\n",
       "      <td>2.012151</td>\n",
       "      <td>5.925318e-01</td>\n",
       "      <td>1.386506</td>\n",
       "      <td>62.850328</td>\n",
       "      <td>0.030412</td>\n",
       "      <td>3.193566</td>\n",
       "    </tr>\n",
       "    <tr>\n",
       "      <th>4</th>\n",
       "      <td>0</td>\n",
       "      <td>1.135876</td>\n",
       "      <td>4.174963e-01</td>\n",
       "      <td>0.014493</td>\n",
       "      <td>5.077795</td>\n",
       "      <td>0.040158</td>\n",
       "      <td>0.102055</td>\n",
       "    </tr>\n",
       "    <tr>\n",
       "      <th>...</th>\n",
       "      <td>...</td>\n",
       "      <td>...</td>\n",
       "      <td>...</td>\n",
       "      <td>...</td>\n",
       "      <td>...</td>\n",
       "      <td>...</td>\n",
       "      <td>...</td>\n",
       "    </tr>\n",
       "    <tr>\n",
       "      <th>664</th>\n",
       "      <td>0</td>\n",
       "      <td>0.506472</td>\n",
       "      <td>1.823358e-01</td>\n",
       "      <td>0.003054</td>\n",
       "      <td>0.939698</td>\n",
       "      <td>-0.001518</td>\n",
       "      <td>0.835583</td>\n",
       "    </tr>\n",
       "    <tr>\n",
       "      <th>665</th>\n",
       "      <td>0</td>\n",
       "      <td>0.446851</td>\n",
       "      <td>3.418227e-01</td>\n",
       "      <td>0.276975</td>\n",
       "      <td>57.003692</td>\n",
       "      <td>0.173649</td>\n",
       "      <td>1.213142</td>\n",
       "    </tr>\n",
       "    <tr>\n",
       "      <th>666</th>\n",
       "      <td>0</td>\n",
       "      <td>1.000000</td>\n",
       "      <td>-3.086604e-17</td>\n",
       "      <td>0.003809</td>\n",
       "      <td>1.613677</td>\n",
       "      <td>0.013497</td>\n",
       "      <td>0.041927</td>\n",
       "    </tr>\n",
       "    <tr>\n",
       "      <th>667</th>\n",
       "      <td>0</td>\n",
       "      <td>1.049012</td>\n",
       "      <td>-1.273479e-16</td>\n",
       "      <td>0.049301</td>\n",
       "      <td>3.869858</td>\n",
       "      <td>0.063753</td>\n",
       "      <td>0.615002</td>\n",
       "    </tr>\n",
       "    <tr>\n",
       "      <th>668</th>\n",
       "      <td>0</td>\n",
       "      <td>0.258573</td>\n",
       "      <td>4.072948e-02</td>\n",
       "      <td>0.374316</td>\n",
       "      <td>17.665367</td>\n",
       "      <td>0.191823</td>\n",
       "      <td>1.006126</td>\n",
       "    </tr>\n",
       "  </tbody>\n",
       "</table>\n",
       "<p>668 rows × 7 columns</p>\n",
       "</div>"
      ],
      "text/plain": [
       "     default  profit_margin  equity_ratio  quick_ratio  icr_ratio       roa  \\\n",
       "0          0       0.361114  7.385670e-01     1.386506  15.436676  0.180537   \n",
       "1          0       1.104725  3.896983e-01     0.131683   8.723286  0.095967   \n",
       "2          0       2.012151  9.370190e-04     1.083222  62.850328  0.001684   \n",
       "3          0       2.012151  5.925318e-01     1.386506  62.850328  0.030412   \n",
       "4          0       1.135876  4.174963e-01     0.014493   5.077795  0.040158   \n",
       "..       ...            ...           ...          ...        ...       ...   \n",
       "664        0       0.506472  1.823358e-01     0.003054   0.939698 -0.001518   \n",
       "665        0       0.446851  3.418227e-01     0.276975  57.003692  0.173649   \n",
       "666        0       1.000000 -3.086604e-17     0.003809   1.613677  0.013497   \n",
       "667        0       1.049012 -1.273479e-16     0.049301   3.869858  0.063753   \n",
       "668        0       0.258573  4.072948e-02     0.374316  17.665367  0.191823   \n",
       "\n",
       "     wc_ratio  \n",
       "0    3.710767  \n",
       "1    0.663710  \n",
       "2    3.328108  \n",
       "3    3.193566  \n",
       "4    0.102055  \n",
       "..        ...  \n",
       "664  0.835583  \n",
       "665  1.213142  \n",
       "666  0.041927  \n",
       "667  0.615002  \n",
       "668  1.006126  \n",
       "\n",
       "[668 rows x 7 columns]"
      ]
     },
     "execution_count": 30,
     "metadata": {},
     "output_type": "execute_result"
    }
   ],
   "source": [
    "col_list = ['default', 'profit_margin', 'equity_ratio', 'quick_ratio', 'icr_ratio', 'roa', 'wc_ratio']\n",
    "df_train[col_list]"
   ]
  },
  {
   "cell_type": "code",
   "execution_count": null,
   "metadata": {
    "ExecuteTime": {
     "end_time": "2021-01-11T08:47:47.177061Z",
     "start_time": "2021-01-11T08:44:04.736498Z"
    }
   },
   "outputs": [],
   "source": [
    "dictionary_univ_gini = dict()\n",
    "for var in col_list[1:]:\n",
    "    X = df_train[var]\n",
    "    y = df_train[\"default\"]\n",
    "    X = sm.add_constant(X)\n",
    "\n",
    "    random_numbers = np.random.randint(0,1000000,1000)\n",
    "\n",
    "    for i in random_numbers:\n",
    "        try:\n",
    "            # Splitting data into training and testing sets.\n",
    "            train_features, test_features, train_labels, test_labels = train_test_split(X, \n",
    "                                                                                y, test_size = 0.33, \n",
    "                                                                                random_state = i, \n",
    "                                                                                stratify = y)\n",
    "            # The splited Logit Model\n",
    "            mdl2split = sm.Logit(train_labels,train_features).fit()\n",
    "            mdl2split.summary2()\n",
    "\n",
    "            # Predict the test data\n",
    "            predictions_split = mdl2split.predict(test_features)\n",
    "            # Predict the training data\n",
    "            predictions_split_train = mdl2split.predict(train_features)\n",
    "            # Calculate the absolute errors\n",
    "            errors = abs(predictions_split - test_labels)\n",
    "    \n",
    "            #AUC & Gini Graph + Calculations of splitted logit\n",
    "\n",
    "            fpr_split, tpr_split, thresholds_split = metrics.roc_curve(test_labels, predictions_split)\n",
    "            auc_split = metrics.auc(fpr_split, tpr_split) \n",
    "\n",
    "            # Predict the in sample (train) data for comparision\n",
    "            fpr_split_train, tpr_split_train, thresholds_split_train = metrics.roc_curve(train_labels, predictions_split_train)\n",
    "            auc_split_train = metrics.auc(fpr_split_train, tpr_split_train)\n",
    "    \n",
    "            #Store values in dictionary\n",
    "            dictionary_univ_gini[i] = round(np.mean(errors), 2),auc_split,2*auc_split-1, auc_split_train, 2*auc_split_train-1,var\n",
    "        \n",
    "        except:\n",
    "            continue\n",
    "\n",
    "dictionary_univ_gini = pd.DataFrame.from_dict(dictionary_univ_gini,orient=\"index\",\n",
    "                       columns=['MSE','AUC out sample','Gini out of sample',\"AUC in sample\",\"Gini in sample\",\"Variable\"])\n",
    "\n",
    ";"
   ]
  },
  {
   "cell_type": "code",
   "execution_count": 32,
   "metadata": {
    "ExecuteTime": {
     "end_time": "2021-01-11T08:47:51.923703Z",
     "start_time": "2021-01-11T08:47:51.867760Z"
    },
    "scrolled": true
   },
   "outputs": [
    {
     "name": "stdout",
     "output_type": "stream",
     "text": [
      "Mean Gini out of sample with variable: profit_margin 0.1069919167903133\n",
      "Mean Gini out of sample with variable: equity_ratio 0.43113475040506205\n",
      "Mean Gini out of sample with variable: quick_ratio 0.44937285814232025\n",
      "Mean Gini out of sample with variable: icr_ratio 0.20679561786294476\n",
      "Mean Gini out of sample with variable: roa 0.13489729543660586\n",
      "Mean Gini out of sample with variable: wc_ratio 0.22401997041420127\n"
     ]
    }
   ],
   "source": [
    "for i in col_list[1:]:\n",
    "    print(\"Mean Gini out of sample with variable:\", i, \n",
    "          dictionary_univ_gini[\"Gini out of sample\"][dictionary_univ_gini[\"Variable\"]==i].mean())\n",
    "    "
   ]
  },
  {
   "cell_type": "code",
   "execution_count": null,
   "metadata": {
    "ExecuteTime": {
     "end_time": "2021-01-11T08:49:11.450424Z",
     "start_time": "2021-01-11T08:48:47.451170Z"
    }
   },
   "outputs": [],
   "source": [
    "# # Gini with only cash and wc ratio\n",
    "# var = [\"cash\",\"wc_ratio\"]\n",
    "# dictionary_logit_two_vars = dict()\n",
    "# X = df_train[var]\n",
    "# y = df_train[\"default\"]\n",
    "# X = sm.add_constant(X)\n",
    "\n",
    "# random_numbers = np.random.randint(0,1000000,1000)\n",
    "\n",
    "# for i in random_numbers:\n",
    "#     try:\n",
    "#         # Splitting data into training and testing sets.\n",
    "#         train_features, test_features, train_labels, test_labels = train_test_split(X, \n",
    "#                                                                                 y, test_size = 0.33, \n",
    "#                                                                                 random_state = i, \n",
    "#                                                                                 stratify = y)\n",
    "#         # The splited Logit Model\n",
    "#         mdl2split = sm.Logit(train_labels,train_features).fit()\n",
    "#         mdl2split.summary2()\n",
    "\n",
    "#         # Predict the test data\n",
    "#         predictions_split = mdl2split.predict(test_features)\n",
    "#         # Predict the training data\n",
    "#         predictions_split_train = mdl2split.predict(train_features)\n",
    "#         # Calculate the absolute errors\n",
    "#         errors = abs(predictions_split - test_labels)\n",
    "    \n",
    "#         #AUC & Gini Graph + Calculations of splitted logit\n",
    "\n",
    "#         fpr_split, tpr_split, thresholds_split = metrics.roc_curve(test_labels, predictions_split)\n",
    "#         auc_split = metrics.auc(fpr_split, tpr_split) \n",
    "\n",
    "#         # Predict the in sample (train) data for comparision\n",
    "#         fpr_split_train, tpr_split_train, thresholds_split_train = metrics.roc_curve(train_labels, predictions_split_train)\n",
    "#         auc_split_train = metrics.auc(fpr_split_train, tpr_split_train)\n",
    "    \n",
    "#         #Store values in dictionary\n",
    "#         dictionary_logit_two_vars[i] = round(np.mean(errors), 2),auc_split,2*auc_split-1, auc_split_train, 2*auc_split_train-1\n",
    "        \n",
    "#     except:\n",
    "#         continue\n",
    "\n",
    "# dictionary_logit_two_vars = pd.DataFrame.from_dict(dictionary_logit_two_vars,orient=\"index\",\n",
    "#                        columns=['MSE','AUC out sample','Gini out of sample',\"AUC in sample\",\"Gini in sample\"])\n"
   ]
  },
  {
   "cell_type": "code",
   "execution_count": null,
   "metadata": {
    "ExecuteTime": {
     "end_time": "2021-01-11T08:49:27.052436Z",
     "start_time": "2021-01-11T08:49:27.040243Z"
    }
   },
   "outputs": [],
   "source": [
    "dictionary_logit_two_vars.mean() #gini does not get better"
   ]
  },
  {
   "cell_type": "markdown",
   "metadata": {},
   "source": [
    "# Our Logit Regression"
   ]
  },
  {
   "cell_type": "markdown",
   "metadata": {},
   "source": [
    "Die Variablen die funktionieren sind: 'profit_margin', 'equity_ratio', 'quick_ratio', 'icr_ratio', 'roa', 'wc_ratio'"
   ]
  },
  {
   "cell_type": "code",
   "execution_count": 33,
   "metadata": {
    "ExecuteTime": {
     "end_time": "2021-01-06T13:21:29.628750Z",
     "start_time": "2021-01-06T13:21:29.488635Z"
    }
   },
   "outputs": [
    {
     "name": "stdout",
     "output_type": "stream",
     "text": [
      "                         Results: Logit\n",
      "=================================================================\n",
      "Model:              Logit            Pseudo R-squared: 0.127     \n",
      "Dependent Variable: default          AIC:              266.4915  \n",
      "Date:               2021-01-12 13:07 BIC:              293.5172  \n",
      "No. Observations:   668              Log-Likelihood:   -127.25   \n",
      "Df Model:           5                LL-Null:          -145.83   \n",
      "Df Residuals:       662              LLR p-value:      5.5272e-07\n",
      "Converged:          1.0000           Scale:            1.0000    \n",
      "No. Iterations:     9.0000                                       \n",
      "-----------------------------------------------------------------\n",
      "                   Coef.  Std.Err.    z    P>|z|   [0.025  0.975]\n",
      "-----------------------------------------------------------------\n",
      "Intercept         -2.1813   0.3914 -5.5734 0.0000 -2.9484 -1.4142\n",
      "profit_margin      0.7395   0.4271  1.7314 0.0834 -0.0976  1.5766\n",
      "equity_ratio      -2.5850   1.0597 -2.4394 0.0147 -4.6620 -0.5081\n",
      "quick_ratio       -2.5512   1.1788 -2.1642 0.0304 -4.8616 -0.2408\n",
      "icr_ratio         -0.0249   0.0150 -1.6641 0.0961 -0.0542  0.0044\n",
      "roa                1.3299   1.9124  0.6954 0.4868 -2.4183  5.0781\n",
      "=================================================================\n",
      "\n"
     ]
    }
   ],
   "source": [
    "mdl1 = sm.Logit.from_formula('default ~ profit_margin + equity_ratio + quick_ratio + icr_ratio + roa + 1',\n",
    "                            data=df_train).fit(disp=False, maxiter=100)\n",
    "print(mdl1.summary2())"
   ]
  },
  {
   "cell_type": "code",
   "execution_count": 34,
   "metadata": {
    "ExecuteTime": {
     "end_time": "2021-01-06T13:21:35.514497Z",
     "start_time": "2021-01-06T13:21:35.424372Z"
    }
   },
   "outputs": [
    {
     "name": "stdout",
     "output_type": "stream",
     "text": [
      "Optimization terminated successfully.\n",
      "         Current function value: 0.190488\n",
      "         Iterations 9\n"
     ]
    },
    {
     "data": {
      "text/html": [
       "<table class=\"simpletable\">\n",
       "<tr>\n",
       "        <td>Model:</td>              <td>Logit</td>      <td>Pseudo R-squared:</td>    <td>0.127</td>  \n",
       "</tr>\n",
       "<tr>\n",
       "  <td>Dependent Variable:</td>      <td>default</td>           <td>AIC:</td>         <td>266.4915</td> \n",
       "</tr>\n",
       "<tr>\n",
       "         <td>Date:</td>        <td>2021-01-12 13:07</td>       <td>BIC:</td>         <td>293.5172</td> \n",
       "</tr>\n",
       "<tr>\n",
       "   <td>No. Observations:</td>         <td>668</td>        <td>Log-Likelihood:</td>    <td>-127.25</td> \n",
       "</tr>\n",
       "<tr>\n",
       "       <td>Df Model:</td>              <td>5</td>            <td>LL-Null:</td>        <td>-145.83</td> \n",
       "</tr>\n",
       "<tr>\n",
       "     <td>Df Residuals:</td>           <td>662</td>         <td>LLR p-value:</td>    <td>5.5272e-07</td>\n",
       "</tr>\n",
       "<tr>\n",
       "      <td>Converged:</td>           <td>1.0000</td>           <td>Scale:</td>         <td>1.0000</td>  \n",
       "</tr>\n",
       "<tr>\n",
       "    <td>No. Iterations:</td>        <td>9.0000</td>              <td></td>               <td></td>     \n",
       "</tr>\n",
       "</table>\n",
       "<table class=\"simpletable\">\n",
       "<tr>\n",
       "        <td></td>         <th>Coef.</th>  <th>Std.Err.</th>    <th>z</th>     <th>P>|z|</th> <th>[0.025</th>  <th>0.975]</th> \n",
       "</tr>\n",
       "<tr>\n",
       "  <th>const</th>         <td>-2.1813</td>  <td>0.3914</td>  <td>-5.5734</td> <td>0.0000</td> <td>-2.9484</td> <td>-1.4142</td>\n",
       "</tr>\n",
       "<tr>\n",
       "  <th>profit_margin</th> <td>0.7395</td>   <td>0.4271</td>  <td>1.7314</td>  <td>0.0834</td> <td>-0.0976</td> <td>1.5766</td> \n",
       "</tr>\n",
       "<tr>\n",
       "  <th>equity_ratio</th>  <td>-2.5850</td>  <td>1.0597</td>  <td>-2.4394</td> <td>0.0147</td> <td>-4.6620</td> <td>-0.5081</td>\n",
       "</tr>\n",
       "<tr>\n",
       "  <th>quick_ratio</th>   <td>-2.5512</td>  <td>1.1788</td>  <td>-2.1642</td> <td>0.0304</td> <td>-4.8616</td> <td>-0.2408</td>\n",
       "</tr>\n",
       "<tr>\n",
       "  <th>icr_ratio</th>     <td>-0.0249</td>  <td>0.0150</td>  <td>-1.6641</td> <td>0.0961</td> <td>-0.0542</td> <td>0.0044</td> \n",
       "</tr>\n",
       "<tr>\n",
       "  <th>roa</th>           <td>1.3299</td>   <td>1.9124</td>  <td>0.6954</td>  <td>0.4868</td> <td>-2.4183</td> <td>5.0781</td> \n",
       "</tr>\n",
       "</table>"
      ],
      "text/plain": [
       "<class 'statsmodels.iolib.summary2.Summary'>\n",
       "\"\"\"\n",
       "                         Results: Logit\n",
       "=================================================================\n",
       "Model:              Logit            Pseudo R-squared: 0.127     \n",
       "Dependent Variable: default          AIC:              266.4915  \n",
       "Date:               2021-01-12 13:07 BIC:              293.5172  \n",
       "No. Observations:   668              Log-Likelihood:   -127.25   \n",
       "Df Model:           5                LL-Null:          -145.83   \n",
       "Df Residuals:       662              LLR p-value:      5.5272e-07\n",
       "Converged:          1.0000           Scale:            1.0000    \n",
       "No. Iterations:     9.0000                                       \n",
       "-----------------------------------------------------------------\n",
       "                   Coef.  Std.Err.    z    P>|z|   [0.025  0.975]\n",
       "-----------------------------------------------------------------\n",
       "const             -2.1813   0.3914 -5.5734 0.0000 -2.9484 -1.4142\n",
       "profit_margin      0.7395   0.4271  1.7314 0.0834 -0.0976  1.5766\n",
       "equity_ratio      -2.5850   1.0597 -2.4394 0.0147 -4.6620 -0.5081\n",
       "quick_ratio       -2.5512   1.1788 -2.1642 0.0304 -4.8616 -0.2408\n",
       "icr_ratio         -0.0249   0.0150 -1.6641 0.0961 -0.0542  0.0044\n",
       "roa                1.3299   1.9124  0.6954 0.4868 -2.4183  5.0781\n",
       "=================================================================\n",
       "\n",
       "\"\"\""
      ]
     },
     "execution_count": 34,
     "metadata": {},
     "output_type": "execute_result"
    }
   ],
   "source": [
    "y = df_train[\"default\"]\n",
    "X = df_train[['profit_margin', 'equity_ratio', 'quick_ratio', 'icr_ratio', 'roa']]\n",
    "X = sm.add_constant(X)\n",
    "\n",
    "\n",
    "mdl2 = sm.Logit(y,X).fit()\n",
    "mdl2.summary2()"
   ]
  },
  {
   "cell_type": "code",
   "execution_count": 35,
   "metadata": {
    "ExecuteTime": {
     "end_time": "2021-01-06T13:21:40.814752Z",
     "start_time": "2021-01-06T13:21:40.774068Z"
    }
   },
   "outputs": [
    {
     "data": {
      "text/html": [
       "<div>\n",
       "<style scoped>\n",
       "    .dataframe tbody tr th:only-of-type {\n",
       "        vertical-align: middle;\n",
       "    }\n",
       "\n",
       "    .dataframe tbody tr th {\n",
       "        vertical-align: top;\n",
       "    }\n",
       "\n",
       "    .dataframe thead th {\n",
       "        text-align: right;\n",
       "    }\n",
       "</style>\n",
       "<table border=\"1\" class=\"dataframe\">\n",
       "  <thead>\n",
       "    <tr style=\"text-align: right;\">\n",
       "      <th></th>\n",
       "      <th>default</th>\n",
       "      <th>estimated PD in %</th>\n",
       "    </tr>\n",
       "  </thead>\n",
       "  <tbody>\n",
       "    <tr>\n",
       "      <th>544</th>\n",
       "      <td>0</td>\n",
       "      <td>30.81</td>\n",
       "    </tr>\n",
       "    <tr>\n",
       "      <th>209</th>\n",
       "      <td>0</td>\n",
       "      <td>27.73</td>\n",
       "    </tr>\n",
       "    <tr>\n",
       "      <th>13</th>\n",
       "      <td>0</td>\n",
       "      <td>24.38</td>\n",
       "    </tr>\n",
       "    <tr>\n",
       "      <th>351</th>\n",
       "      <td>0</td>\n",
       "      <td>23.54</td>\n",
       "    </tr>\n",
       "    <tr>\n",
       "      <th>375</th>\n",
       "      <td>1</td>\n",
       "      <td>20.49</td>\n",
       "    </tr>\n",
       "    <tr>\n",
       "      <th>...</th>\n",
       "      <td>...</td>\n",
       "      <td>...</td>\n",
       "    </tr>\n",
       "    <tr>\n",
       "      <th>522</th>\n",
       "      <td>1</td>\n",
       "      <td>0.01</td>\n",
       "    </tr>\n",
       "    <tr>\n",
       "      <th>468</th>\n",
       "      <td>0</td>\n",
       "      <td>0.01</td>\n",
       "    </tr>\n",
       "    <tr>\n",
       "      <th>462</th>\n",
       "      <td>0</td>\n",
       "      <td>0.01</td>\n",
       "    </tr>\n",
       "    <tr>\n",
       "      <th>258</th>\n",
       "      <td>0</td>\n",
       "      <td>0.01</td>\n",
       "    </tr>\n",
       "    <tr>\n",
       "      <th>318</th>\n",
       "      <td>0</td>\n",
       "      <td>0.01</td>\n",
       "    </tr>\n",
       "  </tbody>\n",
       "</table>\n",
       "<p>668 rows × 2 columns</p>\n",
       "</div>"
      ],
      "text/plain": [
       "     default  estimated PD in %\n",
       "544        0              30.81\n",
       "209        0              27.73\n",
       "13         0              24.38\n",
       "351        0              23.54\n",
       "375        1              20.49\n",
       "..       ...                ...\n",
       "522        1               0.01\n",
       "468        0               0.01\n",
       "462        0               0.01\n",
       "258        0               0.01\n",
       "318        0               0.01\n",
       "\n",
       "[668 rows x 2 columns]"
      ]
     },
     "execution_count": 35,
     "metadata": {},
     "output_type": "execute_result"
    }
   ],
   "source": [
    "# see how our model would have predicted the defaults \n",
    "s = pd.concat([df_train[\"default\"],round(mdl1.predict(X)*100,2)],axis=1,)\n",
    "s.columns = [\"default\",\"estimated PD in %\"]\n",
    "s.sort_values(by=\"estimated PD in %\",ascending=False)"
   ]
  },
  {
   "cell_type": "code",
   "execution_count": 36,
   "metadata": {
    "ExecuteTime": {
     "end_time": "2021-01-06T13:21:43.126538Z",
     "start_time": "2021-01-06T13:21:43.106453Z"
    }
   },
   "outputs": [
    {
     "data": {
      "text/html": [
       "<div>\n",
       "<style scoped>\n",
       "    .dataframe tbody tr th:only-of-type {\n",
       "        vertical-align: middle;\n",
       "    }\n",
       "\n",
       "    .dataframe tbody tr th {\n",
       "        vertical-align: top;\n",
       "    }\n",
       "\n",
       "    .dataframe thead th {\n",
       "        text-align: right;\n",
       "    }\n",
       "</style>\n",
       "<table border=\"1\" class=\"dataframe\">\n",
       "  <thead>\n",
       "    <tr style=\"text-align: right;\">\n",
       "      <th></th>\n",
       "      <th>default</th>\n",
       "      <th>estimated PD in %</th>\n",
       "    </tr>\n",
       "  </thead>\n",
       "  <tbody>\n",
       "    <tr>\n",
       "      <th>32</th>\n",
       "      <td>1</td>\n",
       "      <td>8.43</td>\n",
       "    </tr>\n",
       "    <tr>\n",
       "      <th>43</th>\n",
       "      <td>1</td>\n",
       "      <td>14.95</td>\n",
       "    </tr>\n",
       "    <tr>\n",
       "      <th>69</th>\n",
       "      <td>1</td>\n",
       "      <td>10.63</td>\n",
       "    </tr>\n",
       "    <tr>\n",
       "      <th>104</th>\n",
       "      <td>1</td>\n",
       "      <td>15.55</td>\n",
       "    </tr>\n",
       "    <tr>\n",
       "      <th>114</th>\n",
       "      <td>1</td>\n",
       "      <td>10.25</td>\n",
       "    </tr>\n",
       "    <tr>\n",
       "      <th>120</th>\n",
       "      <td>1</td>\n",
       "      <td>6.95</td>\n",
       "    </tr>\n",
       "    <tr>\n",
       "      <th>128</th>\n",
       "      <td>1</td>\n",
       "      <td>12.04</td>\n",
       "    </tr>\n",
       "    <tr>\n",
       "      <th>139</th>\n",
       "      <td>1</td>\n",
       "      <td>19.46</td>\n",
       "    </tr>\n",
       "    <tr>\n",
       "      <th>150</th>\n",
       "      <td>1</td>\n",
       "      <td>17.02</td>\n",
       "    </tr>\n",
       "    <tr>\n",
       "      <th>198</th>\n",
       "      <td>1</td>\n",
       "      <td>18.27</td>\n",
       "    </tr>\n",
       "    <tr>\n",
       "      <th>212</th>\n",
       "      <td>1</td>\n",
       "      <td>19.63</td>\n",
       "    </tr>\n",
       "    <tr>\n",
       "      <th>218</th>\n",
       "      <td>1</td>\n",
       "      <td>8.38</td>\n",
       "    </tr>\n",
       "    <tr>\n",
       "      <th>226</th>\n",
       "      <td>1</td>\n",
       "      <td>7.89</td>\n",
       "    </tr>\n",
       "    <tr>\n",
       "      <th>236</th>\n",
       "      <td>1</td>\n",
       "      <td>14.96</td>\n",
       "    </tr>\n",
       "    <tr>\n",
       "      <th>250</th>\n",
       "      <td>1</td>\n",
       "      <td>7.44</td>\n",
       "    </tr>\n",
       "    <tr>\n",
       "      <th>251</th>\n",
       "      <td>1</td>\n",
       "      <td>7.36</td>\n",
       "    </tr>\n",
       "    <tr>\n",
       "      <th>296</th>\n",
       "      <td>1</td>\n",
       "      <td>9.23</td>\n",
       "    </tr>\n",
       "    <tr>\n",
       "      <th>305</th>\n",
       "      <td>1</td>\n",
       "      <td>11.38</td>\n",
       "    </tr>\n",
       "    <tr>\n",
       "      <th>313</th>\n",
       "      <td>1</td>\n",
       "      <td>13.30</td>\n",
       "    </tr>\n",
       "    <tr>\n",
       "      <th>341</th>\n",
       "      <td>1</td>\n",
       "      <td>12.43</td>\n",
       "    </tr>\n",
       "    <tr>\n",
       "      <th>346</th>\n",
       "      <td>1</td>\n",
       "      <td>5.52</td>\n",
       "    </tr>\n",
       "    <tr>\n",
       "      <th>375</th>\n",
       "      <td>1</td>\n",
       "      <td>20.49</td>\n",
       "    </tr>\n",
       "    <tr>\n",
       "      <th>389</th>\n",
       "      <td>1</td>\n",
       "      <td>15.40</td>\n",
       "    </tr>\n",
       "    <tr>\n",
       "      <th>406</th>\n",
       "      <td>1</td>\n",
       "      <td>11.60</td>\n",
       "    </tr>\n",
       "    <tr>\n",
       "      <th>419</th>\n",
       "      <td>1</td>\n",
       "      <td>17.75</td>\n",
       "    </tr>\n",
       "    <tr>\n",
       "      <th>427</th>\n",
       "      <td>1</td>\n",
       "      <td>12.80</td>\n",
       "    </tr>\n",
       "    <tr>\n",
       "      <th>477</th>\n",
       "      <td>1</td>\n",
       "      <td>7.39</td>\n",
       "    </tr>\n",
       "    <tr>\n",
       "      <th>479</th>\n",
       "      <td>1</td>\n",
       "      <td>13.19</td>\n",
       "    </tr>\n",
       "    <tr>\n",
       "      <th>495</th>\n",
       "      <td>1</td>\n",
       "      <td>9.87</td>\n",
       "    </tr>\n",
       "    <tr>\n",
       "      <th>521</th>\n",
       "      <td>1</td>\n",
       "      <td>11.63</td>\n",
       "    </tr>\n",
       "    <tr>\n",
       "      <th>522</th>\n",
       "      <td>1</td>\n",
       "      <td>0.01</td>\n",
       "    </tr>\n",
       "    <tr>\n",
       "      <th>543</th>\n",
       "      <td>1</td>\n",
       "      <td>2.54</td>\n",
       "    </tr>\n",
       "    <tr>\n",
       "      <th>564</th>\n",
       "      <td>1</td>\n",
       "      <td>8.59</td>\n",
       "    </tr>\n",
       "    <tr>\n",
       "      <th>566</th>\n",
       "      <td>1</td>\n",
       "      <td>13.93</td>\n",
       "    </tr>\n",
       "    <tr>\n",
       "      <th>568</th>\n",
       "      <td>1</td>\n",
       "      <td>8.96</td>\n",
       "    </tr>\n",
       "    <tr>\n",
       "      <th>636</th>\n",
       "      <td>1</td>\n",
       "      <td>6.67</td>\n",
       "    </tr>\n",
       "    <tr>\n",
       "      <th>649</th>\n",
       "      <td>1</td>\n",
       "      <td>6.26</td>\n",
       "    </tr>\n",
       "    <tr>\n",
       "      <th>662</th>\n",
       "      <td>1</td>\n",
       "      <td>10.22</td>\n",
       "    </tr>\n",
       "  </tbody>\n",
       "</table>\n",
       "</div>"
      ],
      "text/plain": [
       "     default  estimated PD in %\n",
       "32         1               8.43\n",
       "43         1              14.95\n",
       "69         1              10.63\n",
       "104        1              15.55\n",
       "114        1              10.25\n",
       "120        1               6.95\n",
       "128        1              12.04\n",
       "139        1              19.46\n",
       "150        1              17.02\n",
       "198        1              18.27\n",
       "212        1              19.63\n",
       "218        1               8.38\n",
       "226        1               7.89\n",
       "236        1              14.96\n",
       "250        1               7.44\n",
       "251        1               7.36\n",
       "296        1               9.23\n",
       "305        1              11.38\n",
       "313        1              13.30\n",
       "341        1              12.43\n",
       "346        1               5.52\n",
       "375        1              20.49\n",
       "389        1              15.40\n",
       "406        1              11.60\n",
       "419        1              17.75\n",
       "427        1              12.80\n",
       "477        1               7.39\n",
       "479        1              13.19\n",
       "495        1               9.87\n",
       "521        1              11.63\n",
       "522        1               0.01\n",
       "543        1               2.54\n",
       "564        1               8.59\n",
       "566        1              13.93\n",
       "568        1               8.96\n",
       "636        1               6.67\n",
       "649        1               6.26\n",
       "662        1              10.22"
      ]
     },
     "execution_count": 36,
     "metadata": {},
     "output_type": "execute_result"
    }
   ],
   "source": [
    "s[s[\"default\"] == 1]"
   ]
  },
  {
   "cell_type": "code",
   "execution_count": 37,
   "metadata": {
    "ExecuteTime": {
     "end_time": "2021-01-06T13:21:52.513175Z",
     "start_time": "2021-01-06T13:21:52.452139Z"
    }
   },
   "outputs": [
    {
     "name": "stdout",
     "output_type": "stream",
     "text": [
      "Optimization terminated successfully.\n",
      "         Current function value: 0.187331\n",
      "         Iterations 9\n",
      "Mean Absolute Error: 0.1 .\n"
     ]
    }
   ],
   "source": [
    "# Splitting data into training and testing sets.\n",
    "train_features, test_features, train_labels, test_labels = train_test_split(X, y, test_size = 0.2, random_state = 42, stratify = y)\n",
    " \n",
    "# The splited Logit Model\n",
    "mdl2split = sm.Logit(train_labels,train_features).fit()\n",
    "mdl2split.summary2()\n",
    "\n",
    "# Predict the test data\n",
    "predictions_split = mdl2split.predict(test_features)\n",
    "# Predict the training data\n",
    "predictions_split_train = mdl2split.predict(train_features)\n",
    "\n",
    "# Calculate the absolute errors\n",
    "errors = abs(predictions_split - test_labels)\n",
    "# Print out the mean absolute error (mae)\n",
    "print('Mean Absolute Error:', round(np.mean(errors), 2), '.')"
   ]
  },
  {
   "cell_type": "code",
   "execution_count": 38,
   "metadata": {
    "ExecuteTime": {
     "end_time": "2021-01-06T13:22:00.694239Z",
     "start_time": "2021-01-06T13:22:00.080625Z"
    }
   },
   "outputs": [
    {
     "name": "stdout",
     "output_type": "stream",
     "text": [
      "Out sample: \n",
      "AUC (LY):   0.7331349206349207\n",
      "GINI (LY):  0.4662698412698414\n"
     ]
    },
    {
     "data": {
      "image/png": "[encoded data removed]",
      "text/plain": [
       "<Figure size 1080x360 with 1 Axes>"
      ]
     },
     "metadata": {
      "needs_background": "light"
     },
     "output_type": "display_data"
    }
   ],
   "source": [
    "#AUC & Gini Graph + Calculations of splitted logit\n",
    "\n",
    "fpr_split, tpr_split, thresholds_split = metrics.roc_curve(test_labels, predictions_split)\n",
    "auc_split = metrics.auc(fpr_split, tpr_split) \n",
    "\n",
    "#Predict the in sample (train) data for comparision\n",
    "fpr_split_train, tpr_split_train, thresholds_split_train = metrics.roc_curve(train_labels, predictions_split_train)\n",
    "auc_split_train = metrics.auc(fpr_split_train, tpr_split_train)\n",
    "\n",
    "fig, axes = plt.subplots(figsize=(15,5))\n",
    "lw = 2\n",
    "axes = plt.plot(fpr_split, tpr_split, color='darkred',\n",
    "         lw=lw, label='ROC curve test (area = %0.2f)' % auc_split)\n",
    "axes = plt.plot(fpr_split_train, tpr_split_train, color='darkgreen',\n",
    "         lw=lw, label='ROC curve train (area = %0.2f)' % auc_split_train)\n",
    "axes = plt.plot([0, 1], [0, 1], color='lightblue', lw=lw, linestyle='--')\n",
    "plt.xlim([0.0, 1.0])\n",
    "plt.ylim([0.0, 1.05])\n",
    "plt.xlabel('False Positive Rate')\n",
    "plt.ylabel('True Positive Rate')\n",
    "plt.title('Receiver operating characteristic example Logistic')\n",
    "plt.legend(loc=\"lower right\")\n",
    "\n",
    "print(\"Out sample: \")\n",
    "print('AUC (LY):  ',auc_split)\n",
    "print('GINI (LY): ', 2*auc_split -1)"
   ]
  },
  {
   "cell_type": "code",
   "execution_count": 39,
   "metadata": {
    "ExecuteTime": {
     "end_time": "2021-01-06T13:22:14.215887Z",
     "start_time": "2021-01-06T13:22:13.860665Z"
    }
   },
   "outputs": [
    {
     "name": "stdout",
     "output_type": "stream",
     "text": [
      "In sample: \n",
      "AUC L1:   0.806265664160401\n",
      "GINI L1:  0.612531328320802\n",
      "AUC L2:   0.806265664160401\n",
      "GINI L2:  0.612531328320802\n",
      "Splitted Logit Regression\n",
      "Out sample: \n",
      "AUC Test Sample:   0.7331349206349207\n",
      "GINI Test Sample:  0.4662698412698414\n"
     ]
    },
    {
     "data": {
      "image/png": "[encoded data removed]",
      "text/plain": [
       "<Figure size 1080x360 with 1 Axes>"
      ]
     },
     "metadata": {
      "needs_background": "light"
     },
     "output_type": "display_data"
    }
   ],
   "source": [
    "#AUC & Gini Graph + Calculations of old logit regression (red) splitted logit regression (green)\n",
    "predictions_L1 = mdl1.predict(X)\n",
    "predictions_L2 = mdl2.predict(X)\n",
    "#AUC & Gini Graph + Calculations\n",
    "fpr_L1, tpr_L1, thresholds_L1 = metrics.roc_curve(df_train['default'], predictions_L1)\n",
    "auc_L1 = metrics.auc(fpr_L1, tpr_L1)\n",
    "\n",
    "fpr_L2, tpr_L2, thresholds_L2 = metrics.roc_curve(df_train['default'], predictions_L2)\n",
    "auc_L2 = metrics.auc(fpr_L2, tpr_L2)\n",
    "\n",
    "fig, axes = plt.subplots(figsize=(15,5))\n",
    "lw = 2\n",
    "axes = plt.plot(fpr_L1, tpr_L1, color='darkred',\n",
    "         lw=lw, label='ROC curve L1(area = %0.2f)' % auc_L1)\n",
    "axes = plt.plot(fpr_L2, tpr_L2, color='darkred',\n",
    "         lw=lw, label='ROC curve L2(area = %0.2f)' % auc_L2)\n",
    "axes = plt.plot(fpr_split, tpr_split, color='green',\n",
    "         lw=lw, label='ROC curve split (area = %0.2f)' % auc_split)\n",
    "axes = plt.plot([0, 1], [0, 1], color='lightblue', lw=lw, linestyle='--')\n",
    "plt.xlim([0.0, 1.0])\n",
    "plt.ylim([0.0, 1.05])\n",
    "plt.xlabel('False Positive Rate')\n",
    "plt.ylabel('True Positive Rate')\n",
    "plt.title('Receiver operating characteristic example Logistic')\n",
    "plt.legend(loc=\"lower right\")\n",
    "\n",
    "print(\"In sample: \")\n",
    "print('AUC L1:  ',auc_L1)\n",
    "print('GINI L1: ', 2*auc_L1 -1)\n",
    "print('AUC L2:  ',auc_L2)\n",
    "print('GINI L2: ', 2*auc_L2 -1)\n",
    "print('Splitted Logit Regression')\n",
    "print(\"Out sample: \")\n",
    "print('AUC Test Sample:  ',auc_split)\n",
    "print('GINI Test Sample: ', 2*auc_split -1)"
   ]
  },
  {
   "cell_type": "markdown",
   "metadata": {
    "ExecuteTime": {
     "end_time": "2021-01-06T11:44:44.648471Z",
     "start_time": "2021-01-06T11:44:44.593964Z"
    }
   },
   "source": [
    "Our out of sample Gini here highly depends on the random_state we define in out test and train split. Thus multiple different random states are here simulated. Also the test size here is increased to 0.33 as this will be similiar to the sizes of our train (668 firms) and test (330) firms."
   ]
  },
  {
   "cell_type": "code",
   "execution_count": null,
   "metadata": {
    "ExecuteTime": {
     "end_time": "2021-01-06T13:26:57.818746Z",
     "start_time": "2021-01-06T13:22:28.160516Z"
    },
    "scrolled": false,
    "tags": [
     "outputPrepend"
    ]
   },
   "outputs": [],
   "source": [
    "# Generate random numbers for different states\n",
    "#np.random.seed(220497)\n",
    "random_numbers = np.random.randint(0,1000000,10000)\n",
    "dictionary_random_test = dict()\n",
    "\n",
    "for i in random_numbers:\n",
    "    try:\n",
    "        # Splitting data into training and testing sets.\n",
    "        train_features, test_features, train_labels, test_labels = train_test_split(X, \n",
    "                                                                                y, test_size = 0.33, \n",
    "                                                                                random_state = i, \n",
    "                                                                                stratify = y)\n",
    "        # The splited Logit Model\n",
    "        mdl2split = sm.Logit(train_labels,train_features).fit()\n",
    "        mdl2split.summary2()\n",
    "\n",
    "        # Predict the test data\n",
    "        predictions_split = mdl2split.predict(test_features)\n",
    "        # Predict the training data\n",
    "        predictions_split_train = mdl2split.predict(train_features)\n",
    "        # Calculate the absolute errors\n",
    "        errors = abs(predictions_split - test_labels)\n",
    "    \n",
    "        #AUC & Gini Graph + Calculations of splitted logit\n",
    "\n",
    "        fpr_split, tpr_split, thresholds_split = metrics.roc_curve(test_labels, predictions_split)\n",
    "        auc_split = metrics.auc(fpr_split, tpr_split) \n",
    "\n",
    "        # Predict the in sample (train) data for comparision\n",
    "        fpr_split_train, tpr_split_train, thresholds_split_train = metrics.roc_curve(train_labels, predictions_split_train)\n",
    "        auc_split_train = metrics.auc(fpr_split_train, tpr_split_train)\n",
    "    \n",
    "        #Store values in dictionary\n",
    "        dictionary_random_test[i] = round(np.mean(errors), 2),auc_split,2*auc_split-1, auc_split_train, 2*auc_split_train-1\n",
    "        \n",
    "    except:\n",
    "        continue\n",
    "\n",
    "dictionary_random_test = pd.DataFrame.from_dict(dictionary_random_test,orient=\"index\",\n",
    "                       columns=['MSE','AUC out sample','Gini out of sample',\"AUC in sample\",\"Gini in sample\"])\n",
    "\n",
    ";"
   ]
  },
  {
   "cell_type": "code",
   "execution_count": null,
   "metadata": {
    "ExecuteTime": {
     "end_time": "2021-01-06T13:41:17.351136Z",
     "start_time": "2021-01-06T13:41:17.322097Z"
    }
   },
   "outputs": [],
   "source": [
    "dictionary_random_test.head()"
   ]
  },
  {
   "cell_type": "code",
   "execution_count": null,
   "metadata": {
    "ExecuteTime": {
     "end_time": "2021-01-06T13:27:15.885278Z",
     "start_time": "2021-01-06T13:27:15.838793Z"
    }
   },
   "outputs": [],
   "source": [
    "dictionary_random_test.describe()"
   ]
  },
  {
   "cell_type": "code",
   "execution_count": null,
   "metadata": {
    "ExecuteTime": {
     "end_time": "2021-01-06T13:27:20.334148Z",
     "start_time": "2021-01-06T13:27:19.918683Z"
    }
   },
   "outputs": [],
   "source": [
    "sns.displot(dictionary_random_test[\"Gini out of sample\"])\n",
    "plt.title(\"Distribution of Ginis out of sample\");"
   ]
  },
  {
   "cell_type": "code",
   "execution_count": null,
   "metadata": {
    "ExecuteTime": {
     "end_time": "2021-01-06T13:27:23.878867Z",
     "start_time": "2021-01-06T13:27:23.462733Z"
    }
   },
   "outputs": [],
   "source": [
    "sns.displot(dictionary_random_test[\"Gini in sample\"])\n",
    "plt.title(\"Distribution of Ginis in sample\");"
   ]
  },
  {
   "cell_type": "markdown",
   "metadata": {},
   "source": [
    "# Random Forest Approach"
   ]
  },
  {
   "cell_type": "code",
   "execution_count": null,
   "metadata": {
    "ExecuteTime": {
     "end_time": "2021-01-06T13:27:38.672921Z",
     "start_time": "2021-01-06T13:27:30.516901Z"
    }
   },
   "outputs": [],
   "source": [
    "# Import the model we are using\n",
    "from sklearn.ensemble import RandomForestRegressor\n",
    "from sklearn.ensemble import RandomForestClassifier\n",
    "\n",
    "\n",
    "# Splitting data into training and testing sets.\n",
    "train_features, test_features, train_labels, test_labels = train_test_split(X, y, test_size = 0.1, random_state = 42, stratify = y)\n",
    "\n",
    "\n",
    "\n",
    "# Instantiate model with 1000 decision trees\n",
    "rf = RandomForestClassifier(n_estimators = 2000, \n",
    "                            criterion='gini',\n",
    "                            max_depth=None,\n",
    "                            min_samples_split = 5,\n",
    "                            min_samples_leaf = 3,\n",
    "                            max_features='auto',\n",
    "                            bootstrap=True,\n",
    "                            oob_score=True,\n",
    "                            random_state = 0,\n",
    "                            verbose=0,\n",
    "                            n_jobs= 2 ,\n",
    "                            class_weight = 'balanced_subsample')\n",
    "\n",
    "\n",
    "# Train the model on training data\n",
    "rf.fit(train_features, train_labels)\n",
    "rf.score(train_features, train_labels)"
   ]
  },
  {
   "cell_type": "code",
   "execution_count": null,
   "metadata": {
    "ExecuteTime": {
     "end_time": "2021-01-06T13:27:43.498156Z",
     "start_time": "2021-01-06T13:27:40.659121Z"
    }
   },
   "outputs": [],
   "source": [
    "# Use the forest's predict method on the test data\n",
    "predictions_rf = rf.predict(test_features)\n",
    "predictions_rf_insample = rf.predict(train_features)\n",
    "\n",
    "predictions_prob = rf.predict_proba(test_features)[:, 1]\n",
    "predictions_prob_rf_insample = rf.predict_proba(train_features)[:,1]\n",
    "# Calculate the absolute errors\n",
    "errors = abs(predictions_rf - test_labels)\n",
    "\n",
    "\n",
    "# Print out the mean absolute error (mae)\n",
    "print('Mean Absolute Error:', round(np.mean(errors), 2), '.')"
   ]
  },
  {
   "cell_type": "code",
   "execution_count": null,
   "metadata": {
    "ExecuteTime": {
     "end_time": "2021-01-06T13:27:46.811168Z",
     "start_time": "2021-01-06T13:27:45.969119Z"
    }
   },
   "outputs": [],
   "source": [
    "predicitons_rf_prob = rf.predict_proba(test_features)[:, 1]\n",
    "\n",
    "fpr, tpr, thresholds = metrics.roc_curve(test_labels, predicitons_rf_prob)\n",
    "auc = metrics.auc(fpr, tpr)\n",
    "\n",
    "#In Sample measurements\n",
    "fpr_rf_is, tpr_rf_is, thresholds_rf_is = metrics.roc_curve(train_labels, predictions_prob_rf_insample)\n",
    "auc_rf_is = metrics.auc(fpr_rf_is, tpr_rf_is)\n",
    "\n",
    "fig, axes = plt.subplots(figsize=(15,5))\n",
    "lw = 2\n",
    "axes = plt.plot(fpr, tpr, color='darkred',\n",
    "         lw=lw, label='ROC curve (area = %0.2f)' % auc)\n",
    "axes = plt.plot(fpr_rf_is, tpr_rf_is, color='yellow',\n",
    "         lw=lw, label='ROC curve (area = %0.2f)' % auc_rf_is)        \n",
    "axes = plt.plot([0, 1], [0, 1], color='lightblue', lw=lw, linestyle='--')\n",
    "plt.xlim([0.0, 1.0])\n",
    "plt.ylim([0.0, 1.05])\n",
    "plt.xlabel('False Positive Rate')\n",
    "plt.ylabel('True Positive Rate')\n",
    "plt.title('Receiver operating characteristic example')\n",
    "plt.legend(loc=\"lower right\")\n",
    "plt.show()\n",
    "\n",
    "print(\"Random Forest Approach\")\n",
    "print(\"In sample:\")\n",
    "print('AUC :  ',auc_rf_is)\n",
    "print('GINI: ', 2*auc_rf_is -1)\n",
    "print(\"Out sample: \")\n",
    "print('AUC :  ',auc)\n",
    "print('GINI: ', 2*auc -1)"
   ]
  },
  {
   "cell_type": "code",
   "execution_count": null,
   "metadata": {
    "ExecuteTime": {
     "end_time": "2021-01-06T13:28:02.987908Z",
     "start_time": "2021-01-06T13:27:55.715809Z"
    }
   },
   "outputs": [],
   "source": [
    "weights =np.array([18 if i == 1 else 0.9 for i in train_labels])\n",
    "# Train the model on training data\n",
    "rf.fit(train_features, train_labels, sample_weight = weights)"
   ]
  },
  {
   "cell_type": "markdown",
   "metadata": {},
   "source": [
    "# Coming to the Test Sample"
   ]
  },
  {
   "cell_type": "code",
   "execution_count": null,
   "metadata": {
    "ExecuteTime": {
     "end_time": "2021-01-06T13:28:07.405259Z",
     "start_time": "2021-01-06T13:28:07.348173Z"
    }
   },
   "outputs": [],
   "source": [
    "df_test"
   ]
  },
  {
   "cell_type": "code",
   "execution_count": null,
   "metadata": {
    "ExecuteTime": {
     "end_time": "2021-01-06T13:28:38.533887Z",
     "start_time": "2021-01-06T13:28:38.523672Z"
    }
   },
   "outputs": [],
   "source": [
    "X = df_test[['cash_coverage', 'profit_margin', 'equity_ratio', 'wc_ratio', 'roa', 'ocf_ratio']]\n",
    "#X = sm.add_constant(X) #weiß nicht ob man das mochen soll/ bei den PDs ändert sich nichts\n",
    "\n",
    "X.loc['C_712','ocf_ratio'] = 0\n",
    "X.loc['C_712']"
   ]
  },
  {
   "cell_type": "code",
   "execution_count": null,
   "metadata": {
    "ExecuteTime": {
     "end_time": "2021-01-06T13:29:37.677084Z",
     "start_time": "2021-01-06T13:29:37.651216Z"
    }
   },
   "outputs": [],
   "source": [
    "prediction = pd.DataFrame(mdl1.predict(X))\n",
    "x = round(prediction*100,2)"
   ]
  },
  {
   "cell_type": "code",
   "execution_count": null,
   "metadata": {
    "ExecuteTime": {
     "end_time": "2021-01-06T13:29:57.864050Z",
     "start_time": "2021-01-06T13:29:57.837428Z"
    }
   },
   "outputs": [],
   "source": [
    "x.describe()"
   ]
  },
  {
   "cell_type": "code",
   "execution_count": null,
   "metadata": {
    "ExecuteTime": {
     "end_time": "2021-01-06T13:30:30.582750Z",
     "start_time": "2021-01-06T13:30:30.566687Z"
    }
   },
   "outputs": [],
   "source": [
    "x.sort_values(by=0,ascending=False)"
   ]
  },
  {
   "cell_type": "code",
   "execution_count": null,
   "metadata": {
    "ExecuteTime": {
     "end_time": "2021-01-06T13:31:15.098856Z",
     "start_time": "2021-01-06T13:31:15.086003Z"
    }
   },
   "outputs": [],
   "source": [
    "df_test.loc[\"C_712\"] #der geht nicht"
   ]
  },
  {
   "cell_type": "markdown",
   "metadata": {},
   "source": [
    "## Random Forest Export"
   ]
  },
  {
   "cell_type": "code",
   "execution_count": null,
   "metadata": {},
   "outputs": [],
   "source": [
    "X = sm.add_constant(X) #weiß nicht ob man das mochen soll/ bei den PDs ändert sich nichts\n",
    "X_rf = X.copy()\n",
    "i_ndex = X.index\n",
    "#X_rf = X.reset_index()\n",
    "#X_rf = X_rf.set_index('id')\n",
    "#X_rf = X_rf.drop('id', axis=1)\n",
    "X_rf.replace([np.inf, -np.inf], np.nan, inplace=True)\n",
    "#X_rf = np.array(X_rf)"
   ]
  },
  {
   "cell_type": "code",
   "execution_count": null,
   "metadata": {},
   "outputs": [],
   "source": [
    "X_rf.replace(np.nan, 0, inplace=True)\n",
    "#np.where(np.isnan(X_rf))"
   ]
  },
  {
   "cell_type": "code",
   "execution_count": null,
   "metadata": {},
   "outputs": [],
   "source": [
    "y_RF = pd.DataFrame(rf.predict(X_rf),columns={'Default'},index=i_ndex)\n",
    "y_RF_prob = pd.DataFrame(rf.predict_proba(X_rf),index=i_ndex)\n",
    "y_RF_prob = round(y_RF_prob*100,2)\n",
    "\n",
    "y_RF_prob.sort_values(by=1, ascending=False)"
   ]
  },
  {
   "cell_type": "code",
   "execution_count": null,
   "metadata": {},
   "outputs": [],
   "source": [
    "y_RF.sort_values(by='Default',ascending=False)"
   ]
  },
  {
   "cell_type": "code",
   "execution_count": null,
   "metadata": {},
   "outputs": [],
   "source": [
    "train_RF = pd.concat([y_RF, y_RF_prob], axis=1)\n",
    "train_RF"
   ]
  },
  {
   "cell_type": "markdown",
   "metadata": {},
   "source": [
    " # Export\n",
    " the Data as a CSV file for the Upload\n",
    "  "
   ]
  },
  {
   "cell_type": "code",
   "execution_count": null,
   "metadata": {},
   "outputs": [],
   "source": [
    "train_RF.to_csv(\"trained_RF-Approach.csv\")"
   ]
  },
  {
   "cell_type": "code",
   "execution_count": null,
   "metadata": {},
   "outputs": [],
   "source": [
    " x.to_csv(\"trained_Logit-Approach.csv\")"
   ]
  },
  {
   "cell_type": "code",
   "execution_count": null,
   "metadata": {},
   "outputs": [],
   "source": []
  }
 ],
 "metadata": {
  "hide_input": false,
  "kernelspec": {
   "display_name": "Python 3",
   "language": "python",
   "name": "python3"
  },
  "language_info": {
   "codemirror_mode": {
    "name": "ipython",
    "version": 3
   },
   "file_extension": ".py",
   "mimetype": "text/x-python",
   "name": "python",
   "nbconvert_exporter": "python",
   "pygments_lexer": "ipython3",
   "version": "3.8.3"
  },
  "latex_envs": {
   "LaTeX_envs_menu_present": true,
   "autoclose": false,
   "autocomplete": true,
   "bibliofile": "biblio.bib",
   "cite_by": "apalike",
   "current_citInitial": 1,
   "eqLabelWithNumbers": true,
   "eqNumInitial": 1,
   "hotkeys": {
    "equation": "Ctrl-E",
    "itemize": "Ctrl-I"
   },
   "labels_anchors": false,
   "latex_user_defs": false,
   "report_style_numbering": false,
   "user_envs_cfg": false
  },
  "toc": {
   "base_numbering": 1,
   "nav_menu": {
    "height": "259px",
    "width": "211px"
   },
   "number_sections": true,
   "sideBar": true,
   "skip_h1_title": false,
   "title_cell": "Table of Contents",
   "title_sidebar": "Contents",
   "toc_cell": false,
   "toc_position": {
    "height": "calc(100% - 180px)",
    "left": "10px",
    "top": "150px",
    "width": "384px"
   },
   "toc_section_display": true,
   "toc_window_display": true
  },
  "varInspector": {
   "cols": {
    "lenName": 16,
    "lenType": 16,
    "lenVar": 40
   },
   "kernels_config": {
    "python": {
     "delete_cmd_postfix": "",
     "delete_cmd_prefix": "del ",
     "library": "var_list.py",
     "varRefreshCmd": "print(var_dic_list())"
    },
    "r": {
     "delete_cmd_postfix": ") ",
     "delete_cmd_prefix": "rm(",
     "library": "var_list.r",
     "varRefreshCmd": "cat(var_dic_list()) "
    }
   },
   "position": {
    "height": "289.85px",
    "left": "1607px",
    "right": "20px",
    "top": "113px",
    "width": "338px"
   },
   "types_to_exclude": [
    "module",
    "function",
    "builtin_function_or_method",
    "instance",
    "_Feature"
   ],
   "window_display": true
  }
 },
 "nbformat": 4,
 "nbformat_minor": 2
}
